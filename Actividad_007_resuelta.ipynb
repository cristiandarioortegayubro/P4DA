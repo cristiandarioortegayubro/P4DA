{
  "cells": [
    {
      "cell_type": "markdown",
      "metadata": {
        "id": "view-in-github",
        "colab_type": "text"
      },
      "source": [
        "<a href=\"https://colab.research.google.com/github/cristiandarioortegayubro/P4DA/blob/main/Actividad_007_resuelta.ipynb\" target=\"_parent\"><img src=\"https://colab.research.google.com/assets/colab-badge.svg\" alt=\"Open In Colab\"/></a>"
      ]
    },
    {
      "cell_type": "markdown",
      "source": [
        "![](https://github.com/cristiandarioortegayubro/P4DA/blob/main/Logo.png?raw=true)"
      ],
      "metadata": {
        "id": "mqstEpvFZIfh"
      },
      "id": "mqstEpvFZIfh"
    },
    {
      "cell_type": "markdown",
      "source": [
        "![logo](https://www.python.org/static/community_logos/python-powered-h-70x91.png)"
      ],
      "metadata": {
        "id": "mogSPUfQhyTK"
      },
      "id": "mogSPUfQhyTK"
    },
    {
      "cell_type": "markdown",
      "source": [
        "# ☯ <font color=\"RoyalBlue\">**Actividad 007**</font>"
      ],
      "metadata": {
        "id": "G6F-bbUnZov7"
      },
      "id": "G6F-bbUnZov7"
    },
    {
      "cell_type": "markdown",
      "source": [
        "- http://blog.properati.com.ar/properati-tools/\n",
        "- https://www.properati.com.ar/data"
      ],
      "metadata": {
        "id": "PAxBnjV1aJlK"
      },
      "id": "PAxBnjV1aJlK"
    },
    {
      "cell_type": "markdown",
      "source": [
        "![](https://blog.properati.com.ar/wp-content/uploads/2023/01/barrio-norte-buenos-aires-1128x484.jpg)"
      ],
      "metadata": {
        "id": "H2Zq_77_s72E"
      },
      "id": "H2Zq_77_s72E"
    },
    {
      "cell_type": "markdown",
      "id": "c6549ba7-e07b-4ace-bd81-e8f81e9d6bcd",
      "metadata": {
        "id": "c6549ba7-e07b-4ace-bd81-e8f81e9d6bcd"
      },
      "source": [
        "# <font color=\"RoyalBlue\">**Limpiar y graficar...**"
      ]
    },
    {
      "cell_type": "markdown",
      "source": [
        "Nos encontramos iniciando un nuevo proyecto, nuestra empresa es una pequeña inmobiliaria que quiere fusionar el potencial del manejo de datos con la venta/alquiler de propiedades. Al ser una pequeña empresa el ***departamento de datos*** esta compuesto por una persona: nosotros. \n",
        "\n",
        "Esto quiere decir que vamos a absorber los roles de:\n",
        "\n",
        "- Ingeniero de Datos, y \n",
        "- Analista de Datos.\n"
      ],
      "metadata": {
        "id": "Mi4H1Ydsy9gh"
      },
      "id": "Mi4H1Ydsy9gh"
    },
    {
      "cell_type": "markdown",
      "id": "9c77b7d0-bea3-4772-a168-60349409b1a3",
      "metadata": {
        "id": "9c77b7d0-bea3-4772-a168-60349409b1a3"
      },
      "source": [
        "## <font color=\"RoyalBlue\">**Ingesta de datos de propiedades**"
      ]
    },
    {
      "cell_type": "markdown",
      "id": "614cb164",
      "metadata": {
        "id": "614cb164"
      },
      "source": [
        "***El dataset central de este proyecto de propiedades de Argentina, tiene la siguientes columnas:***\n",
        "\n",
        "- **id** - Identificador del aviso. No es único: si el aviso es actualizado por la inmobiliaria (nueva versión del aviso) se crea un nuevo registro con la misma id pero distintas fechas: de alta y de baja.\n",
        "- **ad_type** - Tipo de aviso (Propiedad, Desarrollo/Proyecto).\n",
        "- **start_date** - Fecha de alta del aviso.\n",
        "- **end_date** - Fecha de baja del aviso.\n",
        "- **created_on** - Fecha de alta de la primera versión del aviso.\n",
        "- **lat** - Latitud.\n",
        "- **lon** - Longitud.\n",
        "- **l1** - Nivel administrativo 1: país.\n",
        "- **l2** - Nivel administrativo 2: usualmente provincia.\n",
        "- **l3** - Nivel administrativo 3: usualmente ciudad.\n",
        "- **l4** - Nivel administrativo 4: usualmente barrio.\n",
        "- **l5** - sin informacion\n",
        "- **l6** - sin informacion\n",
        "- **rooms** - Cantidad de ambientes\n",
        "- **bedrooms** - Cantidad de dormitorios\n",
        "- **bathrooms** - Cantidad de baños.\n",
        "- **surface_total** - Superficie total en m².\n",
        "- **surface_covered** - Superficie cubierta en m².\n",
        "- **price** - Precio publicado en el anuncio.\n",
        "- **currency** - Moneda del precio publicado.\n",
        "- **price_period** - Periodo del precio (Diario, Semanal, Mensual)\n",
        "- **title** - Título del anuncio.\n",
        "- **description** - Descripción del anuncio.\n",
        "- **property_type**: - Caracteristicas de la propiedad\n",
        "- **operation_type**: - Caracteristicas de la operacion ['Venta', 'Alquiler', 'Alquiler temporal']"
      ]
    },
    {
      "cell_type": "markdown",
      "source": [
        "## <font color=\"RoyalBlue\">**Habilitando bibliotecas**"
      ],
      "metadata": {
        "id": "akkMOa8Lz0TL"
      },
      "id": "akkMOa8Lz0TL"
    },
    {
      "cell_type": "markdown",
      "source": [
        "***Habilitar las bibliotecas necesarias para generar un dataframe, hacer limpieza de datos, y generar gráficos.***"
      ],
      "metadata": {
        "id": "BDHNiX8d0CSm"
      },
      "id": "BDHNiX8d0CSm"
    },
    {
      "cell_type": "markdown",
      "source": [
        "### Para analisis de datos"
      ],
      "metadata": {
        "id": "KHhKEDMu2KUK"
      },
      "id": "KHhKEDMu2KUK"
    },
    {
      "cell_type": "code",
      "source": [
        "import numpy as np\n",
        "import pandas as pd"
      ],
      "metadata": {
        "id": "8YyzmxiMz8Nx"
      },
      "id": "8YyzmxiMz8Nx",
      "execution_count": 3,
      "outputs": []
    },
    {
      "cell_type": "markdown",
      "source": [
        "### Para gráficos"
      ],
      "metadata": {
        "id": "pEZgoAZb2RVp"
      },
      "id": "pEZgoAZb2RVp"
    },
    {
      "cell_type": "code",
      "source": [
        "import plotly.express as px"
      ],
      "metadata": {
        "id": "v7UBjDaV0OQY"
      },
      "id": "v7UBjDaV0OQY",
      "execution_count": 2,
      "outputs": []
    },
    {
      "cell_type": "markdown",
      "id": "d546b882-c289-4cae-99cb-2ea5e3072f71",
      "metadata": {
        "id": "d546b882-c289-4cae-99cb-2ea5e3072f71"
      },
      "source": [
        "## <font color=\"RoyalBlue\">**Obtención de los datos...**"
      ]
    },
    {
      "cell_type": "code",
      "source": [
        "from google.colab import drive\n",
        "drive.mount('/content/drive')"
      ],
      "metadata": {
        "colab": {
          "base_uri": "https://localhost:8080/"
        },
        "id": "Ez3FblDTjZlq",
        "outputId": "348a331a-55a7-435d-c997-11897a8ee451"
      },
      "id": "Ez3FblDTjZlq",
      "execution_count": 17,
      "outputs": [
        {
          "output_type": "stream",
          "name": "stdout",
          "text": [
            "Mounted at /content/drive\n"
          ]
        }
      ]
    },
    {
      "cell_type": "markdown",
      "id": "87508501",
      "metadata": {
        "id": "87508501"
      },
      "source": [
        "***Leer el archivo  ```.csv``` con Pandas y guardarlo en una variable llamada ```prop```***"
      ]
    },
    {
      "cell_type": "code",
      "source": [
        "prop = pd.read_csv('ubicacion del archivo.csv.gz en google drive', \n",
        "                   compression='gzip', \n",
        "                   header=0, \n",
        "                   sep=',', \n",
        "                   quotechar='\"')"
      ],
      "metadata": {
        "id": "QuXzmGm6f8oO"
      },
      "id": "QuXzmGm6f8oO",
      "execution_count": 19,
      "outputs": []
    },
    {
      "cell_type": "markdown",
      "id": "a2e59c4f",
      "metadata": {
        "id": "a2e59c4f"
      },
      "source": [
        "***Observar los primeros 8 registros***"
      ]
    },
    {
      "cell_type": "code",
      "execution_count": 20,
      "id": "25b04fa1",
      "metadata": {
        "id": "25b04fa1",
        "colab": {
          "base_uri": "https://localhost:8080/",
          "height": 671
        },
        "outputId": "018baae1-8321-463f-e49a-6784adbf0867"
      },
      "outputs": [
        {
          "output_type": "execute_result",
          "data": {
            "text/plain": [
              "                         id    ad_type  start_date    end_date  created_on  \\\n",
              "0  DyVXfkpKygVBKuUk5olH+A==  Propiedad  2020-08-22  2020-09-03  2020-08-22   \n",
              "1  9naojilaMecJN4jlQiTkGg==  Propiedad  2020-08-22  2020-09-04  2020-08-22   \n",
              "2  tlCPRJPjoDEUzuuCelemAQ==  Propiedad  2020-08-22  2020-08-31  2020-08-22   \n",
              "3  Zw3b91glQUO3HNrM5fPYlQ==  Propiedad  2020-08-22  2020-09-04  2020-08-22   \n",
              "4  bsU81gm9JEgtZCbTYgvykg==  Propiedad  2020-08-22  2020-09-04  2020-08-22   \n",
              "5  3Cips/GEPuJqktYycSALCQ==  Propiedad  2020-08-22  2020-09-04  2020-08-22   \n",
              "6  6TO5dWwmivuJ67zkztUzCA==  Propiedad  2020-08-22  2020-09-04  2020-08-22   \n",
              "7  VlE71iojfIFoH4piJfFQ/g==  Propiedad  2020-08-22  2020-09-04  2020-08-22   \n",
              "\n",
              "         lat        lon         l1                            l2  \\\n",
              "0 -34.407468 -58.957367  Argentina      Bs.As. G.B.A. Zona Norte   \n",
              "1 -37.996039 -57.542509  Argentina  Buenos Aires Costa Atlántica   \n",
              "2 -31.380187 -58.009182  Argentina                    Entre Ríos   \n",
              "3 -27.494106 -55.123455  Argentina                      Misiones   \n",
              "4 -32.948856 -60.630464  Argentina                      Santa Fe   \n",
              "5 -32.884278 -60.710901  Argentina                      Santa Fe   \n",
              "6 -34.604195 -58.559827  Argentina      Bs.As. G.B.A. Zona Oeste   \n",
              "7 -32.948834 -60.630169  Argentina                      Santa Fe   \n",
              "\n",
              "                l3  ... bathrooms surface_total  surface_covered  price  \\\n",
              "0            Pilar  ...       NaN      133139.0              NaN    NaN   \n",
              "1    Mar del Plata  ...       NaN         687.0            687.0    NaN   \n",
              "2        Concordia  ...       1.0          80.0             80.0    NaN   \n",
              "3            Oberá  ...       1.0           NaN              NaN    NaN   \n",
              "4          Rosario  ...       1.0          76.0             66.0    NaN   \n",
              "5          Rosario  ...       1.0          39.0             33.0    NaN   \n",
              "6  Tres de Febrero  ...       1.0           NaN             42.0    NaN   \n",
              "7          Rosario  ...       2.0         130.0            108.0    NaN   \n",
              "\n",
              "   currency  price_period                                              title  \\\n",
              "0       NaN       Mensual  VENTA - Lote Industrial 130.000m2 - Parque Ind...   \n",
              "1       NaN       Mensual                               Casa - Santa Cecilia   \n",
              "2       NaN       Mensual                                   Casa - Concordia   \n",
              "3       NaN       Mensual                                    Terreno - Obera   \n",
              "4       NaN       Mensual                             Departamento - Rosario   \n",
              "5       NaN       Mensual                               9 DE JULIO 535 06 01   \n",
              "6       NaN       Mensual                             Departamento - Caseros   \n",
              "7       NaN       Mensual                             Departamento - Rosario   \n",
              "\n",
              "                                         description  property_type  \\\n",
              "0  Lote (Nro.50) mide 133.139 m2\\n<br>Valor: U$S ...           Lote   \n",
              "1  Conjunto edilicio de casa y departamentos en b...           Otro   \n",
              "2  Casa de un dormitorio, cocina, baño, living co...           Casa   \n",
              "3  IMPORTANTE PROPIEDAD EN VENTA EN OBERA MISIONE...           Lote   \n",
              "4  PORTAL DE LOS MARINOS<br>Es un complejo de viv...   Departamento   \n",
              "5  CARACTERÍSTICAS<br>Ingreso living comedor con ...   Departamento   \n",
              "6  Departamento 2 ambientes con Lavadero en Nicar...   Departamento   \n",
              "7  PORTAL DE LOS MARINOS<br>Es un complejo de viv...   Departamento   \n",
              "\n",
              "  operation_type  \n",
              "0          Venta  \n",
              "1          Venta  \n",
              "2       Alquiler  \n",
              "3          Venta  \n",
              "4          Venta  \n",
              "5       Alquiler  \n",
              "6       Alquiler  \n",
              "7          Venta  \n",
              "\n",
              "[8 rows x 25 columns]"
            ],
            "text/html": [
              "\n",
              "  <div id=\"df-72fbbe2c-fc19-4254-9820-655a9d4ea4c8\">\n",
              "    <div class=\"colab-df-container\">\n",
              "      <div>\n",
              "<style scoped>\n",
              "    .dataframe tbody tr th:only-of-type {\n",
              "        vertical-align: middle;\n",
              "    }\n",
              "\n",
              "    .dataframe tbody tr th {\n",
              "        vertical-align: top;\n",
              "    }\n",
              "\n",
              "    .dataframe thead th {\n",
              "        text-align: right;\n",
              "    }\n",
              "</style>\n",
              "<table border=\"1\" class=\"dataframe\">\n",
              "  <thead>\n",
              "    <tr style=\"text-align: right;\">\n",
              "      <th></th>\n",
              "      <th>id</th>\n",
              "      <th>ad_type</th>\n",
              "      <th>start_date</th>\n",
              "      <th>end_date</th>\n",
              "      <th>created_on</th>\n",
              "      <th>lat</th>\n",
              "      <th>lon</th>\n",
              "      <th>l1</th>\n",
              "      <th>l2</th>\n",
              "      <th>l3</th>\n",
              "      <th>...</th>\n",
              "      <th>bathrooms</th>\n",
              "      <th>surface_total</th>\n",
              "      <th>surface_covered</th>\n",
              "      <th>price</th>\n",
              "      <th>currency</th>\n",
              "      <th>price_period</th>\n",
              "      <th>title</th>\n",
              "      <th>description</th>\n",
              "      <th>property_type</th>\n",
              "      <th>operation_type</th>\n",
              "    </tr>\n",
              "  </thead>\n",
              "  <tbody>\n",
              "    <tr>\n",
              "      <th>0</th>\n",
              "      <td>DyVXfkpKygVBKuUk5olH+A==</td>\n",
              "      <td>Propiedad</td>\n",
              "      <td>2020-08-22</td>\n",
              "      <td>2020-09-03</td>\n",
              "      <td>2020-08-22</td>\n",
              "      <td>-34.407468</td>\n",
              "      <td>-58.957367</td>\n",
              "      <td>Argentina</td>\n",
              "      <td>Bs.As. G.B.A. Zona Norte</td>\n",
              "      <td>Pilar</td>\n",
              "      <td>...</td>\n",
              "      <td>NaN</td>\n",
              "      <td>133139.0</td>\n",
              "      <td>NaN</td>\n",
              "      <td>NaN</td>\n",
              "      <td>NaN</td>\n",
              "      <td>Mensual</td>\n",
              "      <td>VENTA - Lote Industrial 130.000m2 - Parque Ind...</td>\n",
              "      <td>Lote (Nro.50) mide 133.139 m2\\n&lt;br&gt;Valor: U$S ...</td>\n",
              "      <td>Lote</td>\n",
              "      <td>Venta</td>\n",
              "    </tr>\n",
              "    <tr>\n",
              "      <th>1</th>\n",
              "      <td>9naojilaMecJN4jlQiTkGg==</td>\n",
              "      <td>Propiedad</td>\n",
              "      <td>2020-08-22</td>\n",
              "      <td>2020-09-04</td>\n",
              "      <td>2020-08-22</td>\n",
              "      <td>-37.996039</td>\n",
              "      <td>-57.542509</td>\n",
              "      <td>Argentina</td>\n",
              "      <td>Buenos Aires Costa Atlántica</td>\n",
              "      <td>Mar del Plata</td>\n",
              "      <td>...</td>\n",
              "      <td>NaN</td>\n",
              "      <td>687.0</td>\n",
              "      <td>687.0</td>\n",
              "      <td>NaN</td>\n",
              "      <td>NaN</td>\n",
              "      <td>Mensual</td>\n",
              "      <td>Casa - Santa Cecilia</td>\n",
              "      <td>Conjunto edilicio de casa y departamentos en b...</td>\n",
              "      <td>Otro</td>\n",
              "      <td>Venta</td>\n",
              "    </tr>\n",
              "    <tr>\n",
              "      <th>2</th>\n",
              "      <td>tlCPRJPjoDEUzuuCelemAQ==</td>\n",
              "      <td>Propiedad</td>\n",
              "      <td>2020-08-22</td>\n",
              "      <td>2020-08-31</td>\n",
              "      <td>2020-08-22</td>\n",
              "      <td>-31.380187</td>\n",
              "      <td>-58.009182</td>\n",
              "      <td>Argentina</td>\n",
              "      <td>Entre Ríos</td>\n",
              "      <td>Concordia</td>\n",
              "      <td>...</td>\n",
              "      <td>1.0</td>\n",
              "      <td>80.0</td>\n",
              "      <td>80.0</td>\n",
              "      <td>NaN</td>\n",
              "      <td>NaN</td>\n",
              "      <td>Mensual</td>\n",
              "      <td>Casa - Concordia</td>\n",
              "      <td>Casa de un dormitorio, cocina, baño, living co...</td>\n",
              "      <td>Casa</td>\n",
              "      <td>Alquiler</td>\n",
              "    </tr>\n",
              "    <tr>\n",
              "      <th>3</th>\n",
              "      <td>Zw3b91glQUO3HNrM5fPYlQ==</td>\n",
              "      <td>Propiedad</td>\n",
              "      <td>2020-08-22</td>\n",
              "      <td>2020-09-04</td>\n",
              "      <td>2020-08-22</td>\n",
              "      <td>-27.494106</td>\n",
              "      <td>-55.123455</td>\n",
              "      <td>Argentina</td>\n",
              "      <td>Misiones</td>\n",
              "      <td>Oberá</td>\n",
              "      <td>...</td>\n",
              "      <td>1.0</td>\n",
              "      <td>NaN</td>\n",
              "      <td>NaN</td>\n",
              "      <td>NaN</td>\n",
              "      <td>NaN</td>\n",
              "      <td>Mensual</td>\n",
              "      <td>Terreno - Obera</td>\n",
              "      <td>IMPORTANTE PROPIEDAD EN VENTA EN OBERA MISIONE...</td>\n",
              "      <td>Lote</td>\n",
              "      <td>Venta</td>\n",
              "    </tr>\n",
              "    <tr>\n",
              "      <th>4</th>\n",
              "      <td>bsU81gm9JEgtZCbTYgvykg==</td>\n",
              "      <td>Propiedad</td>\n",
              "      <td>2020-08-22</td>\n",
              "      <td>2020-09-04</td>\n",
              "      <td>2020-08-22</td>\n",
              "      <td>-32.948856</td>\n",
              "      <td>-60.630464</td>\n",
              "      <td>Argentina</td>\n",
              "      <td>Santa Fe</td>\n",
              "      <td>Rosario</td>\n",
              "      <td>...</td>\n",
              "      <td>1.0</td>\n",
              "      <td>76.0</td>\n",
              "      <td>66.0</td>\n",
              "      <td>NaN</td>\n",
              "      <td>NaN</td>\n",
              "      <td>Mensual</td>\n",
              "      <td>Departamento - Rosario</td>\n",
              "      <td>PORTAL DE LOS MARINOS&lt;br&gt;Es un complejo de viv...</td>\n",
              "      <td>Departamento</td>\n",
              "      <td>Venta</td>\n",
              "    </tr>\n",
              "    <tr>\n",
              "      <th>5</th>\n",
              "      <td>3Cips/GEPuJqktYycSALCQ==</td>\n",
              "      <td>Propiedad</td>\n",
              "      <td>2020-08-22</td>\n",
              "      <td>2020-09-04</td>\n",
              "      <td>2020-08-22</td>\n",
              "      <td>-32.884278</td>\n",
              "      <td>-60.710901</td>\n",
              "      <td>Argentina</td>\n",
              "      <td>Santa Fe</td>\n",
              "      <td>Rosario</td>\n",
              "      <td>...</td>\n",
              "      <td>1.0</td>\n",
              "      <td>39.0</td>\n",
              "      <td>33.0</td>\n",
              "      <td>NaN</td>\n",
              "      <td>NaN</td>\n",
              "      <td>Mensual</td>\n",
              "      <td>9 DE JULIO 535 06 01</td>\n",
              "      <td>CARACTERÍSTICAS&lt;br&gt;Ingreso living comedor con ...</td>\n",
              "      <td>Departamento</td>\n",
              "      <td>Alquiler</td>\n",
              "    </tr>\n",
              "    <tr>\n",
              "      <th>6</th>\n",
              "      <td>6TO5dWwmivuJ67zkztUzCA==</td>\n",
              "      <td>Propiedad</td>\n",
              "      <td>2020-08-22</td>\n",
              "      <td>2020-09-04</td>\n",
              "      <td>2020-08-22</td>\n",
              "      <td>-34.604195</td>\n",
              "      <td>-58.559827</td>\n",
              "      <td>Argentina</td>\n",
              "      <td>Bs.As. G.B.A. Zona Oeste</td>\n",
              "      <td>Tres de Febrero</td>\n",
              "      <td>...</td>\n",
              "      <td>1.0</td>\n",
              "      <td>NaN</td>\n",
              "      <td>42.0</td>\n",
              "      <td>NaN</td>\n",
              "      <td>NaN</td>\n",
              "      <td>Mensual</td>\n",
              "      <td>Departamento - Caseros</td>\n",
              "      <td>Departamento 2 ambientes con Lavadero en Nicar...</td>\n",
              "      <td>Departamento</td>\n",
              "      <td>Alquiler</td>\n",
              "    </tr>\n",
              "    <tr>\n",
              "      <th>7</th>\n",
              "      <td>VlE71iojfIFoH4piJfFQ/g==</td>\n",
              "      <td>Propiedad</td>\n",
              "      <td>2020-08-22</td>\n",
              "      <td>2020-09-04</td>\n",
              "      <td>2020-08-22</td>\n",
              "      <td>-32.948834</td>\n",
              "      <td>-60.630169</td>\n",
              "      <td>Argentina</td>\n",
              "      <td>Santa Fe</td>\n",
              "      <td>Rosario</td>\n",
              "      <td>...</td>\n",
              "      <td>2.0</td>\n",
              "      <td>130.0</td>\n",
              "      <td>108.0</td>\n",
              "      <td>NaN</td>\n",
              "      <td>NaN</td>\n",
              "      <td>Mensual</td>\n",
              "      <td>Departamento - Rosario</td>\n",
              "      <td>PORTAL DE LOS MARINOS&lt;br&gt;Es un complejo de viv...</td>\n",
              "      <td>Departamento</td>\n",
              "      <td>Venta</td>\n",
              "    </tr>\n",
              "  </tbody>\n",
              "</table>\n",
              "<p>8 rows × 25 columns</p>\n",
              "</div>\n",
              "      <button class=\"colab-df-convert\" onclick=\"convertToInteractive('df-72fbbe2c-fc19-4254-9820-655a9d4ea4c8')\"\n",
              "              title=\"Convert this dataframe to an interactive table.\"\n",
              "              style=\"display:none;\">\n",
              "        \n",
              "  <svg xmlns=\"http://www.w3.org/2000/svg\" height=\"24px\"viewBox=\"0 0 24 24\"\n",
              "       width=\"24px\">\n",
              "    <path d=\"M0 0h24v24H0V0z\" fill=\"none\"/>\n",
              "    <path d=\"M18.56 5.44l.94 2.06.94-2.06 2.06-.94-2.06-.94-.94-2.06-.94 2.06-2.06.94zm-11 1L8.5 8.5l.94-2.06 2.06-.94-2.06-.94L8.5 2.5l-.94 2.06-2.06.94zm10 10l.94 2.06.94-2.06 2.06-.94-2.06-.94-.94-2.06-.94 2.06-2.06.94z\"/><path d=\"M17.41 7.96l-1.37-1.37c-.4-.4-.92-.59-1.43-.59-.52 0-1.04.2-1.43.59L10.3 9.45l-7.72 7.72c-.78.78-.78 2.05 0 2.83L4 21.41c.39.39.9.59 1.41.59.51 0 1.02-.2 1.41-.59l7.78-7.78 2.81-2.81c.8-.78.8-2.07 0-2.86zM5.41 20L4 18.59l7.72-7.72 1.47 1.35L5.41 20z\"/>\n",
              "  </svg>\n",
              "      </button>\n",
              "      \n",
              "  <style>\n",
              "    .colab-df-container {\n",
              "      display:flex;\n",
              "      flex-wrap:wrap;\n",
              "      gap: 12px;\n",
              "    }\n",
              "\n",
              "    .colab-df-convert {\n",
              "      background-color: #E8F0FE;\n",
              "      border: none;\n",
              "      border-radius: 50%;\n",
              "      cursor: pointer;\n",
              "      display: none;\n",
              "      fill: #1967D2;\n",
              "      height: 32px;\n",
              "      padding: 0 0 0 0;\n",
              "      width: 32px;\n",
              "    }\n",
              "\n",
              "    .colab-df-convert:hover {\n",
              "      background-color: #E2EBFA;\n",
              "      box-shadow: 0px 1px 2px rgba(60, 64, 67, 0.3), 0px 1px 3px 1px rgba(60, 64, 67, 0.15);\n",
              "      fill: #174EA6;\n",
              "    }\n",
              "\n",
              "    [theme=dark] .colab-df-convert {\n",
              "      background-color: #3B4455;\n",
              "      fill: #D2E3FC;\n",
              "    }\n",
              "\n",
              "    [theme=dark] .colab-df-convert:hover {\n",
              "      background-color: #434B5C;\n",
              "      box-shadow: 0px 1px 3px 1px rgba(0, 0, 0, 0.15);\n",
              "      filter: drop-shadow(0px 1px 2px rgba(0, 0, 0, 0.3));\n",
              "      fill: #FFFFFF;\n",
              "    }\n",
              "  </style>\n",
              "\n",
              "      <script>\n",
              "        const buttonEl =\n",
              "          document.querySelector('#df-72fbbe2c-fc19-4254-9820-655a9d4ea4c8 button.colab-df-convert');\n",
              "        buttonEl.style.display =\n",
              "          google.colab.kernel.accessAllowed ? 'block' : 'none';\n",
              "\n",
              "        async function convertToInteractive(key) {\n",
              "          const element = document.querySelector('#df-72fbbe2c-fc19-4254-9820-655a9d4ea4c8');\n",
              "          const dataTable =\n",
              "            await google.colab.kernel.invokeFunction('convertToInteractive',\n",
              "                                                     [key], {});\n",
              "          if (!dataTable) return;\n",
              "\n",
              "          const docLinkHtml = 'Like what you see? Visit the ' +\n",
              "            '<a target=\"_blank\" href=https://colab.research.google.com/notebooks/data_table.ipynb>data table notebook</a>'\n",
              "            + ' to learn more about interactive tables.';\n",
              "          element.innerHTML = '';\n",
              "          dataTable['output_type'] = 'display_data';\n",
              "          await google.colab.output.renderOutput(dataTable, element);\n",
              "          const docLink = document.createElement('div');\n",
              "          docLink.innerHTML = docLinkHtml;\n",
              "          element.appendChild(docLink);\n",
              "        }\n",
              "      </script>\n",
              "    </div>\n",
              "  </div>\n",
              "  "
            ]
          },
          "metadata": {},
          "execution_count": 20
        }
      ],
      "source": [
        "prop.head(8)"
      ]
    },
    {
      "cell_type": "markdown",
      "source": [
        "***Observar los últimos 5 registros***"
      ],
      "metadata": {
        "id": "VrQhidLF0sWf"
      },
      "id": "VrQhidLF0sWf"
    },
    {
      "cell_type": "code",
      "source": [
        "prop.tail()"
      ],
      "metadata": {
        "id": "Dh437zE40u9k",
        "colab": {
          "base_uri": "https://localhost:8080/",
          "height": 664
        },
        "outputId": "f63d44ad-dc11-409a-d6a4-b2c86d546796"
      },
      "id": "Dh437zE40u9k",
      "execution_count": 21,
      "outputs": [
        {
          "output_type": "execute_result",
          "data": {
            "text/plain": [
              "                              id    ad_type  start_date    end_date  \\\n",
              "999995  jMYhwydKqUje8HCx7RzwJQ==  Propiedad  2020-12-04  9999-12-31   \n",
              "999996  FsP7ornzqnK1CvUL8quQ9Q==  Propiedad  2020-12-04  9999-12-31   \n",
              "999997  fJLVUIziPl31ACoaE/fj1g==  Propiedad  2020-12-04  9999-12-31   \n",
              "999998  7mW3bUSJFA0RBOj2xtBi+w==  Propiedad  2020-12-04  9999-12-31   \n",
              "999999  rEynGyGrrsxNeG0ib5vUBA==  Propiedad  2020-12-04  2020-12-21   \n",
              "\n",
              "        created_on        lat        lon         l1                        l2  \\\n",
              "999995  2020-12-04 -32.958863 -60.665633  Argentina                  Santa Fe   \n",
              "999996  2020-12-04 -34.596587 -58.376893  Argentina           Capital Federal   \n",
              "999997  2020-12-04 -34.576445 -58.432603  Argentina           Capital Federal   \n",
              "999998  2020-12-04 -32.866636 -68.841144  Argentina                   Mendoza   \n",
              "999999  2020-12-04 -34.447524 -58.631552  Argentina  Bs.As. G.B.A. Zona Norte   \n",
              "\n",
              "             l3  ... bathrooms surface_total  surface_covered     price  \\\n",
              "999995  Rosario  ...       7.0         400.0            300.0  400000.0   \n",
              "999996   Retiro  ...       5.0         465.0            465.0    3700.0   \n",
              "999997  Palermo  ...       2.0         615.0            425.0  570000.0   \n",
              "999998      NaN  ...      20.0         450.0            450.0  800000.0   \n",
              "999999    Tigre  ...       4.0         350.0            300.0    7000.0   \n",
              "\n",
              "        currency  price_period  \\\n",
              "999995       USD       Mensual   \n",
              "999996       USD       Mensual   \n",
              "999997       USD       Mensual   \n",
              "999998       USD       Mensual   \n",
              "999999       USD       Mensual   \n",
              "\n",
              "                                                    title  \\\n",
              "999995  Se vende imponente casa a minutos del centro d...   \n",
              "999996                        Edificio Comercial - Retiro   \n",
              "999997  Edificio Comercial  en excelente zona de Paler...   \n",
              "999998                       Edificio Comercial - Capital   \n",
              "999999  INCREÍBLE ECASA A LA LAGUNA DESDE DIC a FEBRER...   \n",
              "\n",
              "                                              description    property_type  \\\n",
              "999995  Esta excelente propiedad se encuentra ubicada ...             Casa   \n",
              "999996  GRAN EDIFICIO PETIT HOTEL ESTILO FRANCÉS  CON ...  Local comercial   \n",
              "999997  Edificio Comercial CON ENTRADA INDEPENDIENTE S...  Local comercial   \n",
              "999998  Local 450m² con Cloaca en 25 de mayo, Argentin...  Local comercial   \n",
              "999999  ESPECTACULAR CASA A LA LAGUNA  -BARRIO SANTA B...             Casa   \n",
              "\n",
              "           operation_type  \n",
              "999995              Venta  \n",
              "999996           Alquiler  \n",
              "999997              Venta  \n",
              "999998              Venta  \n",
              "999999  Alquiler temporal  \n",
              "\n",
              "[5 rows x 25 columns]"
            ],
            "text/html": [
              "\n",
              "  <div id=\"df-63d00fce-c351-4cb8-88ec-bad5473dde32\">\n",
              "    <div class=\"colab-df-container\">\n",
              "      <div>\n",
              "<style scoped>\n",
              "    .dataframe tbody tr th:only-of-type {\n",
              "        vertical-align: middle;\n",
              "    }\n",
              "\n",
              "    .dataframe tbody tr th {\n",
              "        vertical-align: top;\n",
              "    }\n",
              "\n",
              "    .dataframe thead th {\n",
              "        text-align: right;\n",
              "    }\n",
              "</style>\n",
              "<table border=\"1\" class=\"dataframe\">\n",
              "  <thead>\n",
              "    <tr style=\"text-align: right;\">\n",
              "      <th></th>\n",
              "      <th>id</th>\n",
              "      <th>ad_type</th>\n",
              "      <th>start_date</th>\n",
              "      <th>end_date</th>\n",
              "      <th>created_on</th>\n",
              "      <th>lat</th>\n",
              "      <th>lon</th>\n",
              "      <th>l1</th>\n",
              "      <th>l2</th>\n",
              "      <th>l3</th>\n",
              "      <th>...</th>\n",
              "      <th>bathrooms</th>\n",
              "      <th>surface_total</th>\n",
              "      <th>surface_covered</th>\n",
              "      <th>price</th>\n",
              "      <th>currency</th>\n",
              "      <th>price_period</th>\n",
              "      <th>title</th>\n",
              "      <th>description</th>\n",
              "      <th>property_type</th>\n",
              "      <th>operation_type</th>\n",
              "    </tr>\n",
              "  </thead>\n",
              "  <tbody>\n",
              "    <tr>\n",
              "      <th>999995</th>\n",
              "      <td>jMYhwydKqUje8HCx7RzwJQ==</td>\n",
              "      <td>Propiedad</td>\n",
              "      <td>2020-12-04</td>\n",
              "      <td>9999-12-31</td>\n",
              "      <td>2020-12-04</td>\n",
              "      <td>-32.958863</td>\n",
              "      <td>-60.665633</td>\n",
              "      <td>Argentina</td>\n",
              "      <td>Santa Fe</td>\n",
              "      <td>Rosario</td>\n",
              "      <td>...</td>\n",
              "      <td>7.0</td>\n",
              "      <td>400.0</td>\n",
              "      <td>300.0</td>\n",
              "      <td>400000.0</td>\n",
              "      <td>USD</td>\n",
              "      <td>Mensual</td>\n",
              "      <td>Se vende imponente casa a minutos del centro d...</td>\n",
              "      <td>Esta excelente propiedad se encuentra ubicada ...</td>\n",
              "      <td>Casa</td>\n",
              "      <td>Venta</td>\n",
              "    </tr>\n",
              "    <tr>\n",
              "      <th>999996</th>\n",
              "      <td>FsP7ornzqnK1CvUL8quQ9Q==</td>\n",
              "      <td>Propiedad</td>\n",
              "      <td>2020-12-04</td>\n",
              "      <td>9999-12-31</td>\n",
              "      <td>2020-12-04</td>\n",
              "      <td>-34.596587</td>\n",
              "      <td>-58.376893</td>\n",
              "      <td>Argentina</td>\n",
              "      <td>Capital Federal</td>\n",
              "      <td>Retiro</td>\n",
              "      <td>...</td>\n",
              "      <td>5.0</td>\n",
              "      <td>465.0</td>\n",
              "      <td>465.0</td>\n",
              "      <td>3700.0</td>\n",
              "      <td>USD</td>\n",
              "      <td>Mensual</td>\n",
              "      <td>Edificio Comercial - Retiro</td>\n",
              "      <td>GRAN EDIFICIO PETIT HOTEL ESTILO FRANCÉS  CON ...</td>\n",
              "      <td>Local comercial</td>\n",
              "      <td>Alquiler</td>\n",
              "    </tr>\n",
              "    <tr>\n",
              "      <th>999997</th>\n",
              "      <td>fJLVUIziPl31ACoaE/fj1g==</td>\n",
              "      <td>Propiedad</td>\n",
              "      <td>2020-12-04</td>\n",
              "      <td>9999-12-31</td>\n",
              "      <td>2020-12-04</td>\n",
              "      <td>-34.576445</td>\n",
              "      <td>-58.432603</td>\n",
              "      <td>Argentina</td>\n",
              "      <td>Capital Federal</td>\n",
              "      <td>Palermo</td>\n",
              "      <td>...</td>\n",
              "      <td>2.0</td>\n",
              "      <td>615.0</td>\n",
              "      <td>425.0</td>\n",
              "      <td>570000.0</td>\n",
              "      <td>USD</td>\n",
              "      <td>Mensual</td>\n",
              "      <td>Edificio Comercial  en excelente zona de Paler...</td>\n",
              "      <td>Edificio Comercial CON ENTRADA INDEPENDIENTE S...</td>\n",
              "      <td>Local comercial</td>\n",
              "      <td>Venta</td>\n",
              "    </tr>\n",
              "    <tr>\n",
              "      <th>999998</th>\n",
              "      <td>7mW3bUSJFA0RBOj2xtBi+w==</td>\n",
              "      <td>Propiedad</td>\n",
              "      <td>2020-12-04</td>\n",
              "      <td>9999-12-31</td>\n",
              "      <td>2020-12-04</td>\n",
              "      <td>-32.866636</td>\n",
              "      <td>-68.841144</td>\n",
              "      <td>Argentina</td>\n",
              "      <td>Mendoza</td>\n",
              "      <td>NaN</td>\n",
              "      <td>...</td>\n",
              "      <td>20.0</td>\n",
              "      <td>450.0</td>\n",
              "      <td>450.0</td>\n",
              "      <td>800000.0</td>\n",
              "      <td>USD</td>\n",
              "      <td>Mensual</td>\n",
              "      <td>Edificio Comercial - Capital</td>\n",
              "      <td>Local 450m² con Cloaca en 25 de mayo, Argentin...</td>\n",
              "      <td>Local comercial</td>\n",
              "      <td>Venta</td>\n",
              "    </tr>\n",
              "    <tr>\n",
              "      <th>999999</th>\n",
              "      <td>rEynGyGrrsxNeG0ib5vUBA==</td>\n",
              "      <td>Propiedad</td>\n",
              "      <td>2020-12-04</td>\n",
              "      <td>2020-12-21</td>\n",
              "      <td>2020-12-04</td>\n",
              "      <td>-34.447524</td>\n",
              "      <td>-58.631552</td>\n",
              "      <td>Argentina</td>\n",
              "      <td>Bs.As. G.B.A. Zona Norte</td>\n",
              "      <td>Tigre</td>\n",
              "      <td>...</td>\n",
              "      <td>4.0</td>\n",
              "      <td>350.0</td>\n",
              "      <td>300.0</td>\n",
              "      <td>7000.0</td>\n",
              "      <td>USD</td>\n",
              "      <td>Mensual</td>\n",
              "      <td>INCREÍBLE ECASA A LA LAGUNA DESDE DIC a FEBRER...</td>\n",
              "      <td>ESPECTACULAR CASA A LA LAGUNA  -BARRIO SANTA B...</td>\n",
              "      <td>Casa</td>\n",
              "      <td>Alquiler temporal</td>\n",
              "    </tr>\n",
              "  </tbody>\n",
              "</table>\n",
              "<p>5 rows × 25 columns</p>\n",
              "</div>\n",
              "      <button class=\"colab-df-convert\" onclick=\"convertToInteractive('df-63d00fce-c351-4cb8-88ec-bad5473dde32')\"\n",
              "              title=\"Convert this dataframe to an interactive table.\"\n",
              "              style=\"display:none;\">\n",
              "        \n",
              "  <svg xmlns=\"http://www.w3.org/2000/svg\" height=\"24px\"viewBox=\"0 0 24 24\"\n",
              "       width=\"24px\">\n",
              "    <path d=\"M0 0h24v24H0V0z\" fill=\"none\"/>\n",
              "    <path d=\"M18.56 5.44l.94 2.06.94-2.06 2.06-.94-2.06-.94-.94-2.06-.94 2.06-2.06.94zm-11 1L8.5 8.5l.94-2.06 2.06-.94-2.06-.94L8.5 2.5l-.94 2.06-2.06.94zm10 10l.94 2.06.94-2.06 2.06-.94-2.06-.94-.94-2.06-.94 2.06-2.06.94z\"/><path d=\"M17.41 7.96l-1.37-1.37c-.4-.4-.92-.59-1.43-.59-.52 0-1.04.2-1.43.59L10.3 9.45l-7.72 7.72c-.78.78-.78 2.05 0 2.83L4 21.41c.39.39.9.59 1.41.59.51 0 1.02-.2 1.41-.59l7.78-7.78 2.81-2.81c.8-.78.8-2.07 0-2.86zM5.41 20L4 18.59l7.72-7.72 1.47 1.35L5.41 20z\"/>\n",
              "  </svg>\n",
              "      </button>\n",
              "      \n",
              "  <style>\n",
              "    .colab-df-container {\n",
              "      display:flex;\n",
              "      flex-wrap:wrap;\n",
              "      gap: 12px;\n",
              "    }\n",
              "\n",
              "    .colab-df-convert {\n",
              "      background-color: #E8F0FE;\n",
              "      border: none;\n",
              "      border-radius: 50%;\n",
              "      cursor: pointer;\n",
              "      display: none;\n",
              "      fill: #1967D2;\n",
              "      height: 32px;\n",
              "      padding: 0 0 0 0;\n",
              "      width: 32px;\n",
              "    }\n",
              "\n",
              "    .colab-df-convert:hover {\n",
              "      background-color: #E2EBFA;\n",
              "      box-shadow: 0px 1px 2px rgba(60, 64, 67, 0.3), 0px 1px 3px 1px rgba(60, 64, 67, 0.15);\n",
              "      fill: #174EA6;\n",
              "    }\n",
              "\n",
              "    [theme=dark] .colab-df-convert {\n",
              "      background-color: #3B4455;\n",
              "      fill: #D2E3FC;\n",
              "    }\n",
              "\n",
              "    [theme=dark] .colab-df-convert:hover {\n",
              "      background-color: #434B5C;\n",
              "      box-shadow: 0px 1px 3px 1px rgba(0, 0, 0, 0.15);\n",
              "      filter: drop-shadow(0px 1px 2px rgba(0, 0, 0, 0.3));\n",
              "      fill: #FFFFFF;\n",
              "    }\n",
              "  </style>\n",
              "\n",
              "      <script>\n",
              "        const buttonEl =\n",
              "          document.querySelector('#df-63d00fce-c351-4cb8-88ec-bad5473dde32 button.colab-df-convert');\n",
              "        buttonEl.style.display =\n",
              "          google.colab.kernel.accessAllowed ? 'block' : 'none';\n",
              "\n",
              "        async function convertToInteractive(key) {\n",
              "          const element = document.querySelector('#df-63d00fce-c351-4cb8-88ec-bad5473dde32');\n",
              "          const dataTable =\n",
              "            await google.colab.kernel.invokeFunction('convertToInteractive',\n",
              "                                                     [key], {});\n",
              "          if (!dataTable) return;\n",
              "\n",
              "          const docLinkHtml = 'Like what you see? Visit the ' +\n",
              "            '<a target=\"_blank\" href=https://colab.research.google.com/notebooks/data_table.ipynb>data table notebook</a>'\n",
              "            + ' to learn more about interactive tables.';\n",
              "          element.innerHTML = '';\n",
              "          dataTable['output_type'] = 'display_data';\n",
              "          await google.colab.output.renderOutput(dataTable, element);\n",
              "          const docLink = document.createElement('div');\n",
              "          docLink.innerHTML = docLinkHtml;\n",
              "          element.appendChild(docLink);\n",
              "        }\n",
              "      </script>\n",
              "    </div>\n",
              "  </div>\n",
              "  "
            ]
          },
          "metadata": {},
          "execution_count": 21
        }
      ]
    },
    {
      "cell_type": "markdown",
      "id": "fb67d753",
      "metadata": {
        "id": "fb67d753"
      },
      "source": [
        "***Imprimir la cantidad de filas y columnas del dataframe***"
      ]
    },
    {
      "cell_type": "markdown",
      "source": [
        "**PUNTO DE REVISIÓN**\n",
        "\n",
        "***A esta altura el dataframe tiene $1000000$ filas y $25$ columnas...***"
      ],
      "metadata": {
        "id": "672Gi5UPJ4Fl"
      },
      "id": "672Gi5UPJ4Fl"
    },
    {
      "cell_type": "code",
      "execution_count": 22,
      "id": "be399657",
      "metadata": {
        "id": "be399657",
        "colab": {
          "base_uri": "https://localhost:8080/"
        },
        "outputId": "36f43832-6501-4f38-9f27-388750ce9b8c"
      },
      "outputs": [
        {
          "output_type": "stream",
          "name": "stdout",
          "text": [
            "El dataset contiene 1000000 filas y 25 columnas\n"
          ]
        }
      ],
      "source": [
        "prop.shape\n",
        "print(f\"El dataset contiene {prop.shape[0]} filas y {prop.shape[1]} columnas\")"
      ]
    },
    {
      "cell_type": "markdown",
      "source": [
        "**Usar info**"
      ],
      "metadata": {
        "id": "q0M9SYUC1eML"
      },
      "id": "q0M9SYUC1eML"
    },
    {
      "cell_type": "code",
      "source": [
        "prop.info()"
      ],
      "metadata": {
        "id": "3uG9R1_o1gPQ",
        "colab": {
          "base_uri": "https://localhost:8080/"
        },
        "outputId": "7a3058c2-7267-4533-8260-0b1061af8261"
      },
      "id": "3uG9R1_o1gPQ",
      "execution_count": 23,
      "outputs": [
        {
          "output_type": "stream",
          "name": "stdout",
          "text": [
            "<class 'pandas.core.frame.DataFrame'>\n",
            "RangeIndex: 1000000 entries, 0 to 999999\n",
            "Data columns (total 25 columns):\n",
            " #   Column           Non-Null Count    Dtype  \n",
            "---  ------           --------------    -----  \n",
            " 0   id               1000000 non-null  object \n",
            " 1   ad_type          1000000 non-null  object \n",
            " 2   start_date       1000000 non-null  object \n",
            " 3   end_date         1000000 non-null  object \n",
            " 4   created_on       1000000 non-null  object \n",
            " 5   lat              894233 non-null   float64\n",
            " 6   lon              894191 non-null   float64\n",
            " 7   l1               1000000 non-null  object \n",
            " 8   l2               1000000 non-null  object \n",
            " 9   l3               965273 non-null   object \n",
            " 10  l4               306162 non-null   object \n",
            " 11  l5               5530 non-null     object \n",
            " 12  l6               0 non-null        float64\n",
            " 13  rooms            714179 non-null   float64\n",
            " 14  bedrooms         649933 non-null   float64\n",
            " 15  bathrooms        765122 non-null   float64\n",
            " 16  surface_total    477831 non-null   float64\n",
            " 17  surface_covered  487756 non-null   float64\n",
            " 18  price            958243 non-null   float64\n",
            " 19  currency         955491 non-null   object \n",
            " 20  price_period     429870 non-null   object \n",
            " 21  title            999999 non-null   object \n",
            " 22  description      999958 non-null   object \n",
            " 23  property_type    1000000 non-null  object \n",
            " 24  operation_type   1000000 non-null  object \n",
            "dtypes: float64(9), object(16)\n",
            "memory usage: 190.7+ MB\n"
          ]
        }
      ]
    },
    {
      "cell_type": "markdown",
      "source": [
        "***Usar ```describe()``` para variables cuantitativas y mostrar el resumen con dos decimales y transpuesto (transposicion)...***"
      ],
      "metadata": {
        "id": "tgtDPClI1G8R"
      },
      "id": "tgtDPClI1G8R"
    },
    {
      "cell_type": "code",
      "source": [
        "prop.describe().round(2).T"
      ],
      "metadata": {
        "id": "DUa-RYCz1Htb",
        "colab": {
          "base_uri": "https://localhost:8080/",
          "height": 331
        },
        "outputId": "56b3e188-3b74-422b-c60e-37a41238dd18"
      },
      "id": "DUa-RYCz1Htb",
      "execution_count": 24,
      "outputs": [
        {
          "output_type": "execute_result",
          "data": {
            "text/plain": [
              "                    count       mean         std     min       25%       50%  \\\n",
              "lat              894233.0     -34.38        3.04  -54.84    -34.72    -34.59   \n",
              "lon              894191.0     -59.49        2.80 -122.54    -58.88    -58.49   \n",
              "l6                    0.0        NaN         NaN     NaN       NaN       NaN   \n",
              "rooms            714179.0       2.92        1.74    1.00      2.00      3.00   \n",
              "bedrooms         649933.0       2.10        2.08  -16.00      1.00      2.00   \n",
              "bathrooms        765122.0       1.71        1.09    1.00      1.00      1.00   \n",
              "surface_total    477831.0     513.76     4297.24 -136.00     50.00     95.00   \n",
              "surface_covered  487756.0   11656.22  4443191.26 -130.00     45.00     78.00   \n",
              "price            958243.0  346094.02  5713689.88    0.00  38000.00  97000.00   \n",
              "\n",
              "                       75%           max  \n",
              "lat                 -34.42  4.963000e+01  \n",
              "lon                 -58.40  1.800000e+02  \n",
              "l6                     NaN           NaN  \n",
              "rooms                 4.00  4.000000e+01  \n",
              "bedrooms              3.00  9.000000e+02  \n",
              "bathrooms             2.00  2.000000e+01  \n",
              "surface_total       250.00  2.000000e+05  \n",
              "surface_covered     168.00  2.147484e+09  \n",
              "price            210000.00  3.100000e+09  "
            ],
            "text/html": [
              "\n",
              "  <div id=\"df-119f00d8-b102-43e2-bf71-bbccdc8056fb\">\n",
              "    <div class=\"colab-df-container\">\n",
              "      <div>\n",
              "<style scoped>\n",
              "    .dataframe tbody tr th:only-of-type {\n",
              "        vertical-align: middle;\n",
              "    }\n",
              "\n",
              "    .dataframe tbody tr th {\n",
              "        vertical-align: top;\n",
              "    }\n",
              "\n",
              "    .dataframe thead th {\n",
              "        text-align: right;\n",
              "    }\n",
              "</style>\n",
              "<table border=\"1\" class=\"dataframe\">\n",
              "  <thead>\n",
              "    <tr style=\"text-align: right;\">\n",
              "      <th></th>\n",
              "      <th>count</th>\n",
              "      <th>mean</th>\n",
              "      <th>std</th>\n",
              "      <th>min</th>\n",
              "      <th>25%</th>\n",
              "      <th>50%</th>\n",
              "      <th>75%</th>\n",
              "      <th>max</th>\n",
              "    </tr>\n",
              "  </thead>\n",
              "  <tbody>\n",
              "    <tr>\n",
              "      <th>lat</th>\n",
              "      <td>894233.0</td>\n",
              "      <td>-34.38</td>\n",
              "      <td>3.04</td>\n",
              "      <td>-54.84</td>\n",
              "      <td>-34.72</td>\n",
              "      <td>-34.59</td>\n",
              "      <td>-34.42</td>\n",
              "      <td>4.963000e+01</td>\n",
              "    </tr>\n",
              "    <tr>\n",
              "      <th>lon</th>\n",
              "      <td>894191.0</td>\n",
              "      <td>-59.49</td>\n",
              "      <td>2.80</td>\n",
              "      <td>-122.54</td>\n",
              "      <td>-58.88</td>\n",
              "      <td>-58.49</td>\n",
              "      <td>-58.40</td>\n",
              "      <td>1.800000e+02</td>\n",
              "    </tr>\n",
              "    <tr>\n",
              "      <th>l6</th>\n",
              "      <td>0.0</td>\n",
              "      <td>NaN</td>\n",
              "      <td>NaN</td>\n",
              "      <td>NaN</td>\n",
              "      <td>NaN</td>\n",
              "      <td>NaN</td>\n",
              "      <td>NaN</td>\n",
              "      <td>NaN</td>\n",
              "    </tr>\n",
              "    <tr>\n",
              "      <th>rooms</th>\n",
              "      <td>714179.0</td>\n",
              "      <td>2.92</td>\n",
              "      <td>1.74</td>\n",
              "      <td>1.00</td>\n",
              "      <td>2.00</td>\n",
              "      <td>3.00</td>\n",
              "      <td>4.00</td>\n",
              "      <td>4.000000e+01</td>\n",
              "    </tr>\n",
              "    <tr>\n",
              "      <th>bedrooms</th>\n",
              "      <td>649933.0</td>\n",
              "      <td>2.10</td>\n",
              "      <td>2.08</td>\n",
              "      <td>-16.00</td>\n",
              "      <td>1.00</td>\n",
              "      <td>2.00</td>\n",
              "      <td>3.00</td>\n",
              "      <td>9.000000e+02</td>\n",
              "    </tr>\n",
              "    <tr>\n",
              "      <th>bathrooms</th>\n",
              "      <td>765122.0</td>\n",
              "      <td>1.71</td>\n",
              "      <td>1.09</td>\n",
              "      <td>1.00</td>\n",
              "      <td>1.00</td>\n",
              "      <td>1.00</td>\n",
              "      <td>2.00</td>\n",
              "      <td>2.000000e+01</td>\n",
              "    </tr>\n",
              "    <tr>\n",
              "      <th>surface_total</th>\n",
              "      <td>477831.0</td>\n",
              "      <td>513.76</td>\n",
              "      <td>4297.24</td>\n",
              "      <td>-136.00</td>\n",
              "      <td>50.00</td>\n",
              "      <td>95.00</td>\n",
              "      <td>250.00</td>\n",
              "      <td>2.000000e+05</td>\n",
              "    </tr>\n",
              "    <tr>\n",
              "      <th>surface_covered</th>\n",
              "      <td>487756.0</td>\n",
              "      <td>11656.22</td>\n",
              "      <td>4443191.26</td>\n",
              "      <td>-130.00</td>\n",
              "      <td>45.00</td>\n",
              "      <td>78.00</td>\n",
              "      <td>168.00</td>\n",
              "      <td>2.147484e+09</td>\n",
              "    </tr>\n",
              "    <tr>\n",
              "      <th>price</th>\n",
              "      <td>958243.0</td>\n",
              "      <td>346094.02</td>\n",
              "      <td>5713689.88</td>\n",
              "      <td>0.00</td>\n",
              "      <td>38000.00</td>\n",
              "      <td>97000.00</td>\n",
              "      <td>210000.00</td>\n",
              "      <td>3.100000e+09</td>\n",
              "    </tr>\n",
              "  </tbody>\n",
              "</table>\n",
              "</div>\n",
              "      <button class=\"colab-df-convert\" onclick=\"convertToInteractive('df-119f00d8-b102-43e2-bf71-bbccdc8056fb')\"\n",
              "              title=\"Convert this dataframe to an interactive table.\"\n",
              "              style=\"display:none;\">\n",
              "        \n",
              "  <svg xmlns=\"http://www.w3.org/2000/svg\" height=\"24px\"viewBox=\"0 0 24 24\"\n",
              "       width=\"24px\">\n",
              "    <path d=\"M0 0h24v24H0V0z\" fill=\"none\"/>\n",
              "    <path d=\"M18.56 5.44l.94 2.06.94-2.06 2.06-.94-2.06-.94-.94-2.06-.94 2.06-2.06.94zm-11 1L8.5 8.5l.94-2.06 2.06-.94-2.06-.94L8.5 2.5l-.94 2.06-2.06.94zm10 10l.94 2.06.94-2.06 2.06-.94-2.06-.94-.94-2.06-.94 2.06-2.06.94z\"/><path d=\"M17.41 7.96l-1.37-1.37c-.4-.4-.92-.59-1.43-.59-.52 0-1.04.2-1.43.59L10.3 9.45l-7.72 7.72c-.78.78-.78 2.05 0 2.83L4 21.41c.39.39.9.59 1.41.59.51 0 1.02-.2 1.41-.59l7.78-7.78 2.81-2.81c.8-.78.8-2.07 0-2.86zM5.41 20L4 18.59l7.72-7.72 1.47 1.35L5.41 20z\"/>\n",
              "  </svg>\n",
              "      </button>\n",
              "      \n",
              "  <style>\n",
              "    .colab-df-container {\n",
              "      display:flex;\n",
              "      flex-wrap:wrap;\n",
              "      gap: 12px;\n",
              "    }\n",
              "\n",
              "    .colab-df-convert {\n",
              "      background-color: #E8F0FE;\n",
              "      border: none;\n",
              "      border-radius: 50%;\n",
              "      cursor: pointer;\n",
              "      display: none;\n",
              "      fill: #1967D2;\n",
              "      height: 32px;\n",
              "      padding: 0 0 0 0;\n",
              "      width: 32px;\n",
              "    }\n",
              "\n",
              "    .colab-df-convert:hover {\n",
              "      background-color: #E2EBFA;\n",
              "      box-shadow: 0px 1px 2px rgba(60, 64, 67, 0.3), 0px 1px 3px 1px rgba(60, 64, 67, 0.15);\n",
              "      fill: #174EA6;\n",
              "    }\n",
              "\n",
              "    [theme=dark] .colab-df-convert {\n",
              "      background-color: #3B4455;\n",
              "      fill: #D2E3FC;\n",
              "    }\n",
              "\n",
              "    [theme=dark] .colab-df-convert:hover {\n",
              "      background-color: #434B5C;\n",
              "      box-shadow: 0px 1px 3px 1px rgba(0, 0, 0, 0.15);\n",
              "      filter: drop-shadow(0px 1px 2px rgba(0, 0, 0, 0.3));\n",
              "      fill: #FFFFFF;\n",
              "    }\n",
              "  </style>\n",
              "\n",
              "      <script>\n",
              "        const buttonEl =\n",
              "          document.querySelector('#df-119f00d8-b102-43e2-bf71-bbccdc8056fb button.colab-df-convert');\n",
              "        buttonEl.style.display =\n",
              "          google.colab.kernel.accessAllowed ? 'block' : 'none';\n",
              "\n",
              "        async function convertToInteractive(key) {\n",
              "          const element = document.querySelector('#df-119f00d8-b102-43e2-bf71-bbccdc8056fb');\n",
              "          const dataTable =\n",
              "            await google.colab.kernel.invokeFunction('convertToInteractive',\n",
              "                                                     [key], {});\n",
              "          if (!dataTable) return;\n",
              "\n",
              "          const docLinkHtml = 'Like what you see? Visit the ' +\n",
              "            '<a target=\"_blank\" href=https://colab.research.google.com/notebooks/data_table.ipynb>data table notebook</a>'\n",
              "            + ' to learn more about interactive tables.';\n",
              "          element.innerHTML = '';\n",
              "          dataTable['output_type'] = 'display_data';\n",
              "          await google.colab.output.renderOutput(dataTable, element);\n",
              "          const docLink = document.createElement('div');\n",
              "          docLink.innerHTML = docLinkHtml;\n",
              "          element.appendChild(docLink);\n",
              "        }\n",
              "      </script>\n",
              "    </div>\n",
              "  </div>\n",
              "  "
            ]
          },
          "metadata": {},
          "execution_count": 24
        }
      ]
    },
    {
      "cell_type": "markdown",
      "source": [
        "***Usar ```describe()``` para variables cualitativas y mostrar resumen transpuesto...***"
      ],
      "metadata": {
        "id": "_3Y9Etp61Q5N"
      },
      "id": "_3Y9Etp61Q5N"
    },
    {
      "cell_type": "code",
      "source": [
        "prop.describe(include=[object]).T"
      ],
      "metadata": {
        "id": "AcEaEYMY1RUr",
        "colab": {
          "base_uri": "https://localhost:8080/",
          "height": 551
        },
        "outputId": "0f29fb32-7f24-455e-af4e-568c37089b7c"
      },
      "id": "AcEaEYMY1RUr",
      "execution_count": 25,
      "outputs": [
        {
          "output_type": "execute_result",
          "data": {
            "text/plain": [
              "                  count   unique  \\\n",
              "id              1000000  1000000   \n",
              "ad_type         1000000        1   \n",
              "start_date      1000000      362   \n",
              "end_date        1000000      450   \n",
              "created_on      1000000      362   \n",
              "l1              1000000        4   \n",
              "l2              1000000       43   \n",
              "l3               965273     1367   \n",
              "l4               306162     1070   \n",
              "l5                 5530       21   \n",
              "currency         955491        5   \n",
              "price_period     429870        3   \n",
              "title            999999   548833   \n",
              "description      999958   817449   \n",
              "property_type   1000000       10   \n",
              "operation_type  1000000        3   \n",
              "\n",
              "                                                           top     freq  \n",
              "id                                    DyVXfkpKygVBKuUk5olH+A==        1  \n",
              "ad_type                                              Propiedad  1000000  \n",
              "start_date                                          2020-10-02    25159  \n",
              "end_date                                            9999-12-31   208960  \n",
              "created_on                                          2020-10-02    25159  \n",
              "l1                                                   Argentina   983115  \n",
              "l2                                             Capital Federal   265125  \n",
              "l3                                                     Rosario    61746  \n",
              "l4                                                    Nordelta    19479  \n",
              "l5                                            BarrioPortezuelo      735  \n",
              "currency                                                   USD   738157  \n",
              "price_period                                           Mensual   429842  \n",
              "title                                               casa-venta     3338  \n",
              "description     Departamento en Alquiler de 1 dorm. en Cordoba     1980  \n",
              "property_type                                     Departamento   457907  \n",
              "operation_type                                           Venta   750831  "
            ],
            "text/html": [
              "\n",
              "  <div id=\"df-0656169a-c3c5-4509-9ef6-316fc813fe9c\">\n",
              "    <div class=\"colab-df-container\">\n",
              "      <div>\n",
              "<style scoped>\n",
              "    .dataframe tbody tr th:only-of-type {\n",
              "        vertical-align: middle;\n",
              "    }\n",
              "\n",
              "    .dataframe tbody tr th {\n",
              "        vertical-align: top;\n",
              "    }\n",
              "\n",
              "    .dataframe thead th {\n",
              "        text-align: right;\n",
              "    }\n",
              "</style>\n",
              "<table border=\"1\" class=\"dataframe\">\n",
              "  <thead>\n",
              "    <tr style=\"text-align: right;\">\n",
              "      <th></th>\n",
              "      <th>count</th>\n",
              "      <th>unique</th>\n",
              "      <th>top</th>\n",
              "      <th>freq</th>\n",
              "    </tr>\n",
              "  </thead>\n",
              "  <tbody>\n",
              "    <tr>\n",
              "      <th>id</th>\n",
              "      <td>1000000</td>\n",
              "      <td>1000000</td>\n",
              "      <td>DyVXfkpKygVBKuUk5olH+A==</td>\n",
              "      <td>1</td>\n",
              "    </tr>\n",
              "    <tr>\n",
              "      <th>ad_type</th>\n",
              "      <td>1000000</td>\n",
              "      <td>1</td>\n",
              "      <td>Propiedad</td>\n",
              "      <td>1000000</td>\n",
              "    </tr>\n",
              "    <tr>\n",
              "      <th>start_date</th>\n",
              "      <td>1000000</td>\n",
              "      <td>362</td>\n",
              "      <td>2020-10-02</td>\n",
              "      <td>25159</td>\n",
              "    </tr>\n",
              "    <tr>\n",
              "      <th>end_date</th>\n",
              "      <td>1000000</td>\n",
              "      <td>450</td>\n",
              "      <td>9999-12-31</td>\n",
              "      <td>208960</td>\n",
              "    </tr>\n",
              "    <tr>\n",
              "      <th>created_on</th>\n",
              "      <td>1000000</td>\n",
              "      <td>362</td>\n",
              "      <td>2020-10-02</td>\n",
              "      <td>25159</td>\n",
              "    </tr>\n",
              "    <tr>\n",
              "      <th>l1</th>\n",
              "      <td>1000000</td>\n",
              "      <td>4</td>\n",
              "      <td>Argentina</td>\n",
              "      <td>983115</td>\n",
              "    </tr>\n",
              "    <tr>\n",
              "      <th>l2</th>\n",
              "      <td>1000000</td>\n",
              "      <td>43</td>\n",
              "      <td>Capital Federal</td>\n",
              "      <td>265125</td>\n",
              "    </tr>\n",
              "    <tr>\n",
              "      <th>l3</th>\n",
              "      <td>965273</td>\n",
              "      <td>1367</td>\n",
              "      <td>Rosario</td>\n",
              "      <td>61746</td>\n",
              "    </tr>\n",
              "    <tr>\n",
              "      <th>l4</th>\n",
              "      <td>306162</td>\n",
              "      <td>1070</td>\n",
              "      <td>Nordelta</td>\n",
              "      <td>19479</td>\n",
              "    </tr>\n",
              "    <tr>\n",
              "      <th>l5</th>\n",
              "      <td>5530</td>\n",
              "      <td>21</td>\n",
              "      <td>BarrioPortezuelo</td>\n",
              "      <td>735</td>\n",
              "    </tr>\n",
              "    <tr>\n",
              "      <th>currency</th>\n",
              "      <td>955491</td>\n",
              "      <td>5</td>\n",
              "      <td>USD</td>\n",
              "      <td>738157</td>\n",
              "    </tr>\n",
              "    <tr>\n",
              "      <th>price_period</th>\n",
              "      <td>429870</td>\n",
              "      <td>3</td>\n",
              "      <td>Mensual</td>\n",
              "      <td>429842</td>\n",
              "    </tr>\n",
              "    <tr>\n",
              "      <th>title</th>\n",
              "      <td>999999</td>\n",
              "      <td>548833</td>\n",
              "      <td>casa-venta</td>\n",
              "      <td>3338</td>\n",
              "    </tr>\n",
              "    <tr>\n",
              "      <th>description</th>\n",
              "      <td>999958</td>\n",
              "      <td>817449</td>\n",
              "      <td>Departamento en Alquiler de 1 dorm. en Cordoba</td>\n",
              "      <td>1980</td>\n",
              "    </tr>\n",
              "    <tr>\n",
              "      <th>property_type</th>\n",
              "      <td>1000000</td>\n",
              "      <td>10</td>\n",
              "      <td>Departamento</td>\n",
              "      <td>457907</td>\n",
              "    </tr>\n",
              "    <tr>\n",
              "      <th>operation_type</th>\n",
              "      <td>1000000</td>\n",
              "      <td>3</td>\n",
              "      <td>Venta</td>\n",
              "      <td>750831</td>\n",
              "    </tr>\n",
              "  </tbody>\n",
              "</table>\n",
              "</div>\n",
              "      <button class=\"colab-df-convert\" onclick=\"convertToInteractive('df-0656169a-c3c5-4509-9ef6-316fc813fe9c')\"\n",
              "              title=\"Convert this dataframe to an interactive table.\"\n",
              "              style=\"display:none;\">\n",
              "        \n",
              "  <svg xmlns=\"http://www.w3.org/2000/svg\" height=\"24px\"viewBox=\"0 0 24 24\"\n",
              "       width=\"24px\">\n",
              "    <path d=\"M0 0h24v24H0V0z\" fill=\"none\"/>\n",
              "    <path d=\"M18.56 5.44l.94 2.06.94-2.06 2.06-.94-2.06-.94-.94-2.06-.94 2.06-2.06.94zm-11 1L8.5 8.5l.94-2.06 2.06-.94-2.06-.94L8.5 2.5l-.94 2.06-2.06.94zm10 10l.94 2.06.94-2.06 2.06-.94-2.06-.94-.94-2.06-.94 2.06-2.06.94z\"/><path d=\"M17.41 7.96l-1.37-1.37c-.4-.4-.92-.59-1.43-.59-.52 0-1.04.2-1.43.59L10.3 9.45l-7.72 7.72c-.78.78-.78 2.05 0 2.83L4 21.41c.39.39.9.59 1.41.59.51 0 1.02-.2 1.41-.59l7.78-7.78 2.81-2.81c.8-.78.8-2.07 0-2.86zM5.41 20L4 18.59l7.72-7.72 1.47 1.35L5.41 20z\"/>\n",
              "  </svg>\n",
              "      </button>\n",
              "      \n",
              "  <style>\n",
              "    .colab-df-container {\n",
              "      display:flex;\n",
              "      flex-wrap:wrap;\n",
              "      gap: 12px;\n",
              "    }\n",
              "\n",
              "    .colab-df-convert {\n",
              "      background-color: #E8F0FE;\n",
              "      border: none;\n",
              "      border-radius: 50%;\n",
              "      cursor: pointer;\n",
              "      display: none;\n",
              "      fill: #1967D2;\n",
              "      height: 32px;\n",
              "      padding: 0 0 0 0;\n",
              "      width: 32px;\n",
              "    }\n",
              "\n",
              "    .colab-df-convert:hover {\n",
              "      background-color: #E2EBFA;\n",
              "      box-shadow: 0px 1px 2px rgba(60, 64, 67, 0.3), 0px 1px 3px 1px rgba(60, 64, 67, 0.15);\n",
              "      fill: #174EA6;\n",
              "    }\n",
              "\n",
              "    [theme=dark] .colab-df-convert {\n",
              "      background-color: #3B4455;\n",
              "      fill: #D2E3FC;\n",
              "    }\n",
              "\n",
              "    [theme=dark] .colab-df-convert:hover {\n",
              "      background-color: #434B5C;\n",
              "      box-shadow: 0px 1px 3px 1px rgba(0, 0, 0, 0.15);\n",
              "      filter: drop-shadow(0px 1px 2px rgba(0, 0, 0, 0.3));\n",
              "      fill: #FFFFFF;\n",
              "    }\n",
              "  </style>\n",
              "\n",
              "      <script>\n",
              "        const buttonEl =\n",
              "          document.querySelector('#df-0656169a-c3c5-4509-9ef6-316fc813fe9c button.colab-df-convert');\n",
              "        buttonEl.style.display =\n",
              "          google.colab.kernel.accessAllowed ? 'block' : 'none';\n",
              "\n",
              "        async function convertToInteractive(key) {\n",
              "          const element = document.querySelector('#df-0656169a-c3c5-4509-9ef6-316fc813fe9c');\n",
              "          const dataTable =\n",
              "            await google.colab.kernel.invokeFunction('convertToInteractive',\n",
              "                                                     [key], {});\n",
              "          if (!dataTable) return;\n",
              "\n",
              "          const docLinkHtml = 'Like what you see? Visit the ' +\n",
              "            '<a target=\"_blank\" href=https://colab.research.google.com/notebooks/data_table.ipynb>data table notebook</a>'\n",
              "            + ' to learn more about interactive tables.';\n",
              "          element.innerHTML = '';\n",
              "          dataTable['output_type'] = 'display_data';\n",
              "          await google.colab.output.renderOutput(dataTable, element);\n",
              "          const docLink = document.createElement('div');\n",
              "          docLink.innerHTML = docLinkHtml;\n",
              "          element.appendChild(docLink);\n",
              "        }\n",
              "      </script>\n",
              "    </div>\n",
              "  </div>\n",
              "  "
            ]
          },
          "metadata": {},
          "execution_count": 25
        }
      ]
    },
    {
      "cell_type": "markdown",
      "source": [
        "***Ver si existen valores nulos***"
      ],
      "metadata": {
        "id": "WD0CC_fe16mq"
      },
      "id": "WD0CC_fe16mq"
    },
    {
      "cell_type": "code",
      "source": [
        "prop.isnull().sum().sort_values(ascending = False)"
      ],
      "metadata": {
        "id": "arE6F23o2AY8",
        "colab": {
          "base_uri": "https://localhost:8080/"
        },
        "outputId": "8a1bace6-b771-404b-ae54-113bc61d7dbd"
      },
      "id": "arE6F23o2AY8",
      "execution_count": 26,
      "outputs": [
        {
          "output_type": "execute_result",
          "data": {
            "text/plain": [
              "l6                 1000000\n",
              "l5                  994470\n",
              "l4                  693838\n",
              "price_period        570130\n",
              "surface_total       522169\n",
              "surface_covered     512244\n",
              "bedrooms            350067\n",
              "rooms               285821\n",
              "bathrooms           234878\n",
              "lon                 105809\n",
              "lat                 105767\n",
              "currency             44509\n",
              "price                41757\n",
              "l3                   34727\n",
              "description             42\n",
              "title                    1\n",
              "property_type            0\n",
              "id                       0\n",
              "ad_type                  0\n",
              "l2                       0\n",
              "l1                       0\n",
              "created_on               0\n",
              "end_date                 0\n",
              "start_date               0\n",
              "operation_type           0\n",
              "dtype: int64"
            ]
          },
          "metadata": {},
          "execution_count": 26
        }
      ]
    },
    {
      "cell_type": "markdown",
      "source": [
        "***Ver si existen valores duplicados***"
      ],
      "metadata": {
        "id": "8TTCzbtq2A45"
      },
      "id": "8TTCzbtq2A45"
    },
    {
      "cell_type": "code",
      "source": [
        "prop.duplicated().sum()"
      ],
      "metadata": {
        "id": "tDliPtfl2EhG",
        "colab": {
          "base_uri": "https://localhost:8080/"
        },
        "outputId": "1e9a62f5-c7f7-4923-b849-fa0b8bcd5c00"
      },
      "id": "tDliPtfl2EhG",
      "execution_count": 27,
      "outputs": [
        {
          "output_type": "execute_result",
          "data": {
            "text/plain": [
              "0"
            ]
          },
          "metadata": {},
          "execution_count": 27
        }
      ]
    },
    {
      "cell_type": "markdown",
      "source": [
        "**PUNTO DE REVISIÓN**\n",
        "\n",
        "***Antes de empezar con la limpieza de los datos el dataframe tiene $1000000$ filas y $25$ columnas...***"
      ],
      "metadata": {
        "id": "cvE5m4MfNHqn"
      },
      "id": "cvE5m4MfNHqn"
    },
    {
      "cell_type": "markdown",
      "source": [
        "## ⚡ <font color=\"RoyalBlue\">**Limpieza de los Datos**"
      ],
      "metadata": {
        "id": "CHx_L_R11kcs"
      },
      "id": "CHx_L_R11kcs"
    },
    {
      "cell_type": "markdown",
      "id": "ce7d6dcd",
      "metadata": {
        "id": "ce7d6dcd"
      },
      "source": [
        "***Ver si los nombres de las columnas tienen algun espacio oculto que nos dificulte al tratar de invocarlas, si encontras espacios ocultos, entonces se debe eliminar esos espacios ocultos.***"
      ]
    },
    {
      "cell_type": "code",
      "execution_count": 28,
      "id": "03cb2d98",
      "metadata": {
        "id": "03cb2d98",
        "colab": {
          "base_uri": "https://localhost:8080/"
        },
        "outputId": "e7411acb-f3c6-42aa-de2e-258584a134a7"
      },
      "outputs": [
        {
          "output_type": "execute_result",
          "data": {
            "text/plain": [
              "Index(['id', 'ad_type', 'start_date', 'end_date', 'created_on', 'lat', 'lon',\n",
              "       'l1', 'l2', 'l3', 'l4', 'l5', 'l6', 'rooms', 'bedrooms', 'bathrooms',\n",
              "       'surface_total', 'surface_covered', 'price', 'currency', 'price_period',\n",
              "       'title', 'description', 'property_type', 'operation_type'],\n",
              "      dtype='object')"
            ]
          },
          "metadata": {},
          "execution_count": 28
        }
      ],
      "source": [
        "prop.columns"
      ]
    },
    {
      "cell_type": "markdown",
      "id": "42978649",
      "metadata": {
        "id": "42978649"
      },
      "source": [
        "***Ver los nulos que hay en el dataframe, en forma de porcentaje para cada columna, ordenado del mayor al menor...***"
      ]
    },
    {
      "cell_type": "code",
      "execution_count": 29,
      "id": "0338d1f5",
      "metadata": {
        "id": "0338d1f5",
        "colab": {
          "base_uri": "https://localhost:8080/"
        },
        "outputId": "11ab49bd-1b43-493b-bfc7-796faf4c2dce"
      },
      "outputs": [
        {
          "output_type": "execute_result",
          "data": {
            "text/plain": [
              "l6                 100.00\n",
              "l5                  99.45\n",
              "l4                  69.38\n",
              "price_period        57.01\n",
              "surface_total       52.22\n",
              "surface_covered     51.22\n",
              "bedrooms            35.01\n",
              "rooms               28.58\n",
              "bathrooms           23.49\n",
              "lat                 10.58\n",
              "lon                 10.58\n",
              "currency             4.45\n",
              "price                4.18\n",
              "l3                   3.47\n",
              "title                0.00\n",
              "description          0.00\n",
              "property_type        0.00\n",
              "id                   0.00\n",
              "ad_type              0.00\n",
              "l2                   0.00\n",
              "l1                   0.00\n",
              "created_on           0.00\n",
              "end_date             0.00\n",
              "start_date           0.00\n",
              "operation_type       0.00\n",
              "dtype: float64"
            ]
          },
          "metadata": {},
          "execution_count": 29
        }
      ],
      "source": [
        "round((prop.isna().sum()*100/prop.shape[0]),2).sort_values(ascending = False)"
      ]
    },
    {
      "cell_type": "markdown",
      "id": "c0f5c3ed",
      "metadata": {
        "id": "c0f5c3ed"
      },
      "source": [
        "***Eliminar columnas que tengan mas del $30$% de nulos (nans), luego de este paso deberian quedar $18$ columnas si lo hiciste bien...***"
      ]
    },
    {
      "cell_type": "code",
      "execution_count": 30,
      "id": "4bce93ff",
      "metadata": {
        "id": "4bce93ff",
        "colab": {
          "base_uri": "https://localhost:8080/"
        },
        "outputId": "f739ff60-9385-4fc2-9336-70322294e058"
      },
      "outputs": [
        {
          "output_type": "execute_result",
          "data": {
            "text/plain": [
              "(1000000, 25)"
            ]
          },
          "metadata": {},
          "execution_count": 30
        }
      ],
      "source": [
        "prop.shape"
      ]
    },
    {
      "cell_type": "code",
      "source": [
        "prop.dropna(axis = 1, inplace = True, thresh = (1000000 * 0.7))"
      ],
      "metadata": {
        "id": "vGxhRnoJKJ8e"
      },
      "id": "vGxhRnoJKJ8e",
      "execution_count": 31,
      "outputs": []
    },
    {
      "cell_type": "code",
      "source": [
        "prop.shape"
      ],
      "metadata": {
        "colab": {
          "base_uri": "https://localhost:8080/"
        },
        "id": "YFJWtdfOKc3Q",
        "outputId": "f698afc2-2f1a-4dc1-ad71-aaa13f8d277c"
      },
      "id": "YFJWtdfOKc3Q",
      "execution_count": 32,
      "outputs": [
        {
          "output_type": "execute_result",
          "data": {
            "text/plain": [
              "(1000000, 18)"
            ]
          },
          "metadata": {},
          "execution_count": 32
        }
      ]
    },
    {
      "cell_type": "markdown",
      "source": [
        "<font color=\"RoyalBlue\"> 🔵 **PUNTO DE REVISIÓN**\n",
        "\n",
        "***A esta altura el dataframe tiene $1000000$ filas y $18$ columnas...***"
      ],
      "metadata": {
        "id": "cNQhKZIcOY5s"
      },
      "id": "cNQhKZIcOY5s"
    },
    {
      "cell_type": "code",
      "source": [
        "round((prop.isna().sum()*100/prop.shape[0]),2).sort_values(ascending = False)"
      ],
      "metadata": {
        "colab": {
          "base_uri": "https://localhost:8080/"
        },
        "id": "hRmYswHxQmP5",
        "outputId": "a42e19d0-5143-4192-8a1d-e08718472f82"
      },
      "id": "hRmYswHxQmP5",
      "execution_count": 33,
      "outputs": [
        {
          "output_type": "execute_result",
          "data": {
            "text/plain": [
              "rooms             28.58\n",
              "bathrooms         23.49\n",
              "lat               10.58\n",
              "lon               10.58\n",
              "currency           4.45\n",
              "price              4.18\n",
              "l3                 3.47\n",
              "property_type      0.00\n",
              "description        0.00\n",
              "title              0.00\n",
              "id                 0.00\n",
              "ad_type            0.00\n",
              "l2                 0.00\n",
              "l1                 0.00\n",
              "created_on         0.00\n",
              "end_date           0.00\n",
              "start_date         0.00\n",
              "operation_type     0.00\n",
              "dtype: float64"
            ]
          },
          "metadata": {},
          "execution_count": 33
        }
      ]
    },
    {
      "cell_type": "markdown",
      "id": "080fb4a6",
      "metadata": {
        "id": "080fb4a6"
      },
      "source": [
        "***Quedarse con solo los registros que tienen un $90$% de sus celdas libres de nulos (nans), luego de este paso deberia quedarte $922772$ registros.***"
      ]
    },
    {
      "cell_type": "code",
      "source": [
        "prop.dropna(axis = 0, inplace = True, thresh = int(18 * 0.9))"
      ],
      "metadata": {
        "id": "B8YEa7eCjHr-"
      },
      "id": "B8YEa7eCjHr-",
      "execution_count": 34,
      "outputs": []
    },
    {
      "cell_type": "code",
      "source": [
        "prop.shape"
      ],
      "metadata": {
        "colab": {
          "base_uri": "https://localhost:8080/"
        },
        "id": "-1ex4iUKOI33",
        "outputId": "eb7042a8-1018-4b29-fa00-7919c4bb5b07"
      },
      "id": "-1ex4iUKOI33",
      "execution_count": 35,
      "outputs": [
        {
          "output_type": "execute_result",
          "data": {
            "text/plain": [
              "(922772, 18)"
            ]
          },
          "metadata": {},
          "execution_count": 35
        }
      ]
    },
    {
      "cell_type": "markdown",
      "source": [
        "<font color=\"RoyalBlue\"> 🔵 **PUNTO DE REVISIÓN**\n",
        "\n",
        "***A esta altura el dataframe tiene $922772$ filas y $18$ columnas...***"
      ],
      "metadata": {
        "id": "QTIkHtOgOqL5"
      },
      "id": "QTIkHtOgOqL5"
    },
    {
      "cell_type": "markdown",
      "id": "586f9ec0",
      "metadata": {
        "id": "586f9ec0"
      },
      "source": [
        "***El analisis se realizará sobre el *AMBA*, eliminar todo lo que no sea parte del mismo. Luego de este paso deberian quedarte $617747$ registros...***"
      ]
    },
    {
      "cell_type": "code",
      "source": [
        "prop.l2.unique()"
      ],
      "metadata": {
        "colab": {
          "base_uri": "https://localhost:8080/"
        },
        "id": "TsTKVIaZn_8I",
        "outputId": "97a16b59-9076-4024-ea78-bed3f2c8964f"
      },
      "id": "TsTKVIaZn_8I",
      "execution_count": 36,
      "outputs": [
        {
          "output_type": "execute_result",
          "data": {
            "text/plain": [
              "array(['Entre Ríos', 'Misiones', 'Santa Fe', 'Bs.As. G.B.A. Zona Oeste',\n",
              "       'Bs.As. G.B.A. Zona Norte', 'Tucumán',\n",
              "       'Buenos Aires Costa Atlántica', 'Chubut', 'Capital Federal',\n",
              "       'Córdoba', 'Buenos Aires Interior', 'Bs.As. G.B.A. Zona Sur',\n",
              "       'San Luis', 'Neuquén', 'Colonia', 'Río Negro', 'Montevideo',\n",
              "       'Maldonado', 'Mendoza', 'Corrientes', 'Salta', 'Florida',\n",
              "       'Tierra Del Fuego', 'Chaco', 'Santa Cruz', 'La Pampa', 'Catamarca',\n",
              "       'Canelones', 'Santiago Del Estero', 'San Juan', 'Miami', 'Jujuy',\n",
              "       'Michigan', 'São Paulo', 'La Rioja', 'Rocha', 'Santa Catarina',\n",
              "       'Pennsylvania', 'Rio Grande do Norte', 'Maryland', 'Formosa',\n",
              "       'Rio de Janeiro', 'California'], dtype=object)"
            ]
          },
          "metadata": {},
          "execution_count": 36
        }
      ]
    },
    {
      "cell_type": "code",
      "source": [
        "prop = prop[(prop.l2 == \"Bs.As. G.B.A. Zona Oeste\") | \n",
        "            (prop.l2 == \"Bs.As. G.B.A. Zona Norte\") |\n",
        "            (prop.l2 == \"Bs.As. G.B.A. Zona Sur\") |\n",
        "            (prop.l2 == \"Capital Federal\")]"
      ],
      "metadata": {
        "id": "4PElUCwinjw5"
      },
      "id": "4PElUCwinjw5",
      "execution_count": 37,
      "outputs": []
    },
    {
      "cell_type": "code",
      "source": [
        "prop.shape"
      ],
      "metadata": {
        "colab": {
          "base_uri": "https://localhost:8080/"
        },
        "id": "NdbMat21nrMH",
        "outputId": "87cb0441-2138-42ae-dba1-0adb0fa6bf55"
      },
      "id": "NdbMat21nrMH",
      "execution_count": 38,
      "outputs": [
        {
          "output_type": "execute_result",
          "data": {
            "text/plain": [
              "(617747, 18)"
            ]
          },
          "metadata": {},
          "execution_count": 38
        }
      ]
    },
    {
      "cell_type": "markdown",
      "source": [
        "<font color=\"RoyalBlue\"> 🔵 **PUNTO DE REVISIÓN**\n",
        "\n",
        "\n",
        "***A esta altura el dataframe tiene $617747$ filas y $18$ columnas...***"
      ],
      "metadata": {
        "id": "Z-kUHCp9Pmpx"
      },
      "id": "Z-kUHCp9Pmpx"
    },
    {
      "cell_type": "markdown",
      "id": "586fa634",
      "metadata": {
        "id": "586fa634"
      },
      "source": [
        "***Chequear la columna l1 que representa al pais, deberia existir solo un valor: Argentina. Si hay otros valores eliminarlos...***"
      ]
    },
    {
      "cell_type": "code",
      "execution_count": 39,
      "id": "30f98095",
      "metadata": {
        "id": "30f98095",
        "colab": {
          "base_uri": "https://localhost:8080/"
        },
        "outputId": "94ccc540-3ac0-4d76-bc62-2604fc7c7e08"
      },
      "outputs": [
        {
          "output_type": "execute_result",
          "data": {
            "text/plain": [
              "array(['Argentina'], dtype=object)"
            ]
          },
          "metadata": {},
          "execution_count": 39
        }
      ],
      "source": [
        "prop.l1.unique()"
      ]
    },
    {
      "cell_type": "code",
      "source": [
        "prop.l1.value_counts()"
      ],
      "metadata": {
        "colab": {
          "base_uri": "https://localhost:8080/"
        },
        "id": "CFARlKLioaqt",
        "outputId": "065dfcfe-5e16-4469-b177-d80f5ab13c07"
      },
      "id": "CFARlKLioaqt",
      "execution_count": 40,
      "outputs": [
        {
          "output_type": "execute_result",
          "data": {
            "text/plain": [
              "Argentina    617747\n",
              "Name: l1, dtype: int64"
            ]
          },
          "metadata": {},
          "execution_count": 40
        }
      ]
    },
    {
      "cell_type": "markdown",
      "id": "9858fa35",
      "metadata": {
        "id": "9858fa35"
      },
      "source": [
        "***Los registros que tienen el mismo id son de la misma propiedad pero actualizado, quedarse con el mas actualizado, los demas eliminarlos.***"
      ]
    },
    {
      "cell_type": "code",
      "execution_count": 41,
      "id": "64fa819c",
      "metadata": {
        "id": "64fa819c",
        "colab": {
          "base_uri": "https://localhost:8080/"
        },
        "outputId": "04acfac4-6a09-4623-e9d9-7f8181608ad0"
      },
      "outputs": [
        {
          "output_type": "execute_result",
          "data": {
            "text/plain": [
              "count                       617747\n",
              "unique                      617747\n",
              "top       6TO5dWwmivuJ67zkztUzCA==\n",
              "freq                             1\n",
              "Name: id, dtype: object"
            ]
          },
          "metadata": {},
          "execution_count": 41
        }
      ],
      "source": [
        "prop.id.describe()"
      ]
    },
    {
      "cell_type": "code",
      "source": [
        "prop.id.duplicated().sum()"
      ],
      "metadata": {
        "colab": {
          "base_uri": "https://localhost:8080/"
        },
        "id": "_tHfJtloo_IA",
        "outputId": "93b2e548-7fbe-4a3e-e7fd-a6a0ae269285"
      },
      "id": "_tHfJtloo_IA",
      "execution_count": 42,
      "outputs": [
        {
          "output_type": "execute_result",
          "data": {
            "text/plain": [
              "0"
            ]
          },
          "metadata": {},
          "execution_count": 42
        }
      ]
    },
    {
      "cell_type": "markdown",
      "id": "7c5da49a",
      "metadata": {
        "id": "7c5da49a"
      },
      "source": [
        "***Eliminar las columnas:***\n",
        "\n",
        "- **id** porque ya sabemos que todos los registros son diferentes y no vamos a usar esta columna para identificarlos.\n",
        "- **l1** porque solo tiene un valor: Argentina. No aporta informacion a los datos.\n",
        "- **description** y **title** porque no contamos con herramientas de NLP para volverlas informacion para visualizar o modelizar.\n"
      ]
    },
    {
      "cell_type": "code",
      "execution_count": 43,
      "id": "84b38892",
      "metadata": {
        "id": "84b38892",
        "colab": {
          "base_uri": "https://localhost:8080/"
        },
        "outputId": "5ca461a2-7932-4331-b485-a8b933f78f17"
      },
      "outputs": [
        {
          "output_type": "execute_result",
          "data": {
            "text/plain": [
              "Index(['id', 'ad_type', 'start_date', 'end_date', 'created_on', 'lat', 'lon',\n",
              "       'l1', 'l2', 'l3', 'rooms', 'bathrooms', 'price', 'currency', 'title',\n",
              "       'description', 'property_type', 'operation_type'],\n",
              "      dtype='object')"
            ]
          },
          "metadata": {},
          "execution_count": 43
        }
      ],
      "source": [
        "prop.columns"
      ]
    },
    {
      "cell_type": "code",
      "source": [
        "prop.shape"
      ],
      "metadata": {
        "colab": {
          "base_uri": "https://localhost:8080/"
        },
        "id": "C9CdP3M5q2Qe",
        "outputId": "600badff-850a-494a-dcff-2b63036e9977"
      },
      "id": "C9CdP3M5q2Qe",
      "execution_count": 44,
      "outputs": [
        {
          "output_type": "execute_result",
          "data": {
            "text/plain": [
              "(617747, 18)"
            ]
          },
          "metadata": {},
          "execution_count": 44
        }
      ]
    },
    {
      "cell_type": "code",
      "source": [
        "prop = prop.drop(columns=[\"id\",\"l1\",\"description\",\"title\"])"
      ],
      "metadata": {
        "id": "9JBQyFq0pakB"
      },
      "id": "9JBQyFq0pakB",
      "execution_count": 45,
      "outputs": []
    },
    {
      "cell_type": "code",
      "source": [
        "prop.columns"
      ],
      "metadata": {
        "colab": {
          "base_uri": "https://localhost:8080/"
        },
        "id": "uInOJiMCqq2y",
        "outputId": "9547cc3e-a9ed-4467-e0c3-bf2e17ff4eec"
      },
      "id": "uInOJiMCqq2y",
      "execution_count": 46,
      "outputs": [
        {
          "output_type": "execute_result",
          "data": {
            "text/plain": [
              "Index(['ad_type', 'start_date', 'end_date', 'created_on', 'lat', 'lon', 'l2',\n",
              "       'l3', 'rooms', 'bathrooms', 'price', 'currency', 'property_type',\n",
              "       'operation_type'],\n",
              "      dtype='object')"
            ]
          },
          "metadata": {},
          "execution_count": 46
        }
      ]
    },
    {
      "cell_type": "code",
      "source": [
        "prop.shape"
      ],
      "metadata": {
        "colab": {
          "base_uri": "https://localhost:8080/"
        },
        "id": "eJ-pLWaXq4Kv",
        "outputId": "0c513cd8-ca16-4954-c679-653cd184bca1"
      },
      "id": "eJ-pLWaXq4Kv",
      "execution_count": 47,
      "outputs": [
        {
          "output_type": "execute_result",
          "data": {
            "text/plain": [
              "(617747, 14)"
            ]
          },
          "metadata": {},
          "execution_count": 47
        }
      ]
    },
    {
      "cell_type": "markdown",
      "source": [
        "<font color=\"RoyalBlue\"> 🔵 **PUNTO DE REVISIÓN**\n",
        "\n",
        "***A esta altura el dataframe tiene $617747$ filas y $14$ columnas...***"
      ],
      "metadata": {
        "id": "rnXjc4ndT4gx"
      },
      "id": "rnXjc4ndT4gx"
    },
    {
      "cell_type": "markdown",
      "id": "8bcb9fdf",
      "metadata": {
        "id": "8bcb9fdf"
      },
      "source": [
        "***Ver los primeros registros del dataframe...***"
      ]
    },
    {
      "cell_type": "code",
      "execution_count": 48,
      "id": "b6211ff9",
      "metadata": {
        "id": "b6211ff9",
        "colab": {
          "base_uri": "https://localhost:8080/",
          "height": 496
        },
        "outputId": "37af7632-7816-4ed2-caf8-a657b9ec2bce"
      },
      "outputs": [
        {
          "output_type": "execute_result",
          "data": {
            "text/plain": [
              "      ad_type  start_date    end_date  created_on        lat        lon  \\\n",
              "6   Propiedad  2020-08-22  2020-09-04  2020-08-22 -34.604195 -58.559827   \n",
              "10  Propiedad  2020-08-22  2020-08-25  2020-08-22 -34.439610 -58.629968   \n",
              "16  Propiedad  2020-08-22  2020-09-04  2020-08-22 -34.633053 -58.419906   \n",
              "17  Propiedad  2020-08-22  2020-09-04  2020-08-22 -34.397401 -58.649185   \n",
              "18  Propiedad  2020-08-22  2020-09-04  2020-08-22 -34.397401 -58.649185   \n",
              "\n",
              "                          l2               l3  rooms  bathrooms    price  \\\n",
              "6   Bs.As. G.B.A. Zona Oeste  Tres de Febrero    2.0        1.0      NaN   \n",
              "10  Bs.As. G.B.A. Zona Norte            Tigre    4.0        4.0      NaN   \n",
              "16           Capital Federal            Boedo    NaN        NaN  70000.0   \n",
              "17  Bs.As. G.B.A. Zona Norte            Tigre    NaN        2.0  35000.0   \n",
              "18  Bs.As. G.B.A. Zona Norte            Tigre    NaN        2.0  27000.0   \n",
              "\n",
              "   currency property_type     operation_type  \n",
              "6       NaN  Departamento           Alquiler  \n",
              "10      NaN          Casa  Alquiler temporal  \n",
              "16      ARS       Oficina           Alquiler  \n",
              "17      ARS       Oficina           Alquiler  \n",
              "18      ARS       Oficina           Alquiler  "
            ],
            "text/html": [
              "\n",
              "  <div id=\"df-ee357e2a-5160-45ca-8bd5-8434207e5f45\">\n",
              "    <div class=\"colab-df-container\">\n",
              "      <div>\n",
              "<style scoped>\n",
              "    .dataframe tbody tr th:only-of-type {\n",
              "        vertical-align: middle;\n",
              "    }\n",
              "\n",
              "    .dataframe tbody tr th {\n",
              "        vertical-align: top;\n",
              "    }\n",
              "\n",
              "    .dataframe thead th {\n",
              "        text-align: right;\n",
              "    }\n",
              "</style>\n",
              "<table border=\"1\" class=\"dataframe\">\n",
              "  <thead>\n",
              "    <tr style=\"text-align: right;\">\n",
              "      <th></th>\n",
              "      <th>ad_type</th>\n",
              "      <th>start_date</th>\n",
              "      <th>end_date</th>\n",
              "      <th>created_on</th>\n",
              "      <th>lat</th>\n",
              "      <th>lon</th>\n",
              "      <th>l2</th>\n",
              "      <th>l3</th>\n",
              "      <th>rooms</th>\n",
              "      <th>bathrooms</th>\n",
              "      <th>price</th>\n",
              "      <th>currency</th>\n",
              "      <th>property_type</th>\n",
              "      <th>operation_type</th>\n",
              "    </tr>\n",
              "  </thead>\n",
              "  <tbody>\n",
              "    <tr>\n",
              "      <th>6</th>\n",
              "      <td>Propiedad</td>\n",
              "      <td>2020-08-22</td>\n",
              "      <td>2020-09-04</td>\n",
              "      <td>2020-08-22</td>\n",
              "      <td>-34.604195</td>\n",
              "      <td>-58.559827</td>\n",
              "      <td>Bs.As. G.B.A. Zona Oeste</td>\n",
              "      <td>Tres de Febrero</td>\n",
              "      <td>2.0</td>\n",
              "      <td>1.0</td>\n",
              "      <td>NaN</td>\n",
              "      <td>NaN</td>\n",
              "      <td>Departamento</td>\n",
              "      <td>Alquiler</td>\n",
              "    </tr>\n",
              "    <tr>\n",
              "      <th>10</th>\n",
              "      <td>Propiedad</td>\n",
              "      <td>2020-08-22</td>\n",
              "      <td>2020-08-25</td>\n",
              "      <td>2020-08-22</td>\n",
              "      <td>-34.439610</td>\n",
              "      <td>-58.629968</td>\n",
              "      <td>Bs.As. G.B.A. Zona Norte</td>\n",
              "      <td>Tigre</td>\n",
              "      <td>4.0</td>\n",
              "      <td>4.0</td>\n",
              "      <td>NaN</td>\n",
              "      <td>NaN</td>\n",
              "      <td>Casa</td>\n",
              "      <td>Alquiler temporal</td>\n",
              "    </tr>\n",
              "    <tr>\n",
              "      <th>16</th>\n",
              "      <td>Propiedad</td>\n",
              "      <td>2020-08-22</td>\n",
              "      <td>2020-09-04</td>\n",
              "      <td>2020-08-22</td>\n",
              "      <td>-34.633053</td>\n",
              "      <td>-58.419906</td>\n",
              "      <td>Capital Federal</td>\n",
              "      <td>Boedo</td>\n",
              "      <td>NaN</td>\n",
              "      <td>NaN</td>\n",
              "      <td>70000.0</td>\n",
              "      <td>ARS</td>\n",
              "      <td>Oficina</td>\n",
              "      <td>Alquiler</td>\n",
              "    </tr>\n",
              "    <tr>\n",
              "      <th>17</th>\n",
              "      <td>Propiedad</td>\n",
              "      <td>2020-08-22</td>\n",
              "      <td>2020-09-04</td>\n",
              "      <td>2020-08-22</td>\n",
              "      <td>-34.397401</td>\n",
              "      <td>-58.649185</td>\n",
              "      <td>Bs.As. G.B.A. Zona Norte</td>\n",
              "      <td>Tigre</td>\n",
              "      <td>NaN</td>\n",
              "      <td>2.0</td>\n",
              "      <td>35000.0</td>\n",
              "      <td>ARS</td>\n",
              "      <td>Oficina</td>\n",
              "      <td>Alquiler</td>\n",
              "    </tr>\n",
              "    <tr>\n",
              "      <th>18</th>\n",
              "      <td>Propiedad</td>\n",
              "      <td>2020-08-22</td>\n",
              "      <td>2020-09-04</td>\n",
              "      <td>2020-08-22</td>\n",
              "      <td>-34.397401</td>\n",
              "      <td>-58.649185</td>\n",
              "      <td>Bs.As. G.B.A. Zona Norte</td>\n",
              "      <td>Tigre</td>\n",
              "      <td>NaN</td>\n",
              "      <td>2.0</td>\n",
              "      <td>27000.0</td>\n",
              "      <td>ARS</td>\n",
              "      <td>Oficina</td>\n",
              "      <td>Alquiler</td>\n",
              "    </tr>\n",
              "  </tbody>\n",
              "</table>\n",
              "</div>\n",
              "      <button class=\"colab-df-convert\" onclick=\"convertToInteractive('df-ee357e2a-5160-45ca-8bd5-8434207e5f45')\"\n",
              "              title=\"Convert this dataframe to an interactive table.\"\n",
              "              style=\"display:none;\">\n",
              "        \n",
              "  <svg xmlns=\"http://www.w3.org/2000/svg\" height=\"24px\"viewBox=\"0 0 24 24\"\n",
              "       width=\"24px\">\n",
              "    <path d=\"M0 0h24v24H0V0z\" fill=\"none\"/>\n",
              "    <path d=\"M18.56 5.44l.94 2.06.94-2.06 2.06-.94-2.06-.94-.94-2.06-.94 2.06-2.06.94zm-11 1L8.5 8.5l.94-2.06 2.06-.94-2.06-.94L8.5 2.5l-.94 2.06-2.06.94zm10 10l.94 2.06.94-2.06 2.06-.94-2.06-.94-.94-2.06-.94 2.06-2.06.94z\"/><path d=\"M17.41 7.96l-1.37-1.37c-.4-.4-.92-.59-1.43-.59-.52 0-1.04.2-1.43.59L10.3 9.45l-7.72 7.72c-.78.78-.78 2.05 0 2.83L4 21.41c.39.39.9.59 1.41.59.51 0 1.02-.2 1.41-.59l7.78-7.78 2.81-2.81c.8-.78.8-2.07 0-2.86zM5.41 20L4 18.59l7.72-7.72 1.47 1.35L5.41 20z\"/>\n",
              "  </svg>\n",
              "      </button>\n",
              "      \n",
              "  <style>\n",
              "    .colab-df-container {\n",
              "      display:flex;\n",
              "      flex-wrap:wrap;\n",
              "      gap: 12px;\n",
              "    }\n",
              "\n",
              "    .colab-df-convert {\n",
              "      background-color: #E8F0FE;\n",
              "      border: none;\n",
              "      border-radius: 50%;\n",
              "      cursor: pointer;\n",
              "      display: none;\n",
              "      fill: #1967D2;\n",
              "      height: 32px;\n",
              "      padding: 0 0 0 0;\n",
              "      width: 32px;\n",
              "    }\n",
              "\n",
              "    .colab-df-convert:hover {\n",
              "      background-color: #E2EBFA;\n",
              "      box-shadow: 0px 1px 2px rgba(60, 64, 67, 0.3), 0px 1px 3px 1px rgba(60, 64, 67, 0.15);\n",
              "      fill: #174EA6;\n",
              "    }\n",
              "\n",
              "    [theme=dark] .colab-df-convert {\n",
              "      background-color: #3B4455;\n",
              "      fill: #D2E3FC;\n",
              "    }\n",
              "\n",
              "    [theme=dark] .colab-df-convert:hover {\n",
              "      background-color: #434B5C;\n",
              "      box-shadow: 0px 1px 3px 1px rgba(0, 0, 0, 0.15);\n",
              "      filter: drop-shadow(0px 1px 2px rgba(0, 0, 0, 0.3));\n",
              "      fill: #FFFFFF;\n",
              "    }\n",
              "  </style>\n",
              "\n",
              "      <script>\n",
              "        const buttonEl =\n",
              "          document.querySelector('#df-ee357e2a-5160-45ca-8bd5-8434207e5f45 button.colab-df-convert');\n",
              "        buttonEl.style.display =\n",
              "          google.colab.kernel.accessAllowed ? 'block' : 'none';\n",
              "\n",
              "        async function convertToInteractive(key) {\n",
              "          const element = document.querySelector('#df-ee357e2a-5160-45ca-8bd5-8434207e5f45');\n",
              "          const dataTable =\n",
              "            await google.colab.kernel.invokeFunction('convertToInteractive',\n",
              "                                                     [key], {});\n",
              "          if (!dataTable) return;\n",
              "\n",
              "          const docLinkHtml = 'Like what you see? Visit the ' +\n",
              "            '<a target=\"_blank\" href=https://colab.research.google.com/notebooks/data_table.ipynb>data table notebook</a>'\n",
              "            + ' to learn more about interactive tables.';\n",
              "          element.innerHTML = '';\n",
              "          dataTable['output_type'] = 'display_data';\n",
              "          await google.colab.output.renderOutput(dataTable, element);\n",
              "          const docLink = document.createElement('div');\n",
              "          docLink.innerHTML = docLinkHtml;\n",
              "          element.appendChild(docLink);\n",
              "        }\n",
              "      </script>\n",
              "    </div>\n",
              "  </div>\n",
              "  "
            ]
          },
          "metadata": {},
          "execution_count": 48
        }
      ],
      "source": [
        "prop.head()"
      ]
    },
    {
      "cell_type": "markdown",
      "id": "e415e0d3",
      "metadata": {
        "id": "e415e0d3"
      },
      "source": [
        "***Sospechamos que las columnas ```start_date``` y ```created_on``` en este caso tienen los mismos valores, chequearlo, si son iguales eliminar la columna ```created_on```...***"
      ]
    },
    {
      "cell_type": "code",
      "source": [
        "prop.columns"
      ],
      "metadata": {
        "colab": {
          "base_uri": "https://localhost:8080/"
        },
        "id": "ZXPjuuIGsdOI",
        "outputId": "3a22079f-b2bd-451c-b164-994a9edea49e"
      },
      "id": "ZXPjuuIGsdOI",
      "execution_count": 49,
      "outputs": [
        {
          "output_type": "execute_result",
          "data": {
            "text/plain": [
              "Index(['ad_type', 'start_date', 'end_date', 'created_on', 'lat', 'lon', 'l2',\n",
              "       'l3', 'rooms', 'bathrooms', 'price', 'currency', 'property_type',\n",
              "       'operation_type'],\n",
              "      dtype='object')"
            ]
          },
          "metadata": {},
          "execution_count": 49
        }
      ]
    },
    {
      "cell_type": "code",
      "source": [
        "prop.shape"
      ],
      "metadata": {
        "colab": {
          "base_uri": "https://localhost:8080/"
        },
        "id": "6gbVOW9nsjS-",
        "outputId": "ae3b1af3-32ba-4f35-8f14-e2be269e1267"
      },
      "id": "6gbVOW9nsjS-",
      "execution_count": 50,
      "outputs": [
        {
          "output_type": "execute_result",
          "data": {
            "text/plain": [
              "(617747, 14)"
            ]
          },
          "metadata": {},
          "execution_count": 50
        }
      ]
    },
    {
      "cell_type": "code",
      "execution_count": 51,
      "id": "69cf434a",
      "metadata": {
        "id": "69cf434a",
        "colab": {
          "base_uri": "https://localhost:8080/"
        },
        "outputId": "dfc08950-4da1-45b3-9fe2-fc46278264bb"
      },
      "outputs": [
        {
          "output_type": "execute_result",
          "data": {
            "text/plain": [
              "617747"
            ]
          },
          "metadata": {},
          "execution_count": 51
        }
      ],
      "source": [
        "(prop.loc[:,'start_date'] == prop.loc[:,'created_on']).sum()"
      ]
    },
    {
      "cell_type": "code",
      "source": [
        "prop = prop.drop(columns=[\"created_on\"])"
      ],
      "metadata": {
        "id": "WvM_mUe5stqh"
      },
      "id": "WvM_mUe5stqh",
      "execution_count": 52,
      "outputs": []
    },
    {
      "cell_type": "code",
      "source": [
        "prop.shape"
      ],
      "metadata": {
        "colab": {
          "base_uri": "https://localhost:8080/"
        },
        "id": "IzKdpjuFs3S4",
        "outputId": "8d99f50f-b47b-4143-f60e-1aafd61d31f7"
      },
      "id": "IzKdpjuFs3S4",
      "execution_count": 53,
      "outputs": [
        {
          "output_type": "execute_result",
          "data": {
            "text/plain": [
              "(617747, 13)"
            ]
          },
          "metadata": {},
          "execution_count": 53
        }
      ]
    },
    {
      "cell_type": "markdown",
      "id": "5ee883c0",
      "metadata": {
        "id": "5ee883c0"
      },
      "source": [
        "***Si hiciste todo bien para este momento deberias tener un dataframe de $(617747, 13)$***\n",
        "\n",
        "***Ver los primeros registros del dataframe...***"
      ]
    },
    {
      "cell_type": "markdown",
      "source": [
        "<font color=\"RoyalBlue\"> 🔵 **PUNTO DE REVISIÓN**\n",
        "\n",
        "***A esta altura el dataframe tiene $617747$ filas y $13$ columnas...***"
      ],
      "metadata": {
        "id": "DjuQ9XoXUq2E"
      },
      "id": "DjuQ9XoXUq2E"
    },
    {
      "cell_type": "code",
      "execution_count": 54,
      "id": "05c51f05",
      "metadata": {
        "id": "05c51f05",
        "colab": {
          "base_uri": "https://localhost:8080/",
          "height": 406
        },
        "outputId": "c22e47aa-fa49-46e9-c101-af513f62d277"
      },
      "outputs": [
        {
          "output_type": "execute_result",
          "data": {
            "text/plain": [
              "      ad_type  start_date    end_date        lat        lon  \\\n",
              "6   Propiedad  2020-08-22  2020-09-04 -34.604195 -58.559827   \n",
              "10  Propiedad  2020-08-22  2020-08-25 -34.439610 -58.629968   \n",
              "16  Propiedad  2020-08-22  2020-09-04 -34.633053 -58.419906   \n",
              "17  Propiedad  2020-08-22  2020-09-04 -34.397401 -58.649185   \n",
              "18  Propiedad  2020-08-22  2020-09-04 -34.397401 -58.649185   \n",
              "\n",
              "                          l2               l3  rooms  bathrooms    price  \\\n",
              "6   Bs.As. G.B.A. Zona Oeste  Tres de Febrero    2.0        1.0      NaN   \n",
              "10  Bs.As. G.B.A. Zona Norte            Tigre    4.0        4.0      NaN   \n",
              "16           Capital Federal            Boedo    NaN        NaN  70000.0   \n",
              "17  Bs.As. G.B.A. Zona Norte            Tigre    NaN        2.0  35000.0   \n",
              "18  Bs.As. G.B.A. Zona Norte            Tigre    NaN        2.0  27000.0   \n",
              "\n",
              "   currency property_type     operation_type  \n",
              "6       NaN  Departamento           Alquiler  \n",
              "10      NaN          Casa  Alquiler temporal  \n",
              "16      ARS       Oficina           Alquiler  \n",
              "17      ARS       Oficina           Alquiler  \n",
              "18      ARS       Oficina           Alquiler  "
            ],
            "text/html": [
              "\n",
              "  <div id=\"df-ec20e17a-3280-43fb-b366-6cc80ca6be58\">\n",
              "    <div class=\"colab-df-container\">\n",
              "      <div>\n",
              "<style scoped>\n",
              "    .dataframe tbody tr th:only-of-type {\n",
              "        vertical-align: middle;\n",
              "    }\n",
              "\n",
              "    .dataframe tbody tr th {\n",
              "        vertical-align: top;\n",
              "    }\n",
              "\n",
              "    .dataframe thead th {\n",
              "        text-align: right;\n",
              "    }\n",
              "</style>\n",
              "<table border=\"1\" class=\"dataframe\">\n",
              "  <thead>\n",
              "    <tr style=\"text-align: right;\">\n",
              "      <th></th>\n",
              "      <th>ad_type</th>\n",
              "      <th>start_date</th>\n",
              "      <th>end_date</th>\n",
              "      <th>lat</th>\n",
              "      <th>lon</th>\n",
              "      <th>l2</th>\n",
              "      <th>l3</th>\n",
              "      <th>rooms</th>\n",
              "      <th>bathrooms</th>\n",
              "      <th>price</th>\n",
              "      <th>currency</th>\n",
              "      <th>property_type</th>\n",
              "      <th>operation_type</th>\n",
              "    </tr>\n",
              "  </thead>\n",
              "  <tbody>\n",
              "    <tr>\n",
              "      <th>6</th>\n",
              "      <td>Propiedad</td>\n",
              "      <td>2020-08-22</td>\n",
              "      <td>2020-09-04</td>\n",
              "      <td>-34.604195</td>\n",
              "      <td>-58.559827</td>\n",
              "      <td>Bs.As. G.B.A. Zona Oeste</td>\n",
              "      <td>Tres de Febrero</td>\n",
              "      <td>2.0</td>\n",
              "      <td>1.0</td>\n",
              "      <td>NaN</td>\n",
              "      <td>NaN</td>\n",
              "      <td>Departamento</td>\n",
              "      <td>Alquiler</td>\n",
              "    </tr>\n",
              "    <tr>\n",
              "      <th>10</th>\n",
              "      <td>Propiedad</td>\n",
              "      <td>2020-08-22</td>\n",
              "      <td>2020-08-25</td>\n",
              "      <td>-34.439610</td>\n",
              "      <td>-58.629968</td>\n",
              "      <td>Bs.As. G.B.A. Zona Norte</td>\n",
              "      <td>Tigre</td>\n",
              "      <td>4.0</td>\n",
              "      <td>4.0</td>\n",
              "      <td>NaN</td>\n",
              "      <td>NaN</td>\n",
              "      <td>Casa</td>\n",
              "      <td>Alquiler temporal</td>\n",
              "    </tr>\n",
              "    <tr>\n",
              "      <th>16</th>\n",
              "      <td>Propiedad</td>\n",
              "      <td>2020-08-22</td>\n",
              "      <td>2020-09-04</td>\n",
              "      <td>-34.633053</td>\n",
              "      <td>-58.419906</td>\n",
              "      <td>Capital Federal</td>\n",
              "      <td>Boedo</td>\n",
              "      <td>NaN</td>\n",
              "      <td>NaN</td>\n",
              "      <td>70000.0</td>\n",
              "      <td>ARS</td>\n",
              "      <td>Oficina</td>\n",
              "      <td>Alquiler</td>\n",
              "    </tr>\n",
              "    <tr>\n",
              "      <th>17</th>\n",
              "      <td>Propiedad</td>\n",
              "      <td>2020-08-22</td>\n",
              "      <td>2020-09-04</td>\n",
              "      <td>-34.397401</td>\n",
              "      <td>-58.649185</td>\n",
              "      <td>Bs.As. G.B.A. Zona Norte</td>\n",
              "      <td>Tigre</td>\n",
              "      <td>NaN</td>\n",
              "      <td>2.0</td>\n",
              "      <td>35000.0</td>\n",
              "      <td>ARS</td>\n",
              "      <td>Oficina</td>\n",
              "      <td>Alquiler</td>\n",
              "    </tr>\n",
              "    <tr>\n",
              "      <th>18</th>\n",
              "      <td>Propiedad</td>\n",
              "      <td>2020-08-22</td>\n",
              "      <td>2020-09-04</td>\n",
              "      <td>-34.397401</td>\n",
              "      <td>-58.649185</td>\n",
              "      <td>Bs.As. G.B.A. Zona Norte</td>\n",
              "      <td>Tigre</td>\n",
              "      <td>NaN</td>\n",
              "      <td>2.0</td>\n",
              "      <td>27000.0</td>\n",
              "      <td>ARS</td>\n",
              "      <td>Oficina</td>\n",
              "      <td>Alquiler</td>\n",
              "    </tr>\n",
              "  </tbody>\n",
              "</table>\n",
              "</div>\n",
              "      <button class=\"colab-df-convert\" onclick=\"convertToInteractive('df-ec20e17a-3280-43fb-b366-6cc80ca6be58')\"\n",
              "              title=\"Convert this dataframe to an interactive table.\"\n",
              "              style=\"display:none;\">\n",
              "        \n",
              "  <svg xmlns=\"http://www.w3.org/2000/svg\" height=\"24px\"viewBox=\"0 0 24 24\"\n",
              "       width=\"24px\">\n",
              "    <path d=\"M0 0h24v24H0V0z\" fill=\"none\"/>\n",
              "    <path d=\"M18.56 5.44l.94 2.06.94-2.06 2.06-.94-2.06-.94-.94-2.06-.94 2.06-2.06.94zm-11 1L8.5 8.5l.94-2.06 2.06-.94-2.06-.94L8.5 2.5l-.94 2.06-2.06.94zm10 10l.94 2.06.94-2.06 2.06-.94-2.06-.94-.94-2.06-.94 2.06-2.06.94z\"/><path d=\"M17.41 7.96l-1.37-1.37c-.4-.4-.92-.59-1.43-.59-.52 0-1.04.2-1.43.59L10.3 9.45l-7.72 7.72c-.78.78-.78 2.05 0 2.83L4 21.41c.39.39.9.59 1.41.59.51 0 1.02-.2 1.41-.59l7.78-7.78 2.81-2.81c.8-.78.8-2.07 0-2.86zM5.41 20L4 18.59l7.72-7.72 1.47 1.35L5.41 20z\"/>\n",
              "  </svg>\n",
              "      </button>\n",
              "      \n",
              "  <style>\n",
              "    .colab-df-container {\n",
              "      display:flex;\n",
              "      flex-wrap:wrap;\n",
              "      gap: 12px;\n",
              "    }\n",
              "\n",
              "    .colab-df-convert {\n",
              "      background-color: #E8F0FE;\n",
              "      border: none;\n",
              "      border-radius: 50%;\n",
              "      cursor: pointer;\n",
              "      display: none;\n",
              "      fill: #1967D2;\n",
              "      height: 32px;\n",
              "      padding: 0 0 0 0;\n",
              "      width: 32px;\n",
              "    }\n",
              "\n",
              "    .colab-df-convert:hover {\n",
              "      background-color: #E2EBFA;\n",
              "      box-shadow: 0px 1px 2px rgba(60, 64, 67, 0.3), 0px 1px 3px 1px rgba(60, 64, 67, 0.15);\n",
              "      fill: #174EA6;\n",
              "    }\n",
              "\n",
              "    [theme=dark] .colab-df-convert {\n",
              "      background-color: #3B4455;\n",
              "      fill: #D2E3FC;\n",
              "    }\n",
              "\n",
              "    [theme=dark] .colab-df-convert:hover {\n",
              "      background-color: #434B5C;\n",
              "      box-shadow: 0px 1px 3px 1px rgba(0, 0, 0, 0.15);\n",
              "      filter: drop-shadow(0px 1px 2px rgba(0, 0, 0, 0.3));\n",
              "      fill: #FFFFFF;\n",
              "    }\n",
              "  </style>\n",
              "\n",
              "      <script>\n",
              "        const buttonEl =\n",
              "          document.querySelector('#df-ec20e17a-3280-43fb-b366-6cc80ca6be58 button.colab-df-convert');\n",
              "        buttonEl.style.display =\n",
              "          google.colab.kernel.accessAllowed ? 'block' : 'none';\n",
              "\n",
              "        async function convertToInteractive(key) {\n",
              "          const element = document.querySelector('#df-ec20e17a-3280-43fb-b366-6cc80ca6be58');\n",
              "          const dataTable =\n",
              "            await google.colab.kernel.invokeFunction('convertToInteractive',\n",
              "                                                     [key], {});\n",
              "          if (!dataTable) return;\n",
              "\n",
              "          const docLinkHtml = 'Like what you see? Visit the ' +\n",
              "            '<a target=\"_blank\" href=https://colab.research.google.com/notebooks/data_table.ipynb>data table notebook</a>'\n",
              "            + ' to learn more about interactive tables.';\n",
              "          element.innerHTML = '';\n",
              "          dataTable['output_type'] = 'display_data';\n",
              "          await google.colab.output.renderOutput(dataTable, element);\n",
              "          const docLink = document.createElement('div');\n",
              "          docLink.innerHTML = docLinkHtml;\n",
              "          element.appendChild(docLink);\n",
              "        }\n",
              "      </script>\n",
              "    </div>\n",
              "  </div>\n",
              "  "
            ]
          },
          "metadata": {},
          "execution_count": 54
        }
      ],
      "source": [
        "prop.head()"
      ]
    },
    {
      "cell_type": "markdown",
      "id": "7e53fc57",
      "metadata": {
        "id": "7e53fc57"
      },
      "source": [
        "***Vamos a analizar la columna ```ad_type```, que tipos de datos unicos tiene, si solo tiene un tipo de dato categorico eliminarla porque no aporta información....***"
      ]
    },
    {
      "cell_type": "code",
      "source": [
        "prop.shape"
      ],
      "metadata": {
        "colab": {
          "base_uri": "https://localhost:8080/"
        },
        "id": "pWj5x42vtH1-",
        "outputId": "e76fa7f3-81fd-44cf-f1e5-041efb76e349"
      },
      "id": "pWj5x42vtH1-",
      "execution_count": 55,
      "outputs": [
        {
          "output_type": "execute_result",
          "data": {
            "text/plain": [
              "(617747, 13)"
            ]
          },
          "metadata": {},
          "execution_count": 55
        }
      ]
    },
    {
      "cell_type": "code",
      "execution_count": 56,
      "id": "b30193f1",
      "metadata": {
        "id": "b30193f1",
        "colab": {
          "base_uri": "https://localhost:8080/"
        },
        "outputId": "7887850e-ad62-497e-8d4c-3450281d6902"
      },
      "outputs": [
        {
          "output_type": "execute_result",
          "data": {
            "text/plain": [
              "Propiedad    617747\n",
              "Name: ad_type, dtype: int64"
            ]
          },
          "metadata": {},
          "execution_count": 56
        }
      ],
      "source": [
        "prop.ad_type.value_counts()"
      ]
    },
    {
      "cell_type": "code",
      "source": [
        "prop = prop.drop(columns=[\"ad_type\"])"
      ],
      "metadata": {
        "id": "SCTVjfgVtLan"
      },
      "id": "SCTVjfgVtLan",
      "execution_count": 57,
      "outputs": []
    },
    {
      "cell_type": "code",
      "source": [
        "prop.shape"
      ],
      "metadata": {
        "colab": {
          "base_uri": "https://localhost:8080/"
        },
        "id": "Qe13fPpjtk-o",
        "outputId": "77793514-6801-443f-f821-7a7db1ec7d15"
      },
      "id": "Qe13fPpjtk-o",
      "execution_count": 58,
      "outputs": [
        {
          "output_type": "execute_result",
          "data": {
            "text/plain": [
              "(617747, 12)"
            ]
          },
          "metadata": {},
          "execution_count": 58
        }
      ]
    },
    {
      "cell_type": "markdown",
      "source": [
        "<font color=\"RoyalBlue\"> 🔵 **PUNTO DE REVISIÓN**\n",
        "\n",
        "***A esta altura el dataframe tiene $617747$ filas y $12$ columnas...***"
      ],
      "metadata": {
        "id": "wzs_sGihVTTF"
      },
      "id": "wzs_sGihVTTF"
    },
    {
      "cell_type": "markdown",
      "source": [
        "### AMBA"
      ],
      "metadata": {
        "id": "M6R22zoEFaru"
      },
      "id": "M6R22zoEFaru"
    },
    {
      "cell_type": "markdown",
      "id": "2c3843a6",
      "metadata": {
        "id": "2c3843a6"
      },
      "source": [
        "***Vamos a analizar la columna l3, para eso primero vamos a filtrar solo los lugares que pertenecen al AMBA, los cuales son:***\n",
        "    \n",
        "```python\n",
        "municipios = ['Ciudad Autónoma de Buenos Aires', 'Almirante Brown', 'Avellaneda', 'Berazategui', 'Esteban Echeverría', 'Ezeiza', 'Florencio Varela', 'General San Martín', 'Hurlingham', 'Ituzaingó', 'José C. Paz', 'La Matanza', 'Lanús', 'Lomas de Zamora', 'Malvinas Argentinas', 'Merlo', 'Moreno', 'Morón', 'Quilmes', 'San Fernando', 'San Isidro', 'San Miguel', 'Tigre', 'Tres de Febrero', 'Vicente López']\n",
        "```\n",
        "\n",
        "***No vamos a directamente filtrar por los que esten en esta lista, porque no nos fiamos de los datos y tal vez hay alguno que simplemente en el dataset esta escrito de otra forma, por eso primero vamos a ver los registros cuya columna l3 no pertenece a la lista de municipios...***"
      ]
    },
    {
      "cell_type": "code",
      "execution_count": 59,
      "id": "5696666a",
      "metadata": {
        "id": "5696666a"
      },
      "outputs": [],
      "source": [
        "municipios = ['Ciudad Autónoma de Buenos Aires', 'Almirante Brown', 'Avellaneda', 'Berazategui', 'Esteban Echeverría', 'Ezeiza', 'Florencio Varela', 'General San Martín', 'Hurlingham', 'Ituzaingó', 'José C. Paz', 'La Matanza', 'Lanús', 'Lomas de Zamora', 'Malvinas Argentinas', 'Merlo', 'Moreno', 'Morón', 'Quilmes', 'San Fernando', 'San Isidro', 'San Miguel', 'Tigre', 'Tres de Febrero', 'Vicente López']"
      ]
    },
    {
      "cell_type": "code",
      "source": [
        "prop.loc[~(prop.l3.isin(municipios))].l3.unique()"
      ],
      "metadata": {
        "colab": {
          "base_uri": "https://localhost:8080/"
        },
        "id": "76xpRDeiHsQy",
        "outputId": "f0ff3246-6d49-439c-9cc4-2d9c50361090"
      },
      "id": "76xpRDeiHsQy",
      "execution_count": 60,
      "outputs": [
        {
          "output_type": "execute_result",
          "data": {
            "text/plain": [
              "array(['Boedo', 'Recoleta', 'Balvanera', 'San Nicolás',\n",
              "       'General Rodríguez', 'Almagro', 'Palermo', 'Belgrano', 'La Plata',\n",
              "       'San Cristobal', 'Barrio Norte', 'Constitución', 'Retiro',\n",
              "       'Catalinas', 'Monserrat', 'Tribunales', 'Once', 'Caballito',\n",
              "       'Villa Urquiza', 'Escobar', 'Pilar', 'Nuñez', 'Puerto Madero',\n",
              "       'Floresta', 'Saavedra', 'Chacarita', 'Villa Crespo',\n",
              "       'Villa Pueyrredón', 'Flores', 'Coghlan', 'Congreso',\n",
              "       'Villa Devoto', 'Barracas', 'Colegiales', 'Villa del Parque',\n",
              "       'San Vicente', 'José C Paz', 'Centro / Microcentro', 'San Telmo',\n",
              "       'Monte Castro', 'Villa General Mitre', 'Parque Chacabuco', nan,\n",
              "       'Abasto', 'Marcos Paz', 'Parque Chas', 'Villa Santa Rita',\n",
              "       'Villa Lugano', 'Liniers', 'Mataderos', 'Las Cañitas', 'Paternal',\n",
              "       'Villa Luro', 'Parque Patricios', 'Presidente Perón', 'Agronomía',\n",
              "       'Villa Ortuzar', 'Villa Soldati', 'Parque Centenario', 'Cañuelas',\n",
              "       'Parque Avellaneda', 'Pompeya', 'Boca', 'Villa Real', 'Versalles',\n",
              "       'Velez Sarsfield', 'Villa Riachuelo'], dtype=object)"
            ]
          },
          "metadata": {},
          "execution_count": 60
        }
      ]
    },
    {
      "cell_type": "markdown",
      "id": "af314747",
      "metadata": {
        "id": "af314747"
      },
      "source": [
        "***Sacar de la seleccion anterior los que pertenecen a Capital Federal y los valores NaN, luego ver cuales son los valores unicos de l3 para ver si queda alguno que pertenece a los municipios pero se escribio con alguna diferencia...***"
      ]
    },
    {
      "cell_type": "code",
      "source": [
        "capital_federal = list(prop[(prop.l2 == \"Capital Federal\")].l3.unique())"
      ],
      "metadata": {
        "id": "LYMD7-tNNdpD"
      },
      "id": "LYMD7-tNNdpD",
      "execution_count": 61,
      "outputs": []
    },
    {
      "cell_type": "code",
      "source": [
        "prop.loc[~(prop.l3.isin(capital_federal))].l3.unique()"
      ],
      "metadata": {
        "colab": {
          "base_uri": "https://localhost:8080/"
        },
        "id": "_FpPJRaeNA8S",
        "outputId": "2fab520f-943e-46bb-d05f-9ad51d1a3431"
      },
      "id": "_FpPJRaeNA8S",
      "execution_count": 62,
      "outputs": [
        {
          "output_type": "execute_result",
          "data": {
            "text/plain": [
              "array(['Tres de Febrero', 'Tigre', 'General Rodríguez', 'La Plata',\n",
              "       'Vicente López', 'Lanús', 'Ituzaingó', 'Ezeiza', 'San Miguel',\n",
              "       'Lomas de Zamora', 'La Matanza', 'Merlo', 'Escobar', 'Pilar',\n",
              "       'San Isidro', 'Moreno', 'Morón', 'Avellaneda', 'Almirante Brown',\n",
              "       'Esteban Echeverría', 'Quilmes', 'Hurlingham', 'San Fernando',\n",
              "       'General San Martín', 'San Vicente', 'Malvinas Argentinas',\n",
              "       'José C Paz', 'Berazategui', 'Marcos Paz', 'Florencio Varela',\n",
              "       'Presidente Perón', 'Cañuelas'], dtype=object)"
            ]
          },
          "metadata": {},
          "execution_count": 62
        }
      ]
    },
    {
      "cell_type": "markdown",
      "id": "4dcd6099",
      "metadata": {
        "id": "4dcd6099"
      },
      "source": [
        "***Vemos que hay un municipio que se escribio de forma diferente y lo hubiesemos eliminado, teniendo en cuenta esto eliminar todos los registros que no pertenezcan al AMBA, ojo: no eliminar los que tengan valor NaN***"
      ]
    },
    {
      "cell_type": "code",
      "execution_count": 64,
      "id": "81d816ef",
      "metadata": {
        "id": "81d816ef"
      },
      "outputs": [],
      "source": [
        "ambant = ['General Rodríguez',\n",
        " 'La Plata',\n",
        " 'Escobar',\n",
        " 'Pilar',\n",
        " 'San Vicente',\n",
        " 'Marcos Paz',\n",
        " 'Presidente Perón',\n",
        " 'Cañuelas']"
      ]
    },
    {
      "cell_type": "code",
      "execution_count": 65,
      "id": "f4d7be63",
      "metadata": {
        "id": "f4d7be63"
      },
      "outputs": [],
      "source": [
        "prop = prop[(prop.l3 != \"General Rodríguez\") &\n",
        "            (prop.l3 != \"La Plata\") &\n",
        "            (prop.l3 != \"Escobar\") &\n",
        "            (prop.l3 != \"Pilar\") &\n",
        "            (prop.l3 != \"San Vicente\") &\n",
        "            (prop.l3 != \"Marcos Paz\") &\n",
        "            (prop.l3 != \"Presidente Perón\") &\n",
        "            (prop.l3 != \"Cañuelas\")]"
      ]
    },
    {
      "cell_type": "code",
      "source": [
        "prop.shape"
      ],
      "metadata": {
        "colab": {
          "base_uri": "https://localhost:8080/"
        },
        "id": "a5DD305oXvCW",
        "outputId": "e9e69175-1cc9-4fe8-8304-8beb1fa04481"
      },
      "id": "a5DD305oXvCW",
      "execution_count": 66,
      "outputs": [
        {
          "output_type": "execute_result",
          "data": {
            "text/plain": [
              "(528442, 12)"
            ]
          },
          "metadata": {},
          "execution_count": 66
        }
      ]
    },
    {
      "cell_type": "markdown",
      "id": "1abef239",
      "metadata": {
        "id": "1abef239"
      },
      "source": [
        "***Para este paso deberias tener 528442 rows × 12 columns...***"
      ]
    },
    {
      "cell_type": "markdown",
      "source": [
        "<font color=\"RoyalBlue\"> 🔵 **PUNTO DE REVISIÓN**\n",
        "\n",
        "***A esta altura el dataframe tiene $528442$ filas y $12$ columnas...***"
      ],
      "metadata": {
        "id": "17cuBMfzXyOW"
      },
      "id": "17cuBMfzXyOW"
    },
    {
      "cell_type": "markdown",
      "source": [
        "### <font color=\"RoyalBlue\"> **Latitud y longitud**"
      ],
      "metadata": {
        "id": "uzxsAsS8F6zJ"
      },
      "id": "uzxsAsS8F6zJ"
    },
    {
      "cell_type": "markdown",
      "id": "3d20ff22",
      "metadata": {
        "id": "3d20ff22"
      },
      "source": [
        "***Vamos a analizar la calidad de los datos en las columnas de lat y lon. Buscaremos posibles outliers o datos incorrectos, para eso calcula para ambas columnas: el promedio, el maximo y el minimo...***"
      ]
    },
    {
      "cell_type": "code",
      "execution_count": 67,
      "id": "116fa060",
      "metadata": {
        "id": "116fa060",
        "colab": {
          "base_uri": "https://localhost:8080/"
        },
        "outputId": "d43a3516-08d7-491d-cb51-0e1817b8f7ae"
      },
      "outputs": [
        {
          "output_type": "execute_result",
          "data": {
            "text/plain": [
              "count    500380.00\n",
              "mean        -34.60\n",
              "std           0.43\n",
              "min         -53.79\n",
              "25%         -34.65\n",
              "50%         -34.60\n",
              "75%         -34.56\n",
              "max          42.43\n",
              "Name: lat, dtype: float64"
            ]
          },
          "metadata": {},
          "execution_count": 67
        }
      ],
      "source": [
        "round(prop.lat.describe(),2)"
      ]
    },
    {
      "cell_type": "code",
      "source": [
        "round(prop.lon.describe(),2)"
      ],
      "metadata": {
        "colab": {
          "base_uri": "https://localhost:8080/"
        },
        "id": "0MZ7IHCWZR0R",
        "outputId": "b073959c-3787-4559-8910-6468167d78c9"
      },
      "id": "0MZ7IHCWZR0R",
      "execution_count": 68,
      "outputs": [
        {
          "output_type": "execute_result",
          "data": {
            "text/plain": [
              "count    500341.00\n",
              "mean        -58.49\n",
              "std           0.45\n",
              "min        -122.46\n",
              "25%         -58.55\n",
              "50%         -58.46\n",
              "75%         -58.40\n",
              "max          58.70\n",
              "Name: lon, dtype: float64"
            ]
          },
          "metadata": {},
          "execution_count": 68
        }
      ]
    },
    {
      "cell_type": "markdown",
      "id": "87f32a7b",
      "metadata": {
        "id": "87f32a7b"
      },
      "source": [
        "***Evidentemente hay ciertos puntos que son incorrectos, sus coordenadas caen fuera del AMBA. Para eso buscamos cuales son los valores frontera para la latitud y longitud en el AMBA.***\n",
        "\n",
        "***Estimamos un segmentos de latitudes de [-35, -34] y longitudes de [-59 a -58]***\n",
        "\n",
        "***Eliminar todo lo que este fuera de esos rangos (no eliminar valores NaN)***"
      ]
    },
    {
      "cell_type": "code",
      "execution_count": 69,
      "id": "16ed77a5",
      "metadata": {
        "id": "16ed77a5"
      },
      "outputs": [],
      "source": [
        "prop = prop[prop.lat.between(-35, -34) & prop.lon.between(-59, -58)]"
      ]
    },
    {
      "cell_type": "code",
      "source": [
        "prop.shape"
      ],
      "metadata": {
        "colab": {
          "base_uri": "https://localhost:8080/"
        },
        "id": "Z4p6xrN-sptf",
        "outputId": "a336f2d2-a02a-42f6-da9f-87c1fccb92bc"
      },
      "id": "Z4p6xrN-sptf",
      "execution_count": 70,
      "outputs": [
        {
          "output_type": "execute_result",
          "data": {
            "text/plain": [
              "(499739, 12)"
            ]
          },
          "metadata": {},
          "execution_count": 70
        }
      ]
    },
    {
      "cell_type": "markdown",
      "source": [
        "<font color=\"RoyalBlue\"> 🔵 **PUNTO DE REVISIÓN**\n",
        "\n",
        "***A esta altura el dataframe tiene $499739$ filas y $12$ columnas...***"
      ],
      "metadata": {
        "id": "NFiayaDdYiHH"
      },
      "id": "NFiayaDdYiHH"
    },
    {
      "cell_type": "markdown",
      "id": "13cd36db",
      "metadata": {
        "id": "13cd36db"
      },
      "source": [
        "***Volver a chequear estadisticos de lat y lon para ver si ya saque valores incorrectos...***"
      ]
    },
    {
      "cell_type": "code",
      "source": [
        "round(prop.lat.describe(),2)"
      ],
      "metadata": {
        "colab": {
          "base_uri": "https://localhost:8080/"
        },
        "id": "C_Y3wEftbybl",
        "outputId": "45dfce9b-8aed-463f-bf2d-3adfebc3aa8d"
      },
      "id": "C_Y3wEftbybl",
      "execution_count": 71,
      "outputs": [
        {
          "output_type": "execute_result",
          "data": {
            "text/plain": [
              "count    499739.00\n",
              "mean        -34.61\n",
              "std           0.10\n",
              "min         -34.99\n",
              "25%         -34.65\n",
              "50%         -34.60\n",
              "75%         -34.56\n",
              "max         -34.05\n",
              "Name: lat, dtype: float64"
            ]
          },
          "metadata": {},
          "execution_count": 71
        }
      ]
    },
    {
      "cell_type": "code",
      "source": [
        "round(prop.lon.describe(),2)"
      ],
      "metadata": {
        "colab": {
          "base_uri": "https://localhost:8080/"
        },
        "id": "FR80JjzAcD7G",
        "outputId": "0be42b39-06c9-4722-db3e-9dd5576b2fc6"
      },
      "id": "FR80JjzAcD7G",
      "execution_count": 72,
      "outputs": [
        {
          "output_type": "execute_result",
          "data": {
            "text/plain": [
              "count    499739.00\n",
              "mean        -58.48\n",
              "std           0.11\n",
              "min         -58.98\n",
              "25%         -58.55\n",
              "50%         -58.46\n",
              "75%         -58.40\n",
              "max         -58.02\n",
              "Name: lon, dtype: float64"
            ]
          },
          "metadata": {},
          "execution_count": 72
        }
      ]
    },
    {
      "cell_type": "markdown",
      "id": "9eba570e",
      "metadata": {
        "id": "9eba570e"
      },
      "source": [
        "***Eliminar los NaN de la columna l3***"
      ]
    },
    {
      "cell_type": "code",
      "execution_count": 73,
      "id": "ee1e510a",
      "metadata": {
        "id": "ee1e510a",
        "colab": {
          "base_uri": "https://localhost:8080/"
        },
        "outputId": "e609a6f6-af1b-47f4-e443-084db301378a"
      },
      "outputs": [
        {
          "output_type": "execute_result",
          "data": {
            "text/plain": [
              "rooms             96894\n",
              "bathrooms         76701\n",
              "currency           5251\n",
              "price              4694\n",
              "l3                  106\n",
              "start_date            0\n",
              "end_date              0\n",
              "lat                   0\n",
              "lon                   0\n",
              "l2                    0\n",
              "property_type         0\n",
              "operation_type        0\n",
              "dtype: int64"
            ]
          },
          "metadata": {},
          "execution_count": 73
        }
      ],
      "source": [
        "prop.isna().sum().sort_values(ascending = False)"
      ]
    },
    {
      "cell_type": "code",
      "source": [
        "round((prop.isna().sum()*100/prop.shape[0]),2).sort_values(ascending = False)"
      ],
      "metadata": {
        "colab": {
          "base_uri": "https://localhost:8080/"
        },
        "id": "m5-XDO8tdS75",
        "outputId": "5376f789-13eb-4c07-aabf-5f336d8d3ce1"
      },
      "id": "m5-XDO8tdS75",
      "execution_count": 74,
      "outputs": [
        {
          "output_type": "execute_result",
          "data": {
            "text/plain": [
              "rooms             19.39\n",
              "bathrooms         15.35\n",
              "currency           1.05\n",
              "price              0.94\n",
              "l3                 0.02\n",
              "start_date         0.00\n",
              "end_date           0.00\n",
              "lat                0.00\n",
              "lon                0.00\n",
              "l2                 0.00\n",
              "property_type      0.00\n",
              "operation_type     0.00\n",
              "dtype: float64"
            ]
          },
          "metadata": {},
          "execution_count": 74
        }
      ]
    },
    {
      "cell_type": "code",
      "source": [
        "prop.dropna(subset=[\"l3\"], inplace = True)"
      ],
      "metadata": {
        "id": "nHMevBamc0Zt"
      },
      "id": "nHMevBamc0Zt",
      "execution_count": 75,
      "outputs": []
    },
    {
      "cell_type": "code",
      "source": [
        "prop.shape"
      ],
      "metadata": {
        "colab": {
          "base_uri": "https://localhost:8080/"
        },
        "id": "rVl0BhhCtfVF",
        "outputId": "9a180ea3-b8f7-4ec9-c0aa-85ef83654f1a"
      },
      "id": "rVl0BhhCtfVF",
      "execution_count": 76,
      "outputs": [
        {
          "output_type": "execute_result",
          "data": {
            "text/plain": [
              "(499633, 12)"
            ]
          },
          "metadata": {},
          "execution_count": 76
        }
      ]
    },
    {
      "cell_type": "markdown",
      "source": [
        "<font color=\"RoyalBlue\"> 🔵 **PUNTO DE REVISIÓN**\n",
        "\n",
        "***A esta altura el dataframe tiene $499633$ filas y $12$ columnas...***"
      ],
      "metadata": {
        "id": "RLotELAfY0Jq"
      },
      "id": "RLotELAfY0Jq"
    },
    {
      "cell_type": "markdown",
      "id": "2f583013",
      "metadata": {
        "id": "2f583013"
      },
      "source": [
        "***Volvamos a ver el porcentaje de nulos de cada columna...***"
      ]
    },
    {
      "cell_type": "code",
      "execution_count": 77,
      "id": "0f2da68b",
      "metadata": {
        "id": "0f2da68b",
        "colab": {
          "base_uri": "https://localhost:8080/"
        },
        "outputId": "3fbbec8d-0d49-4d93-df3d-f58154563ce9"
      },
      "outputs": [
        {
          "output_type": "execute_result",
          "data": {
            "text/plain": [
              "rooms             19.39\n",
              "bathrooms         15.34\n",
              "currency           1.05\n",
              "price              0.94\n",
              "start_date         0.00\n",
              "end_date           0.00\n",
              "lat                0.00\n",
              "lon                0.00\n",
              "l2                 0.00\n",
              "l3                 0.00\n",
              "property_type      0.00\n",
              "operation_type     0.00\n",
              "dtype: float64"
            ]
          },
          "metadata": {},
          "execution_count": 77
        }
      ],
      "source": [
        "round((prop.isna().sum()*100/prop.shape[0]),2).sort_values(ascending = False)"
      ]
    },
    {
      "cell_type": "markdown",
      "id": "47fb5b49",
      "metadata": {
        "id": "47fb5b49"
      },
      "source": [
        "***Veamos los valores unicos de la columna ```property_type```***"
      ]
    },
    {
      "cell_type": "code",
      "execution_count": 78,
      "id": "044b4d81",
      "metadata": {
        "id": "044b4d81",
        "colab": {
          "base_uri": "https://localhost:8080/"
        },
        "outputId": "e76ff6c2-d724-4f9c-bdeb-a24da8b731da"
      },
      "outputs": [
        {
          "output_type": "execute_result",
          "data": {
            "text/plain": [
              "array(['Departamento', 'Casa', 'Oficina', 'Local comercial', 'Lote',\n",
              "       'Cochera', 'PH', 'Otro', 'Depósito', 'Casa de campo'], dtype=object)"
            ]
          },
          "metadata": {},
          "execution_count": 78
        }
      ],
      "source": [
        "prop.property_type.unique()"
      ]
    },
    {
      "cell_type": "markdown",
      "id": "661f9634",
      "metadata": {
        "id": "661f9634"
      },
      "source": [
        "***La columna se ve bien, hacemos lo mismo con ```operation_type```***"
      ]
    },
    {
      "cell_type": "code",
      "execution_count": 79,
      "id": "2ab77001",
      "metadata": {
        "id": "2ab77001",
        "colab": {
          "base_uri": "https://localhost:8080/"
        },
        "outputId": "7e89f774-85ad-41a9-8db2-27ee3596c9da"
      },
      "outputs": [
        {
          "output_type": "execute_result",
          "data": {
            "text/plain": [
              "array(['Alquiler', 'Alquiler temporal', 'Venta'], dtype=object)"
            ]
          },
          "metadata": {},
          "execution_count": 79
        }
      ],
      "source": [
        "prop.operation_type.unique()"
      ]
    },
    {
      "cell_type": "markdown",
      "id": "ad8b991b",
      "metadata": {
        "id": "ad8b991b"
      },
      "source": [
        "***La columna se ve bien. Nos quedan price, currency, bathrooms y rooms.***\n",
        "\n",
        "***Vamos a currency, veamos los valores unicos de esta columna...***"
      ]
    },
    {
      "cell_type": "code",
      "execution_count": 80,
      "id": "76faf2c0",
      "metadata": {
        "id": "76faf2c0",
        "colab": {
          "base_uri": "https://localhost:8080/"
        },
        "outputId": "24b65bdc-b6c1-4e2f-c108-a83bf1beff78"
      },
      "outputs": [
        {
          "output_type": "execute_result",
          "data": {
            "text/plain": [
              "array([nan, 'ARS', 'USD', 'COP'], dtype=object)"
            ]
          },
          "metadata": {},
          "execution_count": 80
        }
      ],
      "source": [
        "prop.currency.unique()"
      ]
    },
    {
      "cell_type": "markdown",
      "id": "22b47d75",
      "metadata": {
        "id": "22b47d75"
      },
      "source": [
        "***Tenemos el peso argentino, el dolar, el peso colombiano y NaN. Veamos los registros con NaN.***"
      ]
    },
    {
      "cell_type": "code",
      "execution_count": 81,
      "id": "afe4d858",
      "metadata": {
        "id": "afe4d858",
        "colab": {
          "base_uri": "https://localhost:8080/"
        },
        "outputId": "d833705d-0f42-41f9-e8c7-7c94d3c70c88"
      },
      "outputs": [
        {
          "output_type": "execute_result",
          "data": {
            "text/plain": [
              "array([nan], dtype=object)"
            ]
          },
          "metadata": {},
          "execution_count": 81
        }
      ],
      "source": [
        "prop[(prop.currency != \"ARS\") & (prop.currency != \"USD\") & (prop.currency != \"COP\")].currency.unique()"
      ]
    },
    {
      "cell_type": "markdown",
      "id": "1a699d94",
      "metadata": {
        "id": "1a699d94"
      },
      "source": [
        "***Vemos que la cantidad de NaN en esta columna es del $1$%, sin esta columna no podremos saber en que moneda esta el precio, por lo que tampoco sabremos el precio (el precio es la columna mas interesante de este dataset). Decidimos eliminar los registros con NaN de la columna currency.***"
      ]
    },
    {
      "cell_type": "code",
      "execution_count": 82,
      "id": "c73a4908",
      "metadata": {
        "id": "c73a4908"
      },
      "outputs": [],
      "source": [
        "prop.dropna(subset=[\"currency\"], inplace = True)"
      ]
    },
    {
      "cell_type": "code",
      "source": [
        "prop.currency.unique()"
      ],
      "metadata": {
        "colab": {
          "base_uri": "https://localhost:8080/"
        },
        "id": "CL0mm7dRHheQ",
        "outputId": "97f5ef7c-978b-4c70-8e3a-c449a8669412"
      },
      "id": "CL0mm7dRHheQ",
      "execution_count": null,
      "outputs": [
        {
          "output_type": "execute_result",
          "data": {
            "text/plain": [
              "array(['ARS', 'USD', 'COP'], dtype=object)"
            ]
          },
          "metadata": {},
          "execution_count": 67
        }
      ]
    },
    {
      "cell_type": "code",
      "source": [
        "prop.shape"
      ],
      "metadata": {
        "colab": {
          "base_uri": "https://localhost:8080/"
        },
        "id": "3d9oXgM3t3L7",
        "outputId": "8cd4a32f-c967-416b-c9a0-843dd6961d3c"
      },
      "id": "3d9oXgM3t3L7",
      "execution_count": 83,
      "outputs": [
        {
          "output_type": "execute_result",
          "data": {
            "text/plain": [
              "(494382, 12)"
            ]
          },
          "metadata": {},
          "execution_count": 83
        }
      ]
    },
    {
      "cell_type": "markdown",
      "source": [
        "<font color=\"RoyalBlue\"> 🔵 **PUNTO DE REVISIÓN**\n",
        "\n",
        "***A esta altura el dataframe tiene $494382$ filas y $12$ columnas...***"
      ],
      "metadata": {
        "id": "ZQKKVvKdZjnv"
      },
      "id": "ZQKKVvKdZjnv"
    },
    {
      "cell_type": "markdown",
      "id": "bebf4f8e",
      "metadata": {
        "id": "bebf4f8e"
      },
      "source": [
        "***Volver a analizar el porcentaje de NaN de cada columna.***"
      ]
    },
    {
      "cell_type": "code",
      "execution_count": 84,
      "id": "0095cc40",
      "metadata": {
        "scrolled": true,
        "id": "0095cc40",
        "colab": {
          "base_uri": "https://localhost:8080/"
        },
        "outputId": "8e49dc02-908e-43bb-c556-e36e95b52c75"
      },
      "outputs": [
        {
          "output_type": "execute_result",
          "data": {
            "text/plain": [
              "rooms             19.57\n",
              "bathrooms         15.49\n",
              "start_date         0.00\n",
              "end_date           0.00\n",
              "lat                0.00\n",
              "lon                0.00\n",
              "l2                 0.00\n",
              "l3                 0.00\n",
              "price              0.00\n",
              "currency           0.00\n",
              "property_type      0.00\n",
              "operation_type     0.00\n",
              "dtype: float64"
            ]
          },
          "metadata": {},
          "execution_count": 84
        }
      ],
      "source": [
        "round((prop.isna().sum()*100/prop.shape[0]),2).sort_values(ascending = False)"
      ]
    },
    {
      "cell_type": "markdown",
      "id": "e301f86c",
      "metadata": {
        "id": "e301f86c"
      },
      "source": [
        "***Vemos que se eliminaron los NaN de price al eliminar los de currency, matamos 2 pajaros de un tiro.***\n",
        "\n",
        "Ahora si crear una nueva columna **llamada precio** con el valor de las propiedades **en dolares**. Utilizar estas cotizaciones\n",
        "\n",
        "1 dolar = $283 pesos argentinos\n",
        "\n",
        "1 dolar = $4637 pesos colombianos"
      ]
    },
    {
      "cell_type": "code",
      "execution_count": 85,
      "id": "071c6155",
      "metadata": {
        "id": "071c6155",
        "colab": {
          "base_uri": "https://localhost:8080/"
        },
        "outputId": "fbb2ac9f-205a-4422-b23b-9457541fddf7"
      },
      "outputs": [
        {
          "output_type": "execute_result",
          "data": {
            "text/plain": [
              "array(['ARS', 'USD', 'COP'], dtype=object)"
            ]
          },
          "metadata": {},
          "execution_count": 85
        }
      ],
      "source": [
        "prop.currency.unique()"
      ]
    },
    {
      "cell_type": "code",
      "source": [
        "condicion = [(prop.currency == \"ARS\"),\n",
        "             (prop.currency == \"COP\"),\n",
        "             (prop.currency == \"USD\")]"
      ],
      "metadata": {
        "id": "MZYi_xz08KeK"
      },
      "id": "MZYi_xz08KeK",
      "execution_count": 86,
      "outputs": []
    },
    {
      "cell_type": "code",
      "source": [
        "eleccion = [(prop.price / 283), (prop.price / 4637), (prop.price)]"
      ],
      "metadata": {
        "id": "jMlzGHxI8f2N"
      },
      "id": "jMlzGHxI8f2N",
      "execution_count": 87,
      "outputs": []
    },
    {
      "cell_type": "code",
      "source": [
        "prop[\"precio\"] = np.select(condicion, eleccion)"
      ],
      "metadata": {
        "id": "X8WRoWyp8wl8"
      },
      "id": "X8WRoWyp8wl8",
      "execution_count": 88,
      "outputs": []
    },
    {
      "cell_type": "code",
      "source": [
        "prop.shape"
      ],
      "metadata": {
        "colab": {
          "base_uri": "https://localhost:8080/"
        },
        "id": "JAYX82wGmMy1",
        "outputId": "9641f05b-7df9-4b65-fc98-b9870d8aef01"
      },
      "id": "JAYX82wGmMy1",
      "execution_count": 89,
      "outputs": [
        {
          "output_type": "execute_result",
          "data": {
            "text/plain": [
              "(494382, 13)"
            ]
          },
          "metadata": {},
          "execution_count": 89
        }
      ]
    },
    {
      "cell_type": "markdown",
      "source": [
        "<font color=\"RoyalBlue\"> 🔵 **PUNTO DE REVISIÓN**\n",
        "\n",
        "***A esta altura el dataframe tiene $494382$ filas y $13$ columnas...***"
      ],
      "metadata": {
        "id": "tAxqFd0daSMa"
      },
      "id": "tAxqFd0daSMa"
    },
    {
      "cell_type": "markdown",
      "source": [
        "### <font color=\"RoyalBlue\"> **Alquiler temporal**"
      ],
      "metadata": {
        "id": "Qxf2-NcZH4yy"
      },
      "id": "Qxf2-NcZH4yy"
    },
    {
      "cell_type": "markdown",
      "id": "c7bfbe47",
      "metadata": {
        "id": "c7bfbe47"
      },
      "source": [
        "***Vamos a centrar el analisis en Alquiler y Venta, eliminamos los registros de 'Alquiler temporal'...***"
      ]
    },
    {
      "cell_type": "code",
      "execution_count": 90,
      "id": "4d2f8a44",
      "metadata": {
        "id": "4d2f8a44",
        "colab": {
          "base_uri": "https://localhost:8080/"
        },
        "outputId": "ca4f98eb-3855-4b7f-d55f-6849d6dc0146"
      },
      "outputs": [
        {
          "output_type": "execute_result",
          "data": {
            "text/plain": [
              "array(['Alquiler', 'Alquiler temporal', 'Venta'], dtype=object)"
            ]
          },
          "metadata": {},
          "execution_count": 90
        }
      ],
      "source": [
        "prop.operation_type.unique()"
      ]
    },
    {
      "cell_type": "code",
      "source": [
        "prop = prop[(prop.operation_type != \"Alquiler temporal\")]"
      ],
      "metadata": {
        "id": "9Y19-Ev_nWrC"
      },
      "id": "9Y19-Ev_nWrC",
      "execution_count": 91,
      "outputs": []
    },
    {
      "cell_type": "code",
      "source": [
        "prop.operation_type.unique()"
      ],
      "metadata": {
        "colab": {
          "base_uri": "https://localhost:8080/"
        },
        "id": "ANRijyson_oa",
        "outputId": "9089db8d-c97e-4941-b82f-7fe5ead4f5e2"
      },
      "id": "ANRijyson_oa",
      "execution_count": 92,
      "outputs": [
        {
          "output_type": "execute_result",
          "data": {
            "text/plain": [
              "array(['Alquiler', 'Venta'], dtype=object)"
            ]
          },
          "metadata": {},
          "execution_count": 92
        }
      ]
    },
    {
      "cell_type": "code",
      "source": [
        "prop.shape"
      ],
      "metadata": {
        "colab": {
          "base_uri": "https://localhost:8080/"
        },
        "id": "XZp3rW7Fn1cp",
        "outputId": "5133a44e-fb66-47ed-8832-c4fe813a8c72"
      },
      "id": "XZp3rW7Fn1cp",
      "execution_count": 93,
      "outputs": [
        {
          "output_type": "execute_result",
          "data": {
            "text/plain": [
              "(472774, 13)"
            ]
          },
          "metadata": {},
          "execution_count": 93
        }
      ]
    },
    {
      "cell_type": "markdown",
      "source": [
        "<font color=\"RoyalBlue\"> 🔵 **PUNTO DE REVISIÓN**\n",
        "\n",
        "***A esta altura el dataframe tiene $472774$ filas y $13$ columnas...***"
      ],
      "metadata": {
        "id": "or59TkeNZ_Y-"
      },
      "id": "or59TkeNZ_Y-"
    },
    {
      "cell_type": "markdown",
      "id": "21e1b4b9",
      "metadata": {
        "id": "21e1b4b9"
      },
      "source": [
        "***Ordenar por la columna precio de forma tanto ascendente como descendente y ver los registros mas caros y mas baratos para buscar posibles datos incorrectos...***"
      ]
    },
    {
      "cell_type": "code",
      "execution_count": 94,
      "id": "b01eb0f1",
      "metadata": {
        "id": "b01eb0f1",
        "colab": {
          "base_uri": "https://localhost:8080/",
          "height": 800
        },
        "outputId": "58761a52-6600-46d5-e71c-9f81f92e8a4a"
      },
      "outputs": [
        {
          "output_type": "execute_result",
          "data": {
            "text/plain": [
              "        start_date    end_date        lat        lon  \\\n",
              "419972  2021-01-03  2021-01-04 -34.592273 -58.447200   \n",
              "339889  2021-01-02  2021-01-02 -34.592273 -58.447200   \n",
              "128721  2021-01-20  9999-12-31 -34.592273 -58.447200   \n",
              "339888  2021-01-02  2021-01-02 -34.592273 -58.447200   \n",
              "979848  2020-10-02  9999-12-31 -34.611003 -58.386067   \n",
              "...            ...         ...        ...        ...   \n",
              "541347  2020-11-25  2021-01-14 -34.533896 -58.707248   \n",
              "941289  2020-11-24  2020-11-25 -34.539896 -58.693022   \n",
              "555089  2020-10-15  2020-10-30 -34.602049 -58.372480   \n",
              "998918  2020-12-04  9999-12-31 -34.668022 -58.551872   \n",
              "364137  2021-04-07  2021-05-28 -34.702419 -58.324239   \n",
              "\n",
              "                              l2                    l3  rooms  bathrooms  \\\n",
              "419972           Capital Federal             Chacarita    NaN        NaN   \n",
              "339889           Capital Federal             Chacarita    NaN        NaN   \n",
              "128721           Capital Federal             Chacarita    NaN        NaN   \n",
              "339888           Capital Federal             Chacarita    NaN        NaN   \n",
              "979848           Capital Federal              Congreso    1.0        NaN   \n",
              "...                          ...                   ...    ...        ...   \n",
              "541347  Bs.As. G.B.A. Zona Norte            San Miguel    1.0        1.0   \n",
              "941289  Bs.As. G.B.A. Zona Norte            San Miguel    1.0        1.0   \n",
              "555089           Capital Federal  Centro / Microcentro    4.0        2.0   \n",
              "998918  Bs.As. G.B.A. Zona Oeste            La Matanza    1.0        1.0   \n",
              "364137    Bs.As. G.B.A. Zona Sur            Avellaneda    3.0        1.0   \n",
              "\n",
              "             price currency property_type operation_type      precio  \n",
              "419972  35000000.0      USD          Lote          Venta  35000000.0  \n",
              "339889  35000000.0      USD          Lote          Venta  35000000.0  \n",
              "128721  35000000.0      USD          Lote          Venta  35000000.0  \n",
              "339888  35000000.0      USD          Lote          Venta  35000000.0  \n",
              "979848  26653528.0      USD          Otro          Venta  26653528.0  \n",
              "...            ...      ...           ...            ...         ...  \n",
              "541347         0.0      ARS  Departamento       Alquiler         0.0  \n",
              "941289         0.0      ARS  Departamento       Alquiler         0.0  \n",
              "555089         0.0      ARS       Oficina       Alquiler         0.0  \n",
              "998918         0.0      USD  Departamento          Venta         0.0  \n",
              "364137         0.0      ARS  Departamento       Alquiler         0.0  \n",
              "\n",
              "[472774 rows x 13 columns]"
            ],
            "text/html": [
              "\n",
              "  <div id=\"df-eb72d076-3278-4c0a-8981-651a8be69630\">\n",
              "    <div class=\"colab-df-container\">\n",
              "      <div>\n",
              "<style scoped>\n",
              "    .dataframe tbody tr th:only-of-type {\n",
              "        vertical-align: middle;\n",
              "    }\n",
              "\n",
              "    .dataframe tbody tr th {\n",
              "        vertical-align: top;\n",
              "    }\n",
              "\n",
              "    .dataframe thead th {\n",
              "        text-align: right;\n",
              "    }\n",
              "</style>\n",
              "<table border=\"1\" class=\"dataframe\">\n",
              "  <thead>\n",
              "    <tr style=\"text-align: right;\">\n",
              "      <th></th>\n",
              "      <th>start_date</th>\n",
              "      <th>end_date</th>\n",
              "      <th>lat</th>\n",
              "      <th>lon</th>\n",
              "      <th>l2</th>\n",
              "      <th>l3</th>\n",
              "      <th>rooms</th>\n",
              "      <th>bathrooms</th>\n",
              "      <th>price</th>\n",
              "      <th>currency</th>\n",
              "      <th>property_type</th>\n",
              "      <th>operation_type</th>\n",
              "      <th>precio</th>\n",
              "    </tr>\n",
              "  </thead>\n",
              "  <tbody>\n",
              "    <tr>\n",
              "      <th>419972</th>\n",
              "      <td>2021-01-03</td>\n",
              "      <td>2021-01-04</td>\n",
              "      <td>-34.592273</td>\n",
              "      <td>-58.447200</td>\n",
              "      <td>Capital Federal</td>\n",
              "      <td>Chacarita</td>\n",
              "      <td>NaN</td>\n",
              "      <td>NaN</td>\n",
              "      <td>35000000.0</td>\n",
              "      <td>USD</td>\n",
              "      <td>Lote</td>\n",
              "      <td>Venta</td>\n",
              "      <td>35000000.0</td>\n",
              "    </tr>\n",
              "    <tr>\n",
              "      <th>339889</th>\n",
              "      <td>2021-01-02</td>\n",
              "      <td>2021-01-02</td>\n",
              "      <td>-34.592273</td>\n",
              "      <td>-58.447200</td>\n",
              "      <td>Capital Federal</td>\n",
              "      <td>Chacarita</td>\n",
              "      <td>NaN</td>\n",
              "      <td>NaN</td>\n",
              "      <td>35000000.0</td>\n",
              "      <td>USD</td>\n",
              "      <td>Lote</td>\n",
              "      <td>Venta</td>\n",
              "      <td>35000000.0</td>\n",
              "    </tr>\n",
              "    <tr>\n",
              "      <th>128721</th>\n",
              "      <td>2021-01-20</td>\n",
              "      <td>9999-12-31</td>\n",
              "      <td>-34.592273</td>\n",
              "      <td>-58.447200</td>\n",
              "      <td>Capital Federal</td>\n",
              "      <td>Chacarita</td>\n",
              "      <td>NaN</td>\n",
              "      <td>NaN</td>\n",
              "      <td>35000000.0</td>\n",
              "      <td>USD</td>\n",
              "      <td>Lote</td>\n",
              "      <td>Venta</td>\n",
              "      <td>35000000.0</td>\n",
              "    </tr>\n",
              "    <tr>\n",
              "      <th>339888</th>\n",
              "      <td>2021-01-02</td>\n",
              "      <td>2021-01-02</td>\n",
              "      <td>-34.592273</td>\n",
              "      <td>-58.447200</td>\n",
              "      <td>Capital Federal</td>\n",
              "      <td>Chacarita</td>\n",
              "      <td>NaN</td>\n",
              "      <td>NaN</td>\n",
              "      <td>35000000.0</td>\n",
              "      <td>USD</td>\n",
              "      <td>Lote</td>\n",
              "      <td>Venta</td>\n",
              "      <td>35000000.0</td>\n",
              "    </tr>\n",
              "    <tr>\n",
              "      <th>979848</th>\n",
              "      <td>2020-10-02</td>\n",
              "      <td>9999-12-31</td>\n",
              "      <td>-34.611003</td>\n",
              "      <td>-58.386067</td>\n",
              "      <td>Capital Federal</td>\n",
              "      <td>Congreso</td>\n",
              "      <td>1.0</td>\n",
              "      <td>NaN</td>\n",
              "      <td>26653528.0</td>\n",
              "      <td>USD</td>\n",
              "      <td>Otro</td>\n",
              "      <td>Venta</td>\n",
              "      <td>26653528.0</td>\n",
              "    </tr>\n",
              "    <tr>\n",
              "      <th>...</th>\n",
              "      <td>...</td>\n",
              "      <td>...</td>\n",
              "      <td>...</td>\n",
              "      <td>...</td>\n",
              "      <td>...</td>\n",
              "      <td>...</td>\n",
              "      <td>...</td>\n",
              "      <td>...</td>\n",
              "      <td>...</td>\n",
              "      <td>...</td>\n",
              "      <td>...</td>\n",
              "      <td>...</td>\n",
              "      <td>...</td>\n",
              "    </tr>\n",
              "    <tr>\n",
              "      <th>541347</th>\n",
              "      <td>2020-11-25</td>\n",
              "      <td>2021-01-14</td>\n",
              "      <td>-34.533896</td>\n",
              "      <td>-58.707248</td>\n",
              "      <td>Bs.As. G.B.A. Zona Norte</td>\n",
              "      <td>San Miguel</td>\n",
              "      <td>1.0</td>\n",
              "      <td>1.0</td>\n",
              "      <td>0.0</td>\n",
              "      <td>ARS</td>\n",
              "      <td>Departamento</td>\n",
              "      <td>Alquiler</td>\n",
              "      <td>0.0</td>\n",
              "    </tr>\n",
              "    <tr>\n",
              "      <th>941289</th>\n",
              "      <td>2020-11-24</td>\n",
              "      <td>2020-11-25</td>\n",
              "      <td>-34.539896</td>\n",
              "      <td>-58.693022</td>\n",
              "      <td>Bs.As. G.B.A. Zona Norte</td>\n",
              "      <td>San Miguel</td>\n",
              "      <td>1.0</td>\n",
              "      <td>1.0</td>\n",
              "      <td>0.0</td>\n",
              "      <td>ARS</td>\n",
              "      <td>Departamento</td>\n",
              "      <td>Alquiler</td>\n",
              "      <td>0.0</td>\n",
              "    </tr>\n",
              "    <tr>\n",
              "      <th>555089</th>\n",
              "      <td>2020-10-15</td>\n",
              "      <td>2020-10-30</td>\n",
              "      <td>-34.602049</td>\n",
              "      <td>-58.372480</td>\n",
              "      <td>Capital Federal</td>\n",
              "      <td>Centro / Microcentro</td>\n",
              "      <td>4.0</td>\n",
              "      <td>2.0</td>\n",
              "      <td>0.0</td>\n",
              "      <td>ARS</td>\n",
              "      <td>Oficina</td>\n",
              "      <td>Alquiler</td>\n",
              "      <td>0.0</td>\n",
              "    </tr>\n",
              "    <tr>\n",
              "      <th>998918</th>\n",
              "      <td>2020-12-04</td>\n",
              "      <td>9999-12-31</td>\n",
              "      <td>-34.668022</td>\n",
              "      <td>-58.551872</td>\n",
              "      <td>Bs.As. G.B.A. Zona Oeste</td>\n",
              "      <td>La Matanza</td>\n",
              "      <td>1.0</td>\n",
              "      <td>1.0</td>\n",
              "      <td>0.0</td>\n",
              "      <td>USD</td>\n",
              "      <td>Departamento</td>\n",
              "      <td>Venta</td>\n",
              "      <td>0.0</td>\n",
              "    </tr>\n",
              "    <tr>\n",
              "      <th>364137</th>\n",
              "      <td>2021-04-07</td>\n",
              "      <td>2021-05-28</td>\n",
              "      <td>-34.702419</td>\n",
              "      <td>-58.324239</td>\n",
              "      <td>Bs.As. G.B.A. Zona Sur</td>\n",
              "      <td>Avellaneda</td>\n",
              "      <td>3.0</td>\n",
              "      <td>1.0</td>\n",
              "      <td>0.0</td>\n",
              "      <td>ARS</td>\n",
              "      <td>Departamento</td>\n",
              "      <td>Alquiler</td>\n",
              "      <td>0.0</td>\n",
              "    </tr>\n",
              "  </tbody>\n",
              "</table>\n",
              "<p>472774 rows × 13 columns</p>\n",
              "</div>\n",
              "      <button class=\"colab-df-convert\" onclick=\"convertToInteractive('df-eb72d076-3278-4c0a-8981-651a8be69630')\"\n",
              "              title=\"Convert this dataframe to an interactive table.\"\n",
              "              style=\"display:none;\">\n",
              "        \n",
              "  <svg xmlns=\"http://www.w3.org/2000/svg\" height=\"24px\"viewBox=\"0 0 24 24\"\n",
              "       width=\"24px\">\n",
              "    <path d=\"M0 0h24v24H0V0z\" fill=\"none\"/>\n",
              "    <path d=\"M18.56 5.44l.94 2.06.94-2.06 2.06-.94-2.06-.94-.94-2.06-.94 2.06-2.06.94zm-11 1L8.5 8.5l.94-2.06 2.06-.94-2.06-.94L8.5 2.5l-.94 2.06-2.06.94zm10 10l.94 2.06.94-2.06 2.06-.94-2.06-.94-.94-2.06-.94 2.06-2.06.94z\"/><path d=\"M17.41 7.96l-1.37-1.37c-.4-.4-.92-.59-1.43-.59-.52 0-1.04.2-1.43.59L10.3 9.45l-7.72 7.72c-.78.78-.78 2.05 0 2.83L4 21.41c.39.39.9.59 1.41.59.51 0 1.02-.2 1.41-.59l7.78-7.78 2.81-2.81c.8-.78.8-2.07 0-2.86zM5.41 20L4 18.59l7.72-7.72 1.47 1.35L5.41 20z\"/>\n",
              "  </svg>\n",
              "      </button>\n",
              "      \n",
              "  <style>\n",
              "    .colab-df-container {\n",
              "      display:flex;\n",
              "      flex-wrap:wrap;\n",
              "      gap: 12px;\n",
              "    }\n",
              "\n",
              "    .colab-df-convert {\n",
              "      background-color: #E8F0FE;\n",
              "      border: none;\n",
              "      border-radius: 50%;\n",
              "      cursor: pointer;\n",
              "      display: none;\n",
              "      fill: #1967D2;\n",
              "      height: 32px;\n",
              "      padding: 0 0 0 0;\n",
              "      width: 32px;\n",
              "    }\n",
              "\n",
              "    .colab-df-convert:hover {\n",
              "      background-color: #E2EBFA;\n",
              "      box-shadow: 0px 1px 2px rgba(60, 64, 67, 0.3), 0px 1px 3px 1px rgba(60, 64, 67, 0.15);\n",
              "      fill: #174EA6;\n",
              "    }\n",
              "\n",
              "    [theme=dark] .colab-df-convert {\n",
              "      background-color: #3B4455;\n",
              "      fill: #D2E3FC;\n",
              "    }\n",
              "\n",
              "    [theme=dark] .colab-df-convert:hover {\n",
              "      background-color: #434B5C;\n",
              "      box-shadow: 0px 1px 3px 1px rgba(0, 0, 0, 0.15);\n",
              "      filter: drop-shadow(0px 1px 2px rgba(0, 0, 0, 0.3));\n",
              "      fill: #FFFFFF;\n",
              "    }\n",
              "  </style>\n",
              "\n",
              "      <script>\n",
              "        const buttonEl =\n",
              "          document.querySelector('#df-eb72d076-3278-4c0a-8981-651a8be69630 button.colab-df-convert');\n",
              "        buttonEl.style.display =\n",
              "          google.colab.kernel.accessAllowed ? 'block' : 'none';\n",
              "\n",
              "        async function convertToInteractive(key) {\n",
              "          const element = document.querySelector('#df-eb72d076-3278-4c0a-8981-651a8be69630');\n",
              "          const dataTable =\n",
              "            await google.colab.kernel.invokeFunction('convertToInteractive',\n",
              "                                                     [key], {});\n",
              "          if (!dataTable) return;\n",
              "\n",
              "          const docLinkHtml = 'Like what you see? Visit the ' +\n",
              "            '<a target=\"_blank\" href=https://colab.research.google.com/notebooks/data_table.ipynb>data table notebook</a>'\n",
              "            + ' to learn more about interactive tables.';\n",
              "          element.innerHTML = '';\n",
              "          dataTable['output_type'] = 'display_data';\n",
              "          await google.colab.output.renderOutput(dataTable, element);\n",
              "          const docLink = document.createElement('div');\n",
              "          docLink.innerHTML = docLinkHtml;\n",
              "          element.appendChild(docLink);\n",
              "        }\n",
              "      </script>\n",
              "    </div>\n",
              "  </div>\n",
              "  "
            ]
          },
          "metadata": {},
          "execution_count": 94
        }
      ],
      "source": [
        "prop.sort_values(by=[\"precio\"], ascending=False)"
      ]
    },
    {
      "cell_type": "code",
      "source": [
        "prop.sort_values(by=[\"precio\"], ascending=True)"
      ],
      "metadata": {
        "colab": {
          "base_uri": "https://localhost:8080/",
          "height": 730
        },
        "id": "6Gx6vNPt92x0",
        "outputId": "81ed0c11-34fb-4393-8243-8d4209467a71"
      },
      "id": "6Gx6vNPt92x0",
      "execution_count": 95,
      "outputs": [
        {
          "output_type": "execute_result",
          "data": {
            "text/plain": [
              "        start_date    end_date        lat        lon  \\\n",
              "541349  2020-11-25  2020-12-07 -34.583248 -58.494516   \n",
              "364137  2021-04-07  2021-05-28 -34.702419 -58.324239   \n",
              "941289  2020-11-24  2020-11-25 -34.539896 -58.693022   \n",
              "278063  2020-11-17  2020-11-17 -34.638337 -58.504331   \n",
              "555089  2020-10-15  2020-10-30 -34.602049 -58.372480   \n",
              "...            ...         ...        ...        ...   \n",
              "360288  2020-09-30  2020-10-01 -34.611003 -58.386067   \n",
              "339889  2021-01-02  2021-01-02 -34.592273 -58.447200   \n",
              "419972  2021-01-03  2021-01-04 -34.592273 -58.447200   \n",
              "128721  2021-01-20  9999-12-31 -34.592273 -58.447200   \n",
              "339888  2021-01-02  2021-01-02 -34.592273 -58.447200   \n",
              "\n",
              "                              l2                    l3  rooms  bathrooms  \\\n",
              "541349           Capital Federal      Villa Pueyrredón    1.0        1.0   \n",
              "364137    Bs.As. G.B.A. Zona Sur            Avellaneda    3.0        1.0   \n",
              "941289  Bs.As. G.B.A. Zona Norte            San Miguel    1.0        1.0   \n",
              "278063           Capital Federal             Caballito    1.0        1.0   \n",
              "555089           Capital Federal  Centro / Microcentro    4.0        2.0   \n",
              "...                          ...                   ...    ...        ...   \n",
              "360288           Capital Federal              Congreso    1.0        NaN   \n",
              "339889           Capital Federal             Chacarita    NaN        NaN   \n",
              "419972           Capital Federal             Chacarita    NaN        NaN   \n",
              "128721           Capital Federal             Chacarita    NaN        NaN   \n",
              "339888           Capital Federal             Chacarita    NaN        NaN   \n",
              "\n",
              "             price currency property_type operation_type      precio  \n",
              "541349         0.0      ARS  Departamento       Alquiler         0.0  \n",
              "364137         0.0      ARS  Departamento       Alquiler         0.0  \n",
              "941289         0.0      ARS  Departamento       Alquiler         0.0  \n",
              "278063         0.0      USD  Departamento          Venta         0.0  \n",
              "555089         0.0      ARS       Oficina       Alquiler         0.0  \n",
              "...            ...      ...           ...            ...         ...  \n",
              "360288  26653528.0      USD          Otro          Venta  26653528.0  \n",
              "339889  35000000.0      USD          Lote          Venta  35000000.0  \n",
              "419972  35000000.0      USD          Lote          Venta  35000000.0  \n",
              "128721  35000000.0      USD          Lote          Venta  35000000.0  \n",
              "339888  35000000.0      USD          Lote          Venta  35000000.0  \n",
              "\n",
              "[472774 rows x 13 columns]"
            ],
            "text/html": [
              "\n",
              "  <div id=\"df-e5b83ce2-aa99-4439-a4e4-aee302fab5fc\">\n",
              "    <div class=\"colab-df-container\">\n",
              "      <div>\n",
              "<style scoped>\n",
              "    .dataframe tbody tr th:only-of-type {\n",
              "        vertical-align: middle;\n",
              "    }\n",
              "\n",
              "    .dataframe tbody tr th {\n",
              "        vertical-align: top;\n",
              "    }\n",
              "\n",
              "    .dataframe thead th {\n",
              "        text-align: right;\n",
              "    }\n",
              "</style>\n",
              "<table border=\"1\" class=\"dataframe\">\n",
              "  <thead>\n",
              "    <tr style=\"text-align: right;\">\n",
              "      <th></th>\n",
              "      <th>start_date</th>\n",
              "      <th>end_date</th>\n",
              "      <th>lat</th>\n",
              "      <th>lon</th>\n",
              "      <th>l2</th>\n",
              "      <th>l3</th>\n",
              "      <th>rooms</th>\n",
              "      <th>bathrooms</th>\n",
              "      <th>price</th>\n",
              "      <th>currency</th>\n",
              "      <th>property_type</th>\n",
              "      <th>operation_type</th>\n",
              "      <th>precio</th>\n",
              "    </tr>\n",
              "  </thead>\n",
              "  <tbody>\n",
              "    <tr>\n",
              "      <th>541349</th>\n",
              "      <td>2020-11-25</td>\n",
              "      <td>2020-12-07</td>\n",
              "      <td>-34.583248</td>\n",
              "      <td>-58.494516</td>\n",
              "      <td>Capital Federal</td>\n",
              "      <td>Villa Pueyrredón</td>\n",
              "      <td>1.0</td>\n",
              "      <td>1.0</td>\n",
              "      <td>0.0</td>\n",
              "      <td>ARS</td>\n",
              "      <td>Departamento</td>\n",
              "      <td>Alquiler</td>\n",
              "      <td>0.0</td>\n",
              "    </tr>\n",
              "    <tr>\n",
              "      <th>364137</th>\n",
              "      <td>2021-04-07</td>\n",
              "      <td>2021-05-28</td>\n",
              "      <td>-34.702419</td>\n",
              "      <td>-58.324239</td>\n",
              "      <td>Bs.As. G.B.A. Zona Sur</td>\n",
              "      <td>Avellaneda</td>\n",
              "      <td>3.0</td>\n",
              "      <td>1.0</td>\n",
              "      <td>0.0</td>\n",
              "      <td>ARS</td>\n",
              "      <td>Departamento</td>\n",
              "      <td>Alquiler</td>\n",
              "      <td>0.0</td>\n",
              "    </tr>\n",
              "    <tr>\n",
              "      <th>941289</th>\n",
              "      <td>2020-11-24</td>\n",
              "      <td>2020-11-25</td>\n",
              "      <td>-34.539896</td>\n",
              "      <td>-58.693022</td>\n",
              "      <td>Bs.As. G.B.A. Zona Norte</td>\n",
              "      <td>San Miguel</td>\n",
              "      <td>1.0</td>\n",
              "      <td>1.0</td>\n",
              "      <td>0.0</td>\n",
              "      <td>ARS</td>\n",
              "      <td>Departamento</td>\n",
              "      <td>Alquiler</td>\n",
              "      <td>0.0</td>\n",
              "    </tr>\n",
              "    <tr>\n",
              "      <th>278063</th>\n",
              "      <td>2020-11-17</td>\n",
              "      <td>2020-11-17</td>\n",
              "      <td>-34.638337</td>\n",
              "      <td>-58.504331</td>\n",
              "      <td>Capital Federal</td>\n",
              "      <td>Caballito</td>\n",
              "      <td>1.0</td>\n",
              "      <td>1.0</td>\n",
              "      <td>0.0</td>\n",
              "      <td>USD</td>\n",
              "      <td>Departamento</td>\n",
              "      <td>Venta</td>\n",
              "      <td>0.0</td>\n",
              "    </tr>\n",
              "    <tr>\n",
              "      <th>555089</th>\n",
              "      <td>2020-10-15</td>\n",
              "      <td>2020-10-30</td>\n",
              "      <td>-34.602049</td>\n",
              "      <td>-58.372480</td>\n",
              "      <td>Capital Federal</td>\n",
              "      <td>Centro / Microcentro</td>\n",
              "      <td>4.0</td>\n",
              "      <td>2.0</td>\n",
              "      <td>0.0</td>\n",
              "      <td>ARS</td>\n",
              "      <td>Oficina</td>\n",
              "      <td>Alquiler</td>\n",
              "      <td>0.0</td>\n",
              "    </tr>\n",
              "    <tr>\n",
              "      <th>...</th>\n",
              "      <td>...</td>\n",
              "      <td>...</td>\n",
              "      <td>...</td>\n",
              "      <td>...</td>\n",
              "      <td>...</td>\n",
              "      <td>...</td>\n",
              "      <td>...</td>\n",
              "      <td>...</td>\n",
              "      <td>...</td>\n",
              "      <td>...</td>\n",
              "      <td>...</td>\n",
              "      <td>...</td>\n",
              "      <td>...</td>\n",
              "    </tr>\n",
              "    <tr>\n",
              "      <th>360288</th>\n",
              "      <td>2020-09-30</td>\n",
              "      <td>2020-10-01</td>\n",
              "      <td>-34.611003</td>\n",
              "      <td>-58.386067</td>\n",
              "      <td>Capital Federal</td>\n",
              "      <td>Congreso</td>\n",
              "      <td>1.0</td>\n",
              "      <td>NaN</td>\n",
              "      <td>26653528.0</td>\n",
              "      <td>USD</td>\n",
              "      <td>Otro</td>\n",
              "      <td>Venta</td>\n",
              "      <td>26653528.0</td>\n",
              "    </tr>\n",
              "    <tr>\n",
              "      <th>339889</th>\n",
              "      <td>2021-01-02</td>\n",
              "      <td>2021-01-02</td>\n",
              "      <td>-34.592273</td>\n",
              "      <td>-58.447200</td>\n",
              "      <td>Capital Federal</td>\n",
              "      <td>Chacarita</td>\n",
              "      <td>NaN</td>\n",
              "      <td>NaN</td>\n",
              "      <td>35000000.0</td>\n",
              "      <td>USD</td>\n",
              "      <td>Lote</td>\n",
              "      <td>Venta</td>\n",
              "      <td>35000000.0</td>\n",
              "    </tr>\n",
              "    <tr>\n",
              "      <th>419972</th>\n",
              "      <td>2021-01-03</td>\n",
              "      <td>2021-01-04</td>\n",
              "      <td>-34.592273</td>\n",
              "      <td>-58.447200</td>\n",
              "      <td>Capital Federal</td>\n",
              "      <td>Chacarita</td>\n",
              "      <td>NaN</td>\n",
              "      <td>NaN</td>\n",
              "      <td>35000000.0</td>\n",
              "      <td>USD</td>\n",
              "      <td>Lote</td>\n",
              "      <td>Venta</td>\n",
              "      <td>35000000.0</td>\n",
              "    </tr>\n",
              "    <tr>\n",
              "      <th>128721</th>\n",
              "      <td>2021-01-20</td>\n",
              "      <td>9999-12-31</td>\n",
              "      <td>-34.592273</td>\n",
              "      <td>-58.447200</td>\n",
              "      <td>Capital Federal</td>\n",
              "      <td>Chacarita</td>\n",
              "      <td>NaN</td>\n",
              "      <td>NaN</td>\n",
              "      <td>35000000.0</td>\n",
              "      <td>USD</td>\n",
              "      <td>Lote</td>\n",
              "      <td>Venta</td>\n",
              "      <td>35000000.0</td>\n",
              "    </tr>\n",
              "    <tr>\n",
              "      <th>339888</th>\n",
              "      <td>2021-01-02</td>\n",
              "      <td>2021-01-02</td>\n",
              "      <td>-34.592273</td>\n",
              "      <td>-58.447200</td>\n",
              "      <td>Capital Federal</td>\n",
              "      <td>Chacarita</td>\n",
              "      <td>NaN</td>\n",
              "      <td>NaN</td>\n",
              "      <td>35000000.0</td>\n",
              "      <td>USD</td>\n",
              "      <td>Lote</td>\n",
              "      <td>Venta</td>\n",
              "      <td>35000000.0</td>\n",
              "    </tr>\n",
              "  </tbody>\n",
              "</table>\n",
              "<p>472774 rows × 13 columns</p>\n",
              "</div>\n",
              "      <button class=\"colab-df-convert\" onclick=\"convertToInteractive('df-e5b83ce2-aa99-4439-a4e4-aee302fab5fc')\"\n",
              "              title=\"Convert this dataframe to an interactive table.\"\n",
              "              style=\"display:none;\">\n",
              "        \n",
              "  <svg xmlns=\"http://www.w3.org/2000/svg\" height=\"24px\"viewBox=\"0 0 24 24\"\n",
              "       width=\"24px\">\n",
              "    <path d=\"M0 0h24v24H0V0z\" fill=\"none\"/>\n",
              "    <path d=\"M18.56 5.44l.94 2.06.94-2.06 2.06-.94-2.06-.94-.94-2.06-.94 2.06-2.06.94zm-11 1L8.5 8.5l.94-2.06 2.06-.94-2.06-.94L8.5 2.5l-.94 2.06-2.06.94zm10 10l.94 2.06.94-2.06 2.06-.94-2.06-.94-.94-2.06-.94 2.06-2.06.94z\"/><path d=\"M17.41 7.96l-1.37-1.37c-.4-.4-.92-.59-1.43-.59-.52 0-1.04.2-1.43.59L10.3 9.45l-7.72 7.72c-.78.78-.78 2.05 0 2.83L4 21.41c.39.39.9.59 1.41.59.51 0 1.02-.2 1.41-.59l7.78-7.78 2.81-2.81c.8-.78.8-2.07 0-2.86zM5.41 20L4 18.59l7.72-7.72 1.47 1.35L5.41 20z\"/>\n",
              "  </svg>\n",
              "      </button>\n",
              "      \n",
              "  <style>\n",
              "    .colab-df-container {\n",
              "      display:flex;\n",
              "      flex-wrap:wrap;\n",
              "      gap: 12px;\n",
              "    }\n",
              "\n",
              "    .colab-df-convert {\n",
              "      background-color: #E8F0FE;\n",
              "      border: none;\n",
              "      border-radius: 50%;\n",
              "      cursor: pointer;\n",
              "      display: none;\n",
              "      fill: #1967D2;\n",
              "      height: 32px;\n",
              "      padding: 0 0 0 0;\n",
              "      width: 32px;\n",
              "    }\n",
              "\n",
              "    .colab-df-convert:hover {\n",
              "      background-color: #E2EBFA;\n",
              "      box-shadow: 0px 1px 2px rgba(60, 64, 67, 0.3), 0px 1px 3px 1px rgba(60, 64, 67, 0.15);\n",
              "      fill: #174EA6;\n",
              "    }\n",
              "\n",
              "    [theme=dark] .colab-df-convert {\n",
              "      background-color: #3B4455;\n",
              "      fill: #D2E3FC;\n",
              "    }\n",
              "\n",
              "    [theme=dark] .colab-df-convert:hover {\n",
              "      background-color: #434B5C;\n",
              "      box-shadow: 0px 1px 3px 1px rgba(0, 0, 0, 0.15);\n",
              "      filter: drop-shadow(0px 1px 2px rgba(0, 0, 0, 0.3));\n",
              "      fill: #FFFFFF;\n",
              "    }\n",
              "  </style>\n",
              "\n",
              "      <script>\n",
              "        const buttonEl =\n",
              "          document.querySelector('#df-e5b83ce2-aa99-4439-a4e4-aee302fab5fc button.colab-df-convert');\n",
              "        buttonEl.style.display =\n",
              "          google.colab.kernel.accessAllowed ? 'block' : 'none';\n",
              "\n",
              "        async function convertToInteractive(key) {\n",
              "          const element = document.querySelector('#df-e5b83ce2-aa99-4439-a4e4-aee302fab5fc');\n",
              "          const dataTable =\n",
              "            await google.colab.kernel.invokeFunction('convertToInteractive',\n",
              "                                                     [key], {});\n",
              "          if (!dataTable) return;\n",
              "\n",
              "          const docLinkHtml = 'Like what you see? Visit the ' +\n",
              "            '<a target=\"_blank\" href=https://colab.research.google.com/notebooks/data_table.ipynb>data table notebook</a>'\n",
              "            + ' to learn more about interactive tables.';\n",
              "          element.innerHTML = '';\n",
              "          dataTable['output_type'] = 'display_data';\n",
              "          await google.colab.output.renderOutput(dataTable, element);\n",
              "          const docLink = document.createElement('div');\n",
              "          docLink.innerHTML = docLinkHtml;\n",
              "          element.appendChild(docLink);\n",
              "        }\n",
              "      </script>\n",
              "    </div>\n",
              "  </div>\n",
              "  "
            ]
          },
          "metadata": {},
          "execution_count": 95
        }
      ]
    },
    {
      "cell_type": "markdown",
      "source": [
        "### <font color=\"RoyalBlue\"> **Registros entre 40 dolares o 5000000**"
      ],
      "metadata": {
        "id": "gXZ7Cwu5Ibp-"
      },
      "id": "gXZ7Cwu5Ibp-"
    },
    {
      "cell_type": "markdown",
      "id": "3cdfdbe6",
      "metadata": {
        "id": "3cdfdbe6"
      },
      "source": [
        "***Eliminar los registros cuyo precio sea inferior a 40 dolares o mayor a 5.000.000 dolares...***"
      ]
    },
    {
      "cell_type": "code",
      "source": [
        "prop.shape"
      ],
      "metadata": {
        "colab": {
          "base_uri": "https://localhost:8080/"
        },
        "id": "eggcQYhl_AX-",
        "outputId": "b3adc8f1-8b6e-4328-fb29-57557a2f7d9d"
      },
      "id": "eggcQYhl_AX-",
      "execution_count": 96,
      "outputs": [
        {
          "output_type": "execute_result",
          "data": {
            "text/plain": [
              "(472774, 13)"
            ]
          },
          "metadata": {},
          "execution_count": 96
        }
      ]
    },
    {
      "cell_type": "code",
      "source": [
        "prop = prop[~((prop.precio <= 40) | (prop.precio >= 5000000))]"
      ],
      "metadata": {
        "id": "LN9dvvzenLmz"
      },
      "id": "LN9dvvzenLmz",
      "execution_count": 97,
      "outputs": []
    },
    {
      "cell_type": "code",
      "source": [
        "prop.shape"
      ],
      "metadata": {
        "colab": {
          "base_uri": "https://localhost:8080/"
        },
        "id": "UrELgrFv_IYi",
        "outputId": "e9d82651-1885-441c-9802-948923c39a09"
      },
      "id": "UrELgrFv_IYi",
      "execution_count": 98,
      "outputs": [
        {
          "output_type": "execute_result",
          "data": {
            "text/plain": [
              "(467968, 13)"
            ]
          },
          "metadata": {},
          "execution_count": 98
        }
      ]
    },
    {
      "cell_type": "markdown",
      "source": [
        "<font color=\"RoyalBlue\"> 🔵 **PUNTO DE REVISIÓN**\n",
        "\n",
        "***A esta altura el dataframe tiene $467968$ filas y $13$ columnas...***"
      ],
      "metadata": {
        "id": "_l9JyweJaxiW"
      },
      "id": "_l9JyweJaxiW"
    },
    {
      "cell_type": "markdown",
      "id": "f27c28b4",
      "metadata": {
        "id": "f27c28b4"
      },
      "source": [
        "***Eliminar las ventas cuyo precio sea menor a 5000 dolares***"
      ]
    },
    {
      "cell_type": "code",
      "source": [
        "prop.operation_type.unique()"
      ],
      "metadata": {
        "colab": {
          "base_uri": "https://localhost:8080/"
        },
        "id": "CnjcGp1a_fOi",
        "outputId": "3a2122da-bd29-4766-e3d7-e5a22e4c5d4c"
      },
      "id": "CnjcGp1a_fOi",
      "execution_count": 99,
      "outputs": [
        {
          "output_type": "execute_result",
          "data": {
            "text/plain": [
              "array(['Alquiler', 'Venta'], dtype=object)"
            ]
          },
          "metadata": {},
          "execution_count": 99
        }
      ]
    },
    {
      "cell_type": "code",
      "source": [
        "prop = prop.loc[~((prop.operation_type == \"Venta\") & (prop.precio < 5000)),:]"
      ],
      "metadata": {
        "id": "PETrNhBhKqlm"
      },
      "id": "PETrNhBhKqlm",
      "execution_count": 100,
      "outputs": []
    },
    {
      "cell_type": "code",
      "source": [
        "prop.shape"
      ],
      "metadata": {
        "colab": {
          "base_uri": "https://localhost:8080/"
        },
        "id": "lw4CqJPICboX",
        "outputId": "55a311fa-9b8b-4d9e-9be3-0c4dd53c58bf"
      },
      "id": "lw4CqJPICboX",
      "execution_count": 101,
      "outputs": [
        {
          "output_type": "execute_result",
          "data": {
            "text/plain": [
              "(467586, 13)"
            ]
          },
          "metadata": {},
          "execution_count": 101
        }
      ]
    },
    {
      "cell_type": "markdown",
      "source": [
        "<font color=\"RoyalBlue\"> 🔵 **PUNTO DE REVISIÓN**\n",
        "\n",
        "***A esta altura el dataframe tiene $467586$ filas y $13$ columnas...***"
      ],
      "metadata": {
        "id": "XJhTz9wIbWnr"
      },
      "id": "XJhTz9wIbWnr"
    },
    {
      "cell_type": "markdown",
      "id": "d7932dd9",
      "metadata": {
        "id": "d7932dd9"
      },
      "source": [
        "***Vamos ahora a la columna bathrooms, eliminamos los registros cuyo valor en bathrooms sea mayor al de rooms + 1***"
      ]
    },
    {
      "cell_type": "code",
      "source": [
        "prop.rooms.unique()"
      ],
      "metadata": {
        "colab": {
          "base_uri": "https://localhost:8080/"
        },
        "id": "uBToxUjLC6N3",
        "outputId": "0b5ee1b4-7f92-4672-aa36-7264fcceb224"
      },
      "id": "uBToxUjLC6N3",
      "execution_count": 102,
      "outputs": [
        {
          "output_type": "execute_result",
          "data": {
            "text/plain": [
              "array([nan,  3.,  1.,  2.,  4.,  5.,  7.,  6.,  8., 12.,  9., 10., 15.,\n",
              "       29., 19., 25., 11., 24., 18., 14., 17., 40., 35., 36., 20., 23.,\n",
              "       21., 16., 30., 22., 26., 32., 13., 31., 27., 34., 28.])"
            ]
          },
          "metadata": {},
          "execution_count": 102
        }
      ]
    },
    {
      "cell_type": "code",
      "execution_count": 103,
      "id": "e63b97c9",
      "metadata": {
        "id": "e63b97c9",
        "colab": {
          "base_uri": "https://localhost:8080/"
        },
        "outputId": "dec128f9-dab1-4bc4-9060-d637d7af01a3"
      },
      "outputs": [
        {
          "output_type": "execute_result",
          "data": {
            "text/plain": [
              "array([nan,  2.,  3.,  1.,  4.,  5.,  8., 10.,  6.,  7., 11.,  9., 16.,\n",
              "       12., 15., 18., 20., 13., 17., 19., 14.])"
            ]
          },
          "metadata": {},
          "execution_count": 103
        }
      ],
      "source": [
        "prop.bathrooms.unique()"
      ]
    },
    {
      "cell_type": "code",
      "source": [
        "prop = prop[~(prop.bathrooms > (prop.rooms + 1))]"
      ],
      "metadata": {
        "id": "cEfEJ0EuDETZ"
      },
      "id": "cEfEJ0EuDETZ",
      "execution_count": 104,
      "outputs": []
    },
    {
      "cell_type": "code",
      "source": [
        "prop.shape"
      ],
      "metadata": {
        "colab": {
          "base_uri": "https://localhost:8080/"
        },
        "id": "ydNsiFvJFHIg",
        "outputId": "137903cf-61a5-447a-d1fb-93c3647586f7"
      },
      "id": "ydNsiFvJFHIg",
      "execution_count": 105,
      "outputs": [
        {
          "output_type": "execute_result",
          "data": {
            "text/plain": [
              "(465964, 13)"
            ]
          },
          "metadata": {},
          "execution_count": 105
        }
      ]
    },
    {
      "cell_type": "markdown",
      "source": [
        "<font color=\"RoyalBlue\"> 🔵 **PUNTO DE REVISIÓN**\n",
        "\n",
        "***A esta altura el dataframe tiene $465964$ filas y $13$ columnas...***"
      ],
      "metadata": {
        "id": "hubqsXqFYhVx"
      },
      "id": "hubqsXqFYhVx"
    },
    {
      "cell_type": "markdown",
      "id": "0eb97f4f",
      "metadata": {
        "id": "0eb97f4f"
      },
      "source": [
        "***Ordenar el dataset por la cantidad de baños tanto ascendente como de forma descendente para ver posibles registros incorrectos...***"
      ]
    },
    {
      "cell_type": "code",
      "execution_count": 106,
      "id": "99d48de8",
      "metadata": {
        "id": "99d48de8",
        "colab": {
          "base_uri": "https://localhost:8080/",
          "height": 800
        },
        "outputId": "106c1114-1f49-46d0-ec76-2cb4872caf7d"
      },
      "outputs": [
        {
          "output_type": "execute_result",
          "data": {
            "text/plain": [
              "        start_date    end_date        lat        lon  \\\n",
              "242841  2020-07-20  9999-12-31 -34.606558 -58.371653   \n",
              "932251  2020-06-05  2020-06-08 -34.616042 -58.366659   \n",
              "520542  2020-08-12  2020-08-25 -34.607353 -58.372332   \n",
              "965124  2021-02-08  9999-12-31 -34.621021 -58.381737   \n",
              "242864  2020-07-20  9999-12-31 -34.616042 -58.366659   \n",
              "...            ...         ...        ...        ...   \n",
              "999598  2020-12-04  9999-12-31 -34.638566 -58.689860   \n",
              "999673  2020-12-04  2021-07-02 -34.807659 -58.396121   \n",
              "999819  2020-12-04  2020-12-16 -34.422371 -58.657596   \n",
              "999928  2020-12-04  9999-12-31 -34.614237 -58.394551   \n",
              "999938  2020-12-04  2020-12-16 -34.651733 -58.530917   \n",
              "\n",
              "                              l2                    l3  rooms  bathrooms  \\\n",
              "242841           Capital Federal           San Nicolás    NaN       20.0   \n",
              "932251           Capital Federal         Puerto Madero    NaN       20.0   \n",
              "520542           Capital Federal  Centro / Microcentro    NaN       20.0   \n",
              "965124           Capital Federal          Constitución    NaN       20.0   \n",
              "242864           Capital Federal         Puerto Madero    NaN       20.0   \n",
              "...                          ...                   ...    ...        ...   \n",
              "999598  Bs.As. G.B.A. Zona Oeste             Ituzaingó    4.0        NaN   \n",
              "999673    Bs.As. G.B.A. Zona Sur       Almirante Brown    5.0        NaN   \n",
              "999819  Bs.As. G.B.A. Zona Norte                 Tigre    7.0        NaN   \n",
              "999928           Capital Federal             Balvanera    5.0        NaN   \n",
              "999938  Bs.As. G.B.A. Zona Oeste       Tres de Febrero    5.0        NaN   \n",
              "\n",
              "            price currency property_type operation_type     precio  \n",
              "242841    55000.0      USD       Oficina       Alquiler    55000.0  \n",
              "932251    73500.0      USD       Oficina       Alquiler    73500.0  \n",
              "520542    42340.0      USD       Oficina       Alquiler    42340.0  \n",
              "965124    63470.0      USD       Oficina       Alquiler    63470.0  \n",
              "242864    91000.0      USD       Oficina       Alquiler    91000.0  \n",
              "...           ...      ...           ...            ...        ...  \n",
              "999598   120000.0      USD          Casa          Venta   120000.0  \n",
              "999673   300000.0      USD          Lote          Venta   300000.0  \n",
              "999819  1750000.0      USD          Casa          Venta  1750000.0  \n",
              "999928   235000.0      USD  Departamento          Venta   235000.0  \n",
              "999938    98000.0      USD  Departamento          Venta    98000.0  \n",
              "\n",
              "[465964 rows x 13 columns]"
            ],
            "text/html": [
              "\n",
              "  <div id=\"df-3d8568e5-228c-4b95-bb74-01b867d04cba\">\n",
              "    <div class=\"colab-df-container\">\n",
              "      <div>\n",
              "<style scoped>\n",
              "    .dataframe tbody tr th:only-of-type {\n",
              "        vertical-align: middle;\n",
              "    }\n",
              "\n",
              "    .dataframe tbody tr th {\n",
              "        vertical-align: top;\n",
              "    }\n",
              "\n",
              "    .dataframe thead th {\n",
              "        text-align: right;\n",
              "    }\n",
              "</style>\n",
              "<table border=\"1\" class=\"dataframe\">\n",
              "  <thead>\n",
              "    <tr style=\"text-align: right;\">\n",
              "      <th></th>\n",
              "      <th>start_date</th>\n",
              "      <th>end_date</th>\n",
              "      <th>lat</th>\n",
              "      <th>lon</th>\n",
              "      <th>l2</th>\n",
              "      <th>l3</th>\n",
              "      <th>rooms</th>\n",
              "      <th>bathrooms</th>\n",
              "      <th>price</th>\n",
              "      <th>currency</th>\n",
              "      <th>property_type</th>\n",
              "      <th>operation_type</th>\n",
              "      <th>precio</th>\n",
              "    </tr>\n",
              "  </thead>\n",
              "  <tbody>\n",
              "    <tr>\n",
              "      <th>242841</th>\n",
              "      <td>2020-07-20</td>\n",
              "      <td>9999-12-31</td>\n",
              "      <td>-34.606558</td>\n",
              "      <td>-58.371653</td>\n",
              "      <td>Capital Federal</td>\n",
              "      <td>San Nicolás</td>\n",
              "      <td>NaN</td>\n",
              "      <td>20.0</td>\n",
              "      <td>55000.0</td>\n",
              "      <td>USD</td>\n",
              "      <td>Oficina</td>\n",
              "      <td>Alquiler</td>\n",
              "      <td>55000.0</td>\n",
              "    </tr>\n",
              "    <tr>\n",
              "      <th>932251</th>\n",
              "      <td>2020-06-05</td>\n",
              "      <td>2020-06-08</td>\n",
              "      <td>-34.616042</td>\n",
              "      <td>-58.366659</td>\n",
              "      <td>Capital Federal</td>\n",
              "      <td>Puerto Madero</td>\n",
              "      <td>NaN</td>\n",
              "      <td>20.0</td>\n",
              "      <td>73500.0</td>\n",
              "      <td>USD</td>\n",
              "      <td>Oficina</td>\n",
              "      <td>Alquiler</td>\n",
              "      <td>73500.0</td>\n",
              "    </tr>\n",
              "    <tr>\n",
              "      <th>520542</th>\n",
              "      <td>2020-08-12</td>\n",
              "      <td>2020-08-25</td>\n",
              "      <td>-34.607353</td>\n",
              "      <td>-58.372332</td>\n",
              "      <td>Capital Federal</td>\n",
              "      <td>Centro / Microcentro</td>\n",
              "      <td>NaN</td>\n",
              "      <td>20.0</td>\n",
              "      <td>42340.0</td>\n",
              "      <td>USD</td>\n",
              "      <td>Oficina</td>\n",
              "      <td>Alquiler</td>\n",
              "      <td>42340.0</td>\n",
              "    </tr>\n",
              "    <tr>\n",
              "      <th>965124</th>\n",
              "      <td>2021-02-08</td>\n",
              "      <td>9999-12-31</td>\n",
              "      <td>-34.621021</td>\n",
              "      <td>-58.381737</td>\n",
              "      <td>Capital Federal</td>\n",
              "      <td>Constitución</td>\n",
              "      <td>NaN</td>\n",
              "      <td>20.0</td>\n",
              "      <td>63470.0</td>\n",
              "      <td>USD</td>\n",
              "      <td>Oficina</td>\n",
              "      <td>Alquiler</td>\n",
              "      <td>63470.0</td>\n",
              "    </tr>\n",
              "    <tr>\n",
              "      <th>242864</th>\n",
              "      <td>2020-07-20</td>\n",
              "      <td>9999-12-31</td>\n",
              "      <td>-34.616042</td>\n",
              "      <td>-58.366659</td>\n",
              "      <td>Capital Federal</td>\n",
              "      <td>Puerto Madero</td>\n",
              "      <td>NaN</td>\n",
              "      <td>20.0</td>\n",
              "      <td>91000.0</td>\n",
              "      <td>USD</td>\n",
              "      <td>Oficina</td>\n",
              "      <td>Alquiler</td>\n",
              "      <td>91000.0</td>\n",
              "    </tr>\n",
              "    <tr>\n",
              "      <th>...</th>\n",
              "      <td>...</td>\n",
              "      <td>...</td>\n",
              "      <td>...</td>\n",
              "      <td>...</td>\n",
              "      <td>...</td>\n",
              "      <td>...</td>\n",
              "      <td>...</td>\n",
              "      <td>...</td>\n",
              "      <td>...</td>\n",
              "      <td>...</td>\n",
              "      <td>...</td>\n",
              "      <td>...</td>\n",
              "      <td>...</td>\n",
              "    </tr>\n",
              "    <tr>\n",
              "      <th>999598</th>\n",
              "      <td>2020-12-04</td>\n",
              "      <td>9999-12-31</td>\n",
              "      <td>-34.638566</td>\n",
              "      <td>-58.689860</td>\n",
              "      <td>Bs.As. G.B.A. Zona Oeste</td>\n",
              "      <td>Ituzaingó</td>\n",
              "      <td>4.0</td>\n",
              "      <td>NaN</td>\n",
              "      <td>120000.0</td>\n",
              "      <td>USD</td>\n",
              "      <td>Casa</td>\n",
              "      <td>Venta</td>\n",
              "      <td>120000.0</td>\n",
              "    </tr>\n",
              "    <tr>\n",
              "      <th>999673</th>\n",
              "      <td>2020-12-04</td>\n",
              "      <td>2021-07-02</td>\n",
              "      <td>-34.807659</td>\n",
              "      <td>-58.396121</td>\n",
              "      <td>Bs.As. G.B.A. Zona Sur</td>\n",
              "      <td>Almirante Brown</td>\n",
              "      <td>5.0</td>\n",
              "      <td>NaN</td>\n",
              "      <td>300000.0</td>\n",
              "      <td>USD</td>\n",
              "      <td>Lote</td>\n",
              "      <td>Venta</td>\n",
              "      <td>300000.0</td>\n",
              "    </tr>\n",
              "    <tr>\n",
              "      <th>999819</th>\n",
              "      <td>2020-12-04</td>\n",
              "      <td>2020-12-16</td>\n",
              "      <td>-34.422371</td>\n",
              "      <td>-58.657596</td>\n",
              "      <td>Bs.As. G.B.A. Zona Norte</td>\n",
              "      <td>Tigre</td>\n",
              "      <td>7.0</td>\n",
              "      <td>NaN</td>\n",
              "      <td>1750000.0</td>\n",
              "      <td>USD</td>\n",
              "      <td>Casa</td>\n",
              "      <td>Venta</td>\n",
              "      <td>1750000.0</td>\n",
              "    </tr>\n",
              "    <tr>\n",
              "      <th>999928</th>\n",
              "      <td>2020-12-04</td>\n",
              "      <td>9999-12-31</td>\n",
              "      <td>-34.614237</td>\n",
              "      <td>-58.394551</td>\n",
              "      <td>Capital Federal</td>\n",
              "      <td>Balvanera</td>\n",
              "      <td>5.0</td>\n",
              "      <td>NaN</td>\n",
              "      <td>235000.0</td>\n",
              "      <td>USD</td>\n",
              "      <td>Departamento</td>\n",
              "      <td>Venta</td>\n",
              "      <td>235000.0</td>\n",
              "    </tr>\n",
              "    <tr>\n",
              "      <th>999938</th>\n",
              "      <td>2020-12-04</td>\n",
              "      <td>2020-12-16</td>\n",
              "      <td>-34.651733</td>\n",
              "      <td>-58.530917</td>\n",
              "      <td>Bs.As. G.B.A. Zona Oeste</td>\n",
              "      <td>Tres de Febrero</td>\n",
              "      <td>5.0</td>\n",
              "      <td>NaN</td>\n",
              "      <td>98000.0</td>\n",
              "      <td>USD</td>\n",
              "      <td>Departamento</td>\n",
              "      <td>Venta</td>\n",
              "      <td>98000.0</td>\n",
              "    </tr>\n",
              "  </tbody>\n",
              "</table>\n",
              "<p>465964 rows × 13 columns</p>\n",
              "</div>\n",
              "      <button class=\"colab-df-convert\" onclick=\"convertToInteractive('df-3d8568e5-228c-4b95-bb74-01b867d04cba')\"\n",
              "              title=\"Convert this dataframe to an interactive table.\"\n",
              "              style=\"display:none;\">\n",
              "        \n",
              "  <svg xmlns=\"http://www.w3.org/2000/svg\" height=\"24px\"viewBox=\"0 0 24 24\"\n",
              "       width=\"24px\">\n",
              "    <path d=\"M0 0h24v24H0V0z\" fill=\"none\"/>\n",
              "    <path d=\"M18.56 5.44l.94 2.06.94-2.06 2.06-.94-2.06-.94-.94-2.06-.94 2.06-2.06.94zm-11 1L8.5 8.5l.94-2.06 2.06-.94-2.06-.94L8.5 2.5l-.94 2.06-2.06.94zm10 10l.94 2.06.94-2.06 2.06-.94-2.06-.94-.94-2.06-.94 2.06-2.06.94z\"/><path d=\"M17.41 7.96l-1.37-1.37c-.4-.4-.92-.59-1.43-.59-.52 0-1.04.2-1.43.59L10.3 9.45l-7.72 7.72c-.78.78-.78 2.05 0 2.83L4 21.41c.39.39.9.59 1.41.59.51 0 1.02-.2 1.41-.59l7.78-7.78 2.81-2.81c.8-.78.8-2.07 0-2.86zM5.41 20L4 18.59l7.72-7.72 1.47 1.35L5.41 20z\"/>\n",
              "  </svg>\n",
              "      </button>\n",
              "      \n",
              "  <style>\n",
              "    .colab-df-container {\n",
              "      display:flex;\n",
              "      flex-wrap:wrap;\n",
              "      gap: 12px;\n",
              "    }\n",
              "\n",
              "    .colab-df-convert {\n",
              "      background-color: #E8F0FE;\n",
              "      border: none;\n",
              "      border-radius: 50%;\n",
              "      cursor: pointer;\n",
              "      display: none;\n",
              "      fill: #1967D2;\n",
              "      height: 32px;\n",
              "      padding: 0 0 0 0;\n",
              "      width: 32px;\n",
              "    }\n",
              "\n",
              "    .colab-df-convert:hover {\n",
              "      background-color: #E2EBFA;\n",
              "      box-shadow: 0px 1px 2px rgba(60, 64, 67, 0.3), 0px 1px 3px 1px rgba(60, 64, 67, 0.15);\n",
              "      fill: #174EA6;\n",
              "    }\n",
              "\n",
              "    [theme=dark] .colab-df-convert {\n",
              "      background-color: #3B4455;\n",
              "      fill: #D2E3FC;\n",
              "    }\n",
              "\n",
              "    [theme=dark] .colab-df-convert:hover {\n",
              "      background-color: #434B5C;\n",
              "      box-shadow: 0px 1px 3px 1px rgba(0, 0, 0, 0.15);\n",
              "      filter: drop-shadow(0px 1px 2px rgba(0, 0, 0, 0.3));\n",
              "      fill: #FFFFFF;\n",
              "    }\n",
              "  </style>\n",
              "\n",
              "      <script>\n",
              "        const buttonEl =\n",
              "          document.querySelector('#df-3d8568e5-228c-4b95-bb74-01b867d04cba button.colab-df-convert');\n",
              "        buttonEl.style.display =\n",
              "          google.colab.kernel.accessAllowed ? 'block' : 'none';\n",
              "\n",
              "        async function convertToInteractive(key) {\n",
              "          const element = document.querySelector('#df-3d8568e5-228c-4b95-bb74-01b867d04cba');\n",
              "          const dataTable =\n",
              "            await google.colab.kernel.invokeFunction('convertToInteractive',\n",
              "                                                     [key], {});\n",
              "          if (!dataTable) return;\n",
              "\n",
              "          const docLinkHtml = 'Like what you see? Visit the ' +\n",
              "            '<a target=\"_blank\" href=https://colab.research.google.com/notebooks/data_table.ipynb>data table notebook</a>'\n",
              "            + ' to learn more about interactive tables.';\n",
              "          element.innerHTML = '';\n",
              "          dataTable['output_type'] = 'display_data';\n",
              "          await google.colab.output.renderOutput(dataTable, element);\n",
              "          const docLink = document.createElement('div');\n",
              "          docLink.innerHTML = docLinkHtml;\n",
              "          element.appendChild(docLink);\n",
              "        }\n",
              "      </script>\n",
              "    </div>\n",
              "  </div>\n",
              "  "
            ]
          },
          "metadata": {},
          "execution_count": 106
        }
      ],
      "source": [
        "prop.sort_values(by=[\"bathrooms\"], ascending=False)"
      ]
    },
    {
      "cell_type": "code",
      "source": [
        "prop.sort_values(by=[\"bathrooms\"], ascending=True)"
      ],
      "metadata": {
        "colab": {
          "base_uri": "https://localhost:8080/",
          "height": 800
        },
        "id": "2wR7ZZtHPvIe",
        "outputId": "d6cd7786-c138-48b4-d06d-7b255feac894"
      },
      "id": "2wR7ZZtHPvIe",
      "execution_count": 107,
      "outputs": [
        {
          "output_type": "execute_result",
          "data": {
            "text/plain": [
              "        start_date    end_date        lat        lon  \\\n",
              "512322  2021-05-14  2021-05-17 -34.555853 -58.455217   \n",
              "452271  2020-09-08  2021-03-17 -34.593986 -58.441347   \n",
              "452272  2020-09-08  2020-11-10 -34.606274 -58.452012   \n",
              "452273  2020-09-08  2020-12-03 -34.597223 -58.443872   \n",
              "452274  2020-09-08  2020-09-22 -34.594978 -58.441647   \n",
              "...            ...         ...        ...        ...   \n",
              "999598  2020-12-04  9999-12-31 -34.638566 -58.689860   \n",
              "999673  2020-12-04  2021-07-02 -34.807659 -58.396121   \n",
              "999819  2020-12-04  2020-12-16 -34.422371 -58.657596   \n",
              "999928  2020-12-04  9999-12-31 -34.614237 -58.394551   \n",
              "999938  2020-12-04  2020-12-16 -34.651733 -58.530917   \n",
              "\n",
              "                              l2               l3  rooms  bathrooms  \\\n",
              "512322           Capital Federal         Belgrano    2.0        1.0   \n",
              "452271           Capital Federal     Villa Crespo    1.0        1.0   \n",
              "452272           Capital Federal     Villa Crespo    2.0        1.0   \n",
              "452273           Capital Federal     Villa Crespo    2.0        1.0   \n",
              "452274           Capital Federal     Villa Crespo    2.0        1.0   \n",
              "...                          ...              ...    ...        ...   \n",
              "999598  Bs.As. G.B.A. Zona Oeste        Ituzaingó    4.0        NaN   \n",
              "999673    Bs.As. G.B.A. Zona Sur  Almirante Brown    5.0        NaN   \n",
              "999819  Bs.As. G.B.A. Zona Norte            Tigre    7.0        NaN   \n",
              "999928           Capital Federal        Balvanera    5.0        NaN   \n",
              "999938  Bs.As. G.B.A. Zona Oeste  Tres de Febrero    5.0        NaN   \n",
              "\n",
              "            price currency property_type operation_type        precio  \n",
              "512322    39500.0      ARS  Departamento       Alquiler  1.395760e+02  \n",
              "452271    80000.0      USD  Departamento          Venta  8.000000e+04  \n",
              "452272   105000.0      USD  Departamento          Venta  1.050000e+05  \n",
              "452273   115000.0      USD  Departamento          Venta  1.150000e+05  \n",
              "452274   130000.0      USD  Departamento          Venta  1.300000e+05  \n",
              "...           ...      ...           ...            ...           ...  \n",
              "999598   120000.0      USD          Casa          Venta  1.200000e+05  \n",
              "999673   300000.0      USD          Lote          Venta  3.000000e+05  \n",
              "999819  1750000.0      USD          Casa          Venta  1.750000e+06  \n",
              "999928   235000.0      USD  Departamento          Venta  2.350000e+05  \n",
              "999938    98000.0      USD  Departamento          Venta  9.800000e+04  \n",
              "\n",
              "[465964 rows x 13 columns]"
            ],
            "text/html": [
              "\n",
              "  <div id=\"df-e3110fb5-396d-4221-9b7e-cc744dda3d23\">\n",
              "    <div class=\"colab-df-container\">\n",
              "      <div>\n",
              "<style scoped>\n",
              "    .dataframe tbody tr th:only-of-type {\n",
              "        vertical-align: middle;\n",
              "    }\n",
              "\n",
              "    .dataframe tbody tr th {\n",
              "        vertical-align: top;\n",
              "    }\n",
              "\n",
              "    .dataframe thead th {\n",
              "        text-align: right;\n",
              "    }\n",
              "</style>\n",
              "<table border=\"1\" class=\"dataframe\">\n",
              "  <thead>\n",
              "    <tr style=\"text-align: right;\">\n",
              "      <th></th>\n",
              "      <th>start_date</th>\n",
              "      <th>end_date</th>\n",
              "      <th>lat</th>\n",
              "      <th>lon</th>\n",
              "      <th>l2</th>\n",
              "      <th>l3</th>\n",
              "      <th>rooms</th>\n",
              "      <th>bathrooms</th>\n",
              "      <th>price</th>\n",
              "      <th>currency</th>\n",
              "      <th>property_type</th>\n",
              "      <th>operation_type</th>\n",
              "      <th>precio</th>\n",
              "    </tr>\n",
              "  </thead>\n",
              "  <tbody>\n",
              "    <tr>\n",
              "      <th>512322</th>\n",
              "      <td>2021-05-14</td>\n",
              "      <td>2021-05-17</td>\n",
              "      <td>-34.555853</td>\n",
              "      <td>-58.455217</td>\n",
              "      <td>Capital Federal</td>\n",
              "      <td>Belgrano</td>\n",
              "      <td>2.0</td>\n",
              "      <td>1.0</td>\n",
              "      <td>39500.0</td>\n",
              "      <td>ARS</td>\n",
              "      <td>Departamento</td>\n",
              "      <td>Alquiler</td>\n",
              "      <td>1.395760e+02</td>\n",
              "    </tr>\n",
              "    <tr>\n",
              "      <th>452271</th>\n",
              "      <td>2020-09-08</td>\n",
              "      <td>2021-03-17</td>\n",
              "      <td>-34.593986</td>\n",
              "      <td>-58.441347</td>\n",
              "      <td>Capital Federal</td>\n",
              "      <td>Villa Crespo</td>\n",
              "      <td>1.0</td>\n",
              "      <td>1.0</td>\n",
              "      <td>80000.0</td>\n",
              "      <td>USD</td>\n",
              "      <td>Departamento</td>\n",
              "      <td>Venta</td>\n",
              "      <td>8.000000e+04</td>\n",
              "    </tr>\n",
              "    <tr>\n",
              "      <th>452272</th>\n",
              "      <td>2020-09-08</td>\n",
              "      <td>2020-11-10</td>\n",
              "      <td>-34.606274</td>\n",
              "      <td>-58.452012</td>\n",
              "      <td>Capital Federal</td>\n",
              "      <td>Villa Crespo</td>\n",
              "      <td>2.0</td>\n",
              "      <td>1.0</td>\n",
              "      <td>105000.0</td>\n",
              "      <td>USD</td>\n",
              "      <td>Departamento</td>\n",
              "      <td>Venta</td>\n",
              "      <td>1.050000e+05</td>\n",
              "    </tr>\n",
              "    <tr>\n",
              "      <th>452273</th>\n",
              "      <td>2020-09-08</td>\n",
              "      <td>2020-12-03</td>\n",
              "      <td>-34.597223</td>\n",
              "      <td>-58.443872</td>\n",
              "      <td>Capital Federal</td>\n",
              "      <td>Villa Crespo</td>\n",
              "      <td>2.0</td>\n",
              "      <td>1.0</td>\n",
              "      <td>115000.0</td>\n",
              "      <td>USD</td>\n",
              "      <td>Departamento</td>\n",
              "      <td>Venta</td>\n",
              "      <td>1.150000e+05</td>\n",
              "    </tr>\n",
              "    <tr>\n",
              "      <th>452274</th>\n",
              "      <td>2020-09-08</td>\n",
              "      <td>2020-09-22</td>\n",
              "      <td>-34.594978</td>\n",
              "      <td>-58.441647</td>\n",
              "      <td>Capital Federal</td>\n",
              "      <td>Villa Crespo</td>\n",
              "      <td>2.0</td>\n",
              "      <td>1.0</td>\n",
              "      <td>130000.0</td>\n",
              "      <td>USD</td>\n",
              "      <td>Departamento</td>\n",
              "      <td>Venta</td>\n",
              "      <td>1.300000e+05</td>\n",
              "    </tr>\n",
              "    <tr>\n",
              "      <th>...</th>\n",
              "      <td>...</td>\n",
              "      <td>...</td>\n",
              "      <td>...</td>\n",
              "      <td>...</td>\n",
              "      <td>...</td>\n",
              "      <td>...</td>\n",
              "      <td>...</td>\n",
              "      <td>...</td>\n",
              "      <td>...</td>\n",
              "      <td>...</td>\n",
              "      <td>...</td>\n",
              "      <td>...</td>\n",
              "      <td>...</td>\n",
              "    </tr>\n",
              "    <tr>\n",
              "      <th>999598</th>\n",
              "      <td>2020-12-04</td>\n",
              "      <td>9999-12-31</td>\n",
              "      <td>-34.638566</td>\n",
              "      <td>-58.689860</td>\n",
              "      <td>Bs.As. G.B.A. Zona Oeste</td>\n",
              "      <td>Ituzaingó</td>\n",
              "      <td>4.0</td>\n",
              "      <td>NaN</td>\n",
              "      <td>120000.0</td>\n",
              "      <td>USD</td>\n",
              "      <td>Casa</td>\n",
              "      <td>Venta</td>\n",
              "      <td>1.200000e+05</td>\n",
              "    </tr>\n",
              "    <tr>\n",
              "      <th>999673</th>\n",
              "      <td>2020-12-04</td>\n",
              "      <td>2021-07-02</td>\n",
              "      <td>-34.807659</td>\n",
              "      <td>-58.396121</td>\n",
              "      <td>Bs.As. G.B.A. Zona Sur</td>\n",
              "      <td>Almirante Brown</td>\n",
              "      <td>5.0</td>\n",
              "      <td>NaN</td>\n",
              "      <td>300000.0</td>\n",
              "      <td>USD</td>\n",
              "      <td>Lote</td>\n",
              "      <td>Venta</td>\n",
              "      <td>3.000000e+05</td>\n",
              "    </tr>\n",
              "    <tr>\n",
              "      <th>999819</th>\n",
              "      <td>2020-12-04</td>\n",
              "      <td>2020-12-16</td>\n",
              "      <td>-34.422371</td>\n",
              "      <td>-58.657596</td>\n",
              "      <td>Bs.As. G.B.A. Zona Norte</td>\n",
              "      <td>Tigre</td>\n",
              "      <td>7.0</td>\n",
              "      <td>NaN</td>\n",
              "      <td>1750000.0</td>\n",
              "      <td>USD</td>\n",
              "      <td>Casa</td>\n",
              "      <td>Venta</td>\n",
              "      <td>1.750000e+06</td>\n",
              "    </tr>\n",
              "    <tr>\n",
              "      <th>999928</th>\n",
              "      <td>2020-12-04</td>\n",
              "      <td>9999-12-31</td>\n",
              "      <td>-34.614237</td>\n",
              "      <td>-58.394551</td>\n",
              "      <td>Capital Federal</td>\n",
              "      <td>Balvanera</td>\n",
              "      <td>5.0</td>\n",
              "      <td>NaN</td>\n",
              "      <td>235000.0</td>\n",
              "      <td>USD</td>\n",
              "      <td>Departamento</td>\n",
              "      <td>Venta</td>\n",
              "      <td>2.350000e+05</td>\n",
              "    </tr>\n",
              "    <tr>\n",
              "      <th>999938</th>\n",
              "      <td>2020-12-04</td>\n",
              "      <td>2020-12-16</td>\n",
              "      <td>-34.651733</td>\n",
              "      <td>-58.530917</td>\n",
              "      <td>Bs.As. G.B.A. Zona Oeste</td>\n",
              "      <td>Tres de Febrero</td>\n",
              "      <td>5.0</td>\n",
              "      <td>NaN</td>\n",
              "      <td>98000.0</td>\n",
              "      <td>USD</td>\n",
              "      <td>Departamento</td>\n",
              "      <td>Venta</td>\n",
              "      <td>9.800000e+04</td>\n",
              "    </tr>\n",
              "  </tbody>\n",
              "</table>\n",
              "<p>465964 rows × 13 columns</p>\n",
              "</div>\n",
              "      <button class=\"colab-df-convert\" onclick=\"convertToInteractive('df-e3110fb5-396d-4221-9b7e-cc744dda3d23')\"\n",
              "              title=\"Convert this dataframe to an interactive table.\"\n",
              "              style=\"display:none;\">\n",
              "        \n",
              "  <svg xmlns=\"http://www.w3.org/2000/svg\" height=\"24px\"viewBox=\"0 0 24 24\"\n",
              "       width=\"24px\">\n",
              "    <path d=\"M0 0h24v24H0V0z\" fill=\"none\"/>\n",
              "    <path d=\"M18.56 5.44l.94 2.06.94-2.06 2.06-.94-2.06-.94-.94-2.06-.94 2.06-2.06.94zm-11 1L8.5 8.5l.94-2.06 2.06-.94-2.06-.94L8.5 2.5l-.94 2.06-2.06.94zm10 10l.94 2.06.94-2.06 2.06-.94-2.06-.94-.94-2.06-.94 2.06-2.06.94z\"/><path d=\"M17.41 7.96l-1.37-1.37c-.4-.4-.92-.59-1.43-.59-.52 0-1.04.2-1.43.59L10.3 9.45l-7.72 7.72c-.78.78-.78 2.05 0 2.83L4 21.41c.39.39.9.59 1.41.59.51 0 1.02-.2 1.41-.59l7.78-7.78 2.81-2.81c.8-.78.8-2.07 0-2.86zM5.41 20L4 18.59l7.72-7.72 1.47 1.35L5.41 20z\"/>\n",
              "  </svg>\n",
              "      </button>\n",
              "      \n",
              "  <style>\n",
              "    .colab-df-container {\n",
              "      display:flex;\n",
              "      flex-wrap:wrap;\n",
              "      gap: 12px;\n",
              "    }\n",
              "\n",
              "    .colab-df-convert {\n",
              "      background-color: #E8F0FE;\n",
              "      border: none;\n",
              "      border-radius: 50%;\n",
              "      cursor: pointer;\n",
              "      display: none;\n",
              "      fill: #1967D2;\n",
              "      height: 32px;\n",
              "      padding: 0 0 0 0;\n",
              "      width: 32px;\n",
              "    }\n",
              "\n",
              "    .colab-df-convert:hover {\n",
              "      background-color: #E2EBFA;\n",
              "      box-shadow: 0px 1px 2px rgba(60, 64, 67, 0.3), 0px 1px 3px 1px rgba(60, 64, 67, 0.15);\n",
              "      fill: #174EA6;\n",
              "    }\n",
              "\n",
              "    [theme=dark] .colab-df-convert {\n",
              "      background-color: #3B4455;\n",
              "      fill: #D2E3FC;\n",
              "    }\n",
              "\n",
              "    [theme=dark] .colab-df-convert:hover {\n",
              "      background-color: #434B5C;\n",
              "      box-shadow: 0px 1px 3px 1px rgba(0, 0, 0, 0.15);\n",
              "      filter: drop-shadow(0px 1px 2px rgba(0, 0, 0, 0.3));\n",
              "      fill: #FFFFFF;\n",
              "    }\n",
              "  </style>\n",
              "\n",
              "      <script>\n",
              "        const buttonEl =\n",
              "          document.querySelector('#df-e3110fb5-396d-4221-9b7e-cc744dda3d23 button.colab-df-convert');\n",
              "        buttonEl.style.display =\n",
              "          google.colab.kernel.accessAllowed ? 'block' : 'none';\n",
              "\n",
              "        async function convertToInteractive(key) {\n",
              "          const element = document.querySelector('#df-e3110fb5-396d-4221-9b7e-cc744dda3d23');\n",
              "          const dataTable =\n",
              "            await google.colab.kernel.invokeFunction('convertToInteractive',\n",
              "                                                     [key], {});\n",
              "          if (!dataTable) return;\n",
              "\n",
              "          const docLinkHtml = 'Like what you see? Visit the ' +\n",
              "            '<a target=\"_blank\" href=https://colab.research.google.com/notebooks/data_table.ipynb>data table notebook</a>'\n",
              "            + ' to learn more about interactive tables.';\n",
              "          element.innerHTML = '';\n",
              "          dataTable['output_type'] = 'display_data';\n",
              "          await google.colab.output.renderOutput(dataTable, element);\n",
              "          const docLink = document.createElement('div');\n",
              "          docLink.innerHTML = docLinkHtml;\n",
              "          element.appendChild(docLink);\n",
              "        }\n",
              "      </script>\n",
              "    </div>\n",
              "  </div>\n",
              "  "
            ]
          },
          "metadata": {},
          "execution_count": 107
        }
      ]
    },
    {
      "cell_type": "markdown",
      "source": [
        "### <font color=\"RoyalBlue\"> **Mas de 8 baños o mas de 15 habitaciones**"
      ],
      "metadata": {
        "id": "LRICAjpChmkr"
      },
      "id": "LRICAjpChmkr"
    },
    {
      "cell_type": "markdown",
      "id": "2b6f1cd1",
      "metadata": {
        "id": "2b6f1cd1"
      },
      "source": [
        "***Eliminar los registros que tengan mas de $8$ baños o mas de $15$ habitaciones...***"
      ]
    },
    {
      "cell_type": "code",
      "source": [
        "prop.shape"
      ],
      "metadata": {
        "colab": {
          "base_uri": "https://localhost:8080/"
        },
        "id": "qQSv5Bg7Qfs8",
        "outputId": "814ddffd-eea3-4b33-fb90-0948c3e8fb32"
      },
      "id": "qQSv5Bg7Qfs8",
      "execution_count": 108,
      "outputs": [
        {
          "output_type": "execute_result",
          "data": {
            "text/plain": [
              "(465964, 13)"
            ]
          },
          "metadata": {},
          "execution_count": 108
        }
      ]
    },
    {
      "cell_type": "code",
      "execution_count": 109,
      "id": "b78acd68",
      "metadata": {
        "id": "b78acd68"
      },
      "outputs": [],
      "source": [
        "prop = prop.loc[~((prop.bathrooms > 8) | (prop.rooms > 15)),:]"
      ]
    },
    {
      "cell_type": "markdown",
      "id": "e9d2167f",
      "metadata": {
        "id": "e9d2167f"
      },
      "source": [
        "***Eliminar la columna ```price``` y ```currency```, ya que vamos a utilizar la columna precio...***"
      ]
    },
    {
      "cell_type": "code",
      "execution_count": 110,
      "id": "07f1e1f0",
      "metadata": {
        "id": "07f1e1f0"
      },
      "outputs": [],
      "source": [
        "prop = prop.drop(columns=[\"price\", \"currency\"])"
      ]
    },
    {
      "cell_type": "code",
      "source": [
        "prop.shape"
      ],
      "metadata": {
        "colab": {
          "base_uri": "https://localhost:8080/"
        },
        "id": "MIR4H6ZcQsXc",
        "outputId": "cb76a31a-8e63-46cd-d6a6-7391b1471da4"
      },
      "id": "MIR4H6ZcQsXc",
      "execution_count": 111,
      "outputs": [
        {
          "output_type": "execute_result",
          "data": {
            "text/plain": [
              "(465451, 11)"
            ]
          },
          "metadata": {},
          "execution_count": 111
        }
      ]
    },
    {
      "cell_type": "markdown",
      "source": [
        "<font color=\"RoyalBlue\"> 🔵 **PUNTO DE REVISIÓN**\n",
        "\n",
        "***A esta altura el dataframe tiene $465451$ filas y $11$ columnas...***"
      ],
      "metadata": {
        "id": "hvwmgZeeZHFV"
      },
      "id": "hvwmgZeeZHFV"
    },
    {
      "cell_type": "markdown",
      "source": [
        "### <font color=\"RoyalBlue\"> **Rellenado**\n"
      ],
      "metadata": {
        "id": "QiQjjpgZ4kx7"
      },
      "id": "QiQjjpgZ4kx7"
    },
    {
      "cell_type": "markdown",
      "id": "4370209b",
      "metadata": {
        "id": "4370209b"
      },
      "source": [
        "- ***Rellenar los NaN de bathrooms con la mediana de la columna bathrooms, hacer lo mismo con la columna rooms.***\n",
        "\n",
        "Pero antes vamos a marcar los registros a los cuales vamos a inferir, para eso **primero de rellenar**, crea una columna llamada **rellenado** la cual tendra un 1 si alguno de sus campos fue rellenado por nosotros o 0 si no fue rellenado."
      ]
    },
    {
      "cell_type": "code",
      "execution_count": 112,
      "id": "cefdd21a",
      "metadata": {
        "id": "cefdd21a",
        "colab": {
          "base_uri": "https://localhost:8080/"
        },
        "outputId": "a1cda447-8204-4443-95fd-90df0860b8e2"
      },
      "outputs": [
        {
          "output_type": "execute_result",
          "data": {
            "text/plain": [
              "array([nan,  2.,  3.,  1.,  4.,  5.,  8.,  6.,  7.])"
            ]
          },
          "metadata": {},
          "execution_count": 112
        }
      ],
      "source": [
        "prop.bathrooms.unique()"
      ]
    },
    {
      "cell_type": "code",
      "source": [
        "prop.rooms.unique()"
      ],
      "metadata": {
        "colab": {
          "base_uri": "https://localhost:8080/"
        },
        "id": "PEEiT9g0RAVk",
        "outputId": "7c67cf71-2f49-457e-b713-19240531de8d"
      },
      "id": "PEEiT9g0RAVk",
      "execution_count": 113,
      "outputs": [
        {
          "output_type": "execute_result",
          "data": {
            "text/plain": [
              "array([nan,  3.,  1.,  2.,  4.,  5.,  7.,  6.,  8., 12.,  9., 10., 15.,\n",
              "       11., 14., 13.])"
            ]
          },
          "metadata": {},
          "execution_count": 113
        }
      ]
    },
    {
      "cell_type": "code",
      "source": [
        "cond2 = [(prop['rooms'].isna()), (prop['bathrooms'].isna()), (~(prop['rooms'].isna())), (~(prop['bathrooms'].isna()))]\n",
        "\n",
        "selec2 = 1, 1, 0, 0\n",
        "\n",
        "prop['rellenado'] = np.select(cond2, selec2)\n",
        "prop"
      ],
      "metadata": {
        "colab": {
          "base_uri": "https://localhost:8080/",
          "height": 814
        },
        "id": "J8p13xtjzmmR",
        "outputId": "070a27d3-89a0-4cdd-db7f-c6e3647daeba"
      },
      "id": "J8p13xtjzmmR",
      "execution_count": 114,
      "outputs": [
        {
          "output_type": "execute_result",
          "data": {
            "text/plain": [
              "        start_date    end_date        lat        lon  \\\n",
              "16      2020-08-22  2020-09-04 -34.633053 -58.419906   \n",
              "17      2020-08-22  2020-09-04 -34.397401 -58.649185   \n",
              "18      2020-08-22  2020-09-04 -34.397401 -58.649185   \n",
              "19      2020-08-22  2020-09-04 -34.598112 -58.400784   \n",
              "20      2020-08-22  2020-09-04 -34.604054 -58.393770   \n",
              "...            ...         ...        ...        ...   \n",
              "999990  2020-12-04  2020-12-16 -34.462664 -58.625235   \n",
              "999991  2020-12-04  2021-01-05 -34.473210 -58.760048   \n",
              "999993  2020-12-04  9999-12-31 -34.482248 -58.501989   \n",
              "999996  2020-12-04  9999-12-31 -34.596587 -58.376893   \n",
              "999997  2020-12-04  9999-12-31 -34.576445 -58.432603   \n",
              "\n",
              "                              l2                   l3  rooms  bathrooms  \\\n",
              "16               Capital Federal                Boedo    NaN        NaN   \n",
              "17      Bs.As. G.B.A. Zona Norte                Tigre    NaN        2.0   \n",
              "18      Bs.As. G.B.A. Zona Norte                Tigre    NaN        2.0   \n",
              "19               Capital Federal             Recoleta    NaN        3.0   \n",
              "20               Capital Federal            Balvanera    NaN        1.0   \n",
              "...                          ...                  ...    ...        ...   \n",
              "999990  Bs.As. G.B.A. Zona Norte                Tigre    NaN        5.0   \n",
              "999991  Bs.As. G.B.A. Zona Norte  Malvinas Argentinas    NaN        2.0   \n",
              "999993  Bs.As. G.B.A. Zona Norte           San Isidro   11.0        4.0   \n",
              "999996           Capital Federal               Retiro   12.0        5.0   \n",
              "999997           Capital Federal              Palermo   14.0        2.0   \n",
              "\n",
              "          property_type operation_type        precio  rellenado  \n",
              "16              Oficina       Alquiler  2.473498e+02          1  \n",
              "17              Oficina       Alquiler  1.236749e+02          1  \n",
              "18              Oficina       Alquiler  9.540636e+01          1  \n",
              "19              Oficina       Alquiler  2.296820e+02          1  \n",
              "20              Oficina       Alquiler  2.120141e+02          1  \n",
              "...                 ...            ...           ...        ...  \n",
              "999990             Casa          Venta  1.200000e+06          1  \n",
              "999991             Casa          Venta  1.120000e+05          1  \n",
              "999993             Casa          Venta  6.900000e+05          0  \n",
              "999996  Local comercial       Alquiler  3.700000e+03          0  \n",
              "999997  Local comercial          Venta  5.700000e+05          0  \n",
              "\n",
              "[465451 rows x 12 columns]"
            ],
            "text/html": [
              "\n",
              "  <div id=\"df-82f25a0d-fb86-4072-8af2-6bc5aa859038\">\n",
              "    <div class=\"colab-df-container\">\n",
              "      <div>\n",
              "<style scoped>\n",
              "    .dataframe tbody tr th:only-of-type {\n",
              "        vertical-align: middle;\n",
              "    }\n",
              "\n",
              "    .dataframe tbody tr th {\n",
              "        vertical-align: top;\n",
              "    }\n",
              "\n",
              "    .dataframe thead th {\n",
              "        text-align: right;\n",
              "    }\n",
              "</style>\n",
              "<table border=\"1\" class=\"dataframe\">\n",
              "  <thead>\n",
              "    <tr style=\"text-align: right;\">\n",
              "      <th></th>\n",
              "      <th>start_date</th>\n",
              "      <th>end_date</th>\n",
              "      <th>lat</th>\n",
              "      <th>lon</th>\n",
              "      <th>l2</th>\n",
              "      <th>l3</th>\n",
              "      <th>rooms</th>\n",
              "      <th>bathrooms</th>\n",
              "      <th>property_type</th>\n",
              "      <th>operation_type</th>\n",
              "      <th>precio</th>\n",
              "      <th>rellenado</th>\n",
              "    </tr>\n",
              "  </thead>\n",
              "  <tbody>\n",
              "    <tr>\n",
              "      <th>16</th>\n",
              "      <td>2020-08-22</td>\n",
              "      <td>2020-09-04</td>\n",
              "      <td>-34.633053</td>\n",
              "      <td>-58.419906</td>\n",
              "      <td>Capital Federal</td>\n",
              "      <td>Boedo</td>\n",
              "      <td>NaN</td>\n",
              "      <td>NaN</td>\n",
              "      <td>Oficina</td>\n",
              "      <td>Alquiler</td>\n",
              "      <td>2.473498e+02</td>\n",
              "      <td>1</td>\n",
              "    </tr>\n",
              "    <tr>\n",
              "      <th>17</th>\n",
              "      <td>2020-08-22</td>\n",
              "      <td>2020-09-04</td>\n",
              "      <td>-34.397401</td>\n",
              "      <td>-58.649185</td>\n",
              "      <td>Bs.As. G.B.A. Zona Norte</td>\n",
              "      <td>Tigre</td>\n",
              "      <td>NaN</td>\n",
              "      <td>2.0</td>\n",
              "      <td>Oficina</td>\n",
              "      <td>Alquiler</td>\n",
              "      <td>1.236749e+02</td>\n",
              "      <td>1</td>\n",
              "    </tr>\n",
              "    <tr>\n",
              "      <th>18</th>\n",
              "      <td>2020-08-22</td>\n",
              "      <td>2020-09-04</td>\n",
              "      <td>-34.397401</td>\n",
              "      <td>-58.649185</td>\n",
              "      <td>Bs.As. G.B.A. Zona Norte</td>\n",
              "      <td>Tigre</td>\n",
              "      <td>NaN</td>\n",
              "      <td>2.0</td>\n",
              "      <td>Oficina</td>\n",
              "      <td>Alquiler</td>\n",
              "      <td>9.540636e+01</td>\n",
              "      <td>1</td>\n",
              "    </tr>\n",
              "    <tr>\n",
              "      <th>19</th>\n",
              "      <td>2020-08-22</td>\n",
              "      <td>2020-09-04</td>\n",
              "      <td>-34.598112</td>\n",
              "      <td>-58.400784</td>\n",
              "      <td>Capital Federal</td>\n",
              "      <td>Recoleta</td>\n",
              "      <td>NaN</td>\n",
              "      <td>3.0</td>\n",
              "      <td>Oficina</td>\n",
              "      <td>Alquiler</td>\n",
              "      <td>2.296820e+02</td>\n",
              "      <td>1</td>\n",
              "    </tr>\n",
              "    <tr>\n",
              "      <th>20</th>\n",
              "      <td>2020-08-22</td>\n",
              "      <td>2020-09-04</td>\n",
              "      <td>-34.604054</td>\n",
              "      <td>-58.393770</td>\n",
              "      <td>Capital Federal</td>\n",
              "      <td>Balvanera</td>\n",
              "      <td>NaN</td>\n",
              "      <td>1.0</td>\n",
              "      <td>Oficina</td>\n",
              "      <td>Alquiler</td>\n",
              "      <td>2.120141e+02</td>\n",
              "      <td>1</td>\n",
              "    </tr>\n",
              "    <tr>\n",
              "      <th>...</th>\n",
              "      <td>...</td>\n",
              "      <td>...</td>\n",
              "      <td>...</td>\n",
              "      <td>...</td>\n",
              "      <td>...</td>\n",
              "      <td>...</td>\n",
              "      <td>...</td>\n",
              "      <td>...</td>\n",
              "      <td>...</td>\n",
              "      <td>...</td>\n",
              "      <td>...</td>\n",
              "      <td>...</td>\n",
              "    </tr>\n",
              "    <tr>\n",
              "      <th>999990</th>\n",
              "      <td>2020-12-04</td>\n",
              "      <td>2020-12-16</td>\n",
              "      <td>-34.462664</td>\n",
              "      <td>-58.625235</td>\n",
              "      <td>Bs.As. G.B.A. Zona Norte</td>\n",
              "      <td>Tigre</td>\n",
              "      <td>NaN</td>\n",
              "      <td>5.0</td>\n",
              "      <td>Casa</td>\n",
              "      <td>Venta</td>\n",
              "      <td>1.200000e+06</td>\n",
              "      <td>1</td>\n",
              "    </tr>\n",
              "    <tr>\n",
              "      <th>999991</th>\n",
              "      <td>2020-12-04</td>\n",
              "      <td>2021-01-05</td>\n",
              "      <td>-34.473210</td>\n",
              "      <td>-58.760048</td>\n",
              "      <td>Bs.As. G.B.A. Zona Norte</td>\n",
              "      <td>Malvinas Argentinas</td>\n",
              "      <td>NaN</td>\n",
              "      <td>2.0</td>\n",
              "      <td>Casa</td>\n",
              "      <td>Venta</td>\n",
              "      <td>1.120000e+05</td>\n",
              "      <td>1</td>\n",
              "    </tr>\n",
              "    <tr>\n",
              "      <th>999993</th>\n",
              "      <td>2020-12-04</td>\n",
              "      <td>9999-12-31</td>\n",
              "      <td>-34.482248</td>\n",
              "      <td>-58.501989</td>\n",
              "      <td>Bs.As. G.B.A. Zona Norte</td>\n",
              "      <td>San Isidro</td>\n",
              "      <td>11.0</td>\n",
              "      <td>4.0</td>\n",
              "      <td>Casa</td>\n",
              "      <td>Venta</td>\n",
              "      <td>6.900000e+05</td>\n",
              "      <td>0</td>\n",
              "    </tr>\n",
              "    <tr>\n",
              "      <th>999996</th>\n",
              "      <td>2020-12-04</td>\n",
              "      <td>9999-12-31</td>\n",
              "      <td>-34.596587</td>\n",
              "      <td>-58.376893</td>\n",
              "      <td>Capital Federal</td>\n",
              "      <td>Retiro</td>\n",
              "      <td>12.0</td>\n",
              "      <td>5.0</td>\n",
              "      <td>Local comercial</td>\n",
              "      <td>Alquiler</td>\n",
              "      <td>3.700000e+03</td>\n",
              "      <td>0</td>\n",
              "    </tr>\n",
              "    <tr>\n",
              "      <th>999997</th>\n",
              "      <td>2020-12-04</td>\n",
              "      <td>9999-12-31</td>\n",
              "      <td>-34.576445</td>\n",
              "      <td>-58.432603</td>\n",
              "      <td>Capital Federal</td>\n",
              "      <td>Palermo</td>\n",
              "      <td>14.0</td>\n",
              "      <td>2.0</td>\n",
              "      <td>Local comercial</td>\n",
              "      <td>Venta</td>\n",
              "      <td>5.700000e+05</td>\n",
              "      <td>0</td>\n",
              "    </tr>\n",
              "  </tbody>\n",
              "</table>\n",
              "<p>465451 rows × 12 columns</p>\n",
              "</div>\n",
              "      <button class=\"colab-df-convert\" onclick=\"convertToInteractive('df-82f25a0d-fb86-4072-8af2-6bc5aa859038')\"\n",
              "              title=\"Convert this dataframe to an interactive table.\"\n",
              "              style=\"display:none;\">\n",
              "        \n",
              "  <svg xmlns=\"http://www.w3.org/2000/svg\" height=\"24px\"viewBox=\"0 0 24 24\"\n",
              "       width=\"24px\">\n",
              "    <path d=\"M0 0h24v24H0V0z\" fill=\"none\"/>\n",
              "    <path d=\"M18.56 5.44l.94 2.06.94-2.06 2.06-.94-2.06-.94-.94-2.06-.94 2.06-2.06.94zm-11 1L8.5 8.5l.94-2.06 2.06-.94-2.06-.94L8.5 2.5l-.94 2.06-2.06.94zm10 10l.94 2.06.94-2.06 2.06-.94-2.06-.94-.94-2.06-.94 2.06-2.06.94z\"/><path d=\"M17.41 7.96l-1.37-1.37c-.4-.4-.92-.59-1.43-.59-.52 0-1.04.2-1.43.59L10.3 9.45l-7.72 7.72c-.78.78-.78 2.05 0 2.83L4 21.41c.39.39.9.59 1.41.59.51 0 1.02-.2 1.41-.59l7.78-7.78 2.81-2.81c.8-.78.8-2.07 0-2.86zM5.41 20L4 18.59l7.72-7.72 1.47 1.35L5.41 20z\"/>\n",
              "  </svg>\n",
              "      </button>\n",
              "      \n",
              "  <style>\n",
              "    .colab-df-container {\n",
              "      display:flex;\n",
              "      flex-wrap:wrap;\n",
              "      gap: 12px;\n",
              "    }\n",
              "\n",
              "    .colab-df-convert {\n",
              "      background-color: #E8F0FE;\n",
              "      border: none;\n",
              "      border-radius: 50%;\n",
              "      cursor: pointer;\n",
              "      display: none;\n",
              "      fill: #1967D2;\n",
              "      height: 32px;\n",
              "      padding: 0 0 0 0;\n",
              "      width: 32px;\n",
              "    }\n",
              "\n",
              "    .colab-df-convert:hover {\n",
              "      background-color: #E2EBFA;\n",
              "      box-shadow: 0px 1px 2px rgba(60, 64, 67, 0.3), 0px 1px 3px 1px rgba(60, 64, 67, 0.15);\n",
              "      fill: #174EA6;\n",
              "    }\n",
              "\n",
              "    [theme=dark] .colab-df-convert {\n",
              "      background-color: #3B4455;\n",
              "      fill: #D2E3FC;\n",
              "    }\n",
              "\n",
              "    [theme=dark] .colab-df-convert:hover {\n",
              "      background-color: #434B5C;\n",
              "      box-shadow: 0px 1px 3px 1px rgba(0, 0, 0, 0.15);\n",
              "      filter: drop-shadow(0px 1px 2px rgba(0, 0, 0, 0.3));\n",
              "      fill: #FFFFFF;\n",
              "    }\n",
              "  </style>\n",
              "\n",
              "      <script>\n",
              "        const buttonEl =\n",
              "          document.querySelector('#df-82f25a0d-fb86-4072-8af2-6bc5aa859038 button.colab-df-convert');\n",
              "        buttonEl.style.display =\n",
              "          google.colab.kernel.accessAllowed ? 'block' : 'none';\n",
              "\n",
              "        async function convertToInteractive(key) {\n",
              "          const element = document.querySelector('#df-82f25a0d-fb86-4072-8af2-6bc5aa859038');\n",
              "          const dataTable =\n",
              "            await google.colab.kernel.invokeFunction('convertToInteractive',\n",
              "                                                     [key], {});\n",
              "          if (!dataTable) return;\n",
              "\n",
              "          const docLinkHtml = 'Like what you see? Visit the ' +\n",
              "            '<a target=\"_blank\" href=https://colab.research.google.com/notebooks/data_table.ipynb>data table notebook</a>'\n",
              "            + ' to learn more about interactive tables.';\n",
              "          element.innerHTML = '';\n",
              "          dataTable['output_type'] = 'display_data';\n",
              "          await google.colab.output.renderOutput(dataTable, element);\n",
              "          const docLink = document.createElement('div');\n",
              "          docLink.innerHTML = docLinkHtml;\n",
              "          element.appendChild(docLink);\n",
              "        }\n",
              "      </script>\n",
              "    </div>\n",
              "  </div>\n",
              "  "
            ]
          },
          "metadata": {},
          "execution_count": 114
        }
      ]
    },
    {
      "cell_type": "markdown",
      "id": "537637eb",
      "metadata": {
        "id": "537637eb"
      },
      "source": [
        "***Calcular la cantidad de registros rellenados y no rellenados...***"
      ]
    },
    {
      "cell_type": "code",
      "execution_count": 115,
      "id": "72a10219",
      "metadata": {
        "id": "72a10219",
        "colab": {
          "base_uri": "https://localhost:8080/"
        },
        "outputId": "f40de683-4f64-4e1c-9a48-27e4a7ac8d51"
      },
      "outputs": [
        {
          "output_type": "execute_result",
          "data": {
            "text/plain": [
              "0    345611\n",
              "1    119840\n",
              "Name: rellenado, dtype: int64"
            ]
          },
          "metadata": {},
          "execution_count": 115
        }
      ],
      "source": [
        "prop.rellenado.value_counts()"
      ]
    },
    {
      "cell_type": "markdown",
      "id": "483867c9",
      "metadata": {
        "id": "483867c9"
      },
      "source": [
        "***Ahora si: Rellená los NaN de bathrooms con la mediana de la columna bathrooms, hacer lo mismo con la columna rooms con la mediana de la columna rooms...***"
      ]
    },
    {
      "cell_type": "code",
      "execution_count": 116,
      "id": "f0ef4792",
      "metadata": {
        "id": "f0ef4792"
      },
      "outputs": [],
      "source": [
        "media_bathrooms = prop.bathrooms.mean()"
      ]
    },
    {
      "cell_type": "code",
      "source": [
        "media_rooms = prop.rooms.mean()"
      ],
      "metadata": {
        "id": "ntK4uk6JWCXR"
      },
      "id": "ntK4uk6JWCXR",
      "execution_count": 117,
      "outputs": []
    },
    {
      "cell_type": "code",
      "source": [
        "prop.bathrooms.fillna(value=media_bathrooms, inplace = True)\n",
        "prop.rooms.fillna(value=media_rooms, inplace = True)"
      ],
      "metadata": {
        "id": "ptn6kCmcWSWH"
      },
      "id": "ptn6kCmcWSWH",
      "execution_count": 118,
      "outputs": []
    },
    {
      "cell_type": "markdown",
      "id": "de837883",
      "metadata": {
        "id": "de837883"
      },
      "source": [
        "***Volver a analizar el porcentaje de NaN de cada columna. No deberia de existir ningun NaN en nuestro dataframe...***"
      ]
    },
    {
      "cell_type": "code",
      "execution_count": 119,
      "id": "01c58003",
      "metadata": {
        "id": "01c58003",
        "colab": {
          "base_uri": "https://localhost:8080/"
        },
        "outputId": "0f3253a2-b7be-479a-c132-6c27faa3d7b4"
      },
      "outputs": [
        {
          "output_type": "execute_result",
          "data": {
            "text/plain": [
              "start_date        0.0\n",
              "end_date          0.0\n",
              "lat               0.0\n",
              "lon               0.0\n",
              "l2                0.0\n",
              "l3                0.0\n",
              "rooms             0.0\n",
              "bathrooms         0.0\n",
              "property_type     0.0\n",
              "operation_type    0.0\n",
              "precio            0.0\n",
              "rellenado         0.0\n",
              "dtype: float64"
            ]
          },
          "metadata": {},
          "execution_count": 119
        }
      ],
      "source": [
        "round((prop.isna().sum()*100/prop.shape[0]),2).sort_values(ascending = False)"
      ]
    },
    {
      "cell_type": "code",
      "source": [
        "prop.shape"
      ],
      "metadata": {
        "colab": {
          "base_uri": "https://localhost:8080/"
        },
        "id": "Op1ngcqSW0uw",
        "outputId": "001ba710-eb90-4b15-a9d9-1bb9abd8bf41"
      },
      "id": "Op1ngcqSW0uw",
      "execution_count": 120,
      "outputs": [
        {
          "output_type": "execute_result",
          "data": {
            "text/plain": [
              "(465451, 12)"
            ]
          },
          "metadata": {},
          "execution_count": 120
        }
      ]
    },
    {
      "cell_type": "markdown",
      "id": "5673d40a",
      "metadata": {
        "id": "5673d40a"
      },
      "source": [
        "***Parece ser que el formato se encuentra correcto, vamos a aplicar una pequeña comprobacion logica: la fecha start_date puede ser igual o menor que end_date, nunca mayor. Si ocurre esto, eliminar los registros que contienen estos errores.***"
      ]
    },
    {
      "cell_type": "code",
      "execution_count": 121,
      "id": "a17237ca",
      "metadata": {
        "id": "a17237ca",
        "colab": {
          "base_uri": "https://localhost:8080/",
          "height": 834
        },
        "outputId": "80cad7e1-59de-4901-a8a4-7b612e5eda22"
      },
      "outputs": [
        {
          "output_type": "execute_result",
          "data": {
            "text/plain": [
              "        start_date    end_date        lat        lon  \\\n",
              "16      2020-08-22  2020-09-04 -34.633053 -58.419906   \n",
              "17      2020-08-22  2020-09-04 -34.397401 -58.649185   \n",
              "18      2020-08-22  2020-09-04 -34.397401 -58.649185   \n",
              "19      2020-08-22  2020-09-04 -34.598112 -58.400784   \n",
              "20      2020-08-22  2020-09-04 -34.604054 -58.393770   \n",
              "...            ...         ...        ...        ...   \n",
              "999990  2020-12-04  2020-12-16 -34.462664 -58.625235   \n",
              "999991  2020-12-04  2021-01-05 -34.473210 -58.760048   \n",
              "999993  2020-12-04  9999-12-31 -34.482248 -58.501989   \n",
              "999996  2020-12-04  9999-12-31 -34.596587 -58.376893   \n",
              "999997  2020-12-04  9999-12-31 -34.576445 -58.432603   \n",
              "\n",
              "                              l2                   l3      rooms  bathrooms  \\\n",
              "16               Capital Federal                Boedo   2.798034   1.642851   \n",
              "17      Bs.As. G.B.A. Zona Norte                Tigre   2.798034   2.000000   \n",
              "18      Bs.As. G.B.A. Zona Norte                Tigre   2.798034   2.000000   \n",
              "19               Capital Federal             Recoleta   2.798034   3.000000   \n",
              "20               Capital Federal            Balvanera   2.798034   1.000000   \n",
              "...                          ...                  ...        ...        ...   \n",
              "999990  Bs.As. G.B.A. Zona Norte                Tigre   2.798034   5.000000   \n",
              "999991  Bs.As. G.B.A. Zona Norte  Malvinas Argentinas   2.798034   2.000000   \n",
              "999993  Bs.As. G.B.A. Zona Norte           San Isidro  11.000000   4.000000   \n",
              "999996           Capital Federal               Retiro  12.000000   5.000000   \n",
              "999997           Capital Federal              Palermo  14.000000   2.000000   \n",
              "\n",
              "          property_type operation_type        precio  rellenado  \n",
              "16              Oficina       Alquiler  2.473498e+02          1  \n",
              "17              Oficina       Alquiler  1.236749e+02          1  \n",
              "18              Oficina       Alquiler  9.540636e+01          1  \n",
              "19              Oficina       Alquiler  2.296820e+02          1  \n",
              "20              Oficina       Alquiler  2.120141e+02          1  \n",
              "...                 ...            ...           ...        ...  \n",
              "999990             Casa          Venta  1.200000e+06          1  \n",
              "999991             Casa          Venta  1.120000e+05          1  \n",
              "999993             Casa          Venta  6.900000e+05          0  \n",
              "999996  Local comercial       Alquiler  3.700000e+03          0  \n",
              "999997  Local comercial          Venta  5.700000e+05          0  \n",
              "\n",
              "[465451 rows x 12 columns]"
            ],
            "text/html": [
              "\n",
              "  <div id=\"df-935eb496-1c34-47b3-ab4a-1659dc64b838\">\n",
              "    <div class=\"colab-df-container\">\n",
              "      <div>\n",
              "<style scoped>\n",
              "    .dataframe tbody tr th:only-of-type {\n",
              "        vertical-align: middle;\n",
              "    }\n",
              "\n",
              "    .dataframe tbody tr th {\n",
              "        vertical-align: top;\n",
              "    }\n",
              "\n",
              "    .dataframe thead th {\n",
              "        text-align: right;\n",
              "    }\n",
              "</style>\n",
              "<table border=\"1\" class=\"dataframe\">\n",
              "  <thead>\n",
              "    <tr style=\"text-align: right;\">\n",
              "      <th></th>\n",
              "      <th>start_date</th>\n",
              "      <th>end_date</th>\n",
              "      <th>lat</th>\n",
              "      <th>lon</th>\n",
              "      <th>l2</th>\n",
              "      <th>l3</th>\n",
              "      <th>rooms</th>\n",
              "      <th>bathrooms</th>\n",
              "      <th>property_type</th>\n",
              "      <th>operation_type</th>\n",
              "      <th>precio</th>\n",
              "      <th>rellenado</th>\n",
              "    </tr>\n",
              "  </thead>\n",
              "  <tbody>\n",
              "    <tr>\n",
              "      <th>16</th>\n",
              "      <td>2020-08-22</td>\n",
              "      <td>2020-09-04</td>\n",
              "      <td>-34.633053</td>\n",
              "      <td>-58.419906</td>\n",
              "      <td>Capital Federal</td>\n",
              "      <td>Boedo</td>\n",
              "      <td>2.798034</td>\n",
              "      <td>1.642851</td>\n",
              "      <td>Oficina</td>\n",
              "      <td>Alquiler</td>\n",
              "      <td>2.473498e+02</td>\n",
              "      <td>1</td>\n",
              "    </tr>\n",
              "    <tr>\n",
              "      <th>17</th>\n",
              "      <td>2020-08-22</td>\n",
              "      <td>2020-09-04</td>\n",
              "      <td>-34.397401</td>\n",
              "      <td>-58.649185</td>\n",
              "      <td>Bs.As. G.B.A. Zona Norte</td>\n",
              "      <td>Tigre</td>\n",
              "      <td>2.798034</td>\n",
              "      <td>2.000000</td>\n",
              "      <td>Oficina</td>\n",
              "      <td>Alquiler</td>\n",
              "      <td>1.236749e+02</td>\n",
              "      <td>1</td>\n",
              "    </tr>\n",
              "    <tr>\n",
              "      <th>18</th>\n",
              "      <td>2020-08-22</td>\n",
              "      <td>2020-09-04</td>\n",
              "      <td>-34.397401</td>\n",
              "      <td>-58.649185</td>\n",
              "      <td>Bs.As. G.B.A. Zona Norte</td>\n",
              "      <td>Tigre</td>\n",
              "      <td>2.798034</td>\n",
              "      <td>2.000000</td>\n",
              "      <td>Oficina</td>\n",
              "      <td>Alquiler</td>\n",
              "      <td>9.540636e+01</td>\n",
              "      <td>1</td>\n",
              "    </tr>\n",
              "    <tr>\n",
              "      <th>19</th>\n",
              "      <td>2020-08-22</td>\n",
              "      <td>2020-09-04</td>\n",
              "      <td>-34.598112</td>\n",
              "      <td>-58.400784</td>\n",
              "      <td>Capital Federal</td>\n",
              "      <td>Recoleta</td>\n",
              "      <td>2.798034</td>\n",
              "      <td>3.000000</td>\n",
              "      <td>Oficina</td>\n",
              "      <td>Alquiler</td>\n",
              "      <td>2.296820e+02</td>\n",
              "      <td>1</td>\n",
              "    </tr>\n",
              "    <tr>\n",
              "      <th>20</th>\n",
              "      <td>2020-08-22</td>\n",
              "      <td>2020-09-04</td>\n",
              "      <td>-34.604054</td>\n",
              "      <td>-58.393770</td>\n",
              "      <td>Capital Federal</td>\n",
              "      <td>Balvanera</td>\n",
              "      <td>2.798034</td>\n",
              "      <td>1.000000</td>\n",
              "      <td>Oficina</td>\n",
              "      <td>Alquiler</td>\n",
              "      <td>2.120141e+02</td>\n",
              "      <td>1</td>\n",
              "    </tr>\n",
              "    <tr>\n",
              "      <th>...</th>\n",
              "      <td>...</td>\n",
              "      <td>...</td>\n",
              "      <td>...</td>\n",
              "      <td>...</td>\n",
              "      <td>...</td>\n",
              "      <td>...</td>\n",
              "      <td>...</td>\n",
              "      <td>...</td>\n",
              "      <td>...</td>\n",
              "      <td>...</td>\n",
              "      <td>...</td>\n",
              "      <td>...</td>\n",
              "    </tr>\n",
              "    <tr>\n",
              "      <th>999990</th>\n",
              "      <td>2020-12-04</td>\n",
              "      <td>2020-12-16</td>\n",
              "      <td>-34.462664</td>\n",
              "      <td>-58.625235</td>\n",
              "      <td>Bs.As. G.B.A. Zona Norte</td>\n",
              "      <td>Tigre</td>\n",
              "      <td>2.798034</td>\n",
              "      <td>5.000000</td>\n",
              "      <td>Casa</td>\n",
              "      <td>Venta</td>\n",
              "      <td>1.200000e+06</td>\n",
              "      <td>1</td>\n",
              "    </tr>\n",
              "    <tr>\n",
              "      <th>999991</th>\n",
              "      <td>2020-12-04</td>\n",
              "      <td>2021-01-05</td>\n",
              "      <td>-34.473210</td>\n",
              "      <td>-58.760048</td>\n",
              "      <td>Bs.As. G.B.A. Zona Norte</td>\n",
              "      <td>Malvinas Argentinas</td>\n",
              "      <td>2.798034</td>\n",
              "      <td>2.000000</td>\n",
              "      <td>Casa</td>\n",
              "      <td>Venta</td>\n",
              "      <td>1.120000e+05</td>\n",
              "      <td>1</td>\n",
              "    </tr>\n",
              "    <tr>\n",
              "      <th>999993</th>\n",
              "      <td>2020-12-04</td>\n",
              "      <td>9999-12-31</td>\n",
              "      <td>-34.482248</td>\n",
              "      <td>-58.501989</td>\n",
              "      <td>Bs.As. G.B.A. Zona Norte</td>\n",
              "      <td>San Isidro</td>\n",
              "      <td>11.000000</td>\n",
              "      <td>4.000000</td>\n",
              "      <td>Casa</td>\n",
              "      <td>Venta</td>\n",
              "      <td>6.900000e+05</td>\n",
              "      <td>0</td>\n",
              "    </tr>\n",
              "    <tr>\n",
              "      <th>999996</th>\n",
              "      <td>2020-12-04</td>\n",
              "      <td>9999-12-31</td>\n",
              "      <td>-34.596587</td>\n",
              "      <td>-58.376893</td>\n",
              "      <td>Capital Federal</td>\n",
              "      <td>Retiro</td>\n",
              "      <td>12.000000</td>\n",
              "      <td>5.000000</td>\n",
              "      <td>Local comercial</td>\n",
              "      <td>Alquiler</td>\n",
              "      <td>3.700000e+03</td>\n",
              "      <td>0</td>\n",
              "    </tr>\n",
              "    <tr>\n",
              "      <th>999997</th>\n",
              "      <td>2020-12-04</td>\n",
              "      <td>9999-12-31</td>\n",
              "      <td>-34.576445</td>\n",
              "      <td>-58.432603</td>\n",
              "      <td>Capital Federal</td>\n",
              "      <td>Palermo</td>\n",
              "      <td>14.000000</td>\n",
              "      <td>2.000000</td>\n",
              "      <td>Local comercial</td>\n",
              "      <td>Venta</td>\n",
              "      <td>5.700000e+05</td>\n",
              "      <td>0</td>\n",
              "    </tr>\n",
              "  </tbody>\n",
              "</table>\n",
              "<p>465451 rows × 12 columns</p>\n",
              "</div>\n",
              "      <button class=\"colab-df-convert\" onclick=\"convertToInteractive('df-935eb496-1c34-47b3-ab4a-1659dc64b838')\"\n",
              "              title=\"Convert this dataframe to an interactive table.\"\n",
              "              style=\"display:none;\">\n",
              "        \n",
              "  <svg xmlns=\"http://www.w3.org/2000/svg\" height=\"24px\"viewBox=\"0 0 24 24\"\n",
              "       width=\"24px\">\n",
              "    <path d=\"M0 0h24v24H0V0z\" fill=\"none\"/>\n",
              "    <path d=\"M18.56 5.44l.94 2.06.94-2.06 2.06-.94-2.06-.94-.94-2.06-.94 2.06-2.06.94zm-11 1L8.5 8.5l.94-2.06 2.06-.94-2.06-.94L8.5 2.5l-.94 2.06-2.06.94zm10 10l.94 2.06.94-2.06 2.06-.94-2.06-.94-.94-2.06-.94 2.06-2.06.94z\"/><path d=\"M17.41 7.96l-1.37-1.37c-.4-.4-.92-.59-1.43-.59-.52 0-1.04.2-1.43.59L10.3 9.45l-7.72 7.72c-.78.78-.78 2.05 0 2.83L4 21.41c.39.39.9.59 1.41.59.51 0 1.02-.2 1.41-.59l7.78-7.78 2.81-2.81c.8-.78.8-2.07 0-2.86zM5.41 20L4 18.59l7.72-7.72 1.47 1.35L5.41 20z\"/>\n",
              "  </svg>\n",
              "      </button>\n",
              "      \n",
              "  <style>\n",
              "    .colab-df-container {\n",
              "      display:flex;\n",
              "      flex-wrap:wrap;\n",
              "      gap: 12px;\n",
              "    }\n",
              "\n",
              "    .colab-df-convert {\n",
              "      background-color: #E8F0FE;\n",
              "      border: none;\n",
              "      border-radius: 50%;\n",
              "      cursor: pointer;\n",
              "      display: none;\n",
              "      fill: #1967D2;\n",
              "      height: 32px;\n",
              "      padding: 0 0 0 0;\n",
              "      width: 32px;\n",
              "    }\n",
              "\n",
              "    .colab-df-convert:hover {\n",
              "      background-color: #E2EBFA;\n",
              "      box-shadow: 0px 1px 2px rgba(60, 64, 67, 0.3), 0px 1px 3px 1px rgba(60, 64, 67, 0.15);\n",
              "      fill: #174EA6;\n",
              "    }\n",
              "\n",
              "    [theme=dark] .colab-df-convert {\n",
              "      background-color: #3B4455;\n",
              "      fill: #D2E3FC;\n",
              "    }\n",
              "\n",
              "    [theme=dark] .colab-df-convert:hover {\n",
              "      background-color: #434B5C;\n",
              "      box-shadow: 0px 1px 3px 1px rgba(0, 0, 0, 0.15);\n",
              "      filter: drop-shadow(0px 1px 2px rgba(0, 0, 0, 0.3));\n",
              "      fill: #FFFFFF;\n",
              "    }\n",
              "  </style>\n",
              "\n",
              "      <script>\n",
              "        const buttonEl =\n",
              "          document.querySelector('#df-935eb496-1c34-47b3-ab4a-1659dc64b838 button.colab-df-convert');\n",
              "        buttonEl.style.display =\n",
              "          google.colab.kernel.accessAllowed ? 'block' : 'none';\n",
              "\n",
              "        async function convertToInteractive(key) {\n",
              "          const element = document.querySelector('#df-935eb496-1c34-47b3-ab4a-1659dc64b838');\n",
              "          const dataTable =\n",
              "            await google.colab.kernel.invokeFunction('convertToInteractive',\n",
              "                                                     [key], {});\n",
              "          if (!dataTable) return;\n",
              "\n",
              "          const docLinkHtml = 'Like what you see? Visit the ' +\n",
              "            '<a target=\"_blank\" href=https://colab.research.google.com/notebooks/data_table.ipynb>data table notebook</a>'\n",
              "            + ' to learn more about interactive tables.';\n",
              "          element.innerHTML = '';\n",
              "          dataTable['output_type'] = 'display_data';\n",
              "          await google.colab.output.renderOutput(dataTable, element);\n",
              "          const docLink = document.createElement('div');\n",
              "          docLink.innerHTML = docLinkHtml;\n",
              "          element.appendChild(docLink);\n",
              "        }\n",
              "      </script>\n",
              "    </div>\n",
              "  </div>\n",
              "  "
            ]
          },
          "metadata": {},
          "execution_count": 121
        }
      ],
      "source": [
        "prop[(prop.start_date <= prop.end_date)]"
      ]
    },
    {
      "cell_type": "markdown",
      "id": "9dff95a8",
      "metadata": {
        "id": "9dff95a8"
      },
      "source": [
        "***Vamos a pasar las columnas start_date y end_date, que son strings, a formato datetime. Recorda que el formato de fecha que tenemos en nuestras columnas de fecha es %Y/%m/%d***"
      ]
    },
    {
      "cell_type": "code",
      "execution_count": 122,
      "id": "a1f4dc01",
      "metadata": {
        "id": "a1f4dc01"
      },
      "outputs": [],
      "source": [
        "prop.start_date = pd.to_datetime(prop[\"start_date\"], format = \"%Y/%m/%d\")"
      ]
    },
    {
      "cell_type": "code",
      "source": [
        "#prop.end_date = pd.to_datetime(prop[\"end_date\"], format = \"%Y/%m/%d\")"
      ],
      "metadata": {
        "id": "J4LLDjIPZIU0"
      },
      "id": "J4LLDjIPZIU0",
      "execution_count": null,
      "outputs": []
    },
    {
      "cell_type": "markdown",
      "id": "4929e316",
      "metadata": {
        "id": "4929e316"
      },
      "source": [
        "***Al tratar de pasar la columna end_date a datetime nos sale un error, hay un registro que lo esta causando, investigar que registro causa este error...***"
      ]
    },
    {
      "cell_type": "markdown",
      "id": "91bb3750",
      "metadata": {
        "id": "91bb3750"
      },
      "source": [
        "***Hay muchos registros que tienen como end_date 9999-12-31, como la documentacion es de mala calidad, la misma no especifica que significa que el end_date tenga este valor, pero aplicando un poco de sentido comun deducimos que los registros que tienen esta fecha significa que el aviso no se dio de baja, por lo cual no se vendio.***\n",
        "\n",
        "***Cambiar los registros con esta fecha, cambiandola a la fecha de la primera publicacion de python por parte de Guido van Rossum:***\n",
        "**1991-02-20**. \n",
        "\n",
        "***Los registros con esta fecha seran los que aun no se vendieron.***"
      ]
    },
    {
      "cell_type": "code",
      "execution_count": 123,
      "id": "c029425f",
      "metadata": {
        "id": "c029425f"
      },
      "outputs": [],
      "source": [
        "prop['end_date'].replace('9999-12-31', '1991-02-20', inplace=True)"
      ]
    },
    {
      "cell_type": "code",
      "source": [
        "prop.shape"
      ],
      "metadata": {
        "colab": {
          "base_uri": "https://localhost:8080/"
        },
        "id": "Umbg-550rpuP",
        "outputId": "b35a18b4-217a-448a-941e-0cfa1ebb777f"
      },
      "id": "Umbg-550rpuP",
      "execution_count": 124,
      "outputs": [
        {
          "output_type": "execute_result",
          "data": {
            "text/plain": [
              "(465451, 12)"
            ]
          },
          "metadata": {},
          "execution_count": 124
        }
      ]
    },
    {
      "cell_type": "markdown",
      "id": "99b95e37",
      "metadata": {
        "id": "99b95e37"
      },
      "source": [
        "***Ahora si pasar la columna end_date a datetime...***"
      ]
    },
    {
      "cell_type": "code",
      "execution_count": 125,
      "id": "909791e0",
      "metadata": {
        "id": "909791e0"
      },
      "outputs": [],
      "source": [
        "prop.end_date = pd.to_datetime(prop[\"end_date\"], format = \"%Y/%m/%d\")"
      ]
    },
    {
      "cell_type": "code",
      "source": [
        "prop.info()"
      ],
      "metadata": {
        "colab": {
          "base_uri": "https://localhost:8080/"
        },
        "id": "X2BO_tk-sJPG",
        "outputId": "14622596-7a2a-441e-a2e0-259b82f98593"
      },
      "id": "X2BO_tk-sJPG",
      "execution_count": 126,
      "outputs": [
        {
          "output_type": "stream",
          "name": "stdout",
          "text": [
            "<class 'pandas.core.frame.DataFrame'>\n",
            "Int64Index: 465451 entries, 16 to 999997\n",
            "Data columns (total 12 columns):\n",
            " #   Column          Non-Null Count   Dtype         \n",
            "---  ------          --------------   -----         \n",
            " 0   start_date      465451 non-null  datetime64[ns]\n",
            " 1   end_date        465451 non-null  datetime64[ns]\n",
            " 2   lat             465451 non-null  float64       \n",
            " 3   lon             465451 non-null  float64       \n",
            " 4   l2              465451 non-null  object        \n",
            " 5   l3              465451 non-null  object        \n",
            " 6   rooms           465451 non-null  float64       \n",
            " 7   bathrooms       465451 non-null  float64       \n",
            " 8   property_type   465451 non-null  object        \n",
            " 9   operation_type  465451 non-null  object        \n",
            " 10  precio          465451 non-null  float64       \n",
            " 11  rellenado       465451 non-null  int64         \n",
            "dtypes: datetime64[ns](2), float64(5), int64(1), object(4)\n",
            "memory usage: 46.2+ MB\n"
          ]
        }
      ]
    },
    {
      "cell_type": "markdown",
      "id": "4d758ab6",
      "metadata": {
        "id": "4d758ab6"
      },
      "source": [
        "***Vamos a cambiar el nombre de las columnas de la siguiente manera:...***\n",
        "\n",
        "- start_date => inicio\n",
        "- end_date => fin\n",
        "- lat => lat\n",
        "- lon => lon\n",
        "- l2 => zona\n",
        "- l3 => municipio\n",
        "- rooms => ambientes\n",
        "- bathrooms => baños\n",
        "- property_type => tipo\n",
        "- operation_type => operacion\n",
        "- precio => precio\n",
        "- rellenado => rellenado"
      ]
    },
    {
      "cell_type": "code",
      "execution_count": 127,
      "id": "6926d9f3",
      "metadata": {
        "id": "6926d9f3"
      },
      "outputs": [],
      "source": [
        "columnas = ['Inicio',\n",
        "           'Fin',\n",
        "           'Lat',\n",
        "           'Lon',\n",
        "           'Zona',\n",
        "           'Municipio',\n",
        "           'Ambientes',\n",
        "           'Baños',\n",
        "           'Tipo',\n",
        "           'Operacion',\n",
        "           'Precio',\n",
        "           'Rellenado']"
      ]
    },
    {
      "cell_type": "code",
      "source": [
        "prop.columns = columnas"
      ],
      "metadata": {
        "id": "I4wkyxQ2s64X"
      },
      "id": "I4wkyxQ2s64X",
      "execution_count": 128,
      "outputs": []
    },
    {
      "cell_type": "code",
      "source": [
        "prop.head(3)"
      ],
      "metadata": {
        "colab": {
          "base_uri": "https://localhost:8080/",
          "height": 187
        },
        "id": "mabIUoA2tCD-",
        "outputId": "5644d15e-cf3a-42aa-8a07-72d5bc65e6ce"
      },
      "id": "mabIUoA2tCD-",
      "execution_count": 129,
      "outputs": [
        {
          "output_type": "execute_result",
          "data": {
            "text/plain": [
              "       Inicio        Fin        Lat        Lon                      Zona  \\\n",
              "16 2020-08-22 2020-09-04 -34.633053 -58.419906           Capital Federal   \n",
              "17 2020-08-22 2020-09-04 -34.397401 -58.649185  Bs.As. G.B.A. Zona Norte   \n",
              "18 2020-08-22 2020-09-04 -34.397401 -58.649185  Bs.As. G.B.A. Zona Norte   \n",
              "\n",
              "   Municipio  Ambientes     Baños     Tipo Operacion      Precio  Rellenado  \n",
              "16     Boedo   2.798034  1.642851  Oficina  Alquiler  247.349823          1  \n",
              "17     Tigre   2.798034  2.000000  Oficina  Alquiler  123.674912          1  \n",
              "18     Tigre   2.798034  2.000000  Oficina  Alquiler   95.406360          1  "
            ],
            "text/html": [
              "\n",
              "  <div id=\"df-df56029c-16e9-41fc-80cd-113d9b42f64f\">\n",
              "    <div class=\"colab-df-container\">\n",
              "      <div>\n",
              "<style scoped>\n",
              "    .dataframe tbody tr th:only-of-type {\n",
              "        vertical-align: middle;\n",
              "    }\n",
              "\n",
              "    .dataframe tbody tr th {\n",
              "        vertical-align: top;\n",
              "    }\n",
              "\n",
              "    .dataframe thead th {\n",
              "        text-align: right;\n",
              "    }\n",
              "</style>\n",
              "<table border=\"1\" class=\"dataframe\">\n",
              "  <thead>\n",
              "    <tr style=\"text-align: right;\">\n",
              "      <th></th>\n",
              "      <th>Inicio</th>\n",
              "      <th>Fin</th>\n",
              "      <th>Lat</th>\n",
              "      <th>Lon</th>\n",
              "      <th>Zona</th>\n",
              "      <th>Municipio</th>\n",
              "      <th>Ambientes</th>\n",
              "      <th>Baños</th>\n",
              "      <th>Tipo</th>\n",
              "      <th>Operacion</th>\n",
              "      <th>Precio</th>\n",
              "      <th>Rellenado</th>\n",
              "    </tr>\n",
              "  </thead>\n",
              "  <tbody>\n",
              "    <tr>\n",
              "      <th>16</th>\n",
              "      <td>2020-08-22</td>\n",
              "      <td>2020-09-04</td>\n",
              "      <td>-34.633053</td>\n",
              "      <td>-58.419906</td>\n",
              "      <td>Capital Federal</td>\n",
              "      <td>Boedo</td>\n",
              "      <td>2.798034</td>\n",
              "      <td>1.642851</td>\n",
              "      <td>Oficina</td>\n",
              "      <td>Alquiler</td>\n",
              "      <td>247.349823</td>\n",
              "      <td>1</td>\n",
              "    </tr>\n",
              "    <tr>\n",
              "      <th>17</th>\n",
              "      <td>2020-08-22</td>\n",
              "      <td>2020-09-04</td>\n",
              "      <td>-34.397401</td>\n",
              "      <td>-58.649185</td>\n",
              "      <td>Bs.As. G.B.A. Zona Norte</td>\n",
              "      <td>Tigre</td>\n",
              "      <td>2.798034</td>\n",
              "      <td>2.000000</td>\n",
              "      <td>Oficina</td>\n",
              "      <td>Alquiler</td>\n",
              "      <td>123.674912</td>\n",
              "      <td>1</td>\n",
              "    </tr>\n",
              "    <tr>\n",
              "      <th>18</th>\n",
              "      <td>2020-08-22</td>\n",
              "      <td>2020-09-04</td>\n",
              "      <td>-34.397401</td>\n",
              "      <td>-58.649185</td>\n",
              "      <td>Bs.As. G.B.A. Zona Norte</td>\n",
              "      <td>Tigre</td>\n",
              "      <td>2.798034</td>\n",
              "      <td>2.000000</td>\n",
              "      <td>Oficina</td>\n",
              "      <td>Alquiler</td>\n",
              "      <td>95.406360</td>\n",
              "      <td>1</td>\n",
              "    </tr>\n",
              "  </tbody>\n",
              "</table>\n",
              "</div>\n",
              "      <button class=\"colab-df-convert\" onclick=\"convertToInteractive('df-df56029c-16e9-41fc-80cd-113d9b42f64f')\"\n",
              "              title=\"Convert this dataframe to an interactive table.\"\n",
              "              style=\"display:none;\">\n",
              "        \n",
              "  <svg xmlns=\"http://www.w3.org/2000/svg\" height=\"24px\"viewBox=\"0 0 24 24\"\n",
              "       width=\"24px\">\n",
              "    <path d=\"M0 0h24v24H0V0z\" fill=\"none\"/>\n",
              "    <path d=\"M18.56 5.44l.94 2.06.94-2.06 2.06-.94-2.06-.94-.94-2.06-.94 2.06-2.06.94zm-11 1L8.5 8.5l.94-2.06 2.06-.94-2.06-.94L8.5 2.5l-.94 2.06-2.06.94zm10 10l.94 2.06.94-2.06 2.06-.94-2.06-.94-.94-2.06-.94 2.06-2.06.94z\"/><path d=\"M17.41 7.96l-1.37-1.37c-.4-.4-.92-.59-1.43-.59-.52 0-1.04.2-1.43.59L10.3 9.45l-7.72 7.72c-.78.78-.78 2.05 0 2.83L4 21.41c.39.39.9.59 1.41.59.51 0 1.02-.2 1.41-.59l7.78-7.78 2.81-2.81c.8-.78.8-2.07 0-2.86zM5.41 20L4 18.59l7.72-7.72 1.47 1.35L5.41 20z\"/>\n",
              "  </svg>\n",
              "      </button>\n",
              "      \n",
              "  <style>\n",
              "    .colab-df-container {\n",
              "      display:flex;\n",
              "      flex-wrap:wrap;\n",
              "      gap: 12px;\n",
              "    }\n",
              "\n",
              "    .colab-df-convert {\n",
              "      background-color: #E8F0FE;\n",
              "      border: none;\n",
              "      border-radius: 50%;\n",
              "      cursor: pointer;\n",
              "      display: none;\n",
              "      fill: #1967D2;\n",
              "      height: 32px;\n",
              "      padding: 0 0 0 0;\n",
              "      width: 32px;\n",
              "    }\n",
              "\n",
              "    .colab-df-convert:hover {\n",
              "      background-color: #E2EBFA;\n",
              "      box-shadow: 0px 1px 2px rgba(60, 64, 67, 0.3), 0px 1px 3px 1px rgba(60, 64, 67, 0.15);\n",
              "      fill: #174EA6;\n",
              "    }\n",
              "\n",
              "    [theme=dark] .colab-df-convert {\n",
              "      background-color: #3B4455;\n",
              "      fill: #D2E3FC;\n",
              "    }\n",
              "\n",
              "    [theme=dark] .colab-df-convert:hover {\n",
              "      background-color: #434B5C;\n",
              "      box-shadow: 0px 1px 3px 1px rgba(0, 0, 0, 0.15);\n",
              "      filter: drop-shadow(0px 1px 2px rgba(0, 0, 0, 0.3));\n",
              "      fill: #FFFFFF;\n",
              "    }\n",
              "  </style>\n",
              "\n",
              "      <script>\n",
              "        const buttonEl =\n",
              "          document.querySelector('#df-df56029c-16e9-41fc-80cd-113d9b42f64f button.colab-df-convert');\n",
              "        buttonEl.style.display =\n",
              "          google.colab.kernel.accessAllowed ? 'block' : 'none';\n",
              "\n",
              "        async function convertToInteractive(key) {\n",
              "          const element = document.querySelector('#df-df56029c-16e9-41fc-80cd-113d9b42f64f');\n",
              "          const dataTable =\n",
              "            await google.colab.kernel.invokeFunction('convertToInteractive',\n",
              "                                                     [key], {});\n",
              "          if (!dataTable) return;\n",
              "\n",
              "          const docLinkHtml = 'Like what you see? Visit the ' +\n",
              "            '<a target=\"_blank\" href=https://colab.research.google.com/notebooks/data_table.ipynb>data table notebook</a>'\n",
              "            + ' to learn more about interactive tables.';\n",
              "          element.innerHTML = '';\n",
              "          dataTable['output_type'] = 'display_data';\n",
              "          await google.colab.output.renderOutput(dataTable, element);\n",
              "          const docLink = document.createElement('div');\n",
              "          docLink.innerHTML = docLinkHtml;\n",
              "          element.appendChild(docLink);\n",
              "        }\n",
              "      </script>\n",
              "    </div>\n",
              "  </div>\n",
              "  "
            ]
          },
          "metadata": {},
          "execution_count": 129
        }
      ]
    },
    {
      "cell_type": "markdown",
      "id": "375e239a",
      "metadata": {
        "id": "375e239a"
      },
      "source": [
        "***Crear dos columnas nuevas:***\n",
        "\n",
        "- ***año_inicio:*** tiene que contener el numero de año que hay en la fecha de la columna inicio\n",
        "- ***mes_inicio:*** tiene que contener el numero de mes que hay en la fecha de la columna inicio"
      ]
    },
    {
      "cell_type": "code",
      "execution_count": 130,
      "id": "f771f501",
      "metadata": {
        "id": "f771f501"
      },
      "outputs": [],
      "source": [
        "prop['Año_inicio'] = pd.DatetimeIndex(prop['Inicio']).year\n",
        "\n",
        "prop['Mes_inicio'] = pd.DatetimeIndex(prop['Inicio']).month"
      ]
    },
    {
      "cell_type": "markdown",
      "id": "118e13d8",
      "metadata": {
        "id": "118e13d8"
      },
      "source": [
        "***Por ultimo, reinicia el indice...***"
      ]
    },
    {
      "cell_type": "code",
      "execution_count": 131,
      "id": "50a8eb9f",
      "metadata": {
        "id": "50a8eb9f",
        "colab": {
          "base_uri": "https://localhost:8080/",
          "height": 406
        },
        "outputId": "aadb8ad2-903f-4dfa-9492-115f4a03acad"
      },
      "outputs": [
        {
          "output_type": "execute_result",
          "data": {
            "text/plain": [
              "      Inicio        Fin        Lat        Lon                      Zona  \\\n",
              "0 2020-08-22 2020-09-04 -34.633053 -58.419906           Capital Federal   \n",
              "1 2020-08-22 2020-09-04 -34.397401 -58.649185  Bs.As. G.B.A. Zona Norte   \n",
              "2 2020-08-22 2020-09-04 -34.397401 -58.649185  Bs.As. G.B.A. Zona Norte   \n",
              "3 2020-08-22 2020-09-04 -34.598112 -58.400784           Capital Federal   \n",
              "4 2020-08-22 2020-09-04 -34.604054 -58.393770           Capital Federal   \n",
              "\n",
              "   Municipio  Ambientes     Baños     Tipo Operacion      Precio  Rellenado  \\\n",
              "0      Boedo   2.798034  1.642851  Oficina  Alquiler  247.349823          1   \n",
              "1      Tigre   2.798034  2.000000  Oficina  Alquiler  123.674912          1   \n",
              "2      Tigre   2.798034  2.000000  Oficina  Alquiler   95.406360          1   \n",
              "3   Recoleta   2.798034  3.000000  Oficina  Alquiler  229.681979          1   \n",
              "4  Balvanera   2.798034  1.000000  Oficina  Alquiler  212.014134          1   \n",
              "\n",
              "   Año_inicio  Mes_inicio  \n",
              "0        2020           8  \n",
              "1        2020           8  \n",
              "2        2020           8  \n",
              "3        2020           8  \n",
              "4        2020           8  "
            ],
            "text/html": [
              "\n",
              "  <div id=\"df-d20d4c25-c7c9-4b50-8f28-a84a7e156005\">\n",
              "    <div class=\"colab-df-container\">\n",
              "      <div>\n",
              "<style scoped>\n",
              "    .dataframe tbody tr th:only-of-type {\n",
              "        vertical-align: middle;\n",
              "    }\n",
              "\n",
              "    .dataframe tbody tr th {\n",
              "        vertical-align: top;\n",
              "    }\n",
              "\n",
              "    .dataframe thead th {\n",
              "        text-align: right;\n",
              "    }\n",
              "</style>\n",
              "<table border=\"1\" class=\"dataframe\">\n",
              "  <thead>\n",
              "    <tr style=\"text-align: right;\">\n",
              "      <th></th>\n",
              "      <th>Inicio</th>\n",
              "      <th>Fin</th>\n",
              "      <th>Lat</th>\n",
              "      <th>Lon</th>\n",
              "      <th>Zona</th>\n",
              "      <th>Municipio</th>\n",
              "      <th>Ambientes</th>\n",
              "      <th>Baños</th>\n",
              "      <th>Tipo</th>\n",
              "      <th>Operacion</th>\n",
              "      <th>Precio</th>\n",
              "      <th>Rellenado</th>\n",
              "      <th>Año_inicio</th>\n",
              "      <th>Mes_inicio</th>\n",
              "    </tr>\n",
              "  </thead>\n",
              "  <tbody>\n",
              "    <tr>\n",
              "      <th>0</th>\n",
              "      <td>2020-08-22</td>\n",
              "      <td>2020-09-04</td>\n",
              "      <td>-34.633053</td>\n",
              "      <td>-58.419906</td>\n",
              "      <td>Capital Federal</td>\n",
              "      <td>Boedo</td>\n",
              "      <td>2.798034</td>\n",
              "      <td>1.642851</td>\n",
              "      <td>Oficina</td>\n",
              "      <td>Alquiler</td>\n",
              "      <td>247.349823</td>\n",
              "      <td>1</td>\n",
              "      <td>2020</td>\n",
              "      <td>8</td>\n",
              "    </tr>\n",
              "    <tr>\n",
              "      <th>1</th>\n",
              "      <td>2020-08-22</td>\n",
              "      <td>2020-09-04</td>\n",
              "      <td>-34.397401</td>\n",
              "      <td>-58.649185</td>\n",
              "      <td>Bs.As. G.B.A. Zona Norte</td>\n",
              "      <td>Tigre</td>\n",
              "      <td>2.798034</td>\n",
              "      <td>2.000000</td>\n",
              "      <td>Oficina</td>\n",
              "      <td>Alquiler</td>\n",
              "      <td>123.674912</td>\n",
              "      <td>1</td>\n",
              "      <td>2020</td>\n",
              "      <td>8</td>\n",
              "    </tr>\n",
              "    <tr>\n",
              "      <th>2</th>\n",
              "      <td>2020-08-22</td>\n",
              "      <td>2020-09-04</td>\n",
              "      <td>-34.397401</td>\n",
              "      <td>-58.649185</td>\n",
              "      <td>Bs.As. G.B.A. Zona Norte</td>\n",
              "      <td>Tigre</td>\n",
              "      <td>2.798034</td>\n",
              "      <td>2.000000</td>\n",
              "      <td>Oficina</td>\n",
              "      <td>Alquiler</td>\n",
              "      <td>95.406360</td>\n",
              "      <td>1</td>\n",
              "      <td>2020</td>\n",
              "      <td>8</td>\n",
              "    </tr>\n",
              "    <tr>\n",
              "      <th>3</th>\n",
              "      <td>2020-08-22</td>\n",
              "      <td>2020-09-04</td>\n",
              "      <td>-34.598112</td>\n",
              "      <td>-58.400784</td>\n",
              "      <td>Capital Federal</td>\n",
              "      <td>Recoleta</td>\n",
              "      <td>2.798034</td>\n",
              "      <td>3.000000</td>\n",
              "      <td>Oficina</td>\n",
              "      <td>Alquiler</td>\n",
              "      <td>229.681979</td>\n",
              "      <td>1</td>\n",
              "      <td>2020</td>\n",
              "      <td>8</td>\n",
              "    </tr>\n",
              "    <tr>\n",
              "      <th>4</th>\n",
              "      <td>2020-08-22</td>\n",
              "      <td>2020-09-04</td>\n",
              "      <td>-34.604054</td>\n",
              "      <td>-58.393770</td>\n",
              "      <td>Capital Federal</td>\n",
              "      <td>Balvanera</td>\n",
              "      <td>2.798034</td>\n",
              "      <td>1.000000</td>\n",
              "      <td>Oficina</td>\n",
              "      <td>Alquiler</td>\n",
              "      <td>212.014134</td>\n",
              "      <td>1</td>\n",
              "      <td>2020</td>\n",
              "      <td>8</td>\n",
              "    </tr>\n",
              "  </tbody>\n",
              "</table>\n",
              "</div>\n",
              "      <button class=\"colab-df-convert\" onclick=\"convertToInteractive('df-d20d4c25-c7c9-4b50-8f28-a84a7e156005')\"\n",
              "              title=\"Convert this dataframe to an interactive table.\"\n",
              "              style=\"display:none;\">\n",
              "        \n",
              "  <svg xmlns=\"http://www.w3.org/2000/svg\" height=\"24px\"viewBox=\"0 0 24 24\"\n",
              "       width=\"24px\">\n",
              "    <path d=\"M0 0h24v24H0V0z\" fill=\"none\"/>\n",
              "    <path d=\"M18.56 5.44l.94 2.06.94-2.06 2.06-.94-2.06-.94-.94-2.06-.94 2.06-2.06.94zm-11 1L8.5 8.5l.94-2.06 2.06-.94-2.06-.94L8.5 2.5l-.94 2.06-2.06.94zm10 10l.94 2.06.94-2.06 2.06-.94-2.06-.94-.94-2.06-.94 2.06-2.06.94z\"/><path d=\"M17.41 7.96l-1.37-1.37c-.4-.4-.92-.59-1.43-.59-.52 0-1.04.2-1.43.59L10.3 9.45l-7.72 7.72c-.78.78-.78 2.05 0 2.83L4 21.41c.39.39.9.59 1.41.59.51 0 1.02-.2 1.41-.59l7.78-7.78 2.81-2.81c.8-.78.8-2.07 0-2.86zM5.41 20L4 18.59l7.72-7.72 1.47 1.35L5.41 20z\"/>\n",
              "  </svg>\n",
              "      </button>\n",
              "      \n",
              "  <style>\n",
              "    .colab-df-container {\n",
              "      display:flex;\n",
              "      flex-wrap:wrap;\n",
              "      gap: 12px;\n",
              "    }\n",
              "\n",
              "    .colab-df-convert {\n",
              "      background-color: #E8F0FE;\n",
              "      border: none;\n",
              "      border-radius: 50%;\n",
              "      cursor: pointer;\n",
              "      display: none;\n",
              "      fill: #1967D2;\n",
              "      height: 32px;\n",
              "      padding: 0 0 0 0;\n",
              "      width: 32px;\n",
              "    }\n",
              "\n",
              "    .colab-df-convert:hover {\n",
              "      background-color: #E2EBFA;\n",
              "      box-shadow: 0px 1px 2px rgba(60, 64, 67, 0.3), 0px 1px 3px 1px rgba(60, 64, 67, 0.15);\n",
              "      fill: #174EA6;\n",
              "    }\n",
              "\n",
              "    [theme=dark] .colab-df-convert {\n",
              "      background-color: #3B4455;\n",
              "      fill: #D2E3FC;\n",
              "    }\n",
              "\n",
              "    [theme=dark] .colab-df-convert:hover {\n",
              "      background-color: #434B5C;\n",
              "      box-shadow: 0px 1px 3px 1px rgba(0, 0, 0, 0.15);\n",
              "      filter: drop-shadow(0px 1px 2px rgba(0, 0, 0, 0.3));\n",
              "      fill: #FFFFFF;\n",
              "    }\n",
              "  </style>\n",
              "\n",
              "      <script>\n",
              "        const buttonEl =\n",
              "          document.querySelector('#df-d20d4c25-c7c9-4b50-8f28-a84a7e156005 button.colab-df-convert');\n",
              "        buttonEl.style.display =\n",
              "          google.colab.kernel.accessAllowed ? 'block' : 'none';\n",
              "\n",
              "        async function convertToInteractive(key) {\n",
              "          const element = document.querySelector('#df-d20d4c25-c7c9-4b50-8f28-a84a7e156005');\n",
              "          const dataTable =\n",
              "            await google.colab.kernel.invokeFunction('convertToInteractive',\n",
              "                                                     [key], {});\n",
              "          if (!dataTable) return;\n",
              "\n",
              "          const docLinkHtml = 'Like what you see? Visit the ' +\n",
              "            '<a target=\"_blank\" href=https://colab.research.google.com/notebooks/data_table.ipynb>data table notebook</a>'\n",
              "            + ' to learn more about interactive tables.';\n",
              "          element.innerHTML = '';\n",
              "          dataTable['output_type'] = 'display_data';\n",
              "          await google.colab.output.renderOutput(dataTable, element);\n",
              "          const docLink = document.createElement('div');\n",
              "          docLink.innerHTML = docLinkHtml;\n",
              "          element.appendChild(docLink);\n",
              "        }\n",
              "      </script>\n",
              "    </div>\n",
              "  </div>\n",
              "  "
            ]
          },
          "metadata": {},
          "execution_count": 131
        }
      ],
      "source": [
        "prop.reset_index(drop=True, inplace=True)\n",
        "prop.head(5)"
      ]
    },
    {
      "cell_type": "code",
      "source": [
        "prop.shape"
      ],
      "metadata": {
        "colab": {
          "base_uri": "https://localhost:8080/"
        },
        "id": "XtElx8sutsO-",
        "outputId": "0e5a4fe2-a8d1-4cd7-b28f-ffd704c00f49"
      },
      "id": "XtElx8sutsO-",
      "execution_count": 132,
      "outputs": [
        {
          "output_type": "execute_result",
          "data": {
            "text/plain": [
              "(465451, 14)"
            ]
          },
          "metadata": {},
          "execution_count": 132
        }
      ]
    },
    {
      "cell_type": "markdown",
      "source": [
        "### <font color=\"RoyalBlue\"> 🥇 **Comprobacion**\n"
      ],
      "metadata": {
        "id": "q71BHpkIhxfG"
      },
      "id": "q71BHpkIhxfG"
    },
    {
      "cell_type": "markdown",
      "id": "4b42c034",
      "metadata": {
        "id": "4b42c034"
      },
      "source": [
        "***Si hasta aca lo hiciste bien te deberia quedar un dataset de $465451$ rows $×$ $14$ columns y que tenga los siguientes parametros iguales:...***\n",
        "\n"
      ]
    },
    {
      "cell_type": "code",
      "source": [
        "if (465451 - prop.shape[0]) == 0:\n",
        "  print(f\"Vamo nomaaaaaaaaaa\")\n",
        "else:\n",
        "  print(f\"Segui participando, todavia tenes una diferencia de {465451 - prop.shape[0]}\")"
      ],
      "metadata": {
        "colab": {
          "base_uri": "https://localhost:8080/"
        },
        "id": "LV6gB8ILgNkY",
        "outputId": "a902000f-e958-467a-8353-048cb2134b17"
      },
      "id": "LV6gB8ILgNkY",
      "execution_count": 133,
      "outputs": [
        {
          "output_type": "stream",
          "name": "stdout",
          "text": [
            "Vamo nomaaaaaaaaaa\n"
          ]
        }
      ]
    },
    {
      "cell_type": "markdown",
      "id": "19ee256f-503a-42fa-9621-bc3318161eb5",
      "metadata": {
        "id": "19ee256f-503a-42fa-9621-bc3318161eb5"
      },
      "source": [
        "## <font color=\"RoyalBlue\"> 📊 **Análisis de datos**"
      ]
    },
    {
      "cell_type": "markdown",
      "id": "85806571",
      "metadata": {
        "id": "85806571"
      },
      "source": [
        "***El dueño de la inmobiliaria donde pertencemos no sabe lo que quiere, tampoco entiende que datos interesantes podriamos sacar de este dataset.***\n",
        "\n",
        "***Por eso nuestro objetivo es encontrar posibles datos curiosos sobre el mismo.*** \n",
        "\n",
        "***Algunos ejemplos de datos curiosos podrian ser:***\n",
        "\n",
        "- cantidad de propiedades por zona\n",
        "- media de precios por zona\n",
        "- media de precios por municipio\n",
        "- promedio de precio por tipo de venta\n",
        "- cantidad de ventas y de alquileres\n",
        "- Graficos de barras o de linea, precio vs ambientes\n",
        "- Cualquier cosa que te parezca interesante\n",
        "\n",
        "\n"
      ]
    },
    {
      "cell_type": "markdown",
      "source": [
        "---\n",
        "<p>\n",
        "<font color=\"RoyalBlue\">\n",
        "\n",
        "💙 💙 💙 **Hemos concluido con esta  actividad, si sobreviste, te esta gustando python...** \n",
        "</font>\n",
        "</p>\n",
        "\n",
        "---"
      ],
      "metadata": {
        "id": "dvYTm_8hsSsl"
      },
      "id": "dvYTm_8hsSsl"
    },
    {
      "cell_type": "markdown",
      "source": [
        "# 🤟"
      ],
      "metadata": {
        "id": "21M7QvusshSr"
      },
      "id": "21M7QvusshSr"
    }
  ],
  "metadata": {
    "kernelspec": {
      "display_name": "Python 3 (ipykernel)",
      "language": "python",
      "name": "python3"
    },
    "language_info": {
      "codemirror_mode": {
        "name": "ipython",
        "version": 3
      },
      "file_extension": ".py",
      "mimetype": "text/x-python",
      "name": "python",
      "nbconvert_exporter": "python",
      "pygments_lexer": "ipython3",
      "version": "3.9.7"
    },
    "colab": {
      "provenance": [],
      "include_colab_link": true
    }
  },
  "nbformat": 4,
  "nbformat_minor": 5
}