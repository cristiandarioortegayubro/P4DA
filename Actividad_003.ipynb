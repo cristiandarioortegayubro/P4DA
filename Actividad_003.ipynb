{
  "cells": [
    {
      "cell_type": "markdown",
      "metadata": {
        "id": "view-in-github",
        "colab_type": "text"
      },
      "source": [
        "<a href=\"https://colab.research.google.com/github/cristiandarioortegayubro/P4DA/blob/main/Actividad_003.ipynb\" target=\"_parent\"><img src=\"https://colab.research.google.com/assets/colab-badge.svg\" alt=\"Open In Colab\"/></a>"
      ]
    },
    {
      "cell_type": "markdown",
      "source": [
        "![](https://github.com/cristiandarioortegayubro/P4DA/blob/main/Logo.png?raw=true)"
      ],
      "metadata": {
        "id": "uBHtO3tbUBGA"
      },
      "id": "uBHtO3tbUBGA"
    },
    {
      "cell_type": "markdown",
      "id": "49f579e7",
      "metadata": {
        "id": "49f579e7"
      },
      "source": [
        "![logo](https://www.python.org/static/community_logos/python-powered-h-70x91.png)"
      ]
    },
    {
      "cell_type": "markdown",
      "id": "6e754985-cdd9-4a64-9d7f-fcfbfa78abef",
      "metadata": {
        "id": "6e754985-cdd9-4a64-9d7f-fcfbfa78abef"
      },
      "source": [
        "# ☯ <font color=\"RoyalBlue\">**Actividad 003**</font>"
      ]
    },
    {
      "cell_type": "markdown",
      "source": [
        "## 🔹 **<font color=\"RoyalBlue\">Actualización de la biblioteca requerida</font>**"
      ],
      "metadata": {
        "id": "yv1FmJWMGP4k"
      },
      "id": "yv1FmJWMGP4k"
    },
    {
      "cell_type": "code",
      "source": [
        "!pip install plotly --upgrade # Ejecutar este código"
      ],
      "metadata": {
        "id": "2ZIRC-OVGem7"
      },
      "id": "2ZIRC-OVGem7",
      "execution_count": null,
      "outputs": []
    },
    {
      "cell_type": "markdown",
      "id": "0704d660-cd44-4b7e-918d-65a4633e915e",
      "metadata": {
        "id": "0704d660-cd44-4b7e-918d-65a4633e915e"
      },
      "source": [
        "## 🔹 <font color=\"RoyalBlue\">**Habilitando bibliotecas requeridas**</font>"
      ]
    },
    {
      "cell_type": "markdown",
      "source": [
        "### **<font color=\"RoyalBlue\">Para análisis de datos</font>**"
      ],
      "metadata": {
        "id": "lgVJWp5BGkt6"
      },
      "id": "lgVJWp5BGkt6"
    },
    {
      "cell_type": "code",
      "source": [
        "import pandas as pd   # Ejecutar estos codigos\n",
        "import yfinance as yf # La usamos para traer datos remotos desde yahoo finanzas"
      ],
      "metadata": {
        "id": "OB3plSng-CbD"
      },
      "id": "OB3plSng-CbD",
      "execution_count": null,
      "outputs": []
    },
    {
      "cell_type": "markdown",
      "source": [
        "### **<font color=\"RoyalBlue\">Biblioteca gráfica</font>**"
      ],
      "metadata": {
        "id": "21C-oIB_GnNY"
      },
      "id": "21C-oIB_GnNY"
    },
    {
      "cell_type": "code",
      "source": [
        "# mi codigo aqui"
      ],
      "metadata": {
        "id": "DdRRlgiNGtaw"
      },
      "id": "DdRRlgiNGtaw",
      "execution_count": null,
      "outputs": []
    },
    {
      "cell_type": "markdown",
      "source": [
        "## 🔹 <font color=\"RoyalBlue\">**Cotización acciones de Microsoft, Apple y Google**</font>"
      ],
      "metadata": {
        "id": "qPTuQcuA-P4U"
      },
      "id": "qPTuQcuA-P4U"
    },
    {
      "cell_type": "markdown",
      "source": [
        "### <font color=\"RoyalBlue\">**Cotización de Microsoft**</font>"
      ],
      "metadata": {
        "id": "TwKm-7at8Vwx"
      },
      "id": "TwKm-7at8Vwx"
    },
    {
      "cell_type": "markdown",
      "source": [
        "Ejecutar el siguiente script..."
      ],
      "metadata": {
        "id": "23SVvxhOFCD0"
      },
      "id": "23SVvxhOFCD0"
    },
    {
      "cell_type": "code",
      "source": [
        "MSFT = yf.download(\"MSFT\", start=\"2022-01-01\", end=\"2022-03-31\").round(2)"
      ],
      "metadata": {
        "id": "b6wWn-lT4ce0"
      },
      "id": "b6wWn-lT4ce0",
      "execution_count": null,
      "outputs": []
    },
    {
      "cell_type": "markdown",
      "source": [
        "### <font color=\"RoyalBlue\">**Cotización de Apple**</font>"
      ],
      "metadata": {
        "id": "UVanB5W18sKi"
      },
      "id": "UVanB5W18sKi"
    },
    {
      "cell_type": "markdown",
      "source": [
        "Ejecutar el siguiente script..."
      ],
      "metadata": {
        "id": "R68l-g-YFIEO"
      },
      "id": "R68l-g-YFIEO"
    },
    {
      "cell_type": "code",
      "source": [
        "AAPL = yf.download(\"AAPL\", start=\"2022-01-01\", end=\"2022-03-31\").round(2)"
      ],
      "metadata": {
        "id": "Y8uRADjQ8rWx"
      },
      "id": "Y8uRADjQ8rWx",
      "execution_count": null,
      "outputs": []
    },
    {
      "cell_type": "markdown",
      "source": [
        "### <font color=\"RoyalBlue\">**Cotización de Google**</font>"
      ],
      "metadata": {
        "id": "ecmmStKl9F1u"
      },
      "id": "ecmmStKl9F1u"
    },
    {
      "cell_type": "markdown",
      "source": [
        "Ejecutar el siguiente script..."
      ],
      "metadata": {
        "id": "ygwqhQxOFJud"
      },
      "id": "ygwqhQxOFJud"
    },
    {
      "cell_type": "code",
      "source": [
        "GOOG = yf.download(\"GOOG\", start=\"2022-01-01\", end=\"2022-03-31\").round(2)"
      ],
      "metadata": {
        "id": "azRRaknq9KNq"
      },
      "id": "azRRaknq9KNq",
      "execution_count": null,
      "outputs": []
    },
    {
      "cell_type": "markdown",
      "source": [
        "## 🔹 <font color=\"RoyalBlue\">**Actividades con el DataFrame**</font>"
      ],
      "metadata": {
        "id": "u7SgflgMAcqv"
      },
      "id": "u7SgflgMAcqv"
    },
    {
      "cell_type": "markdown",
      "source": [
        "<p>\n",
        "<font color=\"DarkBlue\">\n",
        "\n",
        "> **Visualizar los tres dataframes** \n",
        "</font>\n",
        "</p>\n"
      ],
      "metadata": {
        "id": "jCrAiX2J-aa1"
      },
      "id": "jCrAiX2J-aa1"
    },
    {
      "cell_type": "code",
      "source": [
        "# mi código aquí"
      ],
      "metadata": {
        "id": "vHaKqi8-_fCl"
      },
      "id": "vHaKqi8-_fCl",
      "execution_count": 1,
      "outputs": []
    },
    {
      "cell_type": "code",
      "source": [
        "# mi código aquí"
      ],
      "metadata": {
        "id": "6FxnsEqb98ol"
      },
      "id": "6FxnsEqb98ol",
      "execution_count": 2,
      "outputs": []
    },
    {
      "cell_type": "code",
      "source": [
        "# mi código aquí"
      ],
      "metadata": {
        "id": "J61UHqW3NbZa"
      },
      "id": "J61UHqW3NbZa",
      "execution_count": null,
      "outputs": []
    },
    {
      "cell_type": "markdown",
      "source": [
        "## 🔹 <font color=\"RoyalBlue\">**A divertirse... 😃**</font>"
      ],
      "metadata": {
        "id": "T34YSDVbEsEx"
      },
      "id": "T34YSDVbEsEx"
    },
    {
      "cell_type": "markdown",
      "source": [
        "<p>\n",
        "<font color=\"DarkBlue\">\n",
        "\n",
        "> **Crear una columna que se llame Name, y colocar como valor el nombre de la acción, es decir, su símbolo (denominación que usamos en el parámetro de la función para obtener los datos remotos)...** \n",
        "</font>\n",
        "</p>\n"
      ],
      "metadata": {
        "id": "m36nQvskHvGG"
      },
      "id": "m36nQvskHvGG"
    },
    {
      "cell_type": "code",
      "source": [
        "# mi código aquí"
      ],
      "metadata": {
        "id": "vmRVOpP0HxVR"
      },
      "id": "vmRVOpP0HxVR",
      "execution_count": null,
      "outputs": []
    },
    {
      "cell_type": "code",
      "source": [
        "# mi código aquí"
      ],
      "metadata": {
        "id": "1EykwL6GTG3a"
      },
      "id": "1EykwL6GTG3a",
      "execution_count": null,
      "outputs": []
    },
    {
      "cell_type": "code",
      "source": [
        "# mi código aquí"
      ],
      "metadata": {
        "id": "AZAwF7FK-laT"
      },
      "id": "AZAwF7FK-laT",
      "execution_count": null,
      "outputs": []
    },
    {
      "cell_type": "markdown",
      "source": [
        "<p>\n",
        "<font color=\"DarkBlue\">\n",
        "\n",
        "> **Concatenar los tres dataframes... usando el metodo de pandas ```concat()```** \n",
        "</font>\n",
        "</p>\n"
      ],
      "metadata": {
        "id": "a1Rh8OQSKjz-"
      },
      "id": "a1Rh8OQSKjz-"
    },
    {
      "cell_type": "code",
      "source": [
        "# mi código aquí"
      ],
      "metadata": {
        "id": "DkWpZE1SHxIl"
      },
      "id": "DkWpZE1SHxIl",
      "execution_count": null,
      "outputs": []
    },
    {
      "cell_type": "markdown",
      "source": [
        "<p>\n",
        "<font color=\"DarkBlue\">\n",
        "\n",
        "> **Del dataframe resultante, dejar solo las columnas ```Close``` y ```Name```...** \n",
        "</font>\n",
        "</p>\n"
      ],
      "metadata": {
        "id": "sjllm0H_Kqo7"
      },
      "id": "sjllm0H_Kqo7"
    },
    {
      "cell_type": "code",
      "source": [
        "# mi código aquí"
      ],
      "metadata": {
        "id": "EBH5vZwlHw-4"
      },
      "id": "EBH5vZwlHw-4",
      "execution_count": null,
      "outputs": []
    },
    {
      "cell_type": "markdown",
      "source": [
        "<p>\n",
        "<font color=\"DarkBlue\">\n",
        "\n",
        "> **Al dataframe resultante, agregar una columna denominada ```Date``` con los valores del índice...** \n",
        "</font>\n",
        "</p>\n"
      ],
      "metadata": {
        "id": "pUOyjDu8LeuG"
      },
      "id": "pUOyjDu8LeuG"
    },
    {
      "cell_type": "code",
      "source": [
        "# mi código aquí"
      ],
      "metadata": {
        "id": "r2IV4Nw1HwpS"
      },
      "id": "r2IV4Nw1HwpS",
      "execution_count": null,
      "outputs": []
    },
    {
      "cell_type": "markdown",
      "source": [
        "<p>\n",
        "<font color=\"DarkBlue\">\n",
        "\n",
        "> **Verificar los tipos de datos de las columnas del dataframe...** \n",
        "</font>\n",
        "</p>\n"
      ],
      "metadata": {
        "id": "XFzumpdZM5Ok"
      },
      "id": "XFzumpdZM5Ok"
    },
    {
      "cell_type": "code",
      "source": [
        "# mi código aquí"
      ],
      "metadata": {
        "id": "dBucq6J8KlMe"
      },
      "id": "dBucq6J8KlMe",
      "execution_count": 3,
      "outputs": []
    },
    {
      "cell_type": "markdown",
      "source": [
        "## 🔹 <font color=\"RoyalBlue\">**Un poco más dificil... 😈**</font>"
      ],
      "metadata": {
        "id": "kxzBnscsNgSu"
      },
      "id": "kxzBnscsNgSu"
    },
    {
      "cell_type": "markdown",
      "source": [
        "---\n",
        "<p>\n",
        "<font color=\"RoyalBlue\">\n",
        "\n",
        "👀 **Para los siguientes puntos se puede consultar la documentación técnica de Pandas, la de Plotly, y la que necesiten...** 😃\n",
        "</font>\n",
        "</p>\n",
        "\n",
        "---"
      ],
      "metadata": {
        "id": "wY_DYxOjNxrP"
      },
      "id": "wY_DYxOjNxrP"
    },
    {
      "cell_type": "markdown",
      "source": [
        "<p>\n",
        "<font color=\"DarkBlue\">\n",
        "\n",
        "> **Cambiar los formatos del tipo de dato fecha..., para que quede año, mes y día...** \n",
        "</font>\n",
        "</p>\n"
      ],
      "metadata": {
        "id": "mN_R2dD5Pf9r"
      },
      "id": "mN_R2dD5Pf9r"
    },
    {
      "cell_type": "markdown",
      "source": [
        "https://es.stackoverflow.com/questions/480149/como-quitar-hora-a-fecha-en-pandas"
      ],
      "metadata": {
        "id": "M8NVdYVlTHfy"
      },
      "id": "M8NVdYVlTHfy"
    },
    {
      "cell_type": "markdown",
      "source": [
        "https://pandas.pydata.org/docs/reference/api/pandas.Series.dt.html"
      ],
      "metadata": {
        "id": "-cDmT9S3TytA"
      },
      "id": "-cDmT9S3TytA"
    },
    {
      "cell_type": "markdown",
      "source": [
        "Consejo, si se va aplicar la metodología sugerida en stackoverflow o cualquier otra, verificar luego cual es el tipo de datos resultante...."
      ],
      "metadata": {
        "id": "lMCEWD7xN27x"
      },
      "id": "lMCEWD7xN27x"
    },
    {
      "cell_type": "code",
      "source": [
        "# mi código aquí"
      ],
      "metadata": {
        "id": "kNy05EFUMsIU"
      },
      "id": "kNy05EFUMsIU",
      "execution_count": null,
      "outputs": []
    },
    {
      "cell_type": "markdown",
      "source": [
        "<p>\n",
        "<font color=\"DarkBlue\">\n",
        "\n",
        "> **Hacer un gráfico lineal que muestre todas las acciones...** \n",
        "</font>\n",
        "</p>\n"
      ],
      "metadata": {
        "id": "DhaWG4VQQwRT"
      },
      "id": "DhaWG4VQQwRT"
    },
    {
      "cell_type": "code",
      "source": [
        "# mi código aquí"
      ],
      "metadata": {
        "id": "Z9QWERB8QxKt"
      },
      "id": "Z9QWERB8QxKt",
      "execution_count": 5,
      "outputs": []
    },
    {
      "cell_type": "markdown",
      "source": [
        "<p>\n",
        "<font color=\"DarkBlue\">\n",
        "\n",
        "> **Hacer un boxplot... para cada acción... y en lo posible visualizar también los puntos en el mismo gráfico...** \n",
        "</font>\n",
        "</p>\n"
      ],
      "metadata": {
        "id": "xTGrJ-KxQv-q"
      },
      "id": "xTGrJ-KxQv-q"
    },
    {
      "cell_type": "code",
      "source": [
        "# mi código aquí"
      ],
      "metadata": {
        "id": "1Rs6rjpVaCsf"
      },
      "id": "1Rs6rjpVaCsf",
      "execution_count": 6,
      "outputs": []
    },
    {
      "cell_type": "markdown",
      "source": [
        "<p>\n",
        "<font color=\"DarkBlue\">\n",
        "\n",
        "> **Ahora hacer un boxplot... para todas las acciones... y en lo posible visualizar también los puntos en el mismo gráfico...** \n",
        "</font>\n",
        "</p>\n",
        "\n"
      ],
      "metadata": {
        "id": "XzKtpaqReAUw"
      },
      "id": "XzKtpaqReAUw"
    },
    {
      "cell_type": "code",
      "source": [
        "# mi código aquí"
      ],
      "metadata": {
        "id": "J6ZMyJ0Nd_9j"
      },
      "id": "J6ZMyJ0Nd_9j",
      "execution_count": 7,
      "outputs": []
    },
    {
      "cell_type": "markdown",
      "source": [
        "<p>\n",
        "<font color=\"Red\">\n",
        "\n",
        "> **Y por último, hacer un gráfico financiero de velas... para las acciones de Google...** 😈😈😈\n",
        "</font>\n",
        "</p>\n"
      ],
      "metadata": {
        "id": "_Zy_HduLfiuq"
      },
      "id": "_Zy_HduLfiuq"
    },
    {
      "cell_type": "markdown",
      "source": [
        "https://plotly.com/python/candlestick-charts/"
      ],
      "metadata": {
        "id": "EMM_bXXsOzlI"
      },
      "id": "EMM_bXXsOzlI"
    },
    {
      "cell_type": "markdown",
      "source": [
        "1. Usar la documentación técnica para generar este tipo de gráfico... \n",
        "1. Recordar también que los dataframes son mutables....\n",
        "1. Todo lo necesario para resolver, se encuentra en los puntos anteriores... (menos el grafico 😈)"
      ],
      "metadata": {
        "id": "VLejsbrsO1Lg"
      },
      "id": "VLejsbrsO1Lg"
    },
    {
      "cell_type": "code",
      "source": [
        "# mi código aquí"
      ],
      "metadata": {
        "id": "hdlos4MMfiXN"
      },
      "id": "hdlos4MMfiXN",
      "execution_count": 8,
      "outputs": []
    },
    {
      "cell_type": "code",
      "source": [
        "# mi gráfico aquí"
      ],
      "metadata": {
        "id": "2qJk7wefgHii"
      },
      "id": "2qJk7wefgHii",
      "execution_count": 9,
      "outputs": []
    },
    {
      "cell_type": "markdown",
      "id": "db7a81dd-0eb5-4391-b855-4ab7a3ed5d06",
      "metadata": {
        "id": "db7a81dd-0eb5-4391-b855-4ab7a3ed5d06"
      },
      "source": [
        "---\n",
        "<p>\n",
        "<font color=\"RoyalBlue\">\n",
        "\n",
        "💙 💙 💙 **Hemos concluido con esta actividad, nos encontraremos en el proximo cuaderno, buen finde...** \n",
        "</font>\n",
        "</p>\n",
        "\n",
        "---"
      ]
    },
    {
      "cell_type": "markdown",
      "id": "cc2cb851-466f-40ca-bc0d-3341d7d0553c",
      "metadata": {
        "id": "cc2cb851-466f-40ca-bc0d-3341d7d0553c"
      },
      "source": [
        "# 😀"
      ]
    }
  ],
  "metadata": {
    "kernelspec": {
      "display_name": "Python 3 (ipykernel)",
      "language": "python",
      "name": "python3"
    },
    "language_info": {
      "codemirror_mode": {
        "name": "ipython",
        "version": 3
      },
      "file_extension": ".py",
      "mimetype": "text/x-python",
      "name": "python",
      "nbconvert_exporter": "python",
      "pygments_lexer": "ipython3",
      "version": "3.10.2"
    },
    "toc-autonumbering": false,
    "toc-showmarkdowntxt": false,
    "colab": {
      "provenance": [],
      "collapsed_sections": [
        "87a2fb36-8011-44e0-a07a-19d19d7e7d15"
      ],
      "include_colab_link": true
    }
  },
  "nbformat": 4,
  "nbformat_minor": 5
}