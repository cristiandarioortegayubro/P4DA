{
  "cells": [
    {
      "cell_type": "markdown",
      "metadata": {
        "id": "view-in-github",
        "colab_type": "text"
      },
      "source": [
        "<a href=\"https://colab.research.google.com/github/cristiandarioortegayubro/P4DA/blob/main/Mini_Actividad_002.ipynb\" target=\"_parent\"><img src=\"https://colab.research.google.com/assets/colab-badge.svg\" alt=\"Open In Colab\"/></a>"
      ]
    },
    {
      "cell_type": "markdown",
      "source": [
        "<p align=\"center\">\n",
        "<img src=\"https://github.com/cristiandarioortegayubro/P4DA/blob/main/Logo.png?raw=true\">\n",
        "</p>\n"
      ],
      "metadata": {
        "id": "SIr4I2pawJQD"
      },
      "id": "SIr4I2pawJQD"
    },
    {
      "cell_type": "markdown",
      "id": "6e754985-cdd9-4a64-9d7f-fcfbfa78abef",
      "metadata": {
        "id": "6e754985-cdd9-4a64-9d7f-fcfbfa78abef"
      },
      "source": [
        "# <font color=\"RoyalBlue\">**Mini Actividad 002**</font>"
      ]
    },
    {
      "cell_type": "markdown",
      "id": "49f579e7",
      "metadata": {
        "id": "49f579e7"
      },
      "source": [
        "<p align=\"center\">\n",
        "<img src=\"https://www.python.org/static/community_logos/python-powered-h-70x91.png\">\n",
        "</p>\n"
      ]
    },
    {
      "cell_type": "markdown",
      "source": [
        "## 🔹 **<font color=\"RoyalBlue\">Obtención de datos HTML</font>**"
      ],
      "metadata": {
        "id": "joUOoCl6UX0C"
      },
      "id": "joUOoCl6UX0C"
    },
    {
      "cell_type": "markdown",
      "source": [
        "https://atm.mendoza.gov.ar/"
      ],
      "metadata": {
        "id": "9VEqthj5VrmF"
      },
      "id": "9VEqthj5VrmF"
    },
    {
      "cell_type": "markdown",
      "source": [
        "![](https://atm.mendoza.gov.ar/wp-content/uploads/2023/01/Frente-Atm.png)"
      ],
      "metadata": {
        "id": "3C6LSsgEUBqH"
      },
      "id": "3C6LSsgEUBqH"
    },
    {
      "cell_type": "markdown",
      "source": [
        "<p align=\"justify\">\n",
        "En la página de la Administración Tributaria Mendoza se encuentran tablas con los niveles de recaudación. Nuestra misión, si desean aceptarla, es obtener esas tablas de la página web de la Administración Tributaria Mendoza, y crear un DataFrame...\n",
        "</p>"
      ],
      "metadata": {
        "id": "4a18vSjJWTOg"
      },
      "id": "4a18vSjJWTOg"
    },
    {
      "cell_type": "markdown",
      "source": [
        "https://atm.mendoza.gov.ar/portalatm/zoneBottom/datosInteres/recaudacion/recaudacion_por_impuesto_anual.jsp"
      ],
      "metadata": {
        "id": "g6kHWkdyzU8w"
      },
      "id": "g6kHWkdyzU8w"
    },
    {
      "cell_type": "markdown",
      "source": [
        "---\n",
        "<p align=\"justify\"><b>\n",
        "<font color=\"DeepPink\">\n",
        "⛳ Vamos por el desafío, que es automatizar los scrips para que de la lista inicial, se puedan crear todos los dataframes resultantes en virtud de los ejercicios fiscales que tiene la lista, es decir, desde el año $2000$ hasta el año actual.\n",
        "</font>\n",
        "</p>\n",
        "\n",
        "---"
      ],
      "metadata": {
        "id": "ooKJpWAOCpVa"
      },
      "id": "ooKJpWAOCpVa"
    },
    {
      "cell_type": "markdown",
      "id": "0704d660-cd44-4b7e-918d-65a4633e915e",
      "metadata": {
        "id": "0704d660-cd44-4b7e-918d-65a4633e915e"
      },
      "source": [
        "## 🔹 <font color=\"RoyalBlue\">**Habilitando bibliotecas requeridas**</font>"
      ]
    },
    {
      "cell_type": "markdown",
      "source": [
        "### **<font color=\"RoyalBlue\">Para análisis de datos</font>**"
      ],
      "metadata": {
        "id": "lgVJWp5BGkt6"
      },
      "id": "lgVJWp5BGkt6"
    },
    {
      "cell_type": "code",
      "source": [
        "import numpy as np\n",
        "import pandas as pd"
      ],
      "metadata": {
        "id": "OB3plSng-CbD"
      },
      "id": "OB3plSng-CbD",
      "execution_count": 1,
      "outputs": []
    },
    {
      "cell_type": "code",
      "source": [
        "pd.options.display.precision = 2\n",
        "pd.options.display.float_format = \"{:.2f}\".format"
      ],
      "metadata": {
        "id": "U8JXUBT3B4R1"
      },
      "id": "U8JXUBT3B4R1",
      "execution_count": 2,
      "outputs": []
    },
    {
      "cell_type": "markdown",
      "source": [
        "### **<font color=\"RoyalBlue\">Biblioteca gráfica</font>**"
      ],
      "metadata": {
        "id": "21C-oIB_GnNY"
      },
      "id": "21C-oIB_GnNY"
    },
    {
      "cell_type": "code",
      "source": [
        "import plotly.express as px"
      ],
      "metadata": {
        "id": "DdRRlgiNGtaw"
      },
      "id": "DdRRlgiNGtaw",
      "execution_count": 3,
      "outputs": []
    },
    {
      "cell_type": "markdown",
      "source": [
        "## 🔹 <font color=\"RoyalBlue\">**Creación del DataFrame**</font>"
      ],
      "metadata": {
        "id": "qPTuQcuA-P4U"
      },
      "id": "qPTuQcuA-P4U"
    },
    {
      "cell_type": "markdown",
      "source": [
        "### <font color=\"RoyalBlue\">**Lectura de los datos**</font>"
      ],
      "metadata": {
        "id": "yc04gyGFY0Cr"
      },
      "id": "yc04gyGFY0Cr"
    },
    {
      "cell_type": "code",
      "source": [
        "data = \"https://www.atm.mendoza.gov.ar/portalatm/zoneBottom/datosInteres/recaudacion/recaudacion_por_impuesto_anual.jsp\""
      ],
      "metadata": {
        "id": "tscpTJ2sY3Qj"
      },
      "id": "tscpTJ2sY3Qj",
      "execution_count": 4,
      "outputs": []
    },
    {
      "cell_type": "code",
      "source": [
        "lista = pd.read_html(data, flavor=\"html5lib\", index_col=0, header=1, encoding='windows-1252')"
      ],
      "metadata": {
        "colab": {
          "base_uri": "https://localhost:8080/"
        },
        "id": "lzuQCa4c0EY0",
        "outputId": "18517476-77f8-46ea-9207-dcd611d78d23"
      },
      "id": "lzuQCa4c0EY0",
      "execution_count": 5,
      "outputs": [
        {
          "output_type": "stream",
          "name": "stderr",
          "text": [
            "/usr/local/lib/python3.9/dist-packages/bs4/__init__.py:226: UserWarning: You provided Unicode markup but also provided a value for from_encoding. Your from_encoding will be ignored.\n",
            "  warnings.warn(\"You provided Unicode markup but also provided a value for from_encoding. Your from_encoding will be ignored.\")\n"
          ]
        }
      ]
    },
    {
      "cell_type": "markdown",
      "source": [
        "### <font color=\"RoyalBlue\">**Automatizando la creación del DataFrame**</font>"
      ],
      "metadata": {
        "id": "d8q7krCu2hgR"
      },
      "id": "d8q7krCu2hgR"
    },
    {
      "cell_type": "code",
      "source": [
        "# mi codigo aqui"
      ],
      "metadata": {
        "id": "IhHqR08J2YQM"
      },
      "id": "IhHqR08J2YQM",
      "execution_count": 6,
      "outputs": []
    },
    {
      "cell_type": "markdown",
      "source": [
        "### <font color=\"RoyalBlue\">**Creando el DataFrame**</font>"
      ],
      "metadata": {
        "id": "UVanB5W18sKi"
      },
      "id": "UVanB5W18sKi"
    },
    {
      "cell_type": "markdown",
      "source": [
        "<p align=\"justify\">\n",
        "<font color=\"DeepPink\">\n",
        "\n",
        "> **Ahora vamos a concatenar todos los dataframes..., y ordenar las columnas...**\n",
        "</font>\n",
        "</p>"
      ],
      "metadata": {
        "id": "iIBbYVL0lJHI"
      },
      "id": "iIBbYVL0lJHI"
    },
    {
      "cell_type": "code",
      "source": [
        "# mi codigo aqui"
      ],
      "metadata": {
        "id": "35q8vmxX31s4"
      },
      "id": "35q8vmxX31s4",
      "execution_count": 7,
      "outputs": []
    },
    {
      "cell_type": "code",
      "source": [
        "# mi codigo aqui"
      ],
      "metadata": {
        "id": "ZTtYM4JDlPic"
      },
      "id": "ZTtYM4JDlPic",
      "execution_count": 8,
      "outputs": []
    },
    {
      "cell_type": "code",
      "source": [
        "# mi codigo aqui"
      ],
      "metadata": {
        "id": "5r83QBkXlzme"
      },
      "id": "5r83QBkXlzme",
      "execution_count": 9,
      "outputs": []
    },
    {
      "cell_type": "markdown",
      "source": [
        "<p align=\"justify\">\n",
        "<font color=\"DeepPink\">\n",
        "\n",
        "> **Visualizando el dataframe, todo el dataframe, las primeras filas y las ultimas filas...**\n",
        "</font>\n",
        "</p>"
      ],
      "metadata": {
        "id": "mrIcnbMr9D9V"
      },
      "id": "mrIcnbMr9D9V"
    },
    {
      "cell_type": "code",
      "source": [
        "# mi codigo aqui"
      ],
      "metadata": {
        "id": "PAOUNF2d9F28"
      },
      "id": "PAOUNF2d9F28",
      "execution_count": 10,
      "outputs": []
    },
    {
      "cell_type": "code",
      "source": [
        "# mi codigo aqui"
      ],
      "metadata": {
        "id": "BiZ4CzGd9UK2"
      },
      "id": "BiZ4CzGd9UK2",
      "execution_count": 11,
      "outputs": []
    },
    {
      "cell_type": "code",
      "source": [
        "# mi codigo aqui"
      ],
      "metadata": {
        "id": "qi4Xb6tkmmWS"
      },
      "id": "qi4Xb6tkmmWS",
      "execution_count": 12,
      "outputs": []
    },
    {
      "cell_type": "markdown",
      "source": [
        "<p align=\"justify\"><b>\n",
        "<font color=\"DeepPink\">\n",
        "✅ Ya tenemos nuestro dataframe correspondiente a todos los ejercicios fiscales con los datos numéricos.\n",
        "</font>\n",
        "</p>\n",
        "\n"
      ],
      "metadata": {
        "id": "5p8DucWqC1IN"
      },
      "id": "5p8DucWqC1IN"
    },
    {
      "cell_type": "markdown",
      "source": [
        "## 🔹 <font color=\"RoyalBlue\">**Primeros gráficos**</font>"
      ],
      "metadata": {
        "id": "xekqWQZAnPVl"
      },
      "id": "xekqWQZAnPVl"
    },
    {
      "cell_type": "markdown",
      "source": [
        "<p align=\"justify\">\n",
        "<font color=\"DeepPink\">\n",
        "\n",
        "> **En virtud de los datos, generar cinco gráficos relevantes...**\n",
        "</font>\n",
        "</p>"
      ],
      "metadata": {
        "id": "ZwsZ2_2ynhRK"
      },
      "id": "ZwsZ2_2ynhRK"
    },
    {
      "cell_type": "markdown",
      "id": "cc2cb851-466f-40ca-bc0d-3341d7d0553c",
      "metadata": {
        "id": "cc2cb851-466f-40ca-bc0d-3341d7d0553c"
      },
      "source": [
        "# 😀"
      ]
    }
  ],
  "metadata": {
    "kernelspec": {
      "display_name": "Python 3 (ipykernel)",
      "language": "python",
      "name": "python3"
    },
    "language_info": {
      "codemirror_mode": {
        "name": "ipython",
        "version": 3
      },
      "file_extension": ".py",
      "mimetype": "text/x-python",
      "name": "python",
      "nbconvert_exporter": "python",
      "pygments_lexer": "ipython3",
      "version": "3.10.2"
    },
    "toc-autonumbering": false,
    "toc-showmarkdowntxt": false,
    "colab": {
      "provenance": [],
      "collapsed_sections": [
        "87a2fb36-8011-44e0-a07a-19d19d7e7d15"
      ],
      "toc_visible": true,
      "include_colab_link": true
    }
  },
  "nbformat": 4,
  "nbformat_minor": 5
}