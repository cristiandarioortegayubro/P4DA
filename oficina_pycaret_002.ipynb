{
  "cells": [
    {
      "cell_type": "markdown",
      "metadata": {
        "id": "view-in-github",
        "colab_type": "text"
      },
      "source": [
        "<a href=\"https://colab.research.google.com/github/cristiandarioortegayubro/P4DA/blob/main/oficina_pycaret_002.ipynb\" target=\"_parent\"><img src=\"https://colab.research.google.com/assets/colab-badge.svg\" alt=\"Open In Colab\"/></a>"
      ]
    },
    {
      "cell_type": "markdown",
      "source": [
        "<p align=\"center\">\n",
        "<img src=\"https://github.com/cristiandarioortegayubro/P4DA/blob/main/Logo.png?raw=true\">\n",
        "</p>\n"
      ],
      "metadata": {
        "id": "oYSAEoAxzTLE"
      },
      "id": "oYSAEoAxzTLE"
    },
    {
      "cell_type": "markdown",
      "source": [
        "<p align=\"center\">\n",
        "<img src=\"https://github.com/cristiandarioortegayubro/BA/blob/main/PyCaret.png?raw=true\" width=\"200\">\n",
        "</p>\n",
        "\n"
      ],
      "metadata": {
        "id": "TFz9EwKUvQoc"
      },
      "id": "TFz9EwKUvQoc"
    },
    {
      "cell_type": "markdown",
      "source": [
        "https://pycaret.org"
      ],
      "metadata": {
        "id": "ksqUwVd-JqtB"
      },
      "id": "ksqUwVd-JqtB"
    },
    {
      "cell_type": "markdown",
      "source": [
        " # **<font color=\"RoyalBlue\">Conjunto de datos de PyCaret para modelar</font>**\n"
      ],
      "metadata": {
        "id": "nNrnRppTvPMC"
      },
      "id": "nNrnRppTvPMC"
    },
    {
      "cell_type": "markdown",
      "source": [
        " ## **<font color=\"RoyalBlue\">Instalando PyCaret</font>**\n"
      ],
      "metadata": {
        "id": "abJvKO8mvVZ0"
      },
      "id": "abJvKO8mvVZ0"
    },
    {
      "cell_type": "code",
      "source": [
        "!pip install pycaret"
      ],
      "metadata": {
        "colab": {
          "base_uri": "https://localhost:8080/"
        },
        "id": "Yw-UIm7SDm56",
        "outputId": "f242132c-9aa5-460d-fd4a-5d2f30cc78c3"
      },
      "id": "Yw-UIm7SDm56",
      "execution_count": 1,
      "outputs": [
        {
          "output_type": "stream",
          "name": "stdout",
          "text": [
            "Looking in indexes: https://pypi.org/simple, https://us-python.pkg.dev/colab-wheels/public/simple/\n",
            "Requirement already satisfied: pycaret in /usr/local/lib/python3.10/dist-packages (3.0.0)\n",
            "Requirement already satisfied: kaleido>=0.2.1 in /usr/local/lib/python3.10/dist-packages (from pycaret) (0.2.1)\n",
            "Requirement already satisfied: deprecation>=2.1.0 in /usr/local/lib/python3.10/dist-packages (from pycaret) (2.1.0)\n",
            "Requirement already satisfied: joblib>=1.2.0 in /usr/local/lib/python3.10/dist-packages (from pycaret) (1.2.0)\n",
            "Requirement already satisfied: category-encoders>=2.4.0 in /usr/local/lib/python3.10/dist-packages (from pycaret) (2.6.0)\n",
            "Requirement already satisfied: ipython>=5.5.0 in /usr/local/lib/python3.10/dist-packages (from pycaret) (7.34.0)\n",
            "Requirement already satisfied: scikit-learn>=1.0 in /usr/local/lib/python3.10/dist-packages (from pycaret) (1.2.2)\n",
            "Requirement already satisfied: sktime>=0.16.1 in /usr/local/lib/python3.10/dist-packages (from pycaret) (0.18.0)\n",
            "Requirement already satisfied: tbats>=1.1.0 in /usr/local/lib/python3.10/dist-packages (from pycaret) (1.1.3)\n",
            "Requirement already satisfied: xxhash in /usr/local/lib/python3.10/dist-packages (from pycaret) (3.2.0)\n",
            "Requirement already satisfied: tqdm>=4.62.0 in /usr/local/lib/python3.10/dist-packages (from pycaret) (4.65.0)\n",
            "Requirement already satisfied: requests>=2.27.1 in /usr/local/lib/python3.10/dist-packages (from pycaret) (2.27.1)\n",
            "Requirement already satisfied: pyod>=1.0.8 in /usr/local/lib/python3.10/dist-packages (from pycaret) (1.0.9)\n",
            "Requirement already satisfied: numba>=0.55.0 in /usr/local/lib/python3.10/dist-packages (from pycaret) (0.56.4)\n",
            "Requirement already satisfied: markupsafe>=2.0.1 in /usr/local/lib/python3.10/dist-packages (from pycaret) (2.1.2)\n",
            "Requirement already satisfied: yellowbrick>=1.4 in /usr/local/lib/python3.10/dist-packages (from pycaret) (1.5)\n",
            "Requirement already satisfied: importlib-metadata>=4.12.0 in /usr/local/lib/python3.10/dist-packages (from pycaret) (6.6.0)\n",
            "Requirement already satisfied: pandas<1.6.0,>=1.3.0 in /usr/local/lib/python3.10/dist-packages (from pycaret) (1.5.3)\n",
            "Requirement already satisfied: imbalanced-learn>=0.8.1 in /usr/local/lib/python3.10/dist-packages (from pycaret) (0.10.1)\n",
            "Requirement already satisfied: ipywidgets>=7.6.5 in /usr/local/lib/python3.10/dist-packages (from pycaret) (7.7.1)\n",
            "Requirement already satisfied: scikit-plot>=0.3.7 in /usr/local/lib/python3.10/dist-packages (from pycaret) (0.3.7)\n",
            "Requirement already satisfied: plotly-resampler>=0.8.3.1 in /usr/local/lib/python3.10/dist-packages (from pycaret) (0.8.3.2)\n",
            "Requirement already satisfied: wurlitzer in /usr/local/lib/python3.10/dist-packages (from pycaret) (3.0.3)\n",
            "Requirement already satisfied: schemdraw>=0.14 in /usr/local/lib/python3.10/dist-packages (from pycaret) (0.16)\n",
            "Requirement already satisfied: matplotlib>=3.3.0 in /usr/local/lib/python3.10/dist-packages (from pycaret) (3.7.1)\n",
            "Requirement already satisfied: cloudpickle in /usr/local/lib/python3.10/dist-packages (from pycaret) (2.2.1)\n",
            "Requirement already satisfied: numpy<1.25,>=1.21 in /usr/local/lib/python3.10/dist-packages (from pycaret) (1.22.4)\n",
            "Requirement already satisfied: nbformat>=4.2.0 in /usr/local/lib/python3.10/dist-packages (from pycaret) (5.8.0)\n",
            "Requirement already satisfied: jinja2>=1.2 in /usr/local/lib/python3.10/dist-packages (from pycaret) (3.1.2)\n",
            "Requirement already satisfied: pmdarima!=1.8.1,<3.0.0,>=1.8.0 in /usr/local/lib/python3.10/dist-packages (from pycaret) (2.0.3)\n",
            "Requirement already satisfied: plotly>=5.0.0 in /usr/local/lib/python3.10/dist-packages (from pycaret) (5.13.1)\n",
            "Requirement already satisfied: statsmodels>=0.12.1 in /usr/local/lib/python3.10/dist-packages (from pycaret) (0.13.5)\n",
            "Requirement already satisfied: lightgbm>=3.0.0 in /usr/local/lib/python3.10/dist-packages (from pycaret) (3.3.5)\n",
            "Requirement already satisfied: psutil>=5.9.0 in /usr/local/lib/python3.10/dist-packages (from pycaret) (5.9.5)\n",
            "Requirement already satisfied: scipy<2.0.0 in /usr/local/lib/python3.10/dist-packages (from pycaret) (1.10.1)\n",
            "Requirement already satisfied: patsy>=0.5.1 in /usr/local/lib/python3.10/dist-packages (from category-encoders>=2.4.0->pycaret) (0.5.3)\n",
            "Requirement already satisfied: packaging in /usr/local/lib/python3.10/dist-packages (from deprecation>=2.1.0->pycaret) (23.1)\n",
            "Requirement already satisfied: threadpoolctl>=2.0.0 in /usr/local/lib/python3.10/dist-packages (from imbalanced-learn>=0.8.1->pycaret) (3.1.0)\n",
            "Requirement already satisfied: zipp>=0.5 in /usr/local/lib/python3.10/dist-packages (from importlib-metadata>=4.12.0->pycaret) (3.15.0)\n",
            "Requirement already satisfied: jedi>=0.16 in /usr/local/lib/python3.10/dist-packages (from ipython>=5.5.0->pycaret) (0.18.2)\n",
            "Requirement already satisfied: pexpect>4.3 in /usr/local/lib/python3.10/dist-packages (from ipython>=5.5.0->pycaret) (4.8.0)\n",
            "Requirement already satisfied: matplotlib-inline in /usr/local/lib/python3.10/dist-packages (from ipython>=5.5.0->pycaret) (0.1.6)\n",
            "Requirement already satisfied: decorator in /usr/local/lib/python3.10/dist-packages (from ipython>=5.5.0->pycaret) (4.4.2)\n",
            "Requirement already satisfied: pygments in /usr/local/lib/python3.10/dist-packages (from ipython>=5.5.0->pycaret) (2.14.0)\n",
            "Requirement already satisfied: backcall in /usr/local/lib/python3.10/dist-packages (from ipython>=5.5.0->pycaret) (0.2.0)\n",
            "Requirement already satisfied: traitlets>=4.2 in /usr/local/lib/python3.10/dist-packages (from ipython>=5.5.0->pycaret) (5.7.1)\n",
            "Requirement already satisfied: pickleshare in /usr/local/lib/python3.10/dist-packages (from ipython>=5.5.0->pycaret) (0.7.5)\n",
            "Requirement already satisfied: setuptools>=18.5 in /usr/local/lib/python3.10/dist-packages (from ipython>=5.5.0->pycaret) (67.7.2)\n",
            "Requirement already satisfied: prompt-toolkit!=3.0.0,!=3.0.1,<3.1.0,>=2.0.0 in /usr/local/lib/python3.10/dist-packages (from ipython>=5.5.0->pycaret) (3.0.38)\n",
            "Requirement already satisfied: ipython-genutils~=0.2.0 in /usr/local/lib/python3.10/dist-packages (from ipywidgets>=7.6.5->pycaret) (0.2.0)\n",
            "Requirement already satisfied: widgetsnbextension~=3.6.0 in /usr/local/lib/python3.10/dist-packages (from ipywidgets>=7.6.5->pycaret) (3.6.4)\n",
            "Requirement already satisfied: jupyterlab-widgets>=1.0.0 in /usr/local/lib/python3.10/dist-packages (from ipywidgets>=7.6.5->pycaret) (3.0.7)\n",
            "Requirement already satisfied: ipykernel>=4.5.1 in /usr/local/lib/python3.10/dist-packages (from ipywidgets>=7.6.5->pycaret) (5.5.6)\n",
            "Requirement already satisfied: wheel in /usr/local/lib/python3.10/dist-packages (from lightgbm>=3.0.0->pycaret) (0.40.0)\n",
            "Requirement already satisfied: pillow>=6.2.0 in /usr/local/lib/python3.10/dist-packages (from matplotlib>=3.3.0->pycaret) (8.4.0)\n",
            "Requirement already satisfied: contourpy>=1.0.1 in /usr/local/lib/python3.10/dist-packages (from matplotlib>=3.3.0->pycaret) (1.0.7)\n",
            "Requirement already satisfied: pyparsing>=2.3.1 in /usr/local/lib/python3.10/dist-packages (from matplotlib>=3.3.0->pycaret) (3.0.9)\n",
            "Requirement already satisfied: python-dateutil>=2.7 in /usr/local/lib/python3.10/dist-packages (from matplotlib>=3.3.0->pycaret) (2.8.2)\n",
            "Requirement already satisfied: cycler>=0.10 in /usr/local/lib/python3.10/dist-packages (from matplotlib>=3.3.0->pycaret) (0.11.0)\n",
            "Requirement already satisfied: kiwisolver>=1.0.1 in /usr/local/lib/python3.10/dist-packages (from matplotlib>=3.3.0->pycaret) (1.4.4)\n",
            "Requirement already satisfied: fonttools>=4.22.0 in /usr/local/lib/python3.10/dist-packages (from matplotlib>=3.3.0->pycaret) (4.39.3)\n",
            "Requirement already satisfied: jupyter-core in /usr/local/lib/python3.10/dist-packages (from nbformat>=4.2.0->pycaret) (5.3.0)\n",
            "Requirement already satisfied: fastjsonschema in /usr/local/lib/python3.10/dist-packages (from nbformat>=4.2.0->pycaret) (2.16.3)\n",
            "Requirement already satisfied: jsonschema>=2.6 in /usr/local/lib/python3.10/dist-packages (from nbformat>=4.2.0->pycaret) (4.3.3)\n",
            "Requirement already satisfied: llvmlite<0.40,>=0.39.0dev0 in /usr/local/lib/python3.10/dist-packages (from numba>=0.55.0->pycaret) (0.39.1)\n",
            "Requirement already satisfied: pytz>=2020.1 in /usr/local/lib/python3.10/dist-packages (from pandas<1.6.0,>=1.3.0->pycaret) (2022.7.1)\n",
            "Requirement already satisfied: tenacity>=6.2.0 in /usr/local/lib/python3.10/dist-packages (from plotly>=5.0.0->pycaret) (8.2.2)\n",
            "Requirement already satisfied: jupyter-dash>=0.4.2 in /usr/local/lib/python3.10/dist-packages (from plotly-resampler>=0.8.3.1->pycaret) (0.4.2)\n",
            "Requirement already satisfied: orjson<4.0.0,>=3.8.0 in /usr/local/lib/python3.10/dist-packages (from plotly-resampler>=0.8.3.1->pycaret) (3.8.11)\n",
            "Requirement already satisfied: dash<3.0.0,>=2.2.0 in /usr/local/lib/python3.10/dist-packages (from plotly-resampler>=0.8.3.1->pycaret) (2.9.3)\n",
            "Requirement already satisfied: trace-updater>=0.0.8 in /usr/local/lib/python3.10/dist-packages (from plotly-resampler>=0.8.3.1->pycaret) (0.0.9.1)\n",
            "Requirement already satisfied: urllib3 in /usr/local/lib/python3.10/dist-packages (from pmdarima!=1.8.1,<3.0.0,>=1.8.0->pycaret) (1.26.15)\n",
            "Requirement already satisfied: Cython!=0.29.18,!=0.29.31,>=0.29 in /usr/local/lib/python3.10/dist-packages (from pmdarima!=1.8.1,<3.0.0,>=1.8.0->pycaret) (0.29.34)\n",
            "Requirement already satisfied: six in /usr/local/lib/python3.10/dist-packages (from pyod>=1.0.8->pycaret) (1.16.0)\n",
            "Requirement already satisfied: charset-normalizer~=2.0.0 in /usr/local/lib/python3.10/dist-packages (from requests>=2.27.1->pycaret) (2.0.12)\n",
            "Requirement already satisfied: certifi>=2017.4.17 in /usr/local/lib/python3.10/dist-packages (from requests>=2.27.1->pycaret) (2022.12.7)\n",
            "Requirement already satisfied: idna<4,>=2.5 in /usr/local/lib/python3.10/dist-packages (from requests>=2.27.1->pycaret) (3.4)\n",
            "Requirement already satisfied: scikit-base<0.5.0 in /usr/local/lib/python3.10/dist-packages (from sktime>=0.16.1->pycaret) (0.4.3)\n",
            "Requirement already satisfied: deprecated>=1.2.13 in /usr/local/lib/python3.10/dist-packages (from sktime>=0.16.1->pycaret) (1.2.13)\n",
            "Requirement already satisfied: dash-core-components==2.0.0 in /usr/local/lib/python3.10/dist-packages (from dash<3.0.0,>=2.2.0->plotly-resampler>=0.8.3.1->pycaret) (2.0.0)\n",
            "Requirement already satisfied: dash-html-components==2.0.0 in /usr/local/lib/python3.10/dist-packages (from dash<3.0.0,>=2.2.0->plotly-resampler>=0.8.3.1->pycaret) (2.0.0)\n",
            "Requirement already satisfied: Flask>=1.0.4 in /usr/local/lib/python3.10/dist-packages (from dash<3.0.0,>=2.2.0->plotly-resampler>=0.8.3.1->pycaret) (2.2.4)\n",
            "Requirement already satisfied: dash-table==5.0.0 in /usr/local/lib/python3.10/dist-packages (from dash<3.0.0,>=2.2.0->plotly-resampler>=0.8.3.1->pycaret) (5.0.0)\n",
            "Requirement already satisfied: wrapt<2,>=1.10 in /usr/local/lib/python3.10/dist-packages (from deprecated>=1.2.13->sktime>=0.16.1->pycaret) (1.14.1)\n",
            "Requirement already satisfied: tornado>=4.2 in /usr/local/lib/python3.10/dist-packages (from ipykernel>=4.5.1->ipywidgets>=7.6.5->pycaret) (6.2)\n",
            "Requirement already satisfied: jupyter-client in /usr/local/lib/python3.10/dist-packages (from ipykernel>=4.5.1->ipywidgets>=7.6.5->pycaret) (6.1.12)\n",
            "Requirement already satisfied: parso<0.9.0,>=0.8.0 in /usr/local/lib/python3.10/dist-packages (from jedi>=0.16->ipython>=5.5.0->pycaret) (0.8.3)\n",
            "Requirement already satisfied: attrs>=17.4.0 in /usr/local/lib/python3.10/dist-packages (from jsonschema>=2.6->nbformat>=4.2.0->pycaret) (23.1.0)\n",
            "Requirement already satisfied: pyrsistent!=0.17.0,!=0.17.1,!=0.17.2,>=0.14.0 in /usr/local/lib/python3.10/dist-packages (from jsonschema>=2.6->nbformat>=4.2.0->pycaret) (0.19.3)\n",
            "Requirement already satisfied: retrying in /usr/local/lib/python3.10/dist-packages (from jupyter-dash>=0.4.2->plotly-resampler>=0.8.3.1->pycaret) (1.3.4)\n",
            "Requirement already satisfied: ansi2html in /usr/local/lib/python3.10/dist-packages (from jupyter-dash>=0.4.2->plotly-resampler>=0.8.3.1->pycaret) (1.8.0)\n",
            "Requirement already satisfied: nest-asyncio in /usr/local/lib/python3.10/dist-packages (from jupyter-dash>=0.4.2->plotly-resampler>=0.8.3.1->pycaret) (1.5.6)\n",
            "Requirement already satisfied: ptyprocess>=0.5 in /usr/local/lib/python3.10/dist-packages (from pexpect>4.3->ipython>=5.5.0->pycaret) (0.7.0)\n",
            "Requirement already satisfied: wcwidth in /usr/local/lib/python3.10/dist-packages (from prompt-toolkit!=3.0.0,!=3.0.1,<3.1.0,>=2.0.0->ipython>=5.5.0->pycaret) (0.2.6)\n",
            "Requirement already satisfied: notebook>=4.4.1 in /usr/local/lib/python3.10/dist-packages (from widgetsnbextension~=3.6.0->ipywidgets>=7.6.5->pycaret) (6.4.8)\n",
            "Requirement already satisfied: platformdirs>=2.5 in /usr/local/lib/python3.10/dist-packages (from jupyter-core->nbformat>=4.2.0->pycaret) (3.3.0)\n",
            "Requirement already satisfied: click>=8.0 in /usr/local/lib/python3.10/dist-packages (from Flask>=1.0.4->dash<3.0.0,>=2.2.0->plotly-resampler>=0.8.3.1->pycaret) (8.1.3)\n",
            "Requirement already satisfied: Werkzeug>=2.2.2 in /usr/local/lib/python3.10/dist-packages (from Flask>=1.0.4->dash<3.0.0,>=2.2.0->plotly-resampler>=0.8.3.1->pycaret) (2.3.0)\n",
            "Requirement already satisfied: itsdangerous>=2.0 in /usr/local/lib/python3.10/dist-packages (from Flask>=1.0.4->dash<3.0.0,>=2.2.0->plotly-resampler>=0.8.3.1->pycaret) (2.1.2)\n",
            "Requirement already satisfied: argon2-cffi in /usr/local/lib/python3.10/dist-packages (from notebook>=4.4.1->widgetsnbextension~=3.6.0->ipywidgets>=7.6.5->pycaret) (21.3.0)\n",
            "Requirement already satisfied: pyzmq>=17 in /usr/local/lib/python3.10/dist-packages (from notebook>=4.4.1->widgetsnbextension~=3.6.0->ipywidgets>=7.6.5->pycaret) (23.2.1)\n",
            "Requirement already satisfied: prometheus-client in /usr/local/lib/python3.10/dist-packages (from notebook>=4.4.1->widgetsnbextension~=3.6.0->ipywidgets>=7.6.5->pycaret) (0.16.0)\n",
            "Requirement already satisfied: nbconvert in /usr/local/lib/python3.10/dist-packages (from notebook>=4.4.1->widgetsnbextension~=3.6.0->ipywidgets>=7.6.5->pycaret) (6.5.4)\n",
            "Requirement already satisfied: Send2Trash>=1.8.0 in /usr/local/lib/python3.10/dist-packages (from notebook>=4.4.1->widgetsnbextension~=3.6.0->ipywidgets>=7.6.5->pycaret) (1.8.0)\n",
            "Requirement already satisfied: terminado>=0.8.3 in /usr/local/lib/python3.10/dist-packages (from notebook>=4.4.1->widgetsnbextension~=3.6.0->ipywidgets>=7.6.5->pycaret) (0.17.1)\n",
            "Requirement already satisfied: argon2-cffi-bindings in /usr/local/lib/python3.10/dist-packages (from argon2-cffi->notebook>=4.4.1->widgetsnbextension~=3.6.0->ipywidgets>=7.6.5->pycaret) (21.2.0)\n",
            "Requirement already satisfied: jupyterlab-pygments in /usr/local/lib/python3.10/dist-packages (from nbconvert->notebook>=4.4.1->widgetsnbextension~=3.6.0->ipywidgets>=7.6.5->pycaret) (0.2.2)\n",
            "Requirement already satisfied: defusedxml in /usr/local/lib/python3.10/dist-packages (from nbconvert->notebook>=4.4.1->widgetsnbextension~=3.6.0->ipywidgets>=7.6.5->pycaret) (0.7.1)\n",
            "Requirement already satisfied: tinycss2 in /usr/local/lib/python3.10/dist-packages (from nbconvert->notebook>=4.4.1->widgetsnbextension~=3.6.0->ipywidgets>=7.6.5->pycaret) (1.2.1)\n",
            "Requirement already satisfied: bleach in /usr/local/lib/python3.10/dist-packages (from nbconvert->notebook>=4.4.1->widgetsnbextension~=3.6.0->ipywidgets>=7.6.5->pycaret) (6.0.0)\n",
            "Requirement already satisfied: pandocfilters>=1.4.1 in /usr/local/lib/python3.10/dist-packages (from nbconvert->notebook>=4.4.1->widgetsnbextension~=3.6.0->ipywidgets>=7.6.5->pycaret) (1.5.0)\n",
            "Requirement already satisfied: lxml in /usr/local/lib/python3.10/dist-packages (from nbconvert->notebook>=4.4.1->widgetsnbextension~=3.6.0->ipywidgets>=7.6.5->pycaret) (4.9.2)\n",
            "Requirement already satisfied: mistune<2,>=0.8.1 in /usr/local/lib/python3.10/dist-packages (from nbconvert->notebook>=4.4.1->widgetsnbextension~=3.6.0->ipywidgets>=7.6.5->pycaret) (0.8.4)\n",
            "Requirement already satisfied: nbclient>=0.5.0 in /usr/local/lib/python3.10/dist-packages (from nbconvert->notebook>=4.4.1->widgetsnbextension~=3.6.0->ipywidgets>=7.6.5->pycaret) (0.7.4)\n",
            "Requirement already satisfied: entrypoints>=0.2.2 in /usr/local/lib/python3.10/dist-packages (from nbconvert->notebook>=4.4.1->widgetsnbextension~=3.6.0->ipywidgets>=7.6.5->pycaret) (0.4)\n",
            "Requirement already satisfied: beautifulsoup4 in /usr/local/lib/python3.10/dist-packages (from nbconvert->notebook>=4.4.1->widgetsnbextension~=3.6.0->ipywidgets>=7.6.5->pycaret) (4.11.2)\n",
            "Requirement already satisfied: cffi>=1.0.1 in /usr/local/lib/python3.10/dist-packages (from argon2-cffi-bindings->argon2-cffi->notebook>=4.4.1->widgetsnbextension~=3.6.0->ipywidgets>=7.6.5->pycaret) (1.15.1)\n",
            "Requirement already satisfied: soupsieve>1.2 in /usr/local/lib/python3.10/dist-packages (from beautifulsoup4->nbconvert->notebook>=4.4.1->widgetsnbextension~=3.6.0->ipywidgets>=7.6.5->pycaret) (2.4.1)\n",
            "Requirement already satisfied: webencodings in /usr/local/lib/python3.10/dist-packages (from bleach->nbconvert->notebook>=4.4.1->widgetsnbextension~=3.6.0->ipywidgets>=7.6.5->pycaret) (0.5.1)\n",
            "Requirement already satisfied: pycparser in /usr/local/lib/python3.10/dist-packages (from cffi>=1.0.1->argon2-cffi-bindings->argon2-cffi->notebook>=4.4.1->widgetsnbextension~=3.6.0->ipywidgets>=7.6.5->pycaret) (2.21)\n"
          ]
        }
      ]
    },
    {
      "cell_type": "markdown",
      "source": [
        "## **<font color=\"RoyalBlue\">Carga de un conjunto de datos determinado</font>**"
      ],
      "metadata": {
        "id": "eU0gPpw4EUqv"
      },
      "id": "eU0gPpw4EUqv"
    },
    {
      "cell_type": "code",
      "source": [
        "import pandas as pd\n",
        "data = pd.read_csv(\"https://raw.githubusercontent.com/cristiandarioortegayubro/P4DA/main/salaries.csv\") "
      ],
      "metadata": {
        "id": "pYlVWAejEcww"
      },
      "id": "pYlVWAejEcww",
      "execution_count": 3,
      "outputs": []
    },
    {
      "cell_type": "code",
      "source": [
        "data.info()"
      ],
      "metadata": {
        "colab": {
          "base_uri": "https://localhost:8080/"
        },
        "id": "VdJ5O0WbjUkj",
        "outputId": "f750fe22-0463-4fdc-a7a9-8914207e866a"
      },
      "id": "VdJ5O0WbjUkj",
      "execution_count": 4,
      "outputs": [
        {
          "output_type": "stream",
          "name": "stdout",
          "text": [
            "<class 'pandas.core.frame.DataFrame'>\n",
            "RangeIndex: 607 entries, 0 to 606\n",
            "Data columns (total 11 columns):\n",
            " #   Column              Non-Null Count  Dtype \n",
            "---  ------              --------------  ----- \n",
            " 0   work_year           607 non-null    int64 \n",
            " 1   experience_level    607 non-null    object\n",
            " 2   employment_type     607 non-null    object\n",
            " 3   job_title           607 non-null    object\n",
            " 4   salary              607 non-null    int64 \n",
            " 5   salary_currency     607 non-null    object\n",
            " 6   salary_in_usd       607 non-null    int64 \n",
            " 7   employee_residence  607 non-null    object\n",
            " 8   remote_ratio        607 non-null    int64 \n",
            " 9   company_location    607 non-null    object\n",
            " 10  company_size        607 non-null    object\n",
            "dtypes: int64(4), object(7)\n",
            "memory usage: 52.3+ KB\n"
          ]
        }
      ]
    },
    {
      "cell_type": "markdown",
      "source": [
        " ## **<font color=\"RoyalBlue\">Setup</font>**\n"
      ],
      "metadata": {
        "id": "CHl2AvTYoXxw"
      },
      "id": "CHl2AvTYoXxw"
    },
    {
      "cell_type": "markdown",
      "source": [
        "Esta función inicializa el experimento en PyCaret y crea el pipeline de transformación basado en los parámetros de `setup()`. La función de `setup()` debe llamarse antes de ejecutar cualquier otra función. Toma dos parámetros requeridos: `data` y `target`. Todos los demás parámetros son opcionales y se usan para configurar el pipeline de preprocesamiento de datos."
      ],
      "metadata": {
        "id": "qAv73X3auqHZ"
      },
      "id": "qAv73X3auqHZ"
    },
    {
      "cell_type": "markdown",
      "source": [
        "👀 `session_id` es el valor semilla."
      ],
      "metadata": {
        "id": "UTJRN3MFvOvO"
      },
      "id": "UTJRN3MFvOvO"
    },
    {
      "cell_type": "code",
      "source": [
        "from pycaret.regression import *\n",
        "s = setup(data, target = 'salary', session_id = 123)"
      ],
      "metadata": {
        "colab": {
          "base_uri": "https://localhost:8080/",
          "height": 739
        },
        "id": "Rc9nZ_P3obFf",
        "outputId": "fec077da-63d1-477d-c157-cca4b36b6895"
      },
      "id": "Rc9nZ_P3obFf",
      "execution_count": 6,
      "outputs": [
        {
          "output_type": "display_data",
          "data": {
            "text/plain": [
              "<pandas.io.formats.style.Styler at 0x7f6acdc3f130>"
            ],
            "text/html": [
              "<style type=\"text/css\">\n",
              "#T_00051_row9_col1 {\n",
              "  background-color: lightgreen;\n",
              "}\n",
              "</style>\n",
              "<table id=\"T_00051\" class=\"dataframe\">\n",
              "  <thead>\n",
              "    <tr>\n",
              "      <th class=\"blank level0\" >&nbsp;</th>\n",
              "      <th id=\"T_00051_level0_col0\" class=\"col_heading level0 col0\" >Description</th>\n",
              "      <th id=\"T_00051_level0_col1\" class=\"col_heading level0 col1\" >Value</th>\n",
              "    </tr>\n",
              "  </thead>\n",
              "  <tbody>\n",
              "    <tr>\n",
              "      <th id=\"T_00051_level0_row0\" class=\"row_heading level0 row0\" >0</th>\n",
              "      <td id=\"T_00051_row0_col0\" class=\"data row0 col0\" >Session id</td>\n",
              "      <td id=\"T_00051_row0_col1\" class=\"data row0 col1\" >123</td>\n",
              "    </tr>\n",
              "    <tr>\n",
              "      <th id=\"T_00051_level0_row1\" class=\"row_heading level0 row1\" >1</th>\n",
              "      <td id=\"T_00051_row1_col0\" class=\"data row1 col0\" >Target</td>\n",
              "      <td id=\"T_00051_row1_col1\" class=\"data row1 col1\" >salary</td>\n",
              "    </tr>\n",
              "    <tr>\n",
              "      <th id=\"T_00051_level0_row2\" class=\"row_heading level0 row2\" >2</th>\n",
              "      <td id=\"T_00051_row2_col0\" class=\"data row2 col0\" >Target type</td>\n",
              "      <td id=\"T_00051_row2_col1\" class=\"data row2 col1\" >Regression</td>\n",
              "    </tr>\n",
              "    <tr>\n",
              "      <th id=\"T_00051_level0_row3\" class=\"row_heading level0 row3\" >3</th>\n",
              "      <td id=\"T_00051_row3_col0\" class=\"data row3 col0\" >Original data shape</td>\n",
              "      <td id=\"T_00051_row3_col1\" class=\"data row3 col1\" >(607, 11)</td>\n",
              "    </tr>\n",
              "    <tr>\n",
              "      <th id=\"T_00051_level0_row4\" class=\"row_heading level0 row4\" >4</th>\n",
              "      <td id=\"T_00051_row4_col0\" class=\"data row4 col0\" >Transformed data shape</td>\n",
              "      <td id=\"T_00051_row4_col1\" class=\"data row4 col1\" >(607, 32)</td>\n",
              "    </tr>\n",
              "    <tr>\n",
              "      <th id=\"T_00051_level0_row5\" class=\"row_heading level0 row5\" >5</th>\n",
              "      <td id=\"T_00051_row5_col0\" class=\"data row5 col0\" >Transformed train set shape</td>\n",
              "      <td id=\"T_00051_row5_col1\" class=\"data row5 col1\" >(424, 32)</td>\n",
              "    </tr>\n",
              "    <tr>\n",
              "      <th id=\"T_00051_level0_row6\" class=\"row_heading level0 row6\" >6</th>\n",
              "      <td id=\"T_00051_row6_col0\" class=\"data row6 col0\" >Transformed test set shape</td>\n",
              "      <td id=\"T_00051_row6_col1\" class=\"data row6 col1\" >(183, 32)</td>\n",
              "    </tr>\n",
              "    <tr>\n",
              "      <th id=\"T_00051_level0_row7\" class=\"row_heading level0 row7\" >7</th>\n",
              "      <td id=\"T_00051_row7_col0\" class=\"data row7 col0\" >Numeric features</td>\n",
              "      <td id=\"T_00051_row7_col1\" class=\"data row7 col1\" >3</td>\n",
              "    </tr>\n",
              "    <tr>\n",
              "      <th id=\"T_00051_level0_row8\" class=\"row_heading level0 row8\" >8</th>\n",
              "      <td id=\"T_00051_row8_col0\" class=\"data row8 col0\" >Categorical features</td>\n",
              "      <td id=\"T_00051_row8_col1\" class=\"data row8 col1\" >7</td>\n",
              "    </tr>\n",
              "    <tr>\n",
              "      <th id=\"T_00051_level0_row9\" class=\"row_heading level0 row9\" >9</th>\n",
              "      <td id=\"T_00051_row9_col0\" class=\"data row9 col0\" >Preprocess</td>\n",
              "      <td id=\"T_00051_row9_col1\" class=\"data row9 col1\" >True</td>\n",
              "    </tr>\n",
              "    <tr>\n",
              "      <th id=\"T_00051_level0_row10\" class=\"row_heading level0 row10\" >10</th>\n",
              "      <td id=\"T_00051_row10_col0\" class=\"data row10 col0\" >Imputation type</td>\n",
              "      <td id=\"T_00051_row10_col1\" class=\"data row10 col1\" >simple</td>\n",
              "    </tr>\n",
              "    <tr>\n",
              "      <th id=\"T_00051_level0_row11\" class=\"row_heading level0 row11\" >11</th>\n",
              "      <td id=\"T_00051_row11_col0\" class=\"data row11 col0\" >Numeric imputation</td>\n",
              "      <td id=\"T_00051_row11_col1\" class=\"data row11 col1\" >mean</td>\n",
              "    </tr>\n",
              "    <tr>\n",
              "      <th id=\"T_00051_level0_row12\" class=\"row_heading level0 row12\" >12</th>\n",
              "      <td id=\"T_00051_row12_col0\" class=\"data row12 col0\" >Categorical imputation</td>\n",
              "      <td id=\"T_00051_row12_col1\" class=\"data row12 col1\" >mode</td>\n",
              "    </tr>\n",
              "    <tr>\n",
              "      <th id=\"T_00051_level0_row13\" class=\"row_heading level0 row13\" >13</th>\n",
              "      <td id=\"T_00051_row13_col0\" class=\"data row13 col0\" >Maximum one-hot encoding</td>\n",
              "      <td id=\"T_00051_row13_col1\" class=\"data row13 col1\" >25</td>\n",
              "    </tr>\n",
              "    <tr>\n",
              "      <th id=\"T_00051_level0_row14\" class=\"row_heading level0 row14\" >14</th>\n",
              "      <td id=\"T_00051_row14_col0\" class=\"data row14 col0\" >Encoding method</td>\n",
              "      <td id=\"T_00051_row14_col1\" class=\"data row14 col1\" >None</td>\n",
              "    </tr>\n",
              "    <tr>\n",
              "      <th id=\"T_00051_level0_row15\" class=\"row_heading level0 row15\" >15</th>\n",
              "      <td id=\"T_00051_row15_col0\" class=\"data row15 col0\" >Fold Generator</td>\n",
              "      <td id=\"T_00051_row15_col1\" class=\"data row15 col1\" >KFold</td>\n",
              "    </tr>\n",
              "    <tr>\n",
              "      <th id=\"T_00051_level0_row16\" class=\"row_heading level0 row16\" >16</th>\n",
              "      <td id=\"T_00051_row16_col0\" class=\"data row16 col0\" >Fold Number</td>\n",
              "      <td id=\"T_00051_row16_col1\" class=\"data row16 col1\" >10</td>\n",
              "    </tr>\n",
              "    <tr>\n",
              "      <th id=\"T_00051_level0_row17\" class=\"row_heading level0 row17\" >17</th>\n",
              "      <td id=\"T_00051_row17_col0\" class=\"data row17 col0\" >CPU Jobs</td>\n",
              "      <td id=\"T_00051_row17_col1\" class=\"data row17 col1\" >-1</td>\n",
              "    </tr>\n",
              "    <tr>\n",
              "      <th id=\"T_00051_level0_row18\" class=\"row_heading level0 row18\" >18</th>\n",
              "      <td id=\"T_00051_row18_col0\" class=\"data row18 col0\" >Use GPU</td>\n",
              "      <td id=\"T_00051_row18_col1\" class=\"data row18 col1\" >False</td>\n",
              "    </tr>\n",
              "    <tr>\n",
              "      <th id=\"T_00051_level0_row19\" class=\"row_heading level0 row19\" >19</th>\n",
              "      <td id=\"T_00051_row19_col0\" class=\"data row19 col0\" >Log Experiment</td>\n",
              "      <td id=\"T_00051_row19_col1\" class=\"data row19 col1\" >False</td>\n",
              "    </tr>\n",
              "    <tr>\n",
              "      <th id=\"T_00051_level0_row20\" class=\"row_heading level0 row20\" >20</th>\n",
              "      <td id=\"T_00051_row20_col0\" class=\"data row20 col0\" >Experiment Name</td>\n",
              "      <td id=\"T_00051_row20_col1\" class=\"data row20 col1\" >reg-default-name</td>\n",
              "    </tr>\n",
              "    <tr>\n",
              "      <th id=\"T_00051_level0_row21\" class=\"row_heading level0 row21\" >21</th>\n",
              "      <td id=\"T_00051_row21_col0\" class=\"data row21 col0\" >USI</td>\n",
              "      <td id=\"T_00051_row21_col1\" class=\"data row21 col1\" >2669</td>\n",
              "    </tr>\n",
              "  </tbody>\n",
              "</table>\n"
            ]
          },
          "metadata": {}
        }
      ]
    },
    {
      "cell_type": "markdown",
      "source": [
        " ## **<font color=\"RoyalBlue\">Comparar modelos</font>**\n"
      ],
      "metadata": {
        "id": "ILXLNSDJqPcg"
      },
      "id": "ILXLNSDJqPcg"
    },
    {
      "cell_type": "markdown",
      "source": [
        "Esta función entrena y evalúa el rendimiento de todos los clasificadores disponibles en la biblioteca de los modelos, mediante validación cruzada. El resultado de esta función es una cuadrícula con puntuaciones. Se puede acceder a las métricas evaluadas mediante la función `get_metrics`. Las métricas personalizadas se pueden agregar o eliminar utilizando las funciones `add_metric` y `remove_metric`."
      ],
      "metadata": {
        "id": "g91t09yewfeZ"
      },
      "id": "g91t09yewfeZ"
    },
    {
      "cell_type": "code",
      "source": [
        "best = compare_models()"
      ],
      "metadata": {
        "colab": {
          "base_uri": "https://localhost:8080/",
          "height": 1000,
          "referenced_widgets": [
            "28cbeade76d84f7caf5b625b1318598e",
            "d71e390a7be745f3bccadc7427d3175e",
            "fc163d94b24042a2863dd025655e8fa4",
            "9a0730846de348518062d12c760a1076",
            "5c1c6834d9fa493ba06cfd4ec6fe7c22",
            "886594d531ad4bd49007c1f6df88b6cb",
            "a592483c2e5b4446bce3bdef2350f019",
            "5a0224df5e3246bba6c3130453ce6b72",
            "ad420c3633214b199f0e4440e6102308",
            "fe49d5a46e62459d895d8a5ff530b13b",
            "a85653b4c84f41bc9686387b337a04bb"
          ]
        },
        "id": "5OB9WF5EqSLr",
        "outputId": "47e0de38-91ef-4ba7-84ac-2e2a777b5ac5"
      },
      "id": "5OB9WF5EqSLr",
      "execution_count": 7,
      "outputs": [
        {
          "output_type": "display_data",
          "data": {
            "text/plain": [
              "<IPython.core.display.HTML object>"
            ],
            "text/html": []
          },
          "metadata": {}
        },
        {
          "output_type": "display_data",
          "data": {
            "text/plain": [
              "<pandas.io.formats.style.Styler at 0x7f6aecd47520>"
            ],
            "text/html": [
              "<style type=\"text/css\">\n",
              "#T_21038 th {\n",
              "  text-align: left;\n",
              "}\n",
              "#T_21038_row0_col0, #T_21038_row0_col5, #T_21038_row0_col6, #T_21038_row1_col0, #T_21038_row1_col1, #T_21038_row1_col2, #T_21038_row1_col3, #T_21038_row1_col4, #T_21038_row2_col0, #T_21038_row2_col1, #T_21038_row2_col2, #T_21038_row2_col3, #T_21038_row2_col4, #T_21038_row2_col5, #T_21038_row2_col6, #T_21038_row3_col0, #T_21038_row3_col1, #T_21038_row3_col2, #T_21038_row3_col3, #T_21038_row3_col4, #T_21038_row3_col5, #T_21038_row3_col6, #T_21038_row4_col0, #T_21038_row4_col1, #T_21038_row4_col2, #T_21038_row4_col3, #T_21038_row4_col4, #T_21038_row4_col5, #T_21038_row4_col6, #T_21038_row5_col0, #T_21038_row5_col1, #T_21038_row5_col2, #T_21038_row5_col3, #T_21038_row5_col4, #T_21038_row5_col5, #T_21038_row5_col6, #T_21038_row6_col0, #T_21038_row6_col1, #T_21038_row6_col2, #T_21038_row6_col3, #T_21038_row6_col4, #T_21038_row6_col5, #T_21038_row6_col6, #T_21038_row7_col0, #T_21038_row7_col1, #T_21038_row7_col2, #T_21038_row7_col3, #T_21038_row7_col4, #T_21038_row7_col5, #T_21038_row7_col6, #T_21038_row8_col0, #T_21038_row8_col1, #T_21038_row8_col2, #T_21038_row8_col3, #T_21038_row8_col4, #T_21038_row8_col5, #T_21038_row8_col6, #T_21038_row9_col0, #T_21038_row9_col1, #T_21038_row9_col2, #T_21038_row9_col3, #T_21038_row9_col4, #T_21038_row9_col5, #T_21038_row9_col6, #T_21038_row10_col0, #T_21038_row10_col1, #T_21038_row10_col2, #T_21038_row10_col3, #T_21038_row10_col4, #T_21038_row10_col5, #T_21038_row10_col6, #T_21038_row11_col0, #T_21038_row11_col1, #T_21038_row11_col2, #T_21038_row11_col3, #T_21038_row11_col4, #T_21038_row11_col5, #T_21038_row11_col6, #T_21038_row12_col0, #T_21038_row12_col1, #T_21038_row12_col2, #T_21038_row12_col3, #T_21038_row12_col4, #T_21038_row12_col5, #T_21038_row12_col6, #T_21038_row13_col0, #T_21038_row13_col1, #T_21038_row13_col2, #T_21038_row13_col3, #T_21038_row13_col4, #T_21038_row13_col5, #T_21038_row13_col6, #T_21038_row14_col0, #T_21038_row14_col1, #T_21038_row14_col2, #T_21038_row14_col3, #T_21038_row14_col4, #T_21038_row14_col5, #T_21038_row14_col6, #T_21038_row15_col0, #T_21038_row15_col1, #T_21038_row15_col2, #T_21038_row15_col3, #T_21038_row15_col4, #T_21038_row15_col5, #T_21038_row15_col6, #T_21038_row16_col0, #T_21038_row16_col1, #T_21038_row16_col2, #T_21038_row16_col3, #T_21038_row16_col4, #T_21038_row16_col5, #T_21038_row16_col6, #T_21038_row17_col0, #T_21038_row17_col1, #T_21038_row17_col2, #T_21038_row17_col3, #T_21038_row17_col4, #T_21038_row17_col5, #T_21038_row17_col6, #T_21038_row18_col0, #T_21038_row18_col1, #T_21038_row18_col2, #T_21038_row18_col3, #T_21038_row18_col4, #T_21038_row18_col5, #T_21038_row18_col6 {\n",
              "  text-align: left;\n",
              "}\n",
              "#T_21038_row0_col1, #T_21038_row0_col2, #T_21038_row0_col3, #T_21038_row0_col4, #T_21038_row1_col5, #T_21038_row1_col6 {\n",
              "  text-align: left;\n",
              "  background-color: yellow;\n",
              "}\n",
              "#T_21038_row0_col7, #T_21038_row3_col7 {\n",
              "  text-align: left;\n",
              "  background-color: yellow;\n",
              "  background-color: lightgrey;\n",
              "}\n",
              "#T_21038_row1_col7, #T_21038_row2_col7, #T_21038_row4_col7, #T_21038_row5_col7, #T_21038_row6_col7, #T_21038_row7_col7, #T_21038_row8_col7, #T_21038_row9_col7, #T_21038_row10_col7, #T_21038_row11_col7, #T_21038_row12_col7, #T_21038_row13_col7, #T_21038_row14_col7, #T_21038_row15_col7, #T_21038_row16_col7, #T_21038_row17_col7, #T_21038_row18_col7 {\n",
              "  text-align: left;\n",
              "  background-color: lightgrey;\n",
              "}\n",
              "</style>\n",
              "<table id=\"T_21038\" class=\"dataframe\">\n",
              "  <thead>\n",
              "    <tr>\n",
              "      <th class=\"blank level0\" >&nbsp;</th>\n",
              "      <th id=\"T_21038_level0_col0\" class=\"col_heading level0 col0\" >Model</th>\n",
              "      <th id=\"T_21038_level0_col1\" class=\"col_heading level0 col1\" >MAE</th>\n",
              "      <th id=\"T_21038_level0_col2\" class=\"col_heading level0 col2\" >MSE</th>\n",
              "      <th id=\"T_21038_level0_col3\" class=\"col_heading level0 col3\" >RMSE</th>\n",
              "      <th id=\"T_21038_level0_col4\" class=\"col_heading level0 col4\" >R2</th>\n",
              "      <th id=\"T_21038_level0_col5\" class=\"col_heading level0 col5\" >RMSLE</th>\n",
              "      <th id=\"T_21038_level0_col6\" class=\"col_heading level0 col6\" >MAPE</th>\n",
              "      <th id=\"T_21038_level0_col7\" class=\"col_heading level0 col7\" >TT (Sec)</th>\n",
              "    </tr>\n",
              "  </thead>\n",
              "  <tbody>\n",
              "    <tr>\n",
              "      <th id=\"T_21038_level0_row0\" class=\"row_heading level0 row0\" >xgboost</th>\n",
              "      <td id=\"T_21038_row0_col0\" class=\"data row0 col0\" >Extreme Gradient Boosting</td>\n",
              "      <td id=\"T_21038_row0_col1\" class=\"data row0 col1\" >81220.6163</td>\n",
              "      <td id=\"T_21038_row0_col2\" class=\"data row0 col2\" >368150143051.8802</td>\n",
              "      <td id=\"T_21038_row0_col3\" class=\"data row0 col3\" >374438.2380</td>\n",
              "      <td id=\"T_21038_row0_col4\" class=\"data row0 col4\" >0.6613</td>\n",
              "      <td id=\"T_21038_row0_col5\" class=\"data row0 col5\" >0.3907</td>\n",
              "      <td id=\"T_21038_row0_col6\" class=\"data row0 col6\" >0.2314</td>\n",
              "      <td id=\"T_21038_row0_col7\" class=\"data row0 col7\" >0.2140</td>\n",
              "    </tr>\n",
              "    <tr>\n",
              "      <th id=\"T_21038_level0_row1\" class=\"row_heading level0 row1\" >et</th>\n",
              "      <td id=\"T_21038_row1_col0\" class=\"data row1 col0\" >Extra Trees Regressor</td>\n",
              "      <td id=\"T_21038_row1_col1\" class=\"data row1 col1\" >86427.3028</td>\n",
              "      <td id=\"T_21038_row1_col2\" class=\"data row1 col2\" >395647463007.8052</td>\n",
              "      <td id=\"T_21038_row1_col3\" class=\"data row1 col3\" >411665.0263</td>\n",
              "      <td id=\"T_21038_row1_col4\" class=\"data row1 col4\" >0.6214</td>\n",
              "      <td id=\"T_21038_row1_col5\" class=\"data row1 col5\" >0.2980</td>\n",
              "      <td id=\"T_21038_row1_col6\" class=\"data row1 col6\" >0.1158</td>\n",
              "      <td id=\"T_21038_row1_col7\" class=\"data row1 col7\" >0.2840</td>\n",
              "    </tr>\n",
              "    <tr>\n",
              "      <th id=\"T_21038_level0_row2\" class=\"row_heading level0 row2\" >gbr</th>\n",
              "      <td id=\"T_21038_row2_col0\" class=\"data row2 col0\" >Gradient Boosting Regressor</td>\n",
              "      <td id=\"T_21038_row2_col1\" class=\"data row2 col1\" >103686.3431</td>\n",
              "      <td id=\"T_21038_row2_col2\" class=\"data row2 col2\" >435168750050.9512</td>\n",
              "      <td id=\"T_21038_row2_col3\" class=\"data row2 col3\" >444204.2950</td>\n",
              "      <td id=\"T_21038_row2_col4\" class=\"data row2 col4\" >0.5626</td>\n",
              "      <td id=\"T_21038_row2_col5\" class=\"data row2 col5\" >0.5056</td>\n",
              "      <td id=\"T_21038_row2_col6\" class=\"data row2 col6\" >0.5939</td>\n",
              "      <td id=\"T_21038_row2_col7\" class=\"data row2 col7\" >0.4550</td>\n",
              "    </tr>\n",
              "    <tr>\n",
              "      <th id=\"T_21038_level0_row3\" class=\"row_heading level0 row3\" >dt</th>\n",
              "      <td id=\"T_21038_row3_col0\" class=\"data row3 col0\" >Decision Tree Regressor</td>\n",
              "      <td id=\"T_21038_row3_col1\" class=\"data row3 col1\" >107995.0396</td>\n",
              "      <td id=\"T_21038_row3_col2\" class=\"data row3 col2\" >470695692475.4056</td>\n",
              "      <td id=\"T_21038_row3_col3\" class=\"data row3 col3\" >486552.9982</td>\n",
              "      <td id=\"T_21038_row3_col4\" class=\"data row3 col4\" >0.2988</td>\n",
              "      <td id=\"T_21038_row3_col5\" class=\"data row3 col5\" >0.3646</td>\n",
              "      <td id=\"T_21038_row3_col6\" class=\"data row3 col6\" >0.1555</td>\n",
              "      <td id=\"T_21038_row3_col7\" class=\"data row3 col7\" >0.2140</td>\n",
              "    </tr>\n",
              "    <tr>\n",
              "      <th id=\"T_21038_level0_row4\" class=\"row_heading level0 row4\" >ada</th>\n",
              "      <td id=\"T_21038_row4_col0\" class=\"data row4 col0\" >AdaBoost Regressor</td>\n",
              "      <td id=\"T_21038_row4_col1\" class=\"data row4 col1\" >163886.5792</td>\n",
              "      <td id=\"T_21038_row4_col2\" class=\"data row4 col2\" >503943469331.0688</td>\n",
              "      <td id=\"T_21038_row4_col3\" class=\"data row4 col3\" >540256.0528</td>\n",
              "      <td id=\"T_21038_row4_col4\" class=\"data row4 col4\" >0.2125</td>\n",
              "      <td id=\"T_21038_row4_col5\" class=\"data row4 col5\" >0.8501</td>\n",
              "      <td id=\"T_21038_row4_col6\" class=\"data row4 col6\" >1.3351</td>\n",
              "      <td id=\"T_21038_row4_col7\" class=\"data row4 col7\" >0.3150</td>\n",
              "    </tr>\n",
              "    <tr>\n",
              "      <th id=\"T_21038_level0_row5\" class=\"row_heading level0 row5\" >rf</th>\n",
              "      <td id=\"T_21038_row5_col0\" class=\"data row5 col0\" >Random Forest Regressor</td>\n",
              "      <td id=\"T_21038_row5_col1\" class=\"data row5 col1\" >117116.8641</td>\n",
              "      <td id=\"T_21038_row5_col2\" class=\"data row5 col2\" >486585998503.6177</td>\n",
              "      <td id=\"T_21038_row5_col3\" class=\"data row5 col3\" >497926.7263</td>\n",
              "      <td id=\"T_21038_row5_col4\" class=\"data row5 col4\" >0.0558</td>\n",
              "      <td id=\"T_21038_row5_col5\" class=\"data row5 col5\" >0.4647</td>\n",
              "      <td id=\"T_21038_row5_col6\" class=\"data row5 col6\" >0.3675</td>\n",
              "      <td id=\"T_21038_row5_col7\" class=\"data row5 col7\" >0.2810</td>\n",
              "    </tr>\n",
              "    <tr>\n",
              "      <th id=\"T_21038_level0_row6\" class=\"row_heading level0 row6\" >lasso</th>\n",
              "      <td id=\"T_21038_row6_col0\" class=\"data row6 col0\" >Lasso Regression</td>\n",
              "      <td id=\"T_21038_row6_col1\" class=\"data row6 col1\" >178260.8045</td>\n",
              "      <td id=\"T_21038_row6_col2\" class=\"data row6 col2\" >462915163074.0917</td>\n",
              "      <td id=\"T_21038_row6_col3\" class=\"data row6 col3\" >533692.4322</td>\n",
              "      <td id=\"T_21038_row6_col4\" class=\"data row6 col4\" >-0.0732</td>\n",
              "      <td id=\"T_21038_row6_col5\" class=\"data row6 col5\" >0.9964</td>\n",
              "      <td id=\"T_21038_row6_col6\" class=\"data row6 col6\" >1.4892</td>\n",
              "      <td id=\"T_21038_row6_col7\" class=\"data row6 col7\" >0.4830</td>\n",
              "    </tr>\n",
              "    <tr>\n",
              "      <th id=\"T_21038_level0_row7\" class=\"row_heading level0 row7\" >llar</th>\n",
              "      <td id=\"T_21038_row7_col0\" class=\"data row7 col0\" >Lasso Least Angle Regression</td>\n",
              "      <td id=\"T_21038_row7_col1\" class=\"data row7 col1\" >177006.8232</td>\n",
              "      <td id=\"T_21038_row7_col2\" class=\"data row7 col2\" >485016562606.7394</td>\n",
              "      <td id=\"T_21038_row7_col3\" class=\"data row7 col3\" >539637.7450</td>\n",
              "      <td id=\"T_21038_row7_col4\" class=\"data row7 col4\" >-0.0782</td>\n",
              "      <td id=\"T_21038_row7_col5\" class=\"data row7 col5\" >1.0040</td>\n",
              "      <td id=\"T_21038_row7_col6\" class=\"data row7 col6\" >1.4688</td>\n",
              "      <td id=\"T_21038_row7_col7\" class=\"data row7 col7\" >0.4390</td>\n",
              "    </tr>\n",
              "    <tr>\n",
              "      <th id=\"T_21038_level0_row8\" class=\"row_heading level0 row8\" >lr</th>\n",
              "      <td id=\"T_21038_row8_col0\" class=\"data row8 col0\" >Linear Regression</td>\n",
              "      <td id=\"T_21038_row8_col1\" class=\"data row8 col1\" >185300.0452</td>\n",
              "      <td id=\"T_21038_row8_col2\" class=\"data row8 col2\" >464864446411.4408</td>\n",
              "      <td id=\"T_21038_row8_col3\" class=\"data row8 col3\" >540404.3945</td>\n",
              "      <td id=\"T_21038_row8_col4\" class=\"data row8 col4\" >-0.0833</td>\n",
              "      <td id=\"T_21038_row8_col5\" class=\"data row8 col5\" >1.0015</td>\n",
              "      <td id=\"T_21038_row8_col6\" class=\"data row8 col6\" >1.5439</td>\n",
              "      <td id=\"T_21038_row8_col7\" class=\"data row8 col7\" >0.6230</td>\n",
              "    </tr>\n",
              "    <tr>\n",
              "      <th id=\"T_21038_level0_row9\" class=\"row_heading level0 row9\" >dummy</th>\n",
              "      <td id=\"T_21038_row9_col0\" class=\"data row9 col0\" >Dummy Regressor</td>\n",
              "      <td id=\"T_21038_row9_col1\" class=\"data row9 col1\" >324076.5146</td>\n",
              "      <td id=\"T_21038_row9_col2\" class=\"data row9 col2\" >895178935586.7703</td>\n",
              "      <td id=\"T_21038_row9_col3\" class=\"data row9 col3\" >769164.4511</td>\n",
              "      <td id=\"T_21038_row9_col4\" class=\"data row9 col4\" >-0.2747</td>\n",
              "      <td id=\"T_21038_row9_col5\" class=\"data row9 col5\" >1.3342</td>\n",
              "      <td id=\"T_21038_row9_col6\" class=\"data row9 col6\" >2.8426</td>\n",
              "      <td id=\"T_21038_row9_col7\" class=\"data row9 col7\" >0.2210</td>\n",
              "    </tr>\n",
              "    <tr>\n",
              "      <th id=\"T_21038_level0_row10\" class=\"row_heading level0 row10\" >ridge</th>\n",
              "      <td id=\"T_21038_row10_col0\" class=\"data row10 col0\" >Ridge Regression</td>\n",
              "      <td id=\"T_21038_row10_col1\" class=\"data row10 col1\" >193693.8853</td>\n",
              "      <td id=\"T_21038_row10_col2\" class=\"data row10 col2\" >478460867125.0955</td>\n",
              "      <td id=\"T_21038_row10_col3\" class=\"data row10 col3\" >541143.7923</td>\n",
              "      <td id=\"T_21038_row10_col4\" class=\"data row10 col4\" >-0.3833</td>\n",
              "      <td id=\"T_21038_row10_col5\" class=\"data row10 col5\" >1.0453</td>\n",
              "      <td id=\"T_21038_row10_col6\" class=\"data row10 col6\" >1.4798</td>\n",
              "      <td id=\"T_21038_row10_col7\" class=\"data row10 col7\" >0.2760</td>\n",
              "    </tr>\n",
              "    <tr>\n",
              "      <th id=\"T_21038_level0_row11\" class=\"row_heading level0 row11\" >par</th>\n",
              "      <td id=\"T_21038_row11_col0\" class=\"data row11 col0\" >Passive Aggressive Regressor</td>\n",
              "      <td id=\"T_21038_row11_col1\" class=\"data row11 col1\" >207287.1782</td>\n",
              "      <td id=\"T_21038_row11_col2\" class=\"data row11 col2\" >766020563379.7429</td>\n",
              "      <td id=\"T_21038_row11_col3\" class=\"data row11 col3\" >715032.7385</td>\n",
              "      <td id=\"T_21038_row11_col4\" class=\"data row11 col4\" >-0.9068</td>\n",
              "      <td id=\"T_21038_row11_col5\" class=\"data row11 col5\" >0.8334</td>\n",
              "      <td id=\"T_21038_row11_col6\" class=\"data row11 col6\" >1.2176</td>\n",
              "      <td id=\"T_21038_row11_col7\" class=\"data row11 col7\" >0.2160</td>\n",
              "    </tr>\n",
              "    <tr>\n",
              "      <th id=\"T_21038_level0_row12\" class=\"row_heading level0 row12\" >huber</th>\n",
              "      <td id=\"T_21038_row12_col0\" class=\"data row12 col0\" >Huber Regressor</td>\n",
              "      <td id=\"T_21038_row12_col1\" class=\"data row12 col1\" >189860.1345</td>\n",
              "      <td id=\"T_21038_row12_col2\" class=\"data row12 col2\" >844079001571.4447</td>\n",
              "      <td id=\"T_21038_row12_col3\" class=\"data row12 col3\" >754575.6553</td>\n",
              "      <td id=\"T_21038_row12_col4\" class=\"data row12 col4\" >-2.1228</td>\n",
              "      <td id=\"T_21038_row12_col5\" class=\"data row12 col5\" >0.7453</td>\n",
              "      <td id=\"T_21038_row12_col6\" class=\"data row12 col6\" >0.8354</td>\n",
              "      <td id=\"T_21038_row12_col7\" class=\"data row12 col7\" >0.2320</td>\n",
              "    </tr>\n",
              "    <tr>\n",
              "      <th id=\"T_21038_level0_row13\" class=\"row_heading level0 row13\" >en</th>\n",
              "      <td id=\"T_21038_row13_col0\" class=\"data row13 col0\" >Elastic Net</td>\n",
              "      <td id=\"T_21038_row13_col1\" class=\"data row13 col1\" >228074.9152</td>\n",
              "      <td id=\"T_21038_row13_col2\" class=\"data row13 col2\" >691187180063.5302</td>\n",
              "      <td id=\"T_21038_row13_col3\" class=\"data row13 col3\" >692392.5648</td>\n",
              "      <td id=\"T_21038_row13_col4\" class=\"data row13 col4\" >-3.6109</td>\n",
              "      <td id=\"T_21038_row13_col5\" class=\"data row13 col5\" >0.9739</td>\n",
              "      <td id=\"T_21038_row13_col6\" class=\"data row13 col6\" >1.9578</td>\n",
              "      <td id=\"T_21038_row13_col7\" class=\"data row13 col7\" >0.2430</td>\n",
              "    </tr>\n",
              "    <tr>\n",
              "      <th id=\"T_21038_level0_row14\" class=\"row_heading level0 row14\" >br</th>\n",
              "      <td id=\"T_21038_row14_col0\" class=\"data row14 col0\" >Bayesian Ridge</td>\n",
              "      <td id=\"T_21038_row14_col1\" class=\"data row14 col1\" >219941.3623</td>\n",
              "      <td id=\"T_21038_row14_col2\" class=\"data row14 col2\" >699921637660.2699</td>\n",
              "      <td id=\"T_21038_row14_col3\" class=\"data row14 col3\" >695498.9497</td>\n",
              "      <td id=\"T_21038_row14_col4\" class=\"data row14 col4\" >-3.6192</td>\n",
              "      <td id=\"T_21038_row14_col5\" class=\"data row14 col5\" >0.9427</td>\n",
              "      <td id=\"T_21038_row14_col6\" class=\"data row14 col6\" >1.9938</td>\n",
              "      <td id=\"T_21038_row14_col7\" class=\"data row14 col7\" >0.2150</td>\n",
              "    </tr>\n",
              "    <tr>\n",
              "      <th id=\"T_21038_level0_row15\" class=\"row_heading level0 row15\" >omp</th>\n",
              "      <td id=\"T_21038_row15_col0\" class=\"data row15 col0\" >Orthogonal Matching Pursuit</td>\n",
              "      <td id=\"T_21038_row15_col1\" class=\"data row15 col1\" >218964.2952</td>\n",
              "      <td id=\"T_21038_row15_col2\" class=\"data row15 col2\" >702226771335.2098</td>\n",
              "      <td id=\"T_21038_row15_col3\" class=\"data row15 col3\" >697107.7851</td>\n",
              "      <td id=\"T_21038_row15_col4\" class=\"data row15 col4\" >-3.7537</td>\n",
              "      <td id=\"T_21038_row15_col5\" class=\"data row15 col5\" >0.9323</td>\n",
              "      <td id=\"T_21038_row15_col6\" class=\"data row15 col6\" >1.9541</td>\n",
              "      <td id=\"T_21038_row15_col7\" class=\"data row15 col7\" >0.2400</td>\n",
              "    </tr>\n",
              "    <tr>\n",
              "      <th id=\"T_21038_level0_row16\" class=\"row_heading level0 row16\" >lightgbm</th>\n",
              "      <td id=\"T_21038_row16_col0\" class=\"data row16 col0\" >Light Gradient Boosting Machine</td>\n",
              "      <td id=\"T_21038_row16_col1\" class=\"data row16 col1\" >255785.2442</td>\n",
              "      <td id=\"T_21038_row16_col2\" class=\"data row16 col2\" >697463280692.2947</td>\n",
              "      <td id=\"T_21038_row16_col3\" class=\"data row16 col3\" >705867.2718</td>\n",
              "      <td id=\"T_21038_row16_col4\" class=\"data row16 col4\" >-4.5981</td>\n",
              "      <td id=\"T_21038_row16_col5\" class=\"data row16 col5\" >1.1848</td>\n",
              "      <td id=\"T_21038_row16_col6\" class=\"data row16 col6\" >3.1657</td>\n",
              "      <td id=\"T_21038_row16_col7\" class=\"data row16 col7\" >0.3350</td>\n",
              "    </tr>\n",
              "    <tr>\n",
              "      <th id=\"T_21038_level0_row17\" class=\"row_heading level0 row17\" >knn</th>\n",
              "      <td id=\"T_21038_row17_col0\" class=\"data row17 col0\" >K Neighbors Regressor</td>\n",
              "      <td id=\"T_21038_row17_col1\" class=\"data row17 col1\" >254018.5915</td>\n",
              "      <td id=\"T_21038_row17_col2\" class=\"data row17 col2\" >935441478258.8760</td>\n",
              "      <td id=\"T_21038_row17_col3\" class=\"data row17 col3\" >886239.8168</td>\n",
              "      <td id=\"T_21038_row17_col4\" class=\"data row17 col4\" >-5.3000</td>\n",
              "      <td id=\"T_21038_row17_col5\" class=\"data row17 col5\" >0.9571</td>\n",
              "      <td id=\"T_21038_row17_col6\" class=\"data row17 col6\" >4.4541</td>\n",
              "      <td id=\"T_21038_row17_col7\" class=\"data row17 col7\" >0.3600</td>\n",
              "    </tr>\n",
              "    <tr>\n",
              "      <th id=\"T_21038_level0_row18\" class=\"row_heading level0 row18\" >lar</th>\n",
              "      <td id=\"T_21038_row18_col0\" class=\"data row18 col0\" >Least Angle Regression</td>\n",
              "      <td id=\"T_21038_row18_col1\" class=\"data row18 col1\" >554678047412753088.0000</td>\n",
              "      <td id=\"T_21038_row18_col2\" class=\"data row18 col2\" >38761600004965374712757913635914776576.0000</td>\n",
              "      <td id=\"T_21038_row18_col3\" class=\"data row18 col3\" >2889691714921872896.0000</td>\n",
              "      <td id=\"T_21038_row18_col4\" class=\"data row18 col4\" >-28405777064530917831213056.0000</td>\n",
              "      <td id=\"T_21038_row18_col5\" class=\"data row18 col5\" >5.3049</td>\n",
              "      <td id=\"T_21038_row18_col6\" class=\"data row18 col6\" >3435581546660.4331</td>\n",
              "      <td id=\"T_21038_row18_col7\" class=\"data row18 col7\" >0.2560</td>\n",
              "    </tr>\n",
              "  </tbody>\n",
              "</table>\n"
            ]
          },
          "metadata": {}
        },
        {
          "output_type": "display_data",
          "data": {
            "text/plain": [
              "Processing:   0%|          | 0/81 [00:00<?, ?it/s]"
            ],
            "application/vnd.jupyter.widget-view+json": {
              "version_major": 2,
              "version_minor": 0,
              "model_id": "28cbeade76d84f7caf5b625b1318598e"
            }
          },
          "metadata": {
            "application/vnd.jupyter.widget-view+json": {
              "colab": {
                "custom_widget_manager": {
                  "url": "https://ssl.gstatic.com/colaboratory-static/widgets/colab-cdn-widget-manager/b3e629b1971e1542/manager.min.js"
                }
              }
            }
          }
        },
        {
          "output_type": "display_data",
          "data": {
            "text/plain": [
              "<IPython.core.display.HTML object>"
            ],
            "text/html": []
          },
          "metadata": {}
        }
      ]
    },
    {
      "cell_type": "code",
      "source": [
        "best"
      ],
      "metadata": {
        "colab": {
          "base_uri": "https://localhost:8080/",
          "height": 248
        },
        "id": "smhvS-3Oq8TO",
        "outputId": "0a8fdf7b-1231-4a3d-ccf9-86b10138e923"
      },
      "id": "smhvS-3Oq8TO",
      "execution_count": 8,
      "outputs": [
        {
          "output_type": "execute_result",
          "data": {
            "text/plain": [
              "XGBRegressor(base_score=None, booster='gbtree', callbacks=None,\n",
              "             colsample_bylevel=None, colsample_bynode=None,\n",
              "             colsample_bytree=None, early_stopping_rounds=None,\n",
              "             enable_categorical=False, eval_metric=None, feature_types=None,\n",
              "             gamma=None, gpu_id=None, grow_policy=None, importance_type=None,\n",
              "             interaction_constraints=None, learning_rate=None, max_bin=None,\n",
              "             max_cat_threshold=None, max_cat_to_onehot=None,\n",
              "             max_delta_step=None, max_depth=None, max_leaves=None,\n",
              "             min_child_weight=None, missing=nan, monotone_constraints=None,\n",
              "             n_estimators=100, n_jobs=-1, num_parallel_tree=None,\n",
              "             predictor=None, random_state=123, ...)"
            ],
            "text/html": [
              "<style>#sk-container-id-1 {color: black;background-color: white;}#sk-container-id-1 pre{padding: 0;}#sk-container-id-1 div.sk-toggleable {background-color: white;}#sk-container-id-1 label.sk-toggleable__label {cursor: pointer;display: block;width: 100%;margin-bottom: 0;padding: 0.3em;box-sizing: border-box;text-align: center;}#sk-container-id-1 label.sk-toggleable__label-arrow:before {content: \"▸\";float: left;margin-right: 0.25em;color: #696969;}#sk-container-id-1 label.sk-toggleable__label-arrow:hover:before {color: black;}#sk-container-id-1 div.sk-estimator:hover label.sk-toggleable__label-arrow:before {color: black;}#sk-container-id-1 div.sk-toggleable__content {max-height: 0;max-width: 0;overflow: hidden;text-align: left;background-color: #f0f8ff;}#sk-container-id-1 div.sk-toggleable__content pre {margin: 0.2em;color: black;border-radius: 0.25em;background-color: #f0f8ff;}#sk-container-id-1 input.sk-toggleable__control:checked~div.sk-toggleable__content {max-height: 200px;max-width: 100%;overflow: auto;}#sk-container-id-1 input.sk-toggleable__control:checked~label.sk-toggleable__label-arrow:before {content: \"▾\";}#sk-container-id-1 div.sk-estimator input.sk-toggleable__control:checked~label.sk-toggleable__label {background-color: #d4ebff;}#sk-container-id-1 div.sk-label input.sk-toggleable__control:checked~label.sk-toggleable__label {background-color: #d4ebff;}#sk-container-id-1 input.sk-hidden--visually {border: 0;clip: rect(1px 1px 1px 1px);clip: rect(1px, 1px, 1px, 1px);height: 1px;margin: -1px;overflow: hidden;padding: 0;position: absolute;width: 1px;}#sk-container-id-1 div.sk-estimator {font-family: monospace;background-color: #f0f8ff;border: 1px dotted black;border-radius: 0.25em;box-sizing: border-box;margin-bottom: 0.5em;}#sk-container-id-1 div.sk-estimator:hover {background-color: #d4ebff;}#sk-container-id-1 div.sk-parallel-item::after {content: \"\";width: 100%;border-bottom: 1px solid gray;flex-grow: 1;}#sk-container-id-1 div.sk-label:hover label.sk-toggleable__label {background-color: #d4ebff;}#sk-container-id-1 div.sk-serial::before {content: \"\";position: absolute;border-left: 1px solid gray;box-sizing: border-box;top: 0;bottom: 0;left: 50%;z-index: 0;}#sk-container-id-1 div.sk-serial {display: flex;flex-direction: column;align-items: center;background-color: white;padding-right: 0.2em;padding-left: 0.2em;position: relative;}#sk-container-id-1 div.sk-item {position: relative;z-index: 1;}#sk-container-id-1 div.sk-parallel {display: flex;align-items: stretch;justify-content: center;background-color: white;position: relative;}#sk-container-id-1 div.sk-item::before, #sk-container-id-1 div.sk-parallel-item::before {content: \"\";position: absolute;border-left: 1px solid gray;box-sizing: border-box;top: 0;bottom: 0;left: 50%;z-index: -1;}#sk-container-id-1 div.sk-parallel-item {display: flex;flex-direction: column;z-index: 1;position: relative;background-color: white;}#sk-container-id-1 div.sk-parallel-item:first-child::after {align-self: flex-end;width: 50%;}#sk-container-id-1 div.sk-parallel-item:last-child::after {align-self: flex-start;width: 50%;}#sk-container-id-1 div.sk-parallel-item:only-child::after {width: 0;}#sk-container-id-1 div.sk-dashed-wrapped {border: 1px dashed gray;margin: 0 0.4em 0.5em 0.4em;box-sizing: border-box;padding-bottom: 0.4em;background-color: white;}#sk-container-id-1 div.sk-label label {font-family: monospace;font-weight: bold;display: inline-block;line-height: 1.2em;}#sk-container-id-1 div.sk-label-container {text-align: center;}#sk-container-id-1 div.sk-container {/* jupyter's `normalize.less` sets `[hidden] { display: none; }` but bootstrap.min.css set `[hidden] { display: none !important; }` so we also need the `!important` here to be able to override the default hidden behavior on the sphinx rendered scikit-learn.org. See: https://github.com/scikit-learn/scikit-learn/issues/21755 */display: inline-block !important;position: relative;}#sk-container-id-1 div.sk-text-repr-fallback {display: none;}</style><div id=\"sk-container-id-1\" class=\"sk-top-container\"><div class=\"sk-text-repr-fallback\"><pre>XGBRegressor(base_score=None, booster=&#x27;gbtree&#x27;, callbacks=None,\n",
              "             colsample_bylevel=None, colsample_bynode=None,\n",
              "             colsample_bytree=None, early_stopping_rounds=None,\n",
              "             enable_categorical=False, eval_metric=None, feature_types=None,\n",
              "             gamma=None, gpu_id=None, grow_policy=None, importance_type=None,\n",
              "             interaction_constraints=None, learning_rate=None, max_bin=None,\n",
              "             max_cat_threshold=None, max_cat_to_onehot=None,\n",
              "             max_delta_step=None, max_depth=None, max_leaves=None,\n",
              "             min_child_weight=None, missing=nan, monotone_constraints=None,\n",
              "             n_estimators=100, n_jobs=-1, num_parallel_tree=None,\n",
              "             predictor=None, random_state=123, ...)</pre><b>In a Jupyter environment, please rerun this cell to show the HTML representation or trust the notebook. <br />On GitHub, the HTML representation is unable to render, please try loading this page with nbviewer.org.</b></div><div class=\"sk-container\" hidden><div class=\"sk-item\"><div class=\"sk-estimator sk-toggleable\"><input class=\"sk-toggleable__control sk-hidden--visually\" id=\"sk-estimator-id-1\" type=\"checkbox\" checked><label for=\"sk-estimator-id-1\" class=\"sk-toggleable__label sk-toggleable__label-arrow\">XGBRegressor</label><div class=\"sk-toggleable__content\"><pre>XGBRegressor(base_score=None, booster=&#x27;gbtree&#x27;, callbacks=None,\n",
              "             colsample_bylevel=None, colsample_bynode=None,\n",
              "             colsample_bytree=None, early_stopping_rounds=None,\n",
              "             enable_categorical=False, eval_metric=None, feature_types=None,\n",
              "             gamma=None, gpu_id=None, grow_policy=None, importance_type=None,\n",
              "             interaction_constraints=None, learning_rate=None, max_bin=None,\n",
              "             max_cat_threshold=None, max_cat_to_onehot=None,\n",
              "             max_delta_step=None, max_depth=None, max_leaves=None,\n",
              "             min_child_weight=None, missing=nan, monotone_constraints=None,\n",
              "             n_estimators=100, n_jobs=-1, num_parallel_tree=None,\n",
              "             predictor=None, random_state=123, ...)</pre></div></div></div></div></div>"
            ]
          },
          "metadata": {},
          "execution_count": 8
        }
      ]
    },
    {
      "cell_type": "markdown",
      "source": [
        " ## **<font color=\"RoyalBlue\">Analizar modelo</font>**\n"
      ],
      "metadata": {
        "id": "1qAW7XSkrOoR"
      },
      "id": "1qAW7XSkrOoR"
    },
    {
      "cell_type": "markdown",
      "source": [
        " ### **<font color=\"RoyalBlue\">Valores residuales</font>**\n"
      ],
      "metadata": {
        "id": "YAGlRXVs0AO9"
      },
      "id": "YAGlRXVs0AO9"
    },
    {
      "cell_type": "code",
      "source": [
        "plot_model(best, plot = 'residuals')"
      ],
      "metadata": {
        "colab": {
          "base_uri": "https://localhost:8080/",
          "height": 524
        },
        "id": "cWivLKHLz6Mh",
        "outputId": "617db00b-7ff5-40d4-87e6-7a06f98d3469"
      },
      "id": "cWivLKHLz6Mh",
      "execution_count": 9,
      "outputs": [
        {
          "output_type": "display_data",
          "data": {
            "text/plain": [
              "<IPython.core.display.HTML object>"
            ],
            "text/html": []
          },
          "metadata": {}
        },
        {
          "output_type": "display_data",
          "data": {
            "text/plain": [
              "<Figure size 800x550 with 2 Axes>"
            ],
            "image/png": "[encoded data removed]"
          },
          "metadata": {}
        }
      ]
    },
    {
      "cell_type": "markdown",
      "source": [
        " ### **<font color=\"RoyalBlue\">Error</font>**\n"
      ],
      "metadata": {
        "id": "IR9mLxjvr2FB"
      },
      "id": "IR9mLxjvr2FB"
    },
    {
      "cell_type": "code",
      "source": [
        "plot_model(best, plot = 'error')"
      ],
      "metadata": {
        "colab": {
          "base_uri": "https://localhost:8080/",
          "height": 526
        },
        "id": "KjQqyAU_rWfM",
        "outputId": "96ab2eb4-6b8b-40d8-e2b7-88588bd234e7"
      },
      "id": "KjQqyAU_rWfM",
      "execution_count": 10,
      "outputs": [
        {
          "output_type": "display_data",
          "data": {
            "text/plain": [
              "<IPython.core.display.HTML object>"
            ],
            "text/html": []
          },
          "metadata": {}
        },
        {
          "output_type": "display_data",
          "data": {
            "text/plain": [
              "<Figure size 800x550 with 1 Axes>"
            ],
            "image/png": "[encoded data removed]"
          },
          "metadata": {}
        }
      ]
    },
    {
      "cell_type": "markdown",
      "source": [
        " ### **<font color=\"RoyalBlue\">Características más importantes</font>**\n"
      ],
      "metadata": {
        "id": "agOpoBlfr9cS"
      },
      "id": "agOpoBlfr9cS"
    },
    {
      "cell_type": "code",
      "source": [
        "plot_model(best, plot = 'feature')"
      ],
      "metadata": {
        "colab": {
          "base_uri": "https://localhost:8080/",
          "height": 485
        },
        "id": "SLbUwk1Prro3",
        "outputId": "e07948d2-dafc-499f-aa80-f6ec05e07277"
      },
      "id": "SLbUwk1Prro3",
      "execution_count": 11,
      "outputs": [
        {
          "output_type": "display_data",
          "data": {
            "text/plain": [
              "<IPython.core.display.HTML object>"
            ],
            "text/html": []
          },
          "metadata": {}
        },
        {
          "output_type": "display_data",
          "data": {
            "text/plain": [
              "<Figure size 800x500 with 1 Axes>"
            ],
            "image/png": "[encoded data removed]"
          },
          "metadata": {}
        }
      ]
    }
  ],
  "metadata": {
    "kernelspec": {
      "display_name": "Python 3 (ipykernel)",
      "language": "python",
      "name": "python3"
    },
    "language_info": {
      "codemirror_mode": {
        "name": "ipython",
        "version": 3
      },
      "file_extension": ".py",
      "mimetype": "text/x-python",
      "name": "python",
      "nbconvert_exporter": "python",
      "pygments_lexer": "ipython3",
      "version": "3.10.2"
    },
    "colab": {
      "provenance": [],
      "collapsed_sections": [
        "mgg53IRMD0nI"
      ],
      "toc_visible": true,
      "include_colab_link": true
    },
    "widgets": {
      "application/vnd.jupyter.widget-state+json": {
        "28cbeade76d84f7caf5b625b1318598e": {
          "model_module": "@jupyter-widgets/controls",
          "model_name": "HBoxModel",
          "model_module_version": "1.5.0",
          "state": {
            "_dom_classes": [],
            "_model_module": "@jupyter-widgets/controls",
            "_model_module_version": "1.5.0",
            "_model_name": "HBoxModel",
            "_view_count": null,
            "_view_module": "@jupyter-widgets/controls",
            "_view_module_version": "1.5.0",
            "_view_name": "HBoxView",
            "box_style": "",
            "children": [
              "IPY_MODEL_d71e390a7be745f3bccadc7427d3175e",
              "IPY_MODEL_fc163d94b24042a2863dd025655e8fa4",
              "IPY_MODEL_9a0730846de348518062d12c760a1076"
            ],
            "layout": "IPY_MODEL_5c1c6834d9fa493ba06cfd4ec6fe7c22"
          }
        },
        "d71e390a7be745f3bccadc7427d3175e": {
          "model_module": "@jupyter-widgets/controls",
          "model_name": "HTMLModel",
          "model_module_version": "1.5.0",
          "state": {
            "_dom_classes": [],
            "_model_module": "@jupyter-widgets/controls",
            "_model_module_version": "1.5.0",
            "_model_name": "HTMLModel",
            "_view_count": null,
            "_view_module": "@jupyter-widgets/controls",
            "_view_module_version": "1.5.0",
            "_view_name": "HTMLView",
            "description": "",
            "description_tooltip": null,
            "layout": "IPY_MODEL_886594d531ad4bd49007c1f6df88b6cb",
            "placeholder": "​",
            "style": "IPY_MODEL_a592483c2e5b4446bce3bdef2350f019",
            "value": "Processing: 100%"
          }
        },
        "fc163d94b24042a2863dd025655e8fa4": {
          "model_module": "@jupyter-widgets/controls",
          "model_name": "FloatProgressModel",
          "model_module_version": "1.5.0",
          "state": {
            "_dom_classes": [],
            "_model_module": "@jupyter-widgets/controls",
            "_model_module_version": "1.5.0",
            "_model_name": "FloatProgressModel",
            "_view_count": null,
            "_view_module": "@jupyter-widgets/controls",
            "_view_module_version": "1.5.0",
            "_view_name": "ProgressView",
            "bar_style": "",
            "description": "",
            "description_tooltip": null,
            "layout": "IPY_MODEL_5a0224df5e3246bba6c3130453ce6b72",
            "max": 81,
            "min": 0,
            "orientation": "horizontal",
            "style": "IPY_MODEL_ad420c3633214b199f0e4440e6102308",
            "value": 81
          }
        },
        "9a0730846de348518062d12c760a1076": {
          "model_module": "@jupyter-widgets/controls",
          "model_name": "HTMLModel",
          "model_module_version": "1.5.0",
          "state": {
            "_dom_classes": [],
            "_model_module": "@jupyter-widgets/controls",
            "_model_module_version": "1.5.0",
            "_model_name": "HTMLModel",
            "_view_count": null,
            "_view_module": "@jupyter-widgets/controls",
            "_view_module_version": "1.5.0",
            "_view_name": "HTMLView",
            "description": "",
            "description_tooltip": null,
            "layout": "IPY_MODEL_fe49d5a46e62459d895d8a5ff530b13b",
            "placeholder": "​",
            "style": "IPY_MODEL_a85653b4c84f41bc9686387b337a04bb",
            "value": " 81/81 [01:07&lt;00:00,  1.97it/s]"
          }
        },
        "5c1c6834d9fa493ba06cfd4ec6fe7c22": {
          "model_module": "@jupyter-widgets/base",
          "model_name": "LayoutModel",
          "model_module_version": "1.2.0",
          "state": {
            "_model_module": "@jupyter-widgets/base",
            "_model_module_version": "1.2.0",
            "_model_name": "LayoutModel",
            "_view_count": null,
            "_view_module": "@jupyter-widgets/base",
            "_view_module_version": "1.2.0",
            "_view_name": "LayoutView",
            "align_content": null,
            "align_items": null,
            "align_self": null,
            "border": null,
            "bottom": null,
            "display": null,
            "flex": null,
            "flex_flow": null,
            "grid_area": null,
            "grid_auto_columns": null,
            "grid_auto_flow": null,
            "grid_auto_rows": null,
            "grid_column": null,
            "grid_gap": null,
            "grid_row": null,
            "grid_template_areas": null,
            "grid_template_columns": null,
            "grid_template_rows": null,
            "height": null,
            "justify_content": null,
            "justify_items": null,
            "left": null,
            "margin": null,
            "max_height": null,
            "max_width": null,
            "min_height": null,
            "min_width": null,
            "object_fit": null,
            "object_position": null,
            "order": null,
            "overflow": null,
            "overflow_x": null,
            "overflow_y": null,
            "padding": null,
            "right": null,
            "top": null,
            "visibility": "hidden",
            "width": null
          }
        },
        "886594d531ad4bd49007c1f6df88b6cb": {
          "model_module": "@jupyter-widgets/base",
          "model_name": "LayoutModel",
          "model_module_version": "1.2.0",
          "state": {
            "_model_module": "@jupyter-widgets/base",
            "_model_module_version": "1.2.0",
            "_model_name": "LayoutModel",
            "_view_count": null,
            "_view_module": "@jupyter-widgets/base",
            "_view_module_version": "1.2.0",
            "_view_name": "LayoutView",
            "align_content": null,
            "align_items": null,
            "align_self": null,
            "border": null,
            "bottom": null,
            "display": null,
            "flex": null,
            "flex_flow": null,
            "grid_area": null,
            "grid_auto_columns": null,
            "grid_auto_flow": null,
            "grid_auto_rows": null,
            "grid_column": null,
            "grid_gap": null,
            "grid_row": null,
            "grid_template_areas": null,
            "grid_template_columns": null,
            "grid_template_rows": null,
            "height": null,
            "justify_content": null,
            "justify_items": null,
            "left": null,
            "margin": null,
            "max_height": null,
            "max_width": null,
            "min_height": null,
            "min_width": null,
            "object_fit": null,
            "object_position": null,
            "order": null,
            "overflow": null,
            "overflow_x": null,
            "overflow_y": null,
            "padding": null,
            "right": null,
            "top": null,
            "visibility": null,
            "width": null
          }
        },
        "a592483c2e5b4446bce3bdef2350f019": {
          "model_module": "@jupyter-widgets/controls",
          "model_name": "DescriptionStyleModel",
          "model_module_version": "1.5.0",
          "state": {
            "_model_module": "@jupyter-widgets/controls",
            "_model_module_version": "1.5.0",
            "_model_name": "DescriptionStyleModel",
            "_view_count": null,
            "_view_module": "@jupyter-widgets/base",
            "_view_module_version": "1.2.0",
            "_view_name": "StyleView",
            "description_width": ""
          }
        },
        "5a0224df5e3246bba6c3130453ce6b72": {
          "model_module": "@jupyter-widgets/base",
          "model_name": "LayoutModel",
          "model_module_version": "1.2.0",
          "state": {
            "_model_module": "@jupyter-widgets/base",
            "_model_module_version": "1.2.0",
            "_model_name": "LayoutModel",
            "_view_count": null,
            "_view_module": "@jupyter-widgets/base",
            "_view_module_version": "1.2.0",
            "_view_name": "LayoutView",
            "align_content": null,
            "align_items": null,
            "align_self": null,
            "border": null,
            "bottom": null,
            "display": null,
            "flex": null,
            "flex_flow": null,
            "grid_area": null,
            "grid_auto_columns": null,
            "grid_auto_flow": null,
            "grid_auto_rows": null,
            "grid_column": null,
            "grid_gap": null,
            "grid_row": null,
            "grid_template_areas": null,
            "grid_template_columns": null,
            "grid_template_rows": null,
            "height": null,
            "justify_content": null,
            "justify_items": null,
            "left": null,
            "margin": null,
            "max_height": null,
            "max_width": null,
            "min_height": null,
            "min_width": null,
            "object_fit": null,
            "object_position": null,
            "order": null,
            "overflow": null,
            "overflow_x": null,
            "overflow_y": null,
            "padding": null,
            "right": null,
            "top": null,
            "visibility": null,
            "width": null
          }
        },
        "ad420c3633214b199f0e4440e6102308": {
          "model_module": "@jupyter-widgets/controls",
          "model_name": "ProgressStyleModel",
          "model_module_version": "1.5.0",
          "state": {
            "_model_module": "@jupyter-widgets/controls",
            "_model_module_version": "1.5.0",
            "_model_name": "ProgressStyleModel",
            "_view_count": null,
            "_view_module": "@jupyter-widgets/base",
            "_view_module_version": "1.2.0",
            "_view_name": "StyleView",
            "bar_color": null,
            "description_width": ""
          }
        },
        "fe49d5a46e62459d895d8a5ff530b13b": {
          "model_module": "@jupyter-widgets/base",
          "model_name": "LayoutModel",
          "model_module_version": "1.2.0",
          "state": {
            "_model_module": "@jupyter-widgets/base",
            "_model_module_version": "1.2.0",
            "_model_name": "LayoutModel",
            "_view_count": null,
            "_view_module": "@jupyter-widgets/base",
            "_view_module_version": "1.2.0",
            "_view_name": "LayoutView",
            "align_content": null,
            "align_items": null,
            "align_self": null,
            "border": null,
            "bottom": null,
            "display": null,
            "flex": null,
            "flex_flow": null,
            "grid_area": null,
            "grid_auto_columns": null,
            "grid_auto_flow": null,
            "grid_auto_rows": null,
            "grid_column": null,
            "grid_gap": null,
            "grid_row": null,
            "grid_template_areas": null,
            "grid_template_columns": null,
            "grid_template_rows": null,
            "height": null,
            "justify_content": null,
            "justify_items": null,
            "left": null,
            "margin": null,
            "max_height": null,
            "max_width": null,
            "min_height": null,
            "min_width": null,
            "object_fit": null,
            "object_position": null,
            "order": null,
            "overflow": null,
            "overflow_x": null,
            "overflow_y": null,
            "padding": null,
            "right": null,
            "top": null,
            "visibility": null,
            "width": null
          }
        },
        "a85653b4c84f41bc9686387b337a04bb": {
          "model_module": "@jupyter-widgets/controls",
          "model_name": "DescriptionStyleModel",
          "model_module_version": "1.5.0",
          "state": {
            "_model_module": "@jupyter-widgets/controls",
            "_model_module_version": "1.5.0",
            "_model_name": "DescriptionStyleModel",
            "_view_count": null,
            "_view_module": "@jupyter-widgets/base",
            "_view_module_version": "1.2.0",
            "_view_name": "StyleView",
            "description_width": ""
          }
        }
      }
    }
  },
  "nbformat": 4,
  "nbformat_minor": 5
}