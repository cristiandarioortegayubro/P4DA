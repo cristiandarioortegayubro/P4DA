{
  "nbformat": 4,
  "nbformat_minor": 0,
  "metadata": {
    "colab": {
      "provenance": [],
      "include_colab_link": true
    },
    "kernelspec": {
      "name": "python3",
      "display_name": "Python 3"
    },
    "language_info": {
      "name": "python"
    }
  },
  "cells": [
    {
      "cell_type": "markdown",
      "metadata": {
        "id": "view-in-github",
        "colab_type": "text"
      },
      "source": [
        "<a href=\"https://colab.research.google.com/github/cristiandarioortegayubro/P4DA/blob/main/Actividad_Final_01.ipynb\" target=\"_parent\"><img src=\"https://colab.research.google.com/assets/colab-badge.svg\" alt=\"Open In Colab\"/></a>"
      ]
    },
    {
      "cell_type": "markdown",
      "source": [
        "<p align=\"center\">\n",
        "<img src=\"https://github.com/cristiandarioortegayubro/P4DA/blob/main/Logo.png?raw=true\">\n",
        "</p>\n"
      ],
      "metadata": {
        "id": "iheuwam9e4CH"
      }
    },
    {
      "cell_type": "markdown",
      "source": [
        "<p align=\"center\">\n",
        "<img src=\"https://github.com/cristiandarioortegayubro/BDS/blob/main/images/Logo%20Pandas.png?raw=true\">\n",
        "</p>\n"
      ],
      "metadata": {
        "id": "XM-hn7ZLmgQc"
      }
    },
    {
      "cell_type": "markdown",
      "source": [
        " # **<font color=\"RoyalBlue\">Web Scraping en Administración Tributaria Mendoza</font>**"
      ],
      "metadata": {
        "id": "_o8tuKydjnRZ"
      }
    },
    {
      "cell_type": "markdown",
      "source": [
        "<p align=\"center\">\n",
        "<img src=\"https://atm.mendoza.gov.ar/wp-content/uploads/2023/01/Frente-Atm.png\">\n",
        "</p>\n",
        "\n"
      ],
      "metadata": {
        "id": "NoUQK_JWXFJS"
      }
    },
    {
      "cell_type": "markdown",
      "source": [
        "https://atm.mendoza.gov.ar/portalatm/zoneBottom/datosInteres/recaudacion/recaudacion_impuesto_ingresos.jsp\n"
      ],
      "metadata": {
        "id": "B8gzMopmXYz0"
      }
    },
    {
      "cell_type": "markdown",
      "source": [
        "<p align=\"justify\">\n",
        "En la página web de la Administración Tributaria Mendoza, podemos ver la recaudación por ejercicios fiscales del Impuesto sobre los Ingresos Brutos. Lo que vamos a hacer, es tomar esos datos y generar nuestro <code>DataFrame</code>. Una vez generado, vamos a graficar los distintos ejercicios y ver las diferencias entre ellos, y tambien hacemos algunos análisis estadísticos.</p>"
      ],
      "metadata": {
        "id": "jhI41-bg5fR3"
      }
    },
    {
      "cell_type": "markdown",
      "source": [
        "Entonces ¿que tenemos que hacer?\n",
        "\n",
        "- Generar nuestro DataFrame, tiene desde el año $2000$ hasta el año $2022$.\n",
        "  - Sería conveniente que los meses estén expresados en números.\n",
        "  - Los meses deben ser el indice del DataFrame.\n",
        "  - La dimensión final del objeto es $(12, 23)$\n",
        "- Graficar los primeros tres o cinco ejercicios.\n",
        "- Graficar los últimos tres o cinco ejercicios.\n",
        "- Hacer un breve análisis estadísticos de algún ejercicio, por ejemplo:\n",
        "  - Ver máxima recaudación\n",
        "  - Ver mínima recaudación\n",
        "  - Ver algúna recaudación \"atípica\"\n",
        "- Graficos recomendados (libertad de elección)\n",
        "  - Lineal\n",
        "  - Dispersión\n",
        "  - Histograma\n",
        "  - Boxplot"
      ],
      "metadata": {
        "id": "CVarMBVwGsje"
      }
    },
    {
      "cell_type": "markdown",
      "source": [
        " # **<font color=\"RoyalBlue\">Habilitando bibliotecas requeridas</font>**"
      ],
      "metadata": {
        "id": "8kA2de5eXpZ2"
      }
    },
    {
      "cell_type": "markdown",
      "source": [
        " ## **<font color=\"RoyalBlue\">Para análisis de datos</font>**"
      ],
      "metadata": {
        "id": "riE9ZSRbOdsF"
      }
    },
    {
      "cell_type": "markdown",
      "source": [
        "<p align=\"justify\"> 👀 Ejecutar esta celda.\n",
        "</p>"
      ],
      "metadata": {
        "id": "-R2OHTYHLDX4"
      }
    },
    {
      "cell_type": "code",
      "source": [
        "import numpy as np\n",
        "import pandas as pd"
      ],
      "metadata": {
        "id": "dQtWrchXqRb3"
      },
      "execution_count": 1,
      "outputs": []
    },
    {
      "cell_type": "markdown",
      "source": [
        " ## **<font color=\"RoyalBlue\">Para web scraping</font>**"
      ],
      "metadata": {
        "id": "Id0dcqVMX9o7"
      }
    },
    {
      "cell_type": "markdown",
      "source": [
        "<p align=\"justify\"> 👀 Ejecutar esta celda.\n",
        "</p>"
      ],
      "metadata": {
        "id": "VCx3Fom3LJCA"
      }
    },
    {
      "cell_type": "code",
      "source": [
        "import lxml\n",
        "import bs4\n",
        "import html5lib"
      ],
      "metadata": {
        "id": "0f7qDtvqYByE"
      },
      "execution_count": 2,
      "outputs": []
    },
    {
      "cell_type": "markdown",
      "source": [
        " ## **<font color=\"RoyalBlue\">Configuraciones del DataFrame</font>**"
      ],
      "metadata": {
        "id": "85T0X5IIYlsr"
      }
    },
    {
      "cell_type": "markdown",
      "source": [
        "<p align=\"justify\"> 👀 Ejecutar esta celda.\n",
        "</p>"
      ],
      "metadata": {
        "id": "NWNi88U9LK5s"
      }
    },
    {
      "cell_type": "code",
      "source": [
        "pd.options.display.precision = 2\n",
        "pd.options.display.float_format = \"{:.2f}\".format"
      ],
      "metadata": {
        "id": "vn5fLW5NY0UP"
      },
      "execution_count": 3,
      "outputs": []
    },
    {
      "cell_type": "markdown",
      "source": [
        " ## **<font color=\"RoyalBlue\">Para graficos</font>**"
      ],
      "metadata": {
        "id": "LB77esomjWEy"
      }
    },
    {
      "cell_type": "markdown",
      "source": [
        "<p align=\"justify\"> 👀 Ejecutar esta celda.\n",
        "</p>"
      ],
      "metadata": {
        "id": "wWeWx98gLMmV"
      }
    },
    {
      "cell_type": "code",
      "source": [
        "import plotly.express as px"
      ],
      "metadata": {
        "id": "IXOgawSXjYwp"
      },
      "execution_count": 4,
      "outputs": []
    },
    {
      "cell_type": "markdown",
      "source": [
        "# **<font color=\"RoyalBlue\">Creando un DataFrame</font>**\n"
      ],
      "metadata": {
        "id": "z5wI0VEpZbnT"
      }
    },
    {
      "cell_type": "markdown",
      "source": [
        "<p align=\"justify\"> 👀 Ejecutar esta celda.\n",
        "</p>"
      ],
      "metadata": {
        "id": "Ix0USY3iLYwm"
      }
    },
    {
      "cell_type": "code",
      "source": [
        "data = \"https://atm.mendoza.gov.ar/portalatm/zoneBottom/datosInteres/recaudacion/recaudacion_impuesto_ingresos.jsp\"\n",
        "lista = pd.read_html(data)\n",
        "df = lista[0]\n",
        "df"
      ],
      "metadata": {
        "id": "CPOEPRbOZfWu",
        "colab": {
          "base_uri": "https://localhost:8080/",
          "height": 599
        },
        "outputId": "b0ccf4c4-8ba2-44ae-ee41-d4edd16b57aa"
      },
      "execution_count": 6,
      "outputs": [
        {
          "output_type": "execute_result",
          "data": {
            "text/plain": [
              "                0                1                2                3    \\\n",
              "0   Ingresos Brutos  Ingresos Brutos  Ingresos Brutos  Ingresos Brutos   \n",
              "1             Meses             2000             2001             2002   \n",
              "2             Enero         18843926         18114420         12722708   \n",
              "3           Febrero         16258743         32180909         11237981   \n",
              "4             Marzo         17468327         14453688         11460186   \n",
              "5             Abril         17463084         15809614         12300935   \n",
              "6              Mayo         15978692         14610889         14265621   \n",
              "7             Junio         14676011         14328045         16351168   \n",
              "8             Julio         15299790         14675150         17106546   \n",
              "9            Agosto         15802483         14475158         18373950   \n",
              "10       Septiembre         15756538         16781292         18684199   \n",
              "11          Octubre         15731005         13506128         18518490   \n",
              "12        Noviembre         15660556         13446877         21317298   \n",
              "13        Diciembre         16032799         11570299         19508401   \n",
              "\n",
              "                4                5                6                7    \\\n",
              "0   Ingresos Brutos  Ingresos Brutos  Ingresos Brutos  Ingresos Brutos   \n",
              "1              2003             2004             2005             2006   \n",
              "2          20192886         28492948         37455922         48307581   \n",
              "3          20257924         26276427         35131740         45290618   \n",
              "4          19766456         27124258         33982257         45654235   \n",
              "5          20503786         32466739         39149216         47268950   \n",
              "6          20988947         30252979         39887132         60082271   \n",
              "7          21041197         30687746         39160678         56268381   \n",
              "8          21763328         30962034         39205417         59484119   \n",
              "9          23185411         31937418         40688413         58732118   \n",
              "10         25513569         31578993         43003892         63159166   \n",
              "11         25042384         33774686         41477902         63007199   \n",
              "12         25520492         33742035         42190330         61376701   \n",
              "13         25122948         34519525         45989899         55169335   \n",
              "\n",
              "                8                9    ...              231              232  \\\n",
              "0   Ingresos Brutos  Ingresos Brutos  ...  Ingresos Brutos  Ingresos Brutos   \n",
              "1              2007             2008  ...              NaN              NaN   \n",
              "2          61131913         88818881  ...              NaN              NaN   \n",
              "3          58230197         76675888  ...              NaN              NaN   \n",
              "4          58267059         74072263  ...              NaN              NaN   \n",
              "5          61113108         88241185  ...              NaN              NaN   \n",
              "6          65113469         90479860  ...              NaN              NaN   \n",
              "7          65906755         83292810  ...              NaN              NaN   \n",
              "8          66270873         88028892  ...              NaN              NaN   \n",
              "9          67496826         94763397  ...              NaN              NaN   \n",
              "10         70058014         91342609  ...              NaN              NaN   \n",
              "11         72036143         90090534  ...              NaN              NaN   \n",
              "12         75454989         85291059  ...              NaN              NaN   \n",
              "13         66286135         88008564  ...              NaN              NaN   \n",
              "\n",
              "                233              234              235              236  \\\n",
              "0   Ingresos Brutos  Ingresos Brutos  Ingresos Brutos  Ingresos Brutos   \n",
              "1               NaN              NaN              NaN              NaN   \n",
              "2               NaN              NaN              NaN              NaN   \n",
              "3               NaN              NaN              NaN              NaN   \n",
              "4               NaN              NaN              NaN              NaN   \n",
              "5               NaN              NaN              NaN              NaN   \n",
              "6               NaN              NaN              NaN              NaN   \n",
              "7               NaN              NaN              NaN              NaN   \n",
              "8               NaN              NaN              NaN              NaN   \n",
              "9               NaN              NaN              NaN              NaN   \n",
              "10              NaN              NaN              NaN              NaN   \n",
              "11              NaN              NaN              NaN              NaN   \n",
              "12              NaN              NaN              NaN              NaN   \n",
              "13              NaN              NaN              NaN              NaN   \n",
              "\n",
              "                237              238              239              240  \n",
              "0   Ingresos Brutos  Ingresos Brutos  Ingresos Brutos  Ingresos Brutos  \n",
              "1               NaN              NaN              NaN              NaN  \n",
              "2               NaN              NaN              NaN              NaN  \n",
              "3               NaN              NaN              NaN              NaN  \n",
              "4               NaN              NaN              NaN              NaN  \n",
              "5               NaN              NaN              NaN              NaN  \n",
              "6               NaN              NaN              NaN              NaN  \n",
              "7               NaN              NaN              NaN              NaN  \n",
              "8               NaN              NaN              NaN              NaN  \n",
              "9               NaN              NaN              NaN              NaN  \n",
              "10              NaN              NaN              NaN              NaN  \n",
              "11              NaN              NaN              NaN              NaN  \n",
              "12              NaN              NaN              NaN              NaN  \n",
              "13              NaN              NaN              NaN              NaN  \n",
              "\n",
              "[14 rows x 241 columns]"
            ],
            "text/html": [
              "\n",
              "  <div id=\"df-b6478756-eaa6-4ae7-8592-b9b797cac20a\">\n",
              "    <div class=\"colab-df-container\">\n",
              "      <div>\n",
              "<style scoped>\n",
              "    .dataframe tbody tr th:only-of-type {\n",
              "        vertical-align: middle;\n",
              "    }\n",
              "\n",
              "    .dataframe tbody tr th {\n",
              "        vertical-align: top;\n",
              "    }\n",
              "\n",
              "    .dataframe thead th {\n",
              "        text-align: right;\n",
              "    }\n",
              "</style>\n",
              "<table border=\"1\" class=\"dataframe\">\n",
              "  <thead>\n",
              "    <tr style=\"text-align: right;\">\n",
              "      <th></th>\n",
              "      <th>0</th>\n",
              "      <th>1</th>\n",
              "      <th>2</th>\n",
              "      <th>3</th>\n",
              "      <th>4</th>\n",
              "      <th>5</th>\n",
              "      <th>6</th>\n",
              "      <th>7</th>\n",
              "      <th>8</th>\n",
              "      <th>9</th>\n",
              "      <th>...</th>\n",
              "      <th>231</th>\n",
              "      <th>232</th>\n",
              "      <th>233</th>\n",
              "      <th>234</th>\n",
              "      <th>235</th>\n",
              "      <th>236</th>\n",
              "      <th>237</th>\n",
              "      <th>238</th>\n",
              "      <th>239</th>\n",
              "      <th>240</th>\n",
              "    </tr>\n",
              "  </thead>\n",
              "  <tbody>\n",
              "    <tr>\n",
              "      <th>0</th>\n",
              "      <td>Ingresos Brutos</td>\n",
              "      <td>Ingresos Brutos</td>\n",
              "      <td>Ingresos Brutos</td>\n",
              "      <td>Ingresos Brutos</td>\n",
              "      <td>Ingresos Brutos</td>\n",
              "      <td>Ingresos Brutos</td>\n",
              "      <td>Ingresos Brutos</td>\n",
              "      <td>Ingresos Brutos</td>\n",
              "      <td>Ingresos Brutos</td>\n",
              "      <td>Ingresos Brutos</td>\n",
              "      <td>...</td>\n",
              "      <td>Ingresos Brutos</td>\n",
              "      <td>Ingresos Brutos</td>\n",
              "      <td>Ingresos Brutos</td>\n",
              "      <td>Ingresos Brutos</td>\n",
              "      <td>Ingresos Brutos</td>\n",
              "      <td>Ingresos Brutos</td>\n",
              "      <td>Ingresos Brutos</td>\n",
              "      <td>Ingresos Brutos</td>\n",
              "      <td>Ingresos Brutos</td>\n",
              "      <td>Ingresos Brutos</td>\n",
              "    </tr>\n",
              "    <tr>\n",
              "      <th>1</th>\n",
              "      <td>Meses</td>\n",
              "      <td>2000</td>\n",
              "      <td>2001</td>\n",
              "      <td>2002</td>\n",
              "      <td>2003</td>\n",
              "      <td>2004</td>\n",
              "      <td>2005</td>\n",
              "      <td>2006</td>\n",
              "      <td>2007</td>\n",
              "      <td>2008</td>\n",
              "      <td>...</td>\n",
              "      <td>NaN</td>\n",
              "      <td>NaN</td>\n",
              "      <td>NaN</td>\n",
              "      <td>NaN</td>\n",
              "      <td>NaN</td>\n",
              "      <td>NaN</td>\n",
              "      <td>NaN</td>\n",
              "      <td>NaN</td>\n",
              "      <td>NaN</td>\n",
              "      <td>NaN</td>\n",
              "    </tr>\n",
              "    <tr>\n",
              "      <th>2</th>\n",
              "      <td>Enero</td>\n",
              "      <td>18843926</td>\n",
              "      <td>18114420</td>\n",
              "      <td>12722708</td>\n",
              "      <td>20192886</td>\n",
              "      <td>28492948</td>\n",
              "      <td>37455922</td>\n",
              "      <td>48307581</td>\n",
              "      <td>61131913</td>\n",
              "      <td>88818881</td>\n",
              "      <td>...</td>\n",
              "      <td>NaN</td>\n",
              "      <td>NaN</td>\n",
              "      <td>NaN</td>\n",
              "      <td>NaN</td>\n",
              "      <td>NaN</td>\n",
              "      <td>NaN</td>\n",
              "      <td>NaN</td>\n",
              "      <td>NaN</td>\n",
              "      <td>NaN</td>\n",
              "      <td>NaN</td>\n",
              "    </tr>\n",
              "    <tr>\n",
              "      <th>3</th>\n",
              "      <td>Febrero</td>\n",
              "      <td>16258743</td>\n",
              "      <td>32180909</td>\n",
              "      <td>11237981</td>\n",
              "      <td>20257924</td>\n",
              "      <td>26276427</td>\n",
              "      <td>35131740</td>\n",
              "      <td>45290618</td>\n",
              "      <td>58230197</td>\n",
              "      <td>76675888</td>\n",
              "      <td>...</td>\n",
              "      <td>NaN</td>\n",
              "      <td>NaN</td>\n",
              "      <td>NaN</td>\n",
              "      <td>NaN</td>\n",
              "      <td>NaN</td>\n",
              "      <td>NaN</td>\n",
              "      <td>NaN</td>\n",
              "      <td>NaN</td>\n",
              "      <td>NaN</td>\n",
              "      <td>NaN</td>\n",
              "    </tr>\n",
              "    <tr>\n",
              "      <th>4</th>\n",
              "      <td>Marzo</td>\n",
              "      <td>17468327</td>\n",
              "      <td>14453688</td>\n",
              "      <td>11460186</td>\n",
              "      <td>19766456</td>\n",
              "      <td>27124258</td>\n",
              "      <td>33982257</td>\n",
              "      <td>45654235</td>\n",
              "      <td>58267059</td>\n",
              "      <td>74072263</td>\n",
              "      <td>...</td>\n",
              "      <td>NaN</td>\n",
              "      <td>NaN</td>\n",
              "      <td>NaN</td>\n",
              "      <td>NaN</td>\n",
              "      <td>NaN</td>\n",
              "      <td>NaN</td>\n",
              "      <td>NaN</td>\n",
              "      <td>NaN</td>\n",
              "      <td>NaN</td>\n",
              "      <td>NaN</td>\n",
              "    </tr>\n",
              "    <tr>\n",
              "      <th>5</th>\n",
              "      <td>Abril</td>\n",
              "      <td>17463084</td>\n",
              "      <td>15809614</td>\n",
              "      <td>12300935</td>\n",
              "      <td>20503786</td>\n",
              "      <td>32466739</td>\n",
              "      <td>39149216</td>\n",
              "      <td>47268950</td>\n",
              "      <td>61113108</td>\n",
              "      <td>88241185</td>\n",
              "      <td>...</td>\n",
              "      <td>NaN</td>\n",
              "      <td>NaN</td>\n",
              "      <td>NaN</td>\n",
              "      <td>NaN</td>\n",
              "      <td>NaN</td>\n",
              "      <td>NaN</td>\n",
              "      <td>NaN</td>\n",
              "      <td>NaN</td>\n",
              "      <td>NaN</td>\n",
              "      <td>NaN</td>\n",
              "    </tr>\n",
              "    <tr>\n",
              "      <th>6</th>\n",
              "      <td>Mayo</td>\n",
              "      <td>15978692</td>\n",
              "      <td>14610889</td>\n",
              "      <td>14265621</td>\n",
              "      <td>20988947</td>\n",
              "      <td>30252979</td>\n",
              "      <td>39887132</td>\n",
              "      <td>60082271</td>\n",
              "      <td>65113469</td>\n",
              "      <td>90479860</td>\n",
              "      <td>...</td>\n",
              "      <td>NaN</td>\n",
              "      <td>NaN</td>\n",
              "      <td>NaN</td>\n",
              "      <td>NaN</td>\n",
              "      <td>NaN</td>\n",
              "      <td>NaN</td>\n",
              "      <td>NaN</td>\n",
              "      <td>NaN</td>\n",
              "      <td>NaN</td>\n",
              "      <td>NaN</td>\n",
              "    </tr>\n",
              "    <tr>\n",
              "      <th>7</th>\n",
              "      <td>Junio</td>\n",
              "      <td>14676011</td>\n",
              "      <td>14328045</td>\n",
              "      <td>16351168</td>\n",
              "      <td>21041197</td>\n",
              "      <td>30687746</td>\n",
              "      <td>39160678</td>\n",
              "      <td>56268381</td>\n",
              "      <td>65906755</td>\n",
              "      <td>83292810</td>\n",
              "      <td>...</td>\n",
              "      <td>NaN</td>\n",
              "      <td>NaN</td>\n",
              "      <td>NaN</td>\n",
              "      <td>NaN</td>\n",
              "      <td>NaN</td>\n",
              "      <td>NaN</td>\n",
              "      <td>NaN</td>\n",
              "      <td>NaN</td>\n",
              "      <td>NaN</td>\n",
              "      <td>NaN</td>\n",
              "    </tr>\n",
              "    <tr>\n",
              "      <th>8</th>\n",
              "      <td>Julio</td>\n",
              "      <td>15299790</td>\n",
              "      <td>14675150</td>\n",
              "      <td>17106546</td>\n",
              "      <td>21763328</td>\n",
              "      <td>30962034</td>\n",
              "      <td>39205417</td>\n",
              "      <td>59484119</td>\n",
              "      <td>66270873</td>\n",
              "      <td>88028892</td>\n",
              "      <td>...</td>\n",
              "      <td>NaN</td>\n",
              "      <td>NaN</td>\n",
              "      <td>NaN</td>\n",
              "      <td>NaN</td>\n",
              "      <td>NaN</td>\n",
              "      <td>NaN</td>\n",
              "      <td>NaN</td>\n",
              "      <td>NaN</td>\n",
              "      <td>NaN</td>\n",
              "      <td>NaN</td>\n",
              "    </tr>\n",
              "    <tr>\n",
              "      <th>9</th>\n",
              "      <td>Agosto</td>\n",
              "      <td>15802483</td>\n",
              "      <td>14475158</td>\n",
              "      <td>18373950</td>\n",
              "      <td>23185411</td>\n",
              "      <td>31937418</td>\n",
              "      <td>40688413</td>\n",
              "      <td>58732118</td>\n",
              "      <td>67496826</td>\n",
              "      <td>94763397</td>\n",
              "      <td>...</td>\n",
              "      <td>NaN</td>\n",
              "      <td>NaN</td>\n",
              "      <td>NaN</td>\n",
              "      <td>NaN</td>\n",
              "      <td>NaN</td>\n",
              "      <td>NaN</td>\n",
              "      <td>NaN</td>\n",
              "      <td>NaN</td>\n",
              "      <td>NaN</td>\n",
              "      <td>NaN</td>\n",
              "    </tr>\n",
              "    <tr>\n",
              "      <th>10</th>\n",
              "      <td>Septiembre</td>\n",
              "      <td>15756538</td>\n",
              "      <td>16781292</td>\n",
              "      <td>18684199</td>\n",
              "      <td>25513569</td>\n",
              "      <td>31578993</td>\n",
              "      <td>43003892</td>\n",
              "      <td>63159166</td>\n",
              "      <td>70058014</td>\n",
              "      <td>91342609</td>\n",
              "      <td>...</td>\n",
              "      <td>NaN</td>\n",
              "      <td>NaN</td>\n",
              "      <td>NaN</td>\n",
              "      <td>NaN</td>\n",
              "      <td>NaN</td>\n",
              "      <td>NaN</td>\n",
              "      <td>NaN</td>\n",
              "      <td>NaN</td>\n",
              "      <td>NaN</td>\n",
              "      <td>NaN</td>\n",
              "    </tr>\n",
              "    <tr>\n",
              "      <th>11</th>\n",
              "      <td>Octubre</td>\n",
              "      <td>15731005</td>\n",
              "      <td>13506128</td>\n",
              "      <td>18518490</td>\n",
              "      <td>25042384</td>\n",
              "      <td>33774686</td>\n",
              "      <td>41477902</td>\n",
              "      <td>63007199</td>\n",
              "      <td>72036143</td>\n",
              "      <td>90090534</td>\n",
              "      <td>...</td>\n",
              "      <td>NaN</td>\n",
              "      <td>NaN</td>\n",
              "      <td>NaN</td>\n",
              "      <td>NaN</td>\n",
              "      <td>NaN</td>\n",
              "      <td>NaN</td>\n",
              "      <td>NaN</td>\n",
              "      <td>NaN</td>\n",
              "      <td>NaN</td>\n",
              "      <td>NaN</td>\n",
              "    </tr>\n",
              "    <tr>\n",
              "      <th>12</th>\n",
              "      <td>Noviembre</td>\n",
              "      <td>15660556</td>\n",
              "      <td>13446877</td>\n",
              "      <td>21317298</td>\n",
              "      <td>25520492</td>\n",
              "      <td>33742035</td>\n",
              "      <td>42190330</td>\n",
              "      <td>61376701</td>\n",
              "      <td>75454989</td>\n",
              "      <td>85291059</td>\n",
              "      <td>...</td>\n",
              "      <td>NaN</td>\n",
              "      <td>NaN</td>\n",
              "      <td>NaN</td>\n",
              "      <td>NaN</td>\n",
              "      <td>NaN</td>\n",
              "      <td>NaN</td>\n",
              "      <td>NaN</td>\n",
              "      <td>NaN</td>\n",
              "      <td>NaN</td>\n",
              "      <td>NaN</td>\n",
              "    </tr>\n",
              "    <tr>\n",
              "      <th>13</th>\n",
              "      <td>Diciembre</td>\n",
              "      <td>16032799</td>\n",
              "      <td>11570299</td>\n",
              "      <td>19508401</td>\n",
              "      <td>25122948</td>\n",
              "      <td>34519525</td>\n",
              "      <td>45989899</td>\n",
              "      <td>55169335</td>\n",
              "      <td>66286135</td>\n",
              "      <td>88008564</td>\n",
              "      <td>...</td>\n",
              "      <td>NaN</td>\n",
              "      <td>NaN</td>\n",
              "      <td>NaN</td>\n",
              "      <td>NaN</td>\n",
              "      <td>NaN</td>\n",
              "      <td>NaN</td>\n",
              "      <td>NaN</td>\n",
              "      <td>NaN</td>\n",
              "      <td>NaN</td>\n",
              "      <td>NaN</td>\n",
              "    </tr>\n",
              "  </tbody>\n",
              "</table>\n",
              "<p>14 rows × 241 columns</p>\n",
              "</div>\n",
              "      <button class=\"colab-df-convert\" onclick=\"convertToInteractive('df-b6478756-eaa6-4ae7-8592-b9b797cac20a')\"\n",
              "              title=\"Convert this dataframe to an interactive table.\"\n",
              "              style=\"display:none;\">\n",
              "        \n",
              "  <svg xmlns=\"http://www.w3.org/2000/svg\" height=\"24px\"viewBox=\"0 0 24 24\"\n",
              "       width=\"24px\">\n",
              "    <path d=\"M0 0h24v24H0V0z\" fill=\"none\"/>\n",
              "    <path d=\"M18.56 5.44l.94 2.06.94-2.06 2.06-.94-2.06-.94-.94-2.06-.94 2.06-2.06.94zm-11 1L8.5 8.5l.94-2.06 2.06-.94-2.06-.94L8.5 2.5l-.94 2.06-2.06.94zm10 10l.94 2.06.94-2.06 2.06-.94-2.06-.94-.94-2.06-.94 2.06-2.06.94z\"/><path d=\"M17.41 7.96l-1.37-1.37c-.4-.4-.92-.59-1.43-.59-.52 0-1.04.2-1.43.59L10.3 9.45l-7.72 7.72c-.78.78-.78 2.05 0 2.83L4 21.41c.39.39.9.59 1.41.59.51 0 1.02-.2 1.41-.59l7.78-7.78 2.81-2.81c.8-.78.8-2.07 0-2.86zM5.41 20L4 18.59l7.72-7.72 1.47 1.35L5.41 20z\"/>\n",
              "  </svg>\n",
              "      </button>\n",
              "      \n",
              "  <style>\n",
              "    .colab-df-container {\n",
              "      display:flex;\n",
              "      flex-wrap:wrap;\n",
              "      gap: 12px;\n",
              "    }\n",
              "\n",
              "    .colab-df-convert {\n",
              "      background-color: #E8F0FE;\n",
              "      border: none;\n",
              "      border-radius: 50%;\n",
              "      cursor: pointer;\n",
              "      display: none;\n",
              "      fill: #1967D2;\n",
              "      height: 32px;\n",
              "      padding: 0 0 0 0;\n",
              "      width: 32px;\n",
              "    }\n",
              "\n",
              "    .colab-df-convert:hover {\n",
              "      background-color: #E2EBFA;\n",
              "      box-shadow: 0px 1px 2px rgba(60, 64, 67, 0.3), 0px 1px 3px 1px rgba(60, 64, 67, 0.15);\n",
              "      fill: #174EA6;\n",
              "    }\n",
              "\n",
              "    [theme=dark] .colab-df-convert {\n",
              "      background-color: #3B4455;\n",
              "      fill: #D2E3FC;\n",
              "    }\n",
              "\n",
              "    [theme=dark] .colab-df-convert:hover {\n",
              "      background-color: #434B5C;\n",
              "      box-shadow: 0px 1px 3px 1px rgba(0, 0, 0, 0.15);\n",
              "      filter: drop-shadow(0px 1px 2px rgba(0, 0, 0, 0.3));\n",
              "      fill: #FFFFFF;\n",
              "    }\n",
              "  </style>\n",
              "\n",
              "      <script>\n",
              "        const buttonEl =\n",
              "          document.querySelector('#df-b6478756-eaa6-4ae7-8592-b9b797cac20a button.colab-df-convert');\n",
              "        buttonEl.style.display =\n",
              "          google.colab.kernel.accessAllowed ? 'block' : 'none';\n",
              "\n",
              "        async function convertToInteractive(key) {\n",
              "          const element = document.querySelector('#df-b6478756-eaa6-4ae7-8592-b9b797cac20a');\n",
              "          const dataTable =\n",
              "            await google.colab.kernel.invokeFunction('convertToInteractive',\n",
              "                                                     [key], {});\n",
              "          if (!dataTable) return;\n",
              "\n",
              "          const docLinkHtml = 'Like what you see? Visit the ' +\n",
              "            '<a target=\"_blank\" href=https://colab.research.google.com/notebooks/data_table.ipynb>data table notebook</a>'\n",
              "            + ' to learn more about interactive tables.';\n",
              "          element.innerHTML = '';\n",
              "          dataTable['output_type'] = 'display_data';\n",
              "          await google.colab.output.renderOutput(dataTable, element);\n",
              "          const docLink = document.createElement('div');\n",
              "          docLink.innerHTML = docLinkHtml;\n",
              "          element.appendChild(docLink);\n",
              "        }\n",
              "      </script>\n",
              "    </div>\n",
              "  </div>\n",
              "  "
            ]
          },
          "metadata": {},
          "execution_count": 6
        }
      ]
    },
    {
      "cell_type": "markdown",
      "source": [
        "<p align=\"justify\"> 👀 A partir de acá, hacer la magia...\n",
        "</p>"
      ],
      "metadata": {
        "id": "kWwcPG8ILdwN"
      }
    }
  ]
}