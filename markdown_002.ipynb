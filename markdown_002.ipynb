{
  "cells": [
    {
      "cell_type": "markdown",
      "metadata": {
        "id": "view-in-github",
        "colab_type": "text"
      },
      "source": [
        "<a href=\"https://colab.research.google.com/github/cristiandarioortegayubro/P4DA/blob/main/markdown_002.ipynb\" target=\"_parent\"><img src=\"https://colab.research.google.com/assets/colab-badge.svg\" alt=\"Open In Colab\"/></a>"
      ]
    },
    {
      "cell_type": "markdown",
      "source": [
        "![](https://github.com/cristiandarioortegayubro/P4DA/blob/main/Logo.png?raw=true)"
      ],
      "metadata": {
        "id": "UtrAQ2btTU8Y"
      },
      "id": "UtrAQ2btTU8Y"
    },
    {
      "cell_type": "markdown",
      "id": "795ca1b3-d014-48a1-8cd2-a69a90043112",
      "metadata": {
        "id": "795ca1b3-d014-48a1-8cd2-a69a90043112"
      },
      "source": [
        "# **Markdown para las celdas de texto**"
      ]
    },
    {
      "cell_type": "markdown",
      "id": "203ecc93-3ff2-44bf-acb5-f23e09c946a2",
      "metadata": {
        "id": "203ecc93-3ff2-44bf-acb5-f23e09c946a2"
      },
      "source": [
        "![logo](https://upload.wikimedia.org/wikipedia/commons/thumb/4/48/Markdown-mark.svg/250px-Markdown-mark.svg.png)"
      ]
    },
    {
      "cell_type": "markdown",
      "source": [
        "https://en.wikipedia.org/wiki/Markdown"
      ],
      "metadata": {
        "id": "AuYg7zXNjDWR"
      },
      "id": "AuYg7zXNjDWR"
    },
    {
      "cell_type": "markdown",
      "id": "28d57cdf-0dbb-4c7a-9359-a52fa0c94571",
      "metadata": {
        "id": "28d57cdf-0dbb-4c7a-9359-a52fa0c94571"
      },
      "source": [
        "**Entonces, ¿para qué vamos a usar celdas de texto en los notebooks?**\n",
        "\n",
        "1. Para generar secciones de nuestro código, y poder acceder a esas secciones de forma más rápida, sin tener que estar viendo todo el código....\n",
        "1. Para poder documentar nuestro código, y facilitar el trabajo al equipo...\n",
        "1. Para explayarse mucho más que un simple comentario\n",
        "\n",
        "**Por eso, en las celdas de texto, podemos usar:**\n",
        "- Markdown\n",
        "- LaTeX\n",
        "- HTML"
      ]
    },
    {
      "cell_type": "markdown",
      "id": "542fb323-1eea-4c30-9f54-f262f10e917f",
      "metadata": {
        "id": "542fb323-1eea-4c30-9f54-f262f10e917f"
      },
      "source": [
        "# 🖌 **Citas**"
      ]
    },
    {
      "cell_type": "markdown",
      "id": "19d8e187-0d14-4a60-a674-2edc8af0eca8",
      "metadata": {
        "tags": [],
        "toc-hr-collapsed": true,
        "id": "19d8e187-0d14-4a60-a674-2edc8af0eca8"
      },
      "source": [
        "👀 **Las citas se generan utilizando el símbolo mayor que ```>``` al comienzo del bloque de texto que se quiere citar. Si las citas contienen varios párrafos, entonces cada uno de ellos debe comenzar por el símbolo ```>```. Ejemplo, así para citar:**\n",
        "\n",
        "~~~markdown\n",
        "> Utilizamos pandas para manipular datos...\n",
        "~~~\n",
        "\n",
        "**El resultado es el siguiente:**\n",
        "\n",
        "> Utilizamos pandas para manipular datos...\n",
        "\n",
        "👀 **y el párrafo citado puede contener todos los formatos vistos en el cuaderno anterior, ejemplos:**\n",
        "\n",
        "> **Utilizamos pandas para manipular datos...**\n",
        "\n",
        "> Utilizamos **pandas** para manipular datos...\n",
        "\n",
        "> Utilizamos ```pandas``` para manipular datos...\n",
        "\n",
        "> - Utilizamos ```pandas``` para manipular datos...\n",
        "\n",
        "👀 **y también se pueden generar citas anidadas, utilizando dentro de la cita el mismo símbolo, pero en el siguiente ejemplo, colocandolo dos veces, de la siguiente manera:**\n",
        "\n",
        "~~~markdown\n",
        "> Utilizamos pandas para manipular datos...\n",
        ">> Pero primeramente debemos habilitar la bilioteca\n",
        "~~~\n",
        "\n",
        "**Y el resultado es el siguiente:**\n",
        "\n",
        "> Utilizamos pandas para manipular datos...\n",
        ">> Pero primeramente debemos habilitar la bilioteca\n"
      ]
    },
    {
      "cell_type": "markdown",
      "id": "43314883-49ef-41d0-8acd-2c3fcf6b1c31",
      "metadata": {
        "id": "43314883-49ef-41d0-8acd-2c3fcf6b1c31"
      },
      "source": [
        "# ➖ **Líneas horizontales**"
      ]
    },
    {
      "cell_type": "markdown",
      "source": [
        "**Las lineas horizontales se utilizan para separar secciones de una manera visual.**\n",
        "\n",
        "**Para crearlas, en una línea en blanco deberás incluir tres de los siguientes elementos:**\n",
        "- Asteriscos ```*``` \n",
        "- Guiones ```-``` \n",
        "- Guiones bajos ```_```\n",
        "\n",
        "**Es decir:**\n",
        "\n",
        "\\---"
      ],
      "metadata": {
        "id": "usNLPX213GsY"
      },
      "id": "usNLPX213GsY"
    },
    {
      "cell_type": "markdown",
      "source": [
        "**Y el resultado es:**"
      ],
      "metadata": {
        "id": "DG61QHsO4vMS"
      },
      "id": "DG61QHsO4vMS"
    },
    {
      "cell_type": "markdown",
      "source": [
        "---"
      ],
      "metadata": {
        "id": "zcrMsc3K4FHw"
      },
      "id": "zcrMsc3K4FHw"
    },
    {
      "cell_type": "markdown",
      "id": "90ae44d2-2de9-492b-a366-e5ea350c258d",
      "metadata": {
        "id": "90ae44d2-2de9-492b-a366-e5ea350c258d"
      },
      "source": [
        "# **Tablas**"
      ]
    },
    {
      "cell_type": "markdown",
      "source": [
        "**Para crear tablas, sólo tenemos que indicar cuáles son los elementos del encabezado de la tabla y separar los campos con el símbolo ```|```.** \n",
        "\n",
        "**Ejemplo:**\n",
        "\n",
        "~~~markdown\n",
        "| Cabecera A | Cabecera B |\n",
        "| ---------- | ---------- |\n",
        "| Campo A0   | Campo B0   |\n",
        "| Campo A1   | Campo B1   |\n",
        "~~~"
      ],
      "metadata": {
        "id": "mg34sNQQ6_L5"
      },
      "id": "mg34sNQQ6_L5"
    },
    {
      "cell_type": "markdown",
      "source": [
        "**Y queda de la siguiente manera:**\n",
        "\n",
        "| Cabecera A | Cabecera B |\n",
        "| ---------- | ---------- |\n",
        "| Campo A0   | Campo B0   |\n",
        "| Campo A1   | Campo B1   |"
      ],
      "metadata": {
        "id": "oQ4nL9p-7Zxr"
      },
      "id": "oQ4nL9p-7Zxr"
    },
    {
      "cell_type": "markdown",
      "source": [
        "## ▶ **Tablas alineadas a la izquierda**"
      ],
      "metadata": {
        "id": "-kLsEKfG-KR8"
      },
      "id": "-kLsEKfG-KR8"
    },
    {
      "cell_type": "markdown",
      "source": [
        "**Podemos alinear el contenido de la tabla a la izquierda, con ```:``` en las líneas de separación. Por defecto, esta es la alineación de las tablas** \n",
        "\n",
        "**Ejemplo:**\n",
        "\n",
        "~~~markdown\n",
        "| Cabecera A | Cabecera B |\n",
        "| :---------- | :---------- |\n",
        "|  A0   |  B0   |\n",
        "|  A1   |  B1   |\n",
        "~~~"
      ],
      "metadata": {
        "id": "UtshrxQm8_sA"
      },
      "id": "UtshrxQm8_sA"
    },
    {
      "cell_type": "markdown",
      "source": [
        "**Y queda de la siguiente manera:**\n",
        "\n",
        "| Cabecera A | Cabecera B |\n",
        "| :---------- | :---------- |\n",
        "|  A0   |  B0   |\n",
        "|  A1   |  B1   |"
      ],
      "metadata": {
        "id": "Ro_abugA9ZRj"
      },
      "id": "Ro_abugA9ZRj"
    },
    {
      "cell_type": "markdown",
      "source": [
        "## ▶ **Tablas alineadas a la derecha**"
      ],
      "metadata": {
        "id": "lbRlDy_4-ixz"
      },
      "id": "lbRlDy_4-ixz"
    },
    {
      "cell_type": "markdown",
      "source": [
        "**Ahora a la derecha.** \n",
        "\n",
        "**Ejemplo:**\n",
        "\n",
        "~~~markdown\n",
        "| Cabecera A | Cabecera B |\n",
        "| ----------: | ----------: |\n",
        "|  A0   |  B0   |\n",
        "|  A1   |  B1   |\n",
        "~~~"
      ],
      "metadata": {
        "id": "IV3nYjgk9iGJ"
      },
      "id": "IV3nYjgk9iGJ"
    },
    {
      "cell_type": "markdown",
      "source": [
        "**Y queda de la siguiente manera:**\n",
        "\n",
        "| Cabecera A | Cabecera B |\n",
        "| ----------: | ----------: |\n",
        "|  A0   |  B0   |\n",
        "|  A1   |  B1   |"
      ],
      "metadata": {
        "id": "lAzUsBXv9uA2"
      },
      "id": "lAzUsBXv9uA2"
    },
    {
      "cell_type": "markdown",
      "source": [
        "## ▶ **Tablas alineadas al centro**"
      ],
      "metadata": {
        "id": "DfKKg3Zm-qAD"
      },
      "id": "DfKKg3Zm-qAD"
    },
    {
      "cell_type": "markdown",
      "source": [
        "**Y ahora centrado.** \n",
        "\n",
        "**Ejemplo:**\n",
        "\n",
        "~~~markdown\n",
        "| Cabecera A | Cabecera B |\n",
        "| :----------: | :----------: |\n",
        "|  A0   |  B0   |\n",
        "|  A1   |  B1   |\n",
        "~~~"
      ],
      "metadata": {
        "id": "4uxSs2bM933I"
      },
      "id": "4uxSs2bM933I"
    },
    {
      "cell_type": "markdown",
      "source": [
        "**Y queda de la siguiente manera:**\n",
        "\n",
        "| Cabecera A | Cabecera B |\n",
        "| :----------: | :----------: |\n",
        "|  A0   |  B0   |\n",
        "|  A1   |  B1   |"
      ],
      "metadata": {
        "id": "4rbihGeL-Ako"
      },
      "id": "4rbihGeL-Ako"
    },
    {
      "cell_type": "markdown",
      "id": "f3a2ecad-3769-402e-a941-1459c6695afc",
      "metadata": {
        "id": "f3a2ecad-3769-402e-a941-1459c6695afc"
      },
      "source": [
        "## ✅ **Algo de color...**"
      ]
    },
    {
      "cell_type": "markdown",
      "id": "827a1453-2503-4560-9478-2f2d91e2aa44",
      "metadata": {
        "id": "827a1453-2503-4560-9478-2f2d91e2aa44"
      },
      "source": [
        "**Podemos agregar color al texto, combinando algo de HTML con markdown, por ejemplo:**\n",
        "\n",
        "https://www.google.com/\n",
        "\n",
        "**Si se quiere que todo este parrafo tenga color, entonces la sintaxis sería la siguiente:**\n",
        "\n",
        "~~~html\n",
        " <p>\n",
        " <font color=\"RoyalBlue\">\n",
        "\n",
        "** Si se quiere que todo este parrafo tenga color, entonces la sintaxis sería la siguiente:**\n",
        "\n",
        " </p>\n",
        " </font>\n",
        "~~~\n",
        "\n",
        "**y quedaría de la siguiente manera:**\n",
        "\n",
        "<p>\n",
        "<font color=\"RoyalBlue\">\n",
        "\n",
        "**Si se quiere que todo este parrafo tenga color, entonces la sintaxis sería la siguiente:**\n",
        "\n",
        "</p>\n",
        "</font>\n",
        "   \n",
        "---\n",
        "<p>\n",
        "<font color=\"Green\">\n",
        "\n",
        "**De esta forma entonces, se puede colocar color a nuestro código markdown...**\n",
        "</p>\n",
        "</font>\n",
        "\n",
        "---\n"
      ]
    },
    {
      "cell_type": "markdown",
      "id": "3fc5c616-fe18-4f9c-b329-1187797ea376",
      "metadata": {
        "id": "3fc5c616-fe18-4f9c-b329-1187797ea376"
      },
      "source": [
        "# 😀"
      ]
    },
    {
      "cell_type": "markdown",
      "source": [
        "![](https://everisgroup.sharepoint.com/sites/BrandCenter/Shared%20Documents/Logo/FUTURE%20AT%20HEART/BLACK/FUTURE-HEARTH.png)"
      ],
      "metadata": {
        "id": "MLF0QH-s3dW6"
      },
      "id": "MLF0QH-s3dW6"
    }
  ],
  "metadata": {
    "kernelspec": {
      "display_name": "Python 3 (ipykernel)",
      "language": "python",
      "name": "python3"
    },
    "language_info": {
      "codemirror_mode": {
        "name": "ipython",
        "version": 3
      },
      "file_extension": ".py",
      "mimetype": "text/x-python",
      "name": "python",
      "nbconvert_exporter": "python",
      "pygments_lexer": "ipython3",
      "version": "3.10.2"
    },
    "colab": {
      "provenance": [],
      "include_colab_link": true
    }
  },
  "nbformat": 4,
  "nbformat_minor": 5
}