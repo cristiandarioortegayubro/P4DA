{
  "cells": [
    {
      "cell_type": "markdown",
      "metadata": {
        "id": "view-in-github",
        "colab_type": "text"
      },
      "source": [
        "<a href=\"https://colab.research.google.com/github/cristiandarioortegayubro/P4DA/blob/main/Actividad_006_resuelta.ipynb\" target=\"_parent\"><img src=\"https://colab.research.google.com/assets/colab-badge.svg\" alt=\"Open In Colab\"/></a>"
      ]
    },
    {
      "cell_type": "markdown",
      "source": [
        "![](https://github.com/cristiandarioortegayubro/P4DA/blob/main/Logo.png?raw=true)"
      ],
      "metadata": {
        "id": "uBHtO3tbUBGA"
      },
      "id": "uBHtO3tbUBGA"
    },
    {
      "cell_type": "markdown",
      "id": "49f579e7",
      "metadata": {
        "id": "49f579e7"
      },
      "source": [
        "![logo](https://www.python.org/static/community_logos/python-powered-h-70x91.png)"
      ]
    },
    {
      "cell_type": "markdown",
      "id": "6e754985-cdd9-4a64-9d7f-fcfbfa78abef",
      "metadata": {
        "id": "6e754985-cdd9-4a64-9d7f-fcfbfa78abef"
      },
      "source": [
        "# ☯ <font color=\"RoyalBlue\">**Actividad 006**</font>"
      ]
    },
    {
      "cell_type": "markdown",
      "source": [
        "## 🔹 **<font color=\"RoyalBlue\">Preprocesamiento - Codificación e Imputación</font>**"
      ],
      "metadata": {
        "id": "joUOoCl6UX0C"
      },
      "id": "joUOoCl6UX0C"
    },
    {
      "cell_type": "markdown",
      "id": "0704d660-cd44-4b7e-918d-65a4633e915e",
      "metadata": {
        "id": "0704d660-cd44-4b7e-918d-65a4633e915e"
      },
      "source": [
        "## 🔹 <font color=\"RoyalBlue\">**Habilitando bibliotecas requeridas**</font>"
      ]
    },
    {
      "cell_type": "markdown",
      "source": [
        "### **<font color=\"RoyalBlue\">Para análisis de datos</font>**"
      ],
      "metadata": {
        "id": "lgVJWp5BGkt6"
      },
      "id": "lgVJWp5BGkt6"
    },
    {
      "cell_type": "code",
      "source": [
        "import pandas as pd\n",
        "import numpy as np"
      ],
      "metadata": {
        "id": "OB3plSng-CbD"
      },
      "id": "OB3plSng-CbD",
      "execution_count": 1,
      "outputs": []
    },
    {
      "cell_type": "markdown",
      "source": [
        "## 🔹 <font color=\"RoyalBlue\">**Dataframe**</font>"
      ],
      "metadata": {
        "id": "qPTuQcuA-P4U"
      },
      "id": "qPTuQcuA-P4U"
    },
    {
      "cell_type": "markdown",
      "source": [
        "### <font color=\"RoyalBlue\">**Fuente de datos**</font>"
      ],
      "metadata": {
        "id": "yc04gyGFY0Cr"
      },
      "id": "yc04gyGFY0Cr"
    },
    {
      "cell_type": "code",
      "source": [
        "url = \"https://raw.githubusercontent.com/cristiandarioortegayubro/BA/main/Datasets/banco.csv\""
      ],
      "metadata": {
        "id": "tscpTJ2sY3Qj"
      },
      "id": "tscpTJ2sY3Qj",
      "execution_count": 2,
      "outputs": []
    },
    {
      "cell_type": "markdown",
      "source": [
        "### <font color=\"RoyalBlue\">**Creación del dataframe**</font>"
      ],
      "metadata": {
        "id": "UVanB5W18sKi"
      },
      "id": "UVanB5W18sKi"
    },
    {
      "cell_type": "code",
      "source": [
        "analisis = pd.read_csv(url, index_col=0)\n",
        "analisis.head()"
      ],
      "metadata": {
        "id": "b6wWn-lT4ce0",
        "colab": {
          "base_uri": "https://localhost:8080/",
          "height": 268
        },
        "outputId": "53dec59d-dc5b-4513-e5c4-6e328920f7e5"
      },
      "id": "b6wWn-lT4ce0",
      "execution_count": 3,
      "outputs": [
        {
          "output_type": "execute_result",
          "data": {
            "text/plain": [
              "   age           job  marital  education default  balance housing loan  \\\n",
              "0   58    management  married   tertiary      no     2143     yes   no   \n",
              "1   44    technician   single  secondary      no       29     yes   no   \n",
              "2   33  entrepreneur  married  secondary      no        2     yes  yes   \n",
              "3   47   blue-collar  married    unknown      no     1506     yes   no   \n",
              "4   33       unknown   single    unknown      no        1      no   no   \n",
              "\n",
              "   contact  day month  duration  campaign  pdays  previous poutcome deposit  \n",
              "0  unknown    5   may       261         1     -1         0  unknown      no  \n",
              "1  unknown    5   may       151         1     -1         0  unknown      no  \n",
              "2  unknown    5   may        76         1     -1         0  unknown      no  \n",
              "3  unknown    5   may        92         1     -1         0  unknown      no  \n",
              "4  unknown    5   may       198         1     -1         0  unknown      no  "
            ],
            "text/html": [
              "\n",
              "  <div id=\"df-e9d66334-6a07-409b-b4ec-d6ca135130ab\">\n",
              "    <div class=\"colab-df-container\">\n",
              "      <div>\n",
              "<style scoped>\n",
              "    .dataframe tbody tr th:only-of-type {\n",
              "        vertical-align: middle;\n",
              "    }\n",
              "\n",
              "    .dataframe tbody tr th {\n",
              "        vertical-align: top;\n",
              "    }\n",
              "\n",
              "    .dataframe thead th {\n",
              "        text-align: right;\n",
              "    }\n",
              "</style>\n",
              "<table border=\"1\" class=\"dataframe\">\n",
              "  <thead>\n",
              "    <tr style=\"text-align: right;\">\n",
              "      <th></th>\n",
              "      <th>age</th>\n",
              "      <th>job</th>\n",
              "      <th>marital</th>\n",
              "      <th>education</th>\n",
              "      <th>default</th>\n",
              "      <th>balance</th>\n",
              "      <th>housing</th>\n",
              "      <th>loan</th>\n",
              "      <th>contact</th>\n",
              "      <th>day</th>\n",
              "      <th>month</th>\n",
              "      <th>duration</th>\n",
              "      <th>campaign</th>\n",
              "      <th>pdays</th>\n",
              "      <th>previous</th>\n",
              "      <th>poutcome</th>\n",
              "      <th>deposit</th>\n",
              "    </tr>\n",
              "  </thead>\n",
              "  <tbody>\n",
              "    <tr>\n",
              "      <th>0</th>\n",
              "      <td>58</td>\n",
              "      <td>management</td>\n",
              "      <td>married</td>\n",
              "      <td>tertiary</td>\n",
              "      <td>no</td>\n",
              "      <td>2143</td>\n",
              "      <td>yes</td>\n",
              "      <td>no</td>\n",
              "      <td>unknown</td>\n",
              "      <td>5</td>\n",
              "      <td>may</td>\n",
              "      <td>261</td>\n",
              "      <td>1</td>\n",
              "      <td>-1</td>\n",
              "      <td>0</td>\n",
              "      <td>unknown</td>\n",
              "      <td>no</td>\n",
              "    </tr>\n",
              "    <tr>\n",
              "      <th>1</th>\n",
              "      <td>44</td>\n",
              "      <td>technician</td>\n",
              "      <td>single</td>\n",
              "      <td>secondary</td>\n",
              "      <td>no</td>\n",
              "      <td>29</td>\n",
              "      <td>yes</td>\n",
              "      <td>no</td>\n",
              "      <td>unknown</td>\n",
              "      <td>5</td>\n",
              "      <td>may</td>\n",
              "      <td>151</td>\n",
              "      <td>1</td>\n",
              "      <td>-1</td>\n",
              "      <td>0</td>\n",
              "      <td>unknown</td>\n",
              "      <td>no</td>\n",
              "    </tr>\n",
              "    <tr>\n",
              "      <th>2</th>\n",
              "      <td>33</td>\n",
              "      <td>entrepreneur</td>\n",
              "      <td>married</td>\n",
              "      <td>secondary</td>\n",
              "      <td>no</td>\n",
              "      <td>2</td>\n",
              "      <td>yes</td>\n",
              "      <td>yes</td>\n",
              "      <td>unknown</td>\n",
              "      <td>5</td>\n",
              "      <td>may</td>\n",
              "      <td>76</td>\n",
              "      <td>1</td>\n",
              "      <td>-1</td>\n",
              "      <td>0</td>\n",
              "      <td>unknown</td>\n",
              "      <td>no</td>\n",
              "    </tr>\n",
              "    <tr>\n",
              "      <th>3</th>\n",
              "      <td>47</td>\n",
              "      <td>blue-collar</td>\n",
              "      <td>married</td>\n",
              "      <td>unknown</td>\n",
              "      <td>no</td>\n",
              "      <td>1506</td>\n",
              "      <td>yes</td>\n",
              "      <td>no</td>\n",
              "      <td>unknown</td>\n",
              "      <td>5</td>\n",
              "      <td>may</td>\n",
              "      <td>92</td>\n",
              "      <td>1</td>\n",
              "      <td>-1</td>\n",
              "      <td>0</td>\n",
              "      <td>unknown</td>\n",
              "      <td>no</td>\n",
              "    </tr>\n",
              "    <tr>\n",
              "      <th>4</th>\n",
              "      <td>33</td>\n",
              "      <td>unknown</td>\n",
              "      <td>single</td>\n",
              "      <td>unknown</td>\n",
              "      <td>no</td>\n",
              "      <td>1</td>\n",
              "      <td>no</td>\n",
              "      <td>no</td>\n",
              "      <td>unknown</td>\n",
              "      <td>5</td>\n",
              "      <td>may</td>\n",
              "      <td>198</td>\n",
              "      <td>1</td>\n",
              "      <td>-1</td>\n",
              "      <td>0</td>\n",
              "      <td>unknown</td>\n",
              "      <td>no</td>\n",
              "    </tr>\n",
              "  </tbody>\n",
              "</table>\n",
              "</div>\n",
              "      <button class=\"colab-df-convert\" onclick=\"convertToInteractive('df-e9d66334-6a07-409b-b4ec-d6ca135130ab')\"\n",
              "              title=\"Convert this dataframe to an interactive table.\"\n",
              "              style=\"display:none;\">\n",
              "        \n",
              "  <svg xmlns=\"http://www.w3.org/2000/svg\" height=\"24px\"viewBox=\"0 0 24 24\"\n",
              "       width=\"24px\">\n",
              "    <path d=\"M0 0h24v24H0V0z\" fill=\"none\"/>\n",
              "    <path d=\"M18.56 5.44l.94 2.06.94-2.06 2.06-.94-2.06-.94-.94-2.06-.94 2.06-2.06.94zm-11 1L8.5 8.5l.94-2.06 2.06-.94-2.06-.94L8.5 2.5l-.94 2.06-2.06.94zm10 10l.94 2.06.94-2.06 2.06-.94-2.06-.94-.94-2.06-.94 2.06-2.06.94z\"/><path d=\"M17.41 7.96l-1.37-1.37c-.4-.4-.92-.59-1.43-.59-.52 0-1.04.2-1.43.59L10.3 9.45l-7.72 7.72c-.78.78-.78 2.05 0 2.83L4 21.41c.39.39.9.59 1.41.59.51 0 1.02-.2 1.41-.59l7.78-7.78 2.81-2.81c.8-.78.8-2.07 0-2.86zM5.41 20L4 18.59l7.72-7.72 1.47 1.35L5.41 20z\"/>\n",
              "  </svg>\n",
              "      </button>\n",
              "      \n",
              "  <style>\n",
              "    .colab-df-container {\n",
              "      display:flex;\n",
              "      flex-wrap:wrap;\n",
              "      gap: 12px;\n",
              "    }\n",
              "\n",
              "    .colab-df-convert {\n",
              "      background-color: #E8F0FE;\n",
              "      border: none;\n",
              "      border-radius: 50%;\n",
              "      cursor: pointer;\n",
              "      display: none;\n",
              "      fill: #1967D2;\n",
              "      height: 32px;\n",
              "      padding: 0 0 0 0;\n",
              "      width: 32px;\n",
              "    }\n",
              "\n",
              "    .colab-df-convert:hover {\n",
              "      background-color: #E2EBFA;\n",
              "      box-shadow: 0px 1px 2px rgba(60, 64, 67, 0.3), 0px 1px 3px 1px rgba(60, 64, 67, 0.15);\n",
              "      fill: #174EA6;\n",
              "    }\n",
              "\n",
              "    [theme=dark] .colab-df-convert {\n",
              "      background-color: #3B4455;\n",
              "      fill: #D2E3FC;\n",
              "    }\n",
              "\n",
              "    [theme=dark] .colab-df-convert:hover {\n",
              "      background-color: #434B5C;\n",
              "      box-shadow: 0px 1px 3px 1px rgba(0, 0, 0, 0.15);\n",
              "      filter: drop-shadow(0px 1px 2px rgba(0, 0, 0, 0.3));\n",
              "      fill: #FFFFFF;\n",
              "    }\n",
              "  </style>\n",
              "\n",
              "      <script>\n",
              "        const buttonEl =\n",
              "          document.querySelector('#df-e9d66334-6a07-409b-b4ec-d6ca135130ab button.colab-df-convert');\n",
              "        buttonEl.style.display =\n",
              "          google.colab.kernel.accessAllowed ? 'block' : 'none';\n",
              "\n",
              "        async function convertToInteractive(key) {\n",
              "          const element = document.querySelector('#df-e9d66334-6a07-409b-b4ec-d6ca135130ab');\n",
              "          const dataTable =\n",
              "            await google.colab.kernel.invokeFunction('convertToInteractive',\n",
              "                                                     [key], {});\n",
              "          if (!dataTable) return;\n",
              "\n",
              "          const docLinkHtml = 'Like what you see? Visit the ' +\n",
              "            '<a target=\"_blank\" href=https://colab.research.google.com/notebooks/data_table.ipynb>data table notebook</a>'\n",
              "            + ' to learn more about interactive tables.';\n",
              "          element.innerHTML = '';\n",
              "          dataTable['output_type'] = 'display_data';\n",
              "          await google.colab.output.renderOutput(dataTable, element);\n",
              "          const docLink = document.createElement('div');\n",
              "          docLink.innerHTML = docLinkHtml;\n",
              "          element.appendChild(docLink);\n",
              "        }\n",
              "      </script>\n",
              "    </div>\n",
              "  </div>\n",
              "  "
            ]
          },
          "metadata": {},
          "execution_count": 3
        }
      ]
    },
    {
      "cell_type": "markdown",
      "source": [
        "### <font color=\"RoyalBlue\">**Actividades con los dataframes**</font>"
      ],
      "metadata": {
        "id": "FJTZ6LG0aHW9"
      },
      "id": "FJTZ6LG0aHW9"
    },
    {
      "cell_type": "markdown",
      "source": [
        "<p align=\"justify\"><b>\n",
        "<font color=\"RoyalBlue\">\n",
        "Utilizar el metodo <code>info()</code>. Esta primera parte se viene facil, luego empieza a complicarse...\n",
        "</font>\n",
        "</p>"
      ],
      "metadata": {
        "id": "GPLR0T_yN8mH"
      },
      "id": "GPLR0T_yN8mH"
    },
    {
      "cell_type": "markdown",
      "source": [
        "<p>\n",
        "<font color=\"DarkBlue\">\n",
        "\n",
        "> **Informacion del dataframe** \n",
        "</font>\n",
        "</p>\n"
      ],
      "metadata": {
        "id": "L-So8f4MapWY"
      },
      "id": "L-So8f4MapWY"
    },
    {
      "cell_type": "code",
      "source": [
        "analisis.info()"
      ],
      "metadata": {
        "colab": {
          "base_uri": "https://localhost:8080/"
        },
        "id": "DJ6wd2kHe3t5",
        "outputId": "21b72ed4-ccd6-4dae-f3b7-125dc9fcff55"
      },
      "id": "DJ6wd2kHe3t5",
      "execution_count": 4,
      "outputs": [
        {
          "output_type": "stream",
          "name": "stdout",
          "text": [
            "<class 'pandas.core.frame.DataFrame'>\n",
            "Int64Index: 45211 entries, 0 to 45210\n",
            "Data columns (total 17 columns):\n",
            " #   Column     Non-Null Count  Dtype \n",
            "---  ------     --------------  ----- \n",
            " 0   age        45211 non-null  int64 \n",
            " 1   job        45211 non-null  object\n",
            " 2   marital    45211 non-null  object\n",
            " 3   education  45211 non-null  object\n",
            " 4   default    45211 non-null  object\n",
            " 5   balance    45211 non-null  int64 \n",
            " 6   housing    45211 non-null  object\n",
            " 7   loan       45211 non-null  object\n",
            " 8   contact    45211 non-null  object\n",
            " 9   day        45211 non-null  int64 \n",
            " 10  month      45211 non-null  object\n",
            " 11  duration   45211 non-null  int64 \n",
            " 12  campaign   45211 non-null  int64 \n",
            " 13  pdays      45211 non-null  int64 \n",
            " 14  previous   45211 non-null  int64 \n",
            " 15  poutcome   45211 non-null  object\n",
            " 16  deposit    45211 non-null  object\n",
            "dtypes: int64(7), object(10)\n",
            "memory usage: 6.2+ MB\n"
          ]
        }
      ]
    },
    {
      "cell_type": "markdown",
      "source": [
        "<p>\n",
        "<font color=\"DarkBlue\">\n",
        "\n",
        "> **Constatar los valores unicos por variable (columna)** \n",
        "</font>\n",
        "</p>\n"
      ],
      "metadata": {
        "id": "Afdoa-qca-Ut"
      },
      "id": "Afdoa-qca-Ut"
    },
    {
      "cell_type": "code",
      "source": [
        "for i in analisis.columns:\n",
        "    print(\"\\n\")\n",
        "    print(i)\n",
        "    print(\"-\" * 73)\n",
        "    print(f\"{analisis[i].unique()}\")\n",
        "    print(\"-\" * 73)"
      ],
      "metadata": {
        "colab": {
          "base_uri": "https://localhost:8080/"
        },
        "id": "FdCaQzZQbkec",
        "outputId": "5f4b6adf-f28b-44e9-d7a8-bf05e017d84b"
      },
      "id": "FdCaQzZQbkec",
      "execution_count": 5,
      "outputs": [
        {
          "output_type": "stream",
          "name": "stdout",
          "text": [
            "\n",
            "\n",
            "age\n",
            "-------------------------------------------------------------------------\n",
            "[58 44 33 47 35 28 42 43 41 29 53 57 51 45 60 56 32 25 40 39 52 46 36 49\n",
            " 59 37 50 54 55 48 24 38 31 30 27 34 23 26 61 22 21 20 66 62 83 75 67 70\n",
            " 65 68 64 69 72 71 19 76 85 63 90 82 73 74 78 80 94 79 77 86 95 81 18 89\n",
            " 84 87 92 93 88]\n",
            "-------------------------------------------------------------------------\n",
            "\n",
            "\n",
            "job\n",
            "-------------------------------------------------------------------------\n",
            "['management' 'technician' 'entrepreneur' 'blue-collar' 'unknown'\n",
            " 'retired' 'admin.' 'services' 'self-employed' 'unemployed' 'housemaid'\n",
            " 'student']\n",
            "-------------------------------------------------------------------------\n",
            "\n",
            "\n",
            "marital\n",
            "-------------------------------------------------------------------------\n",
            "['married' 'single' 'divorced']\n",
            "-------------------------------------------------------------------------\n",
            "\n",
            "\n",
            "education\n",
            "-------------------------------------------------------------------------\n",
            "['tertiary' 'secondary' 'unknown' 'primary']\n",
            "-------------------------------------------------------------------------\n",
            "\n",
            "\n",
            "default\n",
            "-------------------------------------------------------------------------\n",
            "['no' 'yes']\n",
            "-------------------------------------------------------------------------\n",
            "\n",
            "\n",
            "balance\n",
            "-------------------------------------------------------------------------\n",
            "[ 2143    29     2 ...  8205 14204 16353]\n",
            "-------------------------------------------------------------------------\n",
            "\n",
            "\n",
            "housing\n",
            "-------------------------------------------------------------------------\n",
            "['yes' 'no']\n",
            "-------------------------------------------------------------------------\n",
            "\n",
            "\n",
            "loan\n",
            "-------------------------------------------------------------------------\n",
            "['no' 'yes']\n",
            "-------------------------------------------------------------------------\n",
            "\n",
            "\n",
            "contact\n",
            "-------------------------------------------------------------------------\n",
            "['unknown' 'cellular' 'telephone']\n",
            "-------------------------------------------------------------------------\n",
            "\n",
            "\n",
            "day\n",
            "-------------------------------------------------------------------------\n",
            "[ 5  6  7  8  9 12 13 14 15 16 19 20 21 23 26 27 28 29 30  2  3  4 11 17\n",
            " 18 24 25  1 10 22 31]\n",
            "-------------------------------------------------------------------------\n",
            "\n",
            "\n",
            "month\n",
            "-------------------------------------------------------------------------\n",
            "['may' 'jun' 'jul' 'aug' 'oct' 'nov' 'dec' 'jan' 'feb' 'mar' 'apr' 'sep']\n",
            "-------------------------------------------------------------------------\n",
            "\n",
            "\n",
            "duration\n",
            "-------------------------------------------------------------------------\n",
            "[ 261  151   76 ... 1298 1246 1556]\n",
            "-------------------------------------------------------------------------\n",
            "\n",
            "\n",
            "campaign\n",
            "-------------------------------------------------------------------------\n",
            "[ 1  2  3  5  4  6  7  8  9 10 11 12 13 19 14 24 16 32 18 22 15 17 25 21\n",
            " 43 51 63 41 26 28 55 50 38 23 20 29 31 37 30 46 27 58 33 35 34 36 39 44]\n",
            "-------------------------------------------------------------------------\n",
            "\n",
            "\n",
            "pdays\n",
            "-------------------------------------------------------------------------\n",
            "[ -1 151 166  91  86 143 147  89 140 176 101 174 170 167 195 165 129 188\n",
            " 196 172 118 119 104 171 117 164 132 131 123 159 186 111 115 116 173 178\n",
            " 110 152  96 103 150 175 193 181 185 154 145 138 126 180 109 158 168  97\n",
            " 182 127 130 194 125 105 102  26 179  28 183 155 112 120 137 124 187 190\n",
            " 113 162 134 169 189   8 144 191 184 177   5  99 133  93  92  10 100 156\n",
            " 198 106 153 146 128   7 121 160 107  90  27 197 136 139 122 157 149 135\n",
            "  30 114  98 192 163  34  95 141  31 199  94 108  29 268 247 253 226 244\n",
            " 239 245 204 231 238 258 230 254 265  71 223 246 250 266 240 205 261 259\n",
            " 241 260 234 251 225 161 237 262 248 255 220 227 206 224 249 235 228 263\n",
            "   2 270 232 252 207 200 269 233 256 273 272 242 264 208 214 222 271 203\n",
            " 221 202 216 201 257 229 210 217  75 213  73  76 267 211 215  77 236  82\n",
            "   6 209 274   1 243 212 275  80 276   9 279  12 280  88 277  85  84 219\n",
            "  24  21 282  41 294  49 329 307 303 331 308 300  64 314 287 330 332 302\n",
            " 323 318 333  60 326 335 313 312 305 325 327 336 309 328 322  39 316 292\n",
            " 295 310 306 320 317 289  57 321 142 339 301 315 337 334 340 319  17  74\n",
            " 148 341 299 344 342 324 345 346 304 281 343 338  14 347  15 291 348 349\n",
            " 285 350 284  25 283 278  81   4  87  83  79  70  13 293  37  78  63  22\n",
            " 296 355  66  19  35 360 357 354 351 362 358 365 298 286 364 363  47 361\n",
            " 288 366 356 352 359 297 367 353 368  42 290  67 371 370 369  50  36 373\n",
            " 374 372 311 375 378  59 379  40  18  43  20  69  38 385  56  55  44 391\n",
            "  72 390  32  62 399 393  65 377 395 388 389 386  61 412 405 434 394 382\n",
            " 459 440 397 383  68 461 462 463 422  51 457 430 442 403 454 428 392 410\n",
            " 401 474 475 477 478  54 476 380 479  45  46 495  58  48 518  52 515 520\n",
            " 511 536 387 218  33 544 435 436 555 433 446 558 469 616 561 553 384 592\n",
            " 467 585 480 421 667 626 426 595 381 376 648 521 452 449 633 398  53 460\n",
            " 670 551 414 557 687 404 651 686 425 504 578 674 416 586 411 756 450 745\n",
            " 514 417 424 776 396 683 529 439 415 456 407 458 532 481 791 701 531 792\n",
            " 413 445 535 784 419 455 491 431 542 470 472 717 437   3 782 728 828 524\n",
            " 562 761 492 775 579 493 464 760 466 465 656 831 490 432 655 427 749 838\n",
            " 769 587 778 854 779 850 771 594 842 589 603 484 489 486 409 444 680 808\n",
            " 485 503 690 772 774 526 420 528 500 826 804 508 547 805 541 543 871 550\n",
            " 530]\n",
            "-------------------------------------------------------------------------\n",
            "\n",
            "\n",
            "previous\n",
            "-------------------------------------------------------------------------\n",
            "[  0   3   1   4   2  11  16   6   5  10  12   7  18   9  21   8  14  15\n",
            "  26  37  13  25  20  27  17  23  38  29  24  51 275  22  19  30  58  28\n",
            "  32  40  55  35  41]\n",
            "-------------------------------------------------------------------------\n",
            "\n",
            "\n",
            "poutcome\n",
            "-------------------------------------------------------------------------\n",
            "['unknown' 'failure' 'other' 'success']\n",
            "-------------------------------------------------------------------------\n",
            "\n",
            "\n",
            "deposit\n",
            "-------------------------------------------------------------------------\n",
            "['no' 'yes']\n",
            "-------------------------------------------------------------------------\n"
          ]
        }
      ]
    },
    {
      "cell_type": "markdown",
      "source": [
        "## 🔹 <font color=\"RoyalBlue\">**A divertirse... 😈**</font>"
      ],
      "metadata": {
        "id": "T34YSDVbEsEx"
      },
      "id": "T34YSDVbEsEx"
    },
    {
      "cell_type": "markdown",
      "source": [
        "---\n",
        "<p>\n",
        "<font color=\"RoyalBlue\">\n",
        "\n",
        "👀 **Para los siguientes puntos se puede consultar la documentación técnica de Pandas y la que necesiten...** 😃\n",
        "</font>\n",
        "</p>\n",
        "\n",
        "---"
      ],
      "metadata": {
        "id": "wY_DYxOjNxrP"
      },
      "id": "wY_DYxOjNxrP"
    },
    {
      "cell_type": "markdown",
      "source": [
        "### <font color=\"RoyalBlue\">**Limpieza y transformación de los datos**</font>"
      ],
      "metadata": {
        "id": "SxF7N31feyor"
      },
      "id": "SxF7N31feyor"
    },
    {
      "cell_type": "markdown",
      "source": [
        "<p>\n",
        "<font color=\"DarkBlue\">\n",
        "\n",
        "> **Reemplazar unknown con la palabra reservada <code>None</code>...** \n",
        "</font>\n",
        "</p>\n"
      ],
      "metadata": {
        "id": "G5sK7FCrgSMS"
      },
      "id": "G5sK7FCrgSMS"
    },
    {
      "cell_type": "code",
      "source": [
        "analisis.replace({\"unknown\": None}, inplace=True)"
      ],
      "metadata": {
        "id": "DLHW8pjNt4Di"
      },
      "id": "DLHW8pjNt4Di",
      "execution_count": 6,
      "outputs": []
    },
    {
      "cell_type": "code",
      "source": [
        "analisis.head(10)"
      ],
      "metadata": {
        "colab": {
          "base_uri": "https://localhost:8080/",
          "height": 423
        },
        "id": "HxnkRiZIej4c",
        "outputId": "2884022d-1c91-4bf0-f944-0734eb1658e4"
      },
      "id": "HxnkRiZIej4c",
      "execution_count": 7,
      "outputs": [
        {
          "output_type": "execute_result",
          "data": {
            "text/plain": [
              "   age           job   marital  education default  balance housing loan  \\\n",
              "0   58    management   married   tertiary      no     2143     yes   no   \n",
              "1   44    technician    single  secondary      no       29     yes   no   \n",
              "2   33  entrepreneur   married  secondary      no        2     yes  yes   \n",
              "3   47   blue-collar   married       None      no     1506     yes   no   \n",
              "4   33          None    single       None      no        1      no   no   \n",
              "5   35    management   married   tertiary      no      231     yes   no   \n",
              "6   28    management    single   tertiary      no      447     yes  yes   \n",
              "7   42  entrepreneur  divorced   tertiary     yes        2     yes   no   \n",
              "8   58       retired   married    primary      no      121     yes   no   \n",
              "9   43    technician    single  secondary      no      593     yes   no   \n",
              "\n",
              "  contact  day month  duration  campaign  pdays  previous poutcome deposit  \n",
              "0    None    5   may       261         1     -1         0     None      no  \n",
              "1    None    5   may       151         1     -1         0     None      no  \n",
              "2    None    5   may        76         1     -1         0     None      no  \n",
              "3    None    5   may        92         1     -1         0     None      no  \n",
              "4    None    5   may       198         1     -1         0     None      no  \n",
              "5    None    5   may       139         1     -1         0     None      no  \n",
              "6    None    5   may       217         1     -1         0     None      no  \n",
              "7    None    5   may       380         1     -1         0     None      no  \n",
              "8    None    5   may        50         1     -1         0     None      no  \n",
              "9    None    5   may        55         1     -1         0     None      no  "
            ],
            "text/html": [
              "\n",
              "  <div id=\"df-9b66ce69-90d6-4979-888d-fddd716752ed\">\n",
              "    <div class=\"colab-df-container\">\n",
              "      <div>\n",
              "<style scoped>\n",
              "    .dataframe tbody tr th:only-of-type {\n",
              "        vertical-align: middle;\n",
              "    }\n",
              "\n",
              "    .dataframe tbody tr th {\n",
              "        vertical-align: top;\n",
              "    }\n",
              "\n",
              "    .dataframe thead th {\n",
              "        text-align: right;\n",
              "    }\n",
              "</style>\n",
              "<table border=\"1\" class=\"dataframe\">\n",
              "  <thead>\n",
              "    <tr style=\"text-align: right;\">\n",
              "      <th></th>\n",
              "      <th>age</th>\n",
              "      <th>job</th>\n",
              "      <th>marital</th>\n",
              "      <th>education</th>\n",
              "      <th>default</th>\n",
              "      <th>balance</th>\n",
              "      <th>housing</th>\n",
              "      <th>loan</th>\n",
              "      <th>contact</th>\n",
              "      <th>day</th>\n",
              "      <th>month</th>\n",
              "      <th>duration</th>\n",
              "      <th>campaign</th>\n",
              "      <th>pdays</th>\n",
              "      <th>previous</th>\n",
              "      <th>poutcome</th>\n",
              "      <th>deposit</th>\n",
              "    </tr>\n",
              "  </thead>\n",
              "  <tbody>\n",
              "    <tr>\n",
              "      <th>0</th>\n",
              "      <td>58</td>\n",
              "      <td>management</td>\n",
              "      <td>married</td>\n",
              "      <td>tertiary</td>\n",
              "      <td>no</td>\n",
              "      <td>2143</td>\n",
              "      <td>yes</td>\n",
              "      <td>no</td>\n",
              "      <td>None</td>\n",
              "      <td>5</td>\n",
              "      <td>may</td>\n",
              "      <td>261</td>\n",
              "      <td>1</td>\n",
              "      <td>-1</td>\n",
              "      <td>0</td>\n",
              "      <td>None</td>\n",
              "      <td>no</td>\n",
              "    </tr>\n",
              "    <tr>\n",
              "      <th>1</th>\n",
              "      <td>44</td>\n",
              "      <td>technician</td>\n",
              "      <td>single</td>\n",
              "      <td>secondary</td>\n",
              "      <td>no</td>\n",
              "      <td>29</td>\n",
              "      <td>yes</td>\n",
              "      <td>no</td>\n",
              "      <td>None</td>\n",
              "      <td>5</td>\n",
              "      <td>may</td>\n",
              "      <td>151</td>\n",
              "      <td>1</td>\n",
              "      <td>-1</td>\n",
              "      <td>0</td>\n",
              "      <td>None</td>\n",
              "      <td>no</td>\n",
              "    </tr>\n",
              "    <tr>\n",
              "      <th>2</th>\n",
              "      <td>33</td>\n",
              "      <td>entrepreneur</td>\n",
              "      <td>married</td>\n",
              "      <td>secondary</td>\n",
              "      <td>no</td>\n",
              "      <td>2</td>\n",
              "      <td>yes</td>\n",
              "      <td>yes</td>\n",
              "      <td>None</td>\n",
              "      <td>5</td>\n",
              "      <td>may</td>\n",
              "      <td>76</td>\n",
              "      <td>1</td>\n",
              "      <td>-1</td>\n",
              "      <td>0</td>\n",
              "      <td>None</td>\n",
              "      <td>no</td>\n",
              "    </tr>\n",
              "    <tr>\n",
              "      <th>3</th>\n",
              "      <td>47</td>\n",
              "      <td>blue-collar</td>\n",
              "      <td>married</td>\n",
              "      <td>None</td>\n",
              "      <td>no</td>\n",
              "      <td>1506</td>\n",
              "      <td>yes</td>\n",
              "      <td>no</td>\n",
              "      <td>None</td>\n",
              "      <td>5</td>\n",
              "      <td>may</td>\n",
              "      <td>92</td>\n",
              "      <td>1</td>\n",
              "      <td>-1</td>\n",
              "      <td>0</td>\n",
              "      <td>None</td>\n",
              "      <td>no</td>\n",
              "    </tr>\n",
              "    <tr>\n",
              "      <th>4</th>\n",
              "      <td>33</td>\n",
              "      <td>None</td>\n",
              "      <td>single</td>\n",
              "      <td>None</td>\n",
              "      <td>no</td>\n",
              "      <td>1</td>\n",
              "      <td>no</td>\n",
              "      <td>no</td>\n",
              "      <td>None</td>\n",
              "      <td>5</td>\n",
              "      <td>may</td>\n",
              "      <td>198</td>\n",
              "      <td>1</td>\n",
              "      <td>-1</td>\n",
              "      <td>0</td>\n",
              "      <td>None</td>\n",
              "      <td>no</td>\n",
              "    </tr>\n",
              "    <tr>\n",
              "      <th>5</th>\n",
              "      <td>35</td>\n",
              "      <td>management</td>\n",
              "      <td>married</td>\n",
              "      <td>tertiary</td>\n",
              "      <td>no</td>\n",
              "      <td>231</td>\n",
              "      <td>yes</td>\n",
              "      <td>no</td>\n",
              "      <td>None</td>\n",
              "      <td>5</td>\n",
              "      <td>may</td>\n",
              "      <td>139</td>\n",
              "      <td>1</td>\n",
              "      <td>-1</td>\n",
              "      <td>0</td>\n",
              "      <td>None</td>\n",
              "      <td>no</td>\n",
              "    </tr>\n",
              "    <tr>\n",
              "      <th>6</th>\n",
              "      <td>28</td>\n",
              "      <td>management</td>\n",
              "      <td>single</td>\n",
              "      <td>tertiary</td>\n",
              "      <td>no</td>\n",
              "      <td>447</td>\n",
              "      <td>yes</td>\n",
              "      <td>yes</td>\n",
              "      <td>None</td>\n",
              "      <td>5</td>\n",
              "      <td>may</td>\n",
              "      <td>217</td>\n",
              "      <td>1</td>\n",
              "      <td>-1</td>\n",
              "      <td>0</td>\n",
              "      <td>None</td>\n",
              "      <td>no</td>\n",
              "    </tr>\n",
              "    <tr>\n",
              "      <th>7</th>\n",
              "      <td>42</td>\n",
              "      <td>entrepreneur</td>\n",
              "      <td>divorced</td>\n",
              "      <td>tertiary</td>\n",
              "      <td>yes</td>\n",
              "      <td>2</td>\n",
              "      <td>yes</td>\n",
              "      <td>no</td>\n",
              "      <td>None</td>\n",
              "      <td>5</td>\n",
              "      <td>may</td>\n",
              "      <td>380</td>\n",
              "      <td>1</td>\n",
              "      <td>-1</td>\n",
              "      <td>0</td>\n",
              "      <td>None</td>\n",
              "      <td>no</td>\n",
              "    </tr>\n",
              "    <tr>\n",
              "      <th>8</th>\n",
              "      <td>58</td>\n",
              "      <td>retired</td>\n",
              "      <td>married</td>\n",
              "      <td>primary</td>\n",
              "      <td>no</td>\n",
              "      <td>121</td>\n",
              "      <td>yes</td>\n",
              "      <td>no</td>\n",
              "      <td>None</td>\n",
              "      <td>5</td>\n",
              "      <td>may</td>\n",
              "      <td>50</td>\n",
              "      <td>1</td>\n",
              "      <td>-1</td>\n",
              "      <td>0</td>\n",
              "      <td>None</td>\n",
              "      <td>no</td>\n",
              "    </tr>\n",
              "    <tr>\n",
              "      <th>9</th>\n",
              "      <td>43</td>\n",
              "      <td>technician</td>\n",
              "      <td>single</td>\n",
              "      <td>secondary</td>\n",
              "      <td>no</td>\n",
              "      <td>593</td>\n",
              "      <td>yes</td>\n",
              "      <td>no</td>\n",
              "      <td>None</td>\n",
              "      <td>5</td>\n",
              "      <td>may</td>\n",
              "      <td>55</td>\n",
              "      <td>1</td>\n",
              "      <td>-1</td>\n",
              "      <td>0</td>\n",
              "      <td>None</td>\n",
              "      <td>no</td>\n",
              "    </tr>\n",
              "  </tbody>\n",
              "</table>\n",
              "</div>\n",
              "      <button class=\"colab-df-convert\" onclick=\"convertToInteractive('df-9b66ce69-90d6-4979-888d-fddd716752ed')\"\n",
              "              title=\"Convert this dataframe to an interactive table.\"\n",
              "              style=\"display:none;\">\n",
              "        \n",
              "  <svg xmlns=\"http://www.w3.org/2000/svg\" height=\"24px\"viewBox=\"0 0 24 24\"\n",
              "       width=\"24px\">\n",
              "    <path d=\"M0 0h24v24H0V0z\" fill=\"none\"/>\n",
              "    <path d=\"M18.56 5.44l.94 2.06.94-2.06 2.06-.94-2.06-.94-.94-2.06-.94 2.06-2.06.94zm-11 1L8.5 8.5l.94-2.06 2.06-.94-2.06-.94L8.5 2.5l-.94 2.06-2.06.94zm10 10l.94 2.06.94-2.06 2.06-.94-2.06-.94-.94-2.06-.94 2.06-2.06.94z\"/><path d=\"M17.41 7.96l-1.37-1.37c-.4-.4-.92-.59-1.43-.59-.52 0-1.04.2-1.43.59L10.3 9.45l-7.72 7.72c-.78.78-.78 2.05 0 2.83L4 21.41c.39.39.9.59 1.41.59.51 0 1.02-.2 1.41-.59l7.78-7.78 2.81-2.81c.8-.78.8-2.07 0-2.86zM5.41 20L4 18.59l7.72-7.72 1.47 1.35L5.41 20z\"/>\n",
              "  </svg>\n",
              "      </button>\n",
              "      \n",
              "  <style>\n",
              "    .colab-df-container {\n",
              "      display:flex;\n",
              "      flex-wrap:wrap;\n",
              "      gap: 12px;\n",
              "    }\n",
              "\n",
              "    .colab-df-convert {\n",
              "      background-color: #E8F0FE;\n",
              "      border: none;\n",
              "      border-radius: 50%;\n",
              "      cursor: pointer;\n",
              "      display: none;\n",
              "      fill: #1967D2;\n",
              "      height: 32px;\n",
              "      padding: 0 0 0 0;\n",
              "      width: 32px;\n",
              "    }\n",
              "\n",
              "    .colab-df-convert:hover {\n",
              "      background-color: #E2EBFA;\n",
              "      box-shadow: 0px 1px 2px rgba(60, 64, 67, 0.3), 0px 1px 3px 1px rgba(60, 64, 67, 0.15);\n",
              "      fill: #174EA6;\n",
              "    }\n",
              "\n",
              "    [theme=dark] .colab-df-convert {\n",
              "      background-color: #3B4455;\n",
              "      fill: #D2E3FC;\n",
              "    }\n",
              "\n",
              "    [theme=dark] .colab-df-convert:hover {\n",
              "      background-color: #434B5C;\n",
              "      box-shadow: 0px 1px 3px 1px rgba(0, 0, 0, 0.15);\n",
              "      filter: drop-shadow(0px 1px 2px rgba(0, 0, 0, 0.3));\n",
              "      fill: #FFFFFF;\n",
              "    }\n",
              "  </style>\n",
              "\n",
              "      <script>\n",
              "        const buttonEl =\n",
              "          document.querySelector('#df-9b66ce69-90d6-4979-888d-fddd716752ed button.colab-df-convert');\n",
              "        buttonEl.style.display =\n",
              "          google.colab.kernel.accessAllowed ? 'block' : 'none';\n",
              "\n",
              "        async function convertToInteractive(key) {\n",
              "          const element = document.querySelector('#df-9b66ce69-90d6-4979-888d-fddd716752ed');\n",
              "          const dataTable =\n",
              "            await google.colab.kernel.invokeFunction('convertToInteractive',\n",
              "                                                     [key], {});\n",
              "          if (!dataTable) return;\n",
              "\n",
              "          const docLinkHtml = 'Like what you see? Visit the ' +\n",
              "            '<a target=\"_blank\" href=https://colab.research.google.com/notebooks/data_table.ipynb>data table notebook</a>'\n",
              "            + ' to learn more about interactive tables.';\n",
              "          element.innerHTML = '';\n",
              "          dataTable['output_type'] = 'display_data';\n",
              "          await google.colab.output.renderOutput(dataTable, element);\n",
              "          const docLink = document.createElement('div');\n",
              "          docLink.innerHTML = docLinkHtml;\n",
              "          element.appendChild(docLink);\n",
              "        }\n",
              "      </script>\n",
              "    </div>\n",
              "  </div>\n",
              "  "
            ]
          },
          "metadata": {},
          "execution_count": 7
        }
      ]
    },
    {
      "cell_type": "markdown",
      "source": [
        "<p>\n",
        "<font color=\"DarkBlue\">\n",
        "\n",
        "> **Verificar nulos...** \n",
        "</font>\n",
        "</p>\n"
      ],
      "metadata": {
        "id": "cy2n18g6NUOK"
      },
      "id": "cy2n18g6NUOK"
    },
    {
      "cell_type": "code",
      "source": [
        "analisis.info()"
      ],
      "metadata": {
        "id": "epYO2q6hwYDJ",
        "colab": {
          "base_uri": "https://localhost:8080/"
        },
        "outputId": "29b26e27-d4da-4529-bbbe-8575db98015a"
      },
      "id": "epYO2q6hwYDJ",
      "execution_count": 8,
      "outputs": [
        {
          "output_type": "stream",
          "name": "stdout",
          "text": [
            "<class 'pandas.core.frame.DataFrame'>\n",
            "Int64Index: 45211 entries, 0 to 45210\n",
            "Data columns (total 17 columns):\n",
            " #   Column     Non-Null Count  Dtype \n",
            "---  ------     --------------  ----- \n",
            " 0   age        45211 non-null  int64 \n",
            " 1   job        44923 non-null  object\n",
            " 2   marital    45211 non-null  object\n",
            " 3   education  43354 non-null  object\n",
            " 4   default    45211 non-null  object\n",
            " 5   balance    45211 non-null  int64 \n",
            " 6   housing    45211 non-null  object\n",
            " 7   loan       45211 non-null  object\n",
            " 8   contact    32191 non-null  object\n",
            " 9   day        45211 non-null  int64 \n",
            " 10  month      45211 non-null  object\n",
            " 11  duration   45211 non-null  int64 \n",
            " 12  campaign   45211 non-null  int64 \n",
            " 13  pdays      45211 non-null  int64 \n",
            " 14  previous   45211 non-null  int64 \n",
            " 15  poutcome   8252 non-null   object\n",
            " 16  deposit    45211 non-null  object\n",
            "dtypes: int64(7), object(10)\n",
            "memory usage: 6.2+ MB\n"
          ]
        }
      ]
    },
    {
      "cell_type": "code",
      "source": [
        "analisis.isnull().sum().sort_values(ascending=False).head(7)"
      ],
      "metadata": {
        "colab": {
          "base_uri": "https://localhost:8080/"
        },
        "id": "-2l6I9dswfbg",
        "outputId": "19085224-e03d-44ea-d6de-21de912bf91a"
      },
      "id": "-2l6I9dswfbg",
      "execution_count": 9,
      "outputs": [
        {
          "output_type": "execute_result",
          "data": {
            "text/plain": [
              "poutcome     36959\n",
              "contact      13020\n",
              "education     1857\n",
              "job            288\n",
              "month            0\n",
              "previous         0\n",
              "pdays            0\n",
              "dtype: int64"
            ]
          },
          "metadata": {},
          "execution_count": 9
        }
      ]
    },
    {
      "cell_type": "markdown",
      "source": [
        "<p>\n",
        "<font color=\"DarkBlue\">\n",
        "\n",
        "> **Imputar...** \n",
        "</font>\n",
        "</p>\n"
      ],
      "metadata": {
        "id": "TrAy-CN-SW47"
      },
      "id": "TrAy-CN-SW47"
    },
    {
      "cell_type": "markdown",
      "source": [
        "La columna con mas nulos, reemplazar esos nulos con la palabra other."
      ],
      "metadata": {
        "id": "F2ZILl8JZm3-"
      },
      "id": "F2ZILl8JZm3-"
    },
    {
      "cell_type": "code",
      "source": [
        "analisis[\"poutcome\"].fillna(\"other\", inplace=True)"
      ],
      "metadata": {
        "id": "co0Bp9dHZy_J"
      },
      "id": "co0Bp9dHZy_J",
      "execution_count": 10,
      "outputs": []
    },
    {
      "cell_type": "markdown",
      "source": [
        "Para contacto imputar con la palabra cellular"
      ],
      "metadata": {
        "id": "sbgWD_xJd1zu"
      },
      "id": "sbgWD_xJd1zu"
    },
    {
      "cell_type": "code",
      "source": [
        "analisis[\"contact\"].fillna(\"cellular\", inplace=True)"
      ],
      "metadata": {
        "id": "ugoGexKLb-xk"
      },
      "id": "ugoGexKLb-xk",
      "execution_count": 11,
      "outputs": []
    },
    {
      "cell_type": "markdown",
      "source": [
        "Para educacion imputar con la palabra secondary"
      ],
      "metadata": {
        "id": "FL9w5lj-eUlp"
      },
      "id": "FL9w5lj-eUlp"
    },
    {
      "cell_type": "code",
      "source": [
        "analisis[\"education\"].fillna(\"secondary\", inplace=True)"
      ],
      "metadata": {
        "id": "wMAy7UMMeZM3"
      },
      "id": "wMAy7UMMeZM3",
      "execution_count": 12,
      "outputs": []
    },
    {
      "cell_type": "markdown",
      "source": [
        "Para job, imputar con la palabra student"
      ],
      "metadata": {
        "id": "iNPEUKfEeg-0"
      },
      "id": "iNPEUKfEeg-0"
    },
    {
      "cell_type": "code",
      "source": [
        "analisis[\"job\"].fillna(\"student\", inplace=True)"
      ],
      "metadata": {
        "id": "qghuk9O8euSh"
      },
      "id": "qghuk9O8euSh",
      "execution_count": 13,
      "outputs": []
    },
    {
      "cell_type": "code",
      "source": [
        "analisis.isnull().sum().sort_values(ascending=False).head(7)"
      ],
      "metadata": {
        "colab": {
          "base_uri": "https://localhost:8080/"
        },
        "id": "c0dPn9bGVhqL",
        "outputId": "87590df7-fcdc-492b-8f4e-48684efe588c"
      },
      "id": "c0dPn9bGVhqL",
      "execution_count": 14,
      "outputs": [
        {
          "output_type": "execute_result",
          "data": {
            "text/plain": [
              "age         0\n",
              "day         0\n",
              "poutcome    0\n",
              "previous    0\n",
              "pdays       0\n",
              "campaign    0\n",
              "duration    0\n",
              "dtype: int64"
            ]
          },
          "metadata": {},
          "execution_count": 14
        }
      ]
    },
    {
      "cell_type": "code",
      "source": [
        "analisis.info()"
      ],
      "metadata": {
        "colab": {
          "base_uri": "https://localhost:8080/"
        },
        "id": "Bw39QVE7agxH",
        "outputId": "806f9298-8573-482a-f037-f458555e2c4a"
      },
      "id": "Bw39QVE7agxH",
      "execution_count": 15,
      "outputs": [
        {
          "output_type": "stream",
          "name": "stdout",
          "text": [
            "<class 'pandas.core.frame.DataFrame'>\n",
            "Int64Index: 45211 entries, 0 to 45210\n",
            "Data columns (total 17 columns):\n",
            " #   Column     Non-Null Count  Dtype \n",
            "---  ------     --------------  ----- \n",
            " 0   age        45211 non-null  int64 \n",
            " 1   job        45211 non-null  object\n",
            " 2   marital    45211 non-null  object\n",
            " 3   education  45211 non-null  object\n",
            " 4   default    45211 non-null  object\n",
            " 5   balance    45211 non-null  int64 \n",
            " 6   housing    45211 non-null  object\n",
            " 7   loan       45211 non-null  object\n",
            " 8   contact    45211 non-null  object\n",
            " 9   day        45211 non-null  int64 \n",
            " 10  month      45211 non-null  object\n",
            " 11  duration   45211 non-null  int64 \n",
            " 12  campaign   45211 non-null  int64 \n",
            " 13  pdays      45211 non-null  int64 \n",
            " 14  previous   45211 non-null  int64 \n",
            " 15  poutcome   45211 non-null  object\n",
            " 16  deposit    45211 non-null  object\n",
            "dtypes: int64(7), object(10)\n",
            "memory usage: 6.2+ MB\n"
          ]
        }
      ]
    },
    {
      "cell_type": "markdown",
      "source": [
        "<p>\n",
        "<font color=\"DarkBlue\">\n",
        "\n",
        "> **Codificar...** \n",
        "</font>\n",
        "</p>\n"
      ],
      "metadata": {
        "id": "sh7AfITXOJac"
      },
      "id": "sh7AfITXOJac"
    },
    {
      "cell_type": "markdown",
      "source": [
        "Codificar las siguientes columnas..."
      ],
      "metadata": {
        "id": "7bF4x2Gug2Lm"
      },
      "id": "7bF4x2Gug2Lm"
    },
    {
      "cell_type": "markdown",
      "source": [
        "Las columnas a codificar son:\n",
        "- job\n",
        "- marital\n",
        "- education\n",
        "- default\n",
        "- housing\n",
        "- loan\n",
        "- contact\n",
        "- poutcome"
      ],
      "metadata": {
        "id": "jAGrxgFPQBuy"
      },
      "id": "jAGrxgFPQBuy"
    },
    {
      "cell_type": "code",
      "source": [
        "job = pd.get_dummies(analisis[\"job\"])\n",
        "marital = pd.get_dummies(analisis[\"marital\"])\n",
        "education = pd.get_dummies(analisis[\"education\"])\n",
        "default = pd.get_dummies(analisis[\"default\"])\n",
        "housing = pd.get_dummies(analisis[\"housing\"])\n",
        "loan = pd.get_dummies(analisis[\"loan\"])\n",
        "contact = pd.get_dummies(analisis[\"contact\"])\n",
        "poutcome = pd.get_dummies(analisis[\"poutcome\"])"
      ],
      "metadata": {
        "id": "d5Ev6hUZRjJp"
      },
      "id": "d5Ev6hUZRjJp",
      "execution_count": 18,
      "outputs": []
    },
    {
      "cell_type": "code",
      "source": [
        "marital"
      ],
      "metadata": {
        "colab": {
          "base_uri": "https://localhost:8080/",
          "height": 419
        },
        "id": "jVfNr9uJgqRa",
        "outputId": "1412c6cb-a68f-494f-e40c-57bfb33c8c66"
      },
      "id": "jVfNr9uJgqRa",
      "execution_count": 19,
      "outputs": [
        {
          "output_type": "execute_result",
          "data": {
            "text/plain": [
              "       divorced  married  single\n",
              "0             0        1       0\n",
              "1             0        0       1\n",
              "2             0        1       0\n",
              "3             0        1       0\n",
              "4             0        0       1\n",
              "...         ...      ...     ...\n",
              "45206         0        1       0\n",
              "45207         1        0       0\n",
              "45208         0        1       0\n",
              "45209         0        1       0\n",
              "45210         0        1       0\n",
              "\n",
              "[45211 rows x 3 columns]"
            ],
            "text/html": [
              "\n",
              "  <div id=\"df-f29264cd-55b5-484b-97a6-3ce5697ce5e3\">\n",
              "    <div class=\"colab-df-container\">\n",
              "      <div>\n",
              "<style scoped>\n",
              "    .dataframe tbody tr th:only-of-type {\n",
              "        vertical-align: middle;\n",
              "    }\n",
              "\n",
              "    .dataframe tbody tr th {\n",
              "        vertical-align: top;\n",
              "    }\n",
              "\n",
              "    .dataframe thead th {\n",
              "        text-align: right;\n",
              "    }\n",
              "</style>\n",
              "<table border=\"1\" class=\"dataframe\">\n",
              "  <thead>\n",
              "    <tr style=\"text-align: right;\">\n",
              "      <th></th>\n",
              "      <th>divorced</th>\n",
              "      <th>married</th>\n",
              "      <th>single</th>\n",
              "    </tr>\n",
              "  </thead>\n",
              "  <tbody>\n",
              "    <tr>\n",
              "      <th>0</th>\n",
              "      <td>0</td>\n",
              "      <td>1</td>\n",
              "      <td>0</td>\n",
              "    </tr>\n",
              "    <tr>\n",
              "      <th>1</th>\n",
              "      <td>0</td>\n",
              "      <td>0</td>\n",
              "      <td>1</td>\n",
              "    </tr>\n",
              "    <tr>\n",
              "      <th>2</th>\n",
              "      <td>0</td>\n",
              "      <td>1</td>\n",
              "      <td>0</td>\n",
              "    </tr>\n",
              "    <tr>\n",
              "      <th>3</th>\n",
              "      <td>0</td>\n",
              "      <td>1</td>\n",
              "      <td>0</td>\n",
              "    </tr>\n",
              "    <tr>\n",
              "      <th>4</th>\n",
              "      <td>0</td>\n",
              "      <td>0</td>\n",
              "      <td>1</td>\n",
              "    </tr>\n",
              "    <tr>\n",
              "      <th>...</th>\n",
              "      <td>...</td>\n",
              "      <td>...</td>\n",
              "      <td>...</td>\n",
              "    </tr>\n",
              "    <tr>\n",
              "      <th>45206</th>\n",
              "      <td>0</td>\n",
              "      <td>1</td>\n",
              "      <td>0</td>\n",
              "    </tr>\n",
              "    <tr>\n",
              "      <th>45207</th>\n",
              "      <td>1</td>\n",
              "      <td>0</td>\n",
              "      <td>0</td>\n",
              "    </tr>\n",
              "    <tr>\n",
              "      <th>45208</th>\n",
              "      <td>0</td>\n",
              "      <td>1</td>\n",
              "      <td>0</td>\n",
              "    </tr>\n",
              "    <tr>\n",
              "      <th>45209</th>\n",
              "      <td>0</td>\n",
              "      <td>1</td>\n",
              "      <td>0</td>\n",
              "    </tr>\n",
              "    <tr>\n",
              "      <th>45210</th>\n",
              "      <td>0</td>\n",
              "      <td>1</td>\n",
              "      <td>0</td>\n",
              "    </tr>\n",
              "  </tbody>\n",
              "</table>\n",
              "<p>45211 rows × 3 columns</p>\n",
              "</div>\n",
              "      <button class=\"colab-df-convert\" onclick=\"convertToInteractive('df-f29264cd-55b5-484b-97a6-3ce5697ce5e3')\"\n",
              "              title=\"Convert this dataframe to an interactive table.\"\n",
              "              style=\"display:none;\">\n",
              "        \n",
              "  <svg xmlns=\"http://www.w3.org/2000/svg\" height=\"24px\"viewBox=\"0 0 24 24\"\n",
              "       width=\"24px\">\n",
              "    <path d=\"M0 0h24v24H0V0z\" fill=\"none\"/>\n",
              "    <path d=\"M18.56 5.44l.94 2.06.94-2.06 2.06-.94-2.06-.94-.94-2.06-.94 2.06-2.06.94zm-11 1L8.5 8.5l.94-2.06 2.06-.94-2.06-.94L8.5 2.5l-.94 2.06-2.06.94zm10 10l.94 2.06.94-2.06 2.06-.94-2.06-.94-.94-2.06-.94 2.06-2.06.94z\"/><path d=\"M17.41 7.96l-1.37-1.37c-.4-.4-.92-.59-1.43-.59-.52 0-1.04.2-1.43.59L10.3 9.45l-7.72 7.72c-.78.78-.78 2.05 0 2.83L4 21.41c.39.39.9.59 1.41.59.51 0 1.02-.2 1.41-.59l7.78-7.78 2.81-2.81c.8-.78.8-2.07 0-2.86zM5.41 20L4 18.59l7.72-7.72 1.47 1.35L5.41 20z\"/>\n",
              "  </svg>\n",
              "      </button>\n",
              "      \n",
              "  <style>\n",
              "    .colab-df-container {\n",
              "      display:flex;\n",
              "      flex-wrap:wrap;\n",
              "      gap: 12px;\n",
              "    }\n",
              "\n",
              "    .colab-df-convert {\n",
              "      background-color: #E8F0FE;\n",
              "      border: none;\n",
              "      border-radius: 50%;\n",
              "      cursor: pointer;\n",
              "      display: none;\n",
              "      fill: #1967D2;\n",
              "      height: 32px;\n",
              "      padding: 0 0 0 0;\n",
              "      width: 32px;\n",
              "    }\n",
              "\n",
              "    .colab-df-convert:hover {\n",
              "      background-color: #E2EBFA;\n",
              "      box-shadow: 0px 1px 2px rgba(60, 64, 67, 0.3), 0px 1px 3px 1px rgba(60, 64, 67, 0.15);\n",
              "      fill: #174EA6;\n",
              "    }\n",
              "\n",
              "    [theme=dark] .colab-df-convert {\n",
              "      background-color: #3B4455;\n",
              "      fill: #D2E3FC;\n",
              "    }\n",
              "\n",
              "    [theme=dark] .colab-df-convert:hover {\n",
              "      background-color: #434B5C;\n",
              "      box-shadow: 0px 1px 3px 1px rgba(0, 0, 0, 0.15);\n",
              "      filter: drop-shadow(0px 1px 2px rgba(0, 0, 0, 0.3));\n",
              "      fill: #FFFFFF;\n",
              "    }\n",
              "  </style>\n",
              "\n",
              "      <script>\n",
              "        const buttonEl =\n",
              "          document.querySelector('#df-f29264cd-55b5-484b-97a6-3ce5697ce5e3 button.colab-df-convert');\n",
              "        buttonEl.style.display =\n",
              "          google.colab.kernel.accessAllowed ? 'block' : 'none';\n",
              "\n",
              "        async function convertToInteractive(key) {\n",
              "          const element = document.querySelector('#df-f29264cd-55b5-484b-97a6-3ce5697ce5e3');\n",
              "          const dataTable =\n",
              "            await google.colab.kernel.invokeFunction('convertToInteractive',\n",
              "                                                     [key], {});\n",
              "          if (!dataTable) return;\n",
              "\n",
              "          const docLinkHtml = 'Like what you see? Visit the ' +\n",
              "            '<a target=\"_blank\" href=https://colab.research.google.com/notebooks/data_table.ipynb>data table notebook</a>'\n",
              "            + ' to learn more about interactive tables.';\n",
              "          element.innerHTML = '';\n",
              "          dataTable['output_type'] = 'display_data';\n",
              "          await google.colab.output.renderOutput(dataTable, element);\n",
              "          const docLink = document.createElement('div');\n",
              "          docLink.innerHTML = docLinkHtml;\n",
              "          element.appendChild(docLink);\n",
              "        }\n",
              "      </script>\n",
              "    </div>\n",
              "  </div>\n",
              "  "
            ]
          },
          "metadata": {},
          "execution_count": 19
        }
      ]
    },
    {
      "cell_type": "markdown",
      "source": [
        "<p>\n",
        "<font color=\"DarkBlue\">\n",
        "\n",
        "> **Como codificarian el mes?...** \n",
        "</font>\n",
        "</p>\n"
      ],
      "metadata": {
        "id": "90nD-wbaictY"
      },
      "id": "90nD-wbaictY"
    },
    {
      "cell_type": "code",
      "source": [
        "analisis.month.unique()"
      ],
      "metadata": {
        "colab": {
          "base_uri": "https://localhost:8080/"
        },
        "id": "CREegZ5PiguU",
        "outputId": "1e75e3c4-d749-49f0-d8d8-eaefb4046fd4"
      },
      "id": "CREegZ5PiguU",
      "execution_count": 20,
      "outputs": [
        {
          "output_type": "execute_result",
          "data": {
            "text/plain": [
              "array(['may', 'jun', 'jul', 'aug', 'oct', 'nov', 'dec', 'jan', 'feb',\n",
              "       'mar', 'apr', 'sep'], dtype=object)"
            ]
          },
          "metadata": {},
          "execution_count": 20
        }
      ]
    },
    {
      "cell_type": "code",
      "source": [
        "def mes(month):\n",
        "  if month == \"jan\":\n",
        "    return int(\"1\")\n",
        "  elif month == \"feb\":\n",
        "    return int(\"2\")\n",
        "  elif month == \"mar\":\n",
        "    return int(\"3\")\n",
        "  elif month == \"apr\":\n",
        "    return int(\"4\")\n",
        "  elif month == \"may\":\n",
        "    return int(\"5\")\n",
        "  elif month == \"jun\":\n",
        "    return int(\"6\")\n",
        "  elif month == \"jul\":\n",
        "    return int(\"7\")\n",
        "  elif month == \"aug\":\n",
        "    return int(\"8\")\n",
        "  elif month == \"sep\":\n",
        "    return int(\"9\")\n",
        "  elif month == \"oct\":\n",
        "    return int(\"10\")\n",
        "  elif month == \"nov\":\n",
        "    return int(\"11\")\n",
        "  else: \n",
        "    return int(\"12\")"
      ],
      "metadata": {
        "id": "KvQv9zgYioGL"
      },
      "id": "KvQv9zgYioGL",
      "execution_count": 21,
      "outputs": []
    },
    {
      "cell_type": "code",
      "source": [
        "analisis.month = analisis.month.apply(mes)"
      ],
      "metadata": {
        "id": "MNz5-0BCitk3"
      },
      "id": "MNz5-0BCitk3",
      "execution_count": 22,
      "outputs": []
    },
    {
      "cell_type": "code",
      "source": [
        "analisis.info()"
      ],
      "metadata": {
        "colab": {
          "base_uri": "https://localhost:8080/"
        },
        "id": "wg7wwCQKixft",
        "outputId": "24b07fc3-84b1-4e2a-bba8-a77d120a53fd"
      },
      "id": "wg7wwCQKixft",
      "execution_count": 23,
      "outputs": [
        {
          "output_type": "stream",
          "name": "stdout",
          "text": [
            "<class 'pandas.core.frame.DataFrame'>\n",
            "Int64Index: 45211 entries, 0 to 45210\n",
            "Data columns (total 17 columns):\n",
            " #   Column     Non-Null Count  Dtype \n",
            "---  ------     --------------  ----- \n",
            " 0   age        45211 non-null  int64 \n",
            " 1   job        45211 non-null  object\n",
            " 2   marital    45211 non-null  object\n",
            " 3   education  45211 non-null  object\n",
            " 4   default    45211 non-null  object\n",
            " 5   balance    45211 non-null  int64 \n",
            " 6   housing    45211 non-null  object\n",
            " 7   loan       45211 non-null  object\n",
            " 8   contact    45211 non-null  object\n",
            " 9   day        45211 non-null  int64 \n",
            " 10  month      45211 non-null  int64 \n",
            " 11  duration   45211 non-null  int64 \n",
            " 12  campaign   45211 non-null  int64 \n",
            " 13  pdays      45211 non-null  int64 \n",
            " 14  previous   45211 non-null  int64 \n",
            " 15  poutcome   45211 non-null  object\n",
            " 16  deposit    45211 non-null  object\n",
            "dtypes: int64(8), object(9)\n",
            "memory usage: 7.2+ MB\n"
          ]
        }
      ]
    },
    {
      "cell_type": "markdown",
      "source": [
        "---\n",
        "<p>\n",
        "<font color=\"RoyalBlue\">\n",
        "\n",
        "💙 💙 💙 **Hemos concluido con esta  actividad, nos encontraremos en el proximo cuaderno...** \n",
        "</font>\n",
        "</p>\n",
        "\n",
        "---"
      ],
      "metadata": {
        "id": "3SWM7WoDltwY"
      },
      "id": "3SWM7WoDltwY"
    },
    {
      "cell_type": "markdown",
      "id": "cc2cb851-466f-40ca-bc0d-3341d7d0553c",
      "metadata": {
        "id": "cc2cb851-466f-40ca-bc0d-3341d7d0553c"
      },
      "source": [
        "# 😀"
      ]
    }
  ],
  "metadata": {
    "kernelspec": {
      "display_name": "Python 3 (ipykernel)",
      "language": "python",
      "name": "python3"
    },
    "language_info": {
      "codemirror_mode": {
        "name": "ipython",
        "version": 3
      },
      "file_extension": ".py",
      "mimetype": "text/x-python",
      "name": "python",
      "nbconvert_exporter": "python",
      "pygments_lexer": "ipython3",
      "version": "3.10.2"
    },
    "toc-autonumbering": false,
    "toc-showmarkdowntxt": false,
    "colab": {
      "provenance": [],
      "collapsed_sections": [
        "87a2fb36-8011-44e0-a07a-19d19d7e7d15"
      ],
      "toc_visible": true,
      "include_colab_link": true
    }
  },
  "nbformat": 4,
  "nbformat_minor": 5
}