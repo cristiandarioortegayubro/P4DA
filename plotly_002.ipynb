{
  "cells": [
    {
      "cell_type": "markdown",
      "metadata": {
        "id": "view-in-github",
        "colab_type": "text"
      },
      "source": [
        "<a href=\"https://colab.research.google.com/github/cristiandarioortegayubro/P4DA/blob/main/plotly_002.ipynb\" target=\"_parent\"><img src=\"https://colab.research.google.com/assets/colab-badge.svg\" alt=\"Open In Colab\"/></a>"
      ]
    },
    {
      "cell_type": "markdown",
      "source": [
        "![](https://github.com/cristiandarioortegayubro/P4DA/blob/main/Logo.png?raw=true)"
      ],
      "metadata": {
        "id": "P0-C2-G_al-v"
      },
      "id": "P0-C2-G_al-v"
    },
    {
      "cell_type": "markdown",
      "id": "8174abb8-eaef-4072-9ce7-eb7a40b222d7",
      "metadata": {
        "id": "8174abb8-eaef-4072-9ce7-eb7a40b222d7"
      },
      "source": [
        "![plotly](https://github.com/cristiandarioortegayubro/BA/blob/main/plotly.png?raw=true)"
      ]
    },
    {
      "cell_type": "markdown",
      "id": "8cbac609-3183-40ac-b3a8-21040364e302",
      "metadata": {
        "id": "8cbac609-3183-40ac-b3a8-21040364e302"
      },
      "source": [
        "\n",
        "[plotly.com/python](https://plotly.com/python/)"
      ]
    },
    {
      "cell_type": "markdown",
      "id": "6f1a825c-2f53-41a5-818b-f9dbc9d9f020",
      "metadata": {
        "id": "6f1a825c-2f53-41a5-818b-f9dbc9d9f020"
      },
      "source": [
        "# **<font color=\"RoyalBlue\">Actualización e instalación de bibliotecas requerida</font>**"
      ]
    },
    {
      "cell_type": "code",
      "execution_count": 1,
      "id": "ce30d18d-2f72-4046-bb35-3404ca063e11",
      "metadata": {
        "colab": {
          "base_uri": "https://localhost:8080/"
        },
        "id": "ce30d18d-2f72-4046-bb35-3404ca063e11",
        "outputId": "f5773e50-8943-4fd1-915c-011c4f47c8d4"
      },
      "outputs": [
        {
          "output_type": "stream",
          "name": "stdout",
          "text": [
            "Looking in indexes: https://pypi.org/simple, https://us-python.pkg.dev/colab-wheels/public/simple/\n",
            "Requirement already satisfied: plotly in /usr/local/lib/python3.8/dist-packages (5.5.0)\n",
            "Collecting plotly\n",
            "  Downloading plotly-5.13.0-py2.py3-none-any.whl (15.2 MB)\n",
            "\u001b[2K     \u001b[90m━━━━━━━━━━━━━━━━━━━━━━━━━━━━━━━━━━━━━━━━\u001b[0m \u001b[32m15.2/15.2 MB\u001b[0m \u001b[31m59.0 MB/s\u001b[0m eta \u001b[36m0:00:00\u001b[0m\n",
            "\u001b[?25hRequirement already satisfied: tenacity>=6.2.0 in /usr/local/lib/python3.8/dist-packages (from plotly) (8.1.0)\n",
            "Installing collected packages: plotly\n",
            "  Attempting uninstall: plotly\n",
            "    Found existing installation: plotly 5.5.0\n",
            "    Uninstalling plotly-5.5.0:\n",
            "      Successfully uninstalled plotly-5.5.0\n",
            "Successfully installed plotly-5.13.0\n"
          ]
        }
      ],
      "source": [
        "!pip install plotly --upgrade "
      ]
    },
    {
      "cell_type": "code",
      "source": [
        "!pip install yfinance "
      ],
      "metadata": {
        "colab": {
          "base_uri": "https://localhost:8080/"
        },
        "id": "GO7jK8VMyMPO",
        "outputId": "26e346e2-d333-494c-ce96-4741e81361dc"
      },
      "id": "GO7jK8VMyMPO",
      "execution_count": 2,
      "outputs": [
        {
          "output_type": "stream",
          "name": "stdout",
          "text": [
            "Looking in indexes: https://pypi.org/simple, https://us-python.pkg.dev/colab-wheels/public/simple/\n",
            "Collecting yfinance\n",
            "  Downloading yfinance-0.2.9-py2.py3-none-any.whl (55 kB)\n",
            "\u001b[2K     \u001b[90m━━━━━━━━━━━━━━━━━━━━━━━━━━━━━━━━━━━━━━━━\u001b[0m \u001b[32m55.9/55.9 KB\u001b[0m \u001b[31m6.4 MB/s\u001b[0m eta \u001b[36m0:00:00\u001b[0m\n",
            "\u001b[?25hRequirement already satisfied: lxml>=4.9.1 in /usr/local/lib/python3.8/dist-packages (from yfinance) (4.9.2)\n",
            "Requirement already satisfied: pytz>=2022.5 in /usr/local/lib/python3.8/dist-packages (from yfinance) (2022.7)\n",
            "Requirement already satisfied: numpy>=1.16.5 in /usr/local/lib/python3.8/dist-packages (from yfinance) (1.21.6)\n",
            "Collecting html5lib>=1.1\n",
            "  Downloading html5lib-1.1-py2.py3-none-any.whl (112 kB)\n",
            "\u001b[2K     \u001b[90m━━━━━━━━━━━━━━━━━━━━━━━━━━━━━━━━━━━━━━\u001b[0m \u001b[32m112.2/112.2 KB\u001b[0m \u001b[31m10.8 MB/s\u001b[0m eta \u001b[36m0:00:00\u001b[0m\n",
            "\u001b[?25hCollecting beautifulsoup4>=4.11.1\n",
            "  Downloading beautifulsoup4-4.11.2-py3-none-any.whl (129 kB)\n",
            "\u001b[2K     \u001b[90m━━━━━━━━━━━━━━━━━━━━━━━━━━━━━━━━━━━━━━\u001b[0m \u001b[32m129.4/129.4 KB\u001b[0m \u001b[31m15.6 MB/s\u001b[0m eta \u001b[36m0:00:00\u001b[0m\n",
            "\u001b[?25hCollecting cryptography>=3.3.2\n",
            "  Downloading cryptography-39.0.0-cp36-abi3-manylinux_2_28_x86_64.whl (4.2 MB)\n",
            "\u001b[2K     \u001b[90m━━━━━━━━━━━━━━━━━━━━━━━━━━━━━━━━━━━━━━━━\u001b[0m \u001b[32m4.2/4.2 MB\u001b[0m \u001b[31m76.2 MB/s\u001b[0m eta \u001b[36m0:00:00\u001b[0m\n",
            "\u001b[?25hRequirement already satisfied: pandas>=1.3.0 in /usr/local/lib/python3.8/dist-packages (from yfinance) (1.3.5)\n",
            "Requirement already satisfied: appdirs>=1.4.4 in /usr/local/lib/python3.8/dist-packages (from yfinance) (1.4.4)\n",
            "Collecting requests>=2.26\n",
            "  Downloading requests-2.28.2-py3-none-any.whl (62 kB)\n",
            "\u001b[2K     \u001b[90m━━━━━━━━━━━━━━━━━━━━━━━━━━━━━━━━━━━━━━━━\u001b[0m \u001b[32m62.8/62.8 KB\u001b[0m \u001b[31m3.8 MB/s\u001b[0m eta \u001b[36m0:00:00\u001b[0m\n",
            "\u001b[?25hCollecting frozendict>=2.3.4\n",
            "  Downloading frozendict-2.3.4-cp38-cp38-manylinux_2_17_x86_64.manylinux2014_x86_64.whl (110 kB)\n",
            "\u001b[2K     \u001b[90m━━━━━━━━━━━━━━━━━━━━━━━━━━━━━━━━━━━━━━\u001b[0m \u001b[32m111.0/111.0 KB\u001b[0m \u001b[31m14.2 MB/s\u001b[0m eta \u001b[36m0:00:00\u001b[0m\n",
            "\u001b[?25hRequirement already satisfied: multitasking>=0.0.7 in /usr/local/lib/python3.8/dist-packages (from yfinance) (0.0.11)\n",
            "Collecting soupsieve>1.2\n",
            "  Downloading soupsieve-2.3.2.post1-py3-none-any.whl (37 kB)\n",
            "Requirement already satisfied: cffi>=1.12 in /usr/local/lib/python3.8/dist-packages (from cryptography>=3.3.2->yfinance) (1.15.1)\n",
            "Requirement already satisfied: six>=1.9 in /usr/local/lib/python3.8/dist-packages (from html5lib>=1.1->yfinance) (1.15.0)\n",
            "Requirement already satisfied: webencodings in /usr/local/lib/python3.8/dist-packages (from html5lib>=1.1->yfinance) (0.5.1)\n",
            "Requirement already satisfied: python-dateutil>=2.7.3 in /usr/local/lib/python3.8/dist-packages (from pandas>=1.3.0->yfinance) (2.8.2)\n",
            "Requirement already satisfied: charset-normalizer<4,>=2 in /usr/local/lib/python3.8/dist-packages (from requests>=2.26->yfinance) (2.1.1)\n",
            "Requirement already satisfied: urllib3<1.27,>=1.21.1 in /usr/local/lib/python3.8/dist-packages (from requests>=2.26->yfinance) (1.24.3)\n",
            "Requirement already satisfied: certifi>=2017.4.17 in /usr/local/lib/python3.8/dist-packages (from requests>=2.26->yfinance) (2022.12.7)\n",
            "Requirement already satisfied: idna<4,>=2.5 in /usr/local/lib/python3.8/dist-packages (from requests>=2.26->yfinance) (2.10)\n",
            "Requirement already satisfied: pycparser in /usr/local/lib/python3.8/dist-packages (from cffi>=1.12->cryptography>=3.3.2->yfinance) (2.21)\n",
            "Installing collected packages: soupsieve, requests, html5lib, frozendict, cryptography, beautifulsoup4, yfinance\n",
            "  Attempting uninstall: requests\n",
            "    Found existing installation: requests 2.25.1\n",
            "    Uninstalling requests-2.25.1:\n",
            "      Successfully uninstalled requests-2.25.1\n",
            "  Attempting uninstall: html5lib\n",
            "    Found existing installation: html5lib 1.0.1\n",
            "    Uninstalling html5lib-1.0.1:\n",
            "      Successfully uninstalled html5lib-1.0.1\n",
            "  Attempting uninstall: beautifulsoup4\n",
            "    Found existing installation: beautifulsoup4 4.6.3\n",
            "    Uninstalling beautifulsoup4-4.6.3:\n",
            "      Successfully uninstalled beautifulsoup4-4.6.3\n",
            "Successfully installed beautifulsoup4-4.11.2 cryptography-39.0.0 frozendict-2.3.4 html5lib-1.1 requests-2.28.2 soupsieve-2.3.2.post1 yfinance-0.2.9\n"
          ]
        }
      ]
    },
    {
      "cell_type": "markdown",
      "id": "d88f6875-6927-4c21-b911-1e7121f0f28e",
      "metadata": {
        "id": "d88f6875-6927-4c21-b911-1e7121f0f28e"
      },
      "source": [
        "[Plotly JupyterLab](https://plotly.com/python/getting-started/#jupyterlab-support)"
      ]
    },
    {
      "cell_type": "markdown",
      "id": "bf0bff14-3cec-4651-b58f-fbf2478545d8",
      "metadata": {
        "tags": [],
        "id": "bf0bff14-3cec-4651-b58f-fbf2478545d8"
      },
      "source": [
        "# <font color=\"RoyalBlue\">**Habilitando bibliotecas requeridas**</font>"
      ]
    },
    {
      "cell_type": "markdown",
      "id": "7d63b745-559f-40ab-a80c-8d81e436337b",
      "metadata": {
        "id": "7d63b745-559f-40ab-a80c-8d81e436337b"
      },
      "source": [
        "## **<font color=\"RoyalBlue\">Para análisis de datos</font>**"
      ]
    },
    {
      "cell_type": "code",
      "execution_count": 3,
      "id": "a858daa9-7ed1-4584-b26c-7c66b4ffbf3a",
      "metadata": {
        "id": "a858daa9-7ed1-4584-b26c-7c66b4ffbf3a"
      },
      "outputs": [],
      "source": [
        "import pandas as pd\n"
      ]
    },
    {
      "cell_type": "markdown",
      "id": "421b733e-b8c1-4f81-9190-35b5f1e8b53c",
      "metadata": {
        "id": "421b733e-b8c1-4f81-9190-35b5f1e8b53c"
      },
      "source": [
        "## **<font color=\"RoyalBlue\">Para acceso remoto de datos</font>**\n"
      ]
    },
    {
      "cell_type": "code",
      "execution_count": 4,
      "id": "8394ac14-0dd2-485b-8105-6809353b11da",
      "metadata": {
        "id": "8394ac14-0dd2-485b-8105-6809353b11da"
      },
      "outputs": [],
      "source": [
        "import yfinance as yf "
      ]
    },
    {
      "cell_type": "markdown",
      "id": "2255566c-5fa2-49c8-815f-67a90f904c91",
      "metadata": {
        "id": "2255566c-5fa2-49c8-815f-67a90f904c91"
      },
      "source": [
        "## **<font color=\"RoyalBlue\">Biblioteca gráfica</font>**"
      ]
    },
    {
      "cell_type": "code",
      "execution_count": 5,
      "id": "a540c506-ed88-4e2c-9c04-38b89aee5b07",
      "metadata": {
        "id": "a540c506-ed88-4e2c-9c04-38b89aee5b07"
      },
      "outputs": [],
      "source": [
        "import plotly.express as px\n",
        "import plotly.graph_objects as go"
      ]
    },
    {
      "cell_type": "markdown",
      "id": "318be14c-aebc-4b96-a587-9f85d7c45348",
      "metadata": {
        "id": "318be14c-aebc-4b96-a587-9f85d7c45348"
      },
      "source": [
        "# **<font color=\"RoyalBlue\">Obtención de datos**"
      ]
    },
    {
      "cell_type": "code",
      "execution_count": 6,
      "id": "5901a106-4024-4f69-a9b0-bfa933ebe01e",
      "metadata": {
        "id": "5901a106-4024-4f69-a9b0-bfa933ebe01e",
        "colab": {
          "base_uri": "https://localhost:8080/"
        },
        "outputId": "8c38662f-8d2c-4ffb-bd8d-8df9aeeacf7e"
      },
      "outputs": [
        {
          "output_type": "stream",
          "name": "stdout",
          "text": [
            "\r[*********************100%***********************]  1 of 1 completed\n"
          ]
        }
      ],
      "source": [
        "SOL = yf.download(\"SOL-USD\", start=\"2023-01-01\").round(2)"
      ]
    },
    {
      "cell_type": "code",
      "source": [
        "AVAX = yf.download(\"AVAX-USD\", start=\"2023-01-01\").round(2)"
      ],
      "metadata": {
        "colab": {
          "base_uri": "https://localhost:8080/"
        },
        "id": "dROKpuOW2ARv",
        "outputId": "a2a88c7a-c0f0-43a1-f58c-322c670f44d0"
      },
      "id": "dROKpuOW2ARv",
      "execution_count": 7,
      "outputs": [
        {
          "output_type": "stream",
          "name": "stdout",
          "text": [
            "\r[*********************100%***********************]  1 of 1 completed\n"
          ]
        }
      ]
    },
    {
      "cell_type": "code",
      "source": [
        "SOL[\"Name\"] = \"SOL\"\n",
        "AVAX[\"Name\"] = \"AVAX\"\n",
        "CRIPTO = pd.concat([SOL, AVAX])"
      ],
      "metadata": {
        "id": "XtJ-uSFQ2Hx7"
      },
      "id": "XtJ-uSFQ2Hx7",
      "execution_count": 8,
      "outputs": []
    },
    {
      "cell_type": "code",
      "source": [
        "LISTA = [\"SOL-USD\", \"AVAX-USD\"]\n",
        "ACCIONES = yf.download(LISTA, start=\"2023-01-01\").round(2)"
      ],
      "metadata": {
        "colab": {
          "base_uri": "https://localhost:8080/"
        },
        "id": "nK2RtvJl0UZq",
        "outputId": "0fd3b588-6d5f-42ac-ca8d-6c41fe359dad"
      },
      "id": "nK2RtvJl0UZq",
      "execution_count": 9,
      "outputs": [
        {
          "output_type": "stream",
          "name": "stdout",
          "text": [
            "[*********************100%***********************]  2 of 2 completed\n"
          ]
        }
      ]
    },
    {
      "cell_type": "code",
      "source": [
        "SOL.head()"
      ],
      "metadata": {
        "colab": {
          "base_uri": "https://localhost:8080/",
          "height": 237
        },
        "id": "GvNuqxww365F",
        "outputId": "551b3b62-be6c-4d01-e9c8-11b580ee51ca"
      },
      "id": "GvNuqxww365F",
      "execution_count": 10,
      "outputs": [
        {
          "output_type": "execute_result",
          "data": {
            "text/plain": [
              "                            Open   High    Low  Close  Adj Close      Volume  \\\n",
              "Date                                                                           \n",
              "2023-01-01 00:00:00+00:00   9.96  10.05   9.72   9.98       9.98   194221164   \n",
              "2023-01-02 00:00:00+00:00   9.98  11.37   9.85  11.27      11.27   558570124   \n",
              "2023-01-03 00:00:00+00:00  11.27  13.50  11.05  13.34      13.34  1149255381   \n",
              "2023-01-04 00:00:00+00:00  13.35  14.10  12.92  13.44      13.44  1142852070   \n",
              "2023-01-05 00:00:00+00:00  13.43  13.77  12.99  13.42      13.42   564255825   \n",
              "\n",
              "                          Name  \n",
              "Date                            \n",
              "2023-01-01 00:00:00+00:00  SOL  \n",
              "2023-01-02 00:00:00+00:00  SOL  \n",
              "2023-01-03 00:00:00+00:00  SOL  \n",
              "2023-01-04 00:00:00+00:00  SOL  \n",
              "2023-01-05 00:00:00+00:00  SOL  "
            ],
            "text/html": [
              "\n",
              "  <div id=\"df-4ddfab0d-8b71-4d13-8bdd-4fd0e4c13e65\">\n",
              "    <div class=\"colab-df-container\">\n",
              "      <div>\n",
              "<style scoped>\n",
              "    .dataframe tbody tr th:only-of-type {\n",
              "        vertical-align: middle;\n",
              "    }\n",
              "\n",
              "    .dataframe tbody tr th {\n",
              "        vertical-align: top;\n",
              "    }\n",
              "\n",
              "    .dataframe thead th {\n",
              "        text-align: right;\n",
              "    }\n",
              "</style>\n",
              "<table border=\"1\" class=\"dataframe\">\n",
              "  <thead>\n",
              "    <tr style=\"text-align: right;\">\n",
              "      <th></th>\n",
              "      <th>Open</th>\n",
              "      <th>High</th>\n",
              "      <th>Low</th>\n",
              "      <th>Close</th>\n",
              "      <th>Adj Close</th>\n",
              "      <th>Volume</th>\n",
              "      <th>Name</th>\n",
              "    </tr>\n",
              "    <tr>\n",
              "      <th>Date</th>\n",
              "      <th></th>\n",
              "      <th></th>\n",
              "      <th></th>\n",
              "      <th></th>\n",
              "      <th></th>\n",
              "      <th></th>\n",
              "      <th></th>\n",
              "    </tr>\n",
              "  </thead>\n",
              "  <tbody>\n",
              "    <tr>\n",
              "      <th>2023-01-01 00:00:00+00:00</th>\n",
              "      <td>9.96</td>\n",
              "      <td>10.05</td>\n",
              "      <td>9.72</td>\n",
              "      <td>9.98</td>\n",
              "      <td>9.98</td>\n",
              "      <td>194221164</td>\n",
              "      <td>SOL</td>\n",
              "    </tr>\n",
              "    <tr>\n",
              "      <th>2023-01-02 00:00:00+00:00</th>\n",
              "      <td>9.98</td>\n",
              "      <td>11.37</td>\n",
              "      <td>9.85</td>\n",
              "      <td>11.27</td>\n",
              "      <td>11.27</td>\n",
              "      <td>558570124</td>\n",
              "      <td>SOL</td>\n",
              "    </tr>\n",
              "    <tr>\n",
              "      <th>2023-01-03 00:00:00+00:00</th>\n",
              "      <td>11.27</td>\n",
              "      <td>13.50</td>\n",
              "      <td>11.05</td>\n",
              "      <td>13.34</td>\n",
              "      <td>13.34</td>\n",
              "      <td>1149255381</td>\n",
              "      <td>SOL</td>\n",
              "    </tr>\n",
              "    <tr>\n",
              "      <th>2023-01-04 00:00:00+00:00</th>\n",
              "      <td>13.35</td>\n",
              "      <td>14.10</td>\n",
              "      <td>12.92</td>\n",
              "      <td>13.44</td>\n",
              "      <td>13.44</td>\n",
              "      <td>1142852070</td>\n",
              "      <td>SOL</td>\n",
              "    </tr>\n",
              "    <tr>\n",
              "      <th>2023-01-05 00:00:00+00:00</th>\n",
              "      <td>13.43</td>\n",
              "      <td>13.77</td>\n",
              "      <td>12.99</td>\n",
              "      <td>13.42</td>\n",
              "      <td>13.42</td>\n",
              "      <td>564255825</td>\n",
              "      <td>SOL</td>\n",
              "    </tr>\n",
              "  </tbody>\n",
              "</table>\n",
              "</div>\n",
              "      <button class=\"colab-df-convert\" onclick=\"convertToInteractive('df-4ddfab0d-8b71-4d13-8bdd-4fd0e4c13e65')\"\n",
              "              title=\"Convert this dataframe to an interactive table.\"\n",
              "              style=\"display:none;\">\n",
              "        \n",
              "  <svg xmlns=\"http://www.w3.org/2000/svg\" height=\"24px\"viewBox=\"0 0 24 24\"\n",
              "       width=\"24px\">\n",
              "    <path d=\"M0 0h24v24H0V0z\" fill=\"none\"/>\n",
              "    <path d=\"M18.56 5.44l.94 2.06.94-2.06 2.06-.94-2.06-.94-.94-2.06-.94 2.06-2.06.94zm-11 1L8.5 8.5l.94-2.06 2.06-.94-2.06-.94L8.5 2.5l-.94 2.06-2.06.94zm10 10l.94 2.06.94-2.06 2.06-.94-2.06-.94-.94-2.06-.94 2.06-2.06.94z\"/><path d=\"M17.41 7.96l-1.37-1.37c-.4-.4-.92-.59-1.43-.59-.52 0-1.04.2-1.43.59L10.3 9.45l-7.72 7.72c-.78.78-.78 2.05 0 2.83L4 21.41c.39.39.9.59 1.41.59.51 0 1.02-.2 1.41-.59l7.78-7.78 2.81-2.81c.8-.78.8-2.07 0-2.86zM5.41 20L4 18.59l7.72-7.72 1.47 1.35L5.41 20z\"/>\n",
              "  </svg>\n",
              "      </button>\n",
              "      \n",
              "  <style>\n",
              "    .colab-df-container {\n",
              "      display:flex;\n",
              "      flex-wrap:wrap;\n",
              "      gap: 12px;\n",
              "    }\n",
              "\n",
              "    .colab-df-convert {\n",
              "      background-color: #E8F0FE;\n",
              "      border: none;\n",
              "      border-radius: 50%;\n",
              "      cursor: pointer;\n",
              "      display: none;\n",
              "      fill: #1967D2;\n",
              "      height: 32px;\n",
              "      padding: 0 0 0 0;\n",
              "      width: 32px;\n",
              "    }\n",
              "\n",
              "    .colab-df-convert:hover {\n",
              "      background-color: #E2EBFA;\n",
              "      box-shadow: 0px 1px 2px rgba(60, 64, 67, 0.3), 0px 1px 3px 1px rgba(60, 64, 67, 0.15);\n",
              "      fill: #174EA6;\n",
              "    }\n",
              "\n",
              "    [theme=dark] .colab-df-convert {\n",
              "      background-color: #3B4455;\n",
              "      fill: #D2E3FC;\n",
              "    }\n",
              "\n",
              "    [theme=dark] .colab-df-convert:hover {\n",
              "      background-color: #434B5C;\n",
              "      box-shadow: 0px 1px 3px 1px rgba(0, 0, 0, 0.15);\n",
              "      filter: drop-shadow(0px 1px 2px rgba(0, 0, 0, 0.3));\n",
              "      fill: #FFFFFF;\n",
              "    }\n",
              "  </style>\n",
              "\n",
              "      <script>\n",
              "        const buttonEl =\n",
              "          document.querySelector('#df-4ddfab0d-8b71-4d13-8bdd-4fd0e4c13e65 button.colab-df-convert');\n",
              "        buttonEl.style.display =\n",
              "          google.colab.kernel.accessAllowed ? 'block' : 'none';\n",
              "\n",
              "        async function convertToInteractive(key) {\n",
              "          const element = document.querySelector('#df-4ddfab0d-8b71-4d13-8bdd-4fd0e4c13e65');\n",
              "          const dataTable =\n",
              "            await google.colab.kernel.invokeFunction('convertToInteractive',\n",
              "                                                     [key], {});\n",
              "          if (!dataTable) return;\n",
              "\n",
              "          const docLinkHtml = 'Like what you see? Visit the ' +\n",
              "            '<a target=\"_blank\" href=https://colab.research.google.com/notebooks/data_table.ipynb>data table notebook</a>'\n",
              "            + ' to learn more about interactive tables.';\n",
              "          element.innerHTML = '';\n",
              "          dataTable['output_type'] = 'display_data';\n",
              "          await google.colab.output.renderOutput(dataTable, element);\n",
              "          const docLink = document.createElement('div');\n",
              "          docLink.innerHTML = docLinkHtml;\n",
              "          element.appendChild(docLink);\n",
              "        }\n",
              "      </script>\n",
              "    </div>\n",
              "  </div>\n",
              "  "
            ]
          },
          "metadata": {},
          "execution_count": 10
        }
      ]
    },
    {
      "cell_type": "code",
      "source": [
        "AVAX.head()"
      ],
      "metadata": {
        "colab": {
          "base_uri": "https://localhost:8080/",
          "height": 237
        },
        "id": "M9yKnuOI4CB2",
        "outputId": "f0d317d6-bb48-4143-881b-2a49ed8f7895"
      },
      "id": "M9yKnuOI4CB2",
      "execution_count": 11,
      "outputs": [
        {
          "output_type": "execute_result",
          "data": {
            "text/plain": [
              "                            Open   High    Low  Close  Adj Close     Volume  \\\n",
              "Date                                                                          \n",
              "2023-01-01 00:00:00+00:00  10.90  10.93  10.67  10.87      10.87   95741904   \n",
              "2023-01-02 00:00:00+00:00  10.87  11.23  10.74  11.15      11.15  128530323   \n",
              "2023-01-03 00:00:00+00:00  11.15  11.53  11.09  11.38      11.38  165410541   \n",
              "2023-01-04 00:00:00+00:00  11.38  12.27  11.36  12.08      12.08  203700017   \n",
              "2023-01-05 00:00:00+00:00  12.08  12.15  11.72  11.74      11.74  148011463   \n",
              "\n",
              "                           Name  \n",
              "Date                             \n",
              "2023-01-01 00:00:00+00:00  AVAX  \n",
              "2023-01-02 00:00:00+00:00  AVAX  \n",
              "2023-01-03 00:00:00+00:00  AVAX  \n",
              "2023-01-04 00:00:00+00:00  AVAX  \n",
              "2023-01-05 00:00:00+00:00  AVAX  "
            ],
            "text/html": [
              "\n",
              "  <div id=\"df-b0e22822-8c12-4c11-a871-7a8a4f51b008\">\n",
              "    <div class=\"colab-df-container\">\n",
              "      <div>\n",
              "<style scoped>\n",
              "    .dataframe tbody tr th:only-of-type {\n",
              "        vertical-align: middle;\n",
              "    }\n",
              "\n",
              "    .dataframe tbody tr th {\n",
              "        vertical-align: top;\n",
              "    }\n",
              "\n",
              "    .dataframe thead th {\n",
              "        text-align: right;\n",
              "    }\n",
              "</style>\n",
              "<table border=\"1\" class=\"dataframe\">\n",
              "  <thead>\n",
              "    <tr style=\"text-align: right;\">\n",
              "      <th></th>\n",
              "      <th>Open</th>\n",
              "      <th>High</th>\n",
              "      <th>Low</th>\n",
              "      <th>Close</th>\n",
              "      <th>Adj Close</th>\n",
              "      <th>Volume</th>\n",
              "      <th>Name</th>\n",
              "    </tr>\n",
              "    <tr>\n",
              "      <th>Date</th>\n",
              "      <th></th>\n",
              "      <th></th>\n",
              "      <th></th>\n",
              "      <th></th>\n",
              "      <th></th>\n",
              "      <th></th>\n",
              "      <th></th>\n",
              "    </tr>\n",
              "  </thead>\n",
              "  <tbody>\n",
              "    <tr>\n",
              "      <th>2023-01-01 00:00:00+00:00</th>\n",
              "      <td>10.90</td>\n",
              "      <td>10.93</td>\n",
              "      <td>10.67</td>\n",
              "      <td>10.87</td>\n",
              "      <td>10.87</td>\n",
              "      <td>95741904</td>\n",
              "      <td>AVAX</td>\n",
              "    </tr>\n",
              "    <tr>\n",
              "      <th>2023-01-02 00:00:00+00:00</th>\n",
              "      <td>10.87</td>\n",
              "      <td>11.23</td>\n",
              "      <td>10.74</td>\n",
              "      <td>11.15</td>\n",
              "      <td>11.15</td>\n",
              "      <td>128530323</td>\n",
              "      <td>AVAX</td>\n",
              "    </tr>\n",
              "    <tr>\n",
              "      <th>2023-01-03 00:00:00+00:00</th>\n",
              "      <td>11.15</td>\n",
              "      <td>11.53</td>\n",
              "      <td>11.09</td>\n",
              "      <td>11.38</td>\n",
              "      <td>11.38</td>\n",
              "      <td>165410541</td>\n",
              "      <td>AVAX</td>\n",
              "    </tr>\n",
              "    <tr>\n",
              "      <th>2023-01-04 00:00:00+00:00</th>\n",
              "      <td>11.38</td>\n",
              "      <td>12.27</td>\n",
              "      <td>11.36</td>\n",
              "      <td>12.08</td>\n",
              "      <td>12.08</td>\n",
              "      <td>203700017</td>\n",
              "      <td>AVAX</td>\n",
              "    </tr>\n",
              "    <tr>\n",
              "      <th>2023-01-05 00:00:00+00:00</th>\n",
              "      <td>12.08</td>\n",
              "      <td>12.15</td>\n",
              "      <td>11.72</td>\n",
              "      <td>11.74</td>\n",
              "      <td>11.74</td>\n",
              "      <td>148011463</td>\n",
              "      <td>AVAX</td>\n",
              "    </tr>\n",
              "  </tbody>\n",
              "</table>\n",
              "</div>\n",
              "      <button class=\"colab-df-convert\" onclick=\"convertToInteractive('df-b0e22822-8c12-4c11-a871-7a8a4f51b008')\"\n",
              "              title=\"Convert this dataframe to an interactive table.\"\n",
              "              style=\"display:none;\">\n",
              "        \n",
              "  <svg xmlns=\"http://www.w3.org/2000/svg\" height=\"24px\"viewBox=\"0 0 24 24\"\n",
              "       width=\"24px\">\n",
              "    <path d=\"M0 0h24v24H0V0z\" fill=\"none\"/>\n",
              "    <path d=\"M18.56 5.44l.94 2.06.94-2.06 2.06-.94-2.06-.94-.94-2.06-.94 2.06-2.06.94zm-11 1L8.5 8.5l.94-2.06 2.06-.94-2.06-.94L8.5 2.5l-.94 2.06-2.06.94zm10 10l.94 2.06.94-2.06 2.06-.94-2.06-.94-.94-2.06-.94 2.06-2.06.94z\"/><path d=\"M17.41 7.96l-1.37-1.37c-.4-.4-.92-.59-1.43-.59-.52 0-1.04.2-1.43.59L10.3 9.45l-7.72 7.72c-.78.78-.78 2.05 0 2.83L4 21.41c.39.39.9.59 1.41.59.51 0 1.02-.2 1.41-.59l7.78-7.78 2.81-2.81c.8-.78.8-2.07 0-2.86zM5.41 20L4 18.59l7.72-7.72 1.47 1.35L5.41 20z\"/>\n",
              "  </svg>\n",
              "      </button>\n",
              "      \n",
              "  <style>\n",
              "    .colab-df-container {\n",
              "      display:flex;\n",
              "      flex-wrap:wrap;\n",
              "      gap: 12px;\n",
              "    }\n",
              "\n",
              "    .colab-df-convert {\n",
              "      background-color: #E8F0FE;\n",
              "      border: none;\n",
              "      border-radius: 50%;\n",
              "      cursor: pointer;\n",
              "      display: none;\n",
              "      fill: #1967D2;\n",
              "      height: 32px;\n",
              "      padding: 0 0 0 0;\n",
              "      width: 32px;\n",
              "    }\n",
              "\n",
              "    .colab-df-convert:hover {\n",
              "      background-color: #E2EBFA;\n",
              "      box-shadow: 0px 1px 2px rgba(60, 64, 67, 0.3), 0px 1px 3px 1px rgba(60, 64, 67, 0.15);\n",
              "      fill: #174EA6;\n",
              "    }\n",
              "\n",
              "    [theme=dark] .colab-df-convert {\n",
              "      background-color: #3B4455;\n",
              "      fill: #D2E3FC;\n",
              "    }\n",
              "\n",
              "    [theme=dark] .colab-df-convert:hover {\n",
              "      background-color: #434B5C;\n",
              "      box-shadow: 0px 1px 3px 1px rgba(0, 0, 0, 0.15);\n",
              "      filter: drop-shadow(0px 1px 2px rgba(0, 0, 0, 0.3));\n",
              "      fill: #FFFFFF;\n",
              "    }\n",
              "  </style>\n",
              "\n",
              "      <script>\n",
              "        const buttonEl =\n",
              "          document.querySelector('#df-b0e22822-8c12-4c11-a871-7a8a4f51b008 button.colab-df-convert');\n",
              "        buttonEl.style.display =\n",
              "          google.colab.kernel.accessAllowed ? 'block' : 'none';\n",
              "\n",
              "        async function convertToInteractive(key) {\n",
              "          const element = document.querySelector('#df-b0e22822-8c12-4c11-a871-7a8a4f51b008');\n",
              "          const dataTable =\n",
              "            await google.colab.kernel.invokeFunction('convertToInteractive',\n",
              "                                                     [key], {});\n",
              "          if (!dataTable) return;\n",
              "\n",
              "          const docLinkHtml = 'Like what you see? Visit the ' +\n",
              "            '<a target=\"_blank\" href=https://colab.research.google.com/notebooks/data_table.ipynb>data table notebook</a>'\n",
              "            + ' to learn more about interactive tables.';\n",
              "          element.innerHTML = '';\n",
              "          dataTable['output_type'] = 'display_data';\n",
              "          await google.colab.output.renderOutput(dataTable, element);\n",
              "          const docLink = document.createElement('div');\n",
              "          docLink.innerHTML = docLinkHtml;\n",
              "          element.appendChild(docLink);\n",
              "        }\n",
              "      </script>\n",
              "    </div>\n",
              "  </div>\n",
              "  "
            ]
          },
          "metadata": {},
          "execution_count": 11
        }
      ]
    },
    {
      "cell_type": "code",
      "source": [
        "CRIPTO.head()"
      ],
      "metadata": {
        "colab": {
          "base_uri": "https://localhost:8080/",
          "height": 237
        },
        "id": "i8FQXxQz4FYY",
        "outputId": "341abf47-27fc-4ce7-8ceb-6c9ac428a63d"
      },
      "id": "i8FQXxQz4FYY",
      "execution_count": 12,
      "outputs": [
        {
          "output_type": "execute_result",
          "data": {
            "text/plain": [
              "                            Open   High    Low  Close  Adj Close      Volume  \\\n",
              "Date                                                                           \n",
              "2023-01-01 00:00:00+00:00   9.96  10.05   9.72   9.98       9.98   194221164   \n",
              "2023-01-02 00:00:00+00:00   9.98  11.37   9.85  11.27      11.27   558570124   \n",
              "2023-01-03 00:00:00+00:00  11.27  13.50  11.05  13.34      13.34  1149255381   \n",
              "2023-01-04 00:00:00+00:00  13.35  14.10  12.92  13.44      13.44  1142852070   \n",
              "2023-01-05 00:00:00+00:00  13.43  13.77  12.99  13.42      13.42   564255825   \n",
              "\n",
              "                          Name  \n",
              "Date                            \n",
              "2023-01-01 00:00:00+00:00  SOL  \n",
              "2023-01-02 00:00:00+00:00  SOL  \n",
              "2023-01-03 00:00:00+00:00  SOL  \n",
              "2023-01-04 00:00:00+00:00  SOL  \n",
              "2023-01-05 00:00:00+00:00  SOL  "
            ],
            "text/html": [
              "\n",
              "  <div id=\"df-90358b07-c7ee-49db-832f-b10ff092a4c6\">\n",
              "    <div class=\"colab-df-container\">\n",
              "      <div>\n",
              "<style scoped>\n",
              "    .dataframe tbody tr th:only-of-type {\n",
              "        vertical-align: middle;\n",
              "    }\n",
              "\n",
              "    .dataframe tbody tr th {\n",
              "        vertical-align: top;\n",
              "    }\n",
              "\n",
              "    .dataframe thead th {\n",
              "        text-align: right;\n",
              "    }\n",
              "</style>\n",
              "<table border=\"1\" class=\"dataframe\">\n",
              "  <thead>\n",
              "    <tr style=\"text-align: right;\">\n",
              "      <th></th>\n",
              "      <th>Open</th>\n",
              "      <th>High</th>\n",
              "      <th>Low</th>\n",
              "      <th>Close</th>\n",
              "      <th>Adj Close</th>\n",
              "      <th>Volume</th>\n",
              "      <th>Name</th>\n",
              "    </tr>\n",
              "    <tr>\n",
              "      <th>Date</th>\n",
              "      <th></th>\n",
              "      <th></th>\n",
              "      <th></th>\n",
              "      <th></th>\n",
              "      <th></th>\n",
              "      <th></th>\n",
              "      <th></th>\n",
              "    </tr>\n",
              "  </thead>\n",
              "  <tbody>\n",
              "    <tr>\n",
              "      <th>2023-01-01 00:00:00+00:00</th>\n",
              "      <td>9.96</td>\n",
              "      <td>10.05</td>\n",
              "      <td>9.72</td>\n",
              "      <td>9.98</td>\n",
              "      <td>9.98</td>\n",
              "      <td>194221164</td>\n",
              "      <td>SOL</td>\n",
              "    </tr>\n",
              "    <tr>\n",
              "      <th>2023-01-02 00:00:00+00:00</th>\n",
              "      <td>9.98</td>\n",
              "      <td>11.37</td>\n",
              "      <td>9.85</td>\n",
              "      <td>11.27</td>\n",
              "      <td>11.27</td>\n",
              "      <td>558570124</td>\n",
              "      <td>SOL</td>\n",
              "    </tr>\n",
              "    <tr>\n",
              "      <th>2023-01-03 00:00:00+00:00</th>\n",
              "      <td>11.27</td>\n",
              "      <td>13.50</td>\n",
              "      <td>11.05</td>\n",
              "      <td>13.34</td>\n",
              "      <td>13.34</td>\n",
              "      <td>1149255381</td>\n",
              "      <td>SOL</td>\n",
              "    </tr>\n",
              "    <tr>\n",
              "      <th>2023-01-04 00:00:00+00:00</th>\n",
              "      <td>13.35</td>\n",
              "      <td>14.10</td>\n",
              "      <td>12.92</td>\n",
              "      <td>13.44</td>\n",
              "      <td>13.44</td>\n",
              "      <td>1142852070</td>\n",
              "      <td>SOL</td>\n",
              "    </tr>\n",
              "    <tr>\n",
              "      <th>2023-01-05 00:00:00+00:00</th>\n",
              "      <td>13.43</td>\n",
              "      <td>13.77</td>\n",
              "      <td>12.99</td>\n",
              "      <td>13.42</td>\n",
              "      <td>13.42</td>\n",
              "      <td>564255825</td>\n",
              "      <td>SOL</td>\n",
              "    </tr>\n",
              "  </tbody>\n",
              "</table>\n",
              "</div>\n",
              "      <button class=\"colab-df-convert\" onclick=\"convertToInteractive('df-90358b07-c7ee-49db-832f-b10ff092a4c6')\"\n",
              "              title=\"Convert this dataframe to an interactive table.\"\n",
              "              style=\"display:none;\">\n",
              "        \n",
              "  <svg xmlns=\"http://www.w3.org/2000/svg\" height=\"24px\"viewBox=\"0 0 24 24\"\n",
              "       width=\"24px\">\n",
              "    <path d=\"M0 0h24v24H0V0z\" fill=\"none\"/>\n",
              "    <path d=\"M18.56 5.44l.94 2.06.94-2.06 2.06-.94-2.06-.94-.94-2.06-.94 2.06-2.06.94zm-11 1L8.5 8.5l.94-2.06 2.06-.94-2.06-.94L8.5 2.5l-.94 2.06-2.06.94zm10 10l.94 2.06.94-2.06 2.06-.94-2.06-.94-.94-2.06-.94 2.06-2.06.94z\"/><path d=\"M17.41 7.96l-1.37-1.37c-.4-.4-.92-.59-1.43-.59-.52 0-1.04.2-1.43.59L10.3 9.45l-7.72 7.72c-.78.78-.78 2.05 0 2.83L4 21.41c.39.39.9.59 1.41.59.51 0 1.02-.2 1.41-.59l7.78-7.78 2.81-2.81c.8-.78.8-2.07 0-2.86zM5.41 20L4 18.59l7.72-7.72 1.47 1.35L5.41 20z\"/>\n",
              "  </svg>\n",
              "      </button>\n",
              "      \n",
              "  <style>\n",
              "    .colab-df-container {\n",
              "      display:flex;\n",
              "      flex-wrap:wrap;\n",
              "      gap: 12px;\n",
              "    }\n",
              "\n",
              "    .colab-df-convert {\n",
              "      background-color: #E8F0FE;\n",
              "      border: none;\n",
              "      border-radius: 50%;\n",
              "      cursor: pointer;\n",
              "      display: none;\n",
              "      fill: #1967D2;\n",
              "      height: 32px;\n",
              "      padding: 0 0 0 0;\n",
              "      width: 32px;\n",
              "    }\n",
              "\n",
              "    .colab-df-convert:hover {\n",
              "      background-color: #E2EBFA;\n",
              "      box-shadow: 0px 1px 2px rgba(60, 64, 67, 0.3), 0px 1px 3px 1px rgba(60, 64, 67, 0.15);\n",
              "      fill: #174EA6;\n",
              "    }\n",
              "\n",
              "    [theme=dark] .colab-df-convert {\n",
              "      background-color: #3B4455;\n",
              "      fill: #D2E3FC;\n",
              "    }\n",
              "\n",
              "    [theme=dark] .colab-df-convert:hover {\n",
              "      background-color: #434B5C;\n",
              "      box-shadow: 0px 1px 3px 1px rgba(0, 0, 0, 0.15);\n",
              "      filter: drop-shadow(0px 1px 2px rgba(0, 0, 0, 0.3));\n",
              "      fill: #FFFFFF;\n",
              "    }\n",
              "  </style>\n",
              "\n",
              "      <script>\n",
              "        const buttonEl =\n",
              "          document.querySelector('#df-90358b07-c7ee-49db-832f-b10ff092a4c6 button.colab-df-convert');\n",
              "        buttonEl.style.display =\n",
              "          google.colab.kernel.accessAllowed ? 'block' : 'none';\n",
              "\n",
              "        async function convertToInteractive(key) {\n",
              "          const element = document.querySelector('#df-90358b07-c7ee-49db-832f-b10ff092a4c6');\n",
              "          const dataTable =\n",
              "            await google.colab.kernel.invokeFunction('convertToInteractive',\n",
              "                                                     [key], {});\n",
              "          if (!dataTable) return;\n",
              "\n",
              "          const docLinkHtml = 'Like what you see? Visit the ' +\n",
              "            '<a target=\"_blank\" href=https://colab.research.google.com/notebooks/data_table.ipynb>data table notebook</a>'\n",
              "            + ' to learn more about interactive tables.';\n",
              "          element.innerHTML = '';\n",
              "          dataTable['output_type'] = 'display_data';\n",
              "          await google.colab.output.renderOutput(dataTable, element);\n",
              "          const docLink = document.createElement('div');\n",
              "          docLink.innerHTML = docLinkHtml;\n",
              "          element.appendChild(docLink);\n",
              "        }\n",
              "      </script>\n",
              "    </div>\n",
              "  </div>\n",
              "  "
            ]
          },
          "metadata": {},
          "execution_count": 12
        }
      ]
    },
    {
      "cell_type": "code",
      "source": [
        "ACCIONES.head()"
      ],
      "metadata": {
        "colab": {
          "base_uri": "https://localhost:8080/",
          "height": 417
        },
        "id": "ujEoe-bw4KFU",
        "outputId": "f6dda75c-94b7-47b1-e94c-d0a5c541b493"
      },
      "id": "ujEoe-bw4KFU",
      "execution_count": 13,
      "outputs": [
        {
          "output_type": "execute_result",
          "data": {
            "text/plain": [
              "                          Adj Close            Close             High          \\\n",
              "                           AVAX-USD SOL-USD AVAX-USD SOL-USD AVAX-USD SOL-USD   \n",
              "Date                                                                            \n",
              "2023-01-01 00:00:00+00:00     10.87    9.98    10.87    9.98    10.93   10.05   \n",
              "2023-01-02 00:00:00+00:00     11.15   11.27    11.15   11.27    11.23   11.37   \n",
              "2023-01-03 00:00:00+00:00     11.38   13.34    11.38   13.34    11.53   13.50   \n",
              "2023-01-04 00:00:00+00:00     12.08   13.44    12.08   13.44    12.27   14.10   \n",
              "2023-01-05 00:00:00+00:00     11.74   13.42    11.74   13.42    12.15   13.77   \n",
              "\n",
              "                               Low             Open             Volume  \\\n",
              "                          AVAX-USD SOL-USD AVAX-USD SOL-USD   AVAX-USD   \n",
              "Date                                                                     \n",
              "2023-01-01 00:00:00+00:00    10.67    9.72    10.90    9.96   95741904   \n",
              "2023-01-02 00:00:00+00:00    10.74    9.85    10.87    9.98  128530323   \n",
              "2023-01-03 00:00:00+00:00    11.09   11.05    11.15   11.27  165410541   \n",
              "2023-01-04 00:00:00+00:00    11.36   12.92    11.38   13.35  203700017   \n",
              "2023-01-05 00:00:00+00:00    11.72   12.99    12.08   13.43  148011463   \n",
              "\n",
              "                                       \n",
              "                              SOL-USD  \n",
              "Date                                   \n",
              "2023-01-01 00:00:00+00:00   194221164  \n",
              "2023-01-02 00:00:00+00:00   558570124  \n",
              "2023-01-03 00:00:00+00:00  1149255381  \n",
              "2023-01-04 00:00:00+00:00  1142852070  \n",
              "2023-01-05 00:00:00+00:00   564255825  "
            ],
            "text/html": [
              "\n",
              "  <div id=\"df-70f93797-67aa-4e1c-aa6b-8eec977d1bc6\">\n",
              "    <div class=\"colab-df-container\">\n",
              "      <div>\n",
              "<style scoped>\n",
              "    .dataframe tbody tr th:only-of-type {\n",
              "        vertical-align: middle;\n",
              "    }\n",
              "\n",
              "    .dataframe tbody tr th {\n",
              "        vertical-align: top;\n",
              "    }\n",
              "\n",
              "    .dataframe thead tr th {\n",
              "        text-align: left;\n",
              "    }\n",
              "\n",
              "    .dataframe thead tr:last-of-type th {\n",
              "        text-align: right;\n",
              "    }\n",
              "</style>\n",
              "<table border=\"1\" class=\"dataframe\">\n",
              "  <thead>\n",
              "    <tr>\n",
              "      <th></th>\n",
              "      <th colspan=\"2\" halign=\"left\">Adj Close</th>\n",
              "      <th colspan=\"2\" halign=\"left\">Close</th>\n",
              "      <th colspan=\"2\" halign=\"left\">High</th>\n",
              "      <th colspan=\"2\" halign=\"left\">Low</th>\n",
              "      <th colspan=\"2\" halign=\"left\">Open</th>\n",
              "      <th colspan=\"2\" halign=\"left\">Volume</th>\n",
              "    </tr>\n",
              "    <tr>\n",
              "      <th></th>\n",
              "      <th>AVAX-USD</th>\n",
              "      <th>SOL-USD</th>\n",
              "      <th>AVAX-USD</th>\n",
              "      <th>SOL-USD</th>\n",
              "      <th>AVAX-USD</th>\n",
              "      <th>SOL-USD</th>\n",
              "      <th>AVAX-USD</th>\n",
              "      <th>SOL-USD</th>\n",
              "      <th>AVAX-USD</th>\n",
              "      <th>SOL-USD</th>\n",
              "      <th>AVAX-USD</th>\n",
              "      <th>SOL-USD</th>\n",
              "    </tr>\n",
              "    <tr>\n",
              "      <th>Date</th>\n",
              "      <th></th>\n",
              "      <th></th>\n",
              "      <th></th>\n",
              "      <th></th>\n",
              "      <th></th>\n",
              "      <th></th>\n",
              "      <th></th>\n",
              "      <th></th>\n",
              "      <th></th>\n",
              "      <th></th>\n",
              "      <th></th>\n",
              "      <th></th>\n",
              "    </tr>\n",
              "  </thead>\n",
              "  <tbody>\n",
              "    <tr>\n",
              "      <th>2023-01-01 00:00:00+00:00</th>\n",
              "      <td>10.87</td>\n",
              "      <td>9.98</td>\n",
              "      <td>10.87</td>\n",
              "      <td>9.98</td>\n",
              "      <td>10.93</td>\n",
              "      <td>10.05</td>\n",
              "      <td>10.67</td>\n",
              "      <td>9.72</td>\n",
              "      <td>10.90</td>\n",
              "      <td>9.96</td>\n",
              "      <td>95741904</td>\n",
              "      <td>194221164</td>\n",
              "    </tr>\n",
              "    <tr>\n",
              "      <th>2023-01-02 00:00:00+00:00</th>\n",
              "      <td>11.15</td>\n",
              "      <td>11.27</td>\n",
              "      <td>11.15</td>\n",
              "      <td>11.27</td>\n",
              "      <td>11.23</td>\n",
              "      <td>11.37</td>\n",
              "      <td>10.74</td>\n",
              "      <td>9.85</td>\n",
              "      <td>10.87</td>\n",
              "      <td>9.98</td>\n",
              "      <td>128530323</td>\n",
              "      <td>558570124</td>\n",
              "    </tr>\n",
              "    <tr>\n",
              "      <th>2023-01-03 00:00:00+00:00</th>\n",
              "      <td>11.38</td>\n",
              "      <td>13.34</td>\n",
              "      <td>11.38</td>\n",
              "      <td>13.34</td>\n",
              "      <td>11.53</td>\n",
              "      <td>13.50</td>\n",
              "      <td>11.09</td>\n",
              "      <td>11.05</td>\n",
              "      <td>11.15</td>\n",
              "      <td>11.27</td>\n",
              "      <td>165410541</td>\n",
              "      <td>1149255381</td>\n",
              "    </tr>\n",
              "    <tr>\n",
              "      <th>2023-01-04 00:00:00+00:00</th>\n",
              "      <td>12.08</td>\n",
              "      <td>13.44</td>\n",
              "      <td>12.08</td>\n",
              "      <td>13.44</td>\n",
              "      <td>12.27</td>\n",
              "      <td>14.10</td>\n",
              "      <td>11.36</td>\n",
              "      <td>12.92</td>\n",
              "      <td>11.38</td>\n",
              "      <td>13.35</td>\n",
              "      <td>203700017</td>\n",
              "      <td>1142852070</td>\n",
              "    </tr>\n",
              "    <tr>\n",
              "      <th>2023-01-05 00:00:00+00:00</th>\n",
              "      <td>11.74</td>\n",
              "      <td>13.42</td>\n",
              "      <td>11.74</td>\n",
              "      <td>13.42</td>\n",
              "      <td>12.15</td>\n",
              "      <td>13.77</td>\n",
              "      <td>11.72</td>\n",
              "      <td>12.99</td>\n",
              "      <td>12.08</td>\n",
              "      <td>13.43</td>\n",
              "      <td>148011463</td>\n",
              "      <td>564255825</td>\n",
              "    </tr>\n",
              "  </tbody>\n",
              "</table>\n",
              "</div>\n",
              "      <button class=\"colab-df-convert\" onclick=\"convertToInteractive('df-70f93797-67aa-4e1c-aa6b-8eec977d1bc6')\"\n",
              "              title=\"Convert this dataframe to an interactive table.\"\n",
              "              style=\"display:none;\">\n",
              "        \n",
              "  <svg xmlns=\"http://www.w3.org/2000/svg\" height=\"24px\"viewBox=\"0 0 24 24\"\n",
              "       width=\"24px\">\n",
              "    <path d=\"M0 0h24v24H0V0z\" fill=\"none\"/>\n",
              "    <path d=\"M18.56 5.44l.94 2.06.94-2.06 2.06-.94-2.06-.94-.94-2.06-.94 2.06-2.06.94zm-11 1L8.5 8.5l.94-2.06 2.06-.94-2.06-.94L8.5 2.5l-.94 2.06-2.06.94zm10 10l.94 2.06.94-2.06 2.06-.94-2.06-.94-.94-2.06-.94 2.06-2.06.94z\"/><path d=\"M17.41 7.96l-1.37-1.37c-.4-.4-.92-.59-1.43-.59-.52 0-1.04.2-1.43.59L10.3 9.45l-7.72 7.72c-.78.78-.78 2.05 0 2.83L4 21.41c.39.39.9.59 1.41.59.51 0 1.02-.2 1.41-.59l7.78-7.78 2.81-2.81c.8-.78.8-2.07 0-2.86zM5.41 20L4 18.59l7.72-7.72 1.47 1.35L5.41 20z\"/>\n",
              "  </svg>\n",
              "      </button>\n",
              "      \n",
              "  <style>\n",
              "    .colab-df-container {\n",
              "      display:flex;\n",
              "      flex-wrap:wrap;\n",
              "      gap: 12px;\n",
              "    }\n",
              "\n",
              "    .colab-df-convert {\n",
              "      background-color: #E8F0FE;\n",
              "      border: none;\n",
              "      border-radius: 50%;\n",
              "      cursor: pointer;\n",
              "      display: none;\n",
              "      fill: #1967D2;\n",
              "      height: 32px;\n",
              "      padding: 0 0 0 0;\n",
              "      width: 32px;\n",
              "    }\n",
              "\n",
              "    .colab-df-convert:hover {\n",
              "      background-color: #E2EBFA;\n",
              "      box-shadow: 0px 1px 2px rgba(60, 64, 67, 0.3), 0px 1px 3px 1px rgba(60, 64, 67, 0.15);\n",
              "      fill: #174EA6;\n",
              "    }\n",
              "\n",
              "    [theme=dark] .colab-df-convert {\n",
              "      background-color: #3B4455;\n",
              "      fill: #D2E3FC;\n",
              "    }\n",
              "\n",
              "    [theme=dark] .colab-df-convert:hover {\n",
              "      background-color: #434B5C;\n",
              "      box-shadow: 0px 1px 3px 1px rgba(0, 0, 0, 0.15);\n",
              "      filter: drop-shadow(0px 1px 2px rgba(0, 0, 0, 0.3));\n",
              "      fill: #FFFFFF;\n",
              "    }\n",
              "  </style>\n",
              "\n",
              "      <script>\n",
              "        const buttonEl =\n",
              "          document.querySelector('#df-70f93797-67aa-4e1c-aa6b-8eec977d1bc6 button.colab-df-convert');\n",
              "        buttonEl.style.display =\n",
              "          google.colab.kernel.accessAllowed ? 'block' : 'none';\n",
              "\n",
              "        async function convertToInteractive(key) {\n",
              "          const element = document.querySelector('#df-70f93797-67aa-4e1c-aa6b-8eec977d1bc6');\n",
              "          const dataTable =\n",
              "            await google.colab.kernel.invokeFunction('convertToInteractive',\n",
              "                                                     [key], {});\n",
              "          if (!dataTable) return;\n",
              "\n",
              "          const docLinkHtml = 'Like what you see? Visit the ' +\n",
              "            '<a target=\"_blank\" href=https://colab.research.google.com/notebooks/data_table.ipynb>data table notebook</a>'\n",
              "            + ' to learn more about interactive tables.';\n",
              "          element.innerHTML = '';\n",
              "          dataTable['output_type'] = 'display_data';\n",
              "          await google.colab.output.renderOutput(dataTable, element);\n",
              "          const docLink = document.createElement('div');\n",
              "          docLink.innerHTML = docLinkHtml;\n",
              "          element.appendChild(docLink);\n",
              "        }\n",
              "      </script>\n",
              "    </div>\n",
              "  </div>\n",
              "  "
            ]
          },
          "metadata": {},
          "execution_count": 13
        }
      ]
    },
    {
      "cell_type": "markdown",
      "id": "189bd785-9648-49b8-830c-73679a6537d5",
      "metadata": {
        "id": "189bd785-9648-49b8-830c-73679a6537d5"
      },
      "source": [
        "# **<font color=\"RoyalBlue\">Graficos</font>**"
      ]
    },
    {
      "cell_type": "code",
      "execution_count": 14,
      "id": "c1685b1a-b643-407a-b1b6-a0644c21756e",
      "metadata": {
        "colab": {
          "base_uri": "https://localhost:8080/",
          "height": 542
        },
        "id": "c1685b1a-b643-407a-b1b6-a0644c21756e",
        "outputId": "e0fe79ef-1379-4290-f9b8-57c05ff73058"
      },
      "outputs": [
        {
          "output_type": "display_data",
          "data": {
            "text/html": [
              "<html>\n",
              "<head><meta charset=\"utf-8\" /></head>\n",
              "<body>\n",
              "    <div>            <script src=\"https://cdnjs.cloudflare.com/ajax/libs/mathjax/2.7.5/MathJax.js?config=TeX-AMS-MML_SVG\"></script><script type=\"text/javascript\">if (window.MathJax && window.MathJax.Hub && window.MathJax.Hub.Config) {window.MathJax.Hub.Config({SVG: {font: \"STIX-Web\"}});}</script>                <script type=\"text/javascript\">window.PlotlyConfig = {MathJaxConfig: 'local'};</script>\n",
              "        <script src=\"https://cdn.plot.ly/plotly-2.18.0.min.js\"></script>                <div id=\"fef220d0-0588-425e-90b1-715e0acc2c5f\" class=\"plotly-graph-div\" style=\"height:525px; width:100%;\"></div>            <script type=\"text/javascript\">                                    window.PLOTLYENV=window.PLOTLYENV || {};                                    if (document.getElementById(\"fef220d0-0588-425e-90b1-715e0acc2c5f\")) {                    Plotly.newPlot(                        \"fef220d0-0588-425e-90b1-715e0acc2c5f\",                        [{\"hovertemplate\":\"Name=SOL<br>Date=%{x}<br>Close=%{y}<extra></extra>\",\"legendgroup\":\"SOL\",\"line\":{\"color\":\"#1F77B4\",\"dash\":\"solid\"},\"marker\":{\"symbol\":\"circle\"},\"mode\":\"lines+markers\",\"name\":\"SOL\",\"orientation\":\"v\",\"showlegend\":true,\"x\":[\"2023-01-01T00:00:00+00:00\",\"2023-01-02T00:00:00+00:00\",\"2023-01-03T00:00:00+00:00\",\"2023-01-04T00:00:00+00:00\",\"2023-01-05T00:00:00+00:00\",\"2023-01-06T00:00:00+00:00\",\"2023-01-07T00:00:00+00:00\",\"2023-01-08T00:00:00+00:00\",\"2023-01-09T00:00:00+00:00\",\"2023-01-10T00:00:00+00:00\",\"2023-01-11T00:00:00+00:00\",\"2023-01-12T00:00:00+00:00\",\"2023-01-13T00:00:00+00:00\",\"2023-01-14T00:00:00+00:00\",\"2023-01-15T00:00:00+00:00\",\"2023-01-16T00:00:00+00:00\",\"2023-01-17T00:00:00+00:00\",\"2023-01-18T00:00:00+00:00\",\"2023-01-19T00:00:00+00:00\",\"2023-01-20T00:00:00+00:00\",\"2023-01-21T00:00:00+00:00\",\"2023-01-22T00:00:00+00:00\",\"2023-01-23T00:00:00+00:00\",\"2023-01-24T00:00:00+00:00\",\"2023-01-25T00:00:00+00:00\",\"2023-01-26T00:00:00+00:00\",\"2023-01-27T00:00:00+00:00\",\"2023-01-28T00:00:00+00:00\",\"2023-01-29T00:00:00+00:00\",\"2023-01-30T00:00:00+00:00\",\"2023-02-01T00:00:00+00:00\"],\"xaxis\":\"x\",\"y\":[9.98,11.27,13.34,13.44,13.42,13.53,13.09,14.32,16.3,16.2,16.36,16.62,18.29,24.25,22.87,23.58,22.88,20.85,21.43,25.55,24.63,24.23,24.36,22.8,24.57,24.35,24.41,23.98,26.13,23.95,23.3],\"yaxis\":\"y\",\"type\":\"scatter\"},{\"hovertemplate\":\"Name=AVAX<br>Date=%{x}<br>Close=%{y}<extra></extra>\",\"legendgroup\":\"AVAX\",\"line\":{\"color\":\"#FF7F0E\",\"dash\":\"solid\"},\"marker\":{\"symbol\":\"circle\"},\"mode\":\"lines+markers\",\"name\":\"AVAX\",\"orientation\":\"v\",\"showlegend\":true,\"x\":[\"2023-01-01T00:00:00+00:00\",\"2023-01-02T00:00:00+00:00\",\"2023-01-03T00:00:00+00:00\",\"2023-01-04T00:00:00+00:00\",\"2023-01-05T00:00:00+00:00\",\"2023-01-06T00:00:00+00:00\",\"2023-01-07T00:00:00+00:00\",\"2023-01-08T00:00:00+00:00\",\"2023-01-09T00:00:00+00:00\",\"2023-01-10T00:00:00+00:00\",\"2023-01-11T00:00:00+00:00\",\"2023-01-12T00:00:00+00:00\",\"2023-01-13T00:00:00+00:00\",\"2023-01-14T00:00:00+00:00\",\"2023-01-15T00:00:00+00:00\",\"2023-01-16T00:00:00+00:00\",\"2023-01-17T00:00:00+00:00\",\"2023-01-18T00:00:00+00:00\",\"2023-01-19T00:00:00+00:00\",\"2023-01-20T00:00:00+00:00\",\"2023-01-21T00:00:00+00:00\",\"2023-01-22T00:00:00+00:00\",\"2023-01-23T00:00:00+00:00\",\"2023-01-24T00:00:00+00:00\",\"2023-01-25T00:00:00+00:00\",\"2023-01-26T00:00:00+00:00\",\"2023-01-27T00:00:00+00:00\",\"2023-01-28T00:00:00+00:00\",\"2023-01-29T00:00:00+00:00\",\"2023-01-30T00:00:00+00:00\",\"2023-02-01T00:00:00+00:00\"],\"xaxis\":\"x\",\"y\":[10.87,11.15,11.38,12.08,11.74,11.78,11.74,12.07,12.21,12.73,15.91,15.46,15.96,16.96,16.8,16.74,17.13,15.8,16.2,17.52,16.9,17.36,18.01,17.02,17.8,18.11,21.25,20.6,21.08,19.74,19.08],\"yaxis\":\"y\",\"type\":\"scatter\"}],                        {\"template\":{\"data\":{\"pie\":[{\"automargin\":true,\"type\":\"pie\"}]},\"layout\":{\"xaxis\":{\"showgrid\":true,\"title\":{\"standoff\":15}},\"yaxis\":{\"showgrid\":true,\"title\":{\"standoff\":15}}}},\"xaxis\":{\"anchor\":\"y\",\"domain\":[0.0,1.0],\"title\":{\"text\":\"Date\"}},\"yaxis\":{\"anchor\":\"x\",\"domain\":[0.0,1.0],\"title\":{\"text\":\"Close\"}},\"legend\":{\"title\":{\"text\":\"Name\"},\"tracegroupgap\":0},\"title\":{\"text\":\"1er trimestre 2022 Cripto\"}},                        {\"responsive\": true}                    ).then(function(){\n",
              "                            \n",
              "var gd = document.getElementById('fef220d0-0588-425e-90b1-715e0acc2c5f');\n",
              "var x = new MutationObserver(function (mutations, observer) {{\n",
              "        var display = window.getComputedStyle(gd).display;\n",
              "        if (!display || display === 'none') {{\n",
              "            console.log([gd, 'removed!']);\n",
              "            Plotly.purge(gd);\n",
              "            observer.disconnect();\n",
              "        }}\n",
              "}});\n",
              "\n",
              "// Listen for the removal of the full notebook cells\n",
              "var notebookContainer = gd.closest('#notebook-container');\n",
              "if (notebookContainer) {{\n",
              "    x.observe(notebookContainer, {childList: true});\n",
              "}}\n",
              "\n",
              "// Listen for the clearing of the current output cell\n",
              "var outputEl = gd.closest('.output');\n",
              "if (outputEl) {{\n",
              "    x.observe(outputEl, {childList: true});\n",
              "}}\n",
              "\n",
              "                        })                };                            </script>        </div>\n",
              "</body>\n",
              "</html>"
            ]
          },
          "metadata": {}
        }
      ],
      "source": [
        "px.line(CRIPTO, \n",
        "        x=CRIPTO.index, \n",
        "        y=\"Close\",\n",
        "        template=\"gridon\",\n",
        "        color=\"Name\",\n",
        "        markers=True,\n",
        "        title=\"1er trimestre 2022 Cripto\")"
      ]
    },
    {
      "cell_type": "code",
      "source": [
        "px.box(CRIPTO, \n",
        "       y = \"Close\",\n",
        "       template = \"gridon\",\n",
        "       points=\"all\",\n",
        "       color = \"Name\")"
      ],
      "metadata": {
        "colab": {
          "base_uri": "https://localhost:8080/",
          "height": 542
        },
        "id": "NkcBjat99aOK",
        "outputId": "67fe1e8e-603d-45f6-9948-b51e9c287851"
      },
      "id": "NkcBjat99aOK",
      "execution_count": 15,
      "outputs": [
        {
          "output_type": "display_data",
          "data": {
            "text/html": [
              "<html>\n",
              "<head><meta charset=\"utf-8\" /></head>\n",
              "<body>\n",
              "    <div>            <script src=\"https://cdnjs.cloudflare.com/ajax/libs/mathjax/2.7.5/MathJax.js?config=TeX-AMS-MML_SVG\"></script><script type=\"text/javascript\">if (window.MathJax && window.MathJax.Hub && window.MathJax.Hub.Config) {window.MathJax.Hub.Config({SVG: {font: \"STIX-Web\"}});}</script>                <script type=\"text/javascript\">window.PlotlyConfig = {MathJaxConfig: 'local'};</script>\n",
              "        <script src=\"https://cdn.plot.ly/plotly-2.18.0.min.js\"></script>                <div id=\"a7670490-8bf6-48d8-a556-2c66e12e491b\" class=\"plotly-graph-div\" style=\"height:525px; width:100%;\"></div>            <script type=\"text/javascript\">                                    window.PLOTLYENV=window.PLOTLYENV || {};                                    if (document.getElementById(\"a7670490-8bf6-48d8-a556-2c66e12e491b\")) {                    Plotly.newPlot(                        \"a7670490-8bf6-48d8-a556-2c66e12e491b\",                        [{\"alignmentgroup\":\"True\",\"boxpoints\":\"all\",\"hovertemplate\":\"Name=SOL<br>Close=%{y}<extra></extra>\",\"legendgroup\":\"SOL\",\"marker\":{\"color\":\"#1F77B4\"},\"name\":\"SOL\",\"notched\":false,\"offsetgroup\":\"SOL\",\"orientation\":\"v\",\"showlegend\":true,\"x0\":\" \",\"xaxis\":\"x\",\"y\":[9.98,11.27,13.34,13.44,13.42,13.53,13.09,14.32,16.3,16.2,16.36,16.62,18.29,24.25,22.87,23.58,22.88,20.85,21.43,25.55,24.63,24.23,24.36,22.8,24.57,24.35,24.41,23.98,26.13,23.95,23.3],\"y0\":\" \",\"yaxis\":\"y\",\"type\":\"box\"},{\"alignmentgroup\":\"True\",\"boxpoints\":\"all\",\"hovertemplate\":\"Name=AVAX<br>Close=%{y}<extra></extra>\",\"legendgroup\":\"AVAX\",\"marker\":{\"color\":\"#FF7F0E\"},\"name\":\"AVAX\",\"notched\":false,\"offsetgroup\":\"AVAX\",\"orientation\":\"v\",\"showlegend\":true,\"x0\":\" \",\"xaxis\":\"x\",\"y\":[10.87,11.15,11.38,12.08,11.74,11.78,11.74,12.07,12.21,12.73,15.91,15.46,15.96,16.96,16.8,16.74,17.13,15.8,16.2,17.52,16.9,17.36,18.01,17.02,17.8,18.11,21.25,20.6,21.08,19.74,19.08],\"y0\":\" \",\"yaxis\":\"y\",\"type\":\"box\"}],                        {\"template\":{\"data\":{\"pie\":[{\"automargin\":true,\"type\":\"pie\"}]},\"layout\":{\"xaxis\":{\"showgrid\":true,\"title\":{\"standoff\":15}},\"yaxis\":{\"showgrid\":true,\"title\":{\"standoff\":15}}}},\"xaxis\":{\"anchor\":\"y\",\"domain\":[0.0,1.0]},\"yaxis\":{\"anchor\":\"x\",\"domain\":[0.0,1.0],\"title\":{\"text\":\"Close\"}},\"legend\":{\"title\":{\"text\":\"Name\"},\"tracegroupgap\":0},\"margin\":{\"t\":60},\"boxmode\":\"group\"},                        {\"responsive\": true}                    ).then(function(){\n",
              "                            \n",
              "var gd = document.getElementById('a7670490-8bf6-48d8-a556-2c66e12e491b');\n",
              "var x = new MutationObserver(function (mutations, observer) {{\n",
              "        var display = window.getComputedStyle(gd).display;\n",
              "        if (!display || display === 'none') {{\n",
              "            console.log([gd, 'removed!']);\n",
              "            Plotly.purge(gd);\n",
              "            observer.disconnect();\n",
              "        }}\n",
              "}});\n",
              "\n",
              "// Listen for the removal of the full notebook cells\n",
              "var notebookContainer = gd.closest('#notebook-container');\n",
              "if (notebookContainer) {{\n",
              "    x.observe(notebookContainer, {childList: true});\n",
              "}}\n",
              "\n",
              "// Listen for the clearing of the current output cell\n",
              "var outputEl = gd.closest('.output');\n",
              "if (outputEl) {{\n",
              "    x.observe(outputEl, {childList: true});\n",
              "}}\n",
              "\n",
              "                        })                };                            </script>        </div>\n",
              "</body>\n",
              "</html>"
            ]
          },
          "metadata": {}
        }
      ]
    },
    {
      "cell_type": "code",
      "source": [
        "fig = go.Figure(data=[go.Candlestick(x=AVAX.index,\n",
        "                open=AVAX.Open,\n",
        "                high=AVAX.High,\n",
        "                low=AVAX.Low,\n",
        "                close=AVAX.Close)])\n",
        "\n",
        "fig.update_layout(template=\"gridon\")\n",
        "\n",
        "fig.show()"
      ],
      "metadata": {
        "colab": {
          "base_uri": "https://localhost:8080/",
          "height": 542
        },
        "id": "yrFBbZHG-NZo",
        "outputId": "262f8303-c25e-4b2a-ca94-f42ed17e588c"
      },
      "id": "yrFBbZHG-NZo",
      "execution_count": 16,
      "outputs": [
        {
          "output_type": "display_data",
          "data": {
            "text/html": [
              "<html>\n",
              "<head><meta charset=\"utf-8\" /></head>\n",
              "<body>\n",
              "    <div>            <script src=\"https://cdnjs.cloudflare.com/ajax/libs/mathjax/2.7.5/MathJax.js?config=TeX-AMS-MML_SVG\"></script><script type=\"text/javascript\">if (window.MathJax && window.MathJax.Hub && window.MathJax.Hub.Config) {window.MathJax.Hub.Config({SVG: {font: \"STIX-Web\"}});}</script>                <script type=\"text/javascript\">window.PlotlyConfig = {MathJaxConfig: 'local'};</script>\n",
              "        <script src=\"https://cdn.plot.ly/plotly-2.18.0.min.js\"></script>                <div id=\"5e92dc43-4b49-495e-9b66-9444b032442e\" class=\"plotly-graph-div\" style=\"height:525px; width:100%;\"></div>            <script type=\"text/javascript\">                                    window.PLOTLYENV=window.PLOTLYENV || {};                                    if (document.getElementById(\"5e92dc43-4b49-495e-9b66-9444b032442e\")) {                    Plotly.newPlot(                        \"5e92dc43-4b49-495e-9b66-9444b032442e\",                        [{\"close\":[10.87,11.15,11.38,12.08,11.74,11.78,11.74,12.07,12.21,12.73,15.91,15.46,15.96,16.96,16.8,16.74,17.13,15.8,16.2,17.52,16.9,17.36,18.01,17.02,17.8,18.11,21.25,20.6,21.08,19.74,19.08],\"high\":[10.93,11.23,11.53,12.27,12.15,11.8,11.85,12.13,12.63,12.87,15.91,16.11,16.43,18.34,17.04,17.28,18.14,17.38,16.26,17.53,17.73,18.37,18.28,18.86,18.22,18.72,21.55,21.68,21.12,21.18,19.86],\"low\":[10.67,10.74,11.09,11.36,11.72,11.39,11.67,11.61,12.07,12.09,12.32,14.89,15.05,15.94,16.05,16.22,16.67,15.77,15.75,15.9,16.89,16.88,17.35,16.94,16.6,17.8,17.63,20.15,20.23,19.43,18.98],\"open\":[10.9,10.87,11.15,11.38,12.08,11.74,11.78,11.74,12.07,12.21,12.73,15.85,15.46,15.96,16.96,16.8,16.74,17.13,15.81,16.19,17.52,16.89,17.36,18.0,17.02,17.8,18.11,21.25,20.6,21.08,19.86],\"x\":[\"2023-01-01T00:00:00+00:00\",\"2023-01-02T00:00:00+00:00\",\"2023-01-03T00:00:00+00:00\",\"2023-01-04T00:00:00+00:00\",\"2023-01-05T00:00:00+00:00\",\"2023-01-06T00:00:00+00:00\",\"2023-01-07T00:00:00+00:00\",\"2023-01-08T00:00:00+00:00\",\"2023-01-09T00:00:00+00:00\",\"2023-01-10T00:00:00+00:00\",\"2023-01-11T00:00:00+00:00\",\"2023-01-12T00:00:00+00:00\",\"2023-01-13T00:00:00+00:00\",\"2023-01-14T00:00:00+00:00\",\"2023-01-15T00:00:00+00:00\",\"2023-01-16T00:00:00+00:00\",\"2023-01-17T00:00:00+00:00\",\"2023-01-18T00:00:00+00:00\",\"2023-01-19T00:00:00+00:00\",\"2023-01-20T00:00:00+00:00\",\"2023-01-21T00:00:00+00:00\",\"2023-01-22T00:00:00+00:00\",\"2023-01-23T00:00:00+00:00\",\"2023-01-24T00:00:00+00:00\",\"2023-01-25T00:00:00+00:00\",\"2023-01-26T00:00:00+00:00\",\"2023-01-27T00:00:00+00:00\",\"2023-01-28T00:00:00+00:00\",\"2023-01-29T00:00:00+00:00\",\"2023-01-30T00:00:00+00:00\",\"2023-02-01T00:00:00+00:00\"],\"type\":\"candlestick\"}],                        {\"template\":{\"data\":{\"pie\":[{\"automargin\":true,\"type\":\"pie\"}]},\"layout\":{\"xaxis\":{\"showgrid\":true,\"title\":{\"standoff\":15}},\"yaxis\":{\"showgrid\":true,\"title\":{\"standoff\":15}}}}},                        {\"responsive\": true}                    ).then(function(){\n",
              "                            \n",
              "var gd = document.getElementById('5e92dc43-4b49-495e-9b66-9444b032442e');\n",
              "var x = new MutationObserver(function (mutations, observer) {{\n",
              "        var display = window.getComputedStyle(gd).display;\n",
              "        if (!display || display === 'none') {{\n",
              "            console.log([gd, 'removed!']);\n",
              "            Plotly.purge(gd);\n",
              "            observer.disconnect();\n",
              "        }}\n",
              "}});\n",
              "\n",
              "// Listen for the removal of the full notebook cells\n",
              "var notebookContainer = gd.closest('#notebook-container');\n",
              "if (notebookContainer) {{\n",
              "    x.observe(notebookContainer, {childList: true});\n",
              "}}\n",
              "\n",
              "// Listen for the clearing of the current output cell\n",
              "var outputEl = gd.closest('.output');\n",
              "if (outputEl) {{\n",
              "    x.observe(outputEl, {childList: true});\n",
              "}}\n",
              "\n",
              "                        })                };                            </script>        </div>\n",
              "</body>\n",
              "</html>"
            ]
          },
          "metadata": {}
        }
      ]
    },
    {
      "cell_type": "markdown",
      "source": [
        "---\n",
        "<p>\n",
        "<font color=\"RoyalBlue\">\n",
        "\n",
        "💙 **A seguir haciendo gráficos en el proximo cuaderno plotly...** \n",
        "</font>\n",
        "</p>\n",
        "\n",
        "---"
      ],
      "metadata": {
        "id": "tVObf-xUk_QR"
      },
      "id": "tVObf-xUk_QR"
    },
    {
      "cell_type": "markdown",
      "source": [
        "# 😀"
      ],
      "metadata": {
        "id": "s0STM8QN99x3"
      },
      "id": "s0STM8QN99x3"
    }
  ],
  "metadata": {
    "kernelspec": {
      "display_name": "Python 3 (ipykernel)",
      "language": "python",
      "name": "python3"
    },
    "language_info": {
      "codemirror_mode": {
        "name": "ipython",
        "version": 3
      },
      "file_extension": ".py",
      "mimetype": "text/x-python",
      "name": "python",
      "nbconvert_exporter": "python",
      "pygments_lexer": "ipython3",
      "version": "3.10.2"
    },
    "colab": {
      "provenance": [],
      "toc_visible": true,
      "include_colab_link": true
    }
  },
  "nbformat": 4,
  "nbformat_minor": 5
}