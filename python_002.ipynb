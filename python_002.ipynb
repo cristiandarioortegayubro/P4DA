{
  "cells": [
    {
      "cell_type": "markdown",
      "metadata": {
        "id": "view-in-github",
        "colab_type": "text"
      },
      "source": [
        "<a href=\"https://colab.research.google.com/github/cristiandarioortegayubro/P4DA/blob/main/python_002.ipynb\" target=\"_parent\"><img src=\"https://colab.research.google.com/assets/colab-badge.svg\" alt=\"Open In Colab\"/></a>"
      ]
    },
    {
      "cell_type": "markdown",
      "source": [
        "![](https://github.com/cristiandarioortegayubro/P4DA/blob/main/Logo.png?raw=true)"
      ],
      "metadata": {
        "id": "W-ZH1OUUUNDO"
      },
      "id": "W-ZH1OUUUNDO"
    },
    {
      "cell_type": "markdown",
      "id": "49f579e7",
      "metadata": {
        "id": "49f579e7"
      },
      "source": [
        "![logo](https://www.python.org/static/community_logos/python-powered-h-70x91.png)"
      ]
    },
    {
      "cell_type": "markdown",
      "id": "afc1bec4-82b5-4b1e-8a1a-ef05538c0199",
      "metadata": {
        "id": "afc1bec4-82b5-4b1e-8a1a-ef05538c0199"
      },
      "source": [
        "## **<font color=\"RoyalBlue\">Estructuras de control, funciones y módulos**"
      ]
    },
    {
      "cell_type": "markdown",
      "id": "cdf0ac99-772a-4fb8-8a30-98433a1ba4b0",
      "metadata": {
        "id": "cdf0ac99-772a-4fb8-8a30-98433a1ba4b0"
      },
      "source": [
        "### 🔹 **<font color=\"RoyalBlue\">Estructuras de control**"
      ]
    },
    {
      "cell_type": "markdown",
      "id": "eb33c029-7bd2-4f66-a581-34dec2cb6b72",
      "metadata": {
        "id": "eb33c029-7bd2-4f66-a581-34dec2cb6b72"
      },
      "source": [
        "**A veces se necesita hacer algo más de una vez...**"
      ]
    },
    {
      "cell_type": "markdown",
      "id": "4babb0af-ab41-47a5-a5e1-cbfb81f1b9af",
      "metadata": {
        "id": "4babb0af-ab41-47a5-a5e1-cbfb81f1b9af"
      },
      "source": [
        "#### **<font color=\"RoyalBlue\"> ```if``` - ```elif``` - ```else```**"
      ]
    },
    {
      "cell_type": "markdown",
      "id": "46c88d0b-1f4f-42ed-b013-08f33c390e9b",
      "metadata": {
        "id": "46c88d0b-1f4f-42ed-b013-08f33c390e9b"
      },
      "source": [
        "**Las sentencia if, acompañada de ... elif ... else ... permiten condicionar la ejecución de uno o varios bloques de sentencias al cumplimiento de una o varias condiciones.**\n",
        "\n",
        "***Para una sola condición, se usa la estructura de control if...***"
      ]
    },
    {
      "cell_type": "code",
      "execution_count": null,
      "id": "a4277530-5fe8-4ffd-b3b0-8317d2a3564d",
      "metadata": {
        "id": "a4277530-5fe8-4ffd-b3b0-8317d2a3564d",
        "outputId": "76048a93-54e5-4f8f-9a15-83a3f89c9ae4",
        "colab": {
          "base_uri": "https://localhost:8080/"
        }
      },
      "outputs": [
        {
          "name": "stdout",
          "output_type": "stream",
          "text": [
            "Escriba un número positivo: -9\n"
          ]
        }
      ],
      "source": [
        "positivo = int(input(\"Escriba un número positivo: \"))"
      ]
    },
    {
      "cell_type": "code",
      "execution_count": null,
      "id": "62519978-3bce-4ccc-86cb-f2784713e70b",
      "metadata": {
        "id": "62519978-3bce-4ccc-86cb-f2784713e70b",
        "outputId": "a588b734-31ff-4019-da25-0e25903c8a48",
        "colab": {
          "base_uri": "https://localhost:8080/"
        }
      },
      "outputs": [
        {
          "output_type": "stream",
          "name": "stdout",
          "text": [
            "No es un número positivo!\n",
            "El número es -9\n"
          ]
        }
      ],
      "source": [
        "if positivo < 0:\n",
        "    print(\"No es un número positivo!\")\n",
        "print(f\"El número es {positivo}\")"
      ]
    },
    {
      "cell_type": "markdown",
      "id": "cae180dd-6927-4901-a62e-d3cd7eb5268b",
      "metadata": {
        "id": "cae180dd-6927-4901-a62e-d3cd7eb5268b"
      },
      "source": [
        "**Los bloques de sentencias pertenecientes a la condición deben tener un espacio, lo que indica que están supeditadas al cumplimiento de la condición...**"
      ]
    },
    {
      "cell_type": "code",
      "execution_count": null,
      "id": "a3f08af2-842a-4a47-abd7-3c158b3a964b",
      "metadata": {
        "id": "a3f08af2-842a-4a47-abd7-3c158b3a964b",
        "outputId": "1063b3f8-4b1e-4e0e-b089-a508eb015d17",
        "colab": {
          "base_uri": "https://localhost:8080/"
        }
      },
      "outputs": [
        {
          "output_type": "stream",
          "name": "stdout",
          "text": [
            "No es un número positivo!\n",
            "El número es -9\n"
          ]
        }
      ],
      "source": [
        "if positivo < 0:\n",
        "    print(\"No es un número positivo!\")\n",
        "    print(f\"El número es {positivo}\")"
      ]
    },
    {
      "cell_type": "code",
      "execution_count": null,
      "id": "7d67a458-556c-4a54-a068-a83b0103a9fa",
      "metadata": {
        "id": "7d67a458-556c-4a54-a068-a83b0103a9fa",
        "outputId": "11537af3-fae3-442d-f49f-adaf377e6a96",
        "colab": {
          "base_uri": "https://localhost:8080/"
        }
      },
      "outputs": [
        {
          "name": "stdout",
          "output_type": "stream",
          "text": [
            "Escriba un número positivo: 9\n"
          ]
        }
      ],
      "source": [
        "positivo = int(input(\"Escriba un número positivo: \"))"
      ]
    },
    {
      "cell_type": "code",
      "execution_count": null,
      "id": "11d8bbf5-695f-40d8-ad51-83a59b60a268",
      "metadata": {
        "id": "11d8bbf5-695f-40d8-ad51-83a59b60a268",
        "outputId": "ef3876f2-6c8b-4560-a565-2d61910c9bb3",
        "colab": {
          "base_uri": "https://localhost:8080/"
        }
      },
      "outputs": [
        {
          "output_type": "stream",
          "name": "stdout",
          "text": [
            "El número es 9\n"
          ]
        }
      ],
      "source": [
        "if positivo < 0:\n",
        "    print(\"No es un número positivo!\")\n",
        "print(f\"El número es {positivo}\")"
      ]
    },
    {
      "cell_type": "code",
      "execution_count": null,
      "id": "fb89c2fe-e8bc-4f0d-a955-bbae71f8f3ba",
      "metadata": {
        "id": "fb89c2fe-e8bc-4f0d-a955-bbae71f8f3ba"
      },
      "outputs": [],
      "source": [
        "if positivo < 0:\n",
        "    print(\"No es un número positivo!\")\n",
        "    print(f\"El número es {positivo}\")"
      ]
    },
    {
      "cell_type": "markdown",
      "id": "6d6cead4-23a5-492c-9b66-4adb1121ddde",
      "metadata": {
        "id": "6d6cead4-23a5-492c-9b66-4adb1121ddde"
      },
      "source": [
        "***Por eso el resultado de la ejecución de este script es distinto del anterior...***"
      ]
    },
    {
      "cell_type": "markdown",
      "id": "a077d7c5-dbb4-4034-8ea2-1a5e2c7d9281",
      "metadata": {
        "id": "a077d7c5-dbb4-4034-8ea2-1a5e2c7d9281"
      },
      "source": [
        "**La sentencia if con la bifurcación else permite que se ejecute una instruccion cuando se cumple una condición, y que se ejecuten otras instrucciones cuando no se cumple esa condición.**\n",
        "\n",
        "***En inglés \"if\" significa \"si\" (condición) y \"else\" significa \"si no\".***\n",
        "***Entonces, para dos condiciones, se usa la estructura de control if y else...***"
      ]
    },
    {
      "cell_type": "code",
      "execution_count": null,
      "id": "cc1f8099-87a2-4f27-a049-7327f66df1bb",
      "metadata": {
        "id": "cc1f8099-87a2-4f27-a049-7327f66df1bb",
        "outputId": "f7eb7b0c-83fb-4990-bc86-cb8a20da58f1",
        "colab": {
          "base_uri": "https://localhost:8080/"
        }
      },
      "outputs": [
        {
          "output_type": "stream",
          "name": "stdout",
          "text": [
            "¿Cuántos años tiene? 12\n",
            "Es menor de edad, no puede ser titular de una tarjeta de crédito\n",
            "¡Nos vemos!\n"
          ]
        }
      ],
      "source": [
        "edad = int(input(\"¿Cuántos años tiene? \"))\n",
        "if edad < 18:\n",
        "    print(\"Es menor de edad, no puede ser titular de una tarjeta de crédito\")\n",
        "else:\n",
        "    print(\"Es mayor de edad, usted puede ser titular de una tarjeta de crédito\")\n",
        "print(\"¡Nos vemos!\")"
      ]
    },
    {
      "cell_type": "markdown",
      "id": "92b8a10f-2868-436e-b5a3-c03fb63792f1",
      "metadata": {
        "id": "92b8a10f-2868-436e-b5a3-c03fb63792f1"
      },
      "source": [
        "**Otra forma de hacerlo...**"
      ]
    },
    {
      "cell_type": "code",
      "execution_count": null,
      "id": "a1d00779-4d1a-4ed5-a550-f930e96b46ae",
      "metadata": {
        "id": "a1d00779-4d1a-4ed5-a550-f930e96b46ae",
        "outputId": "c40a6534-c9ab-4070-e7a1-1c0f4b58dce6",
        "colab": {
          "base_uri": "https://localhost:8080/"
        }
      },
      "outputs": [
        {
          "output_type": "stream",
          "name": "stdout",
          "text": [
            "¿Cuántos años tiene? 19\n",
            "Es usted mayor de edad\n",
            "Puede ser titular de una tarjeta de crédito\n",
            "¡Nos vemos!\n"
          ]
        }
      ],
      "source": [
        "edad = int(input(\"¿Cuántos años tiene? \"))\n",
        "if edad < 18:\n",
        "    print(\"Es usted menor de edad\")\n",
        "    print(\"Recuerde que no tiene la edad poseer una tarjeta de crédito\")\n",
        "else:\n",
        "    print(\"Es usted mayor de edad\")\n",
        "    print(\"Puede ser titular de una tarjeta de crédito\")\n",
        "print(\"¡Nos vemos!\")"
      ]
    },
    {
      "cell_type": "markdown",
      "id": "27d9e0e7-43a5-4aef-a18d-5b9021767efb",
      "metadata": {
        "id": "27d9e0e7-43a5-4aef-a18d-5b9021767efb"
      },
      "source": [
        "**Ahora, presentamos a la morsa :=**\n",
        "\n",
        "~~~python\n",
        "nombre := expresion\n",
        "~~~\n",
        "\n",
        "**Normalmente una tarea y una prueba pueden tomar dos pasos...**"
      ]
    },
    {
      "cell_type": "code",
      "execution_count": null,
      "id": "f4e2af7e-3450-4aee-aa76-c3e6316f598d",
      "metadata": {
        "id": "f4e2af7e-3450-4aee-aa76-c3e6316f598d"
      },
      "outputs": [],
      "source": [
        "stockminino = 200\n",
        "stock = 50 * 5"
      ]
    },
    {
      "cell_type": "code",
      "execution_count": null,
      "id": "d71d0db5-82f7-4bbf-85cf-c1528bf58dca",
      "metadata": {
        "id": "d71d0db5-82f7-4bbf-85cf-c1528bf58dca",
        "outputId": "d0a649e9-c0da-43e1-e142-7e31b93654ab",
        "colab": {
          "base_uri": "https://localhost:8080/"
        }
      },
      "outputs": [
        {
          "output_type": "execute_result",
          "data": {
            "text/plain": [
              "50"
            ]
          },
          "metadata": {},
          "execution_count": 10
        }
      ],
      "source": [
        "existencias = stock - stockminino\n",
        "existencias"
      ]
    },
    {
      "cell_type": "code",
      "execution_count": null,
      "id": "a74e5dc6-268d-404b-9111-d7ecd8faa006",
      "metadata": {
        "id": "a74e5dc6-268d-404b-9111-d7ecd8faa006",
        "outputId": "130bf18a-640d-4e05-dcc2-8b32913b7f6f",
        "colab": {
          "base_uri": "https://localhost:8080/"
        }
      },
      "outputs": [
        {
          "output_type": "stream",
          "name": "stdout",
          "text": [
            "Es hora de reponer existencias, tenemos que comprar 150 unidades\n"
          ]
        }
      ],
      "source": [
        "if existencias >= stockminino:\n",
        "    print(\"Estamos bien con las existencias, tenemos\", existencias, \"de más\")\n",
        "else:\n",
        "    print(\"Es hora de reponer existencias, tenemos que comprar\", stockminino - existencias, \"unidades\")"
      ]
    },
    {
      "cell_type": "markdown",
      "id": "4eb91ead-03b0-420a-b6b1-f2b41675aae7",
      "metadata": {
        "id": "4eb91ead-03b0-420a-b6b1-f2b41675aae7"
      },
      "source": [
        "**Con el nuevo poder de colmillo (también conocido como expresiones de asignación) se puede combinar en un solo paso las tareas y las pruebas:**"
      ]
    },
    {
      "cell_type": "code",
      "execution_count": null,
      "id": "fceedb78-b405-48b4-b7a5-f4432ea3f53c",
      "metadata": {
        "id": "fceedb78-b405-48b4-b7a5-f4432ea3f53c"
      },
      "outputs": [],
      "source": [
        "stockminino = 200\n",
        "stock = 50 * 5"
      ]
    },
    {
      "cell_type": "code",
      "execution_count": null,
      "id": "8f3cd382-ee22-4be7-a108-d24f63936b9b",
      "metadata": {
        "id": "8f3cd382-ee22-4be7-a108-d24f63936b9b"
      },
      "outputs": [],
      "source": [
        "# if existencias := stock - stockminino >= stockminino:\n",
        "#    print(\"Estamos bien con las existencias, tenemos\", stock - stockminino, \"de más\")\n",
        "# else:\n",
        "#    print(\"Es hora de reponer existencias, tenemos que comprar\", stockminino -((stock)-(stockminino)), \"unidades\")"
      ]
    },
    {
      "cell_type": "markdown",
      "id": "c794c761-0dd5-4efc-9f23-413fe514c751",
      "metadata": {
        "id": "c794c761-0dd5-4efc-9f23-413fe514c751"
      },
      "source": [
        "***Más de dos alternativas: if ... elif ... else ...***\n",
        "\n",
        "~~~python\n",
        "if condicion_1:\n",
        "     sentencia_1\n",
        "     \n",
        "elif condicion_2:\n",
        "     sentencia_2\n",
        "     \n",
        "else:\n",
        "     sentencia_3\n",
        "~~~\n",
        "\n",
        "- ***Si se cumple la condición 1, se ejecuta la sentencia 1***\n",
        "- ***Si no se cumple la condición 1 pero sí que se cumple la condición 2, se ejecuta la sentencia 2***\n",
        "- ***Si no se cumplen ni la condición 1 ni la condición 2, se ejecuta la sentencia 3.***\n",
        "\n",
        "***Entonces, para más de dos condiciones, se usa la estructura de control if, elif y else...***"
      ]
    },
    {
      "cell_type": "code",
      "execution_count": null,
      "id": "3865d512-8ea7-47d2-b85f-881aa4d9fc1b",
      "metadata": {
        "id": "3865d512-8ea7-47d2-b85f-881aa4d9fc1b",
        "outputId": "64415c1b-cc73-49dd-9ac6-5befba7de44f",
        "colab": {
          "base_uri": "https://localhost:8080/"
        }
      },
      "outputs": [
        {
          "output_type": "stream",
          "name": "stdout",
          "text": [
            "Ingresar un número entero positivo o negativo, por favor: 89\n",
            "El numero 89 ingresado es positivo\n"
          ]
        }
      ],
      "source": [
        "x = int(input(\"Ingresar un número entero positivo o negativo, por favor: \"))\n",
        "if x < 0:\n",
        "    print(f\"El numero {x} ingresado es negativo\") \n",
        "elif x == 0:\n",
        "    print(f\"El numero ingresado es cero\")\n",
        "else:\n",
        "    print(f\"El numero {x} ingresado es positivo\")"
      ]
    },
    {
      "cell_type": "markdown",
      "id": "2811359b-8dc9-473c-a893-9ff8987260e4",
      "metadata": {
        "id": "2811359b-8dc9-473c-a893-9ff8987260e4"
      },
      "source": [
        "**Otro ejemplo...**"
      ]
    },
    {
      "cell_type": "code",
      "execution_count": null,
      "id": "138642ff-5932-4676-8343-cee92e9c505f",
      "metadata": {
        "id": "138642ff-5932-4676-8343-cee92e9c505f",
        "outputId": "5c77ad79-17bd-427f-b318-253ca22143b6",
        "colab": {
          "base_uri": "https://localhost:8080/"
        }
      },
      "outputs": [
        {
          "output_type": "stream",
          "name": "stdout",
          "text": [
            "Ingresar un número del rango -5 al 5, por favor: -3\n",
            "tres negativo\n"
          ]
        }
      ],
      "source": [
        "x = int(input(\"Ingresar un número del rango -5 al 5, por favor: \"))\n",
        "if x == 0:\n",
        "    print(\"cero\")\n",
        "elif x == -3:\n",
        "    print(\"tres negativo\")\n",
        "elif x < 0:\n",
        "    print(\"valor negativo\")\n",
        "elif x == 3:\n",
        "    print(\"tres positivo\")\n",
        "else: \n",
        "    print(\"valor positivo\")"
      ]
    },
    {
      "cell_type": "markdown",
      "id": "0df392f7-1635-42da-aa33-514316af9f63",
      "metadata": {
        "id": "0df392f7-1635-42da-aa33-514316af9f63"
      },
      "source": [
        "#### **<font color=\"RoyalBlue\">```for```**"
      ]
    },
    {
      "cell_type": "markdown",
      "id": "71b2ec2e-efa1-4b89-8ee4-994828e0c1c2",
      "metadata": {
        "id": "71b2ec2e-efa1-4b89-8ee4-994828e0c1c2"
      },
      "source": [
        "**En general, un bucle es una estructura de control que repite un bloque de instrucciones un número predeterrminado de veces.** \n",
        "\n",
        "**El bloque de instrucciones que se repite se suele llamar cuerpo del bucle y cada repetición se suele llamar iteración. La sintaxis es la siguiente:**\n",
        "\n",
        "~~~python\n",
        "for variable in elemento iterable (lista, cadena, range, etc.):\n",
        "    cuerpo bucle\n",
        "~~~"
      ]
    },
    {
      "cell_type": "code",
      "execution_count": null,
      "id": "fcec3ff0-0b15-4090-9cb4-33daa336f90e",
      "metadata": {
        "id": "fcec3ff0-0b15-4090-9cb4-33daa336f90e",
        "outputId": "96ccf8a3-92aa-4d26-f8a8-9717672fd48f",
        "colab": {
          "base_uri": "https://localhost:8080/"
        }
      },
      "outputs": [
        {
          "output_type": "stream",
          "name": "stdout",
          "text": [
            "Si el valor asignado a x es 3, entonces su cuadrado es 9\n",
            "Si el valor asignado a x es 14, entonces su cuadrado es 196\n",
            "Si el valor asignado a x es 15, entonces su cuadrado es 225\n",
            "Si el valor asignado a x es 56, entonces su cuadrado es 3136\n",
            "Si el valor asignado a x es 67, entonces su cuadrado es 4489\n"
          ]
        }
      ],
      "source": [
        "lista = [3, 14, 15, 56, 67]\n",
        "for x in lista:\n",
        "    print(f\"Si el valor asignado a x es {x}, entonces su cuadrado es {x ** 2}\")"
      ]
    },
    {
      "cell_type": "markdown",
      "id": "18a7c800-0d36-4d5e-a5eb-171a88b7aeb7",
      "metadata": {
        "id": "18a7c800-0d36-4d5e-a5eb-171a88b7aeb7"
      },
      "source": [
        "**Otro ejemplo...**"
      ]
    },
    {
      "cell_type": "code",
      "execution_count": null,
      "id": "6b6a1bf4-340c-480c-a157-362266e492ac",
      "metadata": {
        "id": "6b6a1bf4-340c-480c-a157-362266e492ac",
        "outputId": "c3927962-6760-48a1-ba86-846c7121f599",
        "colab": {
          "base_uri": "https://localhost:8080/"
        }
      },
      "outputs": [
        {
          "output_type": "stream",
          "name": "stdout",
          "text": [
            "1 x 1 = 1\n",
            "2 x 2 = 4\n",
            "3 x 3 = 9\n",
            "4 x 4 = 16\n",
            "5 x 5 = 25\n"
          ]
        }
      ],
      "source": [
        "lista = [1, 2, 3, 4, 5]\n",
        "for i in lista:\n",
        "    print(f\"{i} x {i} = {i ** 2}\")"
      ]
    },
    {
      "cell_type": "markdown",
      "id": "efa7979b-03a9-47f6-ac25-5a2e700914e4",
      "metadata": {
        "id": "efa7979b-03a9-47f6-ac25-5a2e700914e4"
      },
      "source": [
        "#### **<font color=\"RoyalBlue\">```while```**"
      ]
    },
    {
      "cell_type": "markdown",
      "id": "a78de1bc-5449-4b9a-be7d-23e88b6c4ca8",
      "metadata": {
        "id": "a78de1bc-5449-4b9a-be7d-23e88b6c4ca8"
      },
      "source": [
        "**El mecanismo de bucle más simple en Python es while...**\n",
        "\n",
        "~~~python\n",
        "while condicion:\n",
        "    cuerpo bucle\n",
        "~~~\n",
        "\n",
        "**La ejecución de la estructura de control while es asi:**\n",
        "\n",
        "**Python evalúa la condición:**\n",
        "- ***si el resultado es Verdadero (True) se ejecuta el cuerpo del bucle. Una vez ejecutado el cuerpo del bucle, luego se repite el proceso (se evalúa de nuevo la condición y, si es cierta, se ejecuta de nuevo el cuerpo del bucle) una y otra vez mientras la condición sea cierta.***\n",
        "- ***si el resultado es Falso (False), el cuerpo del bucle no se ejecuta y continúa la ejecución del resto del script.***\n",
        "\n",
        "**La variable o las variables que aparezcan en la condición se llaman variables de control. Las variables de control deben definirse antes del bucle while y modificarse en el bucle while.**"
      ]
    },
    {
      "cell_type": "code",
      "execution_count": null,
      "id": "fdc55361-1319-45d1-b10f-bce5e9cccc25",
      "metadata": {
        "id": "fdc55361-1319-45d1-b10f-bce5e9cccc25",
        "outputId": "a1658a5e-406a-4418-a8c8-e2e056a3ded9",
        "colab": {
          "base_uri": "https://localhost:8080/"
        }
      },
      "outputs": [
        {
          "output_type": "stream",
          "name": "stdout",
          "text": [
            "1\n",
            "2\n",
            "3\n",
            "4\n",
            "5\n"
          ]
        }
      ],
      "source": [
        "cuenta = 1\n",
        "while cuenta <= 5:\n",
        "    print(cuenta)\n",
        "    cuenta += 1"
      ]
    },
    {
      "cell_type": "code",
      "execution_count": null,
      "id": "509eb625-ba5c-4432-ad61-ebae6728e285",
      "metadata": {
        "id": "509eb625-ba5c-4432-ad61-ebae6728e285",
        "outputId": "befda8ba-4c42-4d91-8e89-92e50bf6c123",
        "colab": {
          "base_uri": "https://localhost:8080/"
        }
      },
      "outputs": [
        {
          "output_type": "stream",
          "name": "stdout",
          "text": [
            "Comienzo del bucle while\n",
            "1\n",
            "2\n",
            "3\n",
            "4\n",
            "5\n",
            "6\n",
            "7\n",
            "8\n",
            "9\n",
            "Bucle while finalizado\n"
          ]
        }
      ],
      "source": [
        "cuenta = 1\n",
        "print(\"Comienzo del bucle while\")\n",
        "while cuenta <= 9:\n",
        "    print(cuenta)\n",
        "    cuenta += 1\n",
        "print(\"Bucle while finalizado\")"
      ]
    },
    {
      "cell_type": "code",
      "execution_count": null,
      "id": "c71ca46f-9396-4788-8526-62d91bd29418",
      "metadata": {
        "id": "c71ca46f-9396-4788-8526-62d91bd29418",
        "outputId": "a4b1e77a-0971-4926-de0f-ca190d0a9966",
        "colab": {
          "base_uri": "https://localhost:8080/"
        }
      },
      "outputs": [
        {
          "output_type": "stream",
          "name": "stdout",
          "text": [
            "Comienzo del bucle while\n",
            "1\n",
            "4\n",
            "13\n",
            "40\n",
            "Bucle while finalizado\n"
          ]
        }
      ],
      "source": [
        "i = 1\n",
        "print(\"Comienzo del bucle while\")\n",
        "while i <= 60:\n",
        "  print(i)\n",
        "  i = 3 * i + 1\n",
        "print(\"Bucle while finalizado\")"
      ]
    },
    {
      "cell_type": "code",
      "execution_count": null,
      "id": "0833e3f4-a82b-4a6e-989a-eb2995a5786b",
      "metadata": {
        "id": "0833e3f4-a82b-4a6e-989a-eb2995a5786b",
        "outputId": "e0f3aa46-3edd-4fb3-c0e8-375c0543ddb4",
        "colab": {
          "base_uri": "https://localhost:8080/"
        }
      },
      "outputs": [
        {
          "output_type": "stream",
          "name": "stdout",
          "text": [
            "Escriba un número positivo: -8\n",
            "¡Ha escrito un número negativo! Inténtelo de nuevo\n",
            "Escriba un número positivo: 8\n",
            "Gracias\n"
          ]
        }
      ],
      "source": [
        "numero = int(input(\"Escriba un número positivo: \"))\n",
        "while numero < 0:\n",
        "  print(\"¡Ha escrito un número negativo! Inténtelo de nuevo\")\n",
        "  numero = int(input(\"Escriba un número positivo: \"))\n",
        "print(\"Gracias\")"
      ]
    },
    {
      "cell_type": "markdown",
      "id": "4025557c-9fcd-443f-af6a-ab79b3989260",
      "metadata": {
        "id": "4025557c-9fcd-443f-af6a-ab79b3989260"
      },
      "source": [
        "### 🔹 **<font color=\"RoyalBlue\">Operadores**"
      ]
    },
    {
      "cell_type": "markdown",
      "id": "20e7622c-09dc-4d85-9bb8-7b3e18b33bdb",
      "metadata": {
        "id": "20e7622c-09dc-4d85-9bb8-7b3e18b33bdb"
      },
      "source": [
        "+ **igualdad           ==**\n",
        "+ **desigualdad        !=**\n",
        "+ **menos que          <**\n",
        "+ **menor o igual que  <=**\n",
        "+ **mayor que          >**\n",
        "+ **mayor o igual que  >=**"
      ]
    },
    {
      "cell_type": "code",
      "execution_count": null,
      "id": "d35f708c-403c-4397-a3a8-f7a9398c3dc8",
      "metadata": {
        "id": "d35f708c-403c-4397-a3a8-f7a9398c3dc8"
      },
      "outputs": [],
      "source": [
        "x = 10"
      ]
    },
    {
      "cell_type": "code",
      "execution_count": null,
      "id": "8da05ea4-99a5-4ce4-9d29-eeea47f66d01",
      "metadata": {
        "id": "8da05ea4-99a5-4ce4-9d29-eeea47f66d01",
        "outputId": "323e9933-a73a-4a47-dd31-26bc246584e7",
        "colab": {
          "base_uri": "https://localhost:8080/"
        }
      },
      "outputs": [
        {
          "output_type": "execute_result",
          "data": {
            "text/plain": [
              "False"
            ]
          },
          "metadata": {},
          "execution_count": 24
        }
      ],
      "source": [
        "x == 7"
      ]
    },
    {
      "cell_type": "code",
      "execution_count": null,
      "id": "611e36da-7fee-40ae-b42d-7056516354f0",
      "metadata": {
        "id": "611e36da-7fee-40ae-b42d-7056516354f0",
        "outputId": "be4c79a3-2434-43b9-b6b8-a401d3153ef6",
        "colab": {
          "base_uri": "https://localhost:8080/"
        }
      },
      "outputs": [
        {
          "output_type": "execute_result",
          "data": {
            "text/plain": [
              "True"
            ]
          },
          "metadata": {},
          "execution_count": 25
        }
      ],
      "source": [
        "x == 10"
      ]
    },
    {
      "cell_type": "code",
      "execution_count": null,
      "id": "bda40115-c7e2-4010-b70c-e0911691ef12",
      "metadata": {
        "id": "bda40115-c7e2-4010-b70c-e0911691ef12",
        "outputId": "9fd80d17-1273-4327-e72b-51349c029da3",
        "colab": {
          "base_uri": "https://localhost:8080/"
        }
      },
      "outputs": [
        {
          "output_type": "execute_result",
          "data": {
            "text/plain": [
              "True"
            ]
          },
          "metadata": {},
          "execution_count": 26
        }
      ],
      "source": [
        "x != 9"
      ]
    },
    {
      "cell_type": "code",
      "execution_count": null,
      "id": "5e48e183-c37f-41cd-be6c-2dc933f4b641",
      "metadata": {
        "id": "5e48e183-c37f-41cd-be6c-2dc933f4b641",
        "outputId": "30eb269a-3e7c-42c2-f7ec-c69fde98e636",
        "colab": {
          "base_uri": "https://localhost:8080/"
        }
      },
      "outputs": [
        {
          "output_type": "execute_result",
          "data": {
            "text/plain": [
              "True"
            ]
          },
          "metadata": {},
          "execution_count": 27
        }
      ],
      "source": [
        "9 < x"
      ]
    },
    {
      "cell_type": "code",
      "execution_count": null,
      "id": "f16354ef-e7b5-439f-9f90-6d7a57d98b0d",
      "metadata": {
        "id": "f16354ef-e7b5-439f-9f90-6d7a57d98b0d",
        "outputId": "0daf3616-4ff9-49f5-bf8d-459fe6720a6c",
        "colab": {
          "base_uri": "https://localhost:8080/"
        }
      },
      "outputs": [
        {
          "output_type": "execute_result",
          "data": {
            "text/plain": [
              "True"
            ]
          },
          "metadata": {},
          "execution_count": 28
        }
      ],
      "source": [
        "12 >= x"
      ]
    },
    {
      "cell_type": "markdown",
      "id": "bcaa6f86-ea4e-4352-be7c-87d6dc3a778c",
      "metadata": {
        "id": "bcaa6f86-ea4e-4352-be7c-87d6dc3a778c"
      },
      "source": [
        "### 🔹 <font color=\"RoyalBlue\">**Funciones**"
      ]
    },
    {
      "cell_type": "markdown",
      "id": "4584c0ed-8406-4a00-9ac3-a54e6a67f212",
      "metadata": {
        "id": "4584c0ed-8406-4a00-9ac3-a54e6a67f212"
      },
      "source": [
        "**El primer paso para la reutilización de código es la función: una función es entonces una pieza de código con nombre, separada de todas las demás. Una función puede tomar cualquier número y tipo de parámetros de entrada y devolver cualquier número y tipo de resultados de salida.**"
      ]
    },
    {
      "cell_type": "markdown",
      "id": "f608d339-c742-4156-80c4-dd0c6fecdf76",
      "metadata": {
        "id": "f608d339-c742-4156-80c4-dd0c6fecdf76"
      },
      "source": [
        "***Para definir una función, se debe escribir el nombre de la función y entre paréntesis los parámetros de la función y, por último, dos puntos. Los nombres de la función tienen las mismas reglas que los nombres de variables (deben comenzar con una letra y contener solo letras, o números).***"
      ]
    },
    {
      "cell_type": "code",
      "execution_count": null,
      "id": "7027fbe5-777b-4f57-b267-ac1882c0aeb9",
      "metadata": {
        "id": "7027fbe5-777b-4f57-b267-ac1882c0aeb9"
      },
      "outputs": [],
      "source": [
        "def potenciacuadrada(num):\n",
        "    return num ** 2"
      ]
    },
    {
      "cell_type": "markdown",
      "id": "c7144ba0-06c5-4e22-a854-5fb26c643e25",
      "metadata": {
        "id": "c7144ba0-06c5-4e22-a854-5fb26c643e25"
      },
      "source": [
        "**A esta función se llama simplemente escribiendo su nombre y paréntesis, el nombre que le pusimos fue potenciacuadrada**"
      ]
    },
    {
      "cell_type": "code",
      "execution_count": null,
      "id": "18f72673-dac4-4e7a-9541-a06d4466870b",
      "metadata": {
        "id": "18f72673-dac4-4e7a-9541-a06d4466870b",
        "outputId": "db5c164d-b55c-4d87-f77c-860c571784f0",
        "colab": {
          "base_uri": "https://localhost:8080/"
        }
      },
      "outputs": [
        {
          "output_type": "execute_result",
          "data": {
            "text/plain": [
              "9"
            ]
          },
          "metadata": {},
          "execution_count": 30
        }
      ],
      "source": [
        "potenciacuadrada(3)"
      ]
    },
    {
      "cell_type": "markdown",
      "id": "0fb78c20-8244-4f8f-a27f-1581fcdcbc87",
      "metadata": {
        "id": "0fb78c20-8244-4f8f-a27f-1581fcdcbc87"
      },
      "source": [
        "**Cuando se llama a una función, Python ejecuta el código dentro de su definición...**"
      ]
    },
    {
      "cell_type": "markdown",
      "id": "87f07ef9-f146-4955-a122-b2a7dfa53739",
      "metadata": {
        "id": "87f07ef9-f146-4955-a122-b2a7dfa53739"
      },
      "source": [
        "#### **<font color=\"RoyalBlue\">Argumentos y parámetros**"
      ]
    },
    {
      "cell_type": "markdown",
      "id": "78f6ec62-c1ab-41a5-ade6-d482336265fe",
      "metadata": {
        "id": "78f6ec62-c1ab-41a5-ade6-d482336265fe"
      },
      "source": [
        "**Los valores que se pasan a la función cuando se llama se conocen como argumentos. Cuando se llama a una función con argumentos, los valores de esos argumentos se copian en sus parámetros correspondientes dentro de la función.**"
      ]
    },
    {
      "cell_type": "markdown",
      "id": "0f2d1134-ca0e-42a5-a52f-a3ee94890bdb",
      "metadata": {
        "id": "0f2d1134-ca0e-42a5-a52f-a3ee94890bdb"
      },
      "source": [
        "##### **<font color=\"RoyalBlue\">Por posición**\n",
        "\n",
        "**Los argumentos de la función,  se reciben por orden en los parámetros definidos. Se dice por tanto que son argumentos por posición...**"
      ]
    },
    {
      "cell_type": "code",
      "execution_count": null,
      "id": "7247332b-a220-4a01-af88-f3ef375be4fb",
      "metadata": {
        "id": "7247332b-a220-4a01-af88-f3ef375be4fb"
      },
      "outputs": [],
      "source": [
        "def resta(a, b):\n",
        "    return a - b"
      ]
    },
    {
      "cell_type": "code",
      "execution_count": null,
      "id": "60d42006-8f83-442f-b232-2a54b7bda7f6",
      "metadata": {
        "id": "60d42006-8f83-442f-b232-2a54b7bda7f6",
        "outputId": "ad77ea73-a26c-41ea-a3a9-960f345800c9",
        "colab": {
          "base_uri": "https://localhost:8080/"
        }
      },
      "outputs": [
        {
          "output_type": "execute_result",
          "data": {
            "text/plain": [
              "20"
            ]
          },
          "metadata": {},
          "execution_count": 32
        }
      ],
      "source": [
        "resta(100, 80)"
      ]
    },
    {
      "cell_type": "code",
      "execution_count": null,
      "id": "7e9fc126-bb43-4704-a5b2-9c50808b2a06",
      "metadata": {
        "id": "7e9fc126-bb43-4704-a5b2-9c50808b2a06",
        "outputId": "4baeff06-d538-41fa-898d-776fab5e3d1a",
        "colab": {
          "base_uri": "https://localhost:8080/"
        }
      },
      "outputs": [
        {
          "output_type": "execute_result",
          "data": {
            "text/plain": [
              "50"
            ]
          },
          "metadata": {},
          "execution_count": 33
        }
      ],
      "source": [
        "resta(500, 450)"
      ]
    },
    {
      "cell_type": "markdown",
      "id": "a3df5f80-92f2-4a79-b0ce-7166f834c910",
      "metadata": {
        "id": "a3df5f80-92f2-4a79-b0ce-7166f834c910"
      },
      "source": [
        "##### **<font color=\"RoyalBlue\">Por nombre**\n",
        "\n",
        "**Es posible evadir el orden de los parámetros si se indica durante la llamada que valor tiene cada parámetro a partir de su nombre...**"
      ]
    },
    {
      "cell_type": "code",
      "execution_count": null,
      "id": "cc4105f3-f677-4f7d-a0e6-6a06a3b13555",
      "metadata": {
        "id": "cc4105f3-f677-4f7d-a0e6-6a06a3b13555"
      },
      "outputs": [],
      "source": [
        "def suma(a, b):\n",
        "    return a + b"
      ]
    },
    {
      "cell_type": "code",
      "execution_count": null,
      "id": "0606cb3b-4d76-4982-99ab-683b37a5e520",
      "metadata": {
        "id": "0606cb3b-4d76-4982-99ab-683b37a5e520",
        "outputId": "614e86a0-74ea-4922-d83b-5c53f32f9d71",
        "colab": {
          "base_uri": "https://localhost:8080/"
        }
      },
      "outputs": [
        {
          "output_type": "execute_result",
          "data": {
            "text/plain": [
              "1450"
            ]
          },
          "metadata": {},
          "execution_count": 35
        }
      ],
      "source": [
        "suma(b=1000, a=450)"
      ]
    },
    {
      "cell_type": "code",
      "execution_count": null,
      "id": "feddf302-52c9-4fa7-b3e6-c7652d447b96",
      "metadata": {
        "id": "feddf302-52c9-4fa7-b3e6-c7652d447b96",
        "outputId": "43bb3d9f-4517-4e64-d141-d3e1e9a08b58",
        "colab": {
          "base_uri": "https://localhost:8080/"
        }
      },
      "outputs": [
        {
          "output_type": "execute_result",
          "data": {
            "text/plain": [
              "600"
            ]
          },
          "metadata": {},
          "execution_count": 36
        }
      ],
      "source": [
        "suma(b=500, a=100)"
      ]
    },
    {
      "cell_type": "markdown",
      "id": "4bcd2492-366f-49b8-85fa-8bb06ccd439c",
      "metadata": {
        "id": "4bcd2492-366f-49b8-85fa-8bb06ccd439c"
      },
      "source": [
        "#### **<font color=\"RoyalBlue\">Ejemplos**"
      ]
    },
    {
      "cell_type": "code",
      "execution_count": null,
      "id": "02141921-11c0-4ccf-bc28-2f2757e80969",
      "metadata": {
        "id": "02141921-11c0-4ccf-bc28-2f2757e80969"
      },
      "outputs": [],
      "source": [
        "color = \"rojo\""
      ]
    },
    {
      "cell_type": "code",
      "execution_count": null,
      "id": "12576cbf-0acb-49fb-83b5-29e4d56f0a6c",
      "metadata": {
        "id": "12576cbf-0acb-49fb-83b5-29e4d56f0a6c"
      },
      "outputs": [],
      "source": [
        "def semaforo(color):\n",
        "    if color == \"rojo\":\n",
        "        return \"No debo cruzar la calle.\"\n",
        "    elif color == \"verde\":\n",
        "        return \"Puedo cruzar la calle.\"\n",
        "    elif color == 'amarillo':\n",
        "        return \"Podría cruzar la calle, pero con precaución.\"\n",
        "    else:\n",
        "        return \"Ni idea que es esto \" + color +  \". ¿Seré daltónico?...\""
      ]
    },
    {
      "cell_type": "code",
      "execution_count": null,
      "id": "9ad6e3c3-14b6-4e97-a836-fccbd640e9ff",
      "metadata": {
        "id": "9ad6e3c3-14b6-4e97-a836-fccbd640e9ff",
        "outputId": "7b8ad9d8-19cf-4027-ed71-c1fccf0b65c4",
        "colab": {
          "base_uri": "https://localhost:8080/",
          "height": 35
        }
      },
      "outputs": [
        {
          "output_type": "execute_result",
          "data": {
            "application/vnd.google.colaboratory.intrinsic+json": {
              "type": "string"
            },
            "text/plain": [
              "'No debo cruzar la calle.'"
            ]
          },
          "metadata": {},
          "execution_count": 39
        }
      ],
      "source": [
        "semaforo(color)"
      ]
    },
    {
      "cell_type": "code",
      "execution_count": null,
      "id": "a090f1a8-e5b8-4851-b564-34c4cbfff10a",
      "metadata": {
        "id": "a090f1a8-e5b8-4851-b564-34c4cbfff10a",
        "outputId": "cb2a47be-8d23-47e3-c605-38c12db73862",
        "colab": {
          "base_uri": "https://localhost:8080/",
          "height": 35
        }
      },
      "outputs": [
        {
          "output_type": "execute_result",
          "data": {
            "application/vnd.google.colaboratory.intrinsic+json": {
              "type": "string"
            },
            "text/plain": [
              "'Ni idea que es esto azul. ¿Seré daltónico?...'"
            ]
          },
          "metadata": {},
          "execution_count": 40
        }
      ],
      "source": [
        "semaforo(\"azul\")"
      ]
    },
    {
      "cell_type": "code",
      "execution_count": null,
      "id": "3223f527-b176-4a4d-b2ea-992423ddeb5c",
      "metadata": {
        "id": "3223f527-b176-4a4d-b2ea-992423ddeb5c",
        "outputId": "a947d877-b315-413b-cb06-4a226b546b69",
        "colab": {
          "base_uri": "https://localhost:8080/"
        }
      },
      "outputs": [
        {
          "output_type": "stream",
          "name": "stdout",
          "text": [
            "No debo cruzar la calle.\n"
          ]
        }
      ],
      "source": [
        "comentario = semaforo(color)\n",
        "print(comentario)"
      ]
    },
    {
      "cell_type": "markdown",
      "id": "708f1f82-3953-4b01-b871-407bcf02dab6",
      "metadata": {
        "id": "708f1f82-3953-4b01-b871-407bcf02dab6"
      },
      "source": [
        "**La función hizo lo siguiente:**\n",
        "\n",
        "+ ***Asignó el valor de la variable color al parámetro color de la función semaforo.***\n",
        "+ ***Ejecutó la cadena lógica if -elif - else***\n",
        "+ ***Devuelve una cadena de caracteres.***"
      ]
    },
    {
      "cell_type": "markdown",
      "id": "971a6cb0-a07d-449a-89be-974742226673",
      "metadata": {
        "id": "971a6cb0-a07d-449a-89be-974742226673"
      },
      "source": [
        "### 🔹 **<font color=\"RoyalBlue\">```None```**"
      ]
    },
    {
      "cell_type": "markdown",
      "id": "58b40ba9-bdcd-4666-85ef-d9b8fe6790d9",
      "metadata": {
        "id": "58b40ba9-bdcd-4666-85ef-d9b8fe6790d9"
      },
      "source": [
        "***Tambien se puede usar el valor ninguno... None.***\n",
        "\n",
        "**None es un valor especial de Python que ocupa un lugar cuando no hay nada que decir. No es lo mismo que el valor booleano, aunque parece falso cuando se lo evalúa como booleano.**"
      ]
    },
    {
      "cell_type": "code",
      "execution_count": null,
      "id": "1b74f0ca-225d-4ba1-a22f-f6f617283661",
      "metadata": {
        "id": "1b74f0ca-225d-4ba1-a22f-f6f617283661"
      },
      "outputs": [],
      "source": [
        "nada = None"
      ]
    },
    {
      "cell_type": "code",
      "execution_count": null,
      "id": "8de4e08e-8deb-4701-9f28-c307730c76a1",
      "metadata": {
        "id": "8de4e08e-8deb-4701-9f28-c307730c76a1",
        "outputId": "92be8127-82f4-49ab-a9c7-ec97c7c58e17",
        "colab": {
          "base_uri": "https://localhost:8080/"
        }
      },
      "outputs": [
        {
          "output_type": "stream",
          "name": "stdout",
          "text": [
            "Acá no hay nada\n"
          ]
        }
      ],
      "source": [
        "if nada:\n",
        "    print(\"Acá puede haber algo\")\n",
        "else:\n",
        "    print(\"Acá no hay nada\")"
      ]
    },
    {
      "cell_type": "markdown",
      "id": "f4ea01cb-9858-4199-81f4-5c85a25d39db",
      "metadata": {
        "id": "f4ea01cb-9858-4199-81f4-5c85a25d39db"
      },
      "source": [
        "**Tambien se lo podría hacer de esta forma:**"
      ]
    },
    {
      "cell_type": "code",
      "execution_count": null,
      "id": "05d2a2ab-4ac9-49da-b8a3-47a56e36db40",
      "metadata": {
        "id": "05d2a2ab-4ac9-49da-b8a3-47a56e36db40",
        "outputId": "969fa84a-3387-4cd2-eed4-f724c8a3d711",
        "colab": {
          "base_uri": "https://localhost:8080/"
        }
      },
      "outputs": [
        {
          "output_type": "stream",
          "name": "stdout",
          "text": [
            "Acá no hay nada\n"
          ]
        }
      ],
      "source": [
        "if nada is None:\n",
        "     print(\"Acá no hay nada\")\n",
        "else:\n",
        "     print(\"Acá puede haber algo\")"
      ]
    },
    {
      "cell_type": "markdown",
      "id": "3417dead-da76-4e0d-876e-83caab0143cd",
      "metadata": {
        "id": "3417dead-da76-4e0d-876e-83caab0143cd"
      },
      "source": [
        "**Esto parece una distinción sutil, pero es importante en Python. Se debe poder distinguir un valor que falta de un valor vacío.**"
      ]
    },
    {
      "cell_type": "markdown",
      "source": [
        "---\n",
        "<p>\n",
        "<font color=\"RoyalBlue\">\n",
        "\n",
        "💙 **Hemos llegado al fin de este cuaderno, felicitaciones hemos aprendido un poco más, ahora a seguir en el proximo cuaderno...** \n",
        "</font>\n",
        "</p>\n",
        "\n",
        "---"
      ],
      "metadata": {
        "id": "lHtvKzBF-lYa"
      },
      "id": "lHtvKzBF-lYa"
    },
    {
      "cell_type": "markdown",
      "source": [
        "# 😀"
      ],
      "metadata": {
        "id": "qLXL6MiT-qaR"
      },
      "id": "qLXL6MiT-qaR"
    }
  ],
  "metadata": {
    "kernelspec": {
      "display_name": "Python 3 (ipykernel)",
      "language": "python",
      "name": "python3"
    },
    "language_info": {
      "codemirror_mode": {
        "name": "ipython",
        "version": 3
      },
      "file_extension": ".py",
      "mimetype": "text/x-python",
      "name": "python",
      "nbconvert_exporter": "python",
      "pygments_lexer": "ipython3",
      "version": "3.10.2"
    },
    "toc-autonumbering": false,
    "toc-showmarkdowntxt": false,
    "colab": {
      "provenance": [],
      "toc_visible": true,
      "include_colab_link": true
    }
  },
  "nbformat": 4,
  "nbformat_minor": 5
}