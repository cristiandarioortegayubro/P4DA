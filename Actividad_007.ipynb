{
  "cells": [
    {
      "cell_type": "markdown",
      "metadata": {
        "id": "view-in-github",
        "colab_type": "text"
      },
      "source": [
        "<a href=\"https://colab.research.google.com/github/cristiandarioortegayubro/P4DA/blob/main/Actividad_007.ipynb\" target=\"_parent\"><img src=\"https://colab.research.google.com/assets/colab-badge.svg\" alt=\"Open In Colab\"/></a>"
      ]
    },
    {
      "cell_type": "markdown",
      "source": [
        "![](https://github.com/cristiandarioortegayubro/P4DA/blob/main/Logo.png?raw=true)"
      ],
      "metadata": {
        "id": "mqstEpvFZIfh"
      },
      "id": "mqstEpvFZIfh"
    },
    {
      "cell_type": "markdown",
      "source": [
        "![logo](https://www.python.org/static/community_logos/python-powered-h-70x91.png)"
      ],
      "metadata": {
        "id": "mogSPUfQhyTK"
      },
      "id": "mogSPUfQhyTK"
    },
    {
      "cell_type": "markdown",
      "source": [
        "# ☯ <font color=\"RoyalBlue\">**Actividad 007**</font>"
      ],
      "metadata": {
        "id": "G6F-bbUnZov7"
      },
      "id": "G6F-bbUnZov7"
    },
    {
      "cell_type": "markdown",
      "source": [
        "- http://blog.properati.com.ar/properati-tools/\n",
        "- https://www.properati.com.ar/data"
      ],
      "metadata": {
        "id": "PAxBnjV1aJlK"
      },
      "id": "PAxBnjV1aJlK"
    },
    {
      "cell_type": "markdown",
      "source": [
        "![](https://blog.properati.com.ar/wp-content/uploads/2023/01/barrio-norte-buenos-aires-1128x484.jpg)"
      ],
      "metadata": {
        "id": "H2Zq_77_s72E"
      },
      "id": "H2Zq_77_s72E"
    },
    {
      "cell_type": "markdown",
      "id": "c6549ba7-e07b-4ace-bd81-e8f81e9d6bcd",
      "metadata": {
        "id": "c6549ba7-e07b-4ace-bd81-e8f81e9d6bcd"
      },
      "source": [
        "# <font color=\"RoyalBlue\">**Limpiar y graficar...**"
      ]
    },
    {
      "cell_type": "markdown",
      "source": [
        "Nos encontramos iniciando un nuevo proyecto, nuestra empresa es una pequeña inmobiliaria que quiere fusionar el potencial del manejo de datos con la venta/alquiler de propiedades. Al ser una pequeña empresa el ***departamento de datos*** esta compuesto por una persona: nosotros. \n",
        "\n",
        "Esto quiere decir que vamos a absorber los roles de:\n",
        "\n",
        "- Ingeniero de Datos, y \n",
        "- Analista de Datos.\n"
      ],
      "metadata": {
        "id": "Mi4H1Ydsy9gh"
      },
      "id": "Mi4H1Ydsy9gh"
    },
    {
      "cell_type": "markdown",
      "id": "9c77b7d0-bea3-4772-a168-60349409b1a3",
      "metadata": {
        "id": "9c77b7d0-bea3-4772-a168-60349409b1a3"
      },
      "source": [
        "## <font color=\"RoyalBlue\">**Ingesta de datos de propiedades**"
      ]
    },
    {
      "cell_type": "markdown",
      "id": "614cb164",
      "metadata": {
        "id": "614cb164"
      },
      "source": [
        "***El dataset central de este proyecto de propiedades de Argentina, tiene la siguientes columnas:***\n",
        "\n",
        "- **id** - Identificador del aviso. No es único: si el aviso es actualizado por la inmobiliaria (nueva versión del aviso) se crea un nuevo registro con la misma id pero distintas fechas: de alta y de baja.\n",
        "- **ad_type** - Tipo de aviso (Propiedad, Desarrollo/Proyecto).\n",
        "- **start_date** - Fecha de alta del aviso.\n",
        "- **end_date** - Fecha de baja del aviso.\n",
        "- **created_on** - Fecha de alta de la primera versión del aviso.\n",
        "- **lat** - Latitud.\n",
        "- **lon** - Longitud.\n",
        "- **l1** - Nivel administrativo 1: país.\n",
        "- **l2** - Nivel administrativo 2: usualmente provincia.\n",
        "- **l3** - Nivel administrativo 3: usualmente ciudad.\n",
        "- **l4** - Nivel administrativo 4: usualmente barrio.\n",
        "- **l5** - sin informacion\n",
        "- **l6** - sin informacion\n",
        "- **rooms** - Cantidad de ambientes\n",
        "- **bedrooms** - Cantidad de dormitorios\n",
        "- **bathrooms** - Cantidad de baños.\n",
        "- **surface_total** - Superficie total en m².\n",
        "- **surface_covered** - Superficie cubierta en m².\n",
        "- **price** - Precio publicado en el anuncio.\n",
        "- **currency** - Moneda del precio publicado.\n",
        "- **price_period** - Periodo del precio (Diario, Semanal, Mensual)\n",
        "- **title** - Título del anuncio.\n",
        "- **description** - Descripción del anuncio.\n",
        "- **property_type**: - Caracteristicas de la propiedad\n",
        "- **operation_type**: - Caracteristicas de la operacion ['Venta', 'Alquiler', 'Alquiler temporal']"
      ]
    },
    {
      "cell_type": "markdown",
      "source": [
        "## <font color=\"RoyalBlue\">**Habilitando bibliotecas**"
      ],
      "metadata": {
        "id": "akkMOa8Lz0TL"
      },
      "id": "akkMOa8Lz0TL"
    },
    {
      "cell_type": "markdown",
      "source": [
        "***Habilitar las bibliotecas necesarias para generar un dataframe, hacer limpieza de datos, y generar gráficos.***"
      ],
      "metadata": {
        "id": "BDHNiX8d0CSm"
      },
      "id": "BDHNiX8d0CSm"
    },
    {
      "cell_type": "markdown",
      "source": [
        "### Para analisis de datos"
      ],
      "metadata": {
        "id": "KHhKEDMu2KUK"
      },
      "id": "KHhKEDMu2KUK"
    },
    {
      "cell_type": "code",
      "source": [
        "# mi codigo aqui"
      ],
      "metadata": {
        "id": "8YyzmxiMz8Nx"
      },
      "id": "8YyzmxiMz8Nx",
      "execution_count": null,
      "outputs": []
    },
    {
      "cell_type": "markdown",
      "source": [
        "### Para gráficos"
      ],
      "metadata": {
        "id": "pEZgoAZb2RVp"
      },
      "id": "pEZgoAZb2RVp"
    },
    {
      "cell_type": "code",
      "source": [
        "# mi codigo aqui"
      ],
      "metadata": {
        "id": "v7UBjDaV0OQY"
      },
      "id": "v7UBjDaV0OQY",
      "execution_count": null,
      "outputs": []
    },
    {
      "cell_type": "markdown",
      "id": "d546b882-c289-4cae-99cb-2ea5e3072f71",
      "metadata": {
        "id": "d546b882-c289-4cae-99cb-2ea5e3072f71"
      },
      "source": [
        "## <font color=\"RoyalBlue\">**Obtención de los datos...**"
      ]
    },
    {
      "cell_type": "code",
      "source": [
        "from google.colab import drive\n",
        "drive.mount('/content/drive')"
      ],
      "metadata": {
        "colab": {
          "base_uri": "https://localhost:8080/"
        },
        "id": "Ez3FblDTjZlq",
        "outputId": "348a331a-55a7-435d-c997-11897a8ee451"
      },
      "id": "Ez3FblDTjZlq",
      "execution_count": null,
      "outputs": [
        {
          "output_type": "stream",
          "name": "stdout",
          "text": [
            "Mounted at /content/drive\n"
          ]
        }
      ]
    },
    {
      "cell_type": "markdown",
      "id": "87508501",
      "metadata": {
        "id": "87508501"
      },
      "source": [
        "***Leer el archivo  ```.csv``` con Pandas y guardarlo en una variable llamada ```prop```***"
      ]
    },
    {
      "cell_type": "code",
      "source": [
        "prop = pd.read_csv('ubicacion del archivo.csv.gz en google drive', \n",
        "                   compression='gzip', \n",
        "                   header=0, \n",
        "                   sep=',', \n",
        "                   quotechar='\"')"
      ],
      "metadata": {
        "id": "QuXzmGm6f8oO"
      },
      "id": "QuXzmGm6f8oO",
      "execution_count": null,
      "outputs": []
    },
    {
      "cell_type": "markdown",
      "id": "a2e59c4f",
      "metadata": {
        "id": "a2e59c4f"
      },
      "source": [
        "***Observar los primeros 8 registros***"
      ]
    },
    {
      "cell_type": "code",
      "execution_count": null,
      "id": "25b04fa1",
      "metadata": {
        "id": "25b04fa1"
      },
      "outputs": [],
      "source": [
        "# mi codigo aqui"
      ]
    },
    {
      "cell_type": "markdown",
      "source": [
        "***Observar los últimos 5 registros***"
      ],
      "metadata": {
        "id": "VrQhidLF0sWf"
      },
      "id": "VrQhidLF0sWf"
    },
    {
      "cell_type": "code",
      "source": [
        "# mi codigo aqui"
      ],
      "metadata": {
        "id": "Dh437zE40u9k"
      },
      "id": "Dh437zE40u9k",
      "execution_count": null,
      "outputs": []
    },
    {
      "cell_type": "markdown",
      "id": "fb67d753",
      "metadata": {
        "id": "fb67d753"
      },
      "source": [
        "***Imprimir la cantidad de filas y columnas del dataframe***"
      ]
    },
    {
      "cell_type": "markdown",
      "source": [
        "**PUNTO DE REVISIÓN**\n",
        "\n",
        "***A esta altura el dataframe tiene $1000000$ filas y $25$ columnas...***"
      ],
      "metadata": {
        "id": "672Gi5UPJ4Fl"
      },
      "id": "672Gi5UPJ4Fl"
    },
    {
      "cell_type": "code",
      "execution_count": null,
      "id": "be399657",
      "metadata": {
        "id": "be399657",
        "colab": {
          "base_uri": "https://localhost:8080/"
        },
        "outputId": "36f43832-6501-4f38-9f27-388750ce9b8c"
      },
      "outputs": [
        {
          "output_type": "stream",
          "name": "stdout",
          "text": [
            "El dataset contiene 1000000 filas y 25 columnas\n"
          ]
        }
      ],
      "source": [
        "prop.shape\n",
        "print(f\"El dataset contiene {prop.shape[0]} filas y {prop.shape[1]} columnas\")"
      ]
    },
    {
      "cell_type": "markdown",
      "source": [
        "**Usar info**"
      ],
      "metadata": {
        "id": "q0M9SYUC1eML"
      },
      "id": "q0M9SYUC1eML"
    },
    {
      "cell_type": "code",
      "source": [
        "# mi codigo aqui"
      ],
      "metadata": {
        "id": "3uG9R1_o1gPQ"
      },
      "id": "3uG9R1_o1gPQ",
      "execution_count": null,
      "outputs": []
    },
    {
      "cell_type": "markdown",
      "source": [
        "***Usar ```describe()``` para variables cuantitativas y mostrar el resumen con dos decimales y transpuesto (transposicion)...***"
      ],
      "metadata": {
        "id": "tgtDPClI1G8R"
      },
      "id": "tgtDPClI1G8R"
    },
    {
      "cell_type": "code",
      "source": [
        "# mi codigo aqui"
      ],
      "metadata": {
        "id": "DUa-RYCz1Htb"
      },
      "id": "DUa-RYCz1Htb",
      "execution_count": null,
      "outputs": []
    },
    {
      "cell_type": "markdown",
      "source": [
        "***Usar ```describe()``` para variables cualitativas y mostrar resumen transpuesto...***"
      ],
      "metadata": {
        "id": "_3Y9Etp61Q5N"
      },
      "id": "_3Y9Etp61Q5N"
    },
    {
      "cell_type": "code",
      "source": [
        "# mi codigo aqui"
      ],
      "metadata": {
        "id": "AcEaEYMY1RUr"
      },
      "id": "AcEaEYMY1RUr",
      "execution_count": null,
      "outputs": []
    },
    {
      "cell_type": "markdown",
      "source": [
        "***Ver si existen valores nulos***"
      ],
      "metadata": {
        "id": "WD0CC_fe16mq"
      },
      "id": "WD0CC_fe16mq"
    },
    {
      "cell_type": "code",
      "source": [
        "# mi codigo aqui"
      ],
      "metadata": {
        "id": "arE6F23o2AY8"
      },
      "id": "arE6F23o2AY8",
      "execution_count": null,
      "outputs": []
    },
    {
      "cell_type": "markdown",
      "source": [
        "***Ver si existen valores duplicados***"
      ],
      "metadata": {
        "id": "8TTCzbtq2A45"
      },
      "id": "8TTCzbtq2A45"
    },
    {
      "cell_type": "code",
      "source": [
        "# mi codigo aqui"
      ],
      "metadata": {
        "id": "tDliPtfl2EhG"
      },
      "id": "tDliPtfl2EhG",
      "execution_count": null,
      "outputs": []
    },
    {
      "cell_type": "markdown",
      "source": [
        "**PUNTO DE REVISIÓN**\n",
        "\n",
        "***Antes de empezar con la limpieza de los datos el dataframe tiene $1000000$ filas y $25$ columnas...***"
      ],
      "metadata": {
        "id": "cvE5m4MfNHqn"
      },
      "id": "cvE5m4MfNHqn"
    },
    {
      "cell_type": "markdown",
      "source": [
        "## ⚡ <font color=\"RoyalBlue\">**Limpieza de los Datos**"
      ],
      "metadata": {
        "id": "CHx_L_R11kcs"
      },
      "id": "CHx_L_R11kcs"
    },
    {
      "cell_type": "markdown",
      "id": "ce7d6dcd",
      "metadata": {
        "id": "ce7d6dcd"
      },
      "source": [
        "***Ver si los nombres de las columnas tienen algun espacio oculto que nos dificulte al tratar de invocarlas, si encontras espacios ocultos, entonces se debe eliminar esos espacios ocultos.***"
      ]
    },
    {
      "cell_type": "code",
      "execution_count": null,
      "id": "03cb2d98",
      "metadata": {
        "id": "03cb2d98"
      },
      "outputs": [],
      "source": [
        "# mi codigo aqui"
      ]
    },
    {
      "cell_type": "markdown",
      "id": "42978649",
      "metadata": {
        "id": "42978649"
      },
      "source": [
        "***Ver los nulos que hay en el dataframe, en forma de porcentaje para cada columna, ordenado del mayor al menor...***"
      ]
    },
    {
      "cell_type": "code",
      "execution_count": null,
      "id": "0338d1f5",
      "metadata": {
        "id": "0338d1f5"
      },
      "outputs": [],
      "source": [
        "# mi codigo aqui"
      ]
    },
    {
      "cell_type": "markdown",
      "id": "c0f5c3ed",
      "metadata": {
        "id": "c0f5c3ed"
      },
      "source": [
        "***Eliminar columnas que tengan mas del $30$% de nulos (nans), luego de este paso deberian quedar $18$ columnas si lo hiciste bien...***"
      ]
    },
    {
      "cell_type": "code",
      "execution_count": null,
      "id": "4bce93ff",
      "metadata": {
        "id": "4bce93ff"
      },
      "outputs": [],
      "source": [
        "# mi codigo aqui"
      ]
    },
    {
      "cell_type": "code",
      "source": [
        "# mi codigo aqui"
      ],
      "metadata": {
        "id": "vGxhRnoJKJ8e"
      },
      "id": "vGxhRnoJKJ8e",
      "execution_count": null,
      "outputs": []
    },
    {
      "cell_type": "code",
      "source": [
        "# mi codigo aqui"
      ],
      "metadata": {
        "id": "YFJWtdfOKc3Q"
      },
      "id": "YFJWtdfOKc3Q",
      "execution_count": null,
      "outputs": []
    },
    {
      "cell_type": "markdown",
      "source": [
        "<font color=\"RoyalBlue\"> 🔵 **PUNTO DE REVISIÓN**\n",
        "\n",
        "***A esta altura el dataframe tiene $1000000$ filas y $18$ columnas...***"
      ],
      "metadata": {
        "id": "cNQhKZIcOY5s"
      },
      "id": "cNQhKZIcOY5s"
    },
    {
      "cell_type": "code",
      "source": [
        "# mi codigo aqui"
      ],
      "metadata": {
        "id": "hRmYswHxQmP5"
      },
      "id": "hRmYswHxQmP5",
      "execution_count": null,
      "outputs": []
    },
    {
      "cell_type": "markdown",
      "id": "080fb4a6",
      "metadata": {
        "id": "080fb4a6"
      },
      "source": [
        "***Quedarse con solo los registros que tienen un $90$% de sus celdas libres de nulos (nans), luego de este paso deberia quedarte $922772$ registros.***"
      ]
    },
    {
      "cell_type": "code",
      "source": [
        "# mi codigo aqui"
      ],
      "metadata": {
        "id": "B8YEa7eCjHr-"
      },
      "id": "B8YEa7eCjHr-",
      "execution_count": null,
      "outputs": []
    },
    {
      "cell_type": "code",
      "source": [
        "# mi codigo aqui"
      ],
      "metadata": {
        "id": "-1ex4iUKOI33"
      },
      "id": "-1ex4iUKOI33",
      "execution_count": null,
      "outputs": []
    },
    {
      "cell_type": "markdown",
      "source": [
        "<font color=\"RoyalBlue\"> 🔵 **PUNTO DE REVISIÓN**\n",
        "\n",
        "***A esta altura el dataframe tiene $922772$ filas y $18$ columnas...***"
      ],
      "metadata": {
        "id": "QTIkHtOgOqL5"
      },
      "id": "QTIkHtOgOqL5"
    },
    {
      "cell_type": "markdown",
      "id": "586f9ec0",
      "metadata": {
        "id": "586f9ec0"
      },
      "source": [
        "***El analisis se realizará sobre el *AMBA*, eliminar todo lo que no sea parte del mismo. Luego de este paso deberian quedarte $617747$ registros...***"
      ]
    },
    {
      "cell_type": "code",
      "source": [
        "# mi codigo aqui"
      ],
      "metadata": {
        "id": "TsTKVIaZn_8I"
      },
      "id": "TsTKVIaZn_8I",
      "execution_count": null,
      "outputs": []
    },
    {
      "cell_type": "markdown",
      "source": [
        "<font color=\"RoyalBlue\"> 🔵 **PUNTO DE REVISIÓN**\n",
        "\n",
        "\n",
        "***A esta altura el dataframe tiene $617747$ filas y $18$ columnas...***"
      ],
      "metadata": {
        "id": "Z-kUHCp9Pmpx"
      },
      "id": "Z-kUHCp9Pmpx"
    },
    {
      "cell_type": "markdown",
      "id": "586fa634",
      "metadata": {
        "id": "586fa634"
      },
      "source": [
        "***Chequear la columna l1 que representa al pais, deberia existir solo un valor: Argentina. Si hay otros valores eliminarlos...***"
      ]
    },
    {
      "cell_type": "code",
      "execution_count": null,
      "id": "30f98095",
      "metadata": {
        "id": "30f98095"
      },
      "outputs": [],
      "source": [
        "# mi codigo aqui"
      ]
    },
    {
      "cell_type": "markdown",
      "id": "9858fa35",
      "metadata": {
        "id": "9858fa35"
      },
      "source": [
        "***Los registros que tienen el mismo id son de la misma propiedad pero actualizado, quedarse con el mas actualizado, los demas eliminarlos.***"
      ]
    },
    {
      "cell_type": "code",
      "execution_count": null,
      "id": "64fa819c",
      "metadata": {
        "id": "64fa819c"
      },
      "outputs": [],
      "source": [
        "# mi codigo aqui"
      ]
    },
    {
      "cell_type": "markdown",
      "id": "7c5da49a",
      "metadata": {
        "id": "7c5da49a"
      },
      "source": [
        "***Eliminar las columnas:***\n",
        "\n",
        "- **id** porque ya sabemos que todos los registros son diferentes y no vamos a usar esta columna para identificarlos.\n",
        "- **l1** porque solo tiene un valor: Argentina. No aporta informacion a los datos.\n",
        "- **description** y **title** porque no contamos con herramientas de NLP para volverlas informacion para visualizar o modelizar.\n"
      ]
    },
    {
      "cell_type": "code",
      "execution_count": null,
      "id": "84b38892",
      "metadata": {
        "id": "84b38892"
      },
      "outputs": [],
      "source": [
        "# mi codigo aqui"
      ]
    },
    {
      "cell_type": "markdown",
      "source": [
        "<font color=\"RoyalBlue\"> 🔵 **PUNTO DE REVISIÓN**\n",
        "\n",
        "***A esta altura el dataframe tiene $617747$ filas y $14$ columnas...***"
      ],
      "metadata": {
        "id": "rnXjc4ndT4gx"
      },
      "id": "rnXjc4ndT4gx"
    },
    {
      "cell_type": "markdown",
      "id": "8bcb9fdf",
      "metadata": {
        "id": "8bcb9fdf"
      },
      "source": [
        "***Ver los primeros registros del dataframe...***"
      ]
    },
    {
      "cell_type": "code",
      "execution_count": null,
      "id": "b6211ff9",
      "metadata": {
        "id": "b6211ff9"
      },
      "outputs": [],
      "source": [
        "# mi codigo aqui"
      ]
    },
    {
      "cell_type": "markdown",
      "id": "e415e0d3",
      "metadata": {
        "id": "e415e0d3"
      },
      "source": [
        "***Sospechamos que las columnas ```start_date``` y ```created_on``` en este caso tienen los mismos valores, chequearlo, si son iguales eliminar la columna ```created_on```...***"
      ]
    },
    {
      "cell_type": "code",
      "source": [
        "# mi codigo aqui"
      ],
      "metadata": {
        "id": "ZXPjuuIGsdOI"
      },
      "id": "ZXPjuuIGsdOI",
      "execution_count": null,
      "outputs": []
    },
    {
      "cell_type": "markdown",
      "id": "5ee883c0",
      "metadata": {
        "id": "5ee883c0"
      },
      "source": [
        "***Si hiciste todo bien para este momento deberias tener un dataframe de $(617747, 13)$***\n",
        "\n",
        "***Ver los primeros registros del dataframe...***"
      ]
    },
    {
      "cell_type": "markdown",
      "source": [
        "<font color=\"RoyalBlue\"> 🔵 **PUNTO DE REVISIÓN**\n",
        "\n",
        "***A esta altura el dataframe tiene $617747$ filas y $13$ columnas...***"
      ],
      "metadata": {
        "id": "DjuQ9XoXUq2E"
      },
      "id": "DjuQ9XoXUq2E"
    },
    {
      "cell_type": "code",
      "execution_count": null,
      "id": "05c51f05",
      "metadata": {
        "id": "05c51f05"
      },
      "outputs": [],
      "source": [
        "# mi codigo aqui"
      ]
    },
    {
      "cell_type": "markdown",
      "id": "7e53fc57",
      "metadata": {
        "id": "7e53fc57"
      },
      "source": [
        "***Vamos a analizar la columna ```ad_type```, que tipos de datos unicos tiene, si solo tiene un tipo de dato categorico eliminarla porque no aporta información....***"
      ]
    },
    {
      "cell_type": "code",
      "source": [
        "# mi codigo aqui"
      ],
      "metadata": {
        "id": "pWj5x42vtH1-"
      },
      "id": "pWj5x42vtH1-",
      "execution_count": null,
      "outputs": []
    },
    {
      "cell_type": "markdown",
      "source": [
        "<font color=\"RoyalBlue\"> 🔵 **PUNTO DE REVISIÓN**\n",
        "\n",
        "***A esta altura el dataframe tiene $617747$ filas y $12$ columnas...***"
      ],
      "metadata": {
        "id": "wzs_sGihVTTF"
      },
      "id": "wzs_sGihVTTF"
    },
    {
      "cell_type": "markdown",
      "source": [
        "### AMBA"
      ],
      "metadata": {
        "id": "M6R22zoEFaru"
      },
      "id": "M6R22zoEFaru"
    },
    {
      "cell_type": "markdown",
      "id": "2c3843a6",
      "metadata": {
        "id": "2c3843a6"
      },
      "source": [
        "***Vamos a analizar la columna l3, para eso primero vamos a filtrar solo los lugares que pertenecen al AMBA, los cuales son:***\n",
        "    \n",
        "```python\n",
        "municipios = ['Ciudad Autónoma de Buenos Aires', 'Almirante Brown', 'Avellaneda', 'Berazategui', 'Esteban Echeverría', 'Ezeiza', 'Florencio Varela', 'General San Martín', 'Hurlingham', 'Ituzaingó', 'José C. Paz', 'La Matanza', 'Lanús', 'Lomas de Zamora', 'Malvinas Argentinas', 'Merlo', 'Moreno', 'Morón', 'Quilmes', 'San Fernando', 'San Isidro', 'San Miguel', 'Tigre', 'Tres de Febrero', 'Vicente López']\n",
        "```\n",
        "\n",
        "***No vamos a directamente filtrar por los que esten en esta lista, porque no nos fiamos de los datos y tal vez hay alguno que simplemente en el dataset esta escrito de otra forma, por eso primero vamos a ver los registros cuya columna l3 no pertenece a la lista de municipios...***"
      ]
    },
    {
      "cell_type": "code",
      "execution_count": null,
      "id": "5696666a",
      "metadata": {
        "id": "5696666a"
      },
      "outputs": [],
      "source": [
        "municipios = ['Ciudad Autónoma de Buenos Aires', 'Almirante Brown', 'Avellaneda', 'Berazategui', 'Esteban Echeverría', 'Ezeiza', 'Florencio Varela', 'General San Martín', 'Hurlingham', 'Ituzaingó', 'José C. Paz', 'La Matanza', 'Lanús', 'Lomas de Zamora', 'Malvinas Argentinas', 'Merlo', 'Moreno', 'Morón', 'Quilmes', 'San Fernando', 'San Isidro', 'San Miguel', 'Tigre', 'Tres de Febrero', 'Vicente López']"
      ]
    },
    {
      "cell_type": "code",
      "source": [
        "# mi codigo aqui"
      ],
      "metadata": {
        "id": "76xpRDeiHsQy"
      },
      "id": "76xpRDeiHsQy",
      "execution_count": null,
      "outputs": []
    },
    {
      "cell_type": "markdown",
      "id": "af314747",
      "metadata": {
        "id": "af314747"
      },
      "source": [
        "***Sacar de la seleccion anterior los que pertenecen a Capital Federal y los valores NaN, luego ver cuales son los valores unicos de l3 para ver si queda alguno que pertenece a los municipios pero se escribio con alguna diferencia...***"
      ]
    },
    {
      "cell_type": "code",
      "source": [
        "# mi codigo aqui"
      ],
      "metadata": {
        "id": "LYMD7-tNNdpD"
      },
      "id": "LYMD7-tNNdpD",
      "execution_count": null,
      "outputs": []
    },
    {
      "cell_type": "markdown",
      "id": "4dcd6099",
      "metadata": {
        "id": "4dcd6099"
      },
      "source": [
        "***Vemos que hay un municipio que se escribio de forma diferente y lo hubiesemos eliminado, teniendo en cuenta esto eliminar todos los registros que no pertenezcan al AMBA, ojo: no eliminar los que tengan valor NaN***"
      ]
    },
    {
      "cell_type": "code",
      "execution_count": null,
      "id": "81d816ef",
      "metadata": {
        "id": "81d816ef"
      },
      "outputs": [],
      "source": [
        "ambant = ['General Rodríguez',\n",
        " 'La Plata',\n",
        " 'Escobar',\n",
        " 'Pilar',\n",
        " 'San Vicente',\n",
        " 'Marcos Paz',\n",
        " 'Presidente Perón',\n",
        " 'Cañuelas']"
      ]
    },
    {
      "cell_type": "code",
      "execution_count": null,
      "id": "f4d7be63",
      "metadata": {
        "id": "f4d7be63"
      },
      "outputs": [],
      "source": [
        "# mi codigo aqui"
      ]
    },
    {
      "cell_type": "markdown",
      "id": "1abef239",
      "metadata": {
        "id": "1abef239"
      },
      "source": [
        "***Para este paso deberias tener 528442 rows × 12 columns...***"
      ]
    },
    {
      "cell_type": "markdown",
      "source": [
        "<font color=\"RoyalBlue\"> 🔵 **PUNTO DE REVISIÓN**\n",
        "\n",
        "***A esta altura el dataframe tiene $528442$ filas y $12$ columnas...***"
      ],
      "metadata": {
        "id": "17cuBMfzXyOW"
      },
      "id": "17cuBMfzXyOW"
    },
    {
      "cell_type": "markdown",
      "source": [
        "### <font color=\"RoyalBlue\"> **Latitud y longitud**"
      ],
      "metadata": {
        "id": "uzxsAsS8F6zJ"
      },
      "id": "uzxsAsS8F6zJ"
    },
    {
      "cell_type": "markdown",
      "id": "3d20ff22",
      "metadata": {
        "id": "3d20ff22"
      },
      "source": [
        "***Vamos a analizar la calidad de los datos en las columnas de lat y lon. Buscaremos posibles outliers o datos incorrectos, para eso calcula para ambas columnas: el promedio, el maximo y el minimo...***"
      ]
    },
    {
      "cell_type": "code",
      "execution_count": null,
      "id": "116fa060",
      "metadata": {
        "id": "116fa060"
      },
      "outputs": [],
      "source": [
        "# mi codigo aqui"
      ]
    },
    {
      "cell_type": "code",
      "source": [
        "# mi codigo aqui"
      ],
      "metadata": {
        "id": "0MZ7IHCWZR0R"
      },
      "id": "0MZ7IHCWZR0R",
      "execution_count": null,
      "outputs": []
    },
    {
      "cell_type": "markdown",
      "id": "87f32a7b",
      "metadata": {
        "id": "87f32a7b"
      },
      "source": [
        "***Evidentemente hay ciertos puntos que son incorrectos, sus coordenadas caen fuera del AMBA. Para eso buscamos cuales son los valores frontera para la latitud y longitud en el AMBA.***\n",
        "\n",
        "***Estimamos un segmentos de latitudes de [-35, -34] y longitudes de [-59 a -58]***\n",
        "\n",
        "***Eliminar todo lo que este fuera de esos rangos (no eliminar valores NaN)***"
      ]
    },
    {
      "cell_type": "code",
      "execution_count": null,
      "id": "16ed77a5",
      "metadata": {
        "id": "16ed77a5"
      },
      "outputs": [],
      "source": [
        "# mi codigo aqui"
      ]
    },
    {
      "cell_type": "markdown",
      "source": [
        "<font color=\"RoyalBlue\"> 🔵 **PUNTO DE REVISIÓN**\n",
        "\n",
        "***A esta altura el dataframe tiene $499739$ filas y $12$ columnas...***"
      ],
      "metadata": {
        "id": "NFiayaDdYiHH"
      },
      "id": "NFiayaDdYiHH"
    },
    {
      "cell_type": "markdown",
      "id": "13cd36db",
      "metadata": {
        "id": "13cd36db"
      },
      "source": [
        "***Volver a chequear estadisticos de lat y lon para ver si ya saque valores incorrectos...***"
      ]
    },
    {
      "cell_type": "code",
      "source": [
        "# mi codigo aqui"
      ],
      "metadata": {
        "id": "C_Y3wEftbybl"
      },
      "id": "C_Y3wEftbybl",
      "execution_count": null,
      "outputs": []
    },
    {
      "cell_type": "code",
      "source": [
        "# mi codigo aqui"
      ],
      "metadata": {
        "id": "FR80JjzAcD7G"
      },
      "id": "FR80JjzAcD7G",
      "execution_count": null,
      "outputs": []
    },
    {
      "cell_type": "markdown",
      "id": "9eba570e",
      "metadata": {
        "id": "9eba570e"
      },
      "source": [
        "***Eliminar los NaN de la columna l3***"
      ]
    },
    {
      "cell_type": "code",
      "execution_count": null,
      "id": "ee1e510a",
      "metadata": {
        "id": "ee1e510a"
      },
      "outputs": [],
      "source": [
        "# mi codigo aqui"
      ]
    },
    {
      "cell_type": "markdown",
      "source": [
        "<font color=\"RoyalBlue\"> 🔵 **PUNTO DE REVISIÓN**\n",
        "\n",
        "***A esta altura el dataframe tiene $499633$ filas y $12$ columnas...***"
      ],
      "metadata": {
        "id": "RLotELAfY0Jq"
      },
      "id": "RLotELAfY0Jq"
    },
    {
      "cell_type": "markdown",
      "id": "2f583013",
      "metadata": {
        "id": "2f583013"
      },
      "source": [
        "***Volvamos a ver el porcentaje de nulos de cada columna...***"
      ]
    },
    {
      "cell_type": "code",
      "execution_count": null,
      "id": "0f2da68b",
      "metadata": {
        "id": "0f2da68b"
      },
      "outputs": [],
      "source": [
        "# mi codigo aqui"
      ]
    },
    {
      "cell_type": "markdown",
      "id": "47fb5b49",
      "metadata": {
        "id": "47fb5b49"
      },
      "source": [
        "***Veamos los valores unicos de la columna ```property_type```***"
      ]
    },
    {
      "cell_type": "code",
      "execution_count": null,
      "id": "044b4d81",
      "metadata": {
        "id": "044b4d81"
      },
      "outputs": [],
      "source": [
        "# mi codigo aqui"
      ]
    },
    {
      "cell_type": "markdown",
      "id": "661f9634",
      "metadata": {
        "id": "661f9634"
      },
      "source": [
        "***La columna se ve bien, hacemos lo mismo con ```operation_type```***"
      ]
    },
    {
      "cell_type": "code",
      "execution_count": null,
      "id": "2ab77001",
      "metadata": {
        "id": "2ab77001"
      },
      "outputs": [],
      "source": [
        "# mi codigo aqui"
      ]
    },
    {
      "cell_type": "markdown",
      "id": "ad8b991b",
      "metadata": {
        "id": "ad8b991b"
      },
      "source": [
        "***La columna se ve bien. Nos quedan price, currency, bathrooms y rooms.***\n",
        "\n",
        "***Vamos a currency, veamos los valores unicos de esta columna...***"
      ]
    },
    {
      "cell_type": "code",
      "execution_count": null,
      "id": "76faf2c0",
      "metadata": {
        "id": "76faf2c0"
      },
      "outputs": [],
      "source": [
        "# mi codigo aqui"
      ]
    },
    {
      "cell_type": "markdown",
      "id": "22b47d75",
      "metadata": {
        "id": "22b47d75"
      },
      "source": [
        "***Tenemos el peso argentino, el dolar, el peso colombiano y NaN. Veamos los registros con NaN.***"
      ]
    },
    {
      "cell_type": "code",
      "execution_count": null,
      "id": "afe4d858",
      "metadata": {
        "id": "afe4d858"
      },
      "outputs": [],
      "source": [
        "# mi codigo aqui"
      ]
    },
    {
      "cell_type": "markdown",
      "id": "1a699d94",
      "metadata": {
        "id": "1a699d94"
      },
      "source": [
        "***Vemos que la cantidad de NaN en esta columna es del $1$%, sin esta columna no podremos saber en que moneda esta el precio, por lo que tampoco sabremos el precio (el precio es la columna mas interesante de este dataset). Decidimos eliminar los registros con NaN de la columna currency.***"
      ]
    },
    {
      "cell_type": "code",
      "execution_count": null,
      "id": "c73a4908",
      "metadata": {
        "id": "c73a4908"
      },
      "outputs": [],
      "source": [
        "# mi codigo aqui"
      ]
    },
    {
      "cell_type": "markdown",
      "source": [
        "<font color=\"RoyalBlue\"> 🔵 **PUNTO DE REVISIÓN**\n",
        "\n",
        "***A esta altura el dataframe tiene $494382$ filas y $12$ columnas...***"
      ],
      "metadata": {
        "id": "ZQKKVvKdZjnv"
      },
      "id": "ZQKKVvKdZjnv"
    },
    {
      "cell_type": "markdown",
      "id": "bebf4f8e",
      "metadata": {
        "id": "bebf4f8e"
      },
      "source": [
        "***Volver a analizar el porcentaje de NaN de cada columna.***"
      ]
    },
    {
      "cell_type": "code",
      "execution_count": null,
      "id": "0095cc40",
      "metadata": {
        "scrolled": true,
        "id": "0095cc40"
      },
      "outputs": [],
      "source": [
        "# mi codigo aqui"
      ]
    },
    {
      "cell_type": "markdown",
      "id": "e301f86c",
      "metadata": {
        "id": "e301f86c"
      },
      "source": [
        "***Vemos que se eliminaron los NaN de price al eliminar los de currency, matamos 2 pajaros de un tiro.***\n",
        "\n",
        "Ahora si crear una nueva columna **llamada precio** con el valor de las propiedades **en dolares**. Utilizar estas cotizaciones\n",
        "\n",
        "1 dolar = $383 pesos argentinos\n",
        "\n",
        "1 dolar = $4637 pesos colombianos"
      ]
    },
    {
      "cell_type": "code",
      "execution_count": null,
      "id": "071c6155",
      "metadata": {
        "id": "071c6155"
      },
      "outputs": [],
      "source": [
        "# mi codigo aqui"
      ]
    },
    {
      "cell_type": "markdown",
      "source": [
        "<font color=\"RoyalBlue\"> 🔵 **PUNTO DE REVISIÓN**\n",
        "\n",
        "***A esta altura el dataframe tiene $494382$ filas y $13$ columnas...***"
      ],
      "metadata": {
        "id": "tAxqFd0daSMa"
      },
      "id": "tAxqFd0daSMa"
    },
    {
      "cell_type": "markdown",
      "source": [
        "### <font color=\"RoyalBlue\"> **Alquiler temporal**"
      ],
      "metadata": {
        "id": "Qxf2-NcZH4yy"
      },
      "id": "Qxf2-NcZH4yy"
    },
    {
      "cell_type": "markdown",
      "id": "c7bfbe47",
      "metadata": {
        "id": "c7bfbe47"
      },
      "source": [
        "***Vamos a centrar el analisis en Alquiler y Venta, eliminamos los registros de 'Alquiler temporal'...***"
      ]
    },
    {
      "cell_type": "code",
      "execution_count": null,
      "id": "4d2f8a44",
      "metadata": {
        "id": "4d2f8a44"
      },
      "outputs": [],
      "source": [
        "# mi codigo aqui"
      ]
    },
    {
      "cell_type": "markdown",
      "source": [
        "<font color=\"RoyalBlue\"> 🔵 **PUNTO DE REVISIÓN**\n",
        "\n",
        "***A esta altura el dataframe tiene $472774$ filas y $13$ columnas...***"
      ],
      "metadata": {
        "id": "or59TkeNZ_Y-"
      },
      "id": "or59TkeNZ_Y-"
    },
    {
      "cell_type": "markdown",
      "id": "21e1b4b9",
      "metadata": {
        "id": "21e1b4b9"
      },
      "source": [
        "***Ordenar por la columna precio de forma tanto ascendente como descendente y ver los registros mas caros y mas baratos para buscar posibles datos incorrectos...***"
      ]
    },
    {
      "cell_type": "code",
      "execution_count": null,
      "id": "b01eb0f1",
      "metadata": {
        "id": "b01eb0f1"
      },
      "outputs": [],
      "source": [
        "# mi codigo aqui"
      ]
    },
    {
      "cell_type": "markdown",
      "source": [
        "### <font color=\"RoyalBlue\"> **Registros entre 40 dolares o 5000000**"
      ],
      "metadata": {
        "id": "gXZ7Cwu5Ibp-"
      },
      "id": "gXZ7Cwu5Ibp-"
    },
    {
      "cell_type": "markdown",
      "id": "3cdfdbe6",
      "metadata": {
        "id": "3cdfdbe6"
      },
      "source": [
        "***Eliminar los registros cuyo precio sea inferior a 40 dolares o mayor a 5.000.000 dolares...***"
      ]
    },
    {
      "cell_type": "code",
      "source": [
        "# mi codigo aqui"
      ],
      "metadata": {
        "id": "eggcQYhl_AX-"
      },
      "id": "eggcQYhl_AX-",
      "execution_count": null,
      "outputs": []
    },
    {
      "cell_type": "markdown",
      "source": [
        "<font color=\"RoyalBlue\"> 🔵 **PUNTO DE REVISIÓN**\n",
        "\n",
        "***A esta altura el dataframe tiene $467968$ filas y $13$ columnas...***"
      ],
      "metadata": {
        "id": "_l9JyweJaxiW"
      },
      "id": "_l9JyweJaxiW"
    },
    {
      "cell_type": "markdown",
      "id": "f27c28b4",
      "metadata": {
        "id": "f27c28b4"
      },
      "source": [
        "***Eliminar las ventas cuyo precio sea menor a 5000 dolares***"
      ]
    },
    {
      "cell_type": "code",
      "source": [
        "# mi codigo aqui"
      ],
      "metadata": {
        "id": "CnjcGp1a_fOi"
      },
      "id": "CnjcGp1a_fOi",
      "execution_count": null,
      "outputs": []
    },
    {
      "cell_type": "markdown",
      "source": [
        "<font color=\"RoyalBlue\"> 🔵 **PUNTO DE REVISIÓN**\n",
        "\n",
        "***A esta altura el dataframe tiene $467586$ filas y $13$ columnas...***"
      ],
      "metadata": {
        "id": "XJhTz9wIbWnr"
      },
      "id": "XJhTz9wIbWnr"
    },
    {
      "cell_type": "markdown",
      "id": "d7932dd9",
      "metadata": {
        "id": "d7932dd9"
      },
      "source": [
        "***Vamos ahora a la columna bathrooms, eliminamos los registros cuyo valor en bathrooms sea mayor al de rooms + 1***"
      ]
    },
    {
      "cell_type": "code",
      "source": [
        "# mi codigo aqui"
      ],
      "metadata": {
        "id": "uBToxUjLC6N3"
      },
      "id": "uBToxUjLC6N3",
      "execution_count": null,
      "outputs": []
    },
    {
      "cell_type": "markdown",
      "source": [
        "<font color=\"RoyalBlue\"> 🔵 **PUNTO DE REVISIÓN**\n",
        "\n",
        "***A esta altura el dataframe tiene $465964$ filas y $13$ columnas...***"
      ],
      "metadata": {
        "id": "hubqsXqFYhVx"
      },
      "id": "hubqsXqFYhVx"
    },
    {
      "cell_type": "markdown",
      "id": "0eb97f4f",
      "metadata": {
        "id": "0eb97f4f"
      },
      "source": [
        "***Ordenar el dataset por la cantidad de baños tanto ascendente como de forma descendente para ver posibles registros incorrectos...***"
      ]
    },
    {
      "cell_type": "code",
      "execution_count": null,
      "id": "99d48de8",
      "metadata": {
        "id": "99d48de8"
      },
      "outputs": [],
      "source": [
        "# mi codigo aqui"
      ]
    },
    {
      "cell_type": "markdown",
      "source": [
        "### <font color=\"RoyalBlue\"> **Mas de 8 baños o mas de 15 habitaciones**"
      ],
      "metadata": {
        "id": "LRICAjpChmkr"
      },
      "id": "LRICAjpChmkr"
    },
    {
      "cell_type": "markdown",
      "id": "2b6f1cd1",
      "metadata": {
        "id": "2b6f1cd1"
      },
      "source": [
        "***Eliminar los registros que tengan mas de $8$ baños o mas de $15$ habitaciones...***"
      ]
    },
    {
      "cell_type": "code",
      "source": [
        "# mi codigo aqui"
      ],
      "metadata": {
        "id": "qQSv5Bg7Qfs8"
      },
      "id": "qQSv5Bg7Qfs8",
      "execution_count": null,
      "outputs": []
    },
    {
      "cell_type": "markdown",
      "id": "e9d2167f",
      "metadata": {
        "id": "e9d2167f"
      },
      "source": [
        "***Eliminar la columna ```price``` y ```currency```, ya que vamos a utilizar la columna precio...***"
      ]
    },
    {
      "cell_type": "code",
      "execution_count": null,
      "id": "07f1e1f0",
      "metadata": {
        "id": "07f1e1f0"
      },
      "outputs": [],
      "source": [
        "# mi codigo aqui"
      ]
    },
    {
      "cell_type": "markdown",
      "source": [
        "<font color=\"RoyalBlue\"> 🔵 **PUNTO DE REVISIÓN**\n",
        "\n",
        "***A esta altura el dataframe tiene $465451$ filas y $11$ columnas...***"
      ],
      "metadata": {
        "id": "hvwmgZeeZHFV"
      },
      "id": "hvwmgZeeZHFV"
    },
    {
      "cell_type": "markdown",
      "source": [
        "### <font color=\"RoyalBlue\"> **Rellenado**\n"
      ],
      "metadata": {
        "id": "QiQjjpgZ4kx7"
      },
      "id": "QiQjjpgZ4kx7"
    },
    {
      "cell_type": "markdown",
      "id": "4370209b",
      "metadata": {
        "id": "4370209b"
      },
      "source": [
        "- ***Rellenar los NaN de bathrooms con la mediana de la columna bathrooms, hacer lo mismo con la columna rooms.***\n",
        "\n",
        "Pero antes vamos a marcar los registros a los cuales vamos a inferir, para eso **primero de rellenar**, crea una columna llamada **rellenado** la cual tendra un 1 si alguno de sus campos fue rellenado por nosotros o 0 si no fue rellenado."
      ]
    },
    {
      "cell_type": "code",
      "execution_count": null,
      "id": "cefdd21a",
      "metadata": {
        "id": "cefdd21a"
      },
      "outputs": [],
      "source": [
        "# mi codigo aqui"
      ]
    },
    {
      "cell_type": "markdown",
      "id": "537637eb",
      "metadata": {
        "id": "537637eb"
      },
      "source": [
        "***Calcular la cantidad de registros rellenados y no rellenados...***"
      ]
    },
    {
      "cell_type": "code",
      "execution_count": null,
      "id": "72a10219",
      "metadata": {
        "id": "72a10219"
      },
      "outputs": [],
      "source": [
        "# mi codigo aqui"
      ]
    },
    {
      "cell_type": "markdown",
      "id": "483867c9",
      "metadata": {
        "id": "483867c9"
      },
      "source": [
        "***Ahora si: Rellená los NaN de bathrooms con la mediana de la columna bathrooms, hacer lo mismo con la columna rooms con la mediana de la columna rooms...***"
      ]
    },
    {
      "cell_type": "code",
      "execution_count": null,
      "id": "f0ef4792",
      "metadata": {
        "id": "f0ef4792"
      },
      "outputs": [],
      "source": [
        "# mi codigo aqui"
      ]
    },
    {
      "cell_type": "markdown",
      "id": "de837883",
      "metadata": {
        "id": "de837883"
      },
      "source": [
        "***Volver a analizar el porcentaje de NaN de cada columna. No deberia de existir ningun NaN en nuestro dataframe...***"
      ]
    },
    {
      "cell_type": "code",
      "execution_count": null,
      "id": "01c58003",
      "metadata": {
        "id": "01c58003"
      },
      "outputs": [],
      "source": [
        "# mi codigo aqui"
      ]
    },
    {
      "cell_type": "markdown",
      "id": "5673d40a",
      "metadata": {
        "id": "5673d40a"
      },
      "source": [
        "***Parece ser que el formato se encuentra correcto, vamos a aplicar una pequeña comprobacion logica: la fecha start_date puede ser igual o menor que end_date, nunca mayor. Si ocurre esto, eliminar los registros que contienen estos errores.***"
      ]
    },
    {
      "cell_type": "code",
      "execution_count": null,
      "id": "a17237ca",
      "metadata": {
        "id": "a17237ca"
      },
      "outputs": [],
      "source": [
        "# mi codigo aqui"
      ]
    },
    {
      "cell_type": "markdown",
      "id": "9dff95a8",
      "metadata": {
        "id": "9dff95a8"
      },
      "source": [
        "***Vamos a pasar las columnas start_date y end_date, que son strings, a formato datetime. Recorda que el formato de fecha que tenemos en nuestras columnas de fecha es %Y/%m/%d***"
      ]
    },
    {
      "cell_type": "code",
      "execution_count": null,
      "id": "a1f4dc01",
      "metadata": {
        "id": "a1f4dc01"
      },
      "outputs": [],
      "source": [
        "# mi codigo aqui"
      ]
    },
    {
      "cell_type": "code",
      "source": [
        "#prop.end_date = pd.to_datetime(prop[\"end_date\"], format = \"%Y/%m/%d\")"
      ],
      "metadata": {
        "id": "J4LLDjIPZIU0"
      },
      "id": "J4LLDjIPZIU0",
      "execution_count": null,
      "outputs": []
    },
    {
      "cell_type": "markdown",
      "id": "4929e316",
      "metadata": {
        "id": "4929e316"
      },
      "source": [
        "***Al tratar de pasar la columna end_date a datetime nos sale un error, hay un registro que lo esta causando, investigar que registro causa este error...***"
      ]
    },
    {
      "cell_type": "markdown",
      "id": "91bb3750",
      "metadata": {
        "id": "91bb3750"
      },
      "source": [
        "***Hay muchos registros que tienen como end_date 9999-12-31, como la documentacion es de mala calidad, la misma no especifica que significa que el end_date tenga este valor, pero aplicando un poco de sentido comun deducimos que los registros que tienen esta fecha significa que el aviso no se dio de baja, por lo cual no se vendio.***\n",
        "\n",
        "***Cambiar los registros con esta fecha, cambiandola a la fecha de la primera publicacion de python por parte de Guido van Rossum:***\n",
        "**1991-02-20**. \n",
        "\n",
        "***Los registros con esta fecha seran los que aun no se vendieron.***"
      ]
    },
    {
      "cell_type": "code",
      "execution_count": null,
      "id": "c029425f",
      "metadata": {
        "id": "c029425f"
      },
      "outputs": [],
      "source": [
        "# mi codigo aqui"
      ]
    },
    {
      "cell_type": "markdown",
      "id": "99b95e37",
      "metadata": {
        "id": "99b95e37"
      },
      "source": [
        "***Ahora si pasar la columna end_date a datetime...***"
      ]
    },
    {
      "cell_type": "code",
      "execution_count": null,
      "id": "909791e0",
      "metadata": {
        "id": "909791e0"
      },
      "outputs": [],
      "source": [
        "# mi codigo aqui"
      ]
    },
    {
      "cell_type": "markdown",
      "id": "4d758ab6",
      "metadata": {
        "id": "4d758ab6"
      },
      "source": [
        "***Vamos a cambiar el nombre de las columnas de la siguiente manera:...***\n",
        "\n",
        "- start_date => inicio\n",
        "- end_date => fin\n",
        "- lat => lat\n",
        "- lon => lon\n",
        "- l2 => zona\n",
        "- l3 => municipio\n",
        "- rooms => ambientes\n",
        "- bathrooms => baños\n",
        "- property_type => tipo\n",
        "- operation_type => operacion\n",
        "- precio => precio\n",
        "- rellenado => rellenado"
      ]
    },
    {
      "cell_type": "code",
      "execution_count": null,
      "id": "6926d9f3",
      "metadata": {
        "id": "6926d9f3"
      },
      "outputs": [],
      "source": [
        "# mi codigo aqui"
      ]
    },
    {
      "cell_type": "markdown",
      "id": "375e239a",
      "metadata": {
        "id": "375e239a"
      },
      "source": [
        "***Crear dos columnas nuevas:***\n",
        "\n",
        "- ***año_inicio:*** tiene que contener el numero de año que hay en la fecha de la columna inicio\n",
        "- ***mes_inicio:*** tiene que contener el numero de mes que hay en la fecha de la columna inicio"
      ]
    },
    {
      "cell_type": "code",
      "execution_count": null,
      "id": "f771f501",
      "metadata": {
        "id": "f771f501"
      },
      "outputs": [],
      "source": [
        "# mi codigo aqui"
      ]
    },
    {
      "cell_type": "markdown",
      "id": "118e13d8",
      "metadata": {
        "id": "118e13d8"
      },
      "source": [
        "***Por ultimo, reinicia el indice...***"
      ]
    },
    {
      "cell_type": "code",
      "execution_count": null,
      "id": "50a8eb9f",
      "metadata": {
        "id": "50a8eb9f"
      },
      "outputs": [],
      "source": [
        "# mi codigo aqui"
      ]
    },
    {
      "cell_type": "markdown",
      "source": [
        "### <font color=\"RoyalBlue\"> 🥇 **Comprobacion**\n"
      ],
      "metadata": {
        "id": "q71BHpkIhxfG"
      },
      "id": "q71BHpkIhxfG"
    },
    {
      "cell_type": "markdown",
      "id": "4b42c034",
      "metadata": {
        "id": "4b42c034"
      },
      "source": [
        "***Si hasta aca lo hiciste bien te deberia quedar un dataset de $465451$ rows $×$ $14$ columns y que tenga los siguientes parametros iguales:...***\n",
        "\n"
      ]
    },
    {
      "cell_type": "code",
      "source": [
        "if (465451 - prop.shape[0]) == 0:\n",
        "  print(f\"Vamo nomaaaaaaaaaa\")\n",
        "else:\n",
        "  print(f\"Segui participando, todavia tenes una diferencia de {465451 - prop.shape[0]}\")"
      ],
      "metadata": {
        "colab": {
          "base_uri": "https://localhost:8080/"
        },
        "id": "LV6gB8ILgNkY",
        "outputId": "a902000f-e958-467a-8353-048cb2134b17"
      },
      "id": "LV6gB8ILgNkY",
      "execution_count": null,
      "outputs": [
        {
          "output_type": "stream",
          "name": "stdout",
          "text": [
            "Vamo nomaaaaaaaaaa\n"
          ]
        }
      ]
    },
    {
      "cell_type": "markdown",
      "id": "19ee256f-503a-42fa-9621-bc3318161eb5",
      "metadata": {
        "id": "19ee256f-503a-42fa-9621-bc3318161eb5"
      },
      "source": [
        "## <font color=\"RoyalBlue\"> 📊 **Análisis de datos**"
      ]
    },
    {
      "cell_type": "markdown",
      "id": "85806571",
      "metadata": {
        "id": "85806571"
      },
      "source": [
        "***El dueño de la inmobiliaria donde pertencemos no sabe lo que quiere, tampoco entiende que datos interesantes podriamos sacar de este dataset.***\n",
        "\n",
        "***Por eso nuestro objetivo es encontrar posibles datos curiosos sobre el mismo.*** \n",
        "\n",
        "***Algunos ejemplos de datos curiosos podrian ser:***\n",
        "\n",
        "- cantidad de propiedades por zona\n",
        "- media de precios por zona\n",
        "- media de precios por municipio\n",
        "- promedio de precio por tipo de venta\n",
        "- cantidad de ventas y de alquileres\n",
        "- Graficos de barras o de linea, precio vs ambientes\n",
        "- Cualquier cosa que te parezca interesante\n",
        "\n",
        "\n"
      ]
    },
    {
      "cell_type": "markdown",
      "source": [
        "---\n",
        "<p>\n",
        "<font color=\"RoyalBlue\">\n",
        "\n",
        "💙 💙 💙 **Hemos concluido con esta  actividad, si sobreviste, te esta gustando python...** \n",
        "</font>\n",
        "</p>\n",
        "\n",
        "---"
      ],
      "metadata": {
        "id": "dvYTm_8hsSsl"
      },
      "id": "dvYTm_8hsSsl"
    },
    {
      "cell_type": "markdown",
      "source": [
        "# 🤟"
      ],
      "metadata": {
        "id": "21M7QvusshSr"
      },
      "id": "21M7QvusshSr"
    }
  ],
  "metadata": {
    "kernelspec": {
      "display_name": "Python 3 (ipykernel)",
      "language": "python",
      "name": "python3"
    },
    "language_info": {
      "codemirror_mode": {
        "name": "ipython",
        "version": 3
      },
      "file_extension": ".py",
      "mimetype": "text/x-python",
      "name": "python",
      "nbconvert_exporter": "python",
      "pygments_lexer": "ipython3",
      "version": "3.9.7"
    },
    "colab": {
      "provenance": [],
      "include_colab_link": true
    }
  },
  "nbformat": 4,
  "nbformat_minor": 5
}