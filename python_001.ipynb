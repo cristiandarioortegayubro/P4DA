{
  "cells": [
    {
      "cell_type": "markdown",
      "metadata": {
        "id": "view-in-github",
        "colab_type": "text"
      },
      "source": [
        "<a href=\"https://colab.research.google.com/github/cristiandarioortegayubro/P4DA/blob/main/python_001.ipynb\" target=\"_parent\"><img src=\"https://colab.research.google.com/assets/colab-badge.svg\" alt=\"Open In Colab\"/></a>"
      ]
    },
    {
      "cell_type": "markdown",
      "source": [
        "![](https://github.com/cristiandarioortegayubro/P4DA/blob/main/Logo.png?raw=true)"
      ],
      "metadata": {
        "id": "uBHtO3tbUBGA"
      },
      "id": "uBHtO3tbUBGA"
    },
    {
      "cell_type": "markdown",
      "id": "49f579e7",
      "metadata": {
        "id": "49f579e7"
      },
      "source": [
        "![logo](https://www.python.org/static/community_logos/python-powered-h-70x91.png)"
      ]
    },
    {
      "cell_type": "markdown",
      "id": "6e754985-cdd9-4a64-9d7f-fcfbfa78abef",
      "metadata": {
        "id": "6e754985-cdd9-4a64-9d7f-fcfbfa78abef"
      },
      "source": [
        "## <font color=\"RoyalBlue\">**Creación y asignación de variables, y tipos de datos**</font>"
      ]
    },
    {
      "cell_type": "markdown",
      "id": "0704d660-cd44-4b7e-918d-65a4633e915e",
      "metadata": {
        "id": "0704d660-cd44-4b7e-918d-65a4633e915e"
      },
      "source": [
        "### 🔵 <font color=\"RoyalBlue\">**Variables**</font>"
      ]
    },
    {
      "cell_type": "markdown",
      "id": "bb7917f8-9206-4d4d-bbd9-d5319cfde855",
      "metadata": {
        "id": "bb7917f8-9206-4d4d-bbd9-d5319cfde855"
      },
      "source": [
        "📓 **El concepto ```variable``` proviene de las matemáticas. En matemáticas, una variable es un símbolo que forma parte de una expresión, una operación o de una fórmula. Normalmente las variables se representan mediante letras del alfabeto latino ( $x, y, z, n, i, j,$ etc.). Dependiendo del contexto en que se usen, las variables significan cosas distintas, por ejemplo:**"
      ]
    },
    {
      "cell_type": "markdown",
      "id": "e83db8dc-369e-417f-aba4-ce0955a6ca3c",
      "metadata": {
        "id": "e83db8dc-369e-417f-aba4-ce0955a6ca3c"
      },
      "source": [
        "- En el caso del álgebra, una variable representa una cantidad desconocida que se relaciona con otras y que en algunos casos podemos averiguar:\n",
        "\n",
        "$$x+3=5$$"
      ]
    },
    {
      "cell_type": "markdown",
      "id": "0a4583d9-59be-444c-a61c-8e56a2bfa862",
      "metadata": {
        "id": "0a4583d9-59be-444c-a61c-8e56a2bfa862"
      },
      "source": [
        "- En el caso del análisis matemático, una variable no representa una cantidad determinada, sino que representa todo un conjunto de valores:\n",
        "\n",
        "$$ y = x+1$$"
      ]
    },
    {
      "cell_type": "markdown",
      "id": "3c4e9170",
      "metadata": {
        "id": "3c4e9170"
      },
      "source": [
        "### 🔵 <font color=\"RoyalBlue\">**Creación y asignación de variables**</font>"
      ]
    },
    {
      "cell_type": "markdown",
      "id": "317cded4-e923-4b35-a7c7-2f1346d36d50",
      "metadata": {
        "id": "317cded4-e923-4b35-a7c7-2f1346d36d50"
      },
      "source": [
        "**En Programación también existe el concepto de \"variable\", parecido pero no idéntico al concepto matemático.**"
      ]
    },
    {
      "cell_type": "code",
      "execution_count": 1,
      "id": "10aff9f8-3837-4f22-bf89-023c9984c4e7",
      "metadata": {
        "id": "10aff9f8-3837-4f22-bf89-023c9984c4e7"
      },
      "outputs": [],
      "source": [
        "a = 2"
      ]
    },
    {
      "cell_type": "markdown",
      "id": "db55cf9c-f271-46e0-a27f-e9f168e8a36b",
      "metadata": {
        "id": "db55cf9c-f271-46e0-a27f-e9f168e8a36b"
      },
      "source": [
        "👀 **El símbolo $=$ hay que entenderlo como una asignación, no como una igualdad matemática. En Python las variables son \"etiquetas\" que permiten hacer referencia a los datos (que se guardan en unas \"cajas\" llamadas objetos), ya que Python es un lenguaje de programación orientado a objetos y su modelo de datos también está basado en objetos.**"
      ]
    },
    {
      "cell_type": "markdown",
      "id": "dbd8f260-4bba-4fa6-bad1-ad6e0b5247a0",
      "metadata": {
        "id": "dbd8f260-4bba-4fa6-bad1-ad6e0b5247a0"
      },
      "source": [
        "**Para cada dato que aparece en un script, Python crea un objeto que lo contiene. Cada objeto tiene:**\n",
        "\n",
        "- **Un identificador único (un número entero distinto para cada objeto). El identificador permite referirse al objeto sin ambigüedades.**\n",
        "- **Un tipo de dato (entero, decimal, cadena de caracteres, etc.). El tipo de datos permite saber qué operaciones pueden hacerse con el dato.**\n",
        "- **Un valor (el propio dato).**\n",
        "\n",
        "**Así, las variables en Python no guardan los datos, sino que son simples nombres para poder hacer referencia a esos objetos. Los nombres de las variables no pueden ser espacios en blanco.**"
      ]
    },
    {
      "cell_type": "markdown",
      "id": "750850af-92ad-4ed2-8462-438ff2f48b4e",
      "metadata": {
        "id": "750850af-92ad-4ed2-8462-438ff2f48b4e"
      },
      "source": [
        "- **Un indentificador...**"
      ]
    },
    {
      "cell_type": "code",
      "execution_count": 2,
      "id": "8e0a1627-19f9-4f4f-9d41-2c4785043bf4",
      "metadata": {
        "colab": {
          "base_uri": "https://localhost:8080/"
        },
        "id": "8e0a1627-19f9-4f4f-9d41-2c4785043bf4",
        "outputId": "fe840b2e-5e3a-4ca5-9edf-f04bf832627b"
      },
      "outputs": [
        {
          "output_type": "execute_result",
          "data": {
            "text/plain": [
              "140067850721008"
            ]
          },
          "metadata": {},
          "execution_count": 2
        }
      ],
      "source": [
        "id(\"Python\")"
      ]
    },
    {
      "cell_type": "code",
      "execution_count": 3,
      "id": "31ea980b-7150-4cbf-8cbf-a988212027e8",
      "metadata": {
        "colab": {
          "base_uri": "https://localhost:8080/"
        },
        "id": "31ea980b-7150-4cbf-8cbf-a988212027e8",
        "outputId": "075cf032-bbe3-4d50-b77f-921186fb28c8"
      },
      "outputs": [
        {
          "output_type": "execute_result",
          "data": {
            "text/plain": [
              "11537280"
            ]
          },
          "metadata": {},
          "execution_count": 3
        }
      ],
      "source": [
        "id(200)"
      ]
    },
    {
      "cell_type": "code",
      "execution_count": 4,
      "id": "81480701-ade7-456e-bcf8-256fd742f2b2",
      "metadata": {
        "colab": {
          "base_uri": "https://localhost:8080/"
        },
        "id": "81480701-ade7-456e-bcf8-256fd742f2b2",
        "outputId": "a8171e1f-76db-4c83-b508-f6e3edbed2f9"
      },
      "outputs": [
        {
          "output_type": "execute_result",
          "data": {
            "text/plain": [
              "11537280"
            ]
          },
          "metadata": {},
          "execution_count": 4
        }
      ],
      "source": [
        "a = 200\n",
        "id(a)"
      ]
    },
    {
      "cell_type": "markdown",
      "id": "e4c38ba6-e839-4f1f-a412-23b6a5f0c921",
      "metadata": {
        "id": "e4c38ba6-e839-4f1f-a412-23b6a5f0c921"
      },
      "source": [
        "+ **Un tipo de dato...**"
      ]
    },
    {
      "cell_type": "code",
      "execution_count": null,
      "id": "845eeb0c-4372-498d-8475-6d0568aea249",
      "metadata": {
        "colab": {
          "base_uri": "https://localhost:8080/"
        },
        "id": "845eeb0c-4372-498d-8475-6d0568aea249",
        "outputId": "fdb012ac-5970-4e96-d349-383ffc3162f8"
      },
      "outputs": [
        {
          "output_type": "execute_result",
          "data": {
            "text/plain": [
              "bool"
            ]
          },
          "metadata": {},
          "execution_count": 5
        }
      ],
      "source": [
        "type(True)"
      ]
    },
    {
      "cell_type": "code",
      "execution_count": null,
      "id": "babf0ccb-5973-4aaa-8715-f90affdb7181",
      "metadata": {
        "colab": {
          "base_uri": "https://localhost:8080/"
        },
        "id": "babf0ccb-5973-4aaa-8715-f90affdb7181",
        "outputId": "abdfda34-e94d-49d7-fa1d-bd471d0dbdd3"
      },
      "outputs": [
        {
          "output_type": "execute_result",
          "data": {
            "text/plain": [
              "str"
            ]
          },
          "metadata": {},
          "execution_count": 6
        }
      ],
      "source": [
        "type(\"Python\")"
      ]
    },
    {
      "cell_type": "code",
      "execution_count": null,
      "id": "5c970379-d873-4bf0-805b-db2d192ae9ec",
      "metadata": {
        "colab": {
          "base_uri": "https://localhost:8080/"
        },
        "id": "5c970379-d873-4bf0-805b-db2d192ae9ec",
        "outputId": "a6d2b4d9-6f6c-4be9-ef44-2d95dd5e6471"
      },
      "outputs": [
        {
          "output_type": "execute_result",
          "data": {
            "text/plain": [
              "int"
            ]
          },
          "metadata": {},
          "execution_count": 7
        }
      ],
      "source": [
        "type(2022)"
      ]
    },
    {
      "cell_type": "code",
      "execution_count": null,
      "id": "0a85f658-a54a-4071-9fae-af53b7eecedd",
      "metadata": {
        "colab": {
          "base_uri": "https://localhost:8080/"
        },
        "id": "0a85f658-a54a-4071-9fae-af53b7eecedd",
        "outputId": "2fdc8ce5-e5a2-487a-b136-55af43b333aa"
      },
      "outputs": [
        {
          "output_type": "execute_result",
          "data": {
            "text/plain": [
              "float"
            ]
          },
          "metadata": {},
          "execution_count": 8
        }
      ],
      "source": [
        "type(3.14)"
      ]
    },
    {
      "cell_type": "code",
      "execution_count": null,
      "id": "38086b90-a493-4531-9c0b-6b9ff410d623",
      "metadata": {
        "colab": {
          "base_uri": "https://localhost:8080/"
        },
        "id": "38086b90-a493-4531-9c0b-6b9ff410d623",
        "outputId": "d13958bc-ac75-43aa-f53e-9a149f05ef3b"
      },
      "outputs": [
        {
          "output_type": "execute_result",
          "data": {
            "text/plain": [
              "complex"
            ]
          },
          "metadata": {},
          "execution_count": 9
        }
      ],
      "source": [
        "type(3j)"
      ]
    },
    {
      "cell_type": "markdown",
      "id": "55292932-636f-4ac0-811f-9404ba5f2209",
      "metadata": {
        "id": "55292932-636f-4ac0-811f-9404ba5f2209"
      },
      "source": [
        "**Por otro lado, en Python se distingue entre objetos mutables y objetos inmutables:**\n",
        "\n",
        "- Los objetos inmutables son objetos que no se pueden modificar. Por ejemplo, los números, las cadenas y las tuplas son objetos inmutables.\n",
        "- Los objetos mutables son objetos que se pueden modificar. Por ejemplo, las listas y los diccionarios son objetos mutables."
      ]
    },
    {
      "cell_type": "markdown",
      "id": "17de6ac0-8a45-4847-97df-3381715014cc",
      "metadata": {
        "id": "17de6ac0-8a45-4847-97df-3381715014cc"
      },
      "source": [
        "#### <font color=\"RoyalBlue\">**Variables numéricas**</font>"
      ]
    },
    {
      "cell_type": "code",
      "execution_count": 5,
      "id": "ecd65f93-c48d-42d9-993f-685adbb6b973",
      "metadata": {
        "id": "ecd65f93-c48d-42d9-993f-685adbb6b973"
      },
      "outputs": [],
      "source": [
        "num1 = 900\n",
        "num2 = 450"
      ]
    },
    {
      "cell_type": "markdown",
      "id": "8c3c46b3-ce89-4f09-a03d-fc0b01c0af53",
      "metadata": {
        "id": "8c3c46b3-ce89-4f09-a03d-fc0b01c0af53"
      },
      "source": [
        "**A las variables ```num1``` y ```num2``` se les asigna un valor numérico. Luego se pueden realizar operaciones matemáticas directamente con las variables...**"
      ]
    },
    {
      "cell_type": "code",
      "execution_count": 6,
      "id": "cf63a5cf-8677-4dae-93c5-3ea2640fd2ee",
      "metadata": {
        "colab": {
          "base_uri": "https://localhost:8080/"
        },
        "id": "cf63a5cf-8677-4dae-93c5-3ea2640fd2ee",
        "outputId": "629b4df5-b453-4db5-a8e2-1def11af3aa2"
      },
      "outputs": [
        {
          "output_type": "execute_result",
          "data": {
            "text/plain": [
              "1350"
            ]
          },
          "metadata": {},
          "execution_count": 6
        }
      ],
      "source": [
        "num1 + num2"
      ]
    },
    {
      "cell_type": "markdown",
      "id": "efb246d2-e4d9-455e-8115-f5a84c0e0efa",
      "metadata": {
        "id": "efb246d2-e4d9-455e-8115-f5a84c0e0efa"
      },
      "source": [
        "**Tambien se le puede asignar a una nueva variable, en este caso ```num3```, una determinada operación matemática, y luego \"llamar\" esa variable.**"
      ]
    },
    {
      "cell_type": "code",
      "execution_count": 7,
      "id": "b7060ca1-ccb4-4634-bd63-765701412635",
      "metadata": {
        "colab": {
          "base_uri": "https://localhost:8080/"
        },
        "id": "b7060ca1-ccb4-4634-bd63-765701412635",
        "outputId": "40e616b0-e199-4f7b-e4f9-3ade79a7f502"
      },
      "outputs": [
        {
          "output_type": "execute_result",
          "data": {
            "text/plain": [
              "1350"
            ]
          },
          "metadata": {},
          "execution_count": 7
        }
      ],
      "source": [
        "num3 = num1 + num2\n",
        "num3"
      ]
    },
    {
      "cell_type": "code",
      "execution_count": null,
      "id": "70f4bcb7-9a8d-4566-b8d2-793f69b5d62c",
      "metadata": {
        "colab": {
          "base_uri": "https://localhost:8080/"
        },
        "id": "70f4bcb7-9a8d-4566-b8d2-793f69b5d62c",
        "outputId": "49eacec9-2db7-4f76-80bc-bc9e4e62ae6d"
      },
      "outputs": [
        {
          "output_type": "execute_result",
          "data": {
            "text/plain": [
              "1350"
            ]
          },
          "metadata": {},
          "execution_count": 13
        }
      ],
      "source": [
        "num3"
      ]
    },
    {
      "cell_type": "markdown",
      "id": "acd77fca-9f28-44ff-bfa2-506e3a662f52",
      "metadata": {
        "id": "acd77fca-9f28-44ff-bfa2-506e3a662f52"
      },
      "source": [
        "**Si el impuesto al valor agregado es el $21$% y se quiere calcular el impuesto resultante de un producto y luego adicionar al precio el impuesto para llegar al valor que el consumidor final termina pagando, entonces:**"
      ]
    },
    {
      "cell_type": "code",
      "execution_count": 8,
      "id": "8708f124-995a-4538-9ef4-9396848a0cc7",
      "metadata": {
        "id": "8708f124-995a-4538-9ef4-9396848a0cc7"
      },
      "outputs": [],
      "source": [
        "iva = 21 / 100"
      ]
    },
    {
      "cell_type": "code",
      "execution_count": 9,
      "id": "6ce8f33f-38f5-452e-82c8-cbb91cc829a0",
      "metadata": {
        "id": "6ce8f33f-38f5-452e-82c8-cbb91cc829a0"
      },
      "outputs": [],
      "source": [
        "precio = 2000"
      ]
    },
    {
      "cell_type": "code",
      "execution_count": 10,
      "id": "e49ac74e-8632-435e-bf9e-496ec876d5d5",
      "metadata": {
        "colab": {
          "base_uri": "https://localhost:8080/"
        },
        "id": "e49ac74e-8632-435e-bf9e-496ec876d5d5",
        "outputId": "20a54b34-f469-4623-c48a-d2e600d3e919"
      },
      "outputs": [
        {
          "output_type": "execute_result",
          "data": {
            "text/plain": [
              "420.0"
            ]
          },
          "metadata": {},
          "execution_count": 10
        }
      ],
      "source": [
        "precio * iva"
      ]
    },
    {
      "cell_type": "code",
      "execution_count": 11,
      "id": "8a1432f2-ff72-4c3f-9648-41d2c0ccedc0",
      "metadata": {
        "id": "8a1432f2-ff72-4c3f-9648-41d2c0ccedc0"
      },
      "outputs": [],
      "source": [
        "impuesto = precio * iva"
      ]
    },
    {
      "cell_type": "markdown",
      "id": "6288b143",
      "metadata": {
        "id": "6288b143"
      },
      "source": [
        "**Ahora bien, en el caso de las divisiones de números enteros o números decimales, el resultado siempre será un número decimal. Cuando la operación sea de un número complejo, el resultado no será decimal, a menos que el número complejo tenga decimal.**"
      ]
    },
    {
      "cell_type": "code",
      "execution_count": null,
      "id": "84763625-ace4-46d4-8987-4a63898ac14d",
      "metadata": {
        "colab": {
          "base_uri": "https://localhost:8080/"
        },
        "id": "84763625-ace4-46d4-8987-4a63898ac14d",
        "outputId": "277beab0-c9de-41cc-ea95-7fae7e484c0b"
      },
      "outputs": [
        {
          "output_type": "execute_result",
          "data": {
            "text/plain": [
              "420.0"
            ]
          },
          "metadata": {},
          "execution_count": 18
        }
      ],
      "source": [
        "impuesto"
      ]
    },
    {
      "cell_type": "code",
      "execution_count": null,
      "id": "c5ed3a21-c55c-417e-b06d-692f7bf265c5",
      "metadata": {
        "colab": {
          "base_uri": "https://localhost:8080/"
        },
        "id": "c5ed3a21-c55c-417e-b06d-692f7bf265c5",
        "outputId": "9b161c95-40b6-482d-b07b-a59a96c22c6a"
      },
      "outputs": [
        {
          "output_type": "execute_result",
          "data": {
            "text/plain": [
              "2420.0"
            ]
          },
          "metadata": {},
          "execution_count": 19
        }
      ],
      "source": [
        "precio_con_iva = precio + impuesto\n",
        "precio_con_iva"
      ]
    },
    {
      "cell_type": "markdown",
      "id": "07db3fba-a4f7-4b74-8d7e-ef96642efe6a",
      "metadata": {
        "id": "07db3fba-a4f7-4b74-8d7e-ef96642efe6a"
      },
      "source": [
        "**Resuelto de otra forma...**"
      ]
    },
    {
      "cell_type": "code",
      "execution_count": 12,
      "id": "8b53d0bd-4788-4b49-a23c-f1385014d016",
      "metadata": {
        "colab": {
          "base_uri": "https://localhost:8080/"
        },
        "id": "8b53d0bd-4788-4b49-a23c-f1385014d016",
        "outputId": "abb8fa3b-2984-4fc9-f983-70f6f1d1e49e"
      },
      "outputs": [
        {
          "output_type": "execute_result",
          "data": {
            "text/plain": [
              "420.0"
            ]
          },
          "metadata": {},
          "execution_count": 12
        }
      ],
      "source": [
        "iva = 21 / 100\n",
        "precio = 2000\n",
        "precio * iva"
      ]
    },
    {
      "cell_type": "code",
      "execution_count": 13,
      "id": "79c6866e-0f9f-45ce-af3b-36e74cad9508",
      "metadata": {
        "colab": {
          "base_uri": "https://localhost:8080/"
        },
        "id": "79c6866e-0f9f-45ce-af3b-36e74cad9508",
        "outputId": "eab89df0-14c9-4482-b775-66fea305240d"
      },
      "outputs": [
        {
          "output_type": "execute_result",
          "data": {
            "text/plain": [
              "2420.0"
            ]
          },
          "metadata": {},
          "execution_count": 13
        }
      ],
      "source": [
        "precio + _"
      ]
    },
    {
      "cell_type": "markdown",
      "id": "f3dded36-4bff-4804-8cb3-37d833f387d2",
      "metadata": {
        "id": "f3dded36-4bff-4804-8cb3-37d833f387d2"
      },
      "source": [
        "**¿Qué tipo de datos tiene la variable num1?... ¿y la variable iva?...**"
      ]
    },
    {
      "cell_type": "code",
      "execution_count": 14,
      "id": "f703d8c1-98a8-4203-baa8-9de2ab548baf",
      "metadata": {
        "colab": {
          "base_uri": "https://localhost:8080/"
        },
        "id": "f703d8c1-98a8-4203-baa8-9de2ab548baf",
        "outputId": "6350afaa-dc5a-420a-8ca0-54c231186db9"
      },
      "outputs": [
        {
          "output_type": "execute_result",
          "data": {
            "text/plain": [
              "int"
            ]
          },
          "metadata": {},
          "execution_count": 14
        }
      ],
      "source": [
        "type(num1)"
      ]
    },
    {
      "cell_type": "markdown",
      "id": "24f54e06-2414-4fa8-93ea-f41480e59fa0",
      "metadata": {
        "id": "24f54e06-2414-4fa8-93ea-f41480e59fa0"
      },
      "source": [
        "> num1 es entero"
      ]
    },
    {
      "cell_type": "code",
      "source": [
        "iva = 1000 / 20"
      ],
      "metadata": {
        "id": "5uLpPxXeD3Lt"
      },
      "id": "5uLpPxXeD3Lt",
      "execution_count": 17,
      "outputs": []
    },
    {
      "cell_type": "code",
      "source": [
        "iva"
      ],
      "metadata": {
        "id": "vk9BeDV1EAza",
        "outputId": "74c164c4-9abd-4bac-b12b-9a43479c2ab7",
        "colab": {
          "base_uri": "https://localhost:8080/"
        }
      },
      "id": "vk9BeDV1EAza",
      "execution_count": 19,
      "outputs": [
        {
          "output_type": "execute_result",
          "data": {
            "text/plain": [
              "50.0"
            ]
          },
          "metadata": {},
          "execution_count": 19
        }
      ]
    },
    {
      "cell_type": "code",
      "execution_count": 18,
      "id": "ec8570ac-4474-466f-8421-ab6d9742b460",
      "metadata": {
        "colab": {
          "base_uri": "https://localhost:8080/"
        },
        "id": "ec8570ac-4474-466f-8421-ab6d9742b460",
        "outputId": "132e2870-b6cc-46c6-e742-cbe5260f643b"
      },
      "outputs": [
        {
          "output_type": "execute_result",
          "data": {
            "text/plain": [
              "float"
            ]
          },
          "metadata": {},
          "execution_count": 18
        }
      ],
      "source": [
        "type(iva)"
      ]
    },
    {
      "cell_type": "markdown",
      "id": "0535c80d-2e68-41f3-8f8e-98e891c3928a",
      "metadata": {
        "id": "0535c80d-2e68-41f3-8f8e-98e891c3928a"
      },
      "source": [
        "> iva es decimal"
      ]
    },
    {
      "cell_type": "markdown",
      "id": "8d292749-cffe-4388-a943-62f94a11fd84",
      "metadata": {
        "id": "8d292749-cffe-4388-a943-62f94a11fd84"
      },
      "source": [
        "#### <font color=\"RoyalBlue\">**Variables de texto**</font>"
      ]
    },
    {
      "cell_type": "markdown",
      "id": "9c5def8c-ace9-4850-b49a-f1818ca87b29",
      "metadata": {
        "id": "9c5def8c-ace9-4850-b49a-f1818ca87b29"
      },
      "source": [
        "**Las cadenas de caracteres deben estar entre comillas simples o comillas dobles. Para esta versión de Python es indistinto si se utilizan las comillas simples o las comillas dobles. Lo que no puede hacerse es en la misma cadena de caracteres usar distintas comillas, la simple y la doble.**"
      ]
    },
    {
      "cell_type": "code",
      "execution_count": 20,
      "id": "9890d3c9-85f0-444e-8495-34233325df06",
      "metadata": {
        "id": "9890d3c9-85f0-444e-8495-34233325df06"
      },
      "outputs": [],
      "source": [
        "texto1 = \"Python for Data Analysis \"\n",
        "texto2 = 'First Edition'"
      ]
    },
    {
      "cell_type": "code",
      "execution_count": 22,
      "id": "459325d4-0e0e-4843-8cdb-28d818592e0b",
      "metadata": {
        "colab": {
          "base_uri": "https://localhost:8080/"
        },
        "id": "459325d4-0e0e-4843-8cdb-28d818592e0b",
        "outputId": "08e3be2f-bed1-4bcd-f675-261d03be1cd9"
      },
      "outputs": [
        {
          "output_type": "stream",
          "name": "stdout",
          "text": [
            "\n",
            "Python for Data Analysis \n",
            "First Edition\n"
          ]
        }
      ],
      "source": [
        "print()\n",
        "print(texto1)\n",
        "print(texto2)"
      ]
    },
    {
      "cell_type": "markdown",
      "id": "26a77e82-41ce-49a0-9335-addeedc2634c",
      "metadata": {
        "id": "26a77e82-41ce-49a0-9335-addeedc2634c"
      },
      "source": [
        "**Pero puede resultar que en nuestra cadenas de caracteres se necesiten las comillas, en ese caso se pueden usar primero las comillas simples (para indicar cadena de caracteres) y luego las comillas dobles (en el texto que queremos con comillas).**"
      ]
    },
    {
      "cell_type": "code",
      "execution_count": 23,
      "id": "4c0bfb5f-2c1d-41ac-92a3-a8c7a93901eb",
      "metadata": {
        "id": "4c0bfb5f-2c1d-41ac-92a3-a8c7a93901eb"
      },
      "outputs": [],
      "source": [
        "texto3 = '\"First Edition\"'"
      ]
    },
    {
      "cell_type": "code",
      "execution_count": 24,
      "id": "65a1f365-c5b9-4bf1-92e3-4d887091729d",
      "metadata": {
        "colab": {
          "base_uri": "https://localhost:8080/"
        },
        "id": "65a1f365-c5b9-4bf1-92e3-4d887091729d",
        "outputId": "f91a16ec-60e2-4997-f79a-91a6cb616bc1"
      },
      "outputs": [
        {
          "output_type": "stream",
          "name": "stdout",
          "text": [
            "\n",
            "Python for Data Analysis \n",
            "\"First Edition\"\n"
          ]
        }
      ],
      "source": [
        "print()\n",
        "print(texto1)\n",
        "print(texto3)"
      ]
    },
    {
      "cell_type": "markdown",
      "id": "d5b836c2-8b47-4461-9f50-de2c75263f32",
      "metadata": {
        "id": "d5b836c2-8b47-4461-9f50-de2c75263f32"
      },
      "source": [
        "**Python también proporciona una interfaz llamada ```f-strings``` para imprimir texto con el valor de las variables definidas. Es muy útil cuando desea imprimir resultados con texto adicional para hacerlos más legibles e interpretar los resultados...**"
      ]
    },
    {
      "cell_type": "code",
      "execution_count": 25,
      "id": "16e8b809-fdc6-4ae0-b85a-3001adff6d9b",
      "metadata": {
        "colab": {
          "base_uri": "https://localhost:8080/"
        },
        "id": "16e8b809-fdc6-4ae0-b85a-3001adff6d9b",
        "outputId": "9458321f-7256-4511-ba21-2b480990eab9"
      },
      "outputs": [
        {
          "output_type": "stream",
          "name": "stdout",
          "text": [
            "Python for Data Analysis - First Edition - Ed. 2022\n"
          ]
        }
      ],
      "source": [
        "print(f\"{texto1}- {texto2} - Ed. 2022\")"
      ]
    },
    {
      "cell_type": "code",
      "execution_count": 27,
      "id": "2ccd9ebe-24c4-4fc8-b494-b18946a431fb",
      "metadata": {
        "id": "2ccd9ebe-24c4-4fc8-b494-b18946a431fb"
      },
      "outputs": [],
      "source": [
        "texto4 = texto1 + texto3"
      ]
    },
    {
      "cell_type": "code",
      "execution_count": null,
      "id": "671d8d7c-0c5f-4cc6-8931-37de39928353",
      "metadata": {
        "colab": {
          "base_uri": "https://localhost:8080/"
        },
        "id": "671d8d7c-0c5f-4cc6-8931-37de39928353",
        "outputId": "5c30d014-983c-4dae-e9f2-588cce967d78"
      },
      "outputs": [
        {
          "output_type": "stream",
          "name": "stdout",
          "text": [
            "Python for Data Analysis \"First Edition\"\n"
          ]
        }
      ],
      "source": [
        "print(texto4)"
      ]
    },
    {
      "cell_type": "markdown",
      "id": "3f6300f9-41f1-4685-8b79-65b10f6a6400",
      "metadata": {
        "id": "3f6300f9-41f1-4685-8b79-65b10f6a6400"
      },
      "source": [
        "**Se pueden usar algunos caracteres especiales para dar cierto tratamiento a la cadena de caracteres.**"
      ]
    },
    {
      "cell_type": "code",
      "execution_count": null,
      "id": "905bd948-b4e2-49bf-8695-e0f716c25d76",
      "metadata": {
        "colab": {
          "base_uri": "https://localhost:8080/"
        },
        "id": "905bd948-b4e2-49bf-8695-e0f716c25d76",
        "outputId": "f89245d6-f059-4e28-892c-b0cb51273044"
      },
      "outputs": [
        {
          "output_type": "stream",
          "name": "stdout",
          "text": [
            "Python \n",
            "for Data Analysis\n"
          ]
        }
      ],
      "source": [
        "texto5 = \"Python \\nfor Data Analysis\"\n",
        "print(texto5)"
      ]
    },
    {
      "cell_type": "markdown",
      "id": "617a220b-716d-4bfe-8d7a-e40ecee5c798",
      "metadata": {
        "id": "617a220b-716d-4bfe-8d7a-e40ecee5c798"
      },
      "source": [
        "**A las variables de texto se le pueden aplicar formatos...**"
      ]
    },
    {
      "cell_type": "code",
      "execution_count": 28,
      "id": "eab9ece1-73d2-4476-bdea-f40a55ceda1d",
      "metadata": {
        "colab": {
          "base_uri": "https://localhost:8080/",
          "height": 36
        },
        "id": "eab9ece1-73d2-4476-bdea-f40a55ceda1d",
        "outputId": "f545e4ca-79e8-4821-c1e7-11e769cf1f9b"
      },
      "outputs": [
        {
          "output_type": "execute_result",
          "data": {
            "text/plain": [
              "'Python for Data Analysis '"
            ],
            "application/vnd.google.colaboratory.intrinsic+json": {
              "type": "string"
            }
          },
          "metadata": {},
          "execution_count": 28
        }
      ],
      "source": [
        "texto1"
      ]
    },
    {
      "cell_type": "markdown",
      "id": "b459376a-91aa-4d7e-8724-450000bbc726",
      "metadata": {
        "id": "b459376a-91aa-4d7e-8724-450000bbc726"
      },
      "source": [
        "**Todo el texto de la variable en mayúscula...**"
      ]
    },
    {
      "cell_type": "code",
      "execution_count": 32,
      "id": "2bf63270-f522-4955-9232-44fb589e3d1c",
      "metadata": {
        "colab": {
          "base_uri": "https://localhost:8080/",
          "height": 36
        },
        "id": "2bf63270-f522-4955-9232-44fb589e3d1c",
        "outputId": "e4c79105-fb71-4c74-f6ab-800f4d0c2fdb"
      },
      "outputs": [
        {
          "output_type": "execute_result",
          "data": {
            "text/plain": [
              "'PYTHON FOR DATA ANALYSIS '"
            ],
            "application/vnd.google.colaboratory.intrinsic+json": {
              "type": "string"
            }
          },
          "metadata": {},
          "execution_count": 32
        }
      ],
      "source": [
        "texto1.upper()"
      ]
    },
    {
      "cell_type": "markdown",
      "id": "e45d20fa-461d-4dfd-b9e5-3a19486e2d27",
      "metadata": {
        "id": "e45d20fa-461d-4dfd-b9e5-3a19486e2d27"
      },
      "source": [
        "**Todo el texto de la variable en minúscula...**"
      ]
    },
    {
      "cell_type": "code",
      "execution_count": 30,
      "id": "c3d5c3b5-0e96-4caf-8dfd-5afdd9e46064",
      "metadata": {
        "colab": {
          "base_uri": "https://localhost:8080/",
          "height": 36
        },
        "id": "c3d5c3b5-0e96-4caf-8dfd-5afdd9e46064",
        "outputId": "8571e890-d113-4ba7-9b17-a68289089f1a"
      },
      "outputs": [
        {
          "output_type": "execute_result",
          "data": {
            "text/plain": [
              "'python for data analysis '"
            ],
            "application/vnd.google.colaboratory.intrinsic+json": {
              "type": "string"
            }
          },
          "metadata": {},
          "execution_count": 30
        }
      ],
      "source": [
        "texto1.lower()"
      ]
    },
    {
      "cell_type": "markdown",
      "id": "86e041dc-2332-4136-a451-4398449d7819",
      "metadata": {
        "id": "86e041dc-2332-4136-a451-4398449d7819"
      },
      "source": [
        "**Intercambio de mayúsculas y minúsculas en el texto de la variable...**"
      ]
    },
    {
      "cell_type": "code",
      "execution_count": 33,
      "id": "5cc25027-7f30-4050-a5e9-f89b9b5f3bc8",
      "metadata": {
        "colab": {
          "base_uri": "https://localhost:8080/",
          "height": 36
        },
        "id": "5cc25027-7f30-4050-a5e9-f89b9b5f3bc8",
        "outputId": "285f49c1-4ba7-47dc-b3dc-eef6f08b744f"
      },
      "outputs": [
        {
          "output_type": "execute_result",
          "data": {
            "text/plain": [
              "'pYTHON FOR dATA aNALYSIS '"
            ],
            "application/vnd.google.colaboratory.intrinsic+json": {
              "type": "string"
            }
          },
          "metadata": {},
          "execution_count": 33
        }
      ],
      "source": [
        "texto1.swapcase()"
      ]
    },
    {
      "cell_type": "markdown",
      "id": "f4f0563b-f254-4dab-b787-0dd1741fa199",
      "metadata": {
        "id": "f4f0563b-f254-4dab-b787-0dd1741fa199"
      },
      "source": [
        "**¿Qué tipo de datos tiene la variable texto1?...**"
      ]
    },
    {
      "cell_type": "code",
      "execution_count": null,
      "id": "9932ce44-401a-45c9-b717-5f943813af87",
      "metadata": {
        "colab": {
          "base_uri": "https://localhost:8080/"
        },
        "id": "9932ce44-401a-45c9-b717-5f943813af87",
        "outputId": "2579b674-ae56-4dc0-a919-0c7b0bc42e45"
      },
      "outputs": [
        {
          "output_type": "execute_result",
          "data": {
            "text/plain": [
              "str"
            ]
          },
          "metadata": {},
          "execution_count": 36
        }
      ],
      "source": [
        "type(texto1)"
      ]
    },
    {
      "cell_type": "markdown",
      "id": "0f38c2f5-e873-4ce5-99be-7543d83dbb42",
      "metadata": {
        "id": "0f38c2f5-e873-4ce5-99be-7543d83dbb42"
      },
      "source": [
        "*texto1 es una cadena de caracteres...*"
      ]
    },
    {
      "cell_type": "markdown",
      "id": "3dcc542b-eadf-4b41-8b55-b4afd4df14cc",
      "metadata": {
        "id": "3dcc542b-eadf-4b41-8b55-b4afd4df14cc"
      },
      "source": [
        "### 🔵 <font color=\"RoyalBlue\">**Estructuras de Datos**</font>"
      ]
    },
    {
      "cell_type": "markdown",
      "id": "9898bd8d-9201-4715-87e9-de86c3f121d5",
      "metadata": {
        "id": "9898bd8d-9201-4715-87e9-de86c3f121d5"
      },
      "source": [
        "#### 🔹 <font color=\"RoyalBlue\"> **Tuplas** </font>"
      ]
    },
    {
      "cell_type": "markdown",
      "id": "7d6dbe05-2be8-491b-886d-bfed44547782",
      "metadata": {
        "id": "7d6dbe05-2be8-491b-886d-bfed44547782"
      },
      "source": [
        "**En Python, una tupla es un conjunto ordenado de elementos del mismo o diferente tipo. Las tuplas se representan escribiendo los elementos entre paréntesis y separados por comas. Recordar, siempre tiene que estar presente la coma.**"
      ]
    },
    {
      "cell_type": "code",
      "execution_count": null,
      "id": "46ceecc8-50d3-4018-8317-5a3c4d2f0253",
      "metadata": {
        "colab": {
          "base_uri": "https://localhost:8080/"
        },
        "id": "46ceecc8-50d3-4018-8317-5a3c4d2f0253",
        "outputId": "397a9dd1-1b75-476a-e83a-ad439486f0a2"
      },
      "outputs": [
        {
          "output_type": "execute_result",
          "data": {
            "text/plain": [
              "(1, 'a', 3.14, True)"
            ]
          },
          "metadata": {},
          "execution_count": 37
        }
      ],
      "source": [
        "(1, \"a\", 3.14, True)"
      ]
    },
    {
      "cell_type": "code",
      "execution_count": null,
      "id": "0d3c4d78-2475-4015-8873-551df31af619",
      "metadata": {
        "colab": {
          "base_uri": "https://localhost:8080/"
        },
        "id": "0d3c4d78-2475-4015-8873-551df31af619",
        "outputId": "c8240575-6b0e-4a84-8702-b4764fc7d233"
      },
      "outputs": [
        {
          "output_type": "execute_result",
          "data": {
            "text/plain": [
              "(1, 'a', 3.14, 'b', 2435, 'c', 765)"
            ]
          },
          "metadata": {},
          "execution_count": 38
        }
      ],
      "source": [
        "(1, \"a\", 3.14, \"b\", 2435, \"c\", 765)"
      ]
    },
    {
      "cell_type": "markdown",
      "id": "f1ba020a-8324-4b06-a8c7-fc0c49765f33",
      "metadata": {
        "id": "f1ba020a-8324-4b06-a8c7-fc0c49765f33"
      },
      "source": [
        "**En realidad no es necesario escribir los paréntesis para indicar que se trata de una tupla, basta con escribir las comas, pero Python siempre nos va a mostrar los paréntesis:**"
      ]
    },
    {
      "cell_type": "code",
      "execution_count": null,
      "id": "0f58d4c3-8476-44fc-be1d-a4563c48c8f4",
      "metadata": {
        "colab": {
          "base_uri": "https://localhost:8080/"
        },
        "id": "0f58d4c3-8476-44fc-be1d-a4563c48c8f4",
        "outputId": "2e12a445-163c-45a4-f613-f31b0ab71074"
      },
      "outputs": [
        {
          "output_type": "execute_result",
          "data": {
            "text/plain": [
              "(5, 'b', 6.28)"
            ]
          },
          "metadata": {},
          "execution_count": 39
        }
      ],
      "source": [
        "5, \"b\", 6.28"
      ]
    },
    {
      "cell_type": "code",
      "execution_count": null,
      "id": "48c101ba-8907-4c09-8bfc-6c7808333a4b",
      "metadata": {
        "colab": {
          "base_uri": "https://localhost:8080/"
        },
        "id": "48c101ba-8907-4c09-8bfc-6c7808333a4b",
        "outputId": "b33994d0-bece-4af7-da09-40c9a50a0a63"
      },
      "outputs": [
        {
          "output_type": "execute_result",
          "data": {
            "text/plain": [
              "(1, 'a', 3.14, 'b', 2435, 'c', 765)"
            ]
          },
          "metadata": {},
          "execution_count": 40
        }
      ],
      "source": [
        "1, \"a\", 3.14, \"b\", 2435, \"c\", 765"
      ]
    },
    {
      "cell_type": "markdown",
      "id": "e177f9a3-ea7f-4a73-bc0a-a5f3952b3d7c",
      "metadata": {
        "id": "e177f9a3-ea7f-4a73-bc0a-a5f3952b3d7c"
      },
      "source": [
        "##### <font color=\"RoyalBlue\">**Cantidad de elementos**</font>"
      ]
    },
    {
      "cell_type": "markdown",
      "id": "e7be707b-8983-4b17-9faf-53d19191ccdf",
      "metadata": {
        "id": "e7be707b-8983-4b17-9faf-53d19191ccdf"
      },
      "source": [
        "**Ulizando el método ```len()``` podemos saber cuantos elementos tiene nuestra tupla...**"
      ]
    },
    {
      "cell_type": "code",
      "execution_count": 38,
      "id": "8b6faaa4-ea55-449d-a2ac-e6a72effd30a",
      "metadata": {
        "colab": {
          "base_uri": "https://localhost:8080/"
        },
        "id": "8b6faaa4-ea55-449d-a2ac-e6a72effd30a",
        "outputId": "61a6184e-7d4e-4ada-c659-1b03b43204b2"
      },
      "outputs": [
        {
          "output_type": "execute_result",
          "data": {
            "text/plain": [
              "9"
            ]
          },
          "metadata": {},
          "execution_count": 38
        }
      ],
      "source": [
        "len((1, \"a\", 3.14, 7, \"b\", 90.87, False, 89, \"listo\"))"
      ]
    },
    {
      "cell_type": "code",
      "execution_count": 39,
      "id": "f169be94-52a2-4bb4-af33-d31de2216293",
      "metadata": {
        "colab": {
          "base_uri": "https://localhost:8080/"
        },
        "id": "f169be94-52a2-4bb4-af33-d31de2216293",
        "outputId": "7271d42e-c65f-4c96-fe8d-e4baf7ecbdc8"
      },
      "outputs": [
        {
          "output_type": "execute_result",
          "data": {
            "text/plain": [
              "7"
            ]
          },
          "metadata": {},
          "execution_count": 39
        }
      ],
      "source": [
        "a = (9, \"z\", \"yo\", 3.14, 6.28, \"exacto\", True)\n",
        "len(a)"
      ]
    },
    {
      "cell_type": "code",
      "execution_count": 40,
      "id": "24fb0a76-ca6b-4524-8d5f-b722c7f13f47",
      "metadata": {
        "id": "24fb0a76-ca6b-4524-8d5f-b722c7f13f47"
      },
      "outputs": [],
      "source": [
        "b = (1, \"a\", 3.14, 7, \"b\", 90.87, False, 89, \"listo\")"
      ]
    },
    {
      "cell_type": "code",
      "execution_count": 41,
      "id": "2d4689cf-cba0-4d03-a796-68058b1ec178",
      "metadata": {
        "colab": {
          "base_uri": "https://localhost:8080/"
        },
        "id": "2d4689cf-cba0-4d03-a796-68058b1ec178",
        "outputId": "063227f8-01f5-4f78-bd7a-ad124752193e"
      },
      "outputs": [
        {
          "output_type": "execute_result",
          "data": {
            "text/plain": [
              "2"
            ]
          },
          "metadata": {},
          "execution_count": 41
        }
      ],
      "source": [
        "len((a,b))"
      ]
    },
    {
      "cell_type": "code",
      "execution_count": 42,
      "id": "fbdd602d-0bcc-4749-aa6d-a1705bb7f5a7",
      "metadata": {
        "colab": {
          "base_uri": "https://localhost:8080/"
        },
        "id": "fbdd602d-0bcc-4749-aa6d-a1705bb7f5a7",
        "outputId": "4bffc272-5ebb-478d-da45-198b4d6c5e79"
      },
      "outputs": [
        {
          "output_type": "execute_result",
          "data": {
            "text/plain": [
              "16"
            ]
          },
          "metadata": {},
          "execution_count": 42
        }
      ],
      "source": [
        "len((a+b))"
      ]
    },
    {
      "cell_type": "markdown",
      "id": "ccbb83d9-afbc-4b67-aaa2-242992dcaee9",
      "metadata": {
        "id": "ccbb83d9-afbc-4b67-aaa2-242992dcaee9"
      },
      "source": [
        "**Podemos tener una tupla de un solo elemento, pero sí o sí en el script tiene que estar la coma para indicar que es una tupla...**"
      ]
    },
    {
      "cell_type": "code",
      "execution_count": null,
      "id": "6671cc76-b691-4c1d-a9bc-077f6646b696",
      "metadata": {
        "colab": {
          "base_uri": "https://localhost:8080/"
        },
        "id": "6671cc76-b691-4c1d-a9bc-077f6646b696",
        "outputId": "d62360b0-864d-46f8-88a7-6038270bbd27"
      },
      "outputs": [
        {
          "output_type": "execute_result",
          "data": {
            "text/plain": [
              "('uno',)"
            ]
          },
          "metadata": {},
          "execution_count": 46
        }
      ],
      "source": [
        "c = (\"uno\",)\n",
        "c"
      ]
    },
    {
      "cell_type": "code",
      "execution_count": null,
      "id": "4442610f-f022-4926-8e55-4b44a298a165",
      "metadata": {
        "colab": {
          "base_uri": "https://localhost:8080/"
        },
        "id": "4442610f-f022-4926-8e55-4b44a298a165",
        "outputId": "6992a4be-97cc-4081-a88f-cbc885196ab5"
      },
      "outputs": [
        {
          "output_type": "execute_result",
          "data": {
            "text/plain": [
              "('uno',)"
            ]
          },
          "metadata": {},
          "execution_count": 47
        }
      ],
      "source": [
        "c = \"uno\",\n",
        "c"
      ]
    },
    {
      "cell_type": "markdown",
      "id": "b23d870a-6e25-4660-be27-227f71804755",
      "metadata": {
        "id": "b23d870a-6e25-4660-be27-227f71804755"
      },
      "source": [
        "**Si nos olvidamos de la coma, el dato asignado a la variable c, se convierte en una cadena de caracteres en este caso...**"
      ]
    },
    {
      "cell_type": "code",
      "execution_count": null,
      "id": "d627794e-7a77-4a25-967d-ff6fbbfe7ef4",
      "metadata": {
        "colab": {
          "base_uri": "https://localhost:8080/",
          "height": 35
        },
        "id": "d627794e-7a77-4a25-967d-ff6fbbfe7ef4",
        "outputId": "2821357d-65ba-43d8-c275-79edf063407a"
      },
      "outputs": [
        {
          "output_type": "execute_result",
          "data": {
            "text/plain": [
              "'uno'"
            ],
            "application/vnd.google.colaboratory.intrinsic+json": {
              "type": "string"
            }
          },
          "metadata": {},
          "execution_count": 48
        }
      ],
      "source": [
        "c = \"uno\"\n",
        "c"
      ]
    },
    {
      "cell_type": "markdown",
      "id": "bbd074e9-71d7-4e48-bd30-f3c6c52c988b",
      "metadata": {
        "id": "bbd074e9-71d7-4e48-bd30-f3c6c52c988b"
      },
      "source": [
        "**Nos damos cuenta porque Python siempre muestra la tupla entre paréntesis y sus elementos separados por coma... También se puede crear una tupla vacía, sin elementos...**"
      ]
    },
    {
      "cell_type": "code",
      "execution_count": 43,
      "id": "ec316cc0-f04d-4d3d-87b0-da65415f4c02",
      "metadata": {
        "colab": {
          "base_uri": "https://localhost:8080/"
        },
        "id": "ec316cc0-f04d-4d3d-87b0-da65415f4c02",
        "outputId": "f007fa5b-aebd-47c5-949e-e02239cdc371"
      },
      "outputs": [
        {
          "output_type": "execute_result",
          "data": {
            "text/plain": [
              "()"
            ]
          },
          "metadata": {},
          "execution_count": 43
        }
      ],
      "source": [
        "d = ()\n",
        "d"
      ]
    },
    {
      "cell_type": "code",
      "execution_count": 44,
      "id": "4265f7b6-67f6-49aa-b658-de7cdb30b604",
      "metadata": {
        "colab": {
          "base_uri": "https://localhost:8080/"
        },
        "id": "4265f7b6-67f6-49aa-b658-de7cdb30b604",
        "outputId": "a5544778-91d3-458d-dc7a-60ffb6781e96"
      },
      "outputs": [
        {
          "output_type": "execute_result",
          "data": {
            "text/plain": [
              "0"
            ]
          },
          "metadata": {},
          "execution_count": 44
        }
      ],
      "source": [
        "len(d)"
      ]
    },
    {
      "cell_type": "markdown",
      "id": "e10dfcb0-0f0f-487a-a17b-53af43128b05",
      "metadata": {
        "id": "e10dfcb0-0f0f-487a-a17b-53af43128b05"
      },
      "source": [
        "##### <font color=\"RoyalBlue\">**Función ```type()```**</font>"
      ]
    },
    {
      "cell_type": "markdown",
      "id": "7e68a67a-5e63-4ef7-9a4d-f4b9ff884f13",
      "metadata": {
        "id": "7e68a67a-5e63-4ef7-9a4d-f4b9ff884f13"
      },
      "source": [
        "**¿Es la variable d una tupla?... ¿y el resto de las variables definidas?...**"
      ]
    },
    {
      "cell_type": "code",
      "execution_count": 45,
      "id": "32c62fb9-3df4-4e46-bcbd-3e7b8a519ce5",
      "metadata": {
        "colab": {
          "base_uri": "https://localhost:8080/"
        },
        "id": "32c62fb9-3df4-4e46-bcbd-3e7b8a519ce5",
        "outputId": "74d2174f-b4b5-4f98-c188-2866390afa02"
      },
      "outputs": [
        {
          "output_type": "execute_result",
          "data": {
            "text/plain": [
              "tuple"
            ]
          },
          "metadata": {},
          "execution_count": 45
        }
      ],
      "source": [
        "type(d)"
      ]
    },
    {
      "cell_type": "code",
      "execution_count": null,
      "id": "f316b919-9cd7-4eb9-a142-10f3ae06e9d2",
      "metadata": {
        "colab": {
          "base_uri": "https://localhost:8080/"
        },
        "id": "f316b919-9cd7-4eb9-a142-10f3ae06e9d2",
        "outputId": "62bbefe0-43e5-4e08-cf93-f36aaa75b386"
      },
      "outputs": [
        {
          "output_type": "execute_result",
          "data": {
            "text/plain": [
              "tuple"
            ]
          },
          "metadata": {},
          "execution_count": 52
        }
      ],
      "source": [
        "type(a)"
      ]
    },
    {
      "cell_type": "markdown",
      "id": "73217370-5c47-4a6d-a7e7-ad6d3f4a7180",
      "metadata": {
        "id": "73217370-5c47-4a6d-a7e7-ad6d3f4a7180"
      },
      "source": [
        "##### <font color=\"RoyalBlue\">**Asignación de tupla a variables**</font>"
      ]
    },
    {
      "cell_type": "code",
      "execution_count": 46,
      "id": "b422a542-0041-4440-93fe-09fb1544f23b",
      "metadata": {
        "id": "b422a542-0041-4440-93fe-09fb1544f23b"
      },
      "outputs": [],
      "source": [
        "limites = 100 , 200, 300"
      ]
    },
    {
      "cell_type": "code",
      "source": [
        "len(limites)"
      ],
      "metadata": {
        "id": "lEwQp6CdGYXt",
        "outputId": "f12a224b-9f37-4e13-d33f-78003568819a",
        "colab": {
          "base_uri": "https://localhost:8080/"
        }
      },
      "id": "lEwQp6CdGYXt",
      "execution_count": 47,
      "outputs": [
        {
          "output_type": "execute_result",
          "data": {
            "text/plain": [
              "3"
            ]
          },
          "metadata": {},
          "execution_count": 47
        }
      ]
    },
    {
      "cell_type": "code",
      "execution_count": 48,
      "id": "d341966a-15a4-447e-a510-0a4707817a45",
      "metadata": {
        "id": "d341966a-15a4-447e-a510-0a4707817a45"
      },
      "outputs": [],
      "source": [
        "a, b, c = limites"
      ]
    },
    {
      "cell_type": "code",
      "execution_count": 49,
      "id": "14025e38-9e19-4441-b206-cd676d894f3f",
      "metadata": {
        "colab": {
          "base_uri": "https://localhost:8080/"
        },
        "id": "14025e38-9e19-4441-b206-cd676d894f3f",
        "outputId": "111b32a0-8f44-4524-e0b7-0946e8fb8cd7"
      },
      "outputs": [
        {
          "output_type": "execute_result",
          "data": {
            "text/plain": [
              "100"
            ]
          },
          "metadata": {},
          "execution_count": 49
        }
      ],
      "source": [
        "a"
      ]
    },
    {
      "cell_type": "code",
      "execution_count": 50,
      "id": "5eb3dc74-09bc-4f01-be97-430954a4fe3c",
      "metadata": {
        "colab": {
          "base_uri": "https://localhost:8080/"
        },
        "id": "5eb3dc74-09bc-4f01-be97-430954a4fe3c",
        "outputId": "8033ebf3-47f2-4c8a-cc58-87d69908a6ce"
      },
      "outputs": [
        {
          "output_type": "execute_result",
          "data": {
            "text/plain": [
              "200"
            ]
          },
          "metadata": {},
          "execution_count": 50
        }
      ],
      "source": [
        "b"
      ]
    },
    {
      "cell_type": "code",
      "execution_count": 51,
      "id": "3368e08e-c6f3-40da-8b1f-6bfb5c583047",
      "metadata": {
        "colab": {
          "base_uri": "https://localhost:8080/"
        },
        "id": "3368e08e-c6f3-40da-8b1f-6bfb5c583047",
        "outputId": "b443d8f7-cdc1-4dd1-d874-adb75745ffc8"
      },
      "outputs": [
        {
          "output_type": "execute_result",
          "data": {
            "text/plain": [
              "300"
            ]
          },
          "metadata": {},
          "execution_count": 51
        }
      ],
      "source": [
        "c"
      ]
    },
    {
      "cell_type": "markdown",
      "id": "01a9ebfd-a8c6-4f20-8170-380ce2901166",
      "metadata": {
        "id": "01a9ebfd-a8c6-4f20-8170-380ce2901166"
      },
      "source": [
        "##### <font color=\"RoyalBlue\">**Modificando tuplas**</font>"
      ]
    },
    {
      "cell_type": "markdown",
      "id": "b977346b-41d6-484c-a643-98926166d357",
      "metadata": {
        "id": "b977346b-41d6-484c-a643-98926166d357"
      },
      "source": [
        "**Las tuplas tambien son *inmutables*, no se pueden modificar, pero se pueden concatenar**"
      ]
    },
    {
      "cell_type": "code",
      "execution_count": 52,
      "id": "71d5e467-d928-41ae-992b-89a523657a95",
      "metadata": {
        "id": "71d5e467-d928-41ae-992b-89a523657a95"
      },
      "outputs": [],
      "source": [
        "tupla1 = \"rojo\", \"amarillo\"\n",
        "tupla2 = \"verde\","
      ]
    },
    {
      "cell_type": "code",
      "execution_count": 53,
      "id": "742b28cb-fb80-4a0f-b2de-e408a6c51962",
      "metadata": {
        "colab": {
          "base_uri": "https://localhost:8080/"
        },
        "id": "742b28cb-fb80-4a0f-b2de-e408a6c51962",
        "outputId": "846ea624-2232-4abf-c26a-e461bd087ed3"
      },
      "outputs": [
        {
          "output_type": "execute_result",
          "data": {
            "text/plain": [
              "('rojo', 'amarillo', 'verde')"
            ]
          },
          "metadata": {},
          "execution_count": 53
        }
      ],
      "source": [
        "tupla1 + tupla2"
      ]
    },
    {
      "cell_type": "markdown",
      "id": "8b133951-9027-4766-bb0c-31399ed2b565",
      "metadata": {
        "id": "8b133951-9027-4766-bb0c-31399ed2b565"
      },
      "source": [
        "**O de esta forma...**"
      ]
    },
    {
      "cell_type": "code",
      "execution_count": null,
      "id": "51a0dbff-f35c-43da-a9d1-d28c212da234",
      "metadata": {
        "colab": {
          "base_uri": "https://localhost:8080/"
        },
        "id": "51a0dbff-f35c-43da-a9d1-d28c212da234",
        "outputId": "045160c9-89f0-4b76-8cb7-c1b3b9414b69"
      },
      "outputs": [
        {
          "output_type": "execute_result",
          "data": {
            "text/plain": [
              "('rojo', 'amarillo', 'verde')"
            ]
          },
          "metadata": {},
          "execution_count": 60
        }
      ],
      "source": [
        "tupla1 += tupla2\n",
        "tupla1"
      ]
    },
    {
      "cell_type": "markdown",
      "id": "147c6ccf-6ef4-440c-b20b-06311b51aec9",
      "metadata": {
        "id": "147c6ccf-6ef4-440c-b20b-06311b51aec9"
      },
      "source": [
        "**Lo importante es saber que no se ha modificado la tupla1, ya que Python ha creado un nuevo objeto, lo que podemos verificar con la función ```id()``` para ver el identificador del objeto...**"
      ]
    },
    {
      "cell_type": "code",
      "execution_count": null,
      "id": "cd3deb53-0b0f-42fc-ba19-263dbab4c7c2",
      "metadata": {
        "colab": {
          "base_uri": "https://localhost:8080/"
        },
        "id": "cd3deb53-0b0f-42fc-ba19-263dbab4c7c2",
        "outputId": "aeab344c-14bf-48ca-d434-c7301f68cf53"
      },
      "outputs": [
        {
          "output_type": "execute_result",
          "data": {
            "text/plain": [
              "140031737703040"
            ]
          },
          "metadata": {},
          "execution_count": 61
        }
      ],
      "source": [
        "tupla1 = \"rojo\", \"amarillo\"\n",
        "id(tupla1)"
      ]
    },
    {
      "cell_type": "code",
      "execution_count": null,
      "id": "3200bdb4-1c93-4792-b0e8-1db314e84dd5",
      "metadata": {
        "colab": {
          "base_uri": "https://localhost:8080/"
        },
        "id": "3200bdb4-1c93-4792-b0e8-1db314e84dd5",
        "outputId": "4233b972-dd2c-4edf-b518-f83f45c7d868"
      },
      "outputs": [
        {
          "output_type": "execute_result",
          "data": {
            "text/plain": [
              "140031678768800"
            ]
          },
          "metadata": {},
          "execution_count": 62
        }
      ],
      "source": [
        "tupla2 = \"verde\",\n",
        "id(tupla2)"
      ]
    },
    {
      "cell_type": "code",
      "execution_count": null,
      "id": "e144f854-b79b-439d-97e5-3204e0bf6bf8",
      "metadata": {
        "colab": {
          "base_uri": "https://localhost:8080/"
        },
        "id": "e144f854-b79b-439d-97e5-3204e0bf6bf8",
        "outputId": "55d069f6-924b-410f-b118-6b26df2df148"
      },
      "outputs": [
        {
          "output_type": "execute_result",
          "data": {
            "text/plain": [
              "140031738117824"
            ]
          },
          "metadata": {},
          "execution_count": 63
        }
      ],
      "source": [
        "tupla1 += tupla2\n",
        "id(tupla1)"
      ]
    },
    {
      "cell_type": "markdown",
      "id": "65716c12-2367-4c20-8a15-9317b1141374",
      "metadata": {
        "id": "65716c12-2367-4c20-8a15-9317b1141374"
      },
      "source": [
        "##### <font color=\"RoyalBlue\">**Convertir a tupla**</font>"
      ]
    },
    {
      "cell_type": "markdown",
      "id": "95935cec-8e7c-4a5e-8db9-b7007b023a3f",
      "metadata": {
        "id": "95935cec-8e7c-4a5e-8db9-b7007b023a3f"
      },
      "source": [
        "**Si tengo otra cosa, por ejemplo una lista, puedo convertirla a una tupla usando la función ```tuple()```**"
      ]
    },
    {
      "cell_type": "code",
      "execution_count": 54,
      "id": "9d20dce1-41cc-4858-96d6-917e8c95545f",
      "metadata": {
        "colab": {
          "base_uri": "https://localhost:8080/"
        },
        "id": "9d20dce1-41cc-4858-96d6-917e8c95545f",
        "outputId": "633b78e3-ec4a-42eb-841f-6e87eea5c770"
      },
      "outputs": [
        {
          "output_type": "execute_result",
          "data": {
            "text/plain": [
              "list"
            ]
          },
          "metadata": {},
          "execution_count": 54
        }
      ],
      "source": [
        "lista = [2, 4, 6, 8, 10, 12, 14, 16, 18, 20]\n",
        "type(lista)"
      ]
    },
    {
      "cell_type": "code",
      "execution_count": 55,
      "id": "f8d792cb-9f3f-4c11-ae31-ea1c53f1c292",
      "metadata": {
        "colab": {
          "base_uri": "https://localhost:8080/"
        },
        "id": "f8d792cb-9f3f-4c11-ae31-ea1c53f1c292",
        "outputId": "038cab90-b94d-4bf3-d341-ba82e11e2e1b"
      },
      "outputs": [
        {
          "output_type": "execute_result",
          "data": {
            "text/plain": [
              "(2, 4, 6, 8, 10, 12, 14, 16, 18, 20)"
            ]
          },
          "metadata": {},
          "execution_count": 55
        }
      ],
      "source": [
        "lista = tuple(lista)\n",
        "lista"
      ]
    },
    {
      "cell_type": "code",
      "execution_count": 56,
      "id": "07084d5b-3b81-4b59-aa46-50086c238e6f",
      "metadata": {
        "colab": {
          "base_uri": "https://localhost:8080/"
        },
        "id": "07084d5b-3b81-4b59-aa46-50086c238e6f",
        "outputId": "8a0bcf2f-1d8b-43cd-ae7c-4c2972d01e9e"
      },
      "outputs": [
        {
          "output_type": "execute_result",
          "data": {
            "text/plain": [
              "tuple"
            ]
          },
          "metadata": {},
          "execution_count": 56
        }
      ],
      "source": [
        "type(lista)"
      ]
    },
    {
      "cell_type": "markdown",
      "source": [
        "👀 **Cuando se definen tuplas dentro de expresiones más complicadas, a menudo es necesario encerrar los valores entre paréntesis, como en este ejemplo de creación de una tupla de tuplas:**"
      ],
      "metadata": {
        "id": "EIAX43J8IOYl"
      },
      "id": "EIAX43J8IOYl"
    },
    {
      "cell_type": "code",
      "source": [
        "tupla_complicada = (4, 5, 6), (7, 8)"
      ],
      "metadata": {
        "id": "wtQQxHlWIduY"
      },
      "id": "wtQQxHlWIduY",
      "execution_count": 57,
      "outputs": []
    },
    {
      "cell_type": "code",
      "source": [
        "tupla_complicada"
      ],
      "metadata": {
        "colab": {
          "base_uri": "https://localhost:8080/"
        },
        "id": "U-vHXSUgIqZ8",
        "outputId": "baa858bc-4e12-409e-d286-be7b11861605"
      },
      "id": "U-vHXSUgIqZ8",
      "execution_count": 58,
      "outputs": [
        {
          "output_type": "execute_result",
          "data": {
            "text/plain": [
              "((4, 5, 6), (7, 8))"
            ]
          },
          "metadata": {},
          "execution_count": 58
        }
      ]
    },
    {
      "cell_type": "code",
      "source": [
        "tupla_complicada[0]"
      ],
      "metadata": {
        "colab": {
          "base_uri": "https://localhost:8080/"
        },
        "id": "RaGgqV17Isiu",
        "outputId": "90bfc0fb-6662-4213-ef2e-bb6a6e77f43f"
      },
      "id": "RaGgqV17Isiu",
      "execution_count": 62,
      "outputs": [
        {
          "output_type": "execute_result",
          "data": {
            "text/plain": [
              "(4, 5, 6)"
            ]
          },
          "metadata": {},
          "execution_count": 62
        }
      ]
    },
    {
      "cell_type": "code",
      "source": [
        "tupla_complicada[1]"
      ],
      "metadata": {
        "colab": {
          "base_uri": "https://localhost:8080/"
        },
        "id": "MkzB6UD6IuV7",
        "outputId": "6ed3b813-0ea1-4544-ddd2-03f085fcaf66"
      },
      "id": "MkzB6UD6IuV7",
      "execution_count": 63,
      "outputs": [
        {
          "output_type": "execute_result",
          "data": {
            "text/plain": [
              "(7, 8)"
            ]
          },
          "metadata": {},
          "execution_count": 63
        }
      ]
    },
    {
      "cell_type": "markdown",
      "id": "8c464ee0-4df5-4ca2-bbcb-b157660ebb80",
      "metadata": {
        "id": "8c464ee0-4df5-4ca2-bbcb-b157660ebb80"
      },
      "source": [
        "#### 🔹 <font color=\"RoyalBlue\">**Listas**</font>"
      ]
    },
    {
      "cell_type": "markdown",
      "id": "05fd7b4c-c064-45ad-a2e8-7f3607b63bec",
      "metadata": {
        "id": "05fd7b4c-c064-45ad-a2e8-7f3607b63bec"
      },
      "source": [
        "**Las listas son conjuntos ordenados de elementos (números, cadenas de caracteres, tuplas, listas, etc). Las listas se delimitan por corchetes [ ] y los elementos se separan por comas.**\n",
        "\n",
        "**Las listas son buenas para realizar un seguimiento de las cosas por su orden, especialmente cuando el orden y el contenido puede cambiar. A diferencia de las tuplas, las listas si son *mutables*. Se puede cambiar una lista, agregar nuevos elementos y eliminar o reemplazar elementos existentes. El mismo valor puede aparecer más de una vez en una lista...**"
      ]
    },
    {
      "cell_type": "markdown",
      "id": "18aafaf8-596c-4003-8b6c-75bb4aee691a",
      "metadata": {
        "id": "18aafaf8-596c-4003-8b6c-75bb4aee691a"
      },
      "source": [
        "##### <font color=\"RoyalBlue\">**Cantidad de elementos**</font>"
      ]
    },
    {
      "cell_type": "code",
      "execution_count": 64,
      "id": "6f374848-8d63-4db2-919e-54df08d73f85",
      "metadata": {
        "colab": {
          "base_uri": "https://localhost:8080/"
        },
        "id": "6f374848-8d63-4db2-919e-54df08d73f85",
        "outputId": "83d60f4d-cec9-4af2-e3bb-3a0dd83b33c3"
      },
      "outputs": [
        {
          "output_type": "execute_result",
          "data": {
            "text/plain": [
              "3"
            ]
          },
          "metadata": {},
          "execution_count": 64
        }
      ],
      "source": [
        "componentes = [\"Activo\", \"Pasivo\", \"Patrimonio Neto\"]\n",
        "len(componentes)"
      ]
    },
    {
      "cell_type": "code",
      "source": [
        "type(componentes)"
      ],
      "metadata": {
        "id": "cxNAKHHcIwVy",
        "outputId": "3602559e-99dc-41ab-edc3-63e6a7a145b0",
        "colab": {
          "base_uri": "https://localhost:8080/"
        }
      },
      "id": "cxNAKHHcIwVy",
      "execution_count": 66,
      "outputs": [
        {
          "output_type": "execute_result",
          "data": {
            "text/plain": [
              "list"
            ]
          },
          "metadata": {},
          "execution_count": 66
        }
      ]
    },
    {
      "cell_type": "markdown",
      "id": "1e915dae-336e-4210-8105-ad5c75e5c37c",
      "metadata": {
        "id": "1e915dae-336e-4210-8105-ad5c75e5c37c"
      },
      "source": [
        "**La lista tambien puede estar vacía...**"
      ]
    },
    {
      "cell_type": "code",
      "execution_count": 67,
      "id": "1f6aad7a-c31c-4b49-812b-8139e51c9eff",
      "metadata": {
        "colab": {
          "base_uri": "https://localhost:8080/"
        },
        "id": "1f6aad7a-c31c-4b49-812b-8139e51c9eff",
        "outputId": "3870d834-2445-44c8-83fb-503f6b2c7a4b"
      },
      "outputs": [
        {
          "output_type": "execute_result",
          "data": {
            "text/plain": [
              "0"
            ]
          },
          "metadata": {},
          "execution_count": 67
        }
      ],
      "source": [
        "lista = []\n",
        "len(lista)"
      ]
    },
    {
      "cell_type": "markdown",
      "id": "4ff917a2-6fab-4765-8ae5-aff4fd23d03a",
      "metadata": {
        "id": "4ff917a2-6fab-4765-8ae5-aff4fd23d03a"
      },
      "source": [
        "##### <font color=\"RoyalBlue\">**Función ```type()```**"
      ]
    },
    {
      "cell_type": "code",
      "execution_count": null,
      "id": "6e1f0cd6-00db-485a-9a92-864c5998cbef",
      "metadata": {
        "colab": {
          "base_uri": "https://localhost:8080/"
        },
        "id": "6e1f0cd6-00db-485a-9a92-864c5998cbef",
        "outputId": "086ce55d-3d5e-4fb5-bcb0-1d41f728f613"
      },
      "outputs": [
        {
          "output_type": "execute_result",
          "data": {
            "text/plain": [
              "list"
            ]
          },
          "metadata": {},
          "execution_count": 74
        }
      ],
      "source": [
        "type(componentes)"
      ]
    },
    {
      "cell_type": "markdown",
      "id": "a26d6324-b35a-4a87-a863-47b22569fbf8",
      "metadata": {
        "id": "a26d6324-b35a-4a87-a863-47b22569fbf8"
      },
      "source": [
        "##### <font color=\"RoyalBlue\">**Convertir a lista**</font>"
      ]
    },
    {
      "cell_type": "markdown",
      "id": "aebc227e-1b3c-4234-a624-4a48f260c517",
      "metadata": {
        "id": "aebc227e-1b3c-4234-a624-4a48f260c517"
      },
      "source": [
        "**La función ```list()``` convierte otros tipos de datos en listas...**"
      ]
    },
    {
      "cell_type": "code",
      "execution_count": 68,
      "id": "3b4fd973-e9b0-4298-8316-8d9859a5713d",
      "metadata": {
        "colab": {
          "base_uri": "https://localhost:8080/"
        },
        "id": "3b4fd973-e9b0-4298-8316-8d9859a5713d",
        "outputId": "5cd7f5d9-42a3-45fe-e3f4-4f9fe3bda6ce"
      },
      "outputs": [
        {
          "output_type": "execute_result",
          "data": {
            "text/plain": [
              "tuple"
            ]
          },
          "metadata": {},
          "execution_count": 68
        }
      ],
      "source": [
        "tupla = 20, 40, 60, 80\n",
        "type(tupla)"
      ]
    },
    {
      "cell_type": "code",
      "execution_count": 69,
      "id": "16ca46dc-e568-430d-b770-0ef4bb7e78d8",
      "metadata": {
        "colab": {
          "base_uri": "https://localhost:8080/"
        },
        "id": "16ca46dc-e568-430d-b770-0ef4bb7e78d8",
        "outputId": "94413358-7677-413c-bed3-6523c836a126"
      },
      "outputs": [
        {
          "output_type": "execute_result",
          "data": {
            "text/plain": [
              "[20, 40, 60, 80]"
            ]
          },
          "metadata": {},
          "execution_count": 69
        }
      ],
      "source": [
        "tupla = list(tupla)\n",
        "tupla"
      ]
    },
    {
      "cell_type": "code",
      "execution_count": 70,
      "id": "e4cb2394-0d80-47d9-86b2-7c0e52a8ccd8",
      "metadata": {
        "colab": {
          "base_uri": "https://localhost:8080/"
        },
        "id": "e4cb2394-0d80-47d9-86b2-7c0e52a8ccd8",
        "outputId": "ac976f14-09ec-4a11-a987-c191e636de06"
      },
      "outputs": [
        {
          "output_type": "execute_result",
          "data": {
            "text/plain": [
              "list"
            ]
          },
          "metadata": {},
          "execution_count": 70
        }
      ],
      "source": [
        "type(tupla)"
      ]
    },
    {
      "cell_type": "markdown",
      "id": "2ebc8fbe-1604-4c50-963f-d19c17b587cf",
      "metadata": {
        "id": "2ebc8fbe-1604-4c50-963f-d19c17b587cf"
      },
      "source": [
        "**También se podría convertir por ejemplo, una cadena de caracteres en una lista...**"
      ]
    },
    {
      "cell_type": "code",
      "execution_count": 71,
      "id": "9dca9ce4-49f1-4a92-8606-0071f0837120",
      "metadata": {
        "colab": {
          "base_uri": "https://localhost:8080/"
        },
        "id": "9dca9ce4-49f1-4a92-8606-0071f0837120",
        "outputId": "02dc0b86-4242-408e-ad17-ab25b9e6a3a9"
      },
      "outputs": [
        {
          "output_type": "execute_result",
          "data": {
            "text/plain": [
              "['A', 'c', 't', 'i', 'v', 'o']"
            ]
          },
          "metadata": {},
          "execution_count": 71
        }
      ],
      "source": [
        "activo = list(\"Activo\")\n",
        "activo"
      ]
    },
    {
      "cell_type": "markdown",
      "id": "8fe06ae8-6ab4-4392-b9ee-aadb84ef5f33",
      "metadata": {
        "id": "8fe06ae8-6ab4-4392-b9ee-aadb84ef5f33"
      },
      "source": [
        "##### **Agregando y eliminando elementos**"
      ]
    },
    {
      "cell_type": "code",
      "execution_count": 72,
      "id": "5416152e-3332-413c-b58f-222181fea10d",
      "metadata": {
        "colab": {
          "base_uri": "https://localhost:8080/"
        },
        "id": "5416152e-3332-413c-b58f-222181fea10d",
        "outputId": "a2994ea6-fa50-4898-cd5e-851c021b0b48"
      },
      "outputs": [
        {
          "output_type": "execute_result",
          "data": {
            "text/plain": [
              "[20, 40, 60, 80]"
            ]
          },
          "metadata": {},
          "execution_count": 72
        }
      ],
      "source": [
        "lista = [20, 40, 60, 80]\n",
        "lista"
      ]
    },
    {
      "cell_type": "markdown",
      "id": "468eb096-d55a-4fdc-a8bb-5fa34e5d5845",
      "metadata": {
        "id": "468eb096-d55a-4fdc-a8bb-5fa34e5d5845"
      },
      "source": [
        "➕ **Para agregar elementos a la lista, se utiliza la función ```append()```**"
      ]
    },
    {
      "cell_type": "code",
      "execution_count": 73,
      "id": "9ef3221d-d884-4346-951c-5f0391e32828",
      "metadata": {
        "colab": {
          "base_uri": "https://localhost:8080/"
        },
        "id": "9ef3221d-d884-4346-951c-5f0391e32828",
        "outputId": "eac137db-03da-4e99-813f-b6fb335c29c4"
      },
      "outputs": [
        {
          "output_type": "execute_result",
          "data": {
            "text/plain": [
              "[20, 40, 60, 80, 100]"
            ]
          },
          "metadata": {},
          "execution_count": 73
        }
      ],
      "source": [
        "lista.append(100)\n",
        "lista"
      ]
    },
    {
      "cell_type": "markdown",
      "id": "c2b955bf-d788-4537-b59e-9a8375613040",
      "metadata": {
        "id": "c2b955bf-d788-4537-b59e-9a8375613040"
      },
      "source": [
        "➖ **Para eliminar elementos de la lista, se utiliza la instrucción ```del``` de Python. En este caso se elimina el último elemento de la lista...**"
      ]
    },
    {
      "cell_type": "code",
      "execution_count": 74,
      "id": "9c5f216e-f918-4491-9de6-b062450dacdd",
      "metadata": {
        "colab": {
          "base_uri": "https://localhost:8080/"
        },
        "id": "9c5f216e-f918-4491-9de6-b062450dacdd",
        "outputId": "03e6f6ab-3c99-4a86-c4b7-d1fe0784532c"
      },
      "outputs": [
        {
          "output_type": "execute_result",
          "data": {
            "text/plain": [
              "[20, 40, 60, 80]"
            ]
          },
          "metadata": {},
          "execution_count": 74
        }
      ],
      "source": [
        "del lista[-1]\n",
        "lista"
      ]
    },
    {
      "cell_type": "markdown",
      "id": "006f459e-af79-44cd-a185-86660462f934",
      "metadata": {
        "id": "006f459e-af79-44cd-a185-86660462f934"
      },
      "source": [
        "➖ **Tambien se puede utilizar la función ```remove()``` para eliminar un elemento de la lista. Tener cuidado si en la lista existen elementos duplicados...**"
      ]
    },
    {
      "cell_type": "code",
      "execution_count": 75,
      "id": "90ba8d83-c4c6-4a89-a356-b248b96c2d76",
      "metadata": {
        "colab": {
          "base_uri": "https://localhost:8080/"
        },
        "id": "90ba8d83-c4c6-4a89-a356-b248b96c2d76",
        "outputId": "dd25cc8e-0950-4f89-bc24-e704b7b5f88a"
      },
      "outputs": [
        {
          "output_type": "execute_result",
          "data": {
            "text/plain": [
              "[20, 40, 60, 80, 100]"
            ]
          },
          "metadata": {},
          "execution_count": 75
        }
      ],
      "source": [
        "lista.append(100)\n",
        "lista"
      ]
    },
    {
      "cell_type": "code",
      "execution_count": 76,
      "id": "922eb604-960c-4091-b8be-c6b28612214d",
      "metadata": {
        "colab": {
          "base_uri": "https://localhost:8080/"
        },
        "id": "922eb604-960c-4091-b8be-c6b28612214d",
        "outputId": "0830429d-efa2-4439-bb07-0b55884a2c50"
      },
      "outputs": [
        {
          "output_type": "execute_result",
          "data": {
            "text/plain": [
              "[20, 40, 60, 80]"
            ]
          },
          "metadata": {},
          "execution_count": 76
        }
      ],
      "source": [
        "lista.remove(100)\n",
        "lista"
      ]
    },
    {
      "cell_type": "markdown",
      "id": "c2f63ac3-28bd-4675-ada0-ebc7aa5a4dfa",
      "metadata": {
        "id": "c2f63ac3-28bd-4675-ada0-ebc7aa5a4dfa"
      },
      "source": [
        "➖ **Y también se pueden eliminar todos los elementos de la lista, con el método ```clear()```**"
      ]
    },
    {
      "cell_type": "code",
      "execution_count": 77,
      "id": "d2317b1d-a076-41b8-9757-0cf183b6b9aa",
      "metadata": {
        "colab": {
          "base_uri": "https://localhost:8080/"
        },
        "id": "d2317b1d-a076-41b8-9757-0cf183b6b9aa",
        "outputId": "3a43f496-cc26-4a37-e388-35d52b004cbf"
      },
      "outputs": [
        {
          "output_type": "execute_result",
          "data": {
            "text/plain": [
              "[]"
            ]
          },
          "metadata": {},
          "execution_count": 77
        }
      ],
      "source": [
        "lista.clear()\n",
        "lista"
      ]
    },
    {
      "cell_type": "markdown",
      "id": "4031f668-df64-45be-a2d8-2e120ad232ac",
      "metadata": {
        "id": "4031f668-df64-45be-a2d8-2e120ad232ac"
      },
      "source": [
        "##### <font color=\"RoyalBlue\">**Listas numéricas**</font>"
      ]
    },
    {
      "cell_type": "code",
      "execution_count": null,
      "id": "c9b424ce-a6de-4031-b243-e0fa4480352f",
      "metadata": {
        "colab": {
          "base_uri": "https://localhost:8080/"
        },
        "id": "c9b424ce-a6de-4031-b243-e0fa4480352f",
        "outputId": "e42c6f03-3317-44ee-8b71-47557c80df94"
      },
      "outputs": [
        {
          "output_type": "execute_result",
          "data": {
            "text/plain": [
              "[2, 4, 6, 8, 10, 12, 14, 16, 18, 20]"
            ]
          },
          "metadata": {},
          "execution_count": 85
        }
      ],
      "source": [
        "pares = [2, 4, 6, 8, 10, 12, 14, 16, 18, 20]\n",
        "pares"
      ]
    },
    {
      "cell_type": "code",
      "execution_count": null,
      "id": "f62da9c6-d287-4e00-9e18-3893ff2bf7a0",
      "metadata": {
        "colab": {
          "base_uri": "https://localhost:8080/"
        },
        "id": "f62da9c6-d287-4e00-9e18-3893ff2bf7a0",
        "outputId": "1def6b3a-53e9-491d-de65-9b2d07873bef"
      },
      "outputs": [
        {
          "output_type": "execute_result",
          "data": {
            "text/plain": [
              "[1, 3, 5, 7, 9, 11, 13, 15, 17, 19]"
            ]
          },
          "metadata": {},
          "execution_count": 86
        }
      ],
      "source": [
        "impares = [1, 3, 5, 7, 9, 11, 13, 15, 17, 19]\n",
        "impares"
      ]
    },
    {
      "cell_type": "markdown",
      "id": "da47c9e0-f324-47bd-b233-11f7aaf2b5c6",
      "metadata": {
        "id": "da47c9e0-f324-47bd-b233-11f7aaf2b5c6"
      },
      "source": [
        "**Vemos el primer y el último valor par...**"
      ]
    },
    {
      "cell_type": "code",
      "execution_count": null,
      "id": "22e75f92-986c-42c1-8a13-21b336be3265",
      "metadata": {
        "colab": {
          "base_uri": "https://localhost:8080/"
        },
        "id": "22e75f92-986c-42c1-8a13-21b336be3265",
        "outputId": "a530bb71-4469-4ac1-9ef8-6e7b93de59c0"
      },
      "outputs": [
        {
          "output_type": "execute_result",
          "data": {
            "text/plain": [
              "2"
            ]
          },
          "metadata": {},
          "execution_count": 87
        }
      ],
      "source": [
        "pares[0]"
      ]
    },
    {
      "cell_type": "code",
      "execution_count": null,
      "id": "6381834d-5767-499e-8010-a44cf5062b5b",
      "metadata": {
        "colab": {
          "base_uri": "https://localhost:8080/"
        },
        "id": "6381834d-5767-499e-8010-a44cf5062b5b",
        "outputId": "bfd5e349-5253-42f8-8b2d-68cbe4fc0c74"
      },
      "outputs": [
        {
          "output_type": "execute_result",
          "data": {
            "text/plain": [
              "20"
            ]
          },
          "metadata": {},
          "execution_count": 88
        }
      ],
      "source": [
        "pares[-1]"
      ]
    },
    {
      "cell_type": "markdown",
      "id": "993422a5-ce65-48ee-bdc3-0bdef450bd49",
      "metadata": {
        "id": "993422a5-ce65-48ee-bdc3-0bdef450bd49"
      },
      "source": [
        "**Vemos el segundo y el penúltimo valor impar...**"
      ]
    },
    {
      "cell_type": "code",
      "execution_count": null,
      "id": "ee667c1d-4370-40dc-9916-40f36ccd6bc3",
      "metadata": {
        "colab": {
          "base_uri": "https://localhost:8080/"
        },
        "id": "ee667c1d-4370-40dc-9916-40f36ccd6bc3",
        "outputId": "c6067213-3c5a-416c-c3fe-bedfbe4cf8a4"
      },
      "outputs": [
        {
          "output_type": "execute_result",
          "data": {
            "text/plain": [
              "3"
            ]
          },
          "metadata": {},
          "execution_count": 89
        }
      ],
      "source": [
        "impares[1]"
      ]
    },
    {
      "cell_type": "code",
      "execution_count": null,
      "id": "82c8e736-be2e-4621-9db0-eb6c9c62584f",
      "metadata": {
        "colab": {
          "base_uri": "https://localhost:8080/"
        },
        "id": "82c8e736-be2e-4621-9db0-eb6c9c62584f",
        "outputId": "a2b4fcbb-0317-423b-9381-d3078d63fe24"
      },
      "outputs": [
        {
          "output_type": "execute_result",
          "data": {
            "text/plain": [
              "17"
            ]
          },
          "metadata": {},
          "execution_count": 90
        }
      ],
      "source": [
        "impares[-2]"
      ]
    },
    {
      "cell_type": "markdown",
      "id": "0df2bdf7-8dd2-4af8-a337-2b6dca664711",
      "metadata": {
        "id": "0df2bdf7-8dd2-4af8-a337-2b6dca664711"
      },
      "source": [
        "**También podemos ver los primeros cinco elementos de la lista... (o los que se deseen...)**"
      ]
    },
    {
      "cell_type": "code",
      "execution_count": null,
      "id": "2c309f34-9a0c-46c5-829d-dcf59bccff3b",
      "metadata": {
        "colab": {
          "base_uri": "https://localhost:8080/"
        },
        "id": "2c309f34-9a0c-46c5-829d-dcf59bccff3b",
        "outputId": "4908731b-b84a-4a28-fb49-c99d296578e3"
      },
      "outputs": [
        {
          "output_type": "execute_result",
          "data": {
            "text/plain": [
              "[1, 3, 5, 7, 9]"
            ]
          },
          "metadata": {},
          "execution_count": 91
        }
      ],
      "source": [
        "impares[0:5]"
      ]
    },
    {
      "cell_type": "markdown",
      "id": "7f00a2ea-a7db-4793-826c-ab13de164db5",
      "metadata": {
        "id": "7f00a2ea-a7db-4793-826c-ab13de164db5"
      },
      "source": [
        "**Vamos a concatenar a la lista pares, cinco elementos más...**"
      ]
    },
    {
      "cell_type": "code",
      "execution_count": null,
      "id": "e817dada-71be-47af-966d-3f97522a5c0d",
      "metadata": {
        "colab": {
          "base_uri": "https://localhost:8080/"
        },
        "id": "e817dada-71be-47af-966d-3f97522a5c0d",
        "outputId": "cd09aaa3-31ba-40c8-be02-3f3658585b1e"
      },
      "outputs": [
        {
          "output_type": "execute_result",
          "data": {
            "text/plain": [
              "[2, 4, 6, 8, 10, 12, 14, 16, 18, 20]"
            ]
          },
          "metadata": {},
          "execution_count": 92
        }
      ],
      "source": [
        "pares"
      ]
    },
    {
      "cell_type": "code",
      "execution_count": null,
      "id": "7e74905b-b0e1-46d4-a638-235303bd1097",
      "metadata": {
        "colab": {
          "base_uri": "https://localhost:8080/"
        },
        "id": "7e74905b-b0e1-46d4-a638-235303bd1097",
        "outputId": "0064211b-0ae3-439e-cf04-77bf4d827cbd"
      },
      "outputs": [
        {
          "output_type": "execute_result",
          "data": {
            "text/plain": [
              "[2, 4, 6, 8, 10, 12, 14, 16, 18, 20, 22, 24, 26, 28, 31]"
            ]
          },
          "metadata": {},
          "execution_count": 93
        }
      ],
      "source": [
        "pares = pares + [22, 24, 26, 28, 31]\n",
        "pares"
      ]
    },
    {
      "cell_type": "markdown",
      "id": "4083e87b-7960-4fa9-8aa8-c1c89dc932db",
      "metadata": {
        "id": "4083e87b-7960-4fa9-8aa8-c1c89dc932db"
      },
      "source": [
        "**El último elemento de la lista pares es 31 y debería ser 30, lo cambiamos...**"
      ]
    },
    {
      "cell_type": "code",
      "execution_count": null,
      "id": "655e0b7c-859c-4ce1-bd4c-b2abb8aff852",
      "metadata": {
        "colab": {
          "base_uri": "https://localhost:8080/"
        },
        "id": "655e0b7c-859c-4ce1-bd4c-b2abb8aff852",
        "outputId": "f34b31b5-3aae-4ad1-aaca-ebd0e7c4c736"
      },
      "outputs": [
        {
          "output_type": "execute_result",
          "data": {
            "text/plain": [
              "[2, 4, 6, 8, 10, 12, 14, 16, 18, 20, 22, 24, 26, 28, 30]"
            ]
          },
          "metadata": {},
          "execution_count": 94
        }
      ],
      "source": [
        "pares[-1] = 30\n",
        "pares"
      ]
    },
    {
      "cell_type": "markdown",
      "id": "918b33c6-175e-4e98-bfc3-9bb14ca622af",
      "metadata": {
        "id": "918b33c6-175e-4e98-bfc3-9bb14ca622af"
      },
      "source": [
        "➕ **Tambien podemos usar ```append()``` para agregar un elemento a la lista, pero usando una expresión matemática en ```append()```...**"
      ]
    },
    {
      "cell_type": "code",
      "execution_count": null,
      "id": "96b6e081-8993-45a9-adce-bab3c1b9623c",
      "metadata": {
        "colab": {
          "base_uri": "https://localhost:8080/"
        },
        "id": "96b6e081-8993-45a9-adce-bab3c1b9623c",
        "outputId": "8975d24e-16be-41fe-9a36-b1b37473b419"
      },
      "outputs": [
        {
          "output_type": "execute_result",
          "data": {
            "text/plain": [
              "[2, 4, 6, 8, 10, 12, 14, 16, 18, 20, 22, 24, 26, 28, 30, 32]"
            ]
          },
          "metadata": {},
          "execution_count": 95
        }
      ],
      "source": [
        "pares.append(16*2)\n",
        "pares"
      ]
    },
    {
      "cell_type": "markdown",
      "id": "a2973e3e-4b49-4fa4-8c6d-a66cd3ebf603",
      "metadata": {
        "id": "a2973e3e-4b49-4fa4-8c6d-a66cd3ebf603"
      },
      "source": [
        "##### <font color=\"RoyalBlue\">**Listas de textos**</font>"
      ]
    },
    {
      "cell_type": "code",
      "execution_count": null,
      "id": "6177a89b-5c33-49ee-b958-01a6c0d90881",
      "metadata": {
        "colab": {
          "base_uri": "https://localhost:8080/"
        },
        "id": "6177a89b-5c33-49ee-b958-01a6c0d90881",
        "outputId": "44c259d5-6cef-4763-b66b-43c026c89ff0"
      },
      "outputs": [
        {
          "output_type": "execute_result",
          "data": {
            "text/plain": [
              "['Me', 'encanta', 'Python', 'version', '3.10']"
            ]
          },
          "metadata": {},
          "execution_count": 96
        }
      ],
      "source": [
        "lista1 = [\"Me\",\"encanta\",\"Python\",\"version\",\"3.10\"]\n",
        "lista1"
      ]
    },
    {
      "cell_type": "code",
      "execution_count": null,
      "id": "b0f1ba36-b169-4b3c-8f6b-5ddea1e2c740",
      "metadata": {
        "colab": {
          "base_uri": "https://localhost:8080/"
        },
        "id": "b0f1ba36-b169-4b3c-8f6b-5ddea1e2c740",
        "outputId": "b3fbb072-4816-43e7-f985-94d1e1d22d0f"
      },
      "outputs": [
        {
          "output_type": "stream",
          "name": "stdout",
          "text": [
            "['Me', 'encanta', 'Python', 'version', '3.10']\n"
          ]
        }
      ],
      "source": [
        "print(lista1)"
      ]
    },
    {
      "cell_type": "code",
      "execution_count": null,
      "id": "eb9d1329-4b3c-497a-a1e3-ee46c8c8713c",
      "metadata": {
        "colab": {
          "base_uri": "https://localhost:8080/"
        },
        "id": "eb9d1329-4b3c-497a-a1e3-ee46c8c8713c",
        "outputId": "36ce0957-9875-4479-9b77-53367baae4d1"
      },
      "outputs": [
        {
          "output_type": "execute_result",
          "data": {
            "text/plain": [
              "['Lunes', 'Martes', 'Miercoles', 'Jueves', 'Viernes', 'Sabado', ' Domingo']"
            ]
          },
          "metadata": {},
          "execution_count": 98
        }
      ],
      "source": [
        "semana = [\"Lunes\", \"Martes\", \"Miercoles\", \"Jueves\", \"Viernes\", \"Sabado\", \" Domingo\"]\n",
        "semana"
      ]
    },
    {
      "cell_type": "markdown",
      "id": "1154caa2-b545-4cf2-9261-984376747eb1",
      "metadata": {
        "id": "1154caa2-b545-4cf2-9261-984376747eb1"
      },
      "source": [
        "##### <font color=\"RoyalBlue\">**Listas combinadas**</font>"
      ]
    },
    {
      "cell_type": "markdown",
      "id": "bcbd9295-6933-4dee-b33f-140114f9b796",
      "metadata": {
        "id": "bcbd9295-6933-4dee-b33f-140114f9b796"
      },
      "source": [
        "**Las listas combinadas pueden contener elementos de tipos distintos:**"
      ]
    },
    {
      "cell_type": "code",
      "execution_count": null,
      "id": "dae9f1ac-8b04-468a-b0ae-5c40412b0208",
      "metadata": {
        "colab": {
          "base_uri": "https://localhost:8080/"
        },
        "id": "dae9f1ac-8b04-468a-b0ae-5c40412b0208",
        "outputId": "6bb4b612-ae49-4317-882e-254268ede0ea"
      },
      "outputs": [
        {
          "output_type": "execute_result",
          "data": {
            "text/plain": [
              "['Martes', 4, 'Noviembre', 1975]"
            ]
          },
          "metadata": {},
          "execution_count": 99
        }
      ],
      "source": [
        "nacimiento = [\"Martes\", 4, \"Noviembre\", 1975]\n",
        "nacimiento"
      ]
    },
    {
      "cell_type": "code",
      "execution_count": null,
      "id": "6b6d4aec-64fb-4892-994f-34735ddcb588",
      "metadata": {
        "colab": {
          "base_uri": "https://localhost:8080/"
        },
        "id": "6b6d4aec-64fb-4892-994f-34735ddcb588",
        "outputId": "00b6c472-1188-444a-c69e-df9351a70d6f"
      },
      "outputs": [
        {
          "output_type": "execute_result",
          "data": {
            "text/plain": [
              "['Activo', 'Pasivo', 'Patrimonio Neto']"
            ]
          },
          "metadata": {},
          "execution_count": 100
        }
      ],
      "source": [
        "ESP = [\"Activo\", \"Pasivo\", \"Patrimonio Neto\"]\n",
        "ESP"
      ]
    },
    {
      "cell_type": "code",
      "execution_count": null,
      "id": "e61b2541-fac0-4d7d-949c-af608614089c",
      "metadata": {
        "colab": {
          "base_uri": "https://localhost:8080/"
        },
        "id": "e61b2541-fac0-4d7d-949c-af608614089c",
        "outputId": "32556fe0-0e73-44cd-8c8d-7061eb4ac9d0"
      },
      "outputs": [
        {
          "output_type": "execute_result",
          "data": {
            "text/plain": [
              "['Activo', 1000, 'Pasivo', 400, 'Patrimonio Neto', 600]"
            ]
          },
          "metadata": {},
          "execution_count": 101
        }
      ],
      "source": [
        "ESP = [\"Activo\", 1000, \"Pasivo\", 400, \"Patrimonio Neto\", 600]\n",
        "ESP"
      ]
    },
    {
      "cell_type": "code",
      "execution_count": null,
      "id": "f379dfc7-6cab-4f4d-9592-229811cf4fa3",
      "metadata": {
        "colab": {
          "base_uri": "https://localhost:8080/"
        },
        "id": "f379dfc7-6cab-4f4d-9592-229811cf4fa3",
        "outputId": "be7b095a-fe42-4a36-f7ea-daa78c6d416d"
      },
      "outputs": [
        {
          "output_type": "execute_result",
          "data": {
            "text/plain": [
              "[['Activo', 1000], ['Pasivo', 400], ['Patrimonio Neto', 600]]"
            ]
          },
          "metadata": {},
          "execution_count": 102
        }
      ],
      "source": [
        "ESP = [[\"Activo\", 1000],[ \"Pasivo\", 400],[ \"Patrimonio Neto\", 600]]\n",
        "ESP"
      ]
    },
    {
      "cell_type": "markdown",
      "id": "a989fcb0-1377-46e7-a5ba-38871ed9052e",
      "metadata": {
        "id": "a989fcb0-1377-46e7-a5ba-38871ed9052e"
      },
      "source": [
        "**Tambien pueden contener $n$ variables**"
      ]
    },
    {
      "cell_type": "code",
      "execution_count": null,
      "id": "24ec17d4-16ab-4190-97fb-82cd7fbe2776",
      "metadata": {
        "id": "24ec17d4-16ab-4190-97fb-82cd7fbe2776"
      },
      "outputs": [],
      "source": [
        "primernombre = \"Cristian\"\n",
        "segundonombre = \"Dario\"\n",
        "apellidopaterno = \"Ortega\"\n",
        "apellidomaterno = \"Yubro\"\n",
        "edad = 46"
      ]
    },
    {
      "cell_type": "code",
      "execution_count": null,
      "id": "9fe592e4-43ac-402b-9aca-69da4f4bbc8c",
      "metadata": {
        "colab": {
          "base_uri": "https://localhost:8080/"
        },
        "id": "9fe592e4-43ac-402b-9aca-69da4f4bbc8c",
        "outputId": "a2f743cd-ba1e-4dfb-8d31-06f12d7da2bd"
      },
      "outputs": [
        {
          "output_type": "execute_result",
          "data": {
            "text/plain": [
              "['Cristian', 'Dario', 'Ortega', 'Yubro', 46]"
            ]
          },
          "metadata": {},
          "execution_count": 104
        }
      ],
      "source": [
        "lista = [primernombre, segundonombre, apellidopaterno, apellidomaterno, edad]\n",
        "lista"
      ]
    },
    {
      "cell_type": "markdown",
      "id": "b633357e-6218-4243-b52f-d7e603dfe034",
      "metadata": {
        "id": "b633357e-6218-4243-b52f-d7e603dfe034"
      },
      "source": [
        "**Y si se trata de objetos inmutables, el resto de las variables no resultan afectadas...**"
      ]
    },
    {
      "cell_type": "code",
      "execution_count": null,
      "id": "e168522b-a257-45e0-b162-568fc4e13165",
      "metadata": {
        "colab": {
          "base_uri": "https://localhost:8080/"
        },
        "id": "e168522b-a257-45e0-b162-568fc4e13165",
        "outputId": "bfc3ff86-c3ba-4049-8099-9c145f36a4f9"
      },
      "outputs": [
        {
          "output_type": "execute_result",
          "data": {
            "text/plain": [
              "['Cristian', 'Dario', 'Ortega', 'Yubro', 46]"
            ]
          },
          "metadata": {},
          "execution_count": 105
        }
      ],
      "source": [
        "primernombre = \"Martin\"\n",
        "lista"
      ]
    },
    {
      "cell_type": "markdown",
      "id": "602a39d9-5314-41be-96f0-684dae0b386e",
      "metadata": {
        "id": "602a39d9-5314-41be-96f0-684dae0b386e"
      },
      "source": [
        "**Pero si se trata de objetos mutables, al modificar la variable se modifica el objeto...**"
      ]
    },
    {
      "cell_type": "code",
      "execution_count": null,
      "id": "7b0c5393-e12e-42ce-9e1a-efff34b42922",
      "metadata": {
        "id": "7b0c5393-e12e-42ce-9e1a-efff34b42922"
      },
      "outputs": [],
      "source": [
        "nombres = [\"Cristian Dario\"]\n",
        "apellidos = [\"Ortega Yubro\"]\n",
        "edad = 46"
      ]
    },
    {
      "cell_type": "code",
      "execution_count": null,
      "id": "23200d41-1233-45af-a5e3-cbffc6a174c6",
      "metadata": {
        "colab": {
          "base_uri": "https://localhost:8080/"
        },
        "id": "23200d41-1233-45af-a5e3-cbffc6a174c6",
        "outputId": "6db0bb74-11a4-458d-a000-b9fdbf7ecca2"
      },
      "outputs": [
        {
          "output_type": "execute_result",
          "data": {
            "text/plain": [
              "[['Cristian Dario'], ['Ortega Yubro'], 46]"
            ]
          },
          "metadata": {},
          "execution_count": 107
        }
      ],
      "source": [
        "lista = [nombres, apellidos, edad]\n",
        "lista"
      ]
    },
    {
      "cell_type": "code",
      "execution_count": null,
      "id": "6c92ef67-6604-4667-9c85-b6dee781f000",
      "metadata": {
        "colab": {
          "base_uri": "https://localhost:8080/"
        },
        "id": "6c92ef67-6604-4667-9c85-b6dee781f000",
        "outputId": "77745f5c-ca13-4e7a-cdd6-0236705b2426"
      },
      "outputs": [
        {
          "output_type": "execute_result",
          "data": {
            "text/plain": [
              "[['Cristian Dario', 'Martin'], ['Ortega Yubro'], 46]"
            ]
          },
          "metadata": {},
          "execution_count": 108
        }
      ],
      "source": [
        "nombres += [\"Martin\"]\n",
        "lista"
      ]
    },
    {
      "cell_type": "markdown",
      "source": [
        "##### <font color=\"RoyalBlue\">**Función ```sort()```**"
      ],
      "metadata": {
        "id": "V8E_jtucJvwq"
      },
      "id": "V8E_jtucJvwq"
    },
    {
      "cell_type": "markdown",
      "source": [
        "**Se puede ordenar una lista (sin crear un nuevo objeto) llamando a la función ```sort()```:**\n",
        "\n"
      ],
      "metadata": {
        "id": "vtflixpSKB_E"
      },
      "id": "vtflixpSKB_E"
    },
    {
      "cell_type": "code",
      "source": [
        "a = [7, 2, 5, 1, 3]"
      ],
      "metadata": {
        "id": "sRQ7LtXqJxwe"
      },
      "id": "sRQ7LtXqJxwe",
      "execution_count": null,
      "outputs": []
    },
    {
      "cell_type": "code",
      "source": [
        "a.sort()"
      ],
      "metadata": {
        "id": "7yRW676hJ4gO"
      },
      "id": "7yRW676hJ4gO",
      "execution_count": null,
      "outputs": []
    },
    {
      "cell_type": "code",
      "source": [
        "a"
      ],
      "metadata": {
        "colab": {
          "base_uri": "https://localhost:8080/"
        },
        "id": "_YMm400sJ7XI",
        "outputId": "7a333cd9-570e-4501-f3ff-defbe7e910cc"
      },
      "id": "_YMm400sJ7XI",
      "execution_count": null,
      "outputs": [
        {
          "output_type": "execute_result",
          "data": {
            "text/plain": [
              "[1, 2, 3, 5, 7]"
            ]
          },
          "metadata": {},
          "execution_count": 142
        }
      ]
    },
    {
      "cell_type": "markdown",
      "source": [
        "**```sort()``` tiene algunas opciones que ocasionalmente serán útiles. Una es la capacidad de pasar una clave de clasificación secundaria, es decir, una función que produce un valor para usar para clasificar los objetos. Por ejemplo, podríamos ordenar unas cadenas de caracteres por sus longitudes:**"
      ],
      "metadata": {
        "id": "SyVErDirKajL"
      },
      "id": "SyVErDirKajL"
    },
    {
      "cell_type": "code",
      "source": [
        "b = [\"Cristian\", \"Seba\", \"Astrid\", \"Julia\", \"Favio\", \"Martin\", \"Rocio\", \"Juanmi\"]"
      ],
      "metadata": {
        "id": "cYK5q4jlKnti"
      },
      "id": "cYK5q4jlKnti",
      "execution_count": null,
      "outputs": []
    },
    {
      "cell_type": "code",
      "source": [
        "b.sort(key=len)"
      ],
      "metadata": {
        "id": "CG5_NT1tK4GC"
      },
      "id": "CG5_NT1tK4GC",
      "execution_count": null,
      "outputs": []
    },
    {
      "cell_type": "code",
      "source": [
        "b"
      ],
      "metadata": {
        "colab": {
          "base_uri": "https://localhost:8080/"
        },
        "id": "jm1dU2VOK7ey",
        "outputId": "013362f8-63ae-4b63-d94b-bfb7a08cc01d"
      },
      "id": "jm1dU2VOK7ey",
      "execution_count": null,
      "outputs": [
        {
          "output_type": "execute_result",
          "data": {
            "text/plain": [
              "['Seba', 'Julia', 'Favio', 'Rocio', 'Astrid', 'Martin', 'Juanmi', 'Cristian']"
            ]
          },
          "metadata": {},
          "execution_count": 145
        }
      ]
    },
    {
      "cell_type": "markdown",
      "id": "068db908-b417-4cb3-94eb-2787db68c468",
      "metadata": {
        "id": "068db908-b417-4cb3-94eb-2787db68c468"
      },
      "source": [
        "#### 🔹 <font color=\"RoyalBlue\">**Diccionarios**</font>"
      ]
    },
    {
      "cell_type": "markdown",
      "id": "804c217d-cb49-4c0f-b204-0f4cdf55bafc",
      "metadata": {
        "id": "804c217d-cb49-4c0f-b204-0f4cdf55bafc"
      },
      "source": [
        "**Los diccionarios son similares a las listas, pero el orden de los elementos no importa. En los diccionarios se puede especificar una clave única para asociar a cada valor. Esta clave es a menudo una cadena de caracteres, pero en realidad puede ser cualquiera de los tipos de datos *inmutables* de Python: booleano, entero, flotante, tupla, cadena de caracteres y otros. Los diccionarios son *mutables*, por lo que puede agregar, eliminar y cambiar sus elementos clave-valor.**"
      ]
    },
    {
      "cell_type": "code",
      "execution_count": 78,
      "id": "39d056ca-c8d8-4c94-b8c4-b75fc6dd9efe",
      "metadata": {
        "colab": {
          "base_uri": "https://localhost:8080/"
        },
        "id": "39d056ca-c8d8-4c94-b8c4-b75fc6dd9efe",
        "outputId": "bb0f35cf-ce19-436d-9fd9-48ce45a25717"
      },
      "outputs": [
        {
          "output_type": "execute_result",
          "data": {
            "text/plain": [
              "{'Actividad': 'Formación',\n",
              " 'Contenido': 'Python for Data Analysis',\n",
              " 'Nivel': 'Incial'}"
            ]
          },
          "metadata": {},
          "execution_count": 78
        }
      ],
      "source": [
        "diccionario1 = {\"Actividad\": \"Formación\", \"Contenido\": \"Python for Data Analysis\", \"Nivel\":\"Incial\"}\n",
        "diccionario1"
      ]
    },
    {
      "cell_type": "markdown",
      "id": "f2846fae-7e92-4484-b93f-8db55a5b54d5",
      "metadata": {
        "id": "f2846fae-7e92-4484-b93f-8db55a5b54d5"
      },
      "source": [
        "**A algunas personas no les gusta escribir tantas llaves y comillas. Se puede crear un diccionario con la función dict()**"
      ]
    },
    {
      "cell_type": "code",
      "execution_count": null,
      "id": "dc155507-5f56-4f68-9368-70fac680feb2",
      "metadata": {
        "colab": {
          "base_uri": "https://localhost:8080/"
        },
        "id": "dc155507-5f56-4f68-9368-70fac680feb2",
        "outputId": "49f7dc7f-1981-43a5-9120-befddb23324a"
      },
      "outputs": [
        {
          "output_type": "execute_result",
          "data": {
            "text/plain": [
              "{'Actividad': 'Formación',\n",
              " 'Contenido': 'Python for Data Analysis',\n",
              " 'Nivel': 'Inicial'}"
            ]
          },
          "metadata": {},
          "execution_count": 110
        }
      ],
      "source": [
        "diccionario2 = dict(Actividad = \"Formación\", Contenido = \"Python for Data Analysis\", Nivel = \"Inicial\")\n",
        "diccionario2"
      ]
    },
    {
      "cell_type": "markdown",
      "id": "bcfda0c9-6754-40a1-baf3-db3f9c0d5615",
      "metadata": {
        "id": "bcfda0c9-6754-40a1-baf3-db3f9c0d5615"
      },
      "source": [
        "##### <font color=\"RoyalBlue\">**Cantidad de elementos**</font>"
      ]
    },
    {
      "cell_type": "code",
      "execution_count": null,
      "id": "3afcc79c-2361-4d12-b036-db3b36a510c1",
      "metadata": {
        "colab": {
          "base_uri": "https://localhost:8080/"
        },
        "id": "3afcc79c-2361-4d12-b036-db3b36a510c1",
        "outputId": "3a4b9462-93da-4363-d71f-1512fac85eae"
      },
      "outputs": [
        {
          "output_type": "execute_result",
          "data": {
            "text/plain": [
              "3"
            ]
          },
          "metadata": {},
          "execution_count": 111
        }
      ],
      "source": [
        "len(diccionario1)"
      ]
    },
    {
      "cell_type": "markdown",
      "id": "98e30df5-db1a-4d8c-b5ff-6a94f729ba38",
      "metadata": {
        "id": "98e30df5-db1a-4d8c-b5ff-6a94f729ba38"
      },
      "source": [
        "**El diccionario tambien puede estar vacío...**"
      ]
    },
    {
      "cell_type": "code",
      "execution_count": null,
      "id": "f5dd3a5c-2013-4e16-a601-209915375b96",
      "metadata": {
        "colab": {
          "base_uri": "https://localhost:8080/"
        },
        "id": "f5dd3a5c-2013-4e16-a601-209915375b96",
        "outputId": "af982caa-5480-4133-dcc7-b2e8df4ab815"
      },
      "outputs": [
        {
          "output_type": "execute_result",
          "data": {
            "text/plain": [
              "{}"
            ]
          },
          "metadata": {},
          "execution_count": 112
        }
      ],
      "source": [
        "diccionario3 = {}\n",
        "diccionario3"
      ]
    },
    {
      "cell_type": "code",
      "execution_count": null,
      "id": "97b6be22-fdb6-4d5c-bef9-929474f4c3d0",
      "metadata": {
        "colab": {
          "base_uri": "https://localhost:8080/"
        },
        "id": "97b6be22-fdb6-4d5c-bef9-929474f4c3d0",
        "outputId": "59d41aaf-7f80-478c-a44c-94296ba6aa39"
      },
      "outputs": [
        {
          "output_type": "execute_result",
          "data": {
            "text/plain": [
              "0"
            ]
          },
          "metadata": {},
          "execution_count": 113
        }
      ],
      "source": [
        "len(diccionario3)"
      ]
    },
    {
      "cell_type": "markdown",
      "id": "06af9e7c-ef0f-4547-96bd-350f2601dfd0",
      "metadata": {
        "id": "06af9e7c-ef0f-4547-96bd-350f2601dfd0"
      },
      "source": [
        "##### <font color=\"RoyalBlue\">**Función ```type()```**</font>"
      ]
    },
    {
      "cell_type": "code",
      "execution_count": null,
      "id": "08fdcac8-d607-40ac-9c32-be39ddc9266e",
      "metadata": {
        "colab": {
          "base_uri": "https://localhost:8080/"
        },
        "id": "08fdcac8-d607-40ac-9c32-be39ddc9266e",
        "outputId": "25e62092-140c-4215-a4d0-3b519960cd0a"
      },
      "outputs": [
        {
          "output_type": "execute_result",
          "data": {
            "text/plain": [
              "dict"
            ]
          },
          "metadata": {},
          "execution_count": 114
        }
      ],
      "source": [
        "type(diccionario3)"
      ]
    },
    {
      "cell_type": "markdown",
      "id": "c5342142-92f0-4c7f-b231-c39f1a46c684",
      "metadata": {
        "id": "c5342142-92f0-4c7f-b231-c39f1a46c684"
      },
      "source": [
        "##### <font color=\"RoyalBlue\">**Convertir a diccionario**</font>"
      ]
    },
    {
      "cell_type": "code",
      "execution_count": 80,
      "id": "7931aa6c-9345-4eca-a924-fd49357365eb",
      "metadata": {
        "id": "7931aa6c-9345-4eca-a924-fd49357365eb"
      },
      "outputs": [],
      "source": [
        "ESP = [[\"Activo\", 1000],[\"Pasivo\", 400],[\"Patrimonio Neto\", 600]]"
      ]
    },
    {
      "cell_type": "code",
      "execution_count": 81,
      "id": "50a8a34b-3ec9-4866-9a99-5d2c1e0a7829",
      "metadata": {
        "colab": {
          "base_uri": "https://localhost:8080/"
        },
        "id": "50a8a34b-3ec9-4866-9a99-5d2c1e0a7829",
        "outputId": "b56d56a7-4283-4d81-992d-37650e018eaa"
      },
      "outputs": [
        {
          "output_type": "execute_result",
          "data": {
            "text/plain": [
              "list"
            ]
          },
          "metadata": {},
          "execution_count": 81
        }
      ],
      "source": [
        "type(ESP)"
      ]
    },
    {
      "cell_type": "code",
      "execution_count": null,
      "id": "a1e41889-04d8-4408-9b21-2ce85146bdf2",
      "metadata": {
        "colab": {
          "base_uri": "https://localhost:8080/"
        },
        "id": "a1e41889-04d8-4408-9b21-2ce85146bdf2",
        "outputId": "a64a7fc9-fab3-4a52-c86b-8f7c0b568abd"
      },
      "outputs": [
        {
          "output_type": "execute_result",
          "data": {
            "text/plain": [
              "{'Activo': 1000, 'Pasivo': 400, 'Patrimonio Neto': 600}"
            ]
          },
          "metadata": {},
          "execution_count": 117
        }
      ],
      "source": [
        "ESP = dict(ESP)\n",
        "ESP"
      ]
    },
    {
      "cell_type": "code",
      "execution_count": null,
      "id": "841d1ba3-6d3b-4d43-8fbe-ec3450b8e860",
      "metadata": {
        "colab": {
          "base_uri": "https://localhost:8080/"
        },
        "id": "841d1ba3-6d3b-4d43-8fbe-ec3450b8e860",
        "outputId": "77997be0-0e72-4f35-dc2a-40ccff0b66ba"
      },
      "outputs": [
        {
          "output_type": "execute_result",
          "data": {
            "text/plain": [
              "dict"
            ]
          },
          "metadata": {},
          "execution_count": 118
        }
      ],
      "source": [
        "type(ESP)"
      ]
    },
    {
      "cell_type": "markdown",
      "id": "29160218-689d-4a54-8f94-e4bb8be62554",
      "metadata": {
        "id": "29160218-689d-4a54-8f94-e4bb8be62554"
      },
      "source": [
        "##### <font color=\"RoyalBlue\">**Claves y valores del diccionario**</font>"
      ]
    },
    {
      "cell_type": "code",
      "execution_count": null,
      "id": "898f4cd2-4579-4b6e-9393-37582383a97f",
      "metadata": {
        "colab": {
          "base_uri": "https://localhost:8080/"
        },
        "id": "898f4cd2-4579-4b6e-9393-37582383a97f",
        "outputId": "2be74168-5ca9-4085-9942-744ef90ba6d1"
      },
      "outputs": [
        {
          "output_type": "execute_result",
          "data": {
            "text/plain": [
              "1000"
            ]
          },
          "metadata": {},
          "execution_count": 119
        }
      ],
      "source": [
        "ESP[\"Activo\"]"
      ]
    },
    {
      "cell_type": "code",
      "execution_count": null,
      "id": "e62e4029-488b-496a-86be-58d606474343",
      "metadata": {
        "colab": {
          "base_uri": "https://localhost:8080/"
        },
        "id": "e62e4029-488b-496a-86be-58d606474343",
        "outputId": "d8882c11-f132-45d1-9169-1d1a36d7a814"
      },
      "outputs": [
        {
          "output_type": "execute_result",
          "data": {
            "text/plain": [
              "400"
            ]
          },
          "metadata": {},
          "execution_count": 120
        }
      ],
      "source": [
        "ESP[\"Pasivo\"]"
      ]
    },
    {
      "cell_type": "code",
      "execution_count": null,
      "id": "f71eabf5-5f5e-4dc2-88a6-482c5f725283",
      "metadata": {
        "colab": {
          "base_uri": "https://localhost:8080/"
        },
        "id": "f71eabf5-5f5e-4dc2-88a6-482c5f725283",
        "outputId": "ef44b976-1ca1-4853-cddb-961d91b2f276"
      },
      "outputs": [
        {
          "output_type": "execute_result",
          "data": {
            "text/plain": [
              "600"
            ]
          },
          "metadata": {},
          "execution_count": 121
        }
      ],
      "source": [
        "ESP[\"Patrimonio Neto\"]"
      ]
    },
    {
      "cell_type": "markdown",
      "id": "66f99eb1-c4f6-428b-b8f5-7a43f42acce8",
      "metadata": {
        "id": "66f99eb1-c4f6-428b-b8f5-7a43f42acce8"
      },
      "source": [
        "**¿Se respeta la ecuación básica patrimonial en donde el Activo tiene que ser igual al Pasivo mas el Patrimonio Neto?**"
      ]
    },
    {
      "cell_type": "code",
      "execution_count": null,
      "id": "0c7902d8-383c-4e87-86fa-1c5b0ccb0fa8",
      "metadata": {
        "colab": {
          "base_uri": "https://localhost:8080/"
        },
        "id": "0c7902d8-383c-4e87-86fa-1c5b0ccb0fa8",
        "outputId": "43f91de3-1669-4f63-a357-759fe7922724"
      },
      "outputs": [
        {
          "output_type": "execute_result",
          "data": {
            "text/plain": [
              "True"
            ]
          },
          "metadata": {},
          "execution_count": 122
        }
      ],
      "source": [
        "ESP[\"Activo\"] == ESP[\"Pasivo\"] + ESP[\"Patrimonio Neto\"]"
      ]
    },
    {
      "cell_type": "markdown",
      "id": "8db581b3-a691-480f-91c1-f62180ab77f0",
      "metadata": {
        "id": "8db581b3-a691-480f-91c1-f62180ab77f0"
      },
      "source": [
        "**Si se quiere consultar todas las claves del diccionario, se utiliza el método ```keys()```**"
      ]
    },
    {
      "cell_type": "code",
      "execution_count": null,
      "id": "115fe080-d7ea-4648-ac0b-094585f03f14",
      "metadata": {
        "colab": {
          "base_uri": "https://localhost:8080/"
        },
        "id": "115fe080-d7ea-4648-ac0b-094585f03f14",
        "outputId": "25b556aa-0f2c-4790-b1c8-efacee92ceb2"
      },
      "outputs": [
        {
          "output_type": "execute_result",
          "data": {
            "text/plain": [
              "dict_keys(['Activo', 'Pasivo', 'Patrimonio Neto'])"
            ]
          },
          "metadata": {},
          "execution_count": 123
        }
      ],
      "source": [
        "ESP.keys()"
      ]
    },
    {
      "cell_type": "markdown",
      "source": [
        "**Si necesita iterar sobre las claves y los valores, puede usar el método ```items()``` para iterar sobre las claves y los valores como 2 tuplas:**\n",
        "\n"
      ],
      "metadata": {
        "id": "ICJLY5kdLT4b"
      },
      "id": "ICJLY5kdLT4b"
    },
    {
      "cell_type": "code",
      "source": [
        "ESP.items()"
      ],
      "metadata": {
        "colab": {
          "base_uri": "https://localhost:8080/"
        },
        "id": "HqSOtoLKLmRK",
        "outputId": "d5ff2abc-5061-4a60-b774-87e520de47cd"
      },
      "id": "HqSOtoLKLmRK",
      "execution_count": null,
      "outputs": [
        {
          "output_type": "execute_result",
          "data": {
            "text/plain": [
              "dict_items([('Activo', 1000), ('Pasivo', 400), ('Patrimonio Neto', 600)])"
            ]
          },
          "metadata": {},
          "execution_count": 147
        }
      ]
    },
    {
      "cell_type": "code",
      "source": [
        "list(ESP.items())"
      ],
      "metadata": {
        "colab": {
          "base_uri": "https://localhost:8080/"
        },
        "id": "1AN6trzPLfvm",
        "outputId": "f95effb1-0830-4acd-dd3a-73c765a5d4bf"
      },
      "id": "1AN6trzPLfvm",
      "execution_count": null,
      "outputs": [
        {
          "output_type": "execute_result",
          "data": {
            "text/plain": [
              "[('Activo', 1000), ('Pasivo', 400), ('Patrimonio Neto', 600)]"
            ]
          },
          "metadata": {},
          "execution_count": 146
        }
      ]
    },
    {
      "cell_type": "markdown",
      "id": "a4a5b01d-62f0-4720-8300-cc341b816924",
      "metadata": {
        "id": "a4a5b01d-62f0-4720-8300-cc341b816924"
      },
      "source": [
        "##### <font color=\"RoyalBlue\">**Agregando y eliminando elementos**</font>"
      ]
    },
    {
      "cell_type": "code",
      "execution_count": null,
      "id": "719be6c9-17bc-4dd2-b1ae-ae2c8287532a",
      "metadata": {
        "colab": {
          "base_uri": "https://localhost:8080/"
        },
        "id": "719be6c9-17bc-4dd2-b1ae-ae2c8287532a",
        "outputId": "7815e4f0-636f-4b35-dbd6-de3c6046426c"
      },
      "outputs": [
        {
          "output_type": "execute_result",
          "data": {
            "text/plain": [
              "{'Actividad': 'Formación',\n",
              " 'Contenido': 'Python for Data Analysis',\n",
              " 'Nivel': 'Incial'}"
            ]
          },
          "metadata": {},
          "execution_count": 124
        }
      ],
      "source": [
        "diccionario1"
      ]
    },
    {
      "cell_type": "markdown",
      "id": "d64ef4e9-11cd-42df-9508-c701efea4a59",
      "metadata": {
        "id": "d64ef4e9-11cd-42df-9508-c701efea4a59"
      },
      "source": [
        "➕ **Agregando un elemento...**"
      ]
    },
    {
      "cell_type": "code",
      "execution_count": null,
      "id": "adbb0c78-fe9f-4f58-8194-e0914bb4a527",
      "metadata": {
        "colab": {
          "base_uri": "https://localhost:8080/"
        },
        "id": "adbb0c78-fe9f-4f58-8194-e0914bb4a527",
        "outputId": "4a79766a-de70-4080-d4e2-9f50934f6483"
      },
      "outputs": [
        {
          "output_type": "execute_result",
          "data": {
            "text/plain": [
              "{'Actividad': 'Formación',\n",
              " 'Contenido': 'Python for Data Analysis',\n",
              " 'Nivel': 'Incial',\n",
              " 'Profesor': 'Cristian Dario Ortega Yubro'}"
            ]
          },
          "metadata": {},
          "execution_count": 125
        }
      ],
      "source": [
        "diccionario1[\"Profesor\"] = \"Cristian Dario Ortega Yubro\"\n",
        "diccionario1"
      ]
    },
    {
      "cell_type": "markdown",
      "id": "be5075a8-6729-48ac-9b2f-25d9b430039b",
      "metadata": {
        "id": "be5075a8-6729-48ac-9b2f-25d9b430039b"
      },
      "source": [
        "➖ **Eliminando un elemento...**"
      ]
    },
    {
      "cell_type": "code",
      "execution_count": null,
      "id": "8d25eb23-8d78-4aaa-917b-9be2a3d1544c",
      "metadata": {
        "colab": {
          "base_uri": "https://localhost:8080/"
        },
        "id": "8d25eb23-8d78-4aaa-917b-9be2a3d1544c",
        "outputId": "9150cb70-8585-4562-f9f6-40ad21c5688a"
      },
      "outputs": [
        {
          "output_type": "stream",
          "name": "stdout",
          "text": [
            "{'Actividad': 'Formación', 'Contenido': 'Python for Data Analysis', 'Nivel': 'Incial'}\n"
          ]
        }
      ],
      "source": [
        "del diccionario1[\"Profesor\"]\n",
        "print(diccionario1)"
      ]
    },
    {
      "cell_type": "markdown",
      "source": [
        "#### 🔹 <font color=\"RoyalBlue\">**Set**</font>"
      ],
      "metadata": {
        "id": "Aq9fPc-gL_7I"
      },
      "id": "Aq9fPc-gL_7I"
    },
    {
      "cell_type": "markdown",
      "source": [
        "**Un conjunto es una colección desordenada de elementos únicos. Un conjunto se puede crear de dos maneras:** \n",
        "- Mediante la función ```set()```, o \n",
        "- Mediante un conjunto literal con llaves"
      ],
      "metadata": {
        "id": "qcQRrCH9MCZV"
      },
      "id": "qcQRrCH9MCZV"
    },
    {
      "cell_type": "code",
      "source": [
        "set([2, 2, 2, 1, 3, 3])"
      ],
      "metadata": {
        "colab": {
          "base_uri": "https://localhost:8080/"
        },
        "id": "N0AvS8BfMZ_a",
        "outputId": "8a4ad0c3-3d60-4078-8c31-db1871b8f612"
      },
      "id": "N0AvS8BfMZ_a",
      "execution_count": null,
      "outputs": [
        {
          "output_type": "execute_result",
          "data": {
            "text/plain": [
              "{1, 2, 3}"
            ]
          },
          "metadata": {},
          "execution_count": 148
        }
      ]
    },
    {
      "cell_type": "code",
      "source": [
        "{2, 2, 2, 1, 3, 3}"
      ],
      "metadata": {
        "colab": {
          "base_uri": "https://localhost:8080/"
        },
        "id": "tz2ANZUnMWNf",
        "outputId": "52f9045c-e9fa-46e1-b907-93982c8823dd"
      },
      "id": "tz2ANZUnMWNf",
      "execution_count": null,
      "outputs": [
        {
          "output_type": "execute_result",
          "data": {
            "text/plain": [
              "{1, 2, 3}"
            ]
          },
          "metadata": {},
          "execution_count": 149
        }
      ]
    },
    {
      "cell_type": "code",
      "source": [
        "conjunto = set([2, 2, 2, 1, 3, 3])"
      ],
      "metadata": {
        "id": "r4V6XCkYM7xG"
      },
      "id": "r4V6XCkYM7xG",
      "execution_count": null,
      "outputs": []
    },
    {
      "cell_type": "markdown",
      "source": [
        "**Los conjuntos admiten operaciones de conjuntos  como:** \n",
        "- unión, \n",
        "- intersección, \n",
        "- diferencia y \n",
        "- diferencia simétrica. \n",
        "\n",
        "**Ejemplo:**\n",
        "\n"
      ],
      "metadata": {
        "id": "TCYdl2jjMp_m"
      },
      "id": "TCYdl2jjMp_m"
    },
    {
      "cell_type": "code",
      "source": [
        "a = {1, 2, 3, 4, 5}\n",
        "b = {3, 4, 5, 6, 7, 8}"
      ],
      "metadata": {
        "id": "az8abUEWMpjT"
      },
      "id": "az8abUEWMpjT",
      "execution_count": null,
      "outputs": []
    },
    {
      "cell_type": "markdown",
      "source": [
        "**La unión de estos dos conjuntos es el conjunto de elementos distintos que se encuentran en cualquiera de los conjuntos.**\n",
        "\n",
        "> **Esto se puede calcular con el método ```union()``` o con el operador ```|```**\n",
        "\n"
      ],
      "metadata": {
        "id": "Ksf3C73LNhm5"
      },
      "id": "Ksf3C73LNhm5"
    },
    {
      "cell_type": "markdown",
      "source": [
        "##### <font color=\"RoyalBlue\">**Función ```union()```**</font>"
      ],
      "metadata": {
        "id": "9RHzVm-vQ3jW"
      },
      "id": "9RHzVm-vQ3jW"
    },
    {
      "cell_type": "code",
      "source": [
        "a.union(b)"
      ],
      "metadata": {
        "colab": {
          "base_uri": "https://localhost:8080/"
        },
        "id": "5YMjbRd6OB08",
        "outputId": "0f0d21e4-e72a-47ff-bb46-77e03747a11a"
      },
      "id": "5YMjbRd6OB08",
      "execution_count": null,
      "outputs": [
        {
          "output_type": "execute_result",
          "data": {
            "text/plain": [
              "{1, 2, 3, 4, 5, 6, 7, 8}"
            ]
          },
          "metadata": {},
          "execution_count": 154
        }
      ]
    },
    {
      "cell_type": "code",
      "source": [
        "a | b"
      ],
      "metadata": {
        "colab": {
          "base_uri": "https://localhost:8080/"
        },
        "id": "jkxRMIjeOLQg",
        "outputId": "26bb4eda-7613-4b06-a952-3c47fc03801a"
      },
      "id": "jkxRMIjeOLQg",
      "execution_count": null,
      "outputs": [
        {
          "output_type": "execute_result",
          "data": {
            "text/plain": [
              "{1, 2, 3, 4, 5, 6, 7, 8}"
            ]
          },
          "metadata": {},
          "execution_count": 155
        }
      ]
    },
    {
      "cell_type": "markdown",
      "source": [
        "##### <font color=\"RoyalBlue\">**Función ```intersection()```**</font>"
      ],
      "metadata": {
        "id": "mEb-iHpeQ7jf"
      },
      "id": "mEb-iHpeQ7jf"
    },
    {
      "cell_type": "markdown",
      "source": [
        "**La intersección contiene los elementos que ocurren en ambos conjuntos.**\n",
        "\n",
        "> **Se puede utilizar el operador ```&``` o el método ```intersection()```**\n",
        "\n"
      ],
      "metadata": {
        "id": "YMRfFPOzOQgc"
      },
      "id": "YMRfFPOzOQgc"
    },
    {
      "cell_type": "code",
      "source": [
        "a.intersection(b)"
      ],
      "metadata": {
        "colab": {
          "base_uri": "https://localhost:8080/"
        },
        "id": "GMtF5EFEPIiQ",
        "outputId": "6876270c-facd-4baf-d754-004f8d5f8723"
      },
      "id": "GMtF5EFEPIiQ",
      "execution_count": null,
      "outputs": [
        {
          "output_type": "execute_result",
          "data": {
            "text/plain": [
              "{3, 4, 5}"
            ]
          },
          "metadata": {},
          "execution_count": 156
        }
      ]
    },
    {
      "cell_type": "code",
      "source": [
        "a & b"
      ],
      "metadata": {
        "colab": {
          "base_uri": "https://localhost:8080/"
        },
        "id": "jnsXihYmPLOo",
        "outputId": "15a8f4fd-18b7-4f1f-dddb-a5c7a423ef2f"
      },
      "id": "jnsXihYmPLOo",
      "execution_count": null,
      "outputs": [
        {
          "output_type": "execute_result",
          "data": {
            "text/plain": [
              "{3, 4, 5}"
            ]
          },
          "metadata": {},
          "execution_count": 157
        }
      ]
    },
    {
      "cell_type": "markdown",
      "source": [
        "**Ahora vemos diferencia y diferencia simétrica.**\n",
        "\n",
        "\n"
      ],
      "metadata": {
        "id": "62TH-06nPb7k"
      },
      "id": "62TH-06nPb7k"
    },
    {
      "cell_type": "code",
      "source": [
        "a"
      ],
      "metadata": {
        "colab": {
          "base_uri": "https://localhost:8080/"
        },
        "id": "XMHtf9AeQaTw",
        "outputId": "fa237ab6-305a-49cd-adbe-dccc421a60f3"
      },
      "id": "XMHtf9AeQaTw",
      "execution_count": null,
      "outputs": [
        {
          "output_type": "execute_result",
          "data": {
            "text/plain": [
              "{1, 2, 3, 4, 5}"
            ]
          },
          "metadata": {},
          "execution_count": 160
        }
      ]
    },
    {
      "cell_type": "code",
      "source": [
        "b"
      ],
      "metadata": {
        "colab": {
          "base_uri": "https://localhost:8080/"
        },
        "id": "9jsQnADFQbwh",
        "outputId": "6b09939e-3d32-4bcd-d908-f3af7e449fed"
      },
      "id": "9jsQnADFQbwh",
      "execution_count": null,
      "outputs": [
        {
          "output_type": "execute_result",
          "data": {
            "text/plain": [
              "{3, 4, 5, 6, 7, 8}"
            ]
          },
          "metadata": {},
          "execution_count": 161
        }
      ]
    },
    {
      "cell_type": "markdown",
      "source": [
        "##### <font color=\"RoyalBlue\">**Función ```difference()```**</font>"
      ],
      "metadata": {
        "id": "Nn2NZ16rRABM"
      },
      "id": "Nn2NZ16rRABM"
    },
    {
      "cell_type": "code",
      "source": [
        "a.difference(b)"
      ],
      "metadata": {
        "colab": {
          "base_uri": "https://localhost:8080/"
        },
        "id": "xGNPIQ-XPkQM",
        "outputId": "a9a32b1b-6b13-4853-8620-d43643995ac3"
      },
      "id": "xGNPIQ-XPkQM",
      "execution_count": null,
      "outputs": [
        {
          "output_type": "execute_result",
          "data": {
            "text/plain": [
              "{1, 2}"
            ]
          },
          "metadata": {},
          "execution_count": 158
        }
      ]
    },
    {
      "cell_type": "markdown",
      "source": [
        "> Son los elementos de ```a``` que no están en ```b```"
      ],
      "metadata": {
        "id": "kMawCWcwPq6k"
      },
      "id": "kMawCWcwPq6k"
    },
    {
      "cell_type": "code",
      "source": [
        "b.difference(a)"
      ],
      "metadata": {
        "colab": {
          "base_uri": "https://localhost:8080/"
        },
        "id": "UPa3ECUvQp5V",
        "outputId": "9e0f25af-fcce-4fec-8087-683c526e1d0c"
      },
      "id": "UPa3ECUvQp5V",
      "execution_count": null,
      "outputs": [
        {
          "output_type": "execute_result",
          "data": {
            "text/plain": [
              "{6, 7, 8}"
            ]
          },
          "metadata": {},
          "execution_count": 164
        }
      ]
    },
    {
      "cell_type": "markdown",
      "source": [
        "> Son los elementos de ```b``` que no están en ```a```"
      ],
      "metadata": {
        "id": "thX71WRkQvk9"
      },
      "id": "thX71WRkQvk9"
    },
    {
      "cell_type": "code",
      "source": [
        "a"
      ],
      "metadata": {
        "colab": {
          "base_uri": "https://localhost:8080/"
        },
        "id": "1XJT9WDEQjR1",
        "outputId": "bd1d9163-8c4d-4dc4-a169-64dbe74c1e73"
      },
      "id": "1XJT9WDEQjR1",
      "execution_count": null,
      "outputs": [
        {
          "output_type": "execute_result",
          "data": {
            "text/plain": [
              "{1, 2, 3, 4, 5}"
            ]
          },
          "metadata": {},
          "execution_count": 162
        }
      ]
    },
    {
      "cell_type": "code",
      "source": [
        "b"
      ],
      "metadata": {
        "colab": {
          "base_uri": "https://localhost:8080/"
        },
        "id": "YjNMOwrfQk2R",
        "outputId": "6f4bf332-7d1a-4c6d-c5b3-fc479b75695f"
      },
      "id": "YjNMOwrfQk2R",
      "execution_count": null,
      "outputs": [
        {
          "output_type": "execute_result",
          "data": {
            "text/plain": [
              "{3, 4, 5, 6, 7, 8}"
            ]
          },
          "metadata": {},
          "execution_count": 163
        }
      ]
    },
    {
      "cell_type": "markdown",
      "source": [
        "##### <font color=\"RoyalBlue\">**Función ```symmetric_difference()```**</font>"
      ],
      "metadata": {
        "id": "x0OYBpGDRD9r"
      },
      "id": "x0OYBpGDRD9r"
    },
    {
      "cell_type": "code",
      "source": [
        "a.symmetric_difference(b)"
      ],
      "metadata": {
        "colab": {
          "base_uri": "https://localhost:8080/"
        },
        "id": "fzfWIhzyP1cc",
        "outputId": "c64bcde9-ac81-41f9-ab9c-6bd80710ca34"
      },
      "id": "fzfWIhzyP1cc",
      "execution_count": null,
      "outputs": [
        {
          "output_type": "execute_result",
          "data": {
            "text/plain": [
              "{1, 2, 6, 7, 8}"
            ]
          },
          "metadata": {},
          "execution_count": 159
        }
      ]
    },
    {
      "cell_type": "markdown",
      "source": [
        "> Son todos los elementos de ```a```  o ```b```que no están en ambos..."
      ],
      "metadata": {
        "id": "ImnuioM_QPRp"
      },
      "id": "ImnuioM_QPRp"
    },
    {
      "cell_type": "markdown",
      "source": [
        "##### <font color=\"RoyalBlue\">**Cantidad de elementos**</font>"
      ],
      "metadata": {
        "id": "-69zeH1eNONb"
      },
      "id": "-69zeH1eNONb"
    },
    {
      "cell_type": "code",
      "source": [
        "len(conjunto)"
      ],
      "metadata": {
        "colab": {
          "base_uri": "https://localhost:8080/"
        },
        "id": "yU5sWbLvNPO3",
        "outputId": "f7782480-a1e6-442e-ae93-818f92376d69"
      },
      "id": "yU5sWbLvNPO3",
      "execution_count": null,
      "outputs": [
        {
          "output_type": "execute_result",
          "data": {
            "text/plain": [
              "3"
            ]
          },
          "metadata": {},
          "execution_count": 152
        }
      ]
    },
    {
      "cell_type": "markdown",
      "source": [
        "##### <font color=\"RoyalBlue\">**Función ```type()```**</font>"
      ],
      "metadata": {
        "id": "Y0H80POQNEPb"
      },
      "id": "Y0H80POQNEPb"
    },
    {
      "cell_type": "code",
      "source": [
        "type(conjunto)"
      ],
      "metadata": {
        "colab": {
          "base_uri": "https://localhost:8080/"
        },
        "id": "qvyb0YiXNFgH",
        "outputId": "5cc746ea-e40c-44e4-ab1f-2135d557b925"
      },
      "id": "qvyb0YiXNFgH",
      "execution_count": null,
      "outputs": [
        {
          "output_type": "execute_result",
          "data": {
            "text/plain": [
              "set"
            ]
          },
          "metadata": {},
          "execution_count": 151
        }
      ]
    },
    {
      "cell_type": "markdown",
      "id": "87a2fb36-8011-44e0-a07a-19d19d7e7d15",
      "metadata": {
        "id": "87a2fb36-8011-44e0-a07a-19d19d7e7d15"
      },
      "source": [
        "#### 🔹 <font color=\"RoyalBlue\">**Rangos**</font>"
      ]
    },
    {
      "cell_type": "markdown",
      "id": "350eb33c-9d4e-491b-8fdd-c8473dbdbdb0",
      "metadata": {
        "id": "350eb33c-9d4e-491b-8fdd-c8473dbdbdb0"
      },
      "source": [
        "**La función ```range()``` es una lista *inmutable* de números enteros en sucesión aritmética.**\n",
        "\n",
        "- ***Inmutable significa que no se pueden modificar.***\n",
        "- ***Una sucesión artimética es una sucesión en la que la diferencia entre dos términos consecutivos es siempre la misma.***\n",
        "\n",
        "**```range()``` utiliza uno, dos o tres argumentos numéricos.**\n",
        "\n",
        "*Nota: En Python 2, ```range()```  se consideraba una función, pero en Python 3 no se considera una función, sino un tipo de datos, aunque se utiliza como si fuera una función.*"
      ]
    },
    {
      "cell_type": "markdown",
      "id": "a5bf1358-5d8b-47b1-8dfe-6080f26f7ed0",
      "metadata": {
        "id": "a5bf1358-5d8b-47b1-8dfe-6080f26f7ed0"
      },
      "source": [
        "##### <font color=\"RoyalBlue\">**Creando rangos**</font>"
      ]
    },
    {
      "cell_type": "markdown",
      "id": "05a9decf-07e4-442a-8673-171f0f3da8c2",
      "metadata": {
        "id": "05a9decf-07e4-442a-8673-171f0f3da8c2"
      },
      "source": [
        "**Se crea un rango con 20 elementos...**"
      ]
    },
    {
      "cell_type": "code",
      "execution_count": null,
      "id": "e3c16c2e-faf3-44db-9c6f-1e23a317ed99",
      "metadata": {
        "colab": {
          "base_uri": "https://localhost:8080/"
        },
        "id": "e3c16c2e-faf3-44db-9c6f-1e23a317ed99",
        "outputId": "0466f440-bbe4-42d9-896b-4dbed9696000"
      },
      "outputs": [
        {
          "output_type": "execute_result",
          "data": {
            "text/plain": [
              "range(0, 20)"
            ]
          },
          "metadata": {},
          "execution_count": 127
        }
      ],
      "source": [
        "x = range(20)\n",
        "x"
      ]
    },
    {
      "cell_type": "markdown",
      "id": "5bf2cb36-270b-4f35-b7f2-c5ff1496dc09",
      "metadata": {
        "id": "5bf2cb36-270b-4f35-b7f2-c5ff1496dc09"
      },
      "source": [
        "**Para visualizar los elementos, usamos la función list()**"
      ]
    },
    {
      "cell_type": "code",
      "execution_count": null,
      "id": "06a0f3b9-dc5a-4128-a367-28413976b5e4",
      "metadata": {
        "colab": {
          "base_uri": "https://localhost:8080/"
        },
        "id": "06a0f3b9-dc5a-4128-a367-28413976b5e4",
        "outputId": "d2a9371e-e254-43bb-f43e-f87e3daf4261"
      },
      "outputs": [
        {
          "output_type": "execute_result",
          "data": {
            "text/plain": [
              "[0, 1, 2, 3, 4, 5, 6, 7, 8, 9, 10, 11, 12, 13, 14, 15, 16, 17, 18, 19]"
            ]
          },
          "metadata": {},
          "execution_count": 128
        }
      ],
      "source": [
        "list(x)"
      ]
    },
    {
      "cell_type": "markdown",
      "id": "1a1c0334-e450-41ba-8dad-e51a29752906",
      "metadata": {
        "id": "1a1c0334-e450-41ba-8dad-e51a29752906"
      },
      "source": [
        "##### <font color=\"RoyalBlue\">**Argumentos**</font>"
      ]
    },
    {
      "cell_type": "markdown",
      "id": "1ceb1423-5d99-4c17-8fba-4637fc469373",
      "metadata": {
        "id": "1ceb1423-5d99-4c17-8fba-4637fc469373"
      },
      "source": [
        "**El tipo de dato range con dos argumentos se escribe range($m$, $n$) y crea una lista inmutable de enteros consecutivos que empieza en $m$ y acaba en $n - 1$**\n"
      ]
    },
    {
      "cell_type": "code",
      "execution_count": null,
      "id": "e4fca567-d7a0-4cb0-bdc9-2f9b8ca989fc",
      "metadata": {
        "colab": {
          "base_uri": "https://localhost:8080/"
        },
        "id": "e4fca567-d7a0-4cb0-bdc9-2f9b8ca989fc",
        "outputId": "9a63ffbb-8ae7-4082-8d32-d635eaa7358f"
      },
      "outputs": [
        {
          "output_type": "execute_result",
          "data": {
            "text/plain": [
              "range(5, 11)"
            ]
          },
          "metadata": {},
          "execution_count": 129
        }
      ],
      "source": [
        "y = range(5, 11)\n",
        "y"
      ]
    },
    {
      "cell_type": "code",
      "execution_count": null,
      "id": "1be1a96b-0264-4dfa-834f-0ca53dd0749b",
      "metadata": {
        "colab": {
          "base_uri": "https://localhost:8080/"
        },
        "id": "1be1a96b-0264-4dfa-834f-0ca53dd0749b",
        "outputId": "0180bd86-fa78-4753-8f49-d413b067524c"
      },
      "outputs": [
        {
          "output_type": "execute_result",
          "data": {
            "text/plain": [
              "[5, 6, 7, 8, 9, 10]"
            ]
          },
          "metadata": {},
          "execution_count": 130
        }
      ],
      "source": [
        "list(y)"
      ]
    },
    {
      "cell_type": "markdown",
      "id": "5e138571-6d3b-49bf-93b0-5375388a7eab",
      "metadata": {
        "id": "5e138571-6d3b-49bf-93b0-5375388a7eab"
      },
      "source": [
        "**Otra forma:**"
      ]
    },
    {
      "cell_type": "code",
      "execution_count": null,
      "id": "a1208ba0-4eee-423c-9d99-db932a616e55",
      "metadata": {
        "colab": {
          "base_uri": "https://localhost:8080/"
        },
        "id": "a1208ba0-4eee-423c-9d99-db932a616e55",
        "outputId": "61b04286-f631-4dcb-c762-da95c64cead3"
      },
      "outputs": [
        {
          "output_type": "execute_result",
          "data": {
            "text/plain": [
              "[10, 11, 12, 13, 14, 15, 16, 17, 18, 19, 20]"
            ]
          },
          "metadata": {},
          "execution_count": 131
        }
      ],
      "source": [
        "list(range(10,21))"
      ]
    },
    {
      "cell_type": "code",
      "execution_count": null,
      "id": "b62d9eb8-c2b8-4e47-8782-13929dcaf997",
      "metadata": {
        "colab": {
          "base_uri": "https://localhost:8080/"
        },
        "id": "b62d9eb8-c2b8-4e47-8782-13929dcaf997",
        "outputId": "ff76336d-ebdd-415d-bd31-4713ff615f9c"
      },
      "outputs": [
        {
          "output_type": "execute_result",
          "data": {
            "text/plain": [
              "[-5, -4, -3, -2, -1, 0]"
            ]
          },
          "metadata": {},
          "execution_count": 132
        }
      ],
      "source": [
        "list(range(-5,1))"
      ]
    },
    {
      "cell_type": "markdown",
      "id": "7f224087-edb5-41d9-a254-9b947b833b3b",
      "metadata": {
        "id": "7f224087-edb5-41d9-a254-9b947b833b3b"
      },
      "source": [
        "**El tipo de dato range() con tres argumentos se escribe range($m$, $n$, $p$) y crea una lista inmutable de enteros que empieza en $m$ y acaba justo antes de superar o igualar a $n$, aumentando los valores de $p$ en $p$.**\n",
        "\n",
        "**Si $p$ es negativo, los valores van disminuyendo de $p$ en $p$.**"
      ]
    },
    {
      "cell_type": "code",
      "execution_count": null,
      "id": "edc8fb4f-3dc5-44a0-9158-8a2f50a74810",
      "metadata": {
        "colab": {
          "base_uri": "https://localhost:8080/"
        },
        "id": "edc8fb4f-3dc5-44a0-9158-8a2f50a74810",
        "outputId": "162d820f-b3ca-4b96-a959-2f11e821bbb2"
      },
      "outputs": [
        {
          "output_type": "execute_result",
          "data": {
            "text/plain": [
              "[10, 12, 14, 16, 18]"
            ]
          },
          "metadata": {},
          "execution_count": 133
        }
      ],
      "source": [
        "list(range(10,20,2))"
      ]
    },
    {
      "cell_type": "code",
      "execution_count": null,
      "id": "9f1a94d9-13ca-45f0-9ed7-2f402de5f545",
      "metadata": {
        "colab": {
          "base_uri": "https://localhost:8080/"
        },
        "id": "9f1a94d9-13ca-45f0-9ed7-2f402de5f545",
        "outputId": "86120d55-c468-46a6-c81e-d9b0afe7f928"
      },
      "outputs": [
        {
          "output_type": "execute_result",
          "data": {
            "text/plain": [
              "[20, 18, 16, 14, 12]"
            ]
          },
          "metadata": {},
          "execution_count": 134
        }
      ],
      "source": [
        "list(range(20,10,-2))"
      ]
    },
    {
      "cell_type": "markdown",
      "id": "9e37e8b4-63d5-4b6e-8c11-1fd822a71f4c",
      "metadata": {
        "id": "9e37e8b4-63d5-4b6e-8c11-1fd822a71f4c"
      },
      "source": [
        "**En resumen, los tres argumentos del tipo range($m$, $n$, $p$) son:**\n",
        "\n",
        "- ***$m$: el valor inicial***\n",
        "- ***$n$: el valor final (que no se alcanza nunca)***\n",
        "- ***$p$: el paso (la cantidad que se avanza cada vez).***\n",
        "\n",
        "**Si se escriben sólo dos argumentos, Python le asigna a $p$ el valor 1. Es decir range($m$, $n$) es lo mismo que range($m$, $n$, 1)**\n",
        "\n",
        "**Si se escribe sólo un argumento, Python, le asigna a $m$ el valor 0 y a $p$ el valor 1. Es decir range($n$) es lo mismo que range(0, $n$, 1)**"
      ]
    },
    {
      "cell_type": "markdown",
      "id": "433dee88-f209-4427-99f1-61d6257913a0",
      "metadata": {
        "id": "433dee88-f209-4427-99f1-61d6257913a0"
      },
      "source": [
        "### 👀 <font color=\"RoyalBlue\">**A recordar...**</font>"
      ]
    },
    {
      "cell_type": "markdown",
      "id": "55193636-4388-4478-b4a5-456b2c85136d",
      "metadata": {
        "id": "55193636-4388-4478-b4a5-456b2c85136d"
      },
      "source": [
        "- **Con variables de tipo entero, decimal o de cadena, es fácil tener una copia de una variable para conservar un valor que en la variable original...**"
      ]
    },
    {
      "cell_type": "code",
      "execution_count": null,
      "id": "77c6e638-5a52-4f4f-adfd-e710c01ea83e",
      "metadata": {
        "colab": {
          "base_uri": "https://localhost:8080/"
        },
        "id": "77c6e638-5a52-4f4f-adfd-e710c01ea83e",
        "outputId": "a798bc95-c84a-4a14-983f-5e85f1e935c5"
      },
      "outputs": [
        {
          "output_type": "execute_result",
          "data": {
            "text/plain": [
              "(10, 10)"
            ]
          },
          "metadata": {},
          "execution_count": 135
        }
      ],
      "source": [
        "a = 10\n",
        "b = a\n",
        "a, b"
      ]
    },
    {
      "cell_type": "code",
      "execution_count": null,
      "id": "5c0337c8-1669-4c2b-ada0-8f7c3d810fcf",
      "metadata": {
        "colab": {
          "base_uri": "https://localhost:8080/"
        },
        "id": "5c0337c8-1669-4c2b-ada0-8f7c3d810fcf",
        "outputId": "7d344a9e-a935-42ad-b386-2d1b82e05931"
      },
      "outputs": [
        {
          "output_type": "execute_result",
          "data": {
            "text/plain": [
              "(5, 10)"
            ]
          },
          "metadata": {},
          "execution_count": 136
        }
      ],
      "source": [
        "a = 5\n",
        "a, b"
      ]
    },
    {
      "cell_type": "markdown",
      "id": "95d27495-9199-437d-b920-1836256c6a4c",
      "metadata": {
        "id": "95d27495-9199-437d-b920-1836256c6a4c"
      },
      "source": [
        "- **Si hacemos esto mismo por ejemplo con listas, nos podemos llevar una linda sorpresa...**"
      ]
    },
    {
      "cell_type": "code",
      "execution_count": null,
      "id": "3587e466-4cce-4dc4-b9ab-2ef823ce0837",
      "metadata": {
        "colab": {
          "base_uri": "https://localhost:8080/"
        },
        "id": "3587e466-4cce-4dc4-b9ab-2ef823ce0837",
        "outputId": "ace70c87-8b9a-4542-d28a-c57b44383a12"
      },
      "outputs": [
        {
          "output_type": "execute_result",
          "data": {
            "text/plain": [
              "([2, 4, 6, 8, 10], [2, 4, 6, 8, 10])"
            ]
          },
          "metadata": {},
          "execution_count": 137
        }
      ],
      "source": [
        "pares01 = [2,4,6,8,10]\n",
        "pares02 = pares01\n",
        "pares01, pares02"
      ]
    },
    {
      "cell_type": "code",
      "execution_count": null,
      "id": "740e1923-4421-48c3-a181-aeeb059a7219",
      "metadata": {
        "id": "740e1923-4421-48c3-a181-aeeb059a7219"
      },
      "outputs": [],
      "source": [
        "del pares02[0]"
      ]
    },
    {
      "cell_type": "code",
      "execution_count": null,
      "id": "a4e4a211-f643-412a-8945-e3eaa39d3b03",
      "metadata": {
        "colab": {
          "base_uri": "https://localhost:8080/"
        },
        "id": "a4e4a211-f643-412a-8945-e3eaa39d3b03",
        "outputId": "788870b3-5625-4ce1-9aad-bf8121df44e3"
      },
      "outputs": [
        {
          "output_type": "execute_result",
          "data": {
            "text/plain": [
              "([4, 6, 8, 10], [4, 6, 8, 10])"
            ]
          },
          "metadata": {},
          "execution_count": 139
        }
      ],
      "source": [
        "pares01, pares02"
      ]
    },
    {
      "cell_type": "markdown",
      "id": "db7a81dd-0eb5-4391-b855-4ab7a3ed5d06",
      "metadata": {
        "id": "db7a81dd-0eb5-4391-b855-4ab7a3ed5d06"
      },
      "source": [
        "---\n",
        "<p>\n",
        "<font color=\"RoyalBlue\">\n",
        "\n",
        "💙 **Hemos llegado al fin de este cuaderno, felicitaciones hemos aprendido un poco más, ahora a seguir en el proximo cuaderno...** \n",
        "</font>\n",
        "</p>\n",
        "\n",
        "---"
      ]
    },
    {
      "cell_type": "markdown",
      "id": "cc2cb851-466f-40ca-bc0d-3341d7d0553c",
      "metadata": {
        "id": "cc2cb851-466f-40ca-bc0d-3341d7d0553c"
      },
      "source": [
        "# 😀"
      ]
    },
    {
      "cell_type": "markdown",
      "source": [
        "![](https://everisgroup.sharepoint.com/sites/BrandCenter/Shared%20Documents/Logo/FUTURE%20AT%20HEART/BLACK/FUTURE-HEARTH.png)"
      ],
      "metadata": {
        "id": "taLKeI64FH2o"
      },
      "id": "taLKeI64FH2o"
    }
  ],
  "metadata": {
    "kernelspec": {
      "display_name": "Python 3 (ipykernel)",
      "language": "python",
      "name": "python3"
    },
    "language_info": {
      "codemirror_mode": {
        "name": "ipython",
        "version": 3
      },
      "file_extension": ".py",
      "mimetype": "text/x-python",
      "name": "python",
      "nbconvert_exporter": "python",
      "pygments_lexer": "ipython3",
      "version": "3.10.2"
    },
    "toc-autonumbering": false,
    "toc-showmarkdowntxt": false,
    "colab": {
      "provenance": [],
      "collapsed_sections": [
        "87a2fb36-8011-44e0-a07a-19d19d7e7d15"
      ],
      "toc_visible": true,
      "include_colab_link": true
    }
  },
  "nbformat": 4,
  "nbformat_minor": 5
}