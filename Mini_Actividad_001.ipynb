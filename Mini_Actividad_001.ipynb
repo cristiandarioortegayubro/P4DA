{
  "cells": [
    {
      "cell_type": "markdown",
      "metadata": {
        "id": "view-in-github",
        "colab_type": "text"
      },
      "source": [
        "<a href=\"https://colab.research.google.com/github/cristiandarioortegayubro/P4DA/blob/main/Mini_Actividad_001.ipynb\" target=\"_parent\"><img src=\"https://colab.research.google.com/assets/colab-badge.svg\" alt=\"Open In Colab\"/></a>"
      ]
    },
    {
      "cell_type": "markdown",
      "source": [
        "<p align=\"center\">\n",
        "<img src=\"https://github.com/cristiandarioortegayubro/P4DA/blob/main/Logo.png?raw=true\">\n",
        "</p>\n"
      ],
      "metadata": {
        "id": "SIr4I2pawJQD"
      },
      "id": "SIr4I2pawJQD"
    },
    {
      "cell_type": "markdown",
      "id": "6e754985-cdd9-4a64-9d7f-fcfbfa78abef",
      "metadata": {
        "id": "6e754985-cdd9-4a64-9d7f-fcfbfa78abef"
      },
      "source": [
        "# <font color=\"RoyalBlue\">**Mini Actividad 001**</font>"
      ]
    },
    {
      "cell_type": "markdown",
      "id": "49f579e7",
      "metadata": {
        "id": "49f579e7"
      },
      "source": [
        "<p align=\"center\">\n",
        "<img src=\"https://www.python.org/static/community_logos/python-powered-h-70x91.png\">\n",
        "</p>\n"
      ]
    },
    {
      "cell_type": "markdown",
      "source": [
        "## 🔹 **<font color=\"RoyalBlue\">Obtención de datos HTML</font>**"
      ],
      "metadata": {
        "id": "joUOoCl6UX0C"
      },
      "id": "joUOoCl6UX0C"
    },
    {
      "cell_type": "markdown",
      "source": [
        "https://atm.mendoza.gov.ar/"
      ],
      "metadata": {
        "id": "9VEqthj5VrmF"
      },
      "id": "9VEqthj5VrmF"
    },
    {
      "cell_type": "markdown",
      "source": [
        "![](https://atm.mendoza.gov.ar/wp-content/uploads/2023/01/Frente-Atm.png)"
      ],
      "metadata": {
        "id": "3C6LSsgEUBqH"
      },
      "id": "3C6LSsgEUBqH"
    },
    {
      "cell_type": "markdown",
      "source": [
        "<p align=\"justify\">\n",
        "En la página de la Administración Tributaria Mendoza se encuentran tablas con los niveles de recaudación. Nuestra misión, si desean aceptarla, es obtener esas tablas de la página web de la Administración Tributaria Mendoza, y crear un DataFrame...\n",
        "</p>"
      ],
      "metadata": {
        "id": "4a18vSjJWTOg"
      },
      "id": "4a18vSjJWTOg"
    },
    {
      "cell_type": "markdown",
      "source": [
        "https://atm.mendoza.gov.ar/portalatm/zoneBottom/datosInteres/recaudacion/recaudacion_por_impuesto_anual.jsp"
      ],
      "metadata": {
        "id": "g6kHWkdyzU8w"
      },
      "id": "g6kHWkdyzU8w"
    },
    {
      "cell_type": "markdown",
      "source": [
        "---\n",
        "<p align=\"justify\"><b>\n",
        "<font color=\"DeepPink\">\n",
        "⛳ Vamos por el desafío, que es automatizar los scrips para que de la lista inicial, se puedan crear todos los dataframes resultantes en virtud de los ejercicios fiscales que tiene la lista, es decir, desde el año $2000$ hasta el año actual.\n",
        "</font>\n",
        "</p>\n",
        "\n",
        "---"
      ],
      "metadata": {
        "id": "ooKJpWAOCpVa"
      },
      "id": "ooKJpWAOCpVa"
    },
    {
      "cell_type": "markdown",
      "id": "0704d660-cd44-4b7e-918d-65a4633e915e",
      "metadata": {
        "id": "0704d660-cd44-4b7e-918d-65a4633e915e"
      },
      "source": [
        "## 🔹 <font color=\"RoyalBlue\">**Habilitando bibliotecas requeridas**</font>"
      ]
    },
    {
      "cell_type": "markdown",
      "source": [
        "### **<font color=\"RoyalBlue\">Para análisis de datos</font>**"
      ],
      "metadata": {
        "id": "lgVJWp5BGkt6"
      },
      "id": "lgVJWp5BGkt6"
    },
    {
      "cell_type": "code",
      "source": [
        "import numpy as np\n",
        "import pandas as pd"
      ],
      "metadata": {
        "id": "OB3plSng-CbD"
      },
      "id": "OB3plSng-CbD",
      "execution_count": 1,
      "outputs": []
    },
    {
      "cell_type": "code",
      "source": [
        "pd.options.display.precision = 2\n",
        "pd.options.display.float_format = \"{:.2f}\".format"
      ],
      "metadata": {
        "id": "U8JXUBT3B4R1"
      },
      "id": "U8JXUBT3B4R1",
      "execution_count": 2,
      "outputs": []
    },
    {
      "cell_type": "markdown",
      "source": [
        "### **<font color=\"RoyalBlue\">Biblioteca gráfica</font>**"
      ],
      "metadata": {
        "id": "21C-oIB_GnNY"
      },
      "id": "21C-oIB_GnNY"
    },
    {
      "cell_type": "code",
      "source": [
        "import plotly.express as px"
      ],
      "metadata": {
        "id": "DdRRlgiNGtaw"
      },
      "id": "DdRRlgiNGtaw",
      "execution_count": 3,
      "outputs": []
    },
    {
      "cell_type": "markdown",
      "source": [
        "## 🔹 <font color=\"RoyalBlue\">**Creación del DataFrame**</font>"
      ],
      "metadata": {
        "id": "qPTuQcuA-P4U"
      },
      "id": "qPTuQcuA-P4U"
    },
    {
      "cell_type": "markdown",
      "source": [
        "### <font color=\"RoyalBlue\">**Lectura de los datos**</font>"
      ],
      "metadata": {
        "id": "yc04gyGFY0Cr"
      },
      "id": "yc04gyGFY0Cr"
    },
    {
      "cell_type": "code",
      "source": [
        "data = \"https://www.atm.mendoza.gov.ar/portalatm/zoneBottom/datosInteres/recaudacion/recaudacion_por_impuesto_anual.jsp\""
      ],
      "metadata": {
        "id": "tscpTJ2sY3Qj"
      },
      "id": "tscpTJ2sY3Qj",
      "execution_count": 4,
      "outputs": []
    },
    {
      "cell_type": "code",
      "source": [
        "lista = pd.read_html(data, flavor=\"html5lib\", index_col=0, header=1, encoding='cp1252')"
      ],
      "metadata": {
        "id": "lzuQCa4c0EY0"
      },
      "id": "lzuQCa4c0EY0",
      "execution_count": null,
      "outputs": []
    },
    {
      "cell_type": "markdown",
      "source": [
        "### <font color=\"RoyalBlue\">**Cantidad de elementos del objeto**</font>"
      ],
      "metadata": {
        "id": "d8q7krCu2hgR"
      },
      "id": "d8q7krCu2hgR"
    },
    {
      "cell_type": "code",
      "source": [
        "# mi codigo aqui"
      ],
      "metadata": {
        "id": "IhHqR08J2YQM"
      },
      "id": "IhHqR08J2YQM",
      "execution_count": null,
      "outputs": []
    },
    {
      "cell_type": "markdown",
      "source": [
        "### <font color=\"RoyalBlue\">**Dando formato al dataframe**</font>"
      ],
      "metadata": {
        "id": "UVanB5W18sKi"
      },
      "id": "UVanB5W18sKi"
    },
    {
      "cell_type": "code",
      "source": [
        "# mi codigo aqui"
      ],
      "metadata": {
        "id": "35q8vmxX31s4"
      },
      "id": "35q8vmxX31s4",
      "execution_count": null,
      "outputs": []
    },
    {
      "cell_type": "markdown",
      "source": [
        "<p align=\"justify\">\n",
        "El elemento tiene aspecto de dataframe, por lo cual podemos inferir que la lista, es una lista de dataframes, y cada uno de sus elementos es un dataframe correspondiente a cada uno de los años de recaudación, desde el año $2000$ hasta el año actual. Por lo tanto, el último elemento de la lista, es el año actual.\n",
        "</p>"
      ],
      "metadata": {
        "id": "hnb0REN575KF"
      },
      "id": "hnb0REN575KF"
    },
    {
      "cell_type": "markdown",
      "source": [
        "<p align=\"justify\">\n",
        "<font color=\"DeepPink\">\n",
        "\n",
        "> **Lo primero que vamos a hacer es eliminar las columnas con datos faltantes...**\n",
        "</font>\n",
        "</p>"
      ],
      "metadata": {
        "id": "mrIcnbMr9D9V"
      },
      "id": "mrIcnbMr9D9V"
    },
    {
      "cell_type": "code",
      "source": [
        "# mi codigo aqui"
      ],
      "metadata": {
        "id": "PAOUNF2d9F28"
      },
      "id": "PAOUNF2d9F28",
      "execution_count": null,
      "outputs": []
    },
    {
      "cell_type": "code",
      "source": [
        "# mi codigo aqui"
      ],
      "metadata": {
        "id": "BiZ4CzGd9UK2"
      },
      "id": "BiZ4CzGd9UK2",
      "execution_count": null,
      "outputs": []
    },
    {
      "cell_type": "markdown",
      "source": [
        "<p align=\"justify\">\n",
        "<font color=\"DeepPink\">\n",
        "\n",
        "> **Ahora vamos a renombrar las columnas del dataframe, con los datos de la primera fila, que son los impuestos provinciales...**\n",
        "</font>\n",
        "</p>"
      ],
      "metadata": {
        "id": "mUsbcHQP9krj"
      },
      "id": "mUsbcHQP9krj"
    },
    {
      "cell_type": "code",
      "source": [
        "# mi codigo aqui"
      ],
      "metadata": {
        "id": "eVffuDRK9mPz"
      },
      "id": "eVffuDRK9mPz",
      "execution_count": null,
      "outputs": []
    },
    {
      "cell_type": "code",
      "source": [
        "# mi codigo aqui"
      ],
      "metadata": {
        "id": "lw_KJvQ8903-"
      },
      "id": "lw_KJvQ8903-",
      "execution_count": null,
      "outputs": []
    },
    {
      "cell_type": "markdown",
      "source": [
        "<p align=\"justify\">\n",
        "<font color=\"DeepPink\">\n",
        "\n",
        "> **Vemos que las columnas tienen por nombre ```nan```, vamos a eliminar ese nombre y no dejar ningún nombre a las columnas...**\n",
        "</font>\n",
        "</p>"
      ],
      "metadata": {
        "id": "IGPw9HNl-Kn0"
      },
      "id": "IGPw9HNl-Kn0"
    },
    {
      "cell_type": "code",
      "source": [
        "# mi codigo aqui"
      ],
      "metadata": {
        "id": "037rNXjI-MV8"
      },
      "id": "037rNXjI-MV8",
      "execution_count": null,
      "outputs": []
    },
    {
      "cell_type": "code",
      "source": [
        "# mi codigo aqui"
      ],
      "metadata": {
        "id": "uSUKk3po-MA2"
      },
      "id": "uSUKk3po-MA2",
      "execution_count": 7,
      "outputs": []
    },
    {
      "cell_type": "markdown",
      "source": [
        "<p align=\"justify\">\n",
        "<font color=\"DeepPink\">\n",
        "\n",
        "> **Ahora al indice del dataframe, en donde estan los meses del ejercicio fiscal, le vamos a poner un nombre, para luego, ingresarlo como columna al dataframe...**\n",
        "</font>\n",
        "</p>"
      ],
      "metadata": {
        "id": "tKbnhe3--qZk"
      },
      "id": "tKbnhe3--qZk"
    },
    {
      "cell_type": "code",
      "source": [
        "# mi codigo aqui"
      ],
      "metadata": {
        "id": "qUW5a5JH-sGt"
      },
      "id": "qUW5a5JH-sGt",
      "execution_count": null,
      "outputs": []
    },
    {
      "cell_type": "code",
      "source": [
        "# mi codigo aqui"
      ],
      "metadata": {
        "id": "gRlBO3zz-x0T"
      },
      "id": "gRlBO3zz-x0T",
      "execution_count": null,
      "outputs": []
    },
    {
      "cell_type": "markdown",
      "source": [
        "<p align=\"justify\">\n",
        "<font color=\"DeepPink\">\n",
        "\n",
        "> **Ahora vamos a eliminar las filas que tengan todos sus datos faltantes, para ello usamos el método de Pandas ```dropna()``` con los parámetros ```axis=0``` para indicar que queremos eliminar las filas, y el parametro ```how=all```, es decir eliminar las filas en donde todos sus datos son faltantes...**\n",
        "</font>\n",
        "</p>"
      ],
      "metadata": {
        "id": "szGhEfrs_Cwk"
      },
      "id": "szGhEfrs_Cwk"
    },
    {
      "cell_type": "code",
      "source": [
        "# mi codigo aqui"
      ],
      "metadata": {
        "id": "YkYHUS7u_ESz"
      },
      "id": "YkYHUS7u_ESz",
      "execution_count": null,
      "outputs": []
    },
    {
      "cell_type": "code",
      "source": [
        "# mi codigo aqui"
      ],
      "metadata": {
        "id": "3t_AZdTs_ECX"
      },
      "id": "3t_AZdTs_ECX",
      "execution_count": null,
      "outputs": []
    },
    {
      "cell_type": "markdown",
      "source": [
        "<p align=\"justify\">\n",
        "<font color=\"DeepPink\">\n",
        "\n",
        "> **Lo que vamos a hacer ahora, es ordenar el indice, usando el método ```reset_index()```, eliminando el índice, sin ingresarlo al dataframe, y con posterioridad a ello, vamos a eliminar la primera fila y la última fila del dataframe, pero con el uso de filtros...**\n",
        "</font>\n",
        "</p>"
      ],
      "metadata": {
        "id": "BQSJnkZV_UAg"
      },
      "id": "BQSJnkZV_UAg"
    },
    {
      "cell_type": "code",
      "source": [
        "# mi codigo aqui"
      ],
      "metadata": {
        "id": "eTqn3rJE_du2"
      },
      "id": "eTqn3rJE_du2",
      "execution_count": null,
      "outputs": []
    },
    {
      "cell_type": "code",
      "source": [
        "# mi codigo aqui"
      ],
      "metadata": {
        "id": "aBZgjcbd_dh0"
      },
      "id": "aBZgjcbd_dh0",
      "execution_count": null,
      "outputs": []
    },
    {
      "cell_type": "markdown",
      "source": [
        "<p align=\"justify\">\n",
        "<font color=\"DeepPink\">\n",
        "\n",
        "> **Ahora procedemos a borrar la columna ```Datos```...**\n",
        "</font>\n",
        "</p>"
      ],
      "metadata": {
        "id": "C-vNBQjwAcH-"
      },
      "id": "C-vNBQjwAcH-"
    },
    {
      "cell_type": "code",
      "source": [
        "# mi codigo aqui"
      ],
      "metadata": {
        "id": "Rv243TNIAds7"
      },
      "id": "Rv243TNIAds7",
      "execution_count": null,
      "outputs": []
    },
    {
      "cell_type": "code",
      "source": [
        "# mi codigo aqui"
      ],
      "metadata": {
        "id": "0HfoC3V6Ahwj"
      },
      "id": "0HfoC3V6Ahwj",
      "execution_count": null,
      "outputs": []
    },
    {
      "cell_type": "markdown",
      "source": [
        "<p align=\"justify\">\n",
        "<font color=\"DeepPink\">\n",
        "\n",
        "> **Ahora vamos a convertir todos los datos del dataframe, en numéricos decimales...**\n",
        "</font>\n",
        "</p>"
      ],
      "metadata": {
        "id": "sGe173YSBTQ4"
      },
      "id": "sGe173YSBTQ4"
    },
    {
      "cell_type": "code",
      "source": [
        "# mi codigo aqui"
      ],
      "metadata": {
        "id": "QM0J7aZjBZ9S"
      },
      "id": "QM0J7aZjBZ9S",
      "execution_count": null,
      "outputs": []
    },
    {
      "cell_type": "code",
      "source": [
        "# mi codigo aqui"
      ],
      "metadata": {
        "id": "HmPC0CydBeG3"
      },
      "id": "HmPC0CydBeG3",
      "execution_count": null,
      "outputs": []
    },
    {
      "cell_type": "markdown",
      "source": [
        "<p align=\"justify\">\n",
        "<font color=\"DeepPink\">\n",
        "\n",
        "> **Ahora al indice numérico del dataframe, coincidente con los meses del ejercicio fiscal, le vamos a poner un nombre, para luego, ingresarlo como columna al dataframe...**\n",
        "</font>\n",
        "</p>"
      ],
      "metadata": {
        "id": "bXoCvPQpBllh"
      },
      "id": "bXoCvPQpBllh"
    },
    {
      "cell_type": "code",
      "source": [
        "# mi codigo aqui"
      ],
      "metadata": {
        "id": "o7dq4yl1Bm7d"
      },
      "id": "o7dq4yl1Bm7d",
      "execution_count": null,
      "outputs": []
    },
    {
      "cell_type": "code",
      "source": [
        "# mi codigo aqui"
      ],
      "metadata": {
        "id": "w992giIgBsu4"
      },
      "id": "w992giIgBsu4",
      "execution_count": null,
      "outputs": []
    },
    {
      "cell_type": "markdown",
      "source": [
        "<p align=\"justify\">\n",
        "<font color=\"DeepPink\">\n",
        "\n",
        "> **Ahora ingresamos el indice del dataframe, como columna...**\n",
        "</font>\n",
        "</p>"
      ],
      "metadata": {
        "id": "JzDdkWB-CB6o"
      },
      "id": "JzDdkWB-CB6o"
    },
    {
      "cell_type": "code",
      "source": [
        "# mi codigo aqui"
      ],
      "metadata": {
        "id": "vUqkenqJCDrK"
      },
      "id": "vUqkenqJCDrK",
      "execution_count": null,
      "outputs": []
    },
    {
      "cell_type": "code",
      "source": [
        "# mi codigo aqui"
      ],
      "metadata": {
        "id": "mt-E-S2WCHHK"
      },
      "id": "mt-E-S2WCHHK",
      "execution_count": null,
      "outputs": []
    },
    {
      "cell_type": "markdown",
      "source": [
        "<p align=\"justify\">\n",
        "<font color=\"DeepPink\">\n",
        "\n",
        "> **Y vamos adicionar una columna denominada ```Año``` que tenga como valor, el año fiscal correspondiente a este dataframe, que en este caso es el año $2022$...**\n",
        "</font>\n",
        "</p>"
      ],
      "metadata": {
        "id": "hN7wGC21C27T"
      },
      "id": "hN7wGC21C27T"
    },
    {
      "cell_type": "code",
      "source": [
        "# mi codigo aqui"
      ],
      "metadata": {
        "id": "NYlR-iltC3gT"
      },
      "id": "NYlR-iltC3gT",
      "execution_count": null,
      "outputs": []
    },
    {
      "cell_type": "code",
      "source": [
        "# mi codigo aqui"
      ],
      "metadata": {
        "id": "zAXVmJp_DH7g"
      },
      "id": "zAXVmJp_DH7g",
      "execution_count": null,
      "outputs": []
    },
    {
      "cell_type": "markdown",
      "source": [
        "<p align=\"justify\">\n",
        "<font color=\"DeepPink\">\n",
        "\n",
        "> **Y ordenamos las columnas...**\n",
        "</font>\n",
        "</p>"
      ],
      "metadata": {
        "id": "gQgUZ2ERDOJq"
      },
      "id": "gQgUZ2ERDOJq"
    },
    {
      "cell_type": "code",
      "source": [
        "# mi codigo aqui"
      ],
      "metadata": {
        "id": "SJVLzGRWDUeU"
      },
      "id": "SJVLzGRWDUeU",
      "execution_count": null,
      "outputs": []
    },
    {
      "cell_type": "code",
      "source": [
        "# mi codigo aqui"
      ],
      "metadata": {
        "id": "4wNTWPHgDazA"
      },
      "id": "4wNTWPHgDazA",
      "execution_count": null,
      "outputs": []
    },
    {
      "cell_type": "markdown",
      "source": [
        "<p align=\"justify\"><b>\n",
        "<font color=\"DeepPink\">\n",
        "✅ Ya tenemos nuestro dataframe correspondiente al ejercicio fiscal $2022$ con los datos numéricos.\n",
        "</font>\n",
        "</p>\n",
        "\n"
      ],
      "metadata": {
        "id": "5p8DucWqC1IN"
      },
      "id": "5p8DucWqC1IN"
    },
    {
      "cell_type": "markdown",
      "id": "cc2cb851-466f-40ca-bc0d-3341d7d0553c",
      "metadata": {
        "id": "cc2cb851-466f-40ca-bc0d-3341d7d0553c"
      },
      "source": [
        "# 😀"
      ]
    }
  ],
  "metadata": {
    "kernelspec": {
      "display_name": "Python 3 (ipykernel)",
      "language": "python",
      "name": "python3"
    },
    "language_info": {
      "codemirror_mode": {
        "name": "ipython",
        "version": 3
      },
      "file_extension": ".py",
      "mimetype": "text/x-python",
      "name": "python",
      "nbconvert_exporter": "python",
      "pygments_lexer": "ipython3",
      "version": "3.10.2"
    },
    "toc-autonumbering": false,
    "toc-showmarkdowntxt": false,
    "colab": {
      "provenance": [],
      "collapsed_sections": [
        "87a2fb36-8011-44e0-a07a-19d19d7e7d15"
      ],
      "include_colab_link": true
    }
  },
  "nbformat": 4,
  "nbformat_minor": 5
}