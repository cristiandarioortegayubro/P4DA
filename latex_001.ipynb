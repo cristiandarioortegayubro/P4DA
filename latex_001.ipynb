{
  "cells": [
    {
      "cell_type": "markdown",
      "metadata": {
        "id": "view-in-github",
        "colab_type": "text"
      },
      "source": [
        "<a href=\"https://colab.research.google.com/github/cristiandarioortegayubro/P4DA/blob/main/latex_001.ipynb\" target=\"_parent\"><img src=\"https://colab.research.google.com/assets/colab-badge.svg\" alt=\"Open In Colab\"/></a>"
      ]
    },
    {
      "cell_type": "markdown",
      "source": [
        "![](https://github.com/cristiandarioortegayubro/P4DA/blob/main/Logo.png?raw=true)"
      ],
      "metadata": {
        "id": "_pY_VJ3ETJXI"
      },
      "id": "_pY_VJ3ETJXI"
    },
    {
      "cell_type": "markdown",
      "id": "795ca1b3-d014-48a1-8cd2-a69a90043112",
      "metadata": {
        "id": "795ca1b3-d014-48a1-8cd2-a69a90043112"
      },
      "source": [
        "# <font color=\"RoyalBlue\">$\\LaTeX{}$ **para celdas de texto en Notebooks**</font>"
      ]
    },
    {
      "cell_type": "markdown",
      "id": "65c27d22-1803-44f8-9c57-4566f07ecacc",
      "metadata": {
        "id": "65c27d22-1803-44f8-9c57-4566f07ecacc"
      },
      "source": [
        "![latex](https://www.latex-project.org/img/latex-project-logo.svg)"
      ]
    },
    {
      "cell_type": "markdown",
      "id": "5dca8b7a-3e24-4610-ba58-3dca0360851d",
      "metadata": {
        "id": "5dca8b7a-3e24-4610-ba58-3dca0360851d"
      },
      "source": [
        "# ➕ <font color=\"RoyalBlue\">**Expresiones matemáticas en celda de texto**</font>"
      ]
    },
    {
      "cell_type": "markdown",
      "id": "4c6449e6-8b19-415d-b898-81035cf081ad",
      "metadata": {
        "id": "4c6449e6-8b19-415d-b898-81035cf081ad"
      },
      "source": [
        "<p>\n",
        "<font color=\"RoyalBlue\">\n",
        "\n",
        "\n",
        "📘 **Las expresiones matemáticas son muy utilizadas. Para empezar a escribir una expresión matemática, debe colocarse el símbolo ```$```. Este símbolo debe colocarse al inicio y al final de la expresión matemática. Cuando se coloca un solo símbolo, la expresión matemática comienza al inicio de la celda de texto, y cuando se colocan dos símbolos, la expresión matemática queda centrada en la celda de texto.**\n",
        "</font>\n",
        "</p>"
      ]
    },
    {
      "cell_type": "markdown",
      "id": "b4a7ea97-2873-47b6-90de-e9c0f91688a5",
      "metadata": {
        "id": "b4a7ea97-2873-47b6-90de-e9c0f91688a5"
      },
      "source": [
        "## <font color=\"RoyalBlue\">**Fracciones y binomiales**</font>"
      ]
    },
    {
      "cell_type": "markdown",
      "id": "2555c723-4113-452c-b256-5290b28fe1e4",
      "metadata": {
        "id": "2555c723-4113-452c-b256-5290b28fe1e4"
      },
      "source": [
        "\n",
        "### <font color=\"RoyalBlue\">**Fracciones**</font>"
      ]
    },
    {
      "cell_type": "markdown",
      "id": "33fa57e4-3b02-40f9-8337-af73980dc18e",
      "metadata": {
        "id": "33fa57e4-3b02-40f9-8337-af73980dc18e"
      },
      "source": [
        "<p>\n",
        "<font color=\"RoyalBlue\">\n",
        "\n",
        "\n",
        "👀 **Podemos introducir fracciones con el comando ```\\frac{numerador}{denominador}```. Es necesario incluir entre llaves los dos argumentos que requiere este comando, es decir, las expresiones para el numerador y para el denominador.**\n",
        "</font>\n",
        "</p>\n",
        "\n",
        "\n",
        "\n",
        "<p>\n",
        "<font color=\"RoyalBlue\">\n",
        "\n",
        "**Entonces, una fracción es creada usando la siguiente sintaxis:**\n",
        "</font>\n",
        "</p>\n",
        "\n",
        ">~~~latex\n",
        "$\\frac{numerador}{denominador}$\n",
        "~~~\n",
        "\n",
        "<p>\n",
        "<font color=\"RoyalBlue\">\n",
        "\n",
        "**y queda de la siguiente forma:**\n",
        "\n",
        "$\\frac{numerador}{denominador}$\n",
        "</font>\n",
        "</p>\n"
      ]
    },
    {
      "cell_type": "markdown",
      "id": "30726cb3-b112-48ea-a842-aa3d19a49f4b",
      "metadata": {
        "id": "30726cb3-b112-48ea-a842-aa3d19a49f4b"
      },
      "source": [
        "<p>\n",
        "<font color=\"RoyalBlue\">\n",
        "\n",
        "\n",
        "> **Si se desea que la fracción quede centrada en la celda de texto:**\n",
        "</font>\n",
        "</p>\n",
        "\n",
        "\n",
        "> ~~~latex\n",
        "$$\\frac{numerador}{denominador}$$\n",
        "~~~\n",
        "\n",
        "<p>\n",
        "<font color=\"RoyalBlue\">\n",
        "\n",
        "**y queda de la siguiente forma:**\n",
        "\n",
        "$$\\frac{numerador}{denominador}$$\n",
        "</font>\n",
        "</p>\n"
      ]
    },
    {
      "cell_type": "markdown",
      "id": "5da61272-0a5e-4ae7-9c31-9212a1562e70",
      "metadata": {
        "id": "5da61272-0a5e-4ae7-9c31-9212a1562e70"
      },
      "source": [
        "<p>\n",
        "<font color=\"RoyalBlue\">\n",
        "\n",
        "> **También se pueden incorporar fracciones dentro de una fracción, de la siguiente manera:**\n",
        "</font>\n",
        "</p>\n",
        "\n",
        "\n",
        "> ~~~latex\n",
        "$$\\frac{\\frac{1}{x}+\\frac{1}{y}}{y-z}$$\n",
        "~~~\n",
        "\n",
        "<p>\n",
        "<font color=\"RoyalBlue\">\n",
        "\n",
        "**y queda de la siguiente forma:**\n",
        "\n",
        "$$\\frac{\\frac{1}{x}+\\frac{1}{y}}{y-z}$$\n",
        "</font>\n",
        "</p>\n"
      ]
    },
    {
      "cell_type": "markdown",
      "source": [
        "Otros ejemplos:\n",
        "\n"
      ],
      "metadata": {
        "id": "tPf8YOGiIhQE"
      },
      "id": "tPf8YOGiIhQE"
    },
    {
      "cell_type": "markdown",
      "source": [
        "~~~latex\n",
        "$$\\frac{a}{b+c}$$\t\n",
        "~~~\n",
        "$$\\frac{a}{b+c}$$\t"
      ],
      "metadata": {
        "id": "T0GbltfmI6_j"
      },
      "id": "T0GbltfmI6_j"
    },
    {
      "cell_type": "markdown",
      "source": [
        "<p>\n",
        "<font color=\"RoyalBlue\">\n",
        "\n",
        "👀 **Además del comando ```\\frac``` también podemos utilizar los comandos ```\\tfrac``` y ```\\dfrac```.**\n",
        "</font>\n",
        "</p>\n",
        "\n",
        "<p>\n",
        "<font color=\"RoyalBlue\">\n",
        "\n",
        "- **```\\tfrac``` es el comando de fracciones en estilo texto, y**\n",
        "- **```\\dfrac``` es el comando en estilo display.**\n",
        "\n",
        "**Si solo indicamos la fracción con \\frac $\\LaTeX{}$ se encarga de escoger la versión más adecuada al contexto.**\n",
        "</font>\n",
        "</p>\n",
        "\n",
        "<p>\n",
        "<font color=\"RoyalBlue\">\n",
        "\n",
        "**El estilo texto, ```\\tfrac```, es de menor tamaño y encaja mejor en ecuaciones escritas a lo largo del texto.   \n",
        "Para ecuaciones escritas en una línea separada $\\LaTeX{}$ escogerá automáticamente el formato ```\\dfrac```, pero solo cuando tenga espacio suficiente para escribir la ecuación entera.   \n",
        "En caso contrario, puede escoger utilizar el modo texto. Para sobrescribir estas instrucciones es necesario utilizar ```\\dfrac``` o ```\\tfrac```.**\n",
        "</font>\n",
        "</p>"
      ],
      "metadata": {
        "id": "Ora7laODSpBf"
      },
      "id": "Ora7laODSpBf"
    },
    {
      "cell_type": "markdown",
      "source": [
        ">~~~\n",
        "Dada una función $\\frac{79}{88}$ que indica…\n",
        "~~~\n",
        "Dada una función $\\frac{79}{88}$ que indica…\n",
        "\n",
        ">~~~\n",
        "Dada una función $\\dfrac{79}{88}$ que indica…\n",
        "~~~\n",
        "Dada una función $\\dfrac{79}{88}$ que indica…\n",
        "\n",
        ">~~~\n",
        "Dada una función $\\tfrac{79}{88}$ que indica…\n",
        "~~~\n",
        "Dada una función $\\tfrac{79}{88}$ que indica…\n"
      ],
      "metadata": {
        "id": "MWBneWrhRNc7"
      },
      "id": "MWBneWrhRNc7"
    },
    {
      "cell_type": "markdown",
      "id": "0704f8ba-d1ae-480e-8b07-00e56e54df80",
      "metadata": {
        "id": "0704f8ba-d1ae-480e-8b07-00e56e54df80"
      },
      "source": [
        "### <font color=\"RoyalBlue\">**Binomiales**</font>"
      ]
    },
    {
      "cell_type": "markdown",
      "id": "9968282f-cd37-47dd-bd2d-a9b81383b345",
      "metadata": {
        "id": "9968282f-cd37-47dd-bd2d-a9b81383b345"
      },
      "source": [
        "<p>\n",
        "<font color=\"RoyalBlue\">\n",
        "\n",
        "\n",
        "> **Una binomial se logra con ```\\binom``` y las llaves, como por ejemplo:**\n",
        "</font>\n",
        "</p>\n",
        "\n",
        "\n",
        ">~~~latex\n",
        "$$\\binom{n}{k}$$\n",
        "~~~\n",
        "\n",
        "<p>\n",
        "<font color=\"RoyalBlue\">\n",
        "\n",
        "**y queda de la siguiente forma:**\n",
        "\n",
        "$$\\binom{n}{k}$$\n",
        "</font>\n",
        "</p>"
      ]
    },
    {
      "cell_type": "markdown",
      "source": [
        "Otros ejemplos:"
      ],
      "metadata": {
        "id": "CoSjhlUVJDV7"
      },
      "id": "CoSjhlUVJDV7"
    },
    {
      "cell_type": "markdown",
      "source": [
        ">~~~latex\n",
        "$$\\binom{a}{b}^{2}$$\t\n",
        "~~~\n",
        "$$\\binom{a}{b}^{2}$$\t"
      ],
      "metadata": {
        "id": "vn0EyqXcJFgi"
      },
      "id": "vn0EyqXcJFgi"
    },
    {
      "cell_type": "markdown",
      "source": [
        ">~~~latex\n",
        "$${a \\choose b}$$\n",
        "~~~\n",
        "\n",
        "$${a \\choose b}$$\n",
        "\n"
      ],
      "metadata": {
        "id": "GUTuMIsSMJ7V"
      },
      "id": "GUTuMIsSMJ7V"
    },
    {
      "cell_type": "markdown",
      "id": "8c6b319f-3150-4f57-85bf-6b0bbde560fd",
      "metadata": {
        "id": "8c6b319f-3150-4f57-85bf-6b0bbde560fd"
      },
      "source": [
        "### <font color=\"RoyalBlue\">**Combinaciones de fracciones con binomiales**</font>"
      ]
    },
    {
      "cell_type": "markdown",
      "id": "62a363a3-c472-41f3-9306-9def45f8ae9d",
      "metadata": {
        "id": "62a363a3-c472-41f3-9306-9def45f8ae9d"
      },
      "source": [
        "<p>\n",
        "<font color=\"RoyalBlue\">\n",
        "\n",
        ">**Para combinar fracciones con binomiales se podría hacer algo como por ejemplo:**\n",
        "</font>\n",
        "</p>\n",
        "\n",
        ">~~~latex\n",
        "$$\\frac{n!}{k!(n-k)!}=\\binom{n}{k}$$\n",
        "~~~\n",
        "\n",
        "<p>\n",
        "<font color=\"RoyalBlue\">\n",
        "\n",
        "**y queda de la siguiente forma:**\n",
        "\n",
        "$$\\frac{n!}{k!(n-k)!}=\\binom{n}{k}$$\n",
        "</font>\n",
        "</p>\n",
        "\n"
      ]
    },
    {
      "cell_type": "markdown",
      "source": [
        "Otros ejemplos:"
      ],
      "metadata": {
        "id": "N8QRw8lIKMDO"
      },
      "id": "N8QRw8lIKMDO"
    },
    {
      "cell_type": "markdown",
      "source": [
        ">~~~latex\n",
        "$$\\left(\\frac{a}{b}\\right)^{2}$$\n",
        "~~~\n",
        "$$\\left(\\frac{a}{b}\\right)^{2}$$"
      ],
      "metadata": {
        "id": "TjKSFPoaKOci"
      },
      "id": "TjKSFPoaKOci"
    },
    {
      "cell_type": "markdown",
      "id": "287b1141-1009-4d4e-8420-136f629e0769",
      "metadata": {
        "id": "287b1141-1009-4d4e-8420-136f629e0769"
      },
      "source": [
        "## ➕ <font color=\"RoyalBlue\">**Potencias e índices**</font>"
      ]
    },
    {
      "cell_type": "markdown",
      "id": "5282df97-4867-4266-8911-af2a2def1e19",
      "metadata": {
        "id": "5282df97-4867-4266-8911-af2a2def1e19"
      },
      "source": [
        "### <font color=\"RoyalBlue\">**Potencias**</font>"
      ]
    },
    {
      "cell_type": "markdown",
      "id": "c6be52ca-76e4-4938-b1ee-2d316b269775",
      "metadata": {
        "id": "c6be52ca-76e4-4938-b1ee-2d316b269775"
      },
      "source": [
        "<p>\n",
        "<font color=\"RoyalBlue\">\n",
        "\n",
        "\n",
        ">**Para potencias se utliza el símbolo ```^``` que indica la potencia, y la misma debe escribirse entre llaves, por ejemplo:**\n",
        "</font>\n",
        "</p>\n",
        "\n",
        "\n",
        ">~~~latex\n",
        "$$n^{10}$$\n",
        "~~~\n",
        "\n",
        "<p>\n",
        "<font color=\"RoyalBlue\">\n",
        "\n",
        "**y queda de la siguiente forma:**\n",
        "\n",
        "$$n^{10}$$\n",
        "</font>\n",
        "</p>"
      ]
    },
    {
      "cell_type": "markdown",
      "source": [
        "Otros ejemplos:"
      ],
      "metadata": {
        "id": "4oGWagM_K_2h"
      },
      "id": "4oGWagM_K_2h"
    },
    {
      "cell_type": "markdown",
      "source": [
        ">~~~latex\n",
        "$$a x^3 + b x^2 + c x + d = 0$$\n",
        "~~~\n",
        "$$a x^3 + b x^2 + c x + d = 0$$\n"
      ],
      "metadata": {
        "id": "ptm1wYweLBtr"
      },
      "id": "ptm1wYweLBtr"
    },
    {
      "cell_type": "markdown",
      "id": "e1912e9a-a1d5-45a7-a322-91b01b056643",
      "metadata": {
        "id": "e1912e9a-a1d5-45a7-a322-91b01b056643"
      },
      "source": [
        "### <font color=\"RoyalBlue\">**Índices**</font>"
      ]
    },
    {
      "cell_type": "markdown",
      "id": "f22263c8-5603-4319-a1eb-7cc95f10a514",
      "metadata": {
        "id": "f22263c8-5603-4319-a1eb-7cc95f10a514"
      },
      "source": [
        "<p>\n",
        "<font color=\"RoyalBlue\">\n",
        "\n",
        ">**Para los índices, se utiliza el símbolo ```_``` guión bajo, y también se debe escribir entre llaves, por ejemplo:**\n",
        "</font>\n",
        "</p>\n",
        "\n",
        ">~~~latex\n",
        "$$k_{n+1}$$\n",
        "~~~\n",
        "\n",
        "\n",
        "<p>\n",
        "<font color=\"RoyalBlue\">\n",
        "\n",
        "**y queda de la siguiente forma:**\n",
        "\n",
        "$$k_{n+1}$$\n",
        "</font>\n",
        "</p>\n"
      ]
    },
    {
      "cell_type": "markdown",
      "source": [
        "Otros ejemplos:"
      ],
      "metadata": {
        "id": "X8IEd-adMlJQ"
      },
      "id": "X8IEd-adMlJQ"
    },
    {
      "cell_type": "markdown",
      "source": [
        ">~~~latex\n",
        "$$a_{1}$$\n",
        "~~~\n",
        "$$a_{1}$$\n"
      ],
      "metadata": {
        "id": "TU5wQK1OMnZh"
      },
      "id": "TU5wQK1OMnZh"
    },
    {
      "cell_type": "markdown",
      "id": "34f2c747-8478-4fe0-90b2-deb45d5c0d77",
      "metadata": {
        "id": "34f2c747-8478-4fe0-90b2-deb45d5c0d77"
      },
      "source": [
        "### <font color=\"RoyalBlue\">**Combinación de potencias e índices**</font>"
      ]
    },
    {
      "cell_type": "markdown",
      "id": "c7538aee-2f89-4662-9681-709edb29421b",
      "metadata": {
        "id": "c7538aee-2f89-4662-9681-709edb29421b"
      },
      "source": [
        "<p>\n",
        "<font color=\"RoyalBlue\">\n",
        "\n",
        ">**Se pueden combinar las potencias y los índices, por ejemplo en el caso de escribir la sumatoria ```\\sum```, que tiene un índice y una potencia, lo que se hace de esta forma:**\n",
        "</font>\n",
        "</p>\n",
        "\n",
        "\n",
        ">~~~latex\n",
        "$$\\sum_{i=0}^t$$\n",
        "~~~\n",
        "\n",
        "<p>\n",
        "<font color=\"RoyalBlue\">\n",
        "\n",
        "**y queda de la siguiente forma:**\n",
        "\n",
        "$$\\sum_{i=0}^t$$\n",
        "</font>\n",
        "</p>\n"
      ]
    },
    {
      "cell_type": "markdown",
      "id": "0c8e4a06-8a85-4211-b40e-57e0c6bfc045",
      "metadata": {
        "id": "0c8e4a06-8a85-4211-b40e-57e0c6bfc045"
      },
      "source": [
        "<p>\n",
        "<font color=\"RoyalBlue\">\n",
        "\n",
        "> **Tambien se pueden utilizar los símbolos para potencias e índices, y escribir fracciones:**\n",
        "</font>\n",
        "</p>\n",
        "\n",
        "\n",
        ">~~~latex\n",
        "$$^3/_7$$\n",
        "~~~\n",
        "\n",
        "<p>\n",
        "<font color=\"RoyalBlue\">\n",
        "\n",
        "**y queda de la siguiente forma:**\n",
        "\n",
        "$$^3/_7$$\n",
        "</font>\n",
        "</p>\n"
      ]
    },
    {
      "cell_type": "markdown",
      "id": "5c79a051-f0d2-4af7-9814-d779a243fe55",
      "metadata": {
        "id": "5c79a051-f0d2-4af7-9814-d779a243fe55"
      },
      "source": [
        "## ➕ <font color=\"RoyalBlue\">**Raíces**</font>"
      ]
    },
    {
      "cell_type": "markdown",
      "id": "860297ad-ecb5-498f-bd8f-64387f439cac",
      "metadata": {
        "id": "860297ad-ecb5-498f-bd8f-64387f439cac"
      },
      "source": [
        "<p>\n",
        "<font color=\"RoyalBlue\">\n",
        "\n",
        ">**La raiz cuadrada se logra con \\sqrt y entre llaves el contenido de la misma:**\n",
        "</font>\n",
        "</p>\n",
        "\n",
        "\n",
        ">~~~latex\n",
        "$$\\sqrt{\\frac{a}{b}}$$\n",
        "~~~\n",
        "\n",
        "<p>\n",
        "<font color=\"RoyalBlue\">\n",
        "\n",
        "**y queda de la siguiente forma:**\n",
        "\n",
        "$$\\sqrt{\\frac{a}{b}}$$\n",
        "</font>\n",
        "</p>\n",
        "\n",
        "\n",
        "<p>\n",
        "<font color=\"RoyalBlue\">\n",
        "\n",
        ">**Para una raiz cúbica, se coloca entre corchetes en número 3:**\n",
        "</font>\n",
        "</p>\n",
        "\n",
        "\n",
        ">~~~latex\n",
        "$$\\sqrt[3]{\\frac{a}{b}}$$\n",
        "~~~\n",
        "\n",
        "<p>\n",
        "<font color=\"RoyalBlue\">\n",
        "\n",
        "**y queda de la siguiente forma:**\n",
        "\n",
        "$$\\sqrt[3]{\\frac{a}{b}}$$\n",
        "</font>\n",
        "</p>\n",
        "\n",
        "<p>\n",
        "<font color=\"RoyalBlue\">\n",
        "\n",
        ">**Otro ejemplo de raiz:**\n",
        "</font>\n",
        "</p>\n",
        "\n",
        "\n",
        ">~~~latex\n",
        "$$\\sqrt[n]{1+x+x^2+x^3\\dots+x^n}$$\n",
        "~~~\n",
        "\n",
        "<p>\n",
        "<font color=\"RoyalBlue\">\n",
        "\n",
        "**y queda de la siguiente forma:**\n",
        "\n",
        "$$\\sqrt[n]{1+x+x^2+x^3\\dots+x^n}$$\n",
        "</font>\n",
        "</p>\n"
      ]
    },
    {
      "cell_type": "markdown",
      "source": [
        "Otros ejemplos:"
      ],
      "metadata": {
        "id": "g10GnZjvMztc"
      },
      "id": "g10GnZjvMztc"
    },
    {
      "cell_type": "markdown",
      "source": [
        ">~~~latex\n",
        "$$x = \\frac {-b \\pm \\sqrt {b^2 - 4ac}}{2a}$$\t\n",
        "~~~\n",
        "$$x = \\frac {-b \\pm \\sqrt {b^2 - 4ac}}{2a}$$\t\n",
        "\n",
        "\n"
      ],
      "metadata": {
        "id": "mVV4jWRaM2Bz"
      },
      "id": "mVV4jWRaM2Bz"
    },
    {
      "cell_type": "markdown",
      "source": [
        ">~~~latex\n",
        "$$\\sqrt[4]{16} = 2$$\n",
        "~~~\n",
        "$$\\sqrt[4]{16} = 2$$"
      ],
      "metadata": {
        "id": "z9T9l0lGUkuG"
      },
      "id": "z9T9l0lGUkuG"
    },
    {
      "cell_type": "markdown",
      "id": "8aa42907-64a5-4ac2-8f09-2f3f3b127c1a",
      "metadata": {
        "id": "8aa42907-64a5-4ac2-8f09-2f3f3b127c1a"
      },
      "source": [
        "## ➕ <font color=\"RoyalBlue\">**Sumatorias e integrales**</font>"
      ]
    },
    {
      "cell_type": "markdown",
      "id": "4ece49f4-28d7-4157-84e9-f221cdbf41dd",
      "metadata": {
        "id": "4ece49f4-28d7-4157-84e9-f221cdbf41dd"
      },
      "source": [
        "### <font color=\"RoyalBlue\">**Sumatorias**</font>"
      ]
    },
    {
      "cell_type": "markdown",
      "id": "45bfa437-b408-452d-aed2-cd98e6459acf",
      "metadata": {
        "id": "45bfa437-b408-452d-aed2-cd98e6459acf"
      },
      "source": [
        "<p>\n",
        "<font color=\"RoyalBlue\">\n",
        "\n",
        ">**Las sumatorias se logran con ```\\sum```, y los símbolos asignados para potencia, y para índice:**\n",
        "</font>\n",
        "</p>\n",
        "\n",
        "\n",
        ">~~~latex\n",
        "$$\\sum_{i=1}^{10} t_i$$\n",
        "~~~\n",
        "\n",
        "<p>\n",
        "<font color=\"RoyalBlue\">\n",
        "\n",
        "**y queda de la siguiente manera:**\n",
        "\n",
        "$$\\sum_{i=1}^{10} t_i$$\n",
        "</font>\n",
        "</p>\n",
        "\n"
      ]
    },
    {
      "cell_type": "markdown",
      "source": [
        "<p>\n",
        "<font color=\"RoyalBlue\">\n",
        "\n",
        ">**Si quisieramos la sumatoria en la notación matemática que usualmente estamos acostumbrados, se debe agregar antes ```\\displaystyle``` de la siguiente forma:**\n",
        "</font>\n",
        "</p>\n",
        "\n",
        ">~~~latex\n",
        "$$\\displaystyle\\sum_{i=1}^{n} t_i$$\n",
        "~~~\n",
        "\n",
        "<p>\n",
        "<font color=\"RoyalBlue\">\n",
        "\n",
        "**y queda de la siguiente manera:**\n",
        "\n",
        "$$\\displaystyle\\sum_{i=1}^{n} t_i$$\n",
        "</font>\n",
        "</p>\n"
      ],
      "metadata": {
        "id": "v9lAUFeOhmNm"
      },
      "id": "v9lAUFeOhmNm"
    },
    {
      "cell_type": "markdown",
      "source": [
        "Otros ejemplos:"
      ],
      "metadata": {
        "id": "TgIje3ReNQ35"
      },
      "id": "TgIje3ReNQ35"
    },
    {
      "cell_type": "markdown",
      "source": [
        ">~~~latex\n",
        "$$\\sum_{i=1}^{n} i^2$$\n",
        "~~~\n",
        "$$\\sum_{i=1}^{n} i^2$$\n"
      ],
      "metadata": {
        "id": "Ke80Ls1ZNUB7"
      },
      "id": "Ke80Ls1ZNUB7"
    },
    {
      "cell_type": "markdown",
      "id": "08be1597-6c53-4a57-a56f-2ecf019110f7",
      "metadata": {
        "id": "08be1597-6c53-4a57-a56f-2ecf019110f7"
      },
      "source": [
        "### <font color=\"RoyalBlue\">**Integrales**</font>"
      ]
    },
    {
      "cell_type": "markdown",
      "id": "6c4ca41d-7ef4-4e58-8a7c-b1618b1ad447",
      "metadata": {
        "id": "6c4ca41d-7ef4-4e58-8a7c-b1618b1ad447"
      },
      "source": [
        "<p>\n",
        "<font color=\"RoyalBlue\">\n",
        "\n",
        ">**Para una integral se usa \\int, y para el símbolo infinito se usa \\infty, y la integral se escribe:**\n",
        "</font>\n",
        "</p>\n",
        "\n",
        ">~~~latex\n",
        "$$\\int_0^\\infty e^{-x} dx$$\n",
        "~~~\n",
        "\n",
        "\n",
        "<p>\n",
        "<font color=\"RoyalBlue\">\n",
        "\n",
        "**y queda de la siguiente manera:**\n",
        "\n",
        "$$\\int_0^\\infty e^{-x} dx$$\n",
        "</font>\n",
        "</p>\n",
        "\n"
      ]
    },
    {
      "cell_type": "markdown",
      "source": [
        "<p>\n",
        "<font color=\"RoyalBlue\">\n",
        "\n",
        ">**Si quisieramos la integral en la notación matemática que usualmente estamos acostumbrados, al igual que en la sumatoria, se debe agregar antes \\displaystyle de la siguiente forma:**\n",
        "</font>\n",
        "</p>\n",
        "\n",
        "\n",
        ">~~~latex\n",
        "$$\\displaystyle\\int_0^\\infty e^{-x} dx$$\n",
        "~~~\n",
        "\n",
        "\n",
        "<p>\n",
        "<font color=\"RoyalBlue\">\n",
        "\n",
        "**y queda de la siguiente manera:**\n",
        "\n",
        "$$\\displaystyle\\int_0^\\infty e^{-x} dx$$\n",
        "</font>\n",
        "</p>\n"
      ],
      "metadata": {
        "id": "tjj9TdiJiDhF"
      },
      "id": "tjj9TdiJiDhF"
    },
    {
      "cell_type": "markdown",
      "source": [
        "Otros ejemplos:"
      ],
      "metadata": {
        "id": "Jt9ye1e1NxBB"
      },
      "id": "Jt9ye1e1NxBB"
    },
    {
      "cell_type": "markdown",
      "source": [
        "~~~latex\n",
        "$$\\int_{a}^{b} x dx$$\t\n",
        "~~~\n",
        "$$\\int_{a}^{b} x dx$$\t\n"
      ],
      "metadata": {
        "id": "5i5uQ3rkNzl1"
      },
      "id": "5i5uQ3rkNzl1"
    },
    {
      "cell_type": "markdown",
      "id": "eb6a87e2-eab4-452e-83b4-6269d0f0e69a",
      "metadata": {
        "id": "eb6a87e2-eab4-452e-83b4-6269d0f0e69a"
      },
      "source": [
        "## ➕ <font color=\"RoyalBlue\">**Paréntesis, corchetes y llaves**</font>"
      ]
    },
    {
      "cell_type": "markdown",
      "id": "9b1757a6-9df3-4233-9d5c-3eb1d60554a4",
      "metadata": {
        "id": "9b1757a6-9df3-4233-9d5c-3eb1d60554a4"
      },
      "source": [
        "<p>\n",
        "<font color=\"RoyalBlue\">\n",
        "\n",
        ">**Los paréntesis, corchetes y llaves se escriben directamente con los símbolos que conocemos, y quedan de la siguiente manera:**\n",
        "</font>\n",
        "</p>\n",
        "\n",
        "\n",
        "<p>\n",
        "<font color=\"RoyalBlue\">\n",
        "$$(a+b+c)$$\n",
        "</font>\n",
        "</p>\n",
        "\n",
        "\n",
        "<p>\n",
        "<font color=\"RoyalBlue\">\n",
        "$$[123+89]$$\n",
        "</font>\n",
        "</p>\n",
        "\n",
        "\n",
        "<p>\n",
        "<font color=\"RoyalBlue\">\n",
        "$${2x+8y}$$\n",
        "</font>\n",
        "</p>"
      ]
    },
    {
      "cell_type": "markdown",
      "id": "312f5531-2730-4d7b-a24f-d2ddfd18cbb7",
      "metadata": {
        "id": "312f5531-2730-4d7b-a24f-d2ddfd18cbb7"
      },
      "source": [
        "## ➕ <font color=\"RoyalBlue\">**Matrices**</font>"
      ]
    },
    {
      "cell_type": "markdown",
      "id": "00dcdb06-5b75-460b-b165-d785e00c41f7",
      "metadata": {
        "id": "00dcdb06-5b75-460b-b165-d785e00c41f7"
      },
      "source": [
        "<p>\n",
        "<font color=\"RoyalBlue\">\n",
        "\n",
        "**Para una matriz se usan diferentes comandos en la sintaxis. Para comenzar la matriz se usa ```\\begin{matrix}```.**\n",
        "</font>\n",
        "</p>\n",
        "\n",
        "<p>\n",
        "<font color=\"RoyalBlue\">\n",
        "\n",
        "**Luego los valores de la matriz se separan por dos símbolos ```\\```, y para finalizar se usa ```\\end{matrix}```**\n",
        "</font>\n",
        "</p>\n",
        "\n",
        "<p>\n",
        "<font color=\"RoyalBlue\">\n",
        "\n",
        ">**En el caso de una matriz $3\\times3$**\n",
        "</font>\n",
        "</p>\n",
        "\n",
        ">~~~latex\n",
        "$$\\begin{matrix} 21 & 34 & 23 \\\\ 45 & 32 & 45 \\\\ 23 & 54 & 38\\end{matrix}$$\n",
        "~~~\n",
        "\n",
        "<p>\n",
        "<font color=\"RoyalBlue\">\n",
        "\n",
        "**y queda de la siguiente forma:**\n",
        "\n",
        "$$\\begin{matrix} 21 & 34 & 23 \\\\45 & 32 & 45 \\\\23 & 54 & 38\\end{matrix}$$\n",
        "</font>\n",
        "</p>\n",
        "\n"
      ]
    },
    {
      "cell_type": "markdown",
      "id": "5f49a1da-4f81-494c-b09f-25922ddbaafc",
      "metadata": {
        "id": "5f49a1da-4f81-494c-b09f-25922ddbaafc"
      },
      "source": [
        "<p>\n",
        "<font color=\"RoyalBlue\">\n",
        "\n",
        "**Otro ejemplo de matriz:**\n",
        "</font>\n",
        "</p>\n",
        "\n",
        "\n",
        "<p>\n",
        "<font color=\"RoyalBlue\">\n",
        "\n",
        ">**Para agregar paréntesis a la matriz se usa ```{pmatrix}```**\n",
        "</font>\n",
        "</p>\n",
        "\n",
        "\n",
        ">~~~latex\n",
        "$$A_{m,n} = \\begin{pmatrix} \n",
        "            a_{1,1} & a_{1,2} & \\cdots & a_{1,n} \\\\ \n",
        "            a_{2,1} & a_{2,2} & \\cdots & a_{2,n} \\\\ \n",
        "            \\vdots  & \\vdots  & \\ddots & \\vdots  \\\\ \n",
        "            a_{m,1} & a_{m,2} & \\cdots & a_{m,n} \n",
        "            \\end{pmatrix}$$\n",
        "~~~\n",
        "\n",
        "<p>\n",
        "<font color=\"RoyalBlue\">\n",
        " \n",
        "**y queda de la siguiente forma:**\n",
        "\n",
        "$$A_{m,n} = \\begin{pmatrix} a_{1,1} & a_{1,2} & \\cdots & a_{1,n} \\\\ a_{2,1} & a_{2,2} & \\cdots & a_{2,n} \\\\ \\vdots  & \\vdots  & \\ddots & \\vdots  \\\\ a_{m,1} & a_{m,2} & \\cdots & a_{m,n} \\end{pmatrix}$$\n",
        "</font>\n",
        "</p>\n"
      ]
    },
    {
      "cell_type": "markdown",
      "id": "ecf0b5d3-5201-4705-9de0-b91aa6d45d30",
      "metadata": {
        "id": "ecf0b5d3-5201-4705-9de0-b91aa6d45d30"
      },
      "source": [
        "<p>\n",
        "<font color=\"RoyalBlue\">\n",
        "\n",
        ">**Lo mismo, pero con corchetes, ```{bmatrix}```:**\n",
        "</font>\n",
        "</p>\n",
        "\n",
        ">~~~latex\n",
        "$$A_{m,n} = \\begin{bmatrix} \n",
        "            a_{1,1} & a_{1,2} & \\cdots & a_{1,n} \\\\ \n",
        "            a_{2,1} & a_{2,2} & \\cdots & a_{2,n} \\\\ \n",
        "            \\vdots  & \\vdots  & \\ddots & \\vdots  \\\\ \n",
        "            a_{m,1} & a_{m,2} & \\cdots & a_{m,n} \n",
        "            \\end{bmatrix}$$\n",
        "~~~\n",
        "\n",
        "<p>\n",
        "<font color=\"RoyalBlue\">\n",
        "\n",
        "**y queda de la siguiente forma:**\n",
        "\n",
        "$$A_{m,n} = \\begin{bmatrix} a_{1,1} & a_{1,2} & \\cdots & a_{1,n} \\\\ a_{2,1} & a_{2,2} & \\cdots & a_{2,n} \\\\ \\vdots  & \\vdots  & \\ddots & \\vdots  \\\\ a_{m,1} & a_{m,2} & \\cdots & a_{m,n} \\end{bmatrix}$$\n",
        "</font>\n",
        "</p>\n"
      ]
    },
    {
      "cell_type": "markdown",
      "id": "0b02adec-546a-4c71-9def-ed1e61c6f591",
      "metadata": {
        "id": "0b02adec-546a-4c71-9def-ed1e61c6f591"
      },
      "source": [
        "<p>\n",
        "<font color=\"RoyalBlue\">\n",
        "\n",
        ">**Ahora con llaves ```{Bmatrix}```:**\n",
        "</font>\n",
        "</p>\n",
        "\n",
        ">~~~latex\n",
        "$$A_{m,n} = \\begin{Bmatrix} \n",
        "            a_{1,1} & a_{1,2} & \\cdots & a_{1,n} \\\\ \n",
        "            a_{2,1} & a_{2,2} & \\cdots & a_{2,n} \\\\ \n",
        "            \\vdots  & \\vdots  & \\ddots & \\vdots  \\\\ \n",
        "            a_{m,1} & a_{m,2} & \\cdots & a_{m,n} \n",
        "            \\end{Bmatrix}$$\n",
        "~~~\n",
        "\n",
        "<p>\n",
        "<font color=\"RoyalBlue\">\n",
        "\n",
        "**y queda de la siguiente forma:**\n",
        "\n",
        "$$A_{m,n} = \\begin{Bmatrix} a_{1,1} & a_{1,2} & \\cdots & a_{1,n} \\\\ a_{2,1} & a_{2,2} & \\cdots & a_{2,n} \\\\ \\vdots  & \\vdots  & \\ddots & \\vdots  \\\\ a_{m,1} & a_{m,2} & \\cdots & a_{m,n} \\end{Bmatrix}$$\n",
        "</font>\n",
        "</p>\n"
      ]
    },
    {
      "cell_type": "markdown",
      "id": "4039ccdc-6b6a-4e84-bcde-06804b6d20ea",
      "metadata": {
        "id": "4039ccdc-6b6a-4e84-bcde-06804b6d20ea"
      },
      "source": [
        "<p>\n",
        "<font color=\"RoyalBlue\">\n",
        "\n",
        ">**Con barras ```{vmatrix}```:**\n",
        "</font>\n",
        "</p>\n",
        "\n",
        ">~~~latex\n",
        "$$A_{m,n} = \\begin{vmatrix} \n",
        "            a_{1,1} & a_{1,2} & \\cdots & a_{1,n} \\\\ \n",
        "            a_{2,1} & a_{2,2} & \\cdots & a_{2,n} \\\\ \n",
        "            \\vdots  & \\vdots  & \\ddots & \\vdots  \\\\ \n",
        "            a_{m,1} & a_{m,2} & \\cdots & a_{m,n} \n",
        "            \\end{vmatrix}$$\n",
        "~~~\n",
        "\n",
        "<p>\n",
        "<font color=\"RoyalBlue\">\n",
        "\n",
        "**y queda de la siguiente forma:**\n",
        "\n",
        "$$A_{m,n} = \\begin{vmatrix} a_{1,1} & a_{1,2} & \\cdots & a_{1,n} \\\\ a_{2,1} & a_{2,2} & \\cdots & a_{2,n} \\\\ \\vdots  & \\vdots  & \\ddots & \\vdots  \\\\ a_{m,1} & a_{m,2} & \\cdots & a_{m,n} \\end{vmatrix}$$\n",
        "</font>\n",
        "</p>"
      ]
    },
    {
      "cell_type": "markdown",
      "id": "58b83a36-ee8b-4d20-a7a1-36d40555d8da",
      "metadata": {
        "id": "58b83a36-ee8b-4d20-a7a1-36d40555d8da"
      },
      "source": [
        "<p>\n",
        "<font color=\"RoyalBlue\">\n",
        "\n",
        ">**Con doble barras ```{Vmatrix}```:**\n",
        "</font>\n",
        "</p>\n",
        "\n",
        "\n",
        ">~~~latex\n",
        "$$A_{m,n} = \\begin{Vmatrix} \n",
        "            a_{1,1} & a_{1,2} & \\cdots & a_{1,n} \\\\ \n",
        "            a_{2,1} & a_{2,2} & \\cdots & a_{2,n} \\\\ \n",
        "            \\vdots  & \\vdots  & \\ddots & \\vdots  \\\\ \n",
        "            a_{m,1} & a_{m,2} & \\cdots & a_{m,n} \n",
        "            \\end{Vmatrix}$$\n",
        "~~~\n",
        " \n",
        "<p>\n",
        "<font color=\"RoyalBlue\">\n",
        "\n",
        "**y queda de la siguiente forma:**\n",
        "\n",
        "$$A_{m,n} = \\begin{Vmatrix} a_{1,1} & a_{1,2} & \\cdots & a_{1,n} \\\\ a_{2,1} & a_{2,2} & \\cdots & a_{2,n} \\\\ \\vdots  & \\vdots  & \\ddots & \\vdots  \\\\ a_{m,1} & a_{m,2} & \\cdots & a_{m,n} \\end{Vmatrix}$$\n",
        "</font>\n",
        "</p>"
      ]
    },
    {
      "cell_type": "markdown",
      "source": [
        "## ➕ <font color=\"RoyalBlue\">**Casos especiales de uso...**</font>"
      ],
      "metadata": {
        "id": "_W_QVOSSOE2T"
      },
      "id": "_W_QVOSSOE2T"
    },
    {
      "cell_type": "markdown",
      "source": [
        "### <font color=\"RoyalBlue\">**Texto en ecuaciones... normal, cursiva y negrita...**</font>"
      ],
      "metadata": {
        "id": "nqOcRSsXOJs1"
      },
      "id": "nqOcRSsXOJs1"
    },
    {
      "cell_type": "markdown",
      "source": [
        "~~~\n",
        "$$\\text{La fórmula cuadrática es }x = \\frac {-b \\pm \\sqrt {b^2 - 4ac}}{2a}$$\t\n",
        "~~~\n",
        "\n",
        "$$\\text{La fórmula cuadrática es }x = \\frac {-b \\pm \\sqrt {b^2 - 4ac}}{2a}$$\t\n",
        "\n",
        "~~~\n",
        "$$\\textit{La fórmula cuadrática es }x = \\frac {-b \\pm \\sqrt {b^2 - 4ac}}{2a}$$\t\n",
        "~~~\n",
        "\n",
        "$$\\textit{La fórmula cuadrática es }x = \\frac {-b \\pm \\sqrt {b^2 - 4ac}}{2a}$$\t\n",
        "\n",
        "~~~\n",
        "$$\\textbf{La fórmula cuadrática es }x = \\frac {-b \\pm \\sqrt {b^2 - 4ac}}{2a}$$\t\n",
        "~~~\n",
        "\n",
        "$$\\textbf{La fórmula cuadrática es }x = \\frac {-b \\pm \\sqrt {b^2 - 4ac}}{2a}$$\t\n"
      ],
      "metadata": {
        "id": "nhgUrLsQOPjM"
      },
      "id": "nhgUrLsQOPjM"
    },
    {
      "cell_type": "markdown",
      "source": [
        "### <font color=\"RoyalBlue\">**Otros delimitadores... y sus tamaños...**</font>"
      ],
      "metadata": {
        "id": "3q5HP03wPLct"
      },
      "id": "3q5HP03wPLct"
    },
    {
      "cell_type": "markdown",
      "source": [
        "~~~latex\n",
        "- $|3|$ \n",
        "- $\\|5\\|$  \n",
        "- $\\langle 7 \\rangle$\n",
        "~~~\n",
        "\n",
        "- $|3|$ \n",
        "- $\\|5\\|$  \n",
        "- $\\langle 7 \\rangle$"
      ],
      "metadata": {
        "id": "GUhLEDhBP93-"
      },
      "id": "GUhLEDhBP93-"
    },
    {
      "cell_type": "markdown",
      "source": [
        "<p>\n",
        "<font color=\"RoyalBlue\">\n",
        "\n",
        "**Los paréntesis, llaves y corchetes escritos mediante estos comandos son de tamaño fijo. A veces es necesario insertar estos elementos con un tamaño variable que se adapte a la ecuación. Como pueden ver en el siguiente ejemplo, sería mejor insertar unos paréntesis con la misma altura que la fracción:**\n",
        "\n",
        "</font>\n",
        "</p>"
      ],
      "metadata": {
        "id": "UP3MP2HEVxFF"
      },
      "id": "UP3MP2HEVxFF"
    },
    {
      "cell_type": "markdown",
      "source": [
        "~~~latex\n",
        "$$(\\frac{5}{15})$$\n",
        "~~~\n",
        "$$(\\frac{5}{15})$$\n"
      ],
      "metadata": {
        "id": "Bzu0bjjRVzhQ"
      },
      "id": "Bzu0bjjRVzhQ"
    },
    {
      "cell_type": "markdown",
      "source": [
        "<p>\n",
        "<font color=\"RoyalBlue\">\n",
        "\n",
        "**Para indicar que los paréntesis deben tener una altura variable tenemos que insertar los comandos ```\\left``` y ```\\right``` antes del paréntesis de la izquierda y derecha respectivamente. Por ejemplo:**\n",
        "\n",
        "</font>\n",
        "</p>"
      ],
      "metadata": {
        "id": "kNEuwe7WWXp2"
      },
      "id": "kNEuwe7WWXp2"
    },
    {
      "cell_type": "markdown",
      "source": [
        "~~~latex\n",
        "$$\\left(\\frac{5}{15}\\right)$$\n",
        "~~~\n",
        "$$\\left(\\frac{5}{15}\\right)$$\n"
      ],
      "metadata": {
        "id": "yGvDFsiYWgc2"
      },
      "id": "yGvDFsiYWgc2"
    },
    {
      "cell_type": "markdown",
      "id": "57eb80af-b4cb-43f5-87df-3280ecff796f",
      "metadata": {
        "id": "57eb80af-b4cb-43f5-87df-3280ecff796f"
      },
      "source": [
        "![latex](https://www.latex-project.org/img/latex-project-logo.svg)"
      ]
    },
    {
      "cell_type": "markdown",
      "id": "27edb042-13a0-4e39-939e-e009eae00a9b",
      "metadata": {
        "id": "27edb042-13a0-4e39-939e-e009eae00a9b"
      },
      "source": [
        "---\n",
        "<p>\n",
        "<font color=\"RoyalBlue\">\n",
        "\n",
        "\n",
        "💙 **Hemos llegado al fin de este cuaderno, felicitaciones hemos aprendido un poco de $\\LaTeX{}$ para poder mejorar nuestras celdas de texto, ahora a seguir en el proximo cuaderno...** \n",
        "</font>\n",
        "</p>\n",
        "\n",
        "---"
      ]
    },
    {
      "cell_type": "markdown",
      "source": [
        "![](https://everisgroup.sharepoint.com/sites/BrandCenter/Shared%20Documents/Logo/FUTURE%20AT%20HEART/BLACK/FUTURE-HEARTH.png)"
      ],
      "metadata": {
        "id": "JXvC-5xx3qYA"
      },
      "id": "JXvC-5xx3qYA"
    }
  ],
  "metadata": {
    "kernelspec": {
      "display_name": "Python 3 (ipykernel)",
      "language": "python",
      "name": "python3"
    },
    "language_info": {
      "codemirror_mode": {
        "name": "ipython",
        "version": 3
      },
      "file_extension": ".py",
      "mimetype": "text/x-python",
      "name": "python",
      "nbconvert_exporter": "python",
      "pygments_lexer": "ipython3",
      "version": "3.10.2"
    },
    "colab": {
      "provenance": [],
      "toc_visible": true,
      "include_colab_link": true
    }
  },
  "nbformat": 4,
  "nbformat_minor": 5
}