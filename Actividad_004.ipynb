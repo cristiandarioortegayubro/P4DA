{
  "cells": [
    {
      "cell_type": "markdown",
      "metadata": {
        "id": "view-in-github",
        "colab_type": "text"
      },
      "source": [
        "<a href=\"https://colab.research.google.com/github/cristiandarioortegayubro/P4DA/blob/main/Actividad_004.ipynb\" target=\"_parent\"><img src=\"https://colab.research.google.com/assets/colab-badge.svg\" alt=\"Open In Colab\"/></a>"
      ]
    },
    {
      "cell_type": "markdown",
      "source": [
        "![](https://github.com/cristiandarioortegayubro/P4DA/blob/main/Logo.png?raw=true)"
      ],
      "metadata": {
        "id": "uBHtO3tbUBGA"
      },
      "id": "uBHtO3tbUBGA"
    },
    {
      "cell_type": "markdown",
      "id": "49f579e7",
      "metadata": {
        "id": "49f579e7"
      },
      "source": [
        "![logo](https://www.python.org/static/community_logos/python-powered-h-70x91.png)"
      ]
    },
    {
      "cell_type": "markdown",
      "id": "6e754985-cdd9-4a64-9d7f-fcfbfa78abef",
      "metadata": {
        "id": "6e754985-cdd9-4a64-9d7f-fcfbfa78abef"
      },
      "source": [
        "# ☯ <font color=\"RoyalBlue\">**Actividad 004**</font>"
      ]
    },
    {
      "cell_type": "markdown",
      "source": [
        "## 🔹 **<font color=\"RoyalBlue\">Actualización de la biblioteca requerida</font>**"
      ],
      "metadata": {
        "id": "yv1FmJWMGP4k"
      },
      "id": "yv1FmJWMGP4k"
    },
    {
      "cell_type": "code",
      "source": [
        "!pip install plotly --upgrade "
      ],
      "metadata": {
        "colab": {
          "base_uri": "https://localhost:8080/"
        },
        "id": "2ZIRC-OVGem7",
        "outputId": "3874296e-b504-44b0-aac0-d4f2129fc1cc"
      },
      "id": "2ZIRC-OVGem7",
      "execution_count": null,
      "outputs": [
        {
          "output_type": "stream",
          "name": "stdout",
          "text": [
            "Looking in indexes: https://pypi.org/simple, https://us-python.pkg.dev/colab-wheels/public/simple/\n",
            "Requirement already satisfied: plotly in /usr/local/lib/python3.8/dist-packages (5.13.0)\n",
            "Requirement already satisfied: tenacity>=6.2.0 in /usr/local/lib/python3.8/dist-packages (from plotly) (8.1.0)\n"
          ]
        }
      ]
    },
    {
      "cell_type": "markdown",
      "id": "0704d660-cd44-4b7e-918d-65a4633e915e",
      "metadata": {
        "id": "0704d660-cd44-4b7e-918d-65a4633e915e"
      },
      "source": [
        "## 🔹 <font color=\"RoyalBlue\">**Habilitando bibliotecas requeridas**</font>"
      ]
    },
    {
      "cell_type": "markdown",
      "source": [
        "### **<font color=\"RoyalBlue\">Para análisis de datos</font>**"
      ],
      "metadata": {
        "id": "lgVJWp5BGkt6"
      },
      "id": "lgVJWp5BGkt6"
    },
    {
      "cell_type": "code",
      "source": [
        "# mi código aquí"
      ],
      "metadata": {
        "id": "OB3plSng-CbD"
      },
      "id": "OB3plSng-CbD",
      "execution_count": null,
      "outputs": []
    },
    {
      "cell_type": "markdown",
      "source": [
        "### **<font color=\"RoyalBlue\">Biblioteca gráfica</font>**"
      ],
      "metadata": {
        "id": "21C-oIB_GnNY"
      },
      "id": "21C-oIB_GnNY"
    },
    {
      "cell_type": "code",
      "source": [
        "# mi código aquí"
      ],
      "metadata": {
        "id": "DdRRlgiNGtaw"
      },
      "id": "DdRRlgiNGtaw",
      "execution_count": null,
      "outputs": []
    },
    {
      "cell_type": "markdown",
      "source": [
        "## 🔹 <font color=\"RoyalBlue\">**Salarios**</font>"
      ],
      "metadata": {
        "id": "qPTuQcuA-P4U"
      },
      "id": "qPTuQcuA-P4U"
    },
    {
      "cell_type": "markdown",
      "source": [
        "### <font color=\"RoyalBlue\">**Carga de datos**</font>"
      ],
      "metadata": {
        "id": "TwKm-7at8Vwx"
      },
      "id": "TwKm-7at8Vwx"
    },
    {
      "cell_type": "code",
      "source": [
        "salarios = \"https://raw.githubusercontent.com/cristiandarioortegayubro/P4DA/main/salaries.csv\""
      ],
      "metadata": {
        "id": "b6wWn-lT4ce0"
      },
      "id": "b6wWn-lT4ce0",
      "execution_count": null,
      "outputs": []
    },
    {
      "cell_type": "markdown",
      "source": [
        "### <font color=\"RoyalBlue\">**Creación del dataframe**</font>"
      ],
      "metadata": {
        "id": "UVanB5W18sKi"
      },
      "id": "UVanB5W18sKi"
    },
    {
      "cell_type": "code",
      "source": [
        "# mi código aquí"
      ],
      "metadata": {
        "id": "DJ6wd2kHe3t5"
      },
      "id": "DJ6wd2kHe3t5",
      "execution_count": null,
      "outputs": []
    },
    {
      "cell_type": "markdown",
      "source": [
        "## 🔹 <font color=\"RoyalBlue\">**Actividades con el DataFrame**</font>"
      ],
      "metadata": {
        "id": "u7SgflgMAcqv"
      },
      "id": "u7SgflgMAcqv"
    },
    {
      "cell_type": "markdown",
      "source": [
        "<p>\n",
        "<font color=\"DarkBlue\">\n",
        "\n",
        "> **Dejamos solo los salarios en USD...** \n",
        "</font>\n",
        "</p>\n"
      ],
      "metadata": {
        "id": "jCrAiX2J-aa1"
      },
      "id": "jCrAiX2J-aa1"
    },
    {
      "cell_type": "code",
      "source": [
        "# mi código aquí"
      ],
      "metadata": {
        "id": "6FxnsEqb98ol"
      },
      "id": "6FxnsEqb98ol",
      "execution_count": null,
      "outputs": []
    },
    {
      "cell_type": "markdown",
      "source": [
        "<p>\n",
        "<font color=\"DarkBlue\">\n",
        "\n",
        "> **¿Cuáles son los puestos que estan en el dataframe?...** \n",
        "</font>\n",
        "</p>\n"
      ],
      "metadata": {
        "id": "tatZjRtski7R"
      },
      "id": "tatZjRtski7R"
    },
    {
      "cell_type": "code",
      "source": [
        "# mi código aquí"
      ],
      "metadata": {
        "id": "5chfqt9Rk6Jb"
      },
      "id": "5chfqt9Rk6Jb",
      "execution_count": null,
      "outputs": []
    },
    {
      "cell_type": "markdown",
      "source": [
        "<p>\n",
        "<font color=\"DarkBlue\">\n",
        "\n",
        "> **¿Cuántos son los puestos que estan en el dataframe?...** \n",
        "</font>\n",
        "</p>\n"
      ],
      "metadata": {
        "id": "p1eHJLi_lYVZ"
      },
      "id": "p1eHJLi_lYVZ"
    },
    {
      "cell_type": "code",
      "source": [
        "# mi código aquí"
      ],
      "metadata": {
        "id": "MM_urEGDleH4"
      },
      "id": "MM_urEGDleH4",
      "execution_count": null,
      "outputs": []
    },
    {
      "cell_type": "markdown",
      "source": [
        "<p>\n",
        "<font color=\"DarkBlue\">\n",
        "\n",
        "> **¿Cuántos registros hay de cada puesto en el dataframe?...** \n",
        "</font>\n",
        "</p>\n"
      ],
      "metadata": {
        "id": "mICDDOTilnRv"
      },
      "id": "mICDDOTilnRv"
    },
    {
      "cell_type": "code",
      "source": [
        "# mi código aquí"
      ],
      "metadata": {
        "id": "EEy7UOtilxl9"
      },
      "id": "EEy7UOtilxl9",
      "execution_count": null,
      "outputs": []
    },
    {
      "cell_type": "markdown",
      "source": [
        "## 🔹 <font color=\"RoyalBlue\">**A divertirse... 😃**</font>"
      ],
      "metadata": {
        "id": "T34YSDVbEsEx"
      },
      "id": "T34YSDVbEsEx"
    },
    {
      "cell_type": "markdown",
      "source": [
        "<p>\n",
        "<font color=\"DarkBlue\">\n",
        "\n",
        "> **Hacer un histograma con los tres roles con mas registros** \n",
        "</font>\n",
        "</p>\n"
      ],
      "metadata": {
        "id": "m36nQvskHvGG"
      },
      "id": "m36nQvskHvGG"
    },
    {
      "cell_type": "code",
      "source": [
        "# mi gráfico aquí"
      ],
      "metadata": {
        "id": "AZAwF7FK-laT"
      },
      "id": "AZAwF7FK-laT",
      "execution_count": null,
      "outputs": []
    },
    {
      "cell_type": "markdown",
      "source": [
        "## 🔹 <font color=\"RoyalBlue\">**Un poco más dificil... 😈**</font>"
      ],
      "metadata": {
        "id": "kxzBnscsNgSu"
      },
      "id": "kxzBnscsNgSu"
    },
    {
      "cell_type": "markdown",
      "source": [
        "---\n",
        "<p>\n",
        "<font color=\"RoyalBlue\">\n",
        "\n",
        "👀 **Para los siguientes puntos se puede consultar la documentación técnica de Pandas, la de Plotly, y la que necesiten...** 😃\n",
        "</font>\n",
        "</p>\n",
        "\n",
        "---"
      ],
      "metadata": {
        "id": "wY_DYxOjNxrP"
      },
      "id": "wY_DYxOjNxrP"
    },
    {
      "cell_type": "markdown",
      "source": [
        "<p>\n",
        "<font color=\"DarkBlue\">\n",
        "\n",
        "> **Hacer un gráfico de torta con los tres roles con mas registros...** \n",
        "</font>\n",
        "</p>\n"
      ],
      "metadata": {
        "id": "mN_R2dD5Pf9r"
      },
      "id": "mN_R2dD5Pf9r"
    },
    {
      "cell_type": "code",
      "source": [
        "# mi gráfico aquí"
      ],
      "metadata": {
        "id": "QBFgxNgpUxMe"
      },
      "id": "QBFgxNgpUxMe",
      "execution_count": null,
      "outputs": []
    },
    {
      "cell_type": "markdown",
      "source": [
        "<p>\n",
        "<font color=\"DarkBlue\">\n",
        "\n",
        "> **Hacer un gráfico de torta con los tres roles con mas registros, en virtud de su salario...** \n",
        "</font>\n",
        "</p>\n"
      ],
      "metadata": {
        "id": "DAHGMQa_s3AP"
      },
      "id": "DAHGMQa_s3AP"
    },
    {
      "cell_type": "code",
      "source": [
        "# mi gráfico aquí"
      ],
      "metadata": {
        "id": "sEiSiv3psYBs"
      },
      "id": "sEiSiv3psYBs",
      "execution_count": null,
      "outputs": []
    },
    {
      "cell_type": "markdown",
      "source": [
        "<p>\n",
        "<font color=\"DarkBlue\">\n",
        "\n",
        "> **Hacer un boxplot con los tres roles con mas registros, en virtud de su salario...** \n",
        "</font>\n",
        "</p>\n"
      ],
      "metadata": {
        "id": "DhaWG4VQQwRT"
      },
      "id": "DhaWG4VQQwRT"
    },
    {
      "cell_type": "code",
      "source": [
        "# mi gráfico aquí"
      ],
      "metadata": {
        "id": "Z9QWERB8QxKt"
      },
      "id": "Z9QWERB8QxKt",
      "execution_count": null,
      "outputs": []
    },
    {
      "cell_type": "markdown",
      "source": [
        "<p>\n",
        "<font color=\"DarkBlue\">\n",
        "\n",
        "> **Hacer un análisis estadistico de variables numéricas... los tres roles con mas registros...**\n",
        "</font>\n",
        "</p>\n"
      ],
      "metadata": {
        "id": "Z-2C62WWuwZC"
      },
      "id": "Z-2C62WWuwZC"
    },
    {
      "cell_type": "code",
      "source": [
        "# mi código aquí"
      ],
      "metadata": {
        "id": "o-6VQ8izvDm8"
      },
      "id": "o-6VQ8izvDm8",
      "execution_count": null,
      "outputs": []
    },
    {
      "cell_type": "markdown",
      "source": [
        "<p>\n",
        "<font color=\"Red\">\n",
        "\n",
        "> **Hacer un análisis estadistico de variables no numéricas... los tres roles con mas registros...** 😈😈😈\n",
        "</font>\n",
        "</p>\n"
      ],
      "metadata": {
        "id": "_Zy_HduLfiuq"
      },
      "id": "_Zy_HduLfiuq"
    },
    {
      "cell_type": "code",
      "source": [
        "# mi código aquí"
      ],
      "metadata": {
        "id": "v1a1Ty1evkSX"
      },
      "id": "v1a1Ty1evkSX",
      "execution_count": null,
      "outputs": []
    },
    {
      "cell_type": "markdown",
      "source": [
        "<p>\n",
        "<font color=\"Red\">\n",
        "\n",
        "> **Hacer un gráfico que crea relevante y en una celda de texto, indicar el por qué de la selección...** 😈😈😈\n",
        "</font>\n",
        "</p>\n"
      ],
      "metadata": {
        "id": "M2hPEixVxe2X"
      },
      "id": "M2hPEixVxe2X"
    },
    {
      "cell_type": "code",
      "source": [
        "# mi gráfico aquí"
      ],
      "metadata": {
        "id": "ULliO7doxqHD"
      },
      "id": "ULliO7doxqHD",
      "execution_count": null,
      "outputs": []
    },
    {
      "cell_type": "markdown",
      "id": "db7a81dd-0eb5-4391-b855-4ab7a3ed5d06",
      "metadata": {
        "id": "db7a81dd-0eb5-4391-b855-4ab7a3ed5d06"
      },
      "source": [
        "---\n",
        "<p>\n",
        "<font color=\"RoyalBlue\">\n",
        "\n",
        "💙 💙 💙 **Hemos concluido con esta actividad, nos encontraremos en el proximo cuaderno, buen finde...** \n",
        "</font>\n",
        "</p>\n",
        "\n",
        "---"
      ]
    },
    {
      "cell_type": "markdown",
      "id": "cc2cb851-466f-40ca-bc0d-3341d7d0553c",
      "metadata": {
        "id": "cc2cb851-466f-40ca-bc0d-3341d7d0553c"
      },
      "source": [
        "# 😀"
      ]
    }
  ],
  "metadata": {
    "kernelspec": {
      "display_name": "Python 3 (ipykernel)",
      "language": "python",
      "name": "python3"
    },
    "language_info": {
      "codemirror_mode": {
        "name": "ipython",
        "version": 3
      },
      "file_extension": ".py",
      "mimetype": "text/x-python",
      "name": "python",
      "nbconvert_exporter": "python",
      "pygments_lexer": "ipython3",
      "version": "3.10.2"
    },
    "toc-autonumbering": false,
    "toc-showmarkdowntxt": false,
    "colab": {
      "provenance": [],
      "collapsed_sections": [
        "87a2fb36-8011-44e0-a07a-19d19d7e7d15"
      ],
      "toc_visible": true,
      "include_colab_link": true
    }
  },
  "nbformat": 4,
  "nbformat_minor": 5
}