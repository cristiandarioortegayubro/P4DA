{
  "cells": [
    {
      "cell_type": "markdown",
      "metadata": {
        "id": "view-in-github",
        "colab_type": "text"
      },
      "source": [
        "<a href=\"https://colab.research.google.com/github/cristiandarioortegayubro/P4DA/blob/main/Actividad_004_resuelta.ipynb\" target=\"_parent\"><img src=\"https://colab.research.google.com/assets/colab-badge.svg\" alt=\"Open In Colab\"/></a>"
      ]
    },
    {
      "cell_type": "markdown",
      "source": [
        "![](https://github.com/cristiandarioortegayubro/P4DA/blob/main/Logo.png?raw=true)"
      ],
      "metadata": {
        "id": "uBHtO3tbUBGA"
      },
      "id": "uBHtO3tbUBGA"
    },
    {
      "cell_type": "markdown",
      "id": "49f579e7",
      "metadata": {
        "id": "49f579e7"
      },
      "source": [
        "![logo](https://www.python.org/static/community_logos/python-powered-h-70x91.png)"
      ]
    },
    {
      "cell_type": "markdown",
      "id": "6e754985-cdd9-4a64-9d7f-fcfbfa78abef",
      "metadata": {
        "id": "6e754985-cdd9-4a64-9d7f-fcfbfa78abef"
      },
      "source": [
        "# ☯ <font color=\"RoyalBlue\">**Actividad 004**</font>"
      ]
    },
    {
      "cell_type": "markdown",
      "source": [
        "## 🔹 **<font color=\"RoyalBlue\">Actualización de la biblioteca requerida</font>**"
      ],
      "metadata": {
        "id": "yv1FmJWMGP4k"
      },
      "id": "yv1FmJWMGP4k"
    },
    {
      "cell_type": "code",
      "source": [
        "!pip install plotly --upgrade "
      ],
      "metadata": {
        "colab": {
          "base_uri": "https://localhost:8080/"
        },
        "id": "2ZIRC-OVGem7",
        "outputId": "3874296e-b504-44b0-aac0-d4f2129fc1cc"
      },
      "id": "2ZIRC-OVGem7",
      "execution_count": 1,
      "outputs": [
        {
          "output_type": "stream",
          "name": "stdout",
          "text": [
            "Looking in indexes: https://pypi.org/simple, https://us-python.pkg.dev/colab-wheels/public/simple/\n",
            "Requirement already satisfied: plotly in /usr/local/lib/python3.8/dist-packages (5.13.0)\n",
            "Requirement already satisfied: tenacity>=6.2.0 in /usr/local/lib/python3.8/dist-packages (from plotly) (8.1.0)\n"
          ]
        }
      ]
    },
    {
      "cell_type": "markdown",
      "id": "0704d660-cd44-4b7e-918d-65a4633e915e",
      "metadata": {
        "id": "0704d660-cd44-4b7e-918d-65a4633e915e"
      },
      "source": [
        "## 🔹 <font color=\"RoyalBlue\">**Habilitando bibliotecas requeridas**</font>"
      ]
    },
    {
      "cell_type": "markdown",
      "source": [
        "### **<font color=\"RoyalBlue\">Para análisis de datos</font>**"
      ],
      "metadata": {
        "id": "lgVJWp5BGkt6"
      },
      "id": "lgVJWp5BGkt6"
    },
    {
      "cell_type": "code",
      "source": [
        "import pandas as pd"
      ],
      "metadata": {
        "id": "OB3plSng-CbD"
      },
      "id": "OB3plSng-CbD",
      "execution_count": 2,
      "outputs": []
    },
    {
      "cell_type": "markdown",
      "source": [
        "### **<font color=\"RoyalBlue\">Biblioteca gráfica</font>**"
      ],
      "metadata": {
        "id": "21C-oIB_GnNY"
      },
      "id": "21C-oIB_GnNY"
    },
    {
      "cell_type": "code",
      "source": [
        "import plotly.express as px"
      ],
      "metadata": {
        "id": "DdRRlgiNGtaw"
      },
      "id": "DdRRlgiNGtaw",
      "execution_count": 3,
      "outputs": []
    },
    {
      "cell_type": "markdown",
      "source": [
        "## 🔹 <font color=\"RoyalBlue\">**Salarios**</font>"
      ],
      "metadata": {
        "id": "qPTuQcuA-P4U"
      },
      "id": "qPTuQcuA-P4U"
    },
    {
      "cell_type": "markdown",
      "source": [
        "### <font color=\"RoyalBlue\">**Carga de datos**</font>"
      ],
      "metadata": {
        "id": "TwKm-7at8Vwx"
      },
      "id": "TwKm-7at8Vwx"
    },
    {
      "cell_type": "code",
      "source": [
        "salarios = \"https://raw.githubusercontent.com/cristiandarioortegayubro/P4DA/main/salaries.csv\""
      ],
      "metadata": {
        "id": "b6wWn-lT4ce0"
      },
      "id": "b6wWn-lT4ce0",
      "execution_count": 13,
      "outputs": []
    },
    {
      "cell_type": "markdown",
      "source": [
        "### <font color=\"RoyalBlue\">**Creación del dataframe**</font>"
      ],
      "metadata": {
        "id": "UVanB5W18sKi"
      },
      "id": "UVanB5W18sKi"
    },
    {
      "cell_type": "code",
      "source": [
        "df = pd.read_csv(salarios)\n",
        "df"
      ],
      "metadata": {
        "colab": {
          "base_uri": "https://localhost:8080/",
          "height": 687
        },
        "id": "DJ6wd2kHe3t5",
        "outputId": "a9e866ae-48b6-4655-8115-f74cdb461233"
      },
      "id": "DJ6wd2kHe3t5",
      "execution_count": 14,
      "outputs": [
        {
          "output_type": "execute_result",
          "data": {
            "text/plain": [
              "     work_year experience_level employment_type                   job_title  \\\n",
              "0         2020               MI              FT              Data Scientist   \n",
              "1         2020               SE              FT  Machine Learning Scientist   \n",
              "2         2020               SE              FT           Big Data Engineer   \n",
              "3         2020               MI              FT        Product Data Analyst   \n",
              "4         2020               SE              FT   Machine Learning Engineer   \n",
              "..         ...              ...             ...                         ...   \n",
              "602       2022               SE              FT               Data Engineer   \n",
              "603       2022               SE              FT               Data Engineer   \n",
              "604       2022               SE              FT                Data Analyst   \n",
              "605       2022               SE              FT                Data Analyst   \n",
              "606       2022               MI              FT                AI Scientist   \n",
              "\n",
              "     salary salary_currency  salary_in_usd employee_residence  remote_ratio  \\\n",
              "0     70000             EUR          79833                 DE             0   \n",
              "1    260000             USD         260000                 JP             0   \n",
              "2     85000             GBP         109024                 GB            50   \n",
              "3     20000             USD          20000                 HN             0   \n",
              "4    150000             USD         150000                 US            50   \n",
              "..      ...             ...            ...                ...           ...   \n",
              "602  154000             USD         154000                 US           100   \n",
              "603  126000             USD         126000                 US           100   \n",
              "604  129000             USD         129000                 US             0   \n",
              "605  150000             USD         150000                 US           100   \n",
              "606  200000             USD         200000                 IN           100   \n",
              "\n",
              "    company_location company_size  \n",
              "0                 DE            L  \n",
              "1                 JP            S  \n",
              "2                 GB            M  \n",
              "3                 HN            S  \n",
              "4                 US            L  \n",
              "..               ...          ...  \n",
              "602               US            M  \n",
              "603               US            M  \n",
              "604               US            M  \n",
              "605               US            M  \n",
              "606               US            L  \n",
              "\n",
              "[607 rows x 11 columns]"
            ],
            "text/html": [
              "\n",
              "  <div id=\"df-ed81d260-fbee-4787-af89-8ae45d173bc7\">\n",
              "    <div class=\"colab-df-container\">\n",
              "      <div>\n",
              "<style scoped>\n",
              "    .dataframe tbody tr th:only-of-type {\n",
              "        vertical-align: middle;\n",
              "    }\n",
              "\n",
              "    .dataframe tbody tr th {\n",
              "        vertical-align: top;\n",
              "    }\n",
              "\n",
              "    .dataframe thead th {\n",
              "        text-align: right;\n",
              "    }\n",
              "</style>\n",
              "<table border=\"1\" class=\"dataframe\">\n",
              "  <thead>\n",
              "    <tr style=\"text-align: right;\">\n",
              "      <th></th>\n",
              "      <th>work_year</th>\n",
              "      <th>experience_level</th>\n",
              "      <th>employment_type</th>\n",
              "      <th>job_title</th>\n",
              "      <th>salary</th>\n",
              "      <th>salary_currency</th>\n",
              "      <th>salary_in_usd</th>\n",
              "      <th>employee_residence</th>\n",
              "      <th>remote_ratio</th>\n",
              "      <th>company_location</th>\n",
              "      <th>company_size</th>\n",
              "    </tr>\n",
              "  </thead>\n",
              "  <tbody>\n",
              "    <tr>\n",
              "      <th>0</th>\n",
              "      <td>2020</td>\n",
              "      <td>MI</td>\n",
              "      <td>FT</td>\n",
              "      <td>Data Scientist</td>\n",
              "      <td>70000</td>\n",
              "      <td>EUR</td>\n",
              "      <td>79833</td>\n",
              "      <td>DE</td>\n",
              "      <td>0</td>\n",
              "      <td>DE</td>\n",
              "      <td>L</td>\n",
              "    </tr>\n",
              "    <tr>\n",
              "      <th>1</th>\n",
              "      <td>2020</td>\n",
              "      <td>SE</td>\n",
              "      <td>FT</td>\n",
              "      <td>Machine Learning Scientist</td>\n",
              "      <td>260000</td>\n",
              "      <td>USD</td>\n",
              "      <td>260000</td>\n",
              "      <td>JP</td>\n",
              "      <td>0</td>\n",
              "      <td>JP</td>\n",
              "      <td>S</td>\n",
              "    </tr>\n",
              "    <tr>\n",
              "      <th>2</th>\n",
              "      <td>2020</td>\n",
              "      <td>SE</td>\n",
              "      <td>FT</td>\n",
              "      <td>Big Data Engineer</td>\n",
              "      <td>85000</td>\n",
              "      <td>GBP</td>\n",
              "      <td>109024</td>\n",
              "      <td>GB</td>\n",
              "      <td>50</td>\n",
              "      <td>GB</td>\n",
              "      <td>M</td>\n",
              "    </tr>\n",
              "    <tr>\n",
              "      <th>3</th>\n",
              "      <td>2020</td>\n",
              "      <td>MI</td>\n",
              "      <td>FT</td>\n",
              "      <td>Product Data Analyst</td>\n",
              "      <td>20000</td>\n",
              "      <td>USD</td>\n",
              "      <td>20000</td>\n",
              "      <td>HN</td>\n",
              "      <td>0</td>\n",
              "      <td>HN</td>\n",
              "      <td>S</td>\n",
              "    </tr>\n",
              "    <tr>\n",
              "      <th>4</th>\n",
              "      <td>2020</td>\n",
              "      <td>SE</td>\n",
              "      <td>FT</td>\n",
              "      <td>Machine Learning Engineer</td>\n",
              "      <td>150000</td>\n",
              "      <td>USD</td>\n",
              "      <td>150000</td>\n",
              "      <td>US</td>\n",
              "      <td>50</td>\n",
              "      <td>US</td>\n",
              "      <td>L</td>\n",
              "    </tr>\n",
              "    <tr>\n",
              "      <th>...</th>\n",
              "      <td>...</td>\n",
              "      <td>...</td>\n",
              "      <td>...</td>\n",
              "      <td>...</td>\n",
              "      <td>...</td>\n",
              "      <td>...</td>\n",
              "      <td>...</td>\n",
              "      <td>...</td>\n",
              "      <td>...</td>\n",
              "      <td>...</td>\n",
              "      <td>...</td>\n",
              "    </tr>\n",
              "    <tr>\n",
              "      <th>602</th>\n",
              "      <td>2022</td>\n",
              "      <td>SE</td>\n",
              "      <td>FT</td>\n",
              "      <td>Data Engineer</td>\n",
              "      <td>154000</td>\n",
              "      <td>USD</td>\n",
              "      <td>154000</td>\n",
              "      <td>US</td>\n",
              "      <td>100</td>\n",
              "      <td>US</td>\n",
              "      <td>M</td>\n",
              "    </tr>\n",
              "    <tr>\n",
              "      <th>603</th>\n",
              "      <td>2022</td>\n",
              "      <td>SE</td>\n",
              "      <td>FT</td>\n",
              "      <td>Data Engineer</td>\n",
              "      <td>126000</td>\n",
              "      <td>USD</td>\n",
              "      <td>126000</td>\n",
              "      <td>US</td>\n",
              "      <td>100</td>\n",
              "      <td>US</td>\n",
              "      <td>M</td>\n",
              "    </tr>\n",
              "    <tr>\n",
              "      <th>604</th>\n",
              "      <td>2022</td>\n",
              "      <td>SE</td>\n",
              "      <td>FT</td>\n",
              "      <td>Data Analyst</td>\n",
              "      <td>129000</td>\n",
              "      <td>USD</td>\n",
              "      <td>129000</td>\n",
              "      <td>US</td>\n",
              "      <td>0</td>\n",
              "      <td>US</td>\n",
              "      <td>M</td>\n",
              "    </tr>\n",
              "    <tr>\n",
              "      <th>605</th>\n",
              "      <td>2022</td>\n",
              "      <td>SE</td>\n",
              "      <td>FT</td>\n",
              "      <td>Data Analyst</td>\n",
              "      <td>150000</td>\n",
              "      <td>USD</td>\n",
              "      <td>150000</td>\n",
              "      <td>US</td>\n",
              "      <td>100</td>\n",
              "      <td>US</td>\n",
              "      <td>M</td>\n",
              "    </tr>\n",
              "    <tr>\n",
              "      <th>606</th>\n",
              "      <td>2022</td>\n",
              "      <td>MI</td>\n",
              "      <td>FT</td>\n",
              "      <td>AI Scientist</td>\n",
              "      <td>200000</td>\n",
              "      <td>USD</td>\n",
              "      <td>200000</td>\n",
              "      <td>IN</td>\n",
              "      <td>100</td>\n",
              "      <td>US</td>\n",
              "      <td>L</td>\n",
              "    </tr>\n",
              "  </tbody>\n",
              "</table>\n",
              "<p>607 rows × 11 columns</p>\n",
              "</div>\n",
              "      <button class=\"colab-df-convert\" onclick=\"convertToInteractive('df-ed81d260-fbee-4787-af89-8ae45d173bc7')\"\n",
              "              title=\"Convert this dataframe to an interactive table.\"\n",
              "              style=\"display:none;\">\n",
              "        \n",
              "  <svg xmlns=\"http://www.w3.org/2000/svg\" height=\"24px\"viewBox=\"0 0 24 24\"\n",
              "       width=\"24px\">\n",
              "    <path d=\"M0 0h24v24H0V0z\" fill=\"none\"/>\n",
              "    <path d=\"M18.56 5.44l.94 2.06.94-2.06 2.06-.94-2.06-.94-.94-2.06-.94 2.06-2.06.94zm-11 1L8.5 8.5l.94-2.06 2.06-.94-2.06-.94L8.5 2.5l-.94 2.06-2.06.94zm10 10l.94 2.06.94-2.06 2.06-.94-2.06-.94-.94-2.06-.94 2.06-2.06.94z\"/><path d=\"M17.41 7.96l-1.37-1.37c-.4-.4-.92-.59-1.43-.59-.52 0-1.04.2-1.43.59L10.3 9.45l-7.72 7.72c-.78.78-.78 2.05 0 2.83L4 21.41c.39.39.9.59 1.41.59.51 0 1.02-.2 1.41-.59l7.78-7.78 2.81-2.81c.8-.78.8-2.07 0-2.86zM5.41 20L4 18.59l7.72-7.72 1.47 1.35L5.41 20z\"/>\n",
              "  </svg>\n",
              "      </button>\n",
              "      \n",
              "  <style>\n",
              "    .colab-df-container {\n",
              "      display:flex;\n",
              "      flex-wrap:wrap;\n",
              "      gap: 12px;\n",
              "    }\n",
              "\n",
              "    .colab-df-convert {\n",
              "      background-color: #E8F0FE;\n",
              "      border: none;\n",
              "      border-radius: 50%;\n",
              "      cursor: pointer;\n",
              "      display: none;\n",
              "      fill: #1967D2;\n",
              "      height: 32px;\n",
              "      padding: 0 0 0 0;\n",
              "      width: 32px;\n",
              "    }\n",
              "\n",
              "    .colab-df-convert:hover {\n",
              "      background-color: #E2EBFA;\n",
              "      box-shadow: 0px 1px 2px rgba(60, 64, 67, 0.3), 0px 1px 3px 1px rgba(60, 64, 67, 0.15);\n",
              "      fill: #174EA6;\n",
              "    }\n",
              "\n",
              "    [theme=dark] .colab-df-convert {\n",
              "      background-color: #3B4455;\n",
              "      fill: #D2E3FC;\n",
              "    }\n",
              "\n",
              "    [theme=dark] .colab-df-convert:hover {\n",
              "      background-color: #434B5C;\n",
              "      box-shadow: 0px 1px 3px 1px rgba(0, 0, 0, 0.15);\n",
              "      filter: drop-shadow(0px 1px 2px rgba(0, 0, 0, 0.3));\n",
              "      fill: #FFFFFF;\n",
              "    }\n",
              "  </style>\n",
              "\n",
              "      <script>\n",
              "        const buttonEl =\n",
              "          document.querySelector('#df-ed81d260-fbee-4787-af89-8ae45d173bc7 button.colab-df-convert');\n",
              "        buttonEl.style.display =\n",
              "          google.colab.kernel.accessAllowed ? 'block' : 'none';\n",
              "\n",
              "        async function convertToInteractive(key) {\n",
              "          const element = document.querySelector('#df-ed81d260-fbee-4787-af89-8ae45d173bc7');\n",
              "          const dataTable =\n",
              "            await google.colab.kernel.invokeFunction('convertToInteractive',\n",
              "                                                     [key], {});\n",
              "          if (!dataTable) return;\n",
              "\n",
              "          const docLinkHtml = 'Like what you see? Visit the ' +\n",
              "            '<a target=\"_blank\" href=https://colab.research.google.com/notebooks/data_table.ipynb>data table notebook</a>'\n",
              "            + ' to learn more about interactive tables.';\n",
              "          element.innerHTML = '';\n",
              "          dataTable['output_type'] = 'display_data';\n",
              "          await google.colab.output.renderOutput(dataTable, element);\n",
              "          const docLink = document.createElement('div');\n",
              "          docLink.innerHTML = docLinkHtml;\n",
              "          element.appendChild(docLink);\n",
              "        }\n",
              "      </script>\n",
              "    </div>\n",
              "  </div>\n",
              "  "
            ]
          },
          "metadata": {},
          "execution_count": 14
        }
      ]
    },
    {
      "cell_type": "markdown",
      "source": [
        "## 🔹 <font color=\"RoyalBlue\">**Actividades con el DataFrame**</font>"
      ],
      "metadata": {
        "id": "u7SgflgMAcqv"
      },
      "id": "u7SgflgMAcqv"
    },
    {
      "cell_type": "markdown",
      "source": [
        "<p>\n",
        "<font color=\"DarkBlue\">\n",
        "\n",
        "> **Dejamos solo los salarios en USD...** \n",
        "</font>\n",
        "</p>\n"
      ],
      "metadata": {
        "id": "jCrAiX2J-aa1"
      },
      "id": "jCrAiX2J-aa1"
    },
    {
      "cell_type": "code",
      "source": [
        "df.drop(columns=['salary','salary_currency'], inplace=True)"
      ],
      "metadata": {
        "id": "6FxnsEqb98ol"
      },
      "id": "6FxnsEqb98ol",
      "execution_count": 15,
      "outputs": []
    },
    {
      "cell_type": "code",
      "source": [
        "df.info()"
      ],
      "metadata": {
        "colab": {
          "base_uri": "https://localhost:8080/"
        },
        "id": "KCIqSF9Xj34L",
        "outputId": "5a157d5f-af2f-490f-d918-098b04b2884a"
      },
      "id": "KCIqSF9Xj34L",
      "execution_count": 16,
      "outputs": [
        {
          "output_type": "stream",
          "name": "stdout",
          "text": [
            "<class 'pandas.core.frame.DataFrame'>\n",
            "RangeIndex: 607 entries, 0 to 606\n",
            "Data columns (total 9 columns):\n",
            " #   Column              Non-Null Count  Dtype \n",
            "---  ------              --------------  ----- \n",
            " 0   work_year           607 non-null    int64 \n",
            " 1   experience_level    607 non-null    object\n",
            " 2   employment_type     607 non-null    object\n",
            " 3   job_title           607 non-null    object\n",
            " 4   salary_in_usd       607 non-null    int64 \n",
            " 5   employee_residence  607 non-null    object\n",
            " 6   remote_ratio        607 non-null    int64 \n",
            " 7   company_location    607 non-null    object\n",
            " 8   company_size        607 non-null    object\n",
            "dtypes: int64(3), object(6)\n",
            "memory usage: 42.8+ KB\n"
          ]
        }
      ]
    },
    {
      "cell_type": "markdown",
      "source": [
        "<p>\n",
        "<font color=\"DarkBlue\">\n",
        "\n",
        "> **¿Cuáles son los puestos que estan en el dataframe?...** \n",
        "</font>\n",
        "</p>\n"
      ],
      "metadata": {
        "id": "tatZjRtski7R"
      },
      "id": "tatZjRtski7R"
    },
    {
      "cell_type": "code",
      "source": [
        "df.job_title.unique()"
      ],
      "metadata": {
        "colab": {
          "base_uri": "https://localhost:8080/"
        },
        "id": "5chfqt9Rk6Jb",
        "outputId": "97c7a6e8-cd60-445a-c1d7-0e8faf6a7d17"
      },
      "id": "5chfqt9Rk6Jb",
      "execution_count": 17,
      "outputs": [
        {
          "output_type": "execute_result",
          "data": {
            "text/plain": [
              "array(['Data Scientist', 'Machine Learning Scientist',\n",
              "       'Big Data Engineer', 'Product Data Analyst',\n",
              "       'Machine Learning Engineer', 'Data Analyst', 'Lead Data Scientist',\n",
              "       'Business Data Analyst', 'Lead Data Engineer', 'Lead Data Analyst',\n",
              "       'Data Engineer', 'Data Science Consultant', 'BI Data Analyst',\n",
              "       'Director of Data Science', 'Research Scientist',\n",
              "       'Machine Learning Manager', 'Data Engineering Manager',\n",
              "       'Machine Learning Infrastructure Engineer', 'ML Engineer',\n",
              "       'AI Scientist', 'Computer Vision Engineer',\n",
              "       'Principal Data Scientist', 'Data Science Manager', 'Head of Data',\n",
              "       '3D Computer Vision Researcher', 'Data Analytics Engineer',\n",
              "       'Applied Data Scientist', 'Marketing Data Analyst',\n",
              "       'Cloud Data Engineer', 'Financial Data Analyst',\n",
              "       'Computer Vision Software Engineer',\n",
              "       'Director of Data Engineering', 'Data Science Engineer',\n",
              "       'Principal Data Engineer', 'Machine Learning Developer',\n",
              "       'Applied Machine Learning Scientist', 'Data Analytics Manager',\n",
              "       'Head of Data Science', 'Data Specialist', 'Data Architect',\n",
              "       'Finance Data Analyst', 'Principal Data Analyst',\n",
              "       'Big Data Architect', 'Staff Data Scientist', 'Analytics Engineer',\n",
              "       'ETL Developer', 'Head of Machine Learning', 'NLP Engineer',\n",
              "       'Lead Machine Learning Engineer', 'Data Analytics Lead'],\n",
              "      dtype=object)"
            ]
          },
          "metadata": {},
          "execution_count": 17
        }
      ]
    },
    {
      "cell_type": "markdown",
      "source": [
        "<p>\n",
        "<font color=\"DarkBlue\">\n",
        "\n",
        "> **¿Cuántos son los puestos que estan en el dataframe?...** \n",
        "</font>\n",
        "</p>\n"
      ],
      "metadata": {
        "id": "p1eHJLi_lYVZ"
      },
      "id": "p1eHJLi_lYVZ"
    },
    {
      "cell_type": "code",
      "source": [
        "df.job_title.nunique()"
      ],
      "metadata": {
        "colab": {
          "base_uri": "https://localhost:8080/"
        },
        "id": "MM_urEGDleH4",
        "outputId": "b0626086-cf67-41f8-b6e2-b816c8f16d8e"
      },
      "id": "MM_urEGDleH4",
      "execution_count": 18,
      "outputs": [
        {
          "output_type": "execute_result",
          "data": {
            "text/plain": [
              "50"
            ]
          },
          "metadata": {},
          "execution_count": 18
        }
      ]
    },
    {
      "cell_type": "markdown",
      "source": [
        "<p>\n",
        "<font color=\"DarkBlue\">\n",
        "\n",
        "> **¿Cuántos registros hay de cada puesto en el dataframe?...** \n",
        "</font>\n",
        "</p>\n"
      ],
      "metadata": {
        "id": "mICDDOTilnRv"
      },
      "id": "mICDDOTilnRv"
    },
    {
      "cell_type": "code",
      "source": [
        "df.job_title.value_counts()"
      ],
      "metadata": {
        "colab": {
          "base_uri": "https://localhost:8080/"
        },
        "id": "EEy7UOtilxl9",
        "outputId": "ecad191c-6f0d-4b00-96c6-cf4bdebb2b85"
      },
      "id": "EEy7UOtilxl9",
      "execution_count": 19,
      "outputs": [
        {
          "output_type": "execute_result",
          "data": {
            "text/plain": [
              "Data Scientist                              143\n",
              "Data Engineer                               132\n",
              "Data Analyst                                 97\n",
              "Machine Learning Engineer                    41\n",
              "Research Scientist                           16\n",
              "Data Science Manager                         12\n",
              "Data Architect                               11\n",
              "Big Data Engineer                             8\n",
              "Machine Learning Scientist                    8\n",
              "Principal Data Scientist                      7\n",
              "AI Scientist                                  7\n",
              "Data Science Consultant                       7\n",
              "Director of Data Science                      7\n",
              "Data Analytics Manager                        7\n",
              "ML Engineer                                   6\n",
              "Computer Vision Engineer                      6\n",
              "BI Data Analyst                               6\n",
              "Lead Data Engineer                            6\n",
              "Data Engineering Manager                      5\n",
              "Business Data Analyst                         5\n",
              "Head of Data                                  5\n",
              "Applied Data Scientist                        5\n",
              "Applied Machine Learning Scientist            4\n",
              "Head of Data Science                          4\n",
              "Analytics Engineer                            4\n",
              "Data Analytics Engineer                       4\n",
              "Machine Learning Developer                    3\n",
              "Machine Learning Infrastructure Engineer      3\n",
              "Lead Data Scientist                           3\n",
              "Computer Vision Software Engineer             3\n",
              "Lead Data Analyst                             3\n",
              "Data Science Engineer                         3\n",
              "Principal Data Engineer                       3\n",
              "Principal Data Analyst                        2\n",
              "ETL Developer                                 2\n",
              "Product Data Analyst                          2\n",
              "Director of Data Engineering                  2\n",
              "Financial Data Analyst                        2\n",
              "Cloud Data Engineer                           2\n",
              "Lead Machine Learning Engineer                1\n",
              "NLP Engineer                                  1\n",
              "Head of Machine Learning                      1\n",
              "3D Computer Vision Researcher                 1\n",
              "Data Specialist                               1\n",
              "Staff Data Scientist                          1\n",
              "Big Data Architect                            1\n",
              "Finance Data Analyst                          1\n",
              "Marketing Data Analyst                        1\n",
              "Machine Learning Manager                      1\n",
              "Data Analytics Lead                           1\n",
              "Name: job_title, dtype: int64"
            ]
          },
          "metadata": {},
          "execution_count": 19
        }
      ]
    },
    {
      "cell_type": "markdown",
      "source": [
        "## 🔹 <font color=\"RoyalBlue\">**A divertirse... 😃**</font>"
      ],
      "metadata": {
        "id": "T34YSDVbEsEx"
      },
      "id": "T34YSDVbEsEx"
    },
    {
      "cell_type": "markdown",
      "source": [
        "<p>\n",
        "<font color=\"DarkBlue\">\n",
        "\n",
        "> **Hacer un histograma con los tres roles con mas registros** \n",
        "</font>\n",
        "</p>\n"
      ],
      "metadata": {
        "id": "m36nQvskHvGG"
      },
      "id": "m36nQvskHvGG"
    },
    {
      "cell_type": "code",
      "source": [
        "px.histogram(df.query(\"job_title in ['Data Scientist', 'Data Engineer','Data Analyst']\"),\n",
        "             x=\"job_title\",\n",
        "             template = \"gridon\",\n",
        "             labels = {\"job_title\":\"Roles\"},\n",
        "             color = \"job_title\")"
      ],
      "metadata": {
        "id": "AZAwF7FK-laT",
        "colab": {
          "base_uri": "https://localhost:8080/",
          "height": 542
        },
        "outputId": "537bf6d2-82c7-438d-8110-d8b64216c467"
      },
      "id": "AZAwF7FK-laT",
      "execution_count": 25,
      "outputs": [
        {
          "output_type": "display_data",
          "data": {
            "text/html": [
              "<html>\n",
              "<head><meta charset=\"utf-8\" /></head>\n",
              "<body>\n",
              "    <div>            <script src=\"https://cdnjs.cloudflare.com/ajax/libs/mathjax/2.7.5/MathJax.js?config=TeX-AMS-MML_SVG\"></script><script type=\"text/javascript\">if (window.MathJax && window.MathJax.Hub && window.MathJax.Hub.Config) {window.MathJax.Hub.Config({SVG: {font: \"STIX-Web\"}});}</script>                <script type=\"text/javascript\">window.PlotlyConfig = {MathJaxConfig: 'local'};</script>\n",
              "        <script src=\"https://cdn.plot.ly/plotly-2.18.0.min.js\"></script>                <div id=\"339f0410-2ab4-4d31-b44a-f6fff51aaead\" class=\"plotly-graph-div\" style=\"height:525px; width:100%;\"></div>            <script type=\"text/javascript\">                                    window.PLOTLYENV=window.PLOTLYENV || {};                                    if (document.getElementById(\"339f0410-2ab4-4d31-b44a-f6fff51aaead\")) {                    Plotly.newPlot(                        \"339f0410-2ab4-4d31-b44a-f6fff51aaead\",                        [{\"alignmentgroup\":\"True\",\"bingroup\":\"x\",\"hovertemplate\":\"Roles=%{x}<br>count=%{y}<extra></extra>\",\"legendgroup\":\"Data Scientist\",\"marker\":{\"color\":\"#1F77B4\",\"pattern\":{\"shape\":\"\"}},\"name\":\"Data Scientist\",\"offsetgroup\":\"Data Scientist\",\"orientation\":\"v\",\"showlegend\":true,\"x\":[\"Data Scientist\",\"Data Scientist\",\"Data Scientist\",\"Data Scientist\",\"Data Scientist\",\"Data Scientist\",\"Data Scientist\",\"Data Scientist\",\"Data Scientist\",\"Data Scientist\",\"Data Scientist\",\"Data Scientist\",\"Data Scientist\",\"Data Scientist\",\"Data Scientist\",\"Data Scientist\",\"Data Scientist\",\"Data Scientist\",\"Data Scientist\",\"Data Scientist\",\"Data Scientist\",\"Data Scientist\",\"Data Scientist\",\"Data Scientist\",\"Data Scientist\",\"Data Scientist\",\"Data Scientist\",\"Data Scientist\",\"Data Scientist\",\"Data Scientist\",\"Data Scientist\",\"Data Scientist\",\"Data Scientist\",\"Data Scientist\",\"Data Scientist\",\"Data Scientist\",\"Data Scientist\",\"Data Scientist\",\"Data Scientist\",\"Data Scientist\",\"Data Scientist\",\"Data Scientist\",\"Data Scientist\",\"Data Scientist\",\"Data Scientist\",\"Data Scientist\",\"Data Scientist\",\"Data Scientist\",\"Data Scientist\",\"Data Scientist\",\"Data Scientist\",\"Data Scientist\",\"Data Scientist\",\"Data Scientist\",\"Data Scientist\",\"Data Scientist\",\"Data Scientist\",\"Data Scientist\",\"Data Scientist\",\"Data Scientist\",\"Data Scientist\",\"Data Scientist\",\"Data Scientist\",\"Data Scientist\",\"Data Scientist\",\"Data Scientist\",\"Data Scientist\",\"Data Scientist\",\"Data Scientist\",\"Data Scientist\",\"Data Scientist\",\"Data Scientist\",\"Data Scientist\",\"Data Scientist\",\"Data Scientist\",\"Data Scientist\",\"Data Scientist\",\"Data Scientist\",\"Data Scientist\",\"Data Scientist\",\"Data Scientist\",\"Data Scientist\",\"Data Scientist\",\"Data Scientist\",\"Data Scientist\",\"Data Scientist\",\"Data Scientist\",\"Data Scientist\",\"Data Scientist\",\"Data Scientist\",\"Data Scientist\",\"Data Scientist\",\"Data Scientist\",\"Data Scientist\",\"Data Scientist\",\"Data Scientist\",\"Data Scientist\",\"Data Scientist\",\"Data Scientist\",\"Data Scientist\",\"Data Scientist\",\"Data Scientist\",\"Data Scientist\",\"Data Scientist\",\"Data Scientist\",\"Data Scientist\",\"Data Scientist\",\"Data Scientist\",\"Data Scientist\",\"Data Scientist\",\"Data Scientist\",\"Data Scientist\",\"Data Scientist\",\"Data Scientist\",\"Data Scientist\",\"Data Scientist\",\"Data Scientist\",\"Data Scientist\",\"Data Scientist\",\"Data Scientist\",\"Data Scientist\",\"Data Scientist\",\"Data Scientist\",\"Data Scientist\",\"Data Scientist\",\"Data Scientist\",\"Data Scientist\",\"Data Scientist\",\"Data Scientist\",\"Data Scientist\",\"Data Scientist\",\"Data Scientist\",\"Data Scientist\",\"Data Scientist\",\"Data Scientist\",\"Data Scientist\",\"Data Scientist\",\"Data Scientist\",\"Data Scientist\",\"Data Scientist\",\"Data Scientist\",\"Data Scientist\",\"Data Scientist\"],\"xaxis\":\"x\",\"yaxis\":\"y\",\"type\":\"histogram\"},{\"alignmentgroup\":\"True\",\"bingroup\":\"x\",\"hovertemplate\":\"Roles=%{x}<br>count=%{y}<extra></extra>\",\"legendgroup\":\"Data Analyst\",\"marker\":{\"color\":\"#FF7F0E\",\"pattern\":{\"shape\":\"\"}},\"name\":\"Data Analyst\",\"offsetgroup\":\"Data Analyst\",\"orientation\":\"v\",\"showlegend\":true,\"x\":[\"Data Analyst\",\"Data Analyst\",\"Data Analyst\",\"Data Analyst\",\"Data Analyst\",\"Data Analyst\",\"Data Analyst\",\"Data Analyst\",\"Data Analyst\",\"Data Analyst\",\"Data Analyst\",\"Data Analyst\",\"Data Analyst\",\"Data Analyst\",\"Data Analyst\",\"Data Analyst\",\"Data Analyst\",\"Data Analyst\",\"Data Analyst\",\"Data Analyst\",\"Data Analyst\",\"Data Analyst\",\"Data Analyst\",\"Data Analyst\",\"Data Analyst\",\"Data Analyst\",\"Data Analyst\",\"Data Analyst\",\"Data Analyst\",\"Data Analyst\",\"Data Analyst\",\"Data Analyst\",\"Data Analyst\",\"Data Analyst\",\"Data Analyst\",\"Data Analyst\",\"Data Analyst\",\"Data Analyst\",\"Data Analyst\",\"Data Analyst\",\"Data Analyst\",\"Data Analyst\",\"Data Analyst\",\"Data Analyst\",\"Data Analyst\",\"Data Analyst\",\"Data Analyst\",\"Data Analyst\",\"Data Analyst\",\"Data Analyst\",\"Data Analyst\",\"Data Analyst\",\"Data Analyst\",\"Data Analyst\",\"Data Analyst\",\"Data Analyst\",\"Data Analyst\",\"Data Analyst\",\"Data Analyst\",\"Data Analyst\",\"Data Analyst\",\"Data Analyst\",\"Data Analyst\",\"Data Analyst\",\"Data Analyst\",\"Data Analyst\",\"Data Analyst\",\"Data Analyst\",\"Data Analyst\",\"Data Analyst\",\"Data Analyst\",\"Data Analyst\",\"Data Analyst\",\"Data Analyst\",\"Data Analyst\",\"Data Analyst\",\"Data Analyst\",\"Data Analyst\",\"Data Analyst\",\"Data Analyst\",\"Data Analyst\",\"Data Analyst\",\"Data Analyst\",\"Data Analyst\",\"Data Analyst\",\"Data Analyst\",\"Data Analyst\",\"Data Analyst\",\"Data Analyst\",\"Data Analyst\",\"Data Analyst\",\"Data Analyst\",\"Data Analyst\",\"Data Analyst\",\"Data Analyst\",\"Data Analyst\",\"Data Analyst\"],\"xaxis\":\"x\",\"yaxis\":\"y\",\"type\":\"histogram\"},{\"alignmentgroup\":\"True\",\"bingroup\":\"x\",\"hovertemplate\":\"Roles=%{x}<br>count=%{y}<extra></extra>\",\"legendgroup\":\"Data Engineer\",\"marker\":{\"color\":\"#2CA02C\",\"pattern\":{\"shape\":\"\"}},\"name\":\"Data Engineer\",\"offsetgroup\":\"Data Engineer\",\"orientation\":\"v\",\"showlegend\":true,\"x\":[\"Data Engineer\",\"Data Engineer\",\"Data Engineer\",\"Data Engineer\",\"Data Engineer\",\"Data Engineer\",\"Data Engineer\",\"Data Engineer\",\"Data Engineer\",\"Data Engineer\",\"Data Engineer\",\"Data Engineer\",\"Data Engineer\",\"Data Engineer\",\"Data Engineer\",\"Data Engineer\",\"Data Engineer\",\"Data Engineer\",\"Data Engineer\",\"Data Engineer\",\"Data Engineer\",\"Data Engineer\",\"Data Engineer\",\"Data Engineer\",\"Data Engineer\",\"Data Engineer\",\"Data Engineer\",\"Data Engineer\",\"Data Engineer\",\"Data Engineer\",\"Data Engineer\",\"Data Engineer\",\"Data Engineer\",\"Data Engineer\",\"Data Engineer\",\"Data Engineer\",\"Data Engineer\",\"Data Engineer\",\"Data Engineer\",\"Data Engineer\",\"Data Engineer\",\"Data Engineer\",\"Data Engineer\",\"Data Engineer\",\"Data Engineer\",\"Data Engineer\",\"Data Engineer\",\"Data Engineer\",\"Data Engineer\",\"Data Engineer\",\"Data Engineer\",\"Data Engineer\",\"Data Engineer\",\"Data Engineer\",\"Data Engineer\",\"Data Engineer\",\"Data Engineer\",\"Data Engineer\",\"Data Engineer\",\"Data Engineer\",\"Data Engineer\",\"Data Engineer\",\"Data Engineer\",\"Data Engineer\",\"Data Engineer\",\"Data Engineer\",\"Data Engineer\",\"Data Engineer\",\"Data Engineer\",\"Data Engineer\",\"Data Engineer\",\"Data Engineer\",\"Data Engineer\",\"Data Engineer\",\"Data Engineer\",\"Data Engineer\",\"Data Engineer\",\"Data Engineer\",\"Data Engineer\",\"Data Engineer\",\"Data Engineer\",\"Data Engineer\",\"Data Engineer\",\"Data Engineer\",\"Data Engineer\",\"Data Engineer\",\"Data Engineer\",\"Data Engineer\",\"Data Engineer\",\"Data Engineer\",\"Data Engineer\",\"Data Engineer\",\"Data Engineer\",\"Data Engineer\",\"Data Engineer\",\"Data Engineer\",\"Data Engineer\",\"Data Engineer\",\"Data Engineer\",\"Data Engineer\",\"Data Engineer\",\"Data Engineer\",\"Data Engineer\",\"Data Engineer\",\"Data Engineer\",\"Data Engineer\",\"Data Engineer\",\"Data Engineer\",\"Data Engineer\",\"Data Engineer\",\"Data Engineer\",\"Data Engineer\",\"Data Engineer\",\"Data Engineer\",\"Data Engineer\",\"Data Engineer\",\"Data Engineer\",\"Data Engineer\",\"Data Engineer\",\"Data Engineer\",\"Data Engineer\",\"Data Engineer\",\"Data Engineer\",\"Data Engineer\",\"Data Engineer\",\"Data Engineer\",\"Data Engineer\",\"Data Engineer\",\"Data Engineer\",\"Data Engineer\",\"Data Engineer\",\"Data Engineer\"],\"xaxis\":\"x\",\"yaxis\":\"y\",\"type\":\"histogram\"}],                        {\"template\":{\"data\":{\"pie\":[{\"automargin\":true,\"type\":\"pie\"}]},\"layout\":{\"xaxis\":{\"showgrid\":true,\"title\":{\"standoff\":15}},\"yaxis\":{\"showgrid\":true,\"title\":{\"standoff\":15}}}},\"xaxis\":{\"anchor\":\"y\",\"domain\":[0.0,1.0],\"title\":{\"text\":\"Roles\"},\"categoryorder\":\"array\",\"categoryarray\":[\"Data Scientist\",\"Data Analyst\",\"Data Engineer\"]},\"yaxis\":{\"anchor\":\"x\",\"domain\":[0.0,1.0],\"title\":{\"text\":\"count\"}},\"legend\":{\"title\":{\"text\":\"Roles\"},\"tracegroupgap\":0},\"margin\":{\"t\":60},\"barmode\":\"relative\"},                        {\"responsive\": true}                    ).then(function(){\n",
              "                            \n",
              "var gd = document.getElementById('339f0410-2ab4-4d31-b44a-f6fff51aaead');\n",
              "var x = new MutationObserver(function (mutations, observer) {{\n",
              "        var display = window.getComputedStyle(gd).display;\n",
              "        if (!display || display === 'none') {{\n",
              "            console.log([gd, 'removed!']);\n",
              "            Plotly.purge(gd);\n",
              "            observer.disconnect();\n",
              "        }}\n",
              "}});\n",
              "\n",
              "// Listen for the removal of the full notebook cells\n",
              "var notebookContainer = gd.closest('#notebook-container');\n",
              "if (notebookContainer) {{\n",
              "    x.observe(notebookContainer, {childList: true});\n",
              "}}\n",
              "\n",
              "// Listen for the clearing of the current output cell\n",
              "var outputEl = gd.closest('.output');\n",
              "if (outputEl) {{\n",
              "    x.observe(outputEl, {childList: true});\n",
              "}}\n",
              "\n",
              "                        })                };                            </script>        </div>\n",
              "</body>\n",
              "</html>"
            ]
          },
          "metadata": {}
        }
      ]
    },
    {
      "cell_type": "markdown",
      "source": [
        "## 🔹 <font color=\"RoyalBlue\">**Un poco más dificil... 😈**</font>"
      ],
      "metadata": {
        "id": "kxzBnscsNgSu"
      },
      "id": "kxzBnscsNgSu"
    },
    {
      "cell_type": "markdown",
      "source": [
        "---\n",
        "<p>\n",
        "<font color=\"RoyalBlue\">\n",
        "\n",
        "👀 **Para los siguientes puntos se puede consultar la documentación técnica de Pandas, la de Plotly, y la que necesiten...** 😃\n",
        "</font>\n",
        "</p>\n",
        "\n",
        "---"
      ],
      "metadata": {
        "id": "wY_DYxOjNxrP"
      },
      "id": "wY_DYxOjNxrP"
    },
    {
      "cell_type": "markdown",
      "source": [
        "<p>\n",
        "<font color=\"DarkBlue\">\n",
        "\n",
        "> **Hacer un gráfico de torta con los tres roles con mas registros...** \n",
        "</font>\n",
        "</p>\n"
      ],
      "metadata": {
        "id": "mN_R2dD5Pf9r"
      },
      "id": "mN_R2dD5Pf9r"
    },
    {
      "cell_type": "code",
      "source": [
        "px.pie(df.query(\"job_title in ['Data Scientist', 'Data Engineer','Data Analyst']\"),\n",
        "       names=\"job_title\",\n",
        "       template = \"gridon\")"
      ],
      "metadata": {
        "colab": {
          "base_uri": "https://localhost:8080/",
          "height": 542
        },
        "id": "QBFgxNgpUxMe",
        "outputId": "ea4d3af2-11a1-44d3-c0a6-a81c03dc3309"
      },
      "id": "QBFgxNgpUxMe",
      "execution_count": 33,
      "outputs": [
        {
          "output_type": "display_data",
          "data": {
            "text/html": [
              "<html>\n",
              "<head><meta charset=\"utf-8\" /></head>\n",
              "<body>\n",
              "    <div>            <script src=\"https://cdnjs.cloudflare.com/ajax/libs/mathjax/2.7.5/MathJax.js?config=TeX-AMS-MML_SVG\"></script><script type=\"text/javascript\">if (window.MathJax && window.MathJax.Hub && window.MathJax.Hub.Config) {window.MathJax.Hub.Config({SVG: {font: \"STIX-Web\"}});}</script>                <script type=\"text/javascript\">window.PlotlyConfig = {MathJaxConfig: 'local'};</script>\n",
              "        <script src=\"https://cdn.plot.ly/plotly-2.18.0.min.js\"></script>                <div id=\"21e22f8c-15a9-45ba-bc60-1fb5e4da9517\" class=\"plotly-graph-div\" style=\"height:525px; width:100%;\"></div>            <script type=\"text/javascript\">                                    window.PLOTLYENV=window.PLOTLYENV || {};                                    if (document.getElementById(\"21e22f8c-15a9-45ba-bc60-1fb5e4da9517\")) {                    Plotly.newPlot(                        \"21e22f8c-15a9-45ba-bc60-1fb5e4da9517\",                        [{\"domain\":{\"x\":[0.0,1.0],\"y\":[0.0,1.0]},\"hole\":true,\"hovertemplate\":\"job_title=%{label}<extra></extra>\",\"labels\":[\"Data Scientist\",\"Data Analyst\",\"Data Scientist\",\"Data Scientist\",\"Data Scientist\",\"Data Scientist\",\"Data Analyst\",\"Data Analyst\",\"Data Engineer\",\"Data Engineer\",\"Data Engineer\",\"Data Scientist\",\"Data Analyst\",\"Data Engineer\",\"Data Analyst\",\"Data Scientist\",\"Data Engineer\",\"Data Engineer\",\"Data Scientist\",\"Data Engineer\",\"Data Scientist\",\"Data Engineer\",\"Data Analyst\",\"Data Analyst\",\"Data Engineer\",\"Data Scientist\",\"Data Scientist\",\"Data Scientist\",\"Data Scientist\",\"Data Engineer\",\"Data Engineer\",\"Data Scientist\",\"Data Scientist\",\"Data Scientist\",\"Data Scientist\",\"Data Scientist\",\"Data Scientist\",\"Data Scientist\",\"Data Scientist\",\"Data Scientist\",\"Data Analyst\",\"Data Engineer\",\"Data Engineer\",\"Data Analyst\",\"Data Analyst\",\"Data Scientist\",\"Data Analyst\",\"Data Engineer\",\"Data Analyst\",\"Data Scientist\",\"Data Analyst\",\"Data Engineer\",\"Data Engineer\",\"Data Engineer\",\"Data Engineer\",\"Data Scientist\",\"Data Analyst\",\"Data Engineer\",\"Data Analyst\",\"Data Analyst\",\"Data Scientist\",\"Data Scientist\",\"Data Scientist\",\"Data Analyst\",\"Data Scientist\",\"Data Analyst\",\"Data Scientist\",\"Data Engineer\",\"Data Engineer\",\"Data Scientist\",\"Data Scientist\",\"Data Scientist\",\"Data Scientist\",\"Data Engineer\",\"Data Engineer\",\"Data Engineer\",\"Data Analyst\",\"Data Scientist\",\"Data Scientist\",\"Data Scientist\",\"Data Scientist\",\"Data Engineer\",\"Data Engineer\",\"Data Engineer\",\"Data Scientist\",\"Data Scientist\",\"Data Scientist\",\"Data Scientist\",\"Data Scientist\",\"Data Engineer\",\"Data Engineer\",\"Data Engineer\",\"Data Scientist\",\"Data Scientist\",\"Data Scientist\",\"Data Scientist\",\"Data Scientist\",\"Data Scientist\",\"Data Scientist\",\"Data Analyst\",\"Data Analyst\",\"Data Scientist\",\"Data Scientist\",\"Data Engineer\",\"Data Scientist\",\"Data Analyst\",\"Data Engineer\",\"Data Scientist\",\"Data Engineer\",\"Data Scientist\",\"Data Engineer\",\"Data Engineer\",\"Data Scientist\",\"Data Scientist\",\"Data Scientist\",\"Data Analyst\",\"Data Engineer\",\"Data Scientist\",\"Data Analyst\",\"Data Scientist\",\"Data Scientist\",\"Data Engineer\",\"Data Engineer\",\"Data Engineer\",\"Data Engineer\",\"Data Engineer\",\"Data Scientist\",\"Data Scientist\",\"Data Scientist\",\"Data Scientist\",\"Data Engineer\",\"Data Engineer\",\"Data Scientist\",\"Data Engineer\",\"Data Analyst\",\"Data Analyst\",\"Data Scientist\",\"Data Scientist\",\"Data Engineer\",\"Data Engineer\",\"Data Analyst\",\"Data Analyst\",\"Data Scientist\",\"Data Scientist\",\"Data Scientist\",\"Data Scientist\",\"Data Scientist\",\"Data Scientist\",\"Data Engineer\",\"Data Analyst\",\"Data Analyst\",\"Data Analyst\",\"Data Analyst\",\"Data Engineer\",\"Data Engineer\",\"Data Scientist\",\"Data Scientist\",\"Data Engineer\",\"Data Engineer\",\"Data Scientist\",\"Data Engineer\",\"Data Scientist\",\"Data Analyst\",\"Data Engineer\",\"Data Engineer\",\"Data Engineer\",\"Data Engineer\",\"Data Scientist\",\"Data Scientist\",\"Data Analyst\",\"Data Analyst\",\"Data Analyst\",\"Data Analyst\",\"Data Analyst\",\"Data Analyst\",\"Data Analyst\",\"Data Analyst\",\"Data Analyst\",\"Data Engineer\",\"Data Engineer\",\"Data Analyst\",\"Data Engineer\",\"Data Analyst\",\"Data Analyst\",\"Data Engineer\",\"Data Engineer\",\"Data Engineer\",\"Data Engineer\",\"Data Scientist\",\"Data Engineer\",\"Data Analyst\",\"Data Scientist\",\"Data Scientist\",\"Data Engineer\",\"Data Engineer\",\"Data Scientist\",\"Data Scientist\",\"Data Analyst\",\"Data Analyst\",\"Data Analyst\",\"Data Analyst\",\"Data Engineer\",\"Data Scientist\",\"Data Engineer\",\"Data Analyst\",\"Data Scientist\",\"Data Scientist\",\"Data Analyst\",\"Data Engineer\",\"Data Engineer\",\"Data Engineer\",\"Data Analyst\",\"Data Analyst\",\"Data Engineer\",\"Data Analyst\",\"Data Engineer\",\"Data Analyst\",\"Data Analyst\",\"Data Engineer\",\"Data Scientist\",\"Data Scientist\",\"Data Engineer\",\"Data Engineer\",\"Data Analyst\",\"Data Analyst\",\"Data Engineer\",\"Data Engineer\",\"Data Analyst\",\"Data Engineer\",\"Data Analyst\",\"Data Scientist\",\"Data Scientist\",\"Data Scientist\",\"Data Engineer\",\"Data Engineer\",\"Data Engineer\",\"Data Engineer\",\"Data Scientist\",\"Data Engineer\",\"Data Scientist\",\"Data Scientist\",\"Data Engineer\",\"Data Engineer\",\"Data Engineer\",\"Data Scientist\",\"Data Analyst\",\"Data Analyst\",\"Data Analyst\",\"Data Engineer\",\"Data Engineer\",\"Data Engineer\",\"Data Engineer\",\"Data Engineer\",\"Data Engineer\",\"Data Analyst\",\"Data Analyst\",\"Data Engineer\",\"Data Engineer\",\"Data Scientist\",\"Data Engineer\",\"Data Engineer\",\"Data Engineer\",\"Data Engineer\",\"Data Engineer\",\"Data Engineer\",\"Data Scientist\",\"Data Engineer\",\"Data Scientist\",\"Data Engineer\",\"Data Scientist\",\"Data Engineer\",\"Data Scientist\",\"Data Analyst\",\"Data Analyst\",\"Data Scientist\",\"Data Scientist\",\"Data Scientist\",\"Data Scientist\",\"Data Scientist\",\"Data Scientist\",\"Data Scientist\",\"Data Engineer\",\"Data Engineer\",\"Data Engineer\",\"Data Scientist\",\"Data Scientist\",\"Data Scientist\",\"Data Scientist\",\"Data Scientist\",\"Data Engineer\",\"Data Scientist\",\"Data Scientist\",\"Data Scientist\",\"Data Engineer\",\"Data Scientist\",\"Data Engineer\",\"Data Scientist\",\"Data Engineer\",\"Data Scientist\",\"Data Scientist\",\"Data Analyst\",\"Data Scientist\",\"Data Scientist\",\"Data Analyst\",\"Data Analyst\",\"Data Analyst\",\"Data Analyst\",\"Data Analyst\",\"Data Analyst\",\"Data Engineer\",\"Data Scientist\",\"Data Scientist\",\"Data Analyst\",\"Data Analyst\",\"Data Engineer\",\"Data Engineer\",\"Data Engineer\",\"Data Engineer\",\"Data Engineer\",\"Data Engineer\",\"Data Analyst\",\"Data Engineer\",\"Data Scientist\",\"Data Scientist\",\"Data Scientist\",\"Data Scientist\",\"Data Engineer\",\"Data Engineer\",\"Data Engineer\",\"Data Engineer\",\"Data Scientist\",\"Data Scientist\",\"Data Engineer\",\"Data Engineer\",\"Data Analyst\",\"Data Engineer\",\"Data Analyst\",\"Data Analyst\",\"Data Analyst\",\"Data Scientist\",\"Data Scientist\",\"Data Scientist\",\"Data Analyst\",\"Data Analyst\",\"Data Scientist\",\"Data Scientist\",\"Data Scientist\",\"Data Analyst\",\"Data Engineer\",\"Data Engineer\",\"Data Analyst\",\"Data Analyst\",\"Data Engineer\",\"Data Engineer\",\"Data Analyst\",\"Data Analyst\",\"Data Analyst\",\"Data Scientist\",\"Data Analyst\",\"Data Analyst\",\"Data Scientist\",\"Data Scientist\",\"Data Scientist\",\"Data Analyst\",\"Data Scientist\",\"Data Scientist\",\"Data Analyst\",\"Data Analyst\",\"Data Engineer\",\"Data Engineer\",\"Data Analyst\",\"Data Analyst\"],\"legendgroup\":\"\",\"name\":\"\",\"showlegend\":true,\"type\":\"pie\"}],                        {\"template\":{\"data\":{\"pie\":[{\"automargin\":true,\"type\":\"pie\"}]},\"layout\":{\"xaxis\":{\"showgrid\":true,\"title\":{\"standoff\":15}},\"yaxis\":{\"showgrid\":true,\"title\":{\"standoff\":15}}}},\"legend\":{\"tracegroupgap\":0},\"margin\":{\"t\":60}},                        {\"responsive\": true}                    ).then(function(){\n",
              "                            \n",
              "var gd = document.getElementById('21e22f8c-15a9-45ba-bc60-1fb5e4da9517');\n",
              "var x = new MutationObserver(function (mutations, observer) {{\n",
              "        var display = window.getComputedStyle(gd).display;\n",
              "        if (!display || display === 'none') {{\n",
              "            console.log([gd, 'removed!']);\n",
              "            Plotly.purge(gd);\n",
              "            observer.disconnect();\n",
              "        }}\n",
              "}});\n",
              "\n",
              "// Listen for the removal of the full notebook cells\n",
              "var notebookContainer = gd.closest('#notebook-container');\n",
              "if (notebookContainer) {{\n",
              "    x.observe(notebookContainer, {childList: true});\n",
              "}}\n",
              "\n",
              "// Listen for the clearing of the current output cell\n",
              "var outputEl = gd.closest('.output');\n",
              "if (outputEl) {{\n",
              "    x.observe(outputEl, {childList: true});\n",
              "}}\n",
              "\n",
              "                        })                };                            </script>        </div>\n",
              "</body>\n",
              "</html>"
            ]
          },
          "metadata": {}
        }
      ]
    },
    {
      "cell_type": "markdown",
      "source": [
        "<p>\n",
        "<font color=\"DarkBlue\">\n",
        "\n",
        "> **Hacer un gráfico de torta con los tres roles con mas registros, en virtud de su salario...** \n",
        "</font>\n",
        "</p>\n"
      ],
      "metadata": {
        "id": "DAHGMQa_s3AP"
      },
      "id": "DAHGMQa_s3AP"
    },
    {
      "cell_type": "code",
      "source": [
        "px.pie(df.query(\"job_title in ['Data Scientist', 'Data Engineer','Data Analyst']\"),\n",
        "       values=\"salary_in_usd\",\n",
        "       names=\"job_title\",\n",
        "       template = \"gridon\")"
      ],
      "metadata": {
        "colab": {
          "base_uri": "https://localhost:8080/",
          "height": 542
        },
        "id": "sEiSiv3psYBs",
        "outputId": "314843b2-b30d-464f-a310-2f0fd6d876ee"
      },
      "id": "sEiSiv3psYBs",
      "execution_count": 34,
      "outputs": [
        {
          "output_type": "display_data",
          "data": {
            "text/html": [
              "<html>\n",
              "<head><meta charset=\"utf-8\" /></head>\n",
              "<body>\n",
              "    <div>            <script src=\"https://cdnjs.cloudflare.com/ajax/libs/mathjax/2.7.5/MathJax.js?config=TeX-AMS-MML_SVG\"></script><script type=\"text/javascript\">if (window.MathJax && window.MathJax.Hub && window.MathJax.Hub.Config) {window.MathJax.Hub.Config({SVG: {font: \"STIX-Web\"}});}</script>                <script type=\"text/javascript\">window.PlotlyConfig = {MathJaxConfig: 'local'};</script>\n",
              "        <script src=\"https://cdn.plot.ly/plotly-2.18.0.min.js\"></script>                <div id=\"c966bbcd-c87c-4a33-98fa-d75e3556696a\" class=\"plotly-graph-div\" style=\"height:525px; width:100%;\"></div>            <script type=\"text/javascript\">                                    window.PLOTLYENV=window.PLOTLYENV || {};                                    if (document.getElementById(\"c966bbcd-c87c-4a33-98fa-d75e3556696a\")) {                    Plotly.newPlot(                        \"c966bbcd-c87c-4a33-98fa-d75e3556696a\",                        [{\"domain\":{\"x\":[0.0,1.0],\"y\":[0.0,1.0]},\"hovertemplate\":\"job_title=%{label}<br>salary_in_usd=%{value}<extra></extra>\",\"labels\":[\"Data Scientist\",\"Data Analyst\",\"Data Scientist\",\"Data Scientist\",\"Data Scientist\",\"Data Scientist\",\"Data Analyst\",\"Data Analyst\",\"Data Engineer\",\"Data Engineer\",\"Data Engineer\",\"Data Scientist\",\"Data Analyst\",\"Data Engineer\",\"Data Analyst\",\"Data Scientist\",\"Data Engineer\",\"Data Engineer\",\"Data Scientist\",\"Data Engineer\",\"Data Scientist\",\"Data Engineer\",\"Data Analyst\",\"Data Analyst\",\"Data Engineer\",\"Data Scientist\",\"Data Scientist\",\"Data Scientist\",\"Data Scientist\",\"Data Engineer\",\"Data Engineer\",\"Data Scientist\",\"Data Scientist\",\"Data Scientist\",\"Data Scientist\",\"Data Scientist\",\"Data Scientist\",\"Data Scientist\",\"Data Scientist\",\"Data Scientist\",\"Data Analyst\",\"Data Engineer\",\"Data Engineer\",\"Data Analyst\",\"Data Analyst\",\"Data Scientist\",\"Data Analyst\",\"Data Engineer\",\"Data Analyst\",\"Data Scientist\",\"Data Analyst\",\"Data Engineer\",\"Data Engineer\",\"Data Engineer\",\"Data Engineer\",\"Data Scientist\",\"Data Analyst\",\"Data Engineer\",\"Data Analyst\",\"Data Analyst\",\"Data Scientist\",\"Data Scientist\",\"Data Scientist\",\"Data Analyst\",\"Data Scientist\",\"Data Analyst\",\"Data Scientist\",\"Data Engineer\",\"Data Engineer\",\"Data Scientist\",\"Data Scientist\",\"Data Scientist\",\"Data Scientist\",\"Data Engineer\",\"Data Engineer\",\"Data Engineer\",\"Data Analyst\",\"Data Scientist\",\"Data Scientist\",\"Data Scientist\",\"Data Scientist\",\"Data Engineer\",\"Data Engineer\",\"Data Engineer\",\"Data Scientist\",\"Data Scientist\",\"Data Scientist\",\"Data Scientist\",\"Data Scientist\",\"Data Engineer\",\"Data Engineer\",\"Data Engineer\",\"Data Scientist\",\"Data Scientist\",\"Data Scientist\",\"Data Scientist\",\"Data Scientist\",\"Data Scientist\",\"Data Scientist\",\"Data Analyst\",\"Data Analyst\",\"Data Scientist\",\"Data Scientist\",\"Data Engineer\",\"Data Scientist\",\"Data Analyst\",\"Data Engineer\",\"Data Scientist\",\"Data Engineer\",\"Data Scientist\",\"Data Engineer\",\"Data Engineer\",\"Data Scientist\",\"Data Scientist\",\"Data Scientist\",\"Data Analyst\",\"Data Engineer\",\"Data Scientist\",\"Data Analyst\",\"Data Scientist\",\"Data Scientist\",\"Data Engineer\",\"Data Engineer\",\"Data Engineer\",\"Data Engineer\",\"Data Engineer\",\"Data Scientist\",\"Data Scientist\",\"Data Scientist\",\"Data Scientist\",\"Data Engineer\",\"Data Engineer\",\"Data Scientist\",\"Data Engineer\",\"Data Analyst\",\"Data Analyst\",\"Data Scientist\",\"Data Scientist\",\"Data Engineer\",\"Data Engineer\",\"Data Analyst\",\"Data Analyst\",\"Data Scientist\",\"Data Scientist\",\"Data Scientist\",\"Data Scientist\",\"Data Scientist\",\"Data Scientist\",\"Data Engineer\",\"Data Analyst\",\"Data Analyst\",\"Data Analyst\",\"Data Analyst\",\"Data Engineer\",\"Data Engineer\",\"Data Scientist\",\"Data Scientist\",\"Data Engineer\",\"Data Engineer\",\"Data Scientist\",\"Data Engineer\",\"Data Scientist\",\"Data Analyst\",\"Data Engineer\",\"Data Engineer\",\"Data Engineer\",\"Data Engineer\",\"Data Scientist\",\"Data Scientist\",\"Data Analyst\",\"Data Analyst\",\"Data Analyst\",\"Data Analyst\",\"Data Analyst\",\"Data Analyst\",\"Data Analyst\",\"Data Analyst\",\"Data Analyst\",\"Data Engineer\",\"Data Engineer\",\"Data Analyst\",\"Data Engineer\",\"Data Analyst\",\"Data Analyst\",\"Data Engineer\",\"Data Engineer\",\"Data Engineer\",\"Data Engineer\",\"Data Scientist\",\"Data Engineer\",\"Data Analyst\",\"Data Scientist\",\"Data Scientist\",\"Data Engineer\",\"Data Engineer\",\"Data Scientist\",\"Data Scientist\",\"Data Analyst\",\"Data Analyst\",\"Data Analyst\",\"Data Analyst\",\"Data Engineer\",\"Data Scientist\",\"Data Engineer\",\"Data Analyst\",\"Data Scientist\",\"Data Scientist\",\"Data Analyst\",\"Data Engineer\",\"Data Engineer\",\"Data Engineer\",\"Data Analyst\",\"Data Analyst\",\"Data Engineer\",\"Data Analyst\",\"Data Engineer\",\"Data Analyst\",\"Data Analyst\",\"Data Engineer\",\"Data Scientist\",\"Data Scientist\",\"Data Engineer\",\"Data Engineer\",\"Data Analyst\",\"Data Analyst\",\"Data Engineer\",\"Data Engineer\",\"Data Analyst\",\"Data Engineer\",\"Data Analyst\",\"Data Scientist\",\"Data Scientist\",\"Data Scientist\",\"Data Engineer\",\"Data Engineer\",\"Data Engineer\",\"Data Engineer\",\"Data Scientist\",\"Data Engineer\",\"Data Scientist\",\"Data Scientist\",\"Data Engineer\",\"Data Engineer\",\"Data Engineer\",\"Data Scientist\",\"Data Analyst\",\"Data Analyst\",\"Data Analyst\",\"Data Engineer\",\"Data Engineer\",\"Data Engineer\",\"Data Engineer\",\"Data Engineer\",\"Data Engineer\",\"Data Analyst\",\"Data Analyst\",\"Data Engineer\",\"Data Engineer\",\"Data Scientist\",\"Data Engineer\",\"Data Engineer\",\"Data Engineer\",\"Data Engineer\",\"Data Engineer\",\"Data Engineer\",\"Data Scientist\",\"Data Engineer\",\"Data Scientist\",\"Data Engineer\",\"Data Scientist\",\"Data Engineer\",\"Data Scientist\",\"Data Analyst\",\"Data Analyst\",\"Data Scientist\",\"Data Scientist\",\"Data Scientist\",\"Data Scientist\",\"Data Scientist\",\"Data Scientist\",\"Data Scientist\",\"Data Engineer\",\"Data Engineer\",\"Data Engineer\",\"Data Scientist\",\"Data Scientist\",\"Data Scientist\",\"Data Scientist\",\"Data Scientist\",\"Data Engineer\",\"Data Scientist\",\"Data Scientist\",\"Data Scientist\",\"Data Engineer\",\"Data Scientist\",\"Data Engineer\",\"Data Scientist\",\"Data Engineer\",\"Data Scientist\",\"Data Scientist\",\"Data Analyst\",\"Data Scientist\",\"Data Scientist\",\"Data Analyst\",\"Data Analyst\",\"Data Analyst\",\"Data Analyst\",\"Data Analyst\",\"Data Analyst\",\"Data Engineer\",\"Data Scientist\",\"Data Scientist\",\"Data Analyst\",\"Data Analyst\",\"Data Engineer\",\"Data Engineer\",\"Data Engineer\",\"Data Engineer\",\"Data Engineer\",\"Data Engineer\",\"Data Analyst\",\"Data Engineer\",\"Data Scientist\",\"Data Scientist\",\"Data Scientist\",\"Data Scientist\",\"Data Engineer\",\"Data Engineer\",\"Data Engineer\",\"Data Engineer\",\"Data Scientist\",\"Data Scientist\",\"Data Engineer\",\"Data Engineer\",\"Data Analyst\",\"Data Engineer\",\"Data Analyst\",\"Data Analyst\",\"Data Analyst\",\"Data Scientist\",\"Data Scientist\",\"Data Scientist\",\"Data Analyst\",\"Data Analyst\",\"Data Scientist\",\"Data Scientist\",\"Data Scientist\",\"Data Analyst\",\"Data Engineer\",\"Data Engineer\",\"Data Analyst\",\"Data Analyst\",\"Data Engineer\",\"Data Engineer\",\"Data Analyst\",\"Data Analyst\",\"Data Analyst\",\"Data Scientist\",\"Data Analyst\",\"Data Analyst\",\"Data Scientist\",\"Data Scientist\",\"Data Scientist\",\"Data Analyst\",\"Data Scientist\",\"Data Scientist\",\"Data Analyst\",\"Data Analyst\",\"Data Engineer\",\"Data Engineer\",\"Data Analyst\",\"Data Analyst\"],\"legendgroup\":\"\",\"name\":\"\",\"showlegend\":true,\"values\":[79833,72000,35735,51321,40481,39916,85000,8000,41689,47899,33511,68428,46759,74130,10000,45760,106000,112872,76958,188000,105000,70139,6072,91000,54742,38776,118000,120000,138350,110000,130800,21669,412000,62726,49268,105000,91237,62726,42197,53192,80000,140000,28476,59102,80000,29751,75000,150000,62000,73000,51519,115000,150000,30428,45391,50000,90000,200000,50000,10354,9466,49646,100000,90000,80000,135000,82500,100000,90000,150000,75774,13400,119059,28369,80000,82528,60000,2859,40038,5679,90734,26005,4000,76833,147000,61467,37825,160000,12901,165000,20000,66022,90734,116914,33808,56256,87738,88654,135000,71786,200000,46809,4000,21637,103691,80000,110000,165000,72212,36643,12103,96282,115000,90000,28399,93000,200000,130000,63831,16904,25532,93150,111775,28016,65013,72500,77684,100000,58000,20171,112000,69741,109000,135000,155000,120600,130000,90000,170000,150000,102100,84900,136620,99360,117789,104702,146000,123000,52351,99000,116000,106260,126500,242000,200000,65438,39263,78526,52351,165220,45807,120160,90320,181940,132320,220110,160080,180000,120000,124190,130000,110000,170000,115500,112900,90320,112900,90320,165400,132320,167000,243900,136600,109280,128875,93700,156600,108800,95550,113000,135000,167000,123000,78526,65438,150000,211500,130000,61300,130000,61300,160000,138600,136000,58000,170000,123000,132000,165400,136994,101570,128875,93700,132320,164000,155000,112900,90320,117789,215300,158200,209100,154600,115934,81666,175000,98158,58000,183600,52351,180000,71982,45807,65949,49461,78526,58894,260000,63900,180000,80000,82900,100800,49461,140400,39263,43966,32974,87932,76940,104702,91614,65949,87932,43966,32974,98158,78526,215300,76940,209100,154600,180000,80000,105000,31615,54957,18442,120000,104890,100000,140000,135000,50000,220000,140000,183228,91614,185100,200000,120000,324000,216000,210000,230000,100000,100000,35590,100000,58035,165000,52396,40000,115000,86703,65000,48000,68147,122346,69336,20000,135000,78000,135000,100000,90320,85000,75000,112900,155000,141300,102100,115934,81666,206699,99100,130000,115000,110500,130000,99050,160000,205300,140400,176000,144000,200100,160000,145000,70500,205300,140400,175100,140250,116150,54000,170000,65438,80000,140000,210000,140000,100000,69000,210000,140000,210000,150075,100000,25000,126500,106260,220110,160080,105000,110925,45807,140000,99000,60000,230000,150000,210000,170000,160000,130000,67000,52000,154000,126000,129000,150000],\"type\":\"pie\"}],                        {\"template\":{\"data\":{\"pie\":[{\"automargin\":true,\"type\":\"pie\"}]},\"layout\":{\"xaxis\":{\"showgrid\":true,\"title\":{\"standoff\":15}},\"yaxis\":{\"showgrid\":true,\"title\":{\"standoff\":15}}}},\"legend\":{\"tracegroupgap\":0},\"margin\":{\"t\":60}},                        {\"responsive\": true}                    ).then(function(){\n",
              "                            \n",
              "var gd = document.getElementById('c966bbcd-c87c-4a33-98fa-d75e3556696a');\n",
              "var x = new MutationObserver(function (mutations, observer) {{\n",
              "        var display = window.getComputedStyle(gd).display;\n",
              "        if (!display || display === 'none') {{\n",
              "            console.log([gd, 'removed!']);\n",
              "            Plotly.purge(gd);\n",
              "            observer.disconnect();\n",
              "        }}\n",
              "}});\n",
              "\n",
              "// Listen for the removal of the full notebook cells\n",
              "var notebookContainer = gd.closest('#notebook-container');\n",
              "if (notebookContainer) {{\n",
              "    x.observe(notebookContainer, {childList: true});\n",
              "}}\n",
              "\n",
              "// Listen for the clearing of the current output cell\n",
              "var outputEl = gd.closest('.output');\n",
              "if (outputEl) {{\n",
              "    x.observe(outputEl, {childList: true});\n",
              "}}\n",
              "\n",
              "                        })                };                            </script>        </div>\n",
              "</body>\n",
              "</html>"
            ]
          },
          "metadata": {}
        }
      ]
    },
    {
      "cell_type": "markdown",
      "source": [
        "<p>\n",
        "<font color=\"DarkBlue\">\n",
        "\n",
        "> **Hacer un boxplot con los tres roles con mas registros, en virtud de su salario...** \n",
        "</font>\n",
        "</p>\n"
      ],
      "metadata": {
        "id": "DhaWG4VQQwRT"
      },
      "id": "DhaWG4VQQwRT"
    },
    {
      "cell_type": "code",
      "source": [
        "px.box(df.query(\"job_title in ['Data Scientist', 'Data Engineer','Data Analyst']\"),\n",
        "       y=\"salary_in_usd\",\n",
        "       x=\"job_title\",\n",
        "       color=\"job_title\",\n",
        "       hover_name=\"job_title\",\n",
        "       template = \"gridon\")"
      ],
      "metadata": {
        "id": "Z9QWERB8QxKt",
        "colab": {
          "base_uri": "https://localhost:8080/",
          "height": 542
        },
        "outputId": "e4139875-2f1b-4492-ce08-cf0f62837101"
      },
      "id": "Z9QWERB8QxKt",
      "execution_count": 37,
      "outputs": [
        {
          "output_type": "display_data",
          "data": {
            "text/html": [
              "<html>\n",
              "<head><meta charset=\"utf-8\" /></head>\n",
              "<body>\n",
              "    <div>            <script src=\"https://cdnjs.cloudflare.com/ajax/libs/mathjax/2.7.5/MathJax.js?config=TeX-AMS-MML_SVG\"></script><script type=\"text/javascript\">if (window.MathJax && window.MathJax.Hub && window.MathJax.Hub.Config) {window.MathJax.Hub.Config({SVG: {font: \"STIX-Web\"}});}</script>                <script type=\"text/javascript\">window.PlotlyConfig = {MathJaxConfig: 'local'};</script>\n",
              "        <script src=\"https://cdn.plot.ly/plotly-2.18.0.min.js\"></script>                <div id=\"11a755d5-a820-468b-a1cf-fea13f0fea12\" class=\"plotly-graph-div\" style=\"height:525px; width:100%;\"></div>            <script type=\"text/javascript\">                                    window.PLOTLYENV=window.PLOTLYENV || {};                                    if (document.getElementById(\"11a755d5-a820-468b-a1cf-fea13f0fea12\")) {                    Plotly.newPlot(                        \"11a755d5-a820-468b-a1cf-fea13f0fea12\",                        [{\"alignmentgroup\":\"True\",\"hovertemplate\":\"<b>%{hovertext}</b><br><br>job_title=%{x}<br>salary_in_usd=%{y}<extra></extra>\",\"hovertext\":[\"Data Scientist\",\"Data Scientist\",\"Data Scientist\",\"Data Scientist\",\"Data Scientist\",\"Data Scientist\",\"Data Scientist\",\"Data Scientist\",\"Data Scientist\",\"Data Scientist\",\"Data Scientist\",\"Data Scientist\",\"Data Scientist\",\"Data Scientist\",\"Data Scientist\",\"Data Scientist\",\"Data Scientist\",\"Data Scientist\",\"Data Scientist\",\"Data Scientist\",\"Data Scientist\",\"Data Scientist\",\"Data Scientist\",\"Data Scientist\",\"Data Scientist\",\"Data Scientist\",\"Data Scientist\",\"Data Scientist\",\"Data Scientist\",\"Data Scientist\",\"Data Scientist\",\"Data Scientist\",\"Data Scientist\",\"Data Scientist\",\"Data Scientist\",\"Data Scientist\",\"Data Scientist\",\"Data Scientist\",\"Data Scientist\",\"Data Scientist\",\"Data Scientist\",\"Data Scientist\",\"Data Scientist\",\"Data Scientist\",\"Data Scientist\",\"Data Scientist\",\"Data Scientist\",\"Data Scientist\",\"Data Scientist\",\"Data Scientist\",\"Data Scientist\",\"Data Scientist\",\"Data Scientist\",\"Data Scientist\",\"Data Scientist\",\"Data Scientist\",\"Data Scientist\",\"Data Scientist\",\"Data Scientist\",\"Data Scientist\",\"Data Scientist\",\"Data Scientist\",\"Data Scientist\",\"Data Scientist\",\"Data Scientist\",\"Data Scientist\",\"Data Scientist\",\"Data Scientist\",\"Data Scientist\",\"Data Scientist\",\"Data Scientist\",\"Data Scientist\",\"Data Scientist\",\"Data Scientist\",\"Data Scientist\",\"Data Scientist\",\"Data Scientist\",\"Data Scientist\",\"Data Scientist\",\"Data Scientist\",\"Data Scientist\",\"Data Scientist\",\"Data Scientist\",\"Data Scientist\",\"Data Scientist\",\"Data Scientist\",\"Data Scientist\",\"Data Scientist\",\"Data Scientist\",\"Data Scientist\",\"Data Scientist\",\"Data Scientist\",\"Data Scientist\",\"Data Scientist\",\"Data Scientist\",\"Data Scientist\",\"Data Scientist\",\"Data Scientist\",\"Data Scientist\",\"Data Scientist\",\"Data Scientist\",\"Data Scientist\",\"Data Scientist\",\"Data Scientist\",\"Data Scientist\",\"Data Scientist\",\"Data Scientist\",\"Data Scientist\",\"Data Scientist\",\"Data Scientist\",\"Data Scientist\",\"Data Scientist\",\"Data Scientist\",\"Data Scientist\",\"Data Scientist\",\"Data Scientist\",\"Data Scientist\",\"Data Scientist\",\"Data Scientist\",\"Data Scientist\",\"Data Scientist\",\"Data Scientist\",\"Data Scientist\",\"Data Scientist\",\"Data Scientist\",\"Data Scientist\",\"Data Scientist\",\"Data Scientist\",\"Data Scientist\",\"Data Scientist\",\"Data Scientist\",\"Data Scientist\",\"Data Scientist\",\"Data Scientist\",\"Data Scientist\",\"Data Scientist\",\"Data Scientist\",\"Data Scientist\",\"Data Scientist\",\"Data Scientist\",\"Data Scientist\",\"Data Scientist\",\"Data Scientist\"],\"legendgroup\":\"Data Scientist\",\"marker\":{\"color\":\"#1F77B4\"},\"name\":\"Data Scientist\",\"notched\":false,\"offsetgroup\":\"Data Scientist\",\"orientation\":\"v\",\"showlegend\":true,\"x\":[\"Data Scientist\",\"Data Scientist\",\"Data Scientist\",\"Data Scientist\",\"Data Scientist\",\"Data Scientist\",\"Data Scientist\",\"Data Scientist\",\"Data Scientist\",\"Data Scientist\",\"Data Scientist\",\"Data Scientist\",\"Data Scientist\",\"Data Scientist\",\"Data Scientist\",\"Data Scientist\",\"Data Scientist\",\"Data Scientist\",\"Data Scientist\",\"Data Scientist\",\"Data Scientist\",\"Data Scientist\",\"Data Scientist\",\"Data Scientist\",\"Data Scientist\",\"Data Scientist\",\"Data Scientist\",\"Data Scientist\",\"Data Scientist\",\"Data Scientist\",\"Data Scientist\",\"Data Scientist\",\"Data Scientist\",\"Data Scientist\",\"Data Scientist\",\"Data Scientist\",\"Data Scientist\",\"Data Scientist\",\"Data Scientist\",\"Data Scientist\",\"Data Scientist\",\"Data Scientist\",\"Data Scientist\",\"Data Scientist\",\"Data Scientist\",\"Data Scientist\",\"Data Scientist\",\"Data Scientist\",\"Data Scientist\",\"Data Scientist\",\"Data Scientist\",\"Data Scientist\",\"Data Scientist\",\"Data Scientist\",\"Data Scientist\",\"Data Scientist\",\"Data Scientist\",\"Data Scientist\",\"Data Scientist\",\"Data Scientist\",\"Data Scientist\",\"Data Scientist\",\"Data Scientist\",\"Data Scientist\",\"Data Scientist\",\"Data Scientist\",\"Data Scientist\",\"Data Scientist\",\"Data Scientist\",\"Data Scientist\",\"Data Scientist\",\"Data Scientist\",\"Data Scientist\",\"Data Scientist\",\"Data Scientist\",\"Data Scientist\",\"Data Scientist\",\"Data Scientist\",\"Data Scientist\",\"Data Scientist\",\"Data Scientist\",\"Data Scientist\",\"Data Scientist\",\"Data Scientist\",\"Data Scientist\",\"Data Scientist\",\"Data Scientist\",\"Data Scientist\",\"Data Scientist\",\"Data Scientist\",\"Data Scientist\",\"Data Scientist\",\"Data Scientist\",\"Data Scientist\",\"Data Scientist\",\"Data Scientist\",\"Data Scientist\",\"Data Scientist\",\"Data Scientist\",\"Data Scientist\",\"Data Scientist\",\"Data Scientist\",\"Data Scientist\",\"Data Scientist\",\"Data Scientist\",\"Data Scientist\",\"Data Scientist\",\"Data Scientist\",\"Data Scientist\",\"Data Scientist\",\"Data Scientist\",\"Data Scientist\",\"Data Scientist\",\"Data Scientist\",\"Data Scientist\",\"Data Scientist\",\"Data Scientist\",\"Data Scientist\",\"Data Scientist\",\"Data Scientist\",\"Data Scientist\",\"Data Scientist\",\"Data Scientist\",\"Data Scientist\",\"Data Scientist\",\"Data Scientist\",\"Data Scientist\",\"Data Scientist\",\"Data Scientist\",\"Data Scientist\",\"Data Scientist\",\"Data Scientist\",\"Data Scientist\",\"Data Scientist\",\"Data Scientist\",\"Data Scientist\",\"Data Scientist\",\"Data Scientist\",\"Data Scientist\",\"Data Scientist\",\"Data Scientist\",\"Data Scientist\",\"Data Scientist\"],\"x0\":\" \",\"xaxis\":\"x\",\"y\":[79833,35735,51321,40481,39916,68428,45760,76958,105000,38776,118000,120000,138350,21669,412000,62726,49268,105000,91237,62726,42197,53192,29751,73000,50000,9466,49646,100000,80000,82500,150000,75774,13400,119059,2859,40038,5679,90734,147000,61467,37825,160000,12901,90734,116914,33808,56256,87738,88654,135000,46809,4000,103691,165000,36643,115000,90000,28399,130000,16904,25532,77684,100000,58000,20171,109000,130000,90000,136620,99360,117789,104702,146000,123000,65438,39263,165220,120160,180000,120000,95550,167000,123000,150000,211500,138600,170000,123000,215300,158200,180000,71982,45807,260000,180000,80000,140400,215300,31615,18442,104890,140000,220000,140000,183228,91614,185100,200000,120000,230000,100000,100000,35590,100000,165000,52396,40000,86703,48000,122346,69336,135000,78000,141300,102100,205300,140400,176000,144000,205300,140400,140000,210000,140000,210000,140000,210000,140000,230000,150000,210000,160000,130000],\"y0\":\" \",\"yaxis\":\"y\",\"type\":\"box\"},{\"alignmentgroup\":\"True\",\"hovertemplate\":\"<b>%{hovertext}</b><br><br>job_title=%{x}<br>salary_in_usd=%{y}<extra></extra>\",\"hovertext\":[\"Data Analyst\",\"Data Analyst\",\"Data Analyst\",\"Data Analyst\",\"Data Analyst\",\"Data Analyst\",\"Data Analyst\",\"Data Analyst\",\"Data Analyst\",\"Data Analyst\",\"Data Analyst\",\"Data Analyst\",\"Data Analyst\",\"Data Analyst\",\"Data Analyst\",\"Data Analyst\",\"Data Analyst\",\"Data Analyst\",\"Data Analyst\",\"Data Analyst\",\"Data Analyst\",\"Data Analyst\",\"Data Analyst\",\"Data Analyst\",\"Data Analyst\",\"Data Analyst\",\"Data Analyst\",\"Data Analyst\",\"Data Analyst\",\"Data Analyst\",\"Data Analyst\",\"Data Analyst\",\"Data Analyst\",\"Data Analyst\",\"Data Analyst\",\"Data Analyst\",\"Data Analyst\",\"Data Analyst\",\"Data Analyst\",\"Data Analyst\",\"Data Analyst\",\"Data Analyst\",\"Data Analyst\",\"Data Analyst\",\"Data Analyst\",\"Data Analyst\",\"Data Analyst\",\"Data Analyst\",\"Data Analyst\",\"Data Analyst\",\"Data Analyst\",\"Data Analyst\",\"Data Analyst\",\"Data Analyst\",\"Data Analyst\",\"Data Analyst\",\"Data Analyst\",\"Data Analyst\",\"Data Analyst\",\"Data Analyst\",\"Data Analyst\",\"Data Analyst\",\"Data Analyst\",\"Data Analyst\",\"Data Analyst\",\"Data Analyst\",\"Data Analyst\",\"Data Analyst\",\"Data Analyst\",\"Data Analyst\",\"Data Analyst\",\"Data Analyst\",\"Data Analyst\",\"Data Analyst\",\"Data Analyst\",\"Data Analyst\",\"Data Analyst\",\"Data Analyst\",\"Data Analyst\",\"Data Analyst\",\"Data Analyst\",\"Data Analyst\",\"Data Analyst\",\"Data Analyst\",\"Data Analyst\",\"Data Analyst\",\"Data Analyst\",\"Data Analyst\",\"Data Analyst\",\"Data Analyst\",\"Data Analyst\",\"Data Analyst\",\"Data Analyst\",\"Data Analyst\",\"Data Analyst\",\"Data Analyst\",\"Data Analyst\"],\"legendgroup\":\"Data Analyst\",\"marker\":{\"color\":\"#FF7F0E\"},\"name\":\"Data Analyst\",\"notched\":false,\"offsetgroup\":\"Data Analyst\",\"orientation\":\"v\",\"showlegend\":true,\"x\":[\"Data Analyst\",\"Data Analyst\",\"Data Analyst\",\"Data Analyst\",\"Data Analyst\",\"Data Analyst\",\"Data Analyst\",\"Data Analyst\",\"Data Analyst\",\"Data Analyst\",\"Data Analyst\",\"Data Analyst\",\"Data Analyst\",\"Data Analyst\",\"Data Analyst\",\"Data Analyst\",\"Data Analyst\",\"Data Analyst\",\"Data Analyst\",\"Data Analyst\",\"Data Analyst\",\"Data Analyst\",\"Data Analyst\",\"Data Analyst\",\"Data Analyst\",\"Data Analyst\",\"Data Analyst\",\"Data Analyst\",\"Data Analyst\",\"Data Analyst\",\"Data Analyst\",\"Data Analyst\",\"Data Analyst\",\"Data Analyst\",\"Data Analyst\",\"Data Analyst\",\"Data Analyst\",\"Data Analyst\",\"Data Analyst\",\"Data Analyst\",\"Data Analyst\",\"Data Analyst\",\"Data Analyst\",\"Data Analyst\",\"Data Analyst\",\"Data Analyst\",\"Data Analyst\",\"Data Analyst\",\"Data Analyst\",\"Data Analyst\",\"Data Analyst\",\"Data Analyst\",\"Data Analyst\",\"Data Analyst\",\"Data Analyst\",\"Data Analyst\",\"Data Analyst\",\"Data Analyst\",\"Data Analyst\",\"Data Analyst\",\"Data Analyst\",\"Data Analyst\",\"Data Analyst\",\"Data Analyst\",\"Data Analyst\",\"Data Analyst\",\"Data Analyst\",\"Data Analyst\",\"Data Analyst\",\"Data Analyst\",\"Data Analyst\",\"Data Analyst\",\"Data Analyst\",\"Data Analyst\",\"Data Analyst\",\"Data Analyst\",\"Data Analyst\",\"Data Analyst\",\"Data Analyst\",\"Data Analyst\",\"Data Analyst\",\"Data Analyst\",\"Data Analyst\",\"Data Analyst\",\"Data Analyst\",\"Data Analyst\",\"Data Analyst\",\"Data Analyst\",\"Data Analyst\",\"Data Analyst\",\"Data Analyst\",\"Data Analyst\",\"Data Analyst\",\"Data Analyst\",\"Data Analyst\",\"Data Analyst\",\"Data Analyst\"],\"x0\":\" \",\"xaxis\":\"x\",\"y\":[72000,85000,8000,46759,10000,6072,91000,80000,59102,80000,75000,62000,51519,90000,50000,10354,90000,135000,60000,71786,200000,80000,93000,63831,155000,120600,102100,84900,99000,116000,106260,126500,90320,124190,130000,110000,170000,115500,112900,90320,112900,90320,167000,136600,109280,135000,130000,61300,130000,61300,58000,132000,128875,93700,164000,112900,90320,115934,81666,58000,52351,39263,43966,32974,43966,32974,135000,50000,20000,135000,100000,90320,85000,75000,112900,115934,81666,99050,116150,170000,65438,80000,100000,69000,150075,126500,106260,105000,110925,45807,99000,60000,170000,67000,52000,129000,150000],\"y0\":\" \",\"yaxis\":\"y\",\"type\":\"box\"},{\"alignmentgroup\":\"True\",\"hovertemplate\":\"<b>%{hovertext}</b><br><br>job_title=%{x}<br>salary_in_usd=%{y}<extra></extra>\",\"hovertext\":[\"Data Engineer\",\"Data Engineer\",\"Data Engineer\",\"Data Engineer\",\"Data Engineer\",\"Data Engineer\",\"Data Engineer\",\"Data Engineer\",\"Data Engineer\",\"Data Engineer\",\"Data Engineer\",\"Data Engineer\",\"Data Engineer\",\"Data Engineer\",\"Data Engineer\",\"Data Engineer\",\"Data Engineer\",\"Data Engineer\",\"Data Engineer\",\"Data Engineer\",\"Data Engineer\",\"Data Engineer\",\"Data Engineer\",\"Data Engineer\",\"Data Engineer\",\"Data Engineer\",\"Data Engineer\",\"Data Engineer\",\"Data Engineer\",\"Data Engineer\",\"Data Engineer\",\"Data Engineer\",\"Data Engineer\",\"Data Engineer\",\"Data Engineer\",\"Data Engineer\",\"Data Engineer\",\"Data Engineer\",\"Data Engineer\",\"Data Engineer\",\"Data Engineer\",\"Data Engineer\",\"Data Engineer\",\"Data Engineer\",\"Data Engineer\",\"Data Engineer\",\"Data Engineer\",\"Data Engineer\",\"Data Engineer\",\"Data Engineer\",\"Data Engineer\",\"Data Engineer\",\"Data Engineer\",\"Data Engineer\",\"Data Engineer\",\"Data Engineer\",\"Data Engineer\",\"Data Engineer\",\"Data Engineer\",\"Data Engineer\",\"Data Engineer\",\"Data Engineer\",\"Data Engineer\",\"Data Engineer\",\"Data Engineer\",\"Data Engineer\",\"Data Engineer\",\"Data Engineer\",\"Data Engineer\",\"Data Engineer\",\"Data Engineer\",\"Data Engineer\",\"Data Engineer\",\"Data Engineer\",\"Data Engineer\",\"Data Engineer\",\"Data Engineer\",\"Data Engineer\",\"Data Engineer\",\"Data Engineer\",\"Data Engineer\",\"Data Engineer\",\"Data Engineer\",\"Data Engineer\",\"Data Engineer\",\"Data Engineer\",\"Data Engineer\",\"Data Engineer\",\"Data Engineer\",\"Data Engineer\",\"Data Engineer\",\"Data Engineer\",\"Data Engineer\",\"Data Engineer\",\"Data Engineer\",\"Data Engineer\",\"Data Engineer\",\"Data Engineer\",\"Data Engineer\",\"Data Engineer\",\"Data Engineer\",\"Data Engineer\",\"Data Engineer\",\"Data Engineer\",\"Data Engineer\",\"Data Engineer\",\"Data Engineer\",\"Data Engineer\",\"Data Engineer\",\"Data Engineer\",\"Data Engineer\",\"Data Engineer\",\"Data Engineer\",\"Data Engineer\",\"Data Engineer\",\"Data Engineer\",\"Data Engineer\",\"Data Engineer\",\"Data Engineer\",\"Data Engineer\",\"Data Engineer\",\"Data Engineer\",\"Data Engineer\",\"Data Engineer\",\"Data Engineer\",\"Data Engineer\",\"Data Engineer\",\"Data Engineer\",\"Data Engineer\",\"Data Engineer\",\"Data Engineer\",\"Data Engineer\"],\"legendgroup\":\"Data Engineer\",\"marker\":{\"color\":\"#2CA02C\"},\"name\":\"Data Engineer\",\"notched\":false,\"offsetgroup\":\"Data Engineer\",\"orientation\":\"v\",\"showlegend\":true,\"x\":[\"Data Engineer\",\"Data Engineer\",\"Data Engineer\",\"Data Engineer\",\"Data Engineer\",\"Data Engineer\",\"Data Engineer\",\"Data Engineer\",\"Data Engineer\",\"Data Engineer\",\"Data Engineer\",\"Data Engineer\",\"Data Engineer\",\"Data Engineer\",\"Data Engineer\",\"Data Engineer\",\"Data Engineer\",\"Data Engineer\",\"Data Engineer\",\"Data Engineer\",\"Data Engineer\",\"Data Engineer\",\"Data Engineer\",\"Data Engineer\",\"Data Engineer\",\"Data Engineer\",\"Data Engineer\",\"Data Engineer\",\"Data Engineer\",\"Data Engineer\",\"Data Engineer\",\"Data Engineer\",\"Data Engineer\",\"Data Engineer\",\"Data Engineer\",\"Data Engineer\",\"Data Engineer\",\"Data Engineer\",\"Data Engineer\",\"Data Engineer\",\"Data Engineer\",\"Data Engineer\",\"Data Engineer\",\"Data Engineer\",\"Data Engineer\",\"Data Engineer\",\"Data Engineer\",\"Data Engineer\",\"Data Engineer\",\"Data Engineer\",\"Data Engineer\",\"Data Engineer\",\"Data Engineer\",\"Data Engineer\",\"Data Engineer\",\"Data Engineer\",\"Data Engineer\",\"Data Engineer\",\"Data Engineer\",\"Data Engineer\",\"Data Engineer\",\"Data Engineer\",\"Data Engineer\",\"Data Engineer\",\"Data Engineer\",\"Data Engineer\",\"Data Engineer\",\"Data Engineer\",\"Data Engineer\",\"Data Engineer\",\"Data Engineer\",\"Data Engineer\",\"Data Engineer\",\"Data Engineer\",\"Data Engineer\",\"Data Engineer\",\"Data Engineer\",\"Data Engineer\",\"Data Engineer\",\"Data Engineer\",\"Data Engineer\",\"Data Engineer\",\"Data Engineer\",\"Data Engineer\",\"Data Engineer\",\"Data Engineer\",\"Data Engineer\",\"Data Engineer\",\"Data Engineer\",\"Data Engineer\",\"Data Engineer\",\"Data Engineer\",\"Data Engineer\",\"Data Engineer\",\"Data Engineer\",\"Data Engineer\",\"Data Engineer\",\"Data Engineer\",\"Data Engineer\",\"Data Engineer\",\"Data Engineer\",\"Data Engineer\",\"Data Engineer\",\"Data Engineer\",\"Data Engineer\",\"Data Engineer\",\"Data Engineer\",\"Data Engineer\",\"Data Engineer\",\"Data Engineer\",\"Data Engineer\",\"Data Engineer\",\"Data Engineer\",\"Data Engineer\",\"Data Engineer\",\"Data Engineer\",\"Data Engineer\",\"Data Engineer\",\"Data Engineer\",\"Data Engineer\",\"Data Engineer\",\"Data Engineer\",\"Data Engineer\",\"Data Engineer\",\"Data Engineer\",\"Data Engineer\",\"Data Engineer\",\"Data Engineer\",\"Data Engineer\",\"Data Engineer\",\"Data Engineer\",\"Data Engineer\"],\"x0\":\" \",\"xaxis\":\"x\",\"y\":[41689,47899,33511,74130,106000,112872,188000,70139,54742,110000,130800,140000,28476,150000,115000,150000,30428,45391,200000,100000,90000,28369,80000,82528,26005,4000,76833,165000,20000,66022,21637,110000,72212,12103,96282,200000,93150,111775,28016,65013,72500,112000,69741,135000,170000,150000,52351,242000,200000,78526,52351,45807,181940,132320,220110,160080,165400,132320,243900,128875,93700,156600,108800,113000,78526,65438,160000,136000,165400,136994,101570,132320,155000,117789,209100,154600,175000,98158,183600,65949,49461,78526,58894,63900,82900,100800,49461,87932,76940,104702,91614,65949,87932,98158,78526,76940,209100,154600,180000,80000,105000,54957,120000,100000,324000,216000,210000,58035,115000,65000,68147,155000,206699,99100,130000,115000,110500,130000,160000,200100,160000,145000,70500,175100,140250,54000,100000,25000,220110,160080,154000,126000],\"y0\":\" \",\"yaxis\":\"y\",\"type\":\"box\"}],                        {\"template\":{\"data\":{\"pie\":[{\"automargin\":true,\"type\":\"pie\"}]},\"layout\":{\"xaxis\":{\"showgrid\":true,\"title\":{\"standoff\":15}},\"yaxis\":{\"showgrid\":true,\"title\":{\"standoff\":15}}}},\"xaxis\":{\"anchor\":\"y\",\"domain\":[0.0,1.0],\"title\":{\"text\":\"job_title\"},\"categoryorder\":\"array\",\"categoryarray\":[\"Data Scientist\",\"Data Analyst\",\"Data Engineer\"]},\"yaxis\":{\"anchor\":\"x\",\"domain\":[0.0,1.0],\"title\":{\"text\":\"salary_in_usd\"}},\"legend\":{\"title\":{\"text\":\"job_title\"},\"tracegroupgap\":0},\"margin\":{\"t\":60},\"boxmode\":\"overlay\"},                        {\"responsive\": true}                    ).then(function(){\n",
              "                            \n",
              "var gd = document.getElementById('11a755d5-a820-468b-a1cf-fea13f0fea12');\n",
              "var x = new MutationObserver(function (mutations, observer) {{\n",
              "        var display = window.getComputedStyle(gd).display;\n",
              "        if (!display || display === 'none') {{\n",
              "            console.log([gd, 'removed!']);\n",
              "            Plotly.purge(gd);\n",
              "            observer.disconnect();\n",
              "        }}\n",
              "}});\n",
              "\n",
              "// Listen for the removal of the full notebook cells\n",
              "var notebookContainer = gd.closest('#notebook-container');\n",
              "if (notebookContainer) {{\n",
              "    x.observe(notebookContainer, {childList: true});\n",
              "}}\n",
              "\n",
              "// Listen for the clearing of the current output cell\n",
              "var outputEl = gd.closest('.output');\n",
              "if (outputEl) {{\n",
              "    x.observe(outputEl, {childList: true});\n",
              "}}\n",
              "\n",
              "                        })                };                            </script>        </div>\n",
              "</body>\n",
              "</html>"
            ]
          },
          "metadata": {}
        }
      ]
    },
    {
      "cell_type": "markdown",
      "source": [
        "<p>\n",
        "<font color=\"DarkBlue\">\n",
        "\n",
        "> **Hacer un análisis estadistico de variables numéricas... los tres roles con mas registros...**\n",
        "</font>\n",
        "</p>\n"
      ],
      "metadata": {
        "id": "Z-2C62WWuwZC"
      },
      "id": "Z-2C62WWuwZC"
    },
    {
      "cell_type": "code",
      "source": [
        "df.query(\"job_title in ['Data Scientist', 'Data Engineer','Data Analyst']\").describe().round(2).T"
      ],
      "metadata": {
        "colab": {
          "base_uri": "https://localhost:8080/",
          "height": 142
        },
        "id": "o-6VQ8izvDm8",
        "outputId": "afc9b80b-7342-4767-8a30-a523c08989cd"
      },
      "id": "o-6VQ8izvDm8",
      "execution_count": 38,
      "outputs": [
        {
          "output_type": "execute_result",
          "data": {
            "text/plain": [
              "               count       mean       std     min       25%       50%  \\\n",
              "work_year      372.0    2021.54      0.68  2020.0   2021.00    2022.0   \n",
              "salary_in_usd  372.0  105809.64  56762.53  2859.0  65009.75  100000.0   \n",
              "remote_ratio   372.0      70.83     42.21     0.0     50.00     100.0   \n",
              "\n",
              "                    75%       max  \n",
              "work_year        2022.0    2022.0  \n",
              "salary_in_usd  140000.0  412000.0  \n",
              "remote_ratio      100.0     100.0  "
            ],
            "text/html": [
              "\n",
              "  <div id=\"df-1da59137-0d7b-4245-ad7c-6ae41fadf625\">\n",
              "    <div class=\"colab-df-container\">\n",
              "      <div>\n",
              "<style scoped>\n",
              "    .dataframe tbody tr th:only-of-type {\n",
              "        vertical-align: middle;\n",
              "    }\n",
              "\n",
              "    .dataframe tbody tr th {\n",
              "        vertical-align: top;\n",
              "    }\n",
              "\n",
              "    .dataframe thead th {\n",
              "        text-align: right;\n",
              "    }\n",
              "</style>\n",
              "<table border=\"1\" class=\"dataframe\">\n",
              "  <thead>\n",
              "    <tr style=\"text-align: right;\">\n",
              "      <th></th>\n",
              "      <th>count</th>\n",
              "      <th>mean</th>\n",
              "      <th>std</th>\n",
              "      <th>min</th>\n",
              "      <th>25%</th>\n",
              "      <th>50%</th>\n",
              "      <th>75%</th>\n",
              "      <th>max</th>\n",
              "    </tr>\n",
              "  </thead>\n",
              "  <tbody>\n",
              "    <tr>\n",
              "      <th>work_year</th>\n",
              "      <td>372.0</td>\n",
              "      <td>2021.54</td>\n",
              "      <td>0.68</td>\n",
              "      <td>2020.0</td>\n",
              "      <td>2021.00</td>\n",
              "      <td>2022.0</td>\n",
              "      <td>2022.0</td>\n",
              "      <td>2022.0</td>\n",
              "    </tr>\n",
              "    <tr>\n",
              "      <th>salary_in_usd</th>\n",
              "      <td>372.0</td>\n",
              "      <td>105809.64</td>\n",
              "      <td>56762.53</td>\n",
              "      <td>2859.0</td>\n",
              "      <td>65009.75</td>\n",
              "      <td>100000.0</td>\n",
              "      <td>140000.0</td>\n",
              "      <td>412000.0</td>\n",
              "    </tr>\n",
              "    <tr>\n",
              "      <th>remote_ratio</th>\n",
              "      <td>372.0</td>\n",
              "      <td>70.83</td>\n",
              "      <td>42.21</td>\n",
              "      <td>0.0</td>\n",
              "      <td>50.00</td>\n",
              "      <td>100.0</td>\n",
              "      <td>100.0</td>\n",
              "      <td>100.0</td>\n",
              "    </tr>\n",
              "  </tbody>\n",
              "</table>\n",
              "</div>\n",
              "      <button class=\"colab-df-convert\" onclick=\"convertToInteractive('df-1da59137-0d7b-4245-ad7c-6ae41fadf625')\"\n",
              "              title=\"Convert this dataframe to an interactive table.\"\n",
              "              style=\"display:none;\">\n",
              "        \n",
              "  <svg xmlns=\"http://www.w3.org/2000/svg\" height=\"24px\"viewBox=\"0 0 24 24\"\n",
              "       width=\"24px\">\n",
              "    <path d=\"M0 0h24v24H0V0z\" fill=\"none\"/>\n",
              "    <path d=\"M18.56 5.44l.94 2.06.94-2.06 2.06-.94-2.06-.94-.94-2.06-.94 2.06-2.06.94zm-11 1L8.5 8.5l.94-2.06 2.06-.94-2.06-.94L8.5 2.5l-.94 2.06-2.06.94zm10 10l.94 2.06.94-2.06 2.06-.94-2.06-.94-.94-2.06-.94 2.06-2.06.94z\"/><path d=\"M17.41 7.96l-1.37-1.37c-.4-.4-.92-.59-1.43-.59-.52 0-1.04.2-1.43.59L10.3 9.45l-7.72 7.72c-.78.78-.78 2.05 0 2.83L4 21.41c.39.39.9.59 1.41.59.51 0 1.02-.2 1.41-.59l7.78-7.78 2.81-2.81c.8-.78.8-2.07 0-2.86zM5.41 20L4 18.59l7.72-7.72 1.47 1.35L5.41 20z\"/>\n",
              "  </svg>\n",
              "      </button>\n",
              "      \n",
              "  <style>\n",
              "    .colab-df-container {\n",
              "      display:flex;\n",
              "      flex-wrap:wrap;\n",
              "      gap: 12px;\n",
              "    }\n",
              "\n",
              "    .colab-df-convert {\n",
              "      background-color: #E8F0FE;\n",
              "      border: none;\n",
              "      border-radius: 50%;\n",
              "      cursor: pointer;\n",
              "      display: none;\n",
              "      fill: #1967D2;\n",
              "      height: 32px;\n",
              "      padding: 0 0 0 0;\n",
              "      width: 32px;\n",
              "    }\n",
              "\n",
              "    .colab-df-convert:hover {\n",
              "      background-color: #E2EBFA;\n",
              "      box-shadow: 0px 1px 2px rgba(60, 64, 67, 0.3), 0px 1px 3px 1px rgba(60, 64, 67, 0.15);\n",
              "      fill: #174EA6;\n",
              "    }\n",
              "\n",
              "    [theme=dark] .colab-df-convert {\n",
              "      background-color: #3B4455;\n",
              "      fill: #D2E3FC;\n",
              "    }\n",
              "\n",
              "    [theme=dark] .colab-df-convert:hover {\n",
              "      background-color: #434B5C;\n",
              "      box-shadow: 0px 1px 3px 1px rgba(0, 0, 0, 0.15);\n",
              "      filter: drop-shadow(0px 1px 2px rgba(0, 0, 0, 0.3));\n",
              "      fill: #FFFFFF;\n",
              "    }\n",
              "  </style>\n",
              "\n",
              "      <script>\n",
              "        const buttonEl =\n",
              "          document.querySelector('#df-1da59137-0d7b-4245-ad7c-6ae41fadf625 button.colab-df-convert');\n",
              "        buttonEl.style.display =\n",
              "          google.colab.kernel.accessAllowed ? 'block' : 'none';\n",
              "\n",
              "        async function convertToInteractive(key) {\n",
              "          const element = document.querySelector('#df-1da59137-0d7b-4245-ad7c-6ae41fadf625');\n",
              "          const dataTable =\n",
              "            await google.colab.kernel.invokeFunction('convertToInteractive',\n",
              "                                                     [key], {});\n",
              "          if (!dataTable) return;\n",
              "\n",
              "          const docLinkHtml = 'Like what you see? Visit the ' +\n",
              "            '<a target=\"_blank\" href=https://colab.research.google.com/notebooks/data_table.ipynb>data table notebook</a>'\n",
              "            + ' to learn more about interactive tables.';\n",
              "          element.innerHTML = '';\n",
              "          dataTable['output_type'] = 'display_data';\n",
              "          await google.colab.output.renderOutput(dataTable, element);\n",
              "          const docLink = document.createElement('div');\n",
              "          docLink.innerHTML = docLinkHtml;\n",
              "          element.appendChild(docLink);\n",
              "        }\n",
              "      </script>\n",
              "    </div>\n",
              "  </div>\n",
              "  "
            ]
          },
          "metadata": {},
          "execution_count": 38
        }
      ]
    },
    {
      "cell_type": "markdown",
      "source": [
        "<p>\n",
        "<font color=\"Red\">\n",
        "\n",
        "> **Hacer un análisis estadistico de variables no numéricas... los tres roles con mas registros...** 😈😈😈\n",
        "</font>\n",
        "</p>\n"
      ],
      "metadata": {
        "id": "_Zy_HduLfiuq"
      },
      "id": "_Zy_HduLfiuq"
    },
    {
      "cell_type": "code",
      "source": [
        "df.query(\"job_title in ['Data Scientist', 'Data Engineer','Data Analyst']\").describe(include=[object]).round(2).T"
      ],
      "metadata": {
        "colab": {
          "base_uri": "https://localhost:8080/",
          "height": 235
        },
        "id": "v1a1Ty1evkSX",
        "outputId": "298ef454-cbc7-4208-da51-228c16708ad9"
      },
      "id": "v1a1Ty1evkSX",
      "execution_count": 39,
      "outputs": [
        {
          "output_type": "execute_result",
          "data": {
            "text/plain": [
              "                   count unique             top freq\n",
              "experience_level     372      4              SE  178\n",
              "employment_type      372      3              FT  365\n",
              "job_title            372      3  Data Scientist  143\n",
              "employee_residence   372     34              US  230\n",
              "company_location     372     30              US  240\n",
              "company_size         372      3               M  242"
            ],
            "text/html": [
              "\n",
              "  <div id=\"df-26274872-f0f4-4fb7-b3c9-e4e1f160146f\">\n",
              "    <div class=\"colab-df-container\">\n",
              "      <div>\n",
              "<style scoped>\n",
              "    .dataframe tbody tr th:only-of-type {\n",
              "        vertical-align: middle;\n",
              "    }\n",
              "\n",
              "    .dataframe tbody tr th {\n",
              "        vertical-align: top;\n",
              "    }\n",
              "\n",
              "    .dataframe thead th {\n",
              "        text-align: right;\n",
              "    }\n",
              "</style>\n",
              "<table border=\"1\" class=\"dataframe\">\n",
              "  <thead>\n",
              "    <tr style=\"text-align: right;\">\n",
              "      <th></th>\n",
              "      <th>count</th>\n",
              "      <th>unique</th>\n",
              "      <th>top</th>\n",
              "      <th>freq</th>\n",
              "    </tr>\n",
              "  </thead>\n",
              "  <tbody>\n",
              "    <tr>\n",
              "      <th>experience_level</th>\n",
              "      <td>372</td>\n",
              "      <td>4</td>\n",
              "      <td>SE</td>\n",
              "      <td>178</td>\n",
              "    </tr>\n",
              "    <tr>\n",
              "      <th>employment_type</th>\n",
              "      <td>372</td>\n",
              "      <td>3</td>\n",
              "      <td>FT</td>\n",
              "      <td>365</td>\n",
              "    </tr>\n",
              "    <tr>\n",
              "      <th>job_title</th>\n",
              "      <td>372</td>\n",
              "      <td>3</td>\n",
              "      <td>Data Scientist</td>\n",
              "      <td>143</td>\n",
              "    </tr>\n",
              "    <tr>\n",
              "      <th>employee_residence</th>\n",
              "      <td>372</td>\n",
              "      <td>34</td>\n",
              "      <td>US</td>\n",
              "      <td>230</td>\n",
              "    </tr>\n",
              "    <tr>\n",
              "      <th>company_location</th>\n",
              "      <td>372</td>\n",
              "      <td>30</td>\n",
              "      <td>US</td>\n",
              "      <td>240</td>\n",
              "    </tr>\n",
              "    <tr>\n",
              "      <th>company_size</th>\n",
              "      <td>372</td>\n",
              "      <td>3</td>\n",
              "      <td>M</td>\n",
              "      <td>242</td>\n",
              "    </tr>\n",
              "  </tbody>\n",
              "</table>\n",
              "</div>\n",
              "      <button class=\"colab-df-convert\" onclick=\"convertToInteractive('df-26274872-f0f4-4fb7-b3c9-e4e1f160146f')\"\n",
              "              title=\"Convert this dataframe to an interactive table.\"\n",
              "              style=\"display:none;\">\n",
              "        \n",
              "  <svg xmlns=\"http://www.w3.org/2000/svg\" height=\"24px\"viewBox=\"0 0 24 24\"\n",
              "       width=\"24px\">\n",
              "    <path d=\"M0 0h24v24H0V0z\" fill=\"none\"/>\n",
              "    <path d=\"M18.56 5.44l.94 2.06.94-2.06 2.06-.94-2.06-.94-.94-2.06-.94 2.06-2.06.94zm-11 1L8.5 8.5l.94-2.06 2.06-.94-2.06-.94L8.5 2.5l-.94 2.06-2.06.94zm10 10l.94 2.06.94-2.06 2.06-.94-2.06-.94-.94-2.06-.94 2.06-2.06.94z\"/><path d=\"M17.41 7.96l-1.37-1.37c-.4-.4-.92-.59-1.43-.59-.52 0-1.04.2-1.43.59L10.3 9.45l-7.72 7.72c-.78.78-.78 2.05 0 2.83L4 21.41c.39.39.9.59 1.41.59.51 0 1.02-.2 1.41-.59l7.78-7.78 2.81-2.81c.8-.78.8-2.07 0-2.86zM5.41 20L4 18.59l7.72-7.72 1.47 1.35L5.41 20z\"/>\n",
              "  </svg>\n",
              "      </button>\n",
              "      \n",
              "  <style>\n",
              "    .colab-df-container {\n",
              "      display:flex;\n",
              "      flex-wrap:wrap;\n",
              "      gap: 12px;\n",
              "    }\n",
              "\n",
              "    .colab-df-convert {\n",
              "      background-color: #E8F0FE;\n",
              "      border: none;\n",
              "      border-radius: 50%;\n",
              "      cursor: pointer;\n",
              "      display: none;\n",
              "      fill: #1967D2;\n",
              "      height: 32px;\n",
              "      padding: 0 0 0 0;\n",
              "      width: 32px;\n",
              "    }\n",
              "\n",
              "    .colab-df-convert:hover {\n",
              "      background-color: #E2EBFA;\n",
              "      box-shadow: 0px 1px 2px rgba(60, 64, 67, 0.3), 0px 1px 3px 1px rgba(60, 64, 67, 0.15);\n",
              "      fill: #174EA6;\n",
              "    }\n",
              "\n",
              "    [theme=dark] .colab-df-convert {\n",
              "      background-color: #3B4455;\n",
              "      fill: #D2E3FC;\n",
              "    }\n",
              "\n",
              "    [theme=dark] .colab-df-convert:hover {\n",
              "      background-color: #434B5C;\n",
              "      box-shadow: 0px 1px 3px 1px rgba(0, 0, 0, 0.15);\n",
              "      filter: drop-shadow(0px 1px 2px rgba(0, 0, 0, 0.3));\n",
              "      fill: #FFFFFF;\n",
              "    }\n",
              "  </style>\n",
              "\n",
              "      <script>\n",
              "        const buttonEl =\n",
              "          document.querySelector('#df-26274872-f0f4-4fb7-b3c9-e4e1f160146f button.colab-df-convert');\n",
              "        buttonEl.style.display =\n",
              "          google.colab.kernel.accessAllowed ? 'block' : 'none';\n",
              "\n",
              "        async function convertToInteractive(key) {\n",
              "          const element = document.querySelector('#df-26274872-f0f4-4fb7-b3c9-e4e1f160146f');\n",
              "          const dataTable =\n",
              "            await google.colab.kernel.invokeFunction('convertToInteractive',\n",
              "                                                     [key], {});\n",
              "          if (!dataTable) return;\n",
              "\n",
              "          const docLinkHtml = 'Like what you see? Visit the ' +\n",
              "            '<a target=\"_blank\" href=https://colab.research.google.com/notebooks/data_table.ipynb>data table notebook</a>'\n",
              "            + ' to learn more about interactive tables.';\n",
              "          element.innerHTML = '';\n",
              "          dataTable['output_type'] = 'display_data';\n",
              "          await google.colab.output.renderOutput(dataTable, element);\n",
              "          const docLink = document.createElement('div');\n",
              "          docLink.innerHTML = docLinkHtml;\n",
              "          element.appendChild(docLink);\n",
              "        }\n",
              "      </script>\n",
              "    </div>\n",
              "  </div>\n",
              "  "
            ]
          },
          "metadata": {},
          "execution_count": 39
        }
      ]
    },
    {
      "cell_type": "markdown",
      "source": [
        "<p>\n",
        "<font color=\"Red\">\n",
        "\n",
        "> **Hacer un gráfico que crea relevante y en una celda de texto, indicar el por qué de la selección...** 😈😈😈\n",
        "</font>\n",
        "</p>\n"
      ],
      "metadata": {
        "id": "M2hPEixVxe2X"
      },
      "id": "M2hPEixVxe2X"
    },
    {
      "cell_type": "code",
      "source": [],
      "metadata": {
        "id": "ULliO7doxqHD"
      },
      "id": "ULliO7doxqHD",
      "execution_count": null,
      "outputs": []
    },
    {
      "cell_type": "markdown",
      "id": "db7a81dd-0eb5-4391-b855-4ab7a3ed5d06",
      "metadata": {
        "id": "db7a81dd-0eb5-4391-b855-4ab7a3ed5d06"
      },
      "source": [
        "---\n",
        "<p>\n",
        "<font color=\"RoyalBlue\">\n",
        "\n",
        "💙 💙 💙 **Hemos concluido con esta actividad, nos encontraremos en el proximo cuaderno, buen finde...** \n",
        "</font>\n",
        "</p>\n",
        "\n",
        "---"
      ]
    },
    {
      "cell_type": "markdown",
      "id": "cc2cb851-466f-40ca-bc0d-3341d7d0553c",
      "metadata": {
        "id": "cc2cb851-466f-40ca-bc0d-3341d7d0553c"
      },
      "source": [
        "# 😀"
      ]
    }
  ],
  "metadata": {
    "kernelspec": {
      "display_name": "Python 3 (ipykernel)",
      "language": "python",
      "name": "python3"
    },
    "language_info": {
      "codemirror_mode": {
        "name": "ipython",
        "version": 3
      },
      "file_extension": ".py",
      "mimetype": "text/x-python",
      "name": "python",
      "nbconvert_exporter": "python",
      "pygments_lexer": "ipython3",
      "version": "3.10.2"
    },
    "toc-autonumbering": false,
    "toc-showmarkdowntxt": false,
    "colab": {
      "provenance": [],
      "collapsed_sections": [
        "87a2fb36-8011-44e0-a07a-19d19d7e7d15"
      ],
      "toc_visible": true,
      "include_colab_link": true
    }
  },
  "nbformat": 4,
  "nbformat_minor": 5
}