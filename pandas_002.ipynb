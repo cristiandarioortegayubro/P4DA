{
  "cells": [
    {
      "cell_type": "markdown",
      "metadata": {
        "id": "view-in-github",
        "colab_type": "text"
      },
      "source": [
        "<a href=\"https://colab.research.google.com/github/cristiandarioortegayubro/P4DA/blob/main/pandas_002.ipynb\" target=\"_parent\"><img src=\"https://colab.research.google.com/assets/colab-badge.svg\" alt=\"Open In Colab\"/></a>"
      ]
    },
    {
      "cell_type": "markdown",
      "id": "da6bb78a-bd51-417d-95e4-8709493b6066",
      "metadata": {
        "id": "da6bb78a-bd51-417d-95e4-8709493b6066"
      },
      "source": [
        "![](https://github.com/cristiandarioortegayubro/P4DA/blob/main/Logo.png?raw=true)"
      ]
    },
    {
      "cell_type": "markdown",
      "source": [
        "![](https://github.com/cristiandarioortegayubro/BDS/blob/main/images/Logo%20Pandas.png?raw=true)"
      ],
      "metadata": {
        "id": "_mTyLkDLeh1F"
      },
      "id": "_mTyLkDLeh1F"
    },
    {
      "cell_type": "markdown",
      "source": [
        "<p><font color=\"RoyalBlue\">\n",
        "\n",
        "💙 **En este cuaderno continuamos con el desarrollo de los temás más  utilizados del módulo Pandas...**\n",
        "</p></font>"
      ],
      "metadata": {
        "id": "QAkxn9BVix86"
      },
      "id": "QAkxn9BVix86"
    },
    {
      "cell_type": "markdown",
      "source": [
        "[Graficos de Pandas](https://pandas.pydata.org/docs/reference/api/pandas.DataFrame.plot.html?highlight=plot#pandas.DataFrame.plot)"
      ],
      "metadata": {
        "id": "y3I-fVZdU5u1"
      },
      "id": "y3I-fVZdU5u1"
    },
    {
      "cell_type": "markdown",
      "source": [
        "<p align=justify><b><font color=\"RoyalBlue\">🐼 Los graficos que usamos con el metodo <code>plot()</code> de pandas, nos permiten hacer gráficos rápidos sin la necesidad de habilitar alguna biblioteca gráfica. Si bien estos gráficos son límitados en cuanto a su funcionalidad, estos gráficos se basan en los gráficos de la biblioteca <code>matplotlib</code> a traves de una api de pandas. </font></b></p>"
      ],
      "metadata": {
        "id": "R6SqFzXMizwk"
      },
      "id": "R6SqFzXMizwk"
    },
    {
      "cell_type": "markdown",
      "source": [
        "# **<font color=\"RoyalBlue\">Instalando la biblioteca requerida</font>**"
      ],
      "metadata": {
        "id": "ArmJsg1RrmRq"
      },
      "id": "ArmJsg1RrmRq"
    },
    {
      "cell_type": "code",
      "source": [
        "!pip install yfinance "
      ],
      "metadata": {
        "colab": {
          "base_uri": "https://localhost:8080/"
        },
        "id": "16daDlx1rrYl",
        "outputId": "304c40a9-5f88-49c2-cff1-5195b88ecdb4"
      },
      "id": "16daDlx1rrYl",
      "execution_count": 1,
      "outputs": [
        {
          "output_type": "stream",
          "name": "stdout",
          "text": [
            "Looking in indexes: https://pypi.org/simple, https://us-python.pkg.dev/colab-wheels/public/simple/\n",
            "Requirement already satisfied: yfinance in /usr/local/lib/python3.8/dist-packages (0.2.9)\n",
            "Requirement already satisfied: multitasking>=0.0.7 in /usr/local/lib/python3.8/dist-packages (from yfinance) (0.0.11)\n",
            "Requirement already satisfied: beautifulsoup4>=4.11.1 in /usr/local/lib/python3.8/dist-packages (from yfinance) (4.11.2)\n",
            "Requirement already satisfied: frozendict>=2.3.4 in /usr/local/lib/python3.8/dist-packages (from yfinance) (2.3.4)\n",
            "Requirement already satisfied: requests>=2.26 in /usr/local/lib/python3.8/dist-packages (from yfinance) (2.28.2)\n",
            "Requirement already satisfied: appdirs>=1.4.4 in /usr/local/lib/python3.8/dist-packages (from yfinance) (1.4.4)\n",
            "Requirement already satisfied: pandas>=1.3.0 in /usr/local/lib/python3.8/dist-packages (from yfinance) (1.3.5)\n",
            "Requirement already satisfied: numpy>=1.16.5 in /usr/local/lib/python3.8/dist-packages (from yfinance) (1.21.6)\n",
            "Requirement already satisfied: cryptography>=3.3.2 in /usr/local/lib/python3.8/dist-packages (from yfinance) (39.0.0)\n",
            "Requirement already satisfied: lxml>=4.9.1 in /usr/local/lib/python3.8/dist-packages (from yfinance) (4.9.2)\n",
            "Requirement already satisfied: html5lib>=1.1 in /usr/local/lib/python3.8/dist-packages (from yfinance) (1.1)\n",
            "Requirement already satisfied: pytz>=2022.5 in /usr/local/lib/python3.8/dist-packages (from yfinance) (2022.7)\n",
            "Requirement already satisfied: soupsieve>1.2 in /usr/local/lib/python3.8/dist-packages (from beautifulsoup4>=4.11.1->yfinance) (2.3.2.post1)\n",
            "Requirement already satisfied: cffi>=1.12 in /usr/local/lib/python3.8/dist-packages (from cryptography>=3.3.2->yfinance) (1.15.1)\n",
            "Requirement already satisfied: webencodings in /usr/local/lib/python3.8/dist-packages (from html5lib>=1.1->yfinance) (0.5.1)\n",
            "Requirement already satisfied: six>=1.9 in /usr/local/lib/python3.8/dist-packages (from html5lib>=1.1->yfinance) (1.15.0)\n",
            "Requirement already satisfied: python-dateutil>=2.7.3 in /usr/local/lib/python3.8/dist-packages (from pandas>=1.3.0->yfinance) (2.8.2)\n",
            "Requirement already satisfied: charset-normalizer<4,>=2 in /usr/local/lib/python3.8/dist-packages (from requests>=2.26->yfinance) (2.1.1)\n",
            "Requirement already satisfied: certifi>=2017.4.17 in /usr/local/lib/python3.8/dist-packages (from requests>=2.26->yfinance) (2022.12.7)\n",
            "Requirement already satisfied: urllib3<1.27,>=1.21.1 in /usr/local/lib/python3.8/dist-packages (from requests>=2.26->yfinance) (1.24.3)\n",
            "Requirement already satisfied: idna<4,>=2.5 in /usr/local/lib/python3.8/dist-packages (from requests>=2.26->yfinance) (2.10)\n",
            "Requirement already satisfied: pycparser in /usr/local/lib/python3.8/dist-packages (from cffi>=1.12->cryptography>=3.3.2->yfinance) (2.21)\n"
          ]
        }
      ]
    },
    {
      "cell_type": "markdown",
      "id": "319c461f-2d23-4921-8bcd-0fa3ba3833e3",
      "metadata": {
        "id": "319c461f-2d23-4921-8bcd-0fa3ba3833e3"
      },
      "source": [
        "# <font color=\"RoyalBlue\">**Habilitando bibliotecas requeridas**</font>"
      ]
    },
    {
      "cell_type": "markdown",
      "id": "35b48f73-68d2-4f77-8e86-592bc29a9ea4",
      "metadata": {
        "id": "35b48f73-68d2-4f77-8e86-592bc29a9ea4"
      },
      "source": [
        "## **<font color=\"RoyalBlue\">Para análisis de datos</font>**"
      ]
    },
    {
      "cell_type": "code",
      "execution_count": 2,
      "id": "0ee9d969-78b5-4e7d-9956-9c4a80498faf",
      "metadata": {
        "id": "0ee9d969-78b5-4e7d-9956-9c4a80498faf"
      },
      "outputs": [],
      "source": [
        "import pandas as pd"
      ]
    },
    {
      "cell_type": "markdown",
      "source": [
        "## **<font color=\"RoyalBlue\">Para acceso remoto de datos</font>**\n"
      ],
      "metadata": {
        "id": "RYNd8tcQfPhc"
      },
      "id": "RYNd8tcQfPhc"
    },
    {
      "cell_type": "code",
      "source": [
        "import yfinance as yf "
      ],
      "metadata": {
        "id": "3tmfWCEJfTra"
      },
      "id": "3tmfWCEJfTra",
      "execution_count": 3,
      "outputs": []
    },
    {
      "cell_type": "markdown",
      "id": "776d5c76-8b73-4dea-adc5-50d536e3c0b2",
      "metadata": {
        "id": "776d5c76-8b73-4dea-adc5-50d536e3c0b2"
      },
      "source": [
        "# **<font color=\"RoyalBlue\">Obtención de datos**"
      ]
    },
    {
      "cell_type": "code",
      "execution_count": 4,
      "id": "d79c58a7-55ed-45e8-b102-0f52f4b50338",
      "metadata": {
        "colab": {
          "base_uri": "https://localhost:8080/",
          "height": 641
        },
        "id": "d79c58a7-55ed-45e8-b102-0f52f4b50338",
        "outputId": "8b63c99e-f0ec-49be-f467-7864fe1bf66a"
      },
      "outputs": [
        {
          "output_type": "execute_result",
          "data": {
            "text/plain": [
              "          ORGANIZACION      FECHA                 PRODUCTO  CANTIDAD  \\\n",
              "0         Etigand S.A. 2019-12-27          Consultoria Web      50.0   \n",
              "1        Javier Moroni 2019-12-21               Honorarios       1.0   \n",
              "2         Amazon Group 2019-10-12        Parlantes para PC      30.0   \n",
              "3         Amazon Group 2019-06-12    Mercaderia de Reventa      30.0   \n",
              "4     Manganello S.R.L 2019-11-20          Consultoria Web      50.0   \n",
              "..                 ...        ...                      ...       ...   \n",
              "154     Hernandez S.A. 2018-01-31               Dise–o Web       5.0   \n",
              "155       Etigand S.A. 2018-01-25  Impresora Multifuncion        8.0   \n",
              "156       Etigand S.A. 2018-01-25                Monitores       8.0   \n",
              "157  Ferrari Hnos S.A. 2018-01-01  Impresora Multifuncion       10.0   \n",
              "158  Ferrari Hnos S.A. 2018-01-01                Monitores       8.0   \n",
              "\n",
              "         PRECIO  IMPORTEMONTRANSACCION            MONEDA  \n",
              "0     5785.1240              289256.20  Pesos Argentinos  \n",
              "1    99586.7769               99586.78  Pesos Argentinos  \n",
              "2     1990.0000               59700.00  Pesos Argentinos  \n",
              "3    10358.0000              310740.00  Pesos Argentinos  \n",
              "4     6300.0000              315000.00  Pesos Argentinos  \n",
              "..          ...                    ...               ...  \n",
              "154   6300.0000               31500.00  Pesos Argentinos  \n",
              "155   3553.7190               28429.75  Pesos Argentinos  \n",
              "156   3305.7851               26446.28  Pesos Argentinos  \n",
              "157   3553.7190               35537.19  Pesos Argentinos  \n",
              "158   3305.7851               26446.28  Pesos Argentinos  \n",
              "\n",
              "[157 rows x 7 columns]"
            ],
            "text/html": [
              "\n",
              "  <div id=\"df-bf168dec-4a03-4afd-83dc-f43d5f806067\">\n",
              "    <div class=\"colab-df-container\">\n",
              "      <div>\n",
              "<style scoped>\n",
              "    .dataframe tbody tr th:only-of-type {\n",
              "        vertical-align: middle;\n",
              "    }\n",
              "\n",
              "    .dataframe tbody tr th {\n",
              "        vertical-align: top;\n",
              "    }\n",
              "\n",
              "    .dataframe thead th {\n",
              "        text-align: right;\n",
              "    }\n",
              "</style>\n",
              "<table border=\"1\" class=\"dataframe\">\n",
              "  <thead>\n",
              "    <tr style=\"text-align: right;\">\n",
              "      <th></th>\n",
              "      <th>ORGANIZACION</th>\n",
              "      <th>FECHA</th>\n",
              "      <th>PRODUCTO</th>\n",
              "      <th>CANTIDAD</th>\n",
              "      <th>PRECIO</th>\n",
              "      <th>IMPORTEMONTRANSACCION</th>\n",
              "      <th>MONEDA</th>\n",
              "    </tr>\n",
              "  </thead>\n",
              "  <tbody>\n",
              "    <tr>\n",
              "      <th>0</th>\n",
              "      <td>Etigand S.A.</td>\n",
              "      <td>2019-12-27</td>\n",
              "      <td>Consultoria Web</td>\n",
              "      <td>50.0</td>\n",
              "      <td>5785.1240</td>\n",
              "      <td>289256.20</td>\n",
              "      <td>Pesos Argentinos</td>\n",
              "    </tr>\n",
              "    <tr>\n",
              "      <th>1</th>\n",
              "      <td>Javier Moroni</td>\n",
              "      <td>2019-12-21</td>\n",
              "      <td>Honorarios</td>\n",
              "      <td>1.0</td>\n",
              "      <td>99586.7769</td>\n",
              "      <td>99586.78</td>\n",
              "      <td>Pesos Argentinos</td>\n",
              "    </tr>\n",
              "    <tr>\n",
              "      <th>2</th>\n",
              "      <td>Amazon Group</td>\n",
              "      <td>2019-10-12</td>\n",
              "      <td>Parlantes para PC</td>\n",
              "      <td>30.0</td>\n",
              "      <td>1990.0000</td>\n",
              "      <td>59700.00</td>\n",
              "      <td>Pesos Argentinos</td>\n",
              "    </tr>\n",
              "    <tr>\n",
              "      <th>3</th>\n",
              "      <td>Amazon Group</td>\n",
              "      <td>2019-06-12</td>\n",
              "      <td>Mercaderia de Reventa</td>\n",
              "      <td>30.0</td>\n",
              "      <td>10358.0000</td>\n",
              "      <td>310740.00</td>\n",
              "      <td>Pesos Argentinos</td>\n",
              "    </tr>\n",
              "    <tr>\n",
              "      <th>4</th>\n",
              "      <td>Manganello S.R.L</td>\n",
              "      <td>2019-11-20</td>\n",
              "      <td>Consultoria Web</td>\n",
              "      <td>50.0</td>\n",
              "      <td>6300.0000</td>\n",
              "      <td>315000.00</td>\n",
              "      <td>Pesos Argentinos</td>\n",
              "    </tr>\n",
              "    <tr>\n",
              "      <th>...</th>\n",
              "      <td>...</td>\n",
              "      <td>...</td>\n",
              "      <td>...</td>\n",
              "      <td>...</td>\n",
              "      <td>...</td>\n",
              "      <td>...</td>\n",
              "      <td>...</td>\n",
              "    </tr>\n",
              "    <tr>\n",
              "      <th>154</th>\n",
              "      <td>Hernandez S.A.</td>\n",
              "      <td>2018-01-31</td>\n",
              "      <td>Dise–o Web</td>\n",
              "      <td>5.0</td>\n",
              "      <td>6300.0000</td>\n",
              "      <td>31500.00</td>\n",
              "      <td>Pesos Argentinos</td>\n",
              "    </tr>\n",
              "    <tr>\n",
              "      <th>155</th>\n",
              "      <td>Etigand S.A.</td>\n",
              "      <td>2018-01-25</td>\n",
              "      <td>Impresora Multifuncion</td>\n",
              "      <td>8.0</td>\n",
              "      <td>3553.7190</td>\n",
              "      <td>28429.75</td>\n",
              "      <td>Pesos Argentinos</td>\n",
              "    </tr>\n",
              "    <tr>\n",
              "      <th>156</th>\n",
              "      <td>Etigand S.A.</td>\n",
              "      <td>2018-01-25</td>\n",
              "      <td>Monitores</td>\n",
              "      <td>8.0</td>\n",
              "      <td>3305.7851</td>\n",
              "      <td>26446.28</td>\n",
              "      <td>Pesos Argentinos</td>\n",
              "    </tr>\n",
              "    <tr>\n",
              "      <th>157</th>\n",
              "      <td>Ferrari Hnos S.A.</td>\n",
              "      <td>2018-01-01</td>\n",
              "      <td>Impresora Multifuncion</td>\n",
              "      <td>10.0</td>\n",
              "      <td>3553.7190</td>\n",
              "      <td>35537.19</td>\n",
              "      <td>Pesos Argentinos</td>\n",
              "    </tr>\n",
              "    <tr>\n",
              "      <th>158</th>\n",
              "      <td>Ferrari Hnos S.A.</td>\n",
              "      <td>2018-01-01</td>\n",
              "      <td>Monitores</td>\n",
              "      <td>8.0</td>\n",
              "      <td>3305.7851</td>\n",
              "      <td>26446.28</td>\n",
              "      <td>Pesos Argentinos</td>\n",
              "    </tr>\n",
              "  </tbody>\n",
              "</table>\n",
              "<p>157 rows × 7 columns</p>\n",
              "</div>\n",
              "      <button class=\"colab-df-convert\" onclick=\"convertToInteractive('df-bf168dec-4a03-4afd-83dc-f43d5f806067')\"\n",
              "              title=\"Convert this dataframe to an interactive table.\"\n",
              "              style=\"display:none;\">\n",
              "        \n",
              "  <svg xmlns=\"http://www.w3.org/2000/svg\" height=\"24px\"viewBox=\"0 0 24 24\"\n",
              "       width=\"24px\">\n",
              "    <path d=\"M0 0h24v24H0V0z\" fill=\"none\"/>\n",
              "    <path d=\"M18.56 5.44l.94 2.06.94-2.06 2.06-.94-2.06-.94-.94-2.06-.94 2.06-2.06.94zm-11 1L8.5 8.5l.94-2.06 2.06-.94-2.06-.94L8.5 2.5l-.94 2.06-2.06.94zm10 10l.94 2.06.94-2.06 2.06-.94-2.06-.94-.94-2.06-.94 2.06-2.06.94z\"/><path d=\"M17.41 7.96l-1.37-1.37c-.4-.4-.92-.59-1.43-.59-.52 0-1.04.2-1.43.59L10.3 9.45l-7.72 7.72c-.78.78-.78 2.05 0 2.83L4 21.41c.39.39.9.59 1.41.59.51 0 1.02-.2 1.41-.59l7.78-7.78 2.81-2.81c.8-.78.8-2.07 0-2.86zM5.41 20L4 18.59l7.72-7.72 1.47 1.35L5.41 20z\"/>\n",
              "  </svg>\n",
              "      </button>\n",
              "      \n",
              "  <style>\n",
              "    .colab-df-container {\n",
              "      display:flex;\n",
              "      flex-wrap:wrap;\n",
              "      gap: 12px;\n",
              "    }\n",
              "\n",
              "    .colab-df-convert {\n",
              "      background-color: #E8F0FE;\n",
              "      border: none;\n",
              "      border-radius: 50%;\n",
              "      cursor: pointer;\n",
              "      display: none;\n",
              "      fill: #1967D2;\n",
              "      height: 32px;\n",
              "      padding: 0 0 0 0;\n",
              "      width: 32px;\n",
              "    }\n",
              "\n",
              "    .colab-df-convert:hover {\n",
              "      background-color: #E2EBFA;\n",
              "      box-shadow: 0px 1px 2px rgba(60, 64, 67, 0.3), 0px 1px 3px 1px rgba(60, 64, 67, 0.15);\n",
              "      fill: #174EA6;\n",
              "    }\n",
              "\n",
              "    [theme=dark] .colab-df-convert {\n",
              "      background-color: #3B4455;\n",
              "      fill: #D2E3FC;\n",
              "    }\n",
              "\n",
              "    [theme=dark] .colab-df-convert:hover {\n",
              "      background-color: #434B5C;\n",
              "      box-shadow: 0px 1px 3px 1px rgba(0, 0, 0, 0.15);\n",
              "      filter: drop-shadow(0px 1px 2px rgba(0, 0, 0, 0.3));\n",
              "      fill: #FFFFFF;\n",
              "    }\n",
              "  </style>\n",
              "\n",
              "      <script>\n",
              "        const buttonEl =\n",
              "          document.querySelector('#df-bf168dec-4a03-4afd-83dc-f43d5f806067 button.colab-df-convert');\n",
              "        buttonEl.style.display =\n",
              "          google.colab.kernel.accessAllowed ? 'block' : 'none';\n",
              "\n",
              "        async function convertToInteractive(key) {\n",
              "          const element = document.querySelector('#df-bf168dec-4a03-4afd-83dc-f43d5f806067');\n",
              "          const dataTable =\n",
              "            await google.colab.kernel.invokeFunction('convertToInteractive',\n",
              "                                                     [key], {});\n",
              "          if (!dataTable) return;\n",
              "\n",
              "          const docLinkHtml = 'Like what you see? Visit the ' +\n",
              "            '<a target=\"_blank\" href=https://colab.research.google.com/notebooks/data_table.ipynb>data table notebook</a>'\n",
              "            + ' to learn more about interactive tables.';\n",
              "          element.innerHTML = '';\n",
              "          dataTable['output_type'] = 'display_data';\n",
              "          await google.colab.output.renderOutput(dataTable, element);\n",
              "          const docLink = document.createElement('div');\n",
              "          docLink.innerHTML = docLinkHtml;\n",
              "          element.appendChild(docLink);\n",
              "        }\n",
              "      </script>\n",
              "    </div>\n",
              "  </div>\n",
              "  "
            ]
          },
          "metadata": {},
          "execution_count": 4
        }
      ],
      "source": [
        "datos = \"https://raw.githubusercontent.com/cristiandarioortegayubro/BA/main/Datasets/Analisis_de_Facturas_de_Venta.csv\"\n",
        "df = pd.read_csv(datos)\n",
        "df[\"FECHA\"] = pd.to_datetime(df.FECHA, infer_datetime_format=True)\n",
        "df.drop(columns=[\"DOCUMENTO\",\"TIPOFACTURA\"], inplace=True)\n",
        "df = df[df.MONEDA == \"Pesos Argentinos\"]\n",
        "df"
      ]
    },
    {
      "cell_type": "code",
      "source": [
        "df = df.sort_values(by=\"FECHA\", ascending=True)\n",
        "df = df.reset_index(drop=True)\n",
        "df"
      ],
      "metadata": {
        "colab": {
          "base_uri": "https://localhost:8080/",
          "height": 641
        },
        "id": "_4K6DpYqQUaV",
        "outputId": "5e32a064-e981-48ae-991d-57ad67d9a7f9"
      },
      "id": "_4K6DpYqQUaV",
      "execution_count": 5,
      "outputs": [
        {
          "output_type": "execute_result",
          "data": {
            "text/plain": [
              "                   ORGANIZACION      FECHA                 PRODUCTO  CANTIDAD  \\\n",
              "0             Ferrari Hnos S.A. 2018-01-01                Monitores       8.0   \n",
              "1             Ferrari Hnos S.A. 2018-01-01  Impresora Multifuncion       10.0   \n",
              "2               Donadelli S.R.L 2018-01-03   Publicidad y Marketing       1.0   \n",
              "3                  Berker S.R.L 2018-01-05          Consultoria Web       1.0   \n",
              "4                 Javier Moroni 2018-01-06               Dise–o Web       1.0   \n",
              "..                          ...        ...                      ...       ...   \n",
              "152               Galardon S.A. 2019-11-17  Impresora Multifuncion       23.0   \n",
              "153            Manganello S.R.L 2019-11-20          Consultoria Web      50.0   \n",
              "154  Nicolasen y Asociados S.A. 2019-12-04    Mercaderia de Reventa      25.0   \n",
              "155               Javier Moroni 2019-12-21               Honorarios       1.0   \n",
              "156                Etigand S.A. 2019-12-27          Consultoria Web      50.0   \n",
              "\n",
              "         PRECIO  IMPORTEMONTRANSACCION            MONEDA  \n",
              "0     3305.7851               26446.28  Pesos Argentinos  \n",
              "1     3553.7190               35537.19  Pesos Argentinos  \n",
              "2    65000.0000               65000.00  Pesos Argentinos  \n",
              "3    15000.0000               15000.00  Pesos Argentinos  \n",
              "4    13223.1405               13223.14  Pesos Argentinos  \n",
              "..          ...                    ...               ...  \n",
              "152  10209.0000              234807.00  Pesos Argentinos  \n",
              "153   6300.0000              315000.00  Pesos Argentinos  \n",
              "154   2059.0000               51475.00  Pesos Argentinos  \n",
              "155  99586.7769               99586.78  Pesos Argentinos  \n",
              "156   5785.1240              289256.20  Pesos Argentinos  \n",
              "\n",
              "[157 rows x 7 columns]"
            ],
            "text/html": [
              "\n",
              "  <div id=\"df-23d57108-1dc4-4be8-a062-4d28c48f5430\">\n",
              "    <div class=\"colab-df-container\">\n",
              "      <div>\n",
              "<style scoped>\n",
              "    .dataframe tbody tr th:only-of-type {\n",
              "        vertical-align: middle;\n",
              "    }\n",
              "\n",
              "    .dataframe tbody tr th {\n",
              "        vertical-align: top;\n",
              "    }\n",
              "\n",
              "    .dataframe thead th {\n",
              "        text-align: right;\n",
              "    }\n",
              "</style>\n",
              "<table border=\"1\" class=\"dataframe\">\n",
              "  <thead>\n",
              "    <tr style=\"text-align: right;\">\n",
              "      <th></th>\n",
              "      <th>ORGANIZACION</th>\n",
              "      <th>FECHA</th>\n",
              "      <th>PRODUCTO</th>\n",
              "      <th>CANTIDAD</th>\n",
              "      <th>PRECIO</th>\n",
              "      <th>IMPORTEMONTRANSACCION</th>\n",
              "      <th>MONEDA</th>\n",
              "    </tr>\n",
              "  </thead>\n",
              "  <tbody>\n",
              "    <tr>\n",
              "      <th>0</th>\n",
              "      <td>Ferrari Hnos S.A.</td>\n",
              "      <td>2018-01-01</td>\n",
              "      <td>Monitores</td>\n",
              "      <td>8.0</td>\n",
              "      <td>3305.7851</td>\n",
              "      <td>26446.28</td>\n",
              "      <td>Pesos Argentinos</td>\n",
              "    </tr>\n",
              "    <tr>\n",
              "      <th>1</th>\n",
              "      <td>Ferrari Hnos S.A.</td>\n",
              "      <td>2018-01-01</td>\n",
              "      <td>Impresora Multifuncion</td>\n",
              "      <td>10.0</td>\n",
              "      <td>3553.7190</td>\n",
              "      <td>35537.19</td>\n",
              "      <td>Pesos Argentinos</td>\n",
              "    </tr>\n",
              "    <tr>\n",
              "      <th>2</th>\n",
              "      <td>Donadelli S.R.L</td>\n",
              "      <td>2018-01-03</td>\n",
              "      <td>Publicidad y Marketing</td>\n",
              "      <td>1.0</td>\n",
              "      <td>65000.0000</td>\n",
              "      <td>65000.00</td>\n",
              "      <td>Pesos Argentinos</td>\n",
              "    </tr>\n",
              "    <tr>\n",
              "      <th>3</th>\n",
              "      <td>Berker S.R.L</td>\n",
              "      <td>2018-01-05</td>\n",
              "      <td>Consultoria Web</td>\n",
              "      <td>1.0</td>\n",
              "      <td>15000.0000</td>\n",
              "      <td>15000.00</td>\n",
              "      <td>Pesos Argentinos</td>\n",
              "    </tr>\n",
              "    <tr>\n",
              "      <th>4</th>\n",
              "      <td>Javier Moroni</td>\n",
              "      <td>2018-01-06</td>\n",
              "      <td>Dise–o Web</td>\n",
              "      <td>1.0</td>\n",
              "      <td>13223.1405</td>\n",
              "      <td>13223.14</td>\n",
              "      <td>Pesos Argentinos</td>\n",
              "    </tr>\n",
              "    <tr>\n",
              "      <th>...</th>\n",
              "      <td>...</td>\n",
              "      <td>...</td>\n",
              "      <td>...</td>\n",
              "      <td>...</td>\n",
              "      <td>...</td>\n",
              "      <td>...</td>\n",
              "      <td>...</td>\n",
              "    </tr>\n",
              "    <tr>\n",
              "      <th>152</th>\n",
              "      <td>Galardon S.A.</td>\n",
              "      <td>2019-11-17</td>\n",
              "      <td>Impresora Multifuncion</td>\n",
              "      <td>23.0</td>\n",
              "      <td>10209.0000</td>\n",
              "      <td>234807.00</td>\n",
              "      <td>Pesos Argentinos</td>\n",
              "    </tr>\n",
              "    <tr>\n",
              "      <th>153</th>\n",
              "      <td>Manganello S.R.L</td>\n",
              "      <td>2019-11-20</td>\n",
              "      <td>Consultoria Web</td>\n",
              "      <td>50.0</td>\n",
              "      <td>6300.0000</td>\n",
              "      <td>315000.00</td>\n",
              "      <td>Pesos Argentinos</td>\n",
              "    </tr>\n",
              "    <tr>\n",
              "      <th>154</th>\n",
              "      <td>Nicolasen y Asociados S.A.</td>\n",
              "      <td>2019-12-04</td>\n",
              "      <td>Mercaderia de Reventa</td>\n",
              "      <td>25.0</td>\n",
              "      <td>2059.0000</td>\n",
              "      <td>51475.00</td>\n",
              "      <td>Pesos Argentinos</td>\n",
              "    </tr>\n",
              "    <tr>\n",
              "      <th>155</th>\n",
              "      <td>Javier Moroni</td>\n",
              "      <td>2019-12-21</td>\n",
              "      <td>Honorarios</td>\n",
              "      <td>1.0</td>\n",
              "      <td>99586.7769</td>\n",
              "      <td>99586.78</td>\n",
              "      <td>Pesos Argentinos</td>\n",
              "    </tr>\n",
              "    <tr>\n",
              "      <th>156</th>\n",
              "      <td>Etigand S.A.</td>\n",
              "      <td>2019-12-27</td>\n",
              "      <td>Consultoria Web</td>\n",
              "      <td>50.0</td>\n",
              "      <td>5785.1240</td>\n",
              "      <td>289256.20</td>\n",
              "      <td>Pesos Argentinos</td>\n",
              "    </tr>\n",
              "  </tbody>\n",
              "</table>\n",
              "<p>157 rows × 7 columns</p>\n",
              "</div>\n",
              "      <button class=\"colab-df-convert\" onclick=\"convertToInteractive('df-23d57108-1dc4-4be8-a062-4d28c48f5430')\"\n",
              "              title=\"Convert this dataframe to an interactive table.\"\n",
              "              style=\"display:none;\">\n",
              "        \n",
              "  <svg xmlns=\"http://www.w3.org/2000/svg\" height=\"24px\"viewBox=\"0 0 24 24\"\n",
              "       width=\"24px\">\n",
              "    <path d=\"M0 0h24v24H0V0z\" fill=\"none\"/>\n",
              "    <path d=\"M18.56 5.44l.94 2.06.94-2.06 2.06-.94-2.06-.94-.94-2.06-.94 2.06-2.06.94zm-11 1L8.5 8.5l.94-2.06 2.06-.94-2.06-.94L8.5 2.5l-.94 2.06-2.06.94zm10 10l.94 2.06.94-2.06 2.06-.94-2.06-.94-.94-2.06-.94 2.06-2.06.94z\"/><path d=\"M17.41 7.96l-1.37-1.37c-.4-.4-.92-.59-1.43-.59-.52 0-1.04.2-1.43.59L10.3 9.45l-7.72 7.72c-.78.78-.78 2.05 0 2.83L4 21.41c.39.39.9.59 1.41.59.51 0 1.02-.2 1.41-.59l7.78-7.78 2.81-2.81c.8-.78.8-2.07 0-2.86zM5.41 20L4 18.59l7.72-7.72 1.47 1.35L5.41 20z\"/>\n",
              "  </svg>\n",
              "      </button>\n",
              "      \n",
              "  <style>\n",
              "    .colab-df-container {\n",
              "      display:flex;\n",
              "      flex-wrap:wrap;\n",
              "      gap: 12px;\n",
              "    }\n",
              "\n",
              "    .colab-df-convert {\n",
              "      background-color: #E8F0FE;\n",
              "      border: none;\n",
              "      border-radius: 50%;\n",
              "      cursor: pointer;\n",
              "      display: none;\n",
              "      fill: #1967D2;\n",
              "      height: 32px;\n",
              "      padding: 0 0 0 0;\n",
              "      width: 32px;\n",
              "    }\n",
              "\n",
              "    .colab-df-convert:hover {\n",
              "      background-color: #E2EBFA;\n",
              "      box-shadow: 0px 1px 2px rgba(60, 64, 67, 0.3), 0px 1px 3px 1px rgba(60, 64, 67, 0.15);\n",
              "      fill: #174EA6;\n",
              "    }\n",
              "\n",
              "    [theme=dark] .colab-df-convert {\n",
              "      background-color: #3B4455;\n",
              "      fill: #D2E3FC;\n",
              "    }\n",
              "\n",
              "    [theme=dark] .colab-df-convert:hover {\n",
              "      background-color: #434B5C;\n",
              "      box-shadow: 0px 1px 3px 1px rgba(0, 0, 0, 0.15);\n",
              "      filter: drop-shadow(0px 1px 2px rgba(0, 0, 0, 0.3));\n",
              "      fill: #FFFFFF;\n",
              "    }\n",
              "  </style>\n",
              "\n",
              "      <script>\n",
              "        const buttonEl =\n",
              "          document.querySelector('#df-23d57108-1dc4-4be8-a062-4d28c48f5430 button.colab-df-convert');\n",
              "        buttonEl.style.display =\n",
              "          google.colab.kernel.accessAllowed ? 'block' : 'none';\n",
              "\n",
              "        async function convertToInteractive(key) {\n",
              "          const element = document.querySelector('#df-23d57108-1dc4-4be8-a062-4d28c48f5430');\n",
              "          const dataTable =\n",
              "            await google.colab.kernel.invokeFunction('convertToInteractive',\n",
              "                                                     [key], {});\n",
              "          if (!dataTable) return;\n",
              "\n",
              "          const docLinkHtml = 'Like what you see? Visit the ' +\n",
              "            '<a target=\"_blank\" href=https://colab.research.google.com/notebooks/data_table.ipynb>data table notebook</a>'\n",
              "            + ' to learn more about interactive tables.';\n",
              "          element.innerHTML = '';\n",
              "          dataTable['output_type'] = 'display_data';\n",
              "          await google.colab.output.renderOutput(dataTable, element);\n",
              "          const docLink = document.createElement('div');\n",
              "          docLink.innerHTML = docLinkHtml;\n",
              "          element.appendChild(docLink);\n",
              "        }\n",
              "      </script>\n",
              "    </div>\n",
              "  </div>\n",
              "  "
            ]
          },
          "metadata": {},
          "execution_count": 5
        }
      ]
    },
    {
      "cell_type": "markdown",
      "id": "35db4eb7-0a2b-4af3-9736-e2379a49eba2",
      "metadata": {
        "id": "35db4eb7-0a2b-4af3-9736-e2379a49eba2"
      },
      "source": [
        "# **<font color=\"RoyalBlue\">Usando Plot de Pandas**\n"
      ]
    },
    {
      "cell_type": "markdown",
      "source": [
        "## **<font color=\"RoyalBlue\">Gráfico de Barras verticales**\n"
      ],
      "metadata": {
        "id": "aUvuz_dvR0i1"
      },
      "id": "aUvuz_dvR0i1"
    },
    {
      "cell_type": "code",
      "source": [
        "clientes = df.groupby(\"ORGANIZACION\").sum()\n",
        "clientes.head()"
      ],
      "metadata": {
        "colab": {
          "base_uri": "https://localhost:8080/",
          "height": 237
        },
        "id": "vme4kPuySra_",
        "outputId": "11c691b2-4cb5-40e4-f47d-e86c4a4d3f60"
      },
      "id": "vme4kPuySra_",
      "execution_count": 6,
      "outputs": [
        {
          "output_type": "execute_result",
          "data": {
            "text/plain": [
              "                 CANTIDAD       PRECIO  IMPORTEMONTRANSACCION\n",
              "ORGANIZACION                                                 \n",
              "Amazon Group         85.0  337621.0000              795766.00\n",
              "Berker S.R.L         91.0   36460.0000              262700.00\n",
              "Campomas S.A.        49.0  151151.0000              648262.00\n",
              "Donadelli S.R.L       6.0  269210.0000              269210.00\n",
              "Etigand S.A.         81.0  234649.1736              652421.49"
            ],
            "text/html": [
              "\n",
              "  <div id=\"df-d5a10a81-a79e-4f2a-8ebb-4fc7a9a9855c\">\n",
              "    <div class=\"colab-df-container\">\n",
              "      <div>\n",
              "<style scoped>\n",
              "    .dataframe tbody tr th:only-of-type {\n",
              "        vertical-align: middle;\n",
              "    }\n",
              "\n",
              "    .dataframe tbody tr th {\n",
              "        vertical-align: top;\n",
              "    }\n",
              "\n",
              "    .dataframe thead th {\n",
              "        text-align: right;\n",
              "    }\n",
              "</style>\n",
              "<table border=\"1\" class=\"dataframe\">\n",
              "  <thead>\n",
              "    <tr style=\"text-align: right;\">\n",
              "      <th></th>\n",
              "      <th>CANTIDAD</th>\n",
              "      <th>PRECIO</th>\n",
              "      <th>IMPORTEMONTRANSACCION</th>\n",
              "    </tr>\n",
              "    <tr>\n",
              "      <th>ORGANIZACION</th>\n",
              "      <th></th>\n",
              "      <th></th>\n",
              "      <th></th>\n",
              "    </tr>\n",
              "  </thead>\n",
              "  <tbody>\n",
              "    <tr>\n",
              "      <th>Amazon Group</th>\n",
              "      <td>85.0</td>\n",
              "      <td>337621.0000</td>\n",
              "      <td>795766.00</td>\n",
              "    </tr>\n",
              "    <tr>\n",
              "      <th>Berker S.R.L</th>\n",
              "      <td>91.0</td>\n",
              "      <td>36460.0000</td>\n",
              "      <td>262700.00</td>\n",
              "    </tr>\n",
              "    <tr>\n",
              "      <th>Campomas S.A.</th>\n",
              "      <td>49.0</td>\n",
              "      <td>151151.0000</td>\n",
              "      <td>648262.00</td>\n",
              "    </tr>\n",
              "    <tr>\n",
              "      <th>Donadelli S.R.L</th>\n",
              "      <td>6.0</td>\n",
              "      <td>269210.0000</td>\n",
              "      <td>269210.00</td>\n",
              "    </tr>\n",
              "    <tr>\n",
              "      <th>Etigand S.A.</th>\n",
              "      <td>81.0</td>\n",
              "      <td>234649.1736</td>\n",
              "      <td>652421.49</td>\n",
              "    </tr>\n",
              "  </tbody>\n",
              "</table>\n",
              "</div>\n",
              "      <button class=\"colab-df-convert\" onclick=\"convertToInteractive('df-d5a10a81-a79e-4f2a-8ebb-4fc7a9a9855c')\"\n",
              "              title=\"Convert this dataframe to an interactive table.\"\n",
              "              style=\"display:none;\">\n",
              "        \n",
              "  <svg xmlns=\"http://www.w3.org/2000/svg\" height=\"24px\"viewBox=\"0 0 24 24\"\n",
              "       width=\"24px\">\n",
              "    <path d=\"M0 0h24v24H0V0z\" fill=\"none\"/>\n",
              "    <path d=\"M18.56 5.44l.94 2.06.94-2.06 2.06-.94-2.06-.94-.94-2.06-.94 2.06-2.06.94zm-11 1L8.5 8.5l.94-2.06 2.06-.94-2.06-.94L8.5 2.5l-.94 2.06-2.06.94zm10 10l.94 2.06.94-2.06 2.06-.94-2.06-.94-.94-2.06-.94 2.06-2.06.94z\"/><path d=\"M17.41 7.96l-1.37-1.37c-.4-.4-.92-.59-1.43-.59-.52 0-1.04.2-1.43.59L10.3 9.45l-7.72 7.72c-.78.78-.78 2.05 0 2.83L4 21.41c.39.39.9.59 1.41.59.51 0 1.02-.2 1.41-.59l7.78-7.78 2.81-2.81c.8-.78.8-2.07 0-2.86zM5.41 20L4 18.59l7.72-7.72 1.47 1.35L5.41 20z\"/>\n",
              "  </svg>\n",
              "      </button>\n",
              "      \n",
              "  <style>\n",
              "    .colab-df-container {\n",
              "      display:flex;\n",
              "      flex-wrap:wrap;\n",
              "      gap: 12px;\n",
              "    }\n",
              "\n",
              "    .colab-df-convert {\n",
              "      background-color: #E8F0FE;\n",
              "      border: none;\n",
              "      border-radius: 50%;\n",
              "      cursor: pointer;\n",
              "      display: none;\n",
              "      fill: #1967D2;\n",
              "      height: 32px;\n",
              "      padding: 0 0 0 0;\n",
              "      width: 32px;\n",
              "    }\n",
              "\n",
              "    .colab-df-convert:hover {\n",
              "      background-color: #E2EBFA;\n",
              "      box-shadow: 0px 1px 2px rgba(60, 64, 67, 0.3), 0px 1px 3px 1px rgba(60, 64, 67, 0.15);\n",
              "      fill: #174EA6;\n",
              "    }\n",
              "\n",
              "    [theme=dark] .colab-df-convert {\n",
              "      background-color: #3B4455;\n",
              "      fill: #D2E3FC;\n",
              "    }\n",
              "\n",
              "    [theme=dark] .colab-df-convert:hover {\n",
              "      background-color: #434B5C;\n",
              "      box-shadow: 0px 1px 3px 1px rgba(0, 0, 0, 0.15);\n",
              "      filter: drop-shadow(0px 1px 2px rgba(0, 0, 0, 0.3));\n",
              "      fill: #FFFFFF;\n",
              "    }\n",
              "  </style>\n",
              "\n",
              "      <script>\n",
              "        const buttonEl =\n",
              "          document.querySelector('#df-d5a10a81-a79e-4f2a-8ebb-4fc7a9a9855c button.colab-df-convert');\n",
              "        buttonEl.style.display =\n",
              "          google.colab.kernel.accessAllowed ? 'block' : 'none';\n",
              "\n",
              "        async function convertToInteractive(key) {\n",
              "          const element = document.querySelector('#df-d5a10a81-a79e-4f2a-8ebb-4fc7a9a9855c');\n",
              "          const dataTable =\n",
              "            await google.colab.kernel.invokeFunction('convertToInteractive',\n",
              "                                                     [key], {});\n",
              "          if (!dataTable) return;\n",
              "\n",
              "          const docLinkHtml = 'Like what you see? Visit the ' +\n",
              "            '<a target=\"_blank\" href=https://colab.research.google.com/notebooks/data_table.ipynb>data table notebook</a>'\n",
              "            + ' to learn more about interactive tables.';\n",
              "          element.innerHTML = '';\n",
              "          dataTable['output_type'] = 'display_data';\n",
              "          await google.colab.output.renderOutput(dataTable, element);\n",
              "          const docLink = document.createElement('div');\n",
              "          docLink.innerHTML = docLinkHtml;\n",
              "          element.appendChild(docLink);\n",
              "        }\n",
              "      </script>\n",
              "    </div>\n",
              "  </div>\n",
              "  "
            ]
          },
          "metadata": {},
          "execution_count": 6
        }
      ]
    },
    {
      "cell_type": "code",
      "source": [
        "clientes.reset_index(inplace=True)\n",
        "clientes.head()"
      ],
      "metadata": {
        "colab": {
          "base_uri": "https://localhost:8080/",
          "height": 206
        },
        "id": "31J-o0ecSz4p",
        "outputId": "1abd11d2-c6c6-4d8b-8f55-83b9bcd2e5d6"
      },
      "id": "31J-o0ecSz4p",
      "execution_count": 7,
      "outputs": [
        {
          "output_type": "execute_result",
          "data": {
            "text/plain": [
              "      ORGANIZACION  CANTIDAD       PRECIO  IMPORTEMONTRANSACCION\n",
              "0     Amazon Group      85.0  337621.0000              795766.00\n",
              "1     Berker S.R.L      91.0   36460.0000              262700.00\n",
              "2    Campomas S.A.      49.0  151151.0000              648262.00\n",
              "3  Donadelli S.R.L       6.0  269210.0000              269210.00\n",
              "4     Etigand S.A.      81.0  234649.1736              652421.49"
            ],
            "text/html": [
              "\n",
              "  <div id=\"df-8fdded3f-7b3d-42bf-8656-0d8a4760ac08\">\n",
              "    <div class=\"colab-df-container\">\n",
              "      <div>\n",
              "<style scoped>\n",
              "    .dataframe tbody tr th:only-of-type {\n",
              "        vertical-align: middle;\n",
              "    }\n",
              "\n",
              "    .dataframe tbody tr th {\n",
              "        vertical-align: top;\n",
              "    }\n",
              "\n",
              "    .dataframe thead th {\n",
              "        text-align: right;\n",
              "    }\n",
              "</style>\n",
              "<table border=\"1\" class=\"dataframe\">\n",
              "  <thead>\n",
              "    <tr style=\"text-align: right;\">\n",
              "      <th></th>\n",
              "      <th>ORGANIZACION</th>\n",
              "      <th>CANTIDAD</th>\n",
              "      <th>PRECIO</th>\n",
              "      <th>IMPORTEMONTRANSACCION</th>\n",
              "    </tr>\n",
              "  </thead>\n",
              "  <tbody>\n",
              "    <tr>\n",
              "      <th>0</th>\n",
              "      <td>Amazon Group</td>\n",
              "      <td>85.0</td>\n",
              "      <td>337621.0000</td>\n",
              "      <td>795766.00</td>\n",
              "    </tr>\n",
              "    <tr>\n",
              "      <th>1</th>\n",
              "      <td>Berker S.R.L</td>\n",
              "      <td>91.0</td>\n",
              "      <td>36460.0000</td>\n",
              "      <td>262700.00</td>\n",
              "    </tr>\n",
              "    <tr>\n",
              "      <th>2</th>\n",
              "      <td>Campomas S.A.</td>\n",
              "      <td>49.0</td>\n",
              "      <td>151151.0000</td>\n",
              "      <td>648262.00</td>\n",
              "    </tr>\n",
              "    <tr>\n",
              "      <th>3</th>\n",
              "      <td>Donadelli S.R.L</td>\n",
              "      <td>6.0</td>\n",
              "      <td>269210.0000</td>\n",
              "      <td>269210.00</td>\n",
              "    </tr>\n",
              "    <tr>\n",
              "      <th>4</th>\n",
              "      <td>Etigand S.A.</td>\n",
              "      <td>81.0</td>\n",
              "      <td>234649.1736</td>\n",
              "      <td>652421.49</td>\n",
              "    </tr>\n",
              "  </tbody>\n",
              "</table>\n",
              "</div>\n",
              "      <button class=\"colab-df-convert\" onclick=\"convertToInteractive('df-8fdded3f-7b3d-42bf-8656-0d8a4760ac08')\"\n",
              "              title=\"Convert this dataframe to an interactive table.\"\n",
              "              style=\"display:none;\">\n",
              "        \n",
              "  <svg xmlns=\"http://www.w3.org/2000/svg\" height=\"24px\"viewBox=\"0 0 24 24\"\n",
              "       width=\"24px\">\n",
              "    <path d=\"M0 0h24v24H0V0z\" fill=\"none\"/>\n",
              "    <path d=\"M18.56 5.44l.94 2.06.94-2.06 2.06-.94-2.06-.94-.94-2.06-.94 2.06-2.06.94zm-11 1L8.5 8.5l.94-2.06 2.06-.94-2.06-.94L8.5 2.5l-.94 2.06-2.06.94zm10 10l.94 2.06.94-2.06 2.06-.94-2.06-.94-.94-2.06-.94 2.06-2.06.94z\"/><path d=\"M17.41 7.96l-1.37-1.37c-.4-.4-.92-.59-1.43-.59-.52 0-1.04.2-1.43.59L10.3 9.45l-7.72 7.72c-.78.78-.78 2.05 0 2.83L4 21.41c.39.39.9.59 1.41.59.51 0 1.02-.2 1.41-.59l7.78-7.78 2.81-2.81c.8-.78.8-2.07 0-2.86zM5.41 20L4 18.59l7.72-7.72 1.47 1.35L5.41 20z\"/>\n",
              "  </svg>\n",
              "      </button>\n",
              "      \n",
              "  <style>\n",
              "    .colab-df-container {\n",
              "      display:flex;\n",
              "      flex-wrap:wrap;\n",
              "      gap: 12px;\n",
              "    }\n",
              "\n",
              "    .colab-df-convert {\n",
              "      background-color: #E8F0FE;\n",
              "      border: none;\n",
              "      border-radius: 50%;\n",
              "      cursor: pointer;\n",
              "      display: none;\n",
              "      fill: #1967D2;\n",
              "      height: 32px;\n",
              "      padding: 0 0 0 0;\n",
              "      width: 32px;\n",
              "    }\n",
              "\n",
              "    .colab-df-convert:hover {\n",
              "      background-color: #E2EBFA;\n",
              "      box-shadow: 0px 1px 2px rgba(60, 64, 67, 0.3), 0px 1px 3px 1px rgba(60, 64, 67, 0.15);\n",
              "      fill: #174EA6;\n",
              "    }\n",
              "\n",
              "    [theme=dark] .colab-df-convert {\n",
              "      background-color: #3B4455;\n",
              "      fill: #D2E3FC;\n",
              "    }\n",
              "\n",
              "    [theme=dark] .colab-df-convert:hover {\n",
              "      background-color: #434B5C;\n",
              "      box-shadow: 0px 1px 3px 1px rgba(0, 0, 0, 0.15);\n",
              "      filter: drop-shadow(0px 1px 2px rgba(0, 0, 0, 0.3));\n",
              "      fill: #FFFFFF;\n",
              "    }\n",
              "  </style>\n",
              "\n",
              "      <script>\n",
              "        const buttonEl =\n",
              "          document.querySelector('#df-8fdded3f-7b3d-42bf-8656-0d8a4760ac08 button.colab-df-convert');\n",
              "        buttonEl.style.display =\n",
              "          google.colab.kernel.accessAllowed ? 'block' : 'none';\n",
              "\n",
              "        async function convertToInteractive(key) {\n",
              "          const element = document.querySelector('#df-8fdded3f-7b3d-42bf-8656-0d8a4760ac08');\n",
              "          const dataTable =\n",
              "            await google.colab.kernel.invokeFunction('convertToInteractive',\n",
              "                                                     [key], {});\n",
              "          if (!dataTable) return;\n",
              "\n",
              "          const docLinkHtml = 'Like what you see? Visit the ' +\n",
              "            '<a target=\"_blank\" href=https://colab.research.google.com/notebooks/data_table.ipynb>data table notebook</a>'\n",
              "            + ' to learn more about interactive tables.';\n",
              "          element.innerHTML = '';\n",
              "          dataTable['output_type'] = 'display_data';\n",
              "          await google.colab.output.renderOutput(dataTable, element);\n",
              "          const docLink = document.createElement('div');\n",
              "          docLink.innerHTML = docLinkHtml;\n",
              "          element.appendChild(docLink);\n",
              "        }\n",
              "      </script>\n",
              "    </div>\n",
              "  </div>\n",
              "  "
            ]
          },
          "metadata": {},
          "execution_count": 7
        }
      ]
    },
    {
      "cell_type": "code",
      "source": [
        "clientes.plot(\"ORGANIZACION\",\"IMPORTEMONTRANSACCION\", \n",
        "              kind=\"bar\", \n",
        "              figsize=(12,6), \n",
        "              color=[\"green\",\"darkblue\"],\n",
        "              grid=True, \n",
        "              title=\"ANÁLISIS DE VENTAS\", \n",
        "              ylabel = \"VENTAS\",\n",
        "              xlabel = \"CLIENTES\");"
      ],
      "metadata": {
        "colab": {
          "base_uri": "https://localhost:8080/",
          "height": 528
        },
        "id": "Y777yy30nA_V",
        "outputId": "130ca43c-d563-4b8c-c3e4-e822ece09c18"
      },
      "id": "Y777yy30nA_V",
      "execution_count": 8,
      "outputs": [
        {
          "output_type": "display_data",
          "data": {
            "text/plain": [
              "<Figure size 864x432 with 1 Axes>"
            ],
            "image/png": "[encoded data removed]"
          },
          "metadata": {
            "needs_background": "light"
          }
        }
      ]
    },
    {
      "cell_type": "code",
      "source": [
        "clientes.set_index(\"ORGANIZACION\", inplace=True)\n",
        "clientes.drop(columns=[\"CANTIDAD\",\"PRECIO\"], inplace=True)\n",
        "clientes.head()"
      ],
      "metadata": {
        "colab": {
          "base_uri": "https://localhost:8080/",
          "height": 237
        },
        "id": "jLy_6Zjc28Z5",
        "outputId": "780d2cf9-7a8e-4fa9-f540-d1d88d2c2677"
      },
      "id": "jLy_6Zjc28Z5",
      "execution_count": 9,
      "outputs": [
        {
          "output_type": "execute_result",
          "data": {
            "text/plain": [
              "                 IMPORTEMONTRANSACCION\n",
              "ORGANIZACION                          \n",
              "Amazon Group                 795766.00\n",
              "Berker S.R.L                 262700.00\n",
              "Campomas S.A.                648262.00\n",
              "Donadelli S.R.L              269210.00\n",
              "Etigand S.A.                 652421.49"
            ],
            "text/html": [
              "\n",
              "  <div id=\"df-b31211b6-44d5-439e-86bb-3af61c3d3227\">\n",
              "    <div class=\"colab-df-container\">\n",
              "      <div>\n",
              "<style scoped>\n",
              "    .dataframe tbody tr th:only-of-type {\n",
              "        vertical-align: middle;\n",
              "    }\n",
              "\n",
              "    .dataframe tbody tr th {\n",
              "        vertical-align: top;\n",
              "    }\n",
              "\n",
              "    .dataframe thead th {\n",
              "        text-align: right;\n",
              "    }\n",
              "</style>\n",
              "<table border=\"1\" class=\"dataframe\">\n",
              "  <thead>\n",
              "    <tr style=\"text-align: right;\">\n",
              "      <th></th>\n",
              "      <th>IMPORTEMONTRANSACCION</th>\n",
              "    </tr>\n",
              "    <tr>\n",
              "      <th>ORGANIZACION</th>\n",
              "      <th></th>\n",
              "    </tr>\n",
              "  </thead>\n",
              "  <tbody>\n",
              "    <tr>\n",
              "      <th>Amazon Group</th>\n",
              "      <td>795766.00</td>\n",
              "    </tr>\n",
              "    <tr>\n",
              "      <th>Berker S.R.L</th>\n",
              "      <td>262700.00</td>\n",
              "    </tr>\n",
              "    <tr>\n",
              "      <th>Campomas S.A.</th>\n",
              "      <td>648262.00</td>\n",
              "    </tr>\n",
              "    <tr>\n",
              "      <th>Donadelli S.R.L</th>\n",
              "      <td>269210.00</td>\n",
              "    </tr>\n",
              "    <tr>\n",
              "      <th>Etigand S.A.</th>\n",
              "      <td>652421.49</td>\n",
              "    </tr>\n",
              "  </tbody>\n",
              "</table>\n",
              "</div>\n",
              "      <button class=\"colab-df-convert\" onclick=\"convertToInteractive('df-b31211b6-44d5-439e-86bb-3af61c3d3227')\"\n",
              "              title=\"Convert this dataframe to an interactive table.\"\n",
              "              style=\"display:none;\">\n",
              "        \n",
              "  <svg xmlns=\"http://www.w3.org/2000/svg\" height=\"24px\"viewBox=\"0 0 24 24\"\n",
              "       width=\"24px\">\n",
              "    <path d=\"M0 0h24v24H0V0z\" fill=\"none\"/>\n",
              "    <path d=\"M18.56 5.44l.94 2.06.94-2.06 2.06-.94-2.06-.94-.94-2.06-.94 2.06-2.06.94zm-11 1L8.5 8.5l.94-2.06 2.06-.94-2.06-.94L8.5 2.5l-.94 2.06-2.06.94zm10 10l.94 2.06.94-2.06 2.06-.94-2.06-.94-.94-2.06-.94 2.06-2.06.94z\"/><path d=\"M17.41 7.96l-1.37-1.37c-.4-.4-.92-.59-1.43-.59-.52 0-1.04.2-1.43.59L10.3 9.45l-7.72 7.72c-.78.78-.78 2.05 0 2.83L4 21.41c.39.39.9.59 1.41.59.51 0 1.02-.2 1.41-.59l7.78-7.78 2.81-2.81c.8-.78.8-2.07 0-2.86zM5.41 20L4 18.59l7.72-7.72 1.47 1.35L5.41 20z\"/>\n",
              "  </svg>\n",
              "      </button>\n",
              "      \n",
              "  <style>\n",
              "    .colab-df-container {\n",
              "      display:flex;\n",
              "      flex-wrap:wrap;\n",
              "      gap: 12px;\n",
              "    }\n",
              "\n",
              "    .colab-df-convert {\n",
              "      background-color: #E8F0FE;\n",
              "      border: none;\n",
              "      border-radius: 50%;\n",
              "      cursor: pointer;\n",
              "      display: none;\n",
              "      fill: #1967D2;\n",
              "      height: 32px;\n",
              "      padding: 0 0 0 0;\n",
              "      width: 32px;\n",
              "    }\n",
              "\n",
              "    .colab-df-convert:hover {\n",
              "      background-color: #E2EBFA;\n",
              "      box-shadow: 0px 1px 2px rgba(60, 64, 67, 0.3), 0px 1px 3px 1px rgba(60, 64, 67, 0.15);\n",
              "      fill: #174EA6;\n",
              "    }\n",
              "\n",
              "    [theme=dark] .colab-df-convert {\n",
              "      background-color: #3B4455;\n",
              "      fill: #D2E3FC;\n",
              "    }\n",
              "\n",
              "    [theme=dark] .colab-df-convert:hover {\n",
              "      background-color: #434B5C;\n",
              "      box-shadow: 0px 1px 3px 1px rgba(0, 0, 0, 0.15);\n",
              "      filter: drop-shadow(0px 1px 2px rgba(0, 0, 0, 0.3));\n",
              "      fill: #FFFFFF;\n",
              "    }\n",
              "  </style>\n",
              "\n",
              "      <script>\n",
              "        const buttonEl =\n",
              "          document.querySelector('#df-b31211b6-44d5-439e-86bb-3af61c3d3227 button.colab-df-convert');\n",
              "        buttonEl.style.display =\n",
              "          google.colab.kernel.accessAllowed ? 'block' : 'none';\n",
              "\n",
              "        async function convertToInteractive(key) {\n",
              "          const element = document.querySelector('#df-b31211b6-44d5-439e-86bb-3af61c3d3227');\n",
              "          const dataTable =\n",
              "            await google.colab.kernel.invokeFunction('convertToInteractive',\n",
              "                                                     [key], {});\n",
              "          if (!dataTable) return;\n",
              "\n",
              "          const docLinkHtml = 'Like what you see? Visit the ' +\n",
              "            '<a target=\"_blank\" href=https://colab.research.google.com/notebooks/data_table.ipynb>data table notebook</a>'\n",
              "            + ' to learn more about interactive tables.';\n",
              "          element.innerHTML = '';\n",
              "          dataTable['output_type'] = 'display_data';\n",
              "          await google.colab.output.renderOutput(dataTable, element);\n",
              "          const docLink = document.createElement('div');\n",
              "          docLink.innerHTML = docLinkHtml;\n",
              "          element.appendChild(docLink);\n",
              "        }\n",
              "      </script>\n",
              "    </div>\n",
              "  </div>\n",
              "  "
            ]
          },
          "metadata": {},
          "execution_count": 9
        }
      ]
    },
    {
      "cell_type": "markdown",
      "source": [
        "https://pandas.pydata.org/docs/reference/api/pandas.DataFrame.plot.bar.html"
      ],
      "metadata": {
        "id": "3yTnLVfw2G88"
      },
      "id": "3yTnLVfw2G88"
    },
    {
      "cell_type": "code",
      "source": [
        "clientes.plot.bar(figsize=(12,6),grid=True,);"
      ],
      "metadata": {
        "colab": {
          "base_uri": "https://localhost:8080/",
          "height": 523
        },
        "id": "SOsGy0QG2IPQ",
        "outputId": "644fff58-5c7b-44ef-95d1-4971ee7c7d69"
      },
      "id": "SOsGy0QG2IPQ",
      "execution_count": 10,
      "outputs": [
        {
          "output_type": "display_data",
          "data": {
            "text/plain": [
              "<Figure size 864x432 with 1 Axes>"
            ],
            "image/png": "[encoded data removed]"
          },
          "metadata": {
            "needs_background": "light"
          }
        }
      ]
    },
    {
      "cell_type": "markdown",
      "source": [
        "## **<font color=\"RoyalBlue\">Gráfico de Barras horizontales**"
      ],
      "metadata": {
        "id": "usadXr11mUtp"
      },
      "id": "usadXr11mUtp"
    },
    {
      "cell_type": "markdown",
      "source": [
        "https://pandas.pydata.org/docs/reference/api/pandas.DataFrame.plot.barh.html"
      ],
      "metadata": {
        "id": "A8KqaDFi5Ky8"
      },
      "id": "A8KqaDFi5Ky8"
    },
    {
      "cell_type": "code",
      "source": [
        "clientes.plot.barh(figsize=(12,6),grid=True,color=\"Darkblue\");"
      ],
      "metadata": {
        "colab": {
          "base_uri": "https://localhost:8080/",
          "height": 379
        },
        "id": "hPyxD6G3matO",
        "outputId": "bcb51710-5b79-4c1b-e530-cc74d85ef0ef"
      },
      "id": "hPyxD6G3matO",
      "execution_count": 11,
      "outputs": [
        {
          "output_type": "display_data",
          "data": {
            "text/plain": [
              "<Figure size 864x432 with 1 Axes>"
            ],
            "image/png": "[encoded data removed]"
          },
          "metadata": {
            "needs_background": "light"
          }
        }
      ]
    },
    {
      "cell_type": "markdown",
      "source": [
        "## **<font color=\"RoyalBlue\">Grafico Circular**"
      ],
      "metadata": {
        "id": "FKgeRNDL-Vjq"
      },
      "id": "FKgeRNDL-Vjq"
    },
    {
      "cell_type": "code",
      "source": [
        "clientes = clientes[clientes.IMPORTEMONTRANSACCION > 600000]\n",
        "clientes"
      ],
      "metadata": {
        "colab": {
          "base_uri": "https://localhost:8080/",
          "height": 331
        },
        "id": "T-c0DFaZ-ZkE",
        "outputId": "eeec5c84-2c13-47a7-e2bc-bfcb7916ada2"
      },
      "id": "T-c0DFaZ-ZkE",
      "execution_count": 12,
      "outputs": [
        {
          "output_type": "execute_result",
          "data": {
            "text/plain": [
              "                            IMPORTEMONTRANSACCION\n",
              "ORGANIZACION                                     \n",
              "Amazon Group                            795766.00\n",
              "Campomas S.A.                           648262.00\n",
              "Etigand S.A.                            652421.49\n",
              "Hernandez S.A.                          617565.00\n",
              "Jameson SRL                             703613.99\n",
              "Juan Fernández                          723497.00\n",
              "Manganello S.R.L                       1241750.00\n",
              "Nicolasen y Asociados S.A.              956825.00"
            ],
            "text/html": [
              "\n",
              "  <div id=\"df-4d1da488-a2d8-448c-be43-c6e2b090bde5\">\n",
              "    <div class=\"colab-df-container\">\n",
              "      <div>\n",
              "<style scoped>\n",
              "    .dataframe tbody tr th:only-of-type {\n",
              "        vertical-align: middle;\n",
              "    }\n",
              "\n",
              "    .dataframe tbody tr th {\n",
              "        vertical-align: top;\n",
              "    }\n",
              "\n",
              "    .dataframe thead th {\n",
              "        text-align: right;\n",
              "    }\n",
              "</style>\n",
              "<table border=\"1\" class=\"dataframe\">\n",
              "  <thead>\n",
              "    <tr style=\"text-align: right;\">\n",
              "      <th></th>\n",
              "      <th>IMPORTEMONTRANSACCION</th>\n",
              "    </tr>\n",
              "    <tr>\n",
              "      <th>ORGANIZACION</th>\n",
              "      <th></th>\n",
              "    </tr>\n",
              "  </thead>\n",
              "  <tbody>\n",
              "    <tr>\n",
              "      <th>Amazon Group</th>\n",
              "      <td>795766.00</td>\n",
              "    </tr>\n",
              "    <tr>\n",
              "      <th>Campomas S.A.</th>\n",
              "      <td>648262.00</td>\n",
              "    </tr>\n",
              "    <tr>\n",
              "      <th>Etigand S.A.</th>\n",
              "      <td>652421.49</td>\n",
              "    </tr>\n",
              "    <tr>\n",
              "      <th>Hernandez S.A.</th>\n",
              "      <td>617565.00</td>\n",
              "    </tr>\n",
              "    <tr>\n",
              "      <th>Jameson SRL</th>\n",
              "      <td>703613.99</td>\n",
              "    </tr>\n",
              "    <tr>\n",
              "      <th>Juan Fernández</th>\n",
              "      <td>723497.00</td>\n",
              "    </tr>\n",
              "    <tr>\n",
              "      <th>Manganello S.R.L</th>\n",
              "      <td>1241750.00</td>\n",
              "    </tr>\n",
              "    <tr>\n",
              "      <th>Nicolasen y Asociados S.A.</th>\n",
              "      <td>956825.00</td>\n",
              "    </tr>\n",
              "  </tbody>\n",
              "</table>\n",
              "</div>\n",
              "      <button class=\"colab-df-convert\" onclick=\"convertToInteractive('df-4d1da488-a2d8-448c-be43-c6e2b090bde5')\"\n",
              "              title=\"Convert this dataframe to an interactive table.\"\n",
              "              style=\"display:none;\">\n",
              "        \n",
              "  <svg xmlns=\"http://www.w3.org/2000/svg\" height=\"24px\"viewBox=\"0 0 24 24\"\n",
              "       width=\"24px\">\n",
              "    <path d=\"M0 0h24v24H0V0z\" fill=\"none\"/>\n",
              "    <path d=\"M18.56 5.44l.94 2.06.94-2.06 2.06-.94-2.06-.94-.94-2.06-.94 2.06-2.06.94zm-11 1L8.5 8.5l.94-2.06 2.06-.94-2.06-.94L8.5 2.5l-.94 2.06-2.06.94zm10 10l.94 2.06.94-2.06 2.06-.94-2.06-.94-.94-2.06-.94 2.06-2.06.94z\"/><path d=\"M17.41 7.96l-1.37-1.37c-.4-.4-.92-.59-1.43-.59-.52 0-1.04.2-1.43.59L10.3 9.45l-7.72 7.72c-.78.78-.78 2.05 0 2.83L4 21.41c.39.39.9.59 1.41.59.51 0 1.02-.2 1.41-.59l7.78-7.78 2.81-2.81c.8-.78.8-2.07 0-2.86zM5.41 20L4 18.59l7.72-7.72 1.47 1.35L5.41 20z\"/>\n",
              "  </svg>\n",
              "      </button>\n",
              "      \n",
              "  <style>\n",
              "    .colab-df-container {\n",
              "      display:flex;\n",
              "      flex-wrap:wrap;\n",
              "      gap: 12px;\n",
              "    }\n",
              "\n",
              "    .colab-df-convert {\n",
              "      background-color: #E8F0FE;\n",
              "      border: none;\n",
              "      border-radius: 50%;\n",
              "      cursor: pointer;\n",
              "      display: none;\n",
              "      fill: #1967D2;\n",
              "      height: 32px;\n",
              "      padding: 0 0 0 0;\n",
              "      width: 32px;\n",
              "    }\n",
              "\n",
              "    .colab-df-convert:hover {\n",
              "      background-color: #E2EBFA;\n",
              "      box-shadow: 0px 1px 2px rgba(60, 64, 67, 0.3), 0px 1px 3px 1px rgba(60, 64, 67, 0.15);\n",
              "      fill: #174EA6;\n",
              "    }\n",
              "\n",
              "    [theme=dark] .colab-df-convert {\n",
              "      background-color: #3B4455;\n",
              "      fill: #D2E3FC;\n",
              "    }\n",
              "\n",
              "    [theme=dark] .colab-df-convert:hover {\n",
              "      background-color: #434B5C;\n",
              "      box-shadow: 0px 1px 3px 1px rgba(0, 0, 0, 0.15);\n",
              "      filter: drop-shadow(0px 1px 2px rgba(0, 0, 0, 0.3));\n",
              "      fill: #FFFFFF;\n",
              "    }\n",
              "  </style>\n",
              "\n",
              "      <script>\n",
              "        const buttonEl =\n",
              "          document.querySelector('#df-4d1da488-a2d8-448c-be43-c6e2b090bde5 button.colab-df-convert');\n",
              "        buttonEl.style.display =\n",
              "          google.colab.kernel.accessAllowed ? 'block' : 'none';\n",
              "\n",
              "        async function convertToInteractive(key) {\n",
              "          const element = document.querySelector('#df-4d1da488-a2d8-448c-be43-c6e2b090bde5');\n",
              "          const dataTable =\n",
              "            await google.colab.kernel.invokeFunction('convertToInteractive',\n",
              "                                                     [key], {});\n",
              "          if (!dataTable) return;\n",
              "\n",
              "          const docLinkHtml = 'Like what you see? Visit the ' +\n",
              "            '<a target=\"_blank\" href=https://colab.research.google.com/notebooks/data_table.ipynb>data table notebook</a>'\n",
              "            + ' to learn more about interactive tables.';\n",
              "          element.innerHTML = '';\n",
              "          dataTable['output_type'] = 'display_data';\n",
              "          await google.colab.output.renderOutput(dataTable, element);\n",
              "          const docLink = document.createElement('div');\n",
              "          docLink.innerHTML = docLinkHtml;\n",
              "          element.appendChild(docLink);\n",
              "        }\n",
              "      </script>\n",
              "    </div>\n",
              "  </div>\n",
              "  "
            ]
          },
          "metadata": {},
          "execution_count": 12
        }
      ]
    },
    {
      "cell_type": "code",
      "source": [
        "clientes.plot(\"\",\"IMPORTEMONTRANSACCION\",\n",
        "              kind=\"pie\", \n",
        "              figsize=(8,8), \n",
        "              labels = clientes.index,\n",
        "              legend = \"\",\n",
        "              ylabel = \"\",\n",
        "              title=\"ANÁLISIS DE VENTAS\");"
      ],
      "metadata": {
        "colab": {
          "base_uri": "https://localhost:8080/",
          "height": 482
        },
        "id": "w7RIZIuL-6qc",
        "outputId": "f05341dc-a191-4760-c069-fc133dc8e9be"
      },
      "id": "w7RIZIuL-6qc",
      "execution_count": 13,
      "outputs": [
        {
          "output_type": "display_data",
          "data": {
            "text/plain": [
              "<Figure size 576x576 with 1 Axes>"
            ],
            "image/png": "[encoded data removed]"
          },
          "metadata": {}
        }
      ]
    },
    {
      "cell_type": "code",
      "source": [
        "clientes.plot(\"\",\"IMPORTEMONTRANSACCION\",\n",
        "              kind=\"pie\", \n",
        "              figsize=(8,8), \n",
        "              labels = clientes.index,\n",
        "              legend = \"\",\n",
        "              ylabel = \"\",\n",
        "              autopct=\"%0.1f %%\",\n",
        "              title=\"ANÁLISIS DE VENTAS\");"
      ],
      "metadata": {
        "colab": {
          "base_uri": "https://localhost:8080/",
          "height": 482
        },
        "id": "gf-e_AgJAbvU",
        "outputId": "8f3380d9-fe7a-4904-859a-80e2ef45ccbf"
      },
      "id": "gf-e_AgJAbvU",
      "execution_count": 14,
      "outputs": [
        {
          "output_type": "display_data",
          "data": {
            "text/plain": [
              "<Figure size 576x576 with 1 Axes>"
            ],
            "image/png": "[encoded data removed]"
          },
          "metadata": {}
        }
      ]
    },
    {
      "cell_type": "markdown",
      "source": [
        "# **<font color=\"RoyalBlue\">Obtención de datos financieros**"
      ],
      "metadata": {
        "id": "8d2V5doRrWNB"
      },
      "id": "8d2V5doRrWNB"
    },
    {
      "cell_type": "code",
      "source": [
        "dolar = yf.download(\"ARS=X\", start=\"2023-01-03\")\n",
        "dolar.drop(columns=[\"Volume\",\"Adj Close\"], inplace=True)\n",
        "dolar.reset_index(inplace=True)\n",
        "dolar.head()"
      ],
      "metadata": {
        "colab": {
          "base_uri": "https://localhost:8080/",
          "height": 224
        },
        "id": "yzVG2FFGrd_5",
        "outputId": "3e952b82-db08-4473-9cad-a79c9d05c32b"
      },
      "id": "yzVG2FFGrd_5",
      "execution_count": 15,
      "outputs": [
        {
          "output_type": "stream",
          "name": "stdout",
          "text": [
            "\r[*********************100%***********************]  1 of 1 completed\n"
          ]
        },
        {
          "output_type": "execute_result",
          "data": {
            "text/plain": [
              "                       Date        Open        High         Low       Close\n",
              "0 2023-01-03 00:00:00+00:00  178.148315  178.508270  177.095306  178.148315\n",
              "1 2023-01-04 00:00:00+00:00  178.375839  178.734222  177.385803  178.375839\n",
              "2 2023-01-05 00:00:00+00:00  178.584167  179.032043  178.042755  178.584167\n",
              "3 2023-01-06 00:00:00+00:00  178.905197  179.949463  178.862473  178.905197\n",
              "4 2023-01-09 00:00:00+00:00  179.071686  180.230576  178.559753  179.071686"
            ],
            "text/html": [
              "\n",
              "  <div id=\"df-fd7531ec-e9d2-412e-8d9e-c84fa44e1b07\">\n",
              "    <div class=\"colab-df-container\">\n",
              "      <div>\n",
              "<style scoped>\n",
              "    .dataframe tbody tr th:only-of-type {\n",
              "        vertical-align: middle;\n",
              "    }\n",
              "\n",
              "    .dataframe tbody tr th {\n",
              "        vertical-align: top;\n",
              "    }\n",
              "\n",
              "    .dataframe thead th {\n",
              "        text-align: right;\n",
              "    }\n",
              "</style>\n",
              "<table border=\"1\" class=\"dataframe\">\n",
              "  <thead>\n",
              "    <tr style=\"text-align: right;\">\n",
              "      <th></th>\n",
              "      <th>Date</th>\n",
              "      <th>Open</th>\n",
              "      <th>High</th>\n",
              "      <th>Low</th>\n",
              "      <th>Close</th>\n",
              "    </tr>\n",
              "  </thead>\n",
              "  <tbody>\n",
              "    <tr>\n",
              "      <th>0</th>\n",
              "      <td>2023-01-03 00:00:00+00:00</td>\n",
              "      <td>178.148315</td>\n",
              "      <td>178.508270</td>\n",
              "      <td>177.095306</td>\n",
              "      <td>178.148315</td>\n",
              "    </tr>\n",
              "    <tr>\n",
              "      <th>1</th>\n",
              "      <td>2023-01-04 00:00:00+00:00</td>\n",
              "      <td>178.375839</td>\n",
              "      <td>178.734222</td>\n",
              "      <td>177.385803</td>\n",
              "      <td>178.375839</td>\n",
              "    </tr>\n",
              "    <tr>\n",
              "      <th>2</th>\n",
              "      <td>2023-01-05 00:00:00+00:00</td>\n",
              "      <td>178.584167</td>\n",
              "      <td>179.032043</td>\n",
              "      <td>178.042755</td>\n",
              "      <td>178.584167</td>\n",
              "    </tr>\n",
              "    <tr>\n",
              "      <th>3</th>\n",
              "      <td>2023-01-06 00:00:00+00:00</td>\n",
              "      <td>178.905197</td>\n",
              "      <td>179.949463</td>\n",
              "      <td>178.862473</td>\n",
              "      <td>178.905197</td>\n",
              "    </tr>\n",
              "    <tr>\n",
              "      <th>4</th>\n",
              "      <td>2023-01-09 00:00:00+00:00</td>\n",
              "      <td>179.071686</td>\n",
              "      <td>180.230576</td>\n",
              "      <td>178.559753</td>\n",
              "      <td>179.071686</td>\n",
              "    </tr>\n",
              "  </tbody>\n",
              "</table>\n",
              "</div>\n",
              "      <button class=\"colab-df-convert\" onclick=\"convertToInteractive('df-fd7531ec-e9d2-412e-8d9e-c84fa44e1b07')\"\n",
              "              title=\"Convert this dataframe to an interactive table.\"\n",
              "              style=\"display:none;\">\n",
              "        \n",
              "  <svg xmlns=\"http://www.w3.org/2000/svg\" height=\"24px\"viewBox=\"0 0 24 24\"\n",
              "       width=\"24px\">\n",
              "    <path d=\"M0 0h24v24H0V0z\" fill=\"none\"/>\n",
              "    <path d=\"M18.56 5.44l.94 2.06.94-2.06 2.06-.94-2.06-.94-.94-2.06-.94 2.06-2.06.94zm-11 1L8.5 8.5l.94-2.06 2.06-.94-2.06-.94L8.5 2.5l-.94 2.06-2.06.94zm10 10l.94 2.06.94-2.06 2.06-.94-2.06-.94-.94-2.06-.94 2.06-2.06.94z\"/><path d=\"M17.41 7.96l-1.37-1.37c-.4-.4-.92-.59-1.43-.59-.52 0-1.04.2-1.43.59L10.3 9.45l-7.72 7.72c-.78.78-.78 2.05 0 2.83L4 21.41c.39.39.9.59 1.41.59.51 0 1.02-.2 1.41-.59l7.78-7.78 2.81-2.81c.8-.78.8-2.07 0-2.86zM5.41 20L4 18.59l7.72-7.72 1.47 1.35L5.41 20z\"/>\n",
              "  </svg>\n",
              "      </button>\n",
              "      \n",
              "  <style>\n",
              "    .colab-df-container {\n",
              "      display:flex;\n",
              "      flex-wrap:wrap;\n",
              "      gap: 12px;\n",
              "    }\n",
              "\n",
              "    .colab-df-convert {\n",
              "      background-color: #E8F0FE;\n",
              "      border: none;\n",
              "      border-radius: 50%;\n",
              "      cursor: pointer;\n",
              "      display: none;\n",
              "      fill: #1967D2;\n",
              "      height: 32px;\n",
              "      padding: 0 0 0 0;\n",
              "      width: 32px;\n",
              "    }\n",
              "\n",
              "    .colab-df-convert:hover {\n",
              "      background-color: #E2EBFA;\n",
              "      box-shadow: 0px 1px 2px rgba(60, 64, 67, 0.3), 0px 1px 3px 1px rgba(60, 64, 67, 0.15);\n",
              "      fill: #174EA6;\n",
              "    }\n",
              "\n",
              "    [theme=dark] .colab-df-convert {\n",
              "      background-color: #3B4455;\n",
              "      fill: #D2E3FC;\n",
              "    }\n",
              "\n",
              "    [theme=dark] .colab-df-convert:hover {\n",
              "      background-color: #434B5C;\n",
              "      box-shadow: 0px 1px 3px 1px rgba(0, 0, 0, 0.15);\n",
              "      filter: drop-shadow(0px 1px 2px rgba(0, 0, 0, 0.3));\n",
              "      fill: #FFFFFF;\n",
              "    }\n",
              "  </style>\n",
              "\n",
              "      <script>\n",
              "        const buttonEl =\n",
              "          document.querySelector('#df-fd7531ec-e9d2-412e-8d9e-c84fa44e1b07 button.colab-df-convert');\n",
              "        buttonEl.style.display =\n",
              "          google.colab.kernel.accessAllowed ? 'block' : 'none';\n",
              "\n",
              "        async function convertToInteractive(key) {\n",
              "          const element = document.querySelector('#df-fd7531ec-e9d2-412e-8d9e-c84fa44e1b07');\n",
              "          const dataTable =\n",
              "            await google.colab.kernel.invokeFunction('convertToInteractive',\n",
              "                                                     [key], {});\n",
              "          if (!dataTable) return;\n",
              "\n",
              "          const docLinkHtml = 'Like what you see? Visit the ' +\n",
              "            '<a target=\"_blank\" href=https://colab.research.google.com/notebooks/data_table.ipynb>data table notebook</a>'\n",
              "            + ' to learn more about interactive tables.';\n",
              "          element.innerHTML = '';\n",
              "          dataTable['output_type'] = 'display_data';\n",
              "          await google.colab.output.renderOutput(dataTable, element);\n",
              "          const docLink = document.createElement('div');\n",
              "          docLink.innerHTML = docLinkHtml;\n",
              "          element.appendChild(docLink);\n",
              "        }\n",
              "      </script>\n",
              "    </div>\n",
              "  </div>\n",
              "  "
            ]
          },
          "metadata": {},
          "execution_count": 15
        }
      ]
    },
    {
      "cell_type": "code",
      "source": [
        "bitcoin = yf.download(\"BTC-USD\", start=\"2022-01-01\", end=\"2022-01-14\")\n",
        "bitcoin.drop(columns=[\"Volume\",\"Adj Close\"], inplace=True)\n",
        "bitcoin.reset_index(inplace=True)\n",
        "bitcoin.head()"
      ],
      "metadata": {
        "colab": {
          "base_uri": "https://localhost:8080/",
          "height": 224
        },
        "id": "GV0-cHEGuxWY",
        "outputId": "478c9a89-ebd6-410f-e511-9da37a541fef"
      },
      "id": "GV0-cHEGuxWY",
      "execution_count": 16,
      "outputs": [
        {
          "output_type": "stream",
          "name": "stdout",
          "text": [
            "\r[*********************100%***********************]  1 of 1 completed\n"
          ]
        },
        {
          "output_type": "execute_result",
          "data": {
            "text/plain": [
              "                       Date          Open          High           Low  \\\n",
              "0 2022-01-01 00:00:00+00:00  46311.746094  47827.312500  46288.484375   \n",
              "1 2022-01-02 00:00:00+00:00  47680.925781  47881.406250  46856.937500   \n",
              "2 2022-01-03 00:00:00+00:00  47343.542969  47510.726562  45835.964844   \n",
              "3 2022-01-04 00:00:00+00:00  46458.851562  47406.546875  45752.464844   \n",
              "4 2022-01-05 00:00:00+00:00  45899.359375  46929.046875  42798.222656   \n",
              "\n",
              "          Close  \n",
              "0  47686.812500  \n",
              "1  47345.218750  \n",
              "2  46458.117188  \n",
              "3  45897.574219  \n",
              "4  43569.003906  "
            ],
            "text/html": [
              "\n",
              "  <div id=\"df-37d0ba2b-3dae-41b8-9b95-ec4fba1df7fc\">\n",
              "    <div class=\"colab-df-container\">\n",
              "      <div>\n",
              "<style scoped>\n",
              "    .dataframe tbody tr th:only-of-type {\n",
              "        vertical-align: middle;\n",
              "    }\n",
              "\n",
              "    .dataframe tbody tr th {\n",
              "        vertical-align: top;\n",
              "    }\n",
              "\n",
              "    .dataframe thead th {\n",
              "        text-align: right;\n",
              "    }\n",
              "</style>\n",
              "<table border=\"1\" class=\"dataframe\">\n",
              "  <thead>\n",
              "    <tr style=\"text-align: right;\">\n",
              "      <th></th>\n",
              "      <th>Date</th>\n",
              "      <th>Open</th>\n",
              "      <th>High</th>\n",
              "      <th>Low</th>\n",
              "      <th>Close</th>\n",
              "    </tr>\n",
              "  </thead>\n",
              "  <tbody>\n",
              "    <tr>\n",
              "      <th>0</th>\n",
              "      <td>2022-01-01 00:00:00+00:00</td>\n",
              "      <td>46311.746094</td>\n",
              "      <td>47827.312500</td>\n",
              "      <td>46288.484375</td>\n",
              "      <td>47686.812500</td>\n",
              "    </tr>\n",
              "    <tr>\n",
              "      <th>1</th>\n",
              "      <td>2022-01-02 00:00:00+00:00</td>\n",
              "      <td>47680.925781</td>\n",
              "      <td>47881.406250</td>\n",
              "      <td>46856.937500</td>\n",
              "      <td>47345.218750</td>\n",
              "    </tr>\n",
              "    <tr>\n",
              "      <th>2</th>\n",
              "      <td>2022-01-03 00:00:00+00:00</td>\n",
              "      <td>47343.542969</td>\n",
              "      <td>47510.726562</td>\n",
              "      <td>45835.964844</td>\n",
              "      <td>46458.117188</td>\n",
              "    </tr>\n",
              "    <tr>\n",
              "      <th>3</th>\n",
              "      <td>2022-01-04 00:00:00+00:00</td>\n",
              "      <td>46458.851562</td>\n",
              "      <td>47406.546875</td>\n",
              "      <td>45752.464844</td>\n",
              "      <td>45897.574219</td>\n",
              "    </tr>\n",
              "    <tr>\n",
              "      <th>4</th>\n",
              "      <td>2022-01-05 00:00:00+00:00</td>\n",
              "      <td>45899.359375</td>\n",
              "      <td>46929.046875</td>\n",
              "      <td>42798.222656</td>\n",
              "      <td>43569.003906</td>\n",
              "    </tr>\n",
              "  </tbody>\n",
              "</table>\n",
              "</div>\n",
              "      <button class=\"colab-df-convert\" onclick=\"convertToInteractive('df-37d0ba2b-3dae-41b8-9b95-ec4fba1df7fc')\"\n",
              "              title=\"Convert this dataframe to an interactive table.\"\n",
              "              style=\"display:none;\">\n",
              "        \n",
              "  <svg xmlns=\"http://www.w3.org/2000/svg\" height=\"24px\"viewBox=\"0 0 24 24\"\n",
              "       width=\"24px\">\n",
              "    <path d=\"M0 0h24v24H0V0z\" fill=\"none\"/>\n",
              "    <path d=\"M18.56 5.44l.94 2.06.94-2.06 2.06-.94-2.06-.94-.94-2.06-.94 2.06-2.06.94zm-11 1L8.5 8.5l.94-2.06 2.06-.94-2.06-.94L8.5 2.5l-.94 2.06-2.06.94zm10 10l.94 2.06.94-2.06 2.06-.94-2.06-.94-.94-2.06-.94 2.06-2.06.94z\"/><path d=\"M17.41 7.96l-1.37-1.37c-.4-.4-.92-.59-1.43-.59-.52 0-1.04.2-1.43.59L10.3 9.45l-7.72 7.72c-.78.78-.78 2.05 0 2.83L4 21.41c.39.39.9.59 1.41.59.51 0 1.02-.2 1.41-.59l7.78-7.78 2.81-2.81c.8-.78.8-2.07 0-2.86zM5.41 20L4 18.59l7.72-7.72 1.47 1.35L5.41 20z\"/>\n",
              "  </svg>\n",
              "      </button>\n",
              "      \n",
              "  <style>\n",
              "    .colab-df-container {\n",
              "      display:flex;\n",
              "      flex-wrap:wrap;\n",
              "      gap: 12px;\n",
              "    }\n",
              "\n",
              "    .colab-df-convert {\n",
              "      background-color: #E8F0FE;\n",
              "      border: none;\n",
              "      border-radius: 50%;\n",
              "      cursor: pointer;\n",
              "      display: none;\n",
              "      fill: #1967D2;\n",
              "      height: 32px;\n",
              "      padding: 0 0 0 0;\n",
              "      width: 32px;\n",
              "    }\n",
              "\n",
              "    .colab-df-convert:hover {\n",
              "      background-color: #E2EBFA;\n",
              "      box-shadow: 0px 1px 2px rgba(60, 64, 67, 0.3), 0px 1px 3px 1px rgba(60, 64, 67, 0.15);\n",
              "      fill: #174EA6;\n",
              "    }\n",
              "\n",
              "    [theme=dark] .colab-df-convert {\n",
              "      background-color: #3B4455;\n",
              "      fill: #D2E3FC;\n",
              "    }\n",
              "\n",
              "    [theme=dark] .colab-df-convert:hover {\n",
              "      background-color: #434B5C;\n",
              "      box-shadow: 0px 1px 3px 1px rgba(0, 0, 0, 0.15);\n",
              "      filter: drop-shadow(0px 1px 2px rgba(0, 0, 0, 0.3));\n",
              "      fill: #FFFFFF;\n",
              "    }\n",
              "  </style>\n",
              "\n",
              "      <script>\n",
              "        const buttonEl =\n",
              "          document.querySelector('#df-37d0ba2b-3dae-41b8-9b95-ec4fba1df7fc button.colab-df-convert');\n",
              "        buttonEl.style.display =\n",
              "          google.colab.kernel.accessAllowed ? 'block' : 'none';\n",
              "\n",
              "        async function convertToInteractive(key) {\n",
              "          const element = document.querySelector('#df-37d0ba2b-3dae-41b8-9b95-ec4fba1df7fc');\n",
              "          const dataTable =\n",
              "            await google.colab.kernel.invokeFunction('convertToInteractive',\n",
              "                                                     [key], {});\n",
              "          if (!dataTable) return;\n",
              "\n",
              "          const docLinkHtml = 'Like what you see? Visit the ' +\n",
              "            '<a target=\"_blank\" href=https://colab.research.google.com/notebooks/data_table.ipynb>data table notebook</a>'\n",
              "            + ' to learn more about interactive tables.';\n",
              "          element.innerHTML = '';\n",
              "          dataTable['output_type'] = 'display_data';\n",
              "          await google.colab.output.renderOutput(dataTable, element);\n",
              "          const docLink = document.createElement('div');\n",
              "          docLink.innerHTML = docLinkHtml;\n",
              "          element.appendChild(docLink);\n",
              "        }\n",
              "      </script>\n",
              "    </div>\n",
              "  </div>\n",
              "  "
            ]
          },
          "metadata": {},
          "execution_count": 16
        }
      ]
    },
    {
      "cell_type": "markdown",
      "source": [
        "# **<font color=\"RoyalBlue\">Usando Plot de Pandas**\n"
      ],
      "metadata": {
        "id": "QfINX9uKritG"
      },
      "id": "QfINX9uKritG"
    },
    {
      "cell_type": "markdown",
      "source": [
        "## **<font color=\"RoyalBlue\">Gráfico Lineal**\n"
      ],
      "metadata": {
        "id": "uVHciNrcqN_n"
      },
      "id": "uVHciNrcqN_n"
    },
    {
      "cell_type": "code",
      "source": [
        "dolar.plot(\"Date\",\"Close\", \n",
        "           kind=\"line\", \n",
        "           figsize=(12,6), \n",
        "           color=\"purple\",\n",
        "           grid=True, \n",
        "           title=\"COTIZACIÓN DOLAR\", \n",
        "           ylabel = \"PESOS\",\n",
        "           xlabel = \"FECHA\");"
      ],
      "metadata": {
        "colab": {
          "base_uri": "https://localhost:8080/",
          "height": 439
        },
        "id": "Weor8QhLtTpO",
        "outputId": "f69a07cd-188c-4528-a5bf-a9950c998671"
      },
      "id": "Weor8QhLtTpO",
      "execution_count": 17,
      "outputs": [
        {
          "output_type": "display_data",
          "data": {
            "text/plain": [
              "<Figure size 864x432 with 1 Axes>"
            ],
            "image/png": "[encoded data removed]"
          },
          "metadata": {
            "needs_background": "light"
          }
        }
      ]
    },
    {
      "cell_type": "code",
      "source": [
        "bitcoin.plot(\"Date\",\"Close\", \n",
        "            kind=\"line\", \n",
        "            figsize=(12,6), \n",
        "            color=\"darkred\",\n",
        "            grid=True, \n",
        "            title=\"COTIZACIÓN BITCOIN\", \n",
        "            ylabel = \"DOLARES\",\n",
        "            xlabel = \"FECHA\");"
      ],
      "metadata": {
        "colab": {
          "base_uri": "https://localhost:8080/",
          "height": 427
        },
        "id": "BpHH5KB5vBGB",
        "outputId": "50c4c44f-75f8-4c0b-fc6a-724c7f834e76"
      },
      "id": "BpHH5KB5vBGB",
      "execution_count": 18,
      "outputs": [
        {
          "output_type": "display_data",
          "data": {
            "text/plain": [
              "<Figure size 864x432 with 1 Axes>"
            ],
            "image/png": "[encoded data removed]"
          },
          "metadata": {
            "needs_background": "light"
          }
        }
      ]
    },
    {
      "cell_type": "code",
      "source": [
        "bitcoin = yf.download(\"BTC-USD\", start=\"2022-01-01\", end=\"2022-01-14\")\n",
        "bitcoin.drop(columns=[\"Volume\",\"Adj Close\"], inplace=True)\n",
        "bitcoin.head()"
      ],
      "metadata": {
        "colab": {
          "base_uri": "https://localhost:8080/",
          "height": 256
        },
        "id": "5gBw7fAp0dcW",
        "outputId": "bb1c6546-e7e2-42a2-b1ef-6fc8ed99bde7"
      },
      "id": "5gBw7fAp0dcW",
      "execution_count": 19,
      "outputs": [
        {
          "output_type": "stream",
          "name": "stdout",
          "text": [
            "\r[*********************100%***********************]  1 of 1 completed\n"
          ]
        },
        {
          "output_type": "execute_result",
          "data": {
            "text/plain": [
              "                                   Open          High           Low  \\\n",
              "Date                                                                  \n",
              "2022-01-01 00:00:00+00:00  46311.746094  47827.312500  46288.484375   \n",
              "2022-01-02 00:00:00+00:00  47680.925781  47881.406250  46856.937500   \n",
              "2022-01-03 00:00:00+00:00  47343.542969  47510.726562  45835.964844   \n",
              "2022-01-04 00:00:00+00:00  46458.851562  47406.546875  45752.464844   \n",
              "2022-01-05 00:00:00+00:00  45899.359375  46929.046875  42798.222656   \n",
              "\n",
              "                                  Close  \n",
              "Date                                     \n",
              "2022-01-01 00:00:00+00:00  47686.812500  \n",
              "2022-01-02 00:00:00+00:00  47345.218750  \n",
              "2022-01-03 00:00:00+00:00  46458.117188  \n",
              "2022-01-04 00:00:00+00:00  45897.574219  \n",
              "2022-01-05 00:00:00+00:00  43569.003906  "
            ],
            "text/html": [
              "\n",
              "  <div id=\"df-1f700d93-8680-4dae-a6f4-cb6f5ffc69bc\">\n",
              "    <div class=\"colab-df-container\">\n",
              "      <div>\n",
              "<style scoped>\n",
              "    .dataframe tbody tr th:only-of-type {\n",
              "        vertical-align: middle;\n",
              "    }\n",
              "\n",
              "    .dataframe tbody tr th {\n",
              "        vertical-align: top;\n",
              "    }\n",
              "\n",
              "    .dataframe thead th {\n",
              "        text-align: right;\n",
              "    }\n",
              "</style>\n",
              "<table border=\"1\" class=\"dataframe\">\n",
              "  <thead>\n",
              "    <tr style=\"text-align: right;\">\n",
              "      <th></th>\n",
              "      <th>Open</th>\n",
              "      <th>High</th>\n",
              "      <th>Low</th>\n",
              "      <th>Close</th>\n",
              "    </tr>\n",
              "    <tr>\n",
              "      <th>Date</th>\n",
              "      <th></th>\n",
              "      <th></th>\n",
              "      <th></th>\n",
              "      <th></th>\n",
              "    </tr>\n",
              "  </thead>\n",
              "  <tbody>\n",
              "    <tr>\n",
              "      <th>2022-01-01 00:00:00+00:00</th>\n",
              "      <td>46311.746094</td>\n",
              "      <td>47827.312500</td>\n",
              "      <td>46288.484375</td>\n",
              "      <td>47686.812500</td>\n",
              "    </tr>\n",
              "    <tr>\n",
              "      <th>2022-01-02 00:00:00+00:00</th>\n",
              "      <td>47680.925781</td>\n",
              "      <td>47881.406250</td>\n",
              "      <td>46856.937500</td>\n",
              "      <td>47345.218750</td>\n",
              "    </tr>\n",
              "    <tr>\n",
              "      <th>2022-01-03 00:00:00+00:00</th>\n",
              "      <td>47343.542969</td>\n",
              "      <td>47510.726562</td>\n",
              "      <td>45835.964844</td>\n",
              "      <td>46458.117188</td>\n",
              "    </tr>\n",
              "    <tr>\n",
              "      <th>2022-01-04 00:00:00+00:00</th>\n",
              "      <td>46458.851562</td>\n",
              "      <td>47406.546875</td>\n",
              "      <td>45752.464844</td>\n",
              "      <td>45897.574219</td>\n",
              "    </tr>\n",
              "    <tr>\n",
              "      <th>2022-01-05 00:00:00+00:00</th>\n",
              "      <td>45899.359375</td>\n",
              "      <td>46929.046875</td>\n",
              "      <td>42798.222656</td>\n",
              "      <td>43569.003906</td>\n",
              "    </tr>\n",
              "  </tbody>\n",
              "</table>\n",
              "</div>\n",
              "      <button class=\"colab-df-convert\" onclick=\"convertToInteractive('df-1f700d93-8680-4dae-a6f4-cb6f5ffc69bc')\"\n",
              "              title=\"Convert this dataframe to an interactive table.\"\n",
              "              style=\"display:none;\">\n",
              "        \n",
              "  <svg xmlns=\"http://www.w3.org/2000/svg\" height=\"24px\"viewBox=\"0 0 24 24\"\n",
              "       width=\"24px\">\n",
              "    <path d=\"M0 0h24v24H0V0z\" fill=\"none\"/>\n",
              "    <path d=\"M18.56 5.44l.94 2.06.94-2.06 2.06-.94-2.06-.94-.94-2.06-.94 2.06-2.06.94zm-11 1L8.5 8.5l.94-2.06 2.06-.94-2.06-.94L8.5 2.5l-.94 2.06-2.06.94zm10 10l.94 2.06.94-2.06 2.06-.94-2.06-.94-.94-2.06-.94 2.06-2.06.94z\"/><path d=\"M17.41 7.96l-1.37-1.37c-.4-.4-.92-.59-1.43-.59-.52 0-1.04.2-1.43.59L10.3 9.45l-7.72 7.72c-.78.78-.78 2.05 0 2.83L4 21.41c.39.39.9.59 1.41.59.51 0 1.02-.2 1.41-.59l7.78-7.78 2.81-2.81c.8-.78.8-2.07 0-2.86zM5.41 20L4 18.59l7.72-7.72 1.47 1.35L5.41 20z\"/>\n",
              "  </svg>\n",
              "      </button>\n",
              "      \n",
              "  <style>\n",
              "    .colab-df-container {\n",
              "      display:flex;\n",
              "      flex-wrap:wrap;\n",
              "      gap: 12px;\n",
              "    }\n",
              "\n",
              "    .colab-df-convert {\n",
              "      background-color: #E8F0FE;\n",
              "      border: none;\n",
              "      border-radius: 50%;\n",
              "      cursor: pointer;\n",
              "      display: none;\n",
              "      fill: #1967D2;\n",
              "      height: 32px;\n",
              "      padding: 0 0 0 0;\n",
              "      width: 32px;\n",
              "    }\n",
              "\n",
              "    .colab-df-convert:hover {\n",
              "      background-color: #E2EBFA;\n",
              "      box-shadow: 0px 1px 2px rgba(60, 64, 67, 0.3), 0px 1px 3px 1px rgba(60, 64, 67, 0.15);\n",
              "      fill: #174EA6;\n",
              "    }\n",
              "\n",
              "    [theme=dark] .colab-df-convert {\n",
              "      background-color: #3B4455;\n",
              "      fill: #D2E3FC;\n",
              "    }\n",
              "\n",
              "    [theme=dark] .colab-df-convert:hover {\n",
              "      background-color: #434B5C;\n",
              "      box-shadow: 0px 1px 3px 1px rgba(0, 0, 0, 0.15);\n",
              "      filter: drop-shadow(0px 1px 2px rgba(0, 0, 0, 0.3));\n",
              "      fill: #FFFFFF;\n",
              "    }\n",
              "  </style>\n",
              "\n",
              "      <script>\n",
              "        const buttonEl =\n",
              "          document.querySelector('#df-1f700d93-8680-4dae-a6f4-cb6f5ffc69bc button.colab-df-convert');\n",
              "        buttonEl.style.display =\n",
              "          google.colab.kernel.accessAllowed ? 'block' : 'none';\n",
              "\n",
              "        async function convertToInteractive(key) {\n",
              "          const element = document.querySelector('#df-1f700d93-8680-4dae-a6f4-cb6f5ffc69bc');\n",
              "          const dataTable =\n",
              "            await google.colab.kernel.invokeFunction('convertToInteractive',\n",
              "                                                     [key], {});\n",
              "          if (!dataTable) return;\n",
              "\n",
              "          const docLinkHtml = 'Like what you see? Visit the ' +\n",
              "            '<a target=\"_blank\" href=https://colab.research.google.com/notebooks/data_table.ipynb>data table notebook</a>'\n",
              "            + ' to learn more about interactive tables.';\n",
              "          element.innerHTML = '';\n",
              "          dataTable['output_type'] = 'display_data';\n",
              "          await google.colab.output.renderOutput(dataTable, element);\n",
              "          const docLink = document.createElement('div');\n",
              "          docLink.innerHTML = docLinkHtml;\n",
              "          element.appendChild(docLink);\n",
              "        }\n",
              "      </script>\n",
              "    </div>\n",
              "  </div>\n",
              "  "
            ]
          },
          "metadata": {},
          "execution_count": 19
        }
      ]
    },
    {
      "cell_type": "markdown",
      "source": [
        "https://pandas.pydata.org/docs/reference/api/pandas.DataFrame.plot.line.html"
      ],
      "metadata": {
        "id": "KkVM0zOC0bFH"
      },
      "id": "KkVM0zOC0bFH"
    },
    {
      "cell_type": "code",
      "source": [
        "bitcoin.plot.line(figsize=(12,6),grid=True);"
      ],
      "metadata": {
        "colab": {
          "base_uri": "https://localhost:8080/",
          "height": 411
        },
        "id": "Z23BNOlE0oSp",
        "outputId": "4f64c1bd-fe4e-458f-f153-2a9f7264a619"
      },
      "id": "Z23BNOlE0oSp",
      "execution_count": 20,
      "outputs": [
        {
          "output_type": "display_data",
          "data": {
            "text/plain": [
              "<Figure size 864x432 with 1 Axes>"
            ],
            "image/png": "[encoded data removed]"
          },
          "metadata": {
            "needs_background": "light"
          }
        }
      ]
    },
    {
      "cell_type": "markdown",
      "source": [
        "## **<font color=\"RoyalBlue\">Gráfico de Caja**\n"
      ],
      "metadata": {
        "id": "xdhaabVovlAQ"
      },
      "id": "xdhaabVovlAQ"
    },
    {
      "cell_type": "code",
      "source": [
        "bitcoin = yf.download(\"BTC-USD\", start=\"2022-01-01\", end=\"2022-01-14\")\n",
        "bitcoin.drop(columns=[\"Volume\",\"Adj Close\"], inplace=True)\n",
        "bitcoin.reset_index(inplace=True)\n",
        "bitcoin.head()"
      ],
      "metadata": {
        "colab": {
          "base_uri": "https://localhost:8080/",
          "height": 224
        },
        "id": "6Nnf8dnC1iWJ",
        "outputId": "461cc7ed-310f-4e5d-f138-cb24900e8471"
      },
      "id": "6Nnf8dnC1iWJ",
      "execution_count": 21,
      "outputs": [
        {
          "output_type": "stream",
          "name": "stdout",
          "text": [
            "\r[*********************100%***********************]  1 of 1 completed\n"
          ]
        },
        {
          "output_type": "execute_result",
          "data": {
            "text/plain": [
              "                       Date          Open          High           Low  \\\n",
              "0 2022-01-01 00:00:00+00:00  46311.746094  47827.312500  46288.484375   \n",
              "1 2022-01-02 00:00:00+00:00  47680.925781  47881.406250  46856.937500   \n",
              "2 2022-01-03 00:00:00+00:00  47343.542969  47510.726562  45835.964844   \n",
              "3 2022-01-04 00:00:00+00:00  46458.851562  47406.546875  45752.464844   \n",
              "4 2022-01-05 00:00:00+00:00  45899.359375  46929.046875  42798.222656   \n",
              "\n",
              "          Close  \n",
              "0  47686.812500  \n",
              "1  47345.218750  \n",
              "2  46458.117188  \n",
              "3  45897.574219  \n",
              "4  43569.003906  "
            ],
            "text/html": [
              "\n",
              "  <div id=\"df-49f946ef-97df-4ea8-97e8-15eb2b5e7df0\">\n",
              "    <div class=\"colab-df-container\">\n",
              "      <div>\n",
              "<style scoped>\n",
              "    .dataframe tbody tr th:only-of-type {\n",
              "        vertical-align: middle;\n",
              "    }\n",
              "\n",
              "    .dataframe tbody tr th {\n",
              "        vertical-align: top;\n",
              "    }\n",
              "\n",
              "    .dataframe thead th {\n",
              "        text-align: right;\n",
              "    }\n",
              "</style>\n",
              "<table border=\"1\" class=\"dataframe\">\n",
              "  <thead>\n",
              "    <tr style=\"text-align: right;\">\n",
              "      <th></th>\n",
              "      <th>Date</th>\n",
              "      <th>Open</th>\n",
              "      <th>High</th>\n",
              "      <th>Low</th>\n",
              "      <th>Close</th>\n",
              "    </tr>\n",
              "  </thead>\n",
              "  <tbody>\n",
              "    <tr>\n",
              "      <th>0</th>\n",
              "      <td>2022-01-01 00:00:00+00:00</td>\n",
              "      <td>46311.746094</td>\n",
              "      <td>47827.312500</td>\n",
              "      <td>46288.484375</td>\n",
              "      <td>47686.812500</td>\n",
              "    </tr>\n",
              "    <tr>\n",
              "      <th>1</th>\n",
              "      <td>2022-01-02 00:00:00+00:00</td>\n",
              "      <td>47680.925781</td>\n",
              "      <td>47881.406250</td>\n",
              "      <td>46856.937500</td>\n",
              "      <td>47345.218750</td>\n",
              "    </tr>\n",
              "    <tr>\n",
              "      <th>2</th>\n",
              "      <td>2022-01-03 00:00:00+00:00</td>\n",
              "      <td>47343.542969</td>\n",
              "      <td>47510.726562</td>\n",
              "      <td>45835.964844</td>\n",
              "      <td>46458.117188</td>\n",
              "    </tr>\n",
              "    <tr>\n",
              "      <th>3</th>\n",
              "      <td>2022-01-04 00:00:00+00:00</td>\n",
              "      <td>46458.851562</td>\n",
              "      <td>47406.546875</td>\n",
              "      <td>45752.464844</td>\n",
              "      <td>45897.574219</td>\n",
              "    </tr>\n",
              "    <tr>\n",
              "      <th>4</th>\n",
              "      <td>2022-01-05 00:00:00+00:00</td>\n",
              "      <td>45899.359375</td>\n",
              "      <td>46929.046875</td>\n",
              "      <td>42798.222656</td>\n",
              "      <td>43569.003906</td>\n",
              "    </tr>\n",
              "  </tbody>\n",
              "</table>\n",
              "</div>\n",
              "      <button class=\"colab-df-convert\" onclick=\"convertToInteractive('df-49f946ef-97df-4ea8-97e8-15eb2b5e7df0')\"\n",
              "              title=\"Convert this dataframe to an interactive table.\"\n",
              "              style=\"display:none;\">\n",
              "        \n",
              "  <svg xmlns=\"http://www.w3.org/2000/svg\" height=\"24px\"viewBox=\"0 0 24 24\"\n",
              "       width=\"24px\">\n",
              "    <path d=\"M0 0h24v24H0V0z\" fill=\"none\"/>\n",
              "    <path d=\"M18.56 5.44l.94 2.06.94-2.06 2.06-.94-2.06-.94-.94-2.06-.94 2.06-2.06.94zm-11 1L8.5 8.5l.94-2.06 2.06-.94-2.06-.94L8.5 2.5l-.94 2.06-2.06.94zm10 10l.94 2.06.94-2.06 2.06-.94-2.06-.94-.94-2.06-.94 2.06-2.06.94z\"/><path d=\"M17.41 7.96l-1.37-1.37c-.4-.4-.92-.59-1.43-.59-.52 0-1.04.2-1.43.59L10.3 9.45l-7.72 7.72c-.78.78-.78 2.05 0 2.83L4 21.41c.39.39.9.59 1.41.59.51 0 1.02-.2 1.41-.59l7.78-7.78 2.81-2.81c.8-.78.8-2.07 0-2.86zM5.41 20L4 18.59l7.72-7.72 1.47 1.35L5.41 20z\"/>\n",
              "  </svg>\n",
              "      </button>\n",
              "      \n",
              "  <style>\n",
              "    .colab-df-container {\n",
              "      display:flex;\n",
              "      flex-wrap:wrap;\n",
              "      gap: 12px;\n",
              "    }\n",
              "\n",
              "    .colab-df-convert {\n",
              "      background-color: #E8F0FE;\n",
              "      border: none;\n",
              "      border-radius: 50%;\n",
              "      cursor: pointer;\n",
              "      display: none;\n",
              "      fill: #1967D2;\n",
              "      height: 32px;\n",
              "      padding: 0 0 0 0;\n",
              "      width: 32px;\n",
              "    }\n",
              "\n",
              "    .colab-df-convert:hover {\n",
              "      background-color: #E2EBFA;\n",
              "      box-shadow: 0px 1px 2px rgba(60, 64, 67, 0.3), 0px 1px 3px 1px rgba(60, 64, 67, 0.15);\n",
              "      fill: #174EA6;\n",
              "    }\n",
              "\n",
              "    [theme=dark] .colab-df-convert {\n",
              "      background-color: #3B4455;\n",
              "      fill: #D2E3FC;\n",
              "    }\n",
              "\n",
              "    [theme=dark] .colab-df-convert:hover {\n",
              "      background-color: #434B5C;\n",
              "      box-shadow: 0px 1px 3px 1px rgba(0, 0, 0, 0.15);\n",
              "      filter: drop-shadow(0px 1px 2px rgba(0, 0, 0, 0.3));\n",
              "      fill: #FFFFFF;\n",
              "    }\n",
              "  </style>\n",
              "\n",
              "      <script>\n",
              "        const buttonEl =\n",
              "          document.querySelector('#df-49f946ef-97df-4ea8-97e8-15eb2b5e7df0 button.colab-df-convert');\n",
              "        buttonEl.style.display =\n",
              "          google.colab.kernel.accessAllowed ? 'block' : 'none';\n",
              "\n",
              "        async function convertToInteractive(key) {\n",
              "          const element = document.querySelector('#df-49f946ef-97df-4ea8-97e8-15eb2b5e7df0');\n",
              "          const dataTable =\n",
              "            await google.colab.kernel.invokeFunction('convertToInteractive',\n",
              "                                                     [key], {});\n",
              "          if (!dataTable) return;\n",
              "\n",
              "          const docLinkHtml = 'Like what you see? Visit the ' +\n",
              "            '<a target=\"_blank\" href=https://colab.research.google.com/notebooks/data_table.ipynb>data table notebook</a>'\n",
              "            + ' to learn more about interactive tables.';\n",
              "          element.innerHTML = '';\n",
              "          dataTable['output_type'] = 'display_data';\n",
              "          await google.colab.output.renderOutput(dataTable, element);\n",
              "          const docLink = document.createElement('div');\n",
              "          docLink.innerHTML = docLinkHtml;\n",
              "          element.appendChild(docLink);\n",
              "        }\n",
              "      </script>\n",
              "    </div>\n",
              "  </div>\n",
              "  "
            ]
          },
          "metadata": {},
          "execution_count": 21
        }
      ]
    },
    {
      "cell_type": "markdown",
      "source": [
        "https://pandas.pydata.org/docs/reference/api/pandas.DataFrame.plot.box.html"
      ],
      "metadata": {
        "id": "G1uA-ly8xxZg"
      },
      "id": "G1uA-ly8xxZg"
    },
    {
      "cell_type": "code",
      "source": [
        "bitcoin.plot(\"Date\",[\"High\",\"Low\",\"Open\",\"Close\"], \n",
        "             kind=\"box\", \n",
        "             figsize=(12,6), \n",
        "             color=\"darkgreen\", \n",
        "             title=\"BITCOIN\", \n",
        "             ylabel = \"DOLARES\");"
      ],
      "metadata": {
        "colab": {
          "base_uri": "https://localhost:8080/",
          "height": 390
        },
        "id": "MgN6saUuvz_R",
        "outputId": "18c8e59a-cec5-4bbb-803a-51b3927d513a"
      },
      "id": "MgN6saUuvz_R",
      "execution_count": 22,
      "outputs": [
        {
          "output_type": "display_data",
          "data": {
            "text/plain": [
              "<Figure size 864x432 with 1 Axes>"
            ],
            "image/png": "[encoded data removed]"
          },
          "metadata": {
            "needs_background": "light"
          }
        }
      ]
    },
    {
      "cell_type": "markdown",
      "source": [
        "https://pandas.pydata.org/docs/reference/api/pandas.DataFrame.boxplot.html#pandas.DataFrame.boxplot"
      ],
      "metadata": {
        "id": "il5dOtNFyU2A"
      },
      "id": "il5dOtNFyU2A"
    },
    {
      "cell_type": "code",
      "source": [
        "bitcoin.boxplot(column=[\"High\", \"Low\", \"Open\", \"Close\"],\n",
        "                figsize=(12,6),\n",
        "                grid=False);      "
      ],
      "metadata": {
        "colab": {
          "base_uri": "https://localhost:8080/",
          "height": 374
        },
        "id": "sQihP5SyyWKJ",
        "outputId": "c9820313-6ba9-4271-e12b-7a91cadef0fb"
      },
      "id": "sQihP5SyyWKJ",
      "execution_count": 23,
      "outputs": [
        {
          "output_type": "display_data",
          "data": {
            "text/plain": [
              "<Figure size 864x432 with 1 Axes>"
            ],
            "image/png": "[encoded data removed]"
          },
          "metadata": {
            "needs_background": "light"
          }
        }
      ]
    },
    {
      "cell_type": "markdown",
      "source": [
        "---\n",
        "<p>\n",
        "<font color=\"RoyalBlue\">\n",
        "\n",
        "**Hemos llegado al fin de este cuaderno, felicitaciones estamos avanzando en Pandas, ahora a seguir en el proximo cuaderno...** \n",
        "</font>\n",
        "</p>\n",
        "\n",
        "---"
      ],
      "metadata": {
        "id": "g0g3NeRw9OY5"
      },
      "id": "g0g3NeRw9OY5"
    },
    {
      "cell_type": "markdown",
      "source": [
        "# 😀"
      ],
      "metadata": {
        "id": "qoBLy9HF9Psc"
      },
      "id": "qoBLy9HF9Psc"
    },
    {
      "cell_type": "markdown",
      "source": [
        "![](https://everisgroup.sharepoint.com/sites/BrandCenter/Shared%20Documents/Logo/FUTURE%20AT%20HEART/BLACK/FUTURE-HEARTH.png)"
      ],
      "metadata": {
        "id": "SCWk-kCS9WC7"
      },
      "id": "SCWk-kCS9WC7"
    }
  ],
  "metadata": {
    "kernelspec": {
      "display_name": "Python 3 (ipykernel)",
      "language": "python",
      "name": "python3"
    },
    "language_info": {
      "codemirror_mode": {
        "name": "ipython",
        "version": 3
      },
      "file_extension": ".py",
      "mimetype": "text/x-python",
      "name": "python",
      "nbconvert_exporter": "python",
      "pygments_lexer": "ipython3",
      "version": "3.10.2"
    },
    "colab": {
      "provenance": [],
      "toc_visible": true,
      "include_colab_link": true
    }
  },
  "nbformat": 4,
  "nbformat_minor": 5
}