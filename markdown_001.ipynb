{
  "cells": [
    {
      "cell_type": "markdown",
      "metadata": {
        "id": "view-in-github",
        "colab_type": "text"
      },
      "source": [
        "<a href=\"https://colab.research.google.com/github/cristiandarioortegayubro/P4DA/blob/main/markdown_001.ipynb\" target=\"_parent\"><img src=\"https://colab.research.google.com/assets/colab-badge.svg\" alt=\"Open In Colab\"/></a>"
      ]
    },
    {
      "cell_type": "markdown",
      "source": [
        "![](https://github.com/cristiandarioortegayubro/P4DA/blob/main/Logo.png?raw=true)"
      ],
      "metadata": {
        "id": "UtrAQ2btTU8Y"
      },
      "id": "UtrAQ2btTU8Y"
    },
    {
      "cell_type": "markdown",
      "id": "795ca1b3-d014-48a1-8cd2-a69a90043112",
      "metadata": {
        "id": "795ca1b3-d014-48a1-8cd2-a69a90043112"
      },
      "source": [
        "# **Markdown para las celdas de texto**"
      ]
    },
    {
      "cell_type": "markdown",
      "id": "203ecc93-3ff2-44bf-acb5-f23e09c946a2",
      "metadata": {
        "id": "203ecc93-3ff2-44bf-acb5-f23e09c946a2"
      },
      "source": [
        "![logo](https://upload.wikimedia.org/wikipedia/commons/thumb/4/48/Markdown-mark.svg/250px-Markdown-mark.svg.png)"
      ]
    },
    {
      "cell_type": "markdown",
      "source": [
        "https://en.wikipedia.org/wiki/Markdown"
      ],
      "metadata": {
        "id": "AuYg7zXNjDWR"
      },
      "id": "AuYg7zXNjDWR"
    },
    {
      "cell_type": "markdown",
      "id": "28d57cdf-0dbb-4c7a-9359-a52fa0c94571",
      "metadata": {
        "id": "28d57cdf-0dbb-4c7a-9359-a52fa0c94571"
      },
      "source": [
        "**Markdown es un lenguaje para dar formatos a textos. La sintaxis del lenguaje utiliza símbolos especiales**\n",
        "\n",
        "**Cuando se colocan esos símbolos especiales, el lenguaje interpreta que debe realizarse una acción determinada. Pero puede pasar que necesitemos utilizar en la escritura esos símbolos, y eliminar esa acción. Para ello, antes del símbolo utilizamos la barra invertida \\ y se anula toda acción.**\n",
        "\n",
        "👀 **Si bien existen muchas posibilidades, en esta primer notebook se desarrollan las opciones que vamos a utilizar comunmente...**"
      ]
    },
    {
      "cell_type": "markdown",
      "id": "542fb323-1eea-4c30-9f54-f262f10e917f",
      "metadata": {
        "id": "542fb323-1eea-4c30-9f54-f262f10e917f"
      },
      "source": [
        "# # **Formatos de títulos, textos, imágenes y enlaces**"
      ]
    },
    {
      "cell_type": "markdown",
      "id": "19d8e187-0d14-4a60-a674-2edc8af0eca8",
      "metadata": {
        "tags": [],
        "toc-hr-collapsed": true,
        "id": "19d8e187-0d14-4a60-a674-2edc8af0eca8"
      },
      "source": [
        "👀 **Los títulos se definen agregando el símbolo ```#``` antes del texto, depende la cantidad de símbolos que se agreguen, será el tipo de título.** \n",
        "\n",
        "**Así para:**\n",
        "- el título $1$ se agrega un símbolo ```#``` Titulo $1$, \n",
        "- el titulo $2$, dos símbolos ```##``` Título $2$, \n",
        "- y así sucesivamente. \n",
        "\n",
        "**En algunos casos el título $5$ y el título $6$ tienen el mismo tamaño de letra, y depende del intérprete que se utilice, por ejemplo, si se usa JupyterLab los tipos de letras del título $5$ y del título $6$ son diferentes, y se usa Google Colab el título $5$ y el título $6$ son iguales.** \n",
        "\n",
        "** La sintaxis se debe escribir de la siguiente manera:**\n",
        "\n",
        "~~~markdown\n",
        "# Título 1\n",
        "~~~\n",
        "# Título 1\n",
        "~~~markdown\n",
        "## Título 2\n",
        "~~~\n",
        "## Título 2\n",
        "~~~markdown\n",
        "### Título 3\n",
        "~~~\n",
        "### Título 3\n",
        "~~~markdown\n",
        "#### Título 4\n",
        "~~~\n",
        "#### Título 4\n",
        "~~~markdown\n",
        "##### Título 5\n",
        "~~~\n",
        "##### Título 5\n",
        "~~~markdown\n",
        "###### Título 6\n",
        "~~~\n",
        "###### Título 6"
      ]
    },
    {
      "cell_type": "markdown",
      "id": "43314883-49ef-41d0-8acd-2c3fcf6b1c31",
      "metadata": {
        "id": "43314883-49ef-41d0-8acd-2c3fcf6b1c31"
      },
      "source": [
        "# **Formatos de letra cursiva, negrita y párrafos de código**"
      ]
    },
    {
      "cell_type": "markdown",
      "id": "09664880-3dcf-45c8-b57a-cc4bef3f0606",
      "metadata": {
        "id": "09664880-3dcf-45c8-b57a-cc4bef3f0606"
      },
      "source": [
        "## ▶ **Letras cursivas**"
      ]
    },
    {
      "cell_type": "markdown",
      "id": "f6ba497b-d710-4a92-a78a-ef4d3c4897ff",
      "metadata": {
        "id": "f6ba497b-d710-4a92-a78a-ef4d3c4897ff"
      },
      "source": [
        "**Para lograr el efecto del formato en cursiva, con un solo símbolo asterisco al inicio y final ```*``` de lo que se quiere con cursiva, se logra que la letra tenga ese aspecto. Es decir:**\n",
        "\n",
        "~~~markdown\n",
        "*texto en cursiva*\n",
        "~~~\n",
        "\n",
        "**y el resultado es el siguiente:**\n",
        "\n",
        "*texto en cursiva*"
      ]
    },
    {
      "cell_type": "markdown",
      "id": "79fb55bb-811b-48d9-a0df-e9b8167f31d1",
      "metadata": {
        "id": "79fb55bb-811b-48d9-a0df-e9b8167f31d1"
      },
      "source": [
        "## ▶ **Negrita**"
      ]
    },
    {
      "cell_type": "markdown",
      "id": "4c00c04b-c394-44ea-b08a-2d4d9e32930f",
      "metadata": {
        "id": "4c00c04b-c394-44ea-b08a-2d4d9e32930f"
      },
      "source": [
        "**El formato de negrita para el texto, se logra colocando antes de la palabra que se quiere en negrita dos veces el símbolo asterisco, y donde se quiere que finalice el formato de negrita, otros dos asteriscos sin espacio entre ellos. Es decir:**\n",
        "\n",
        "~~~markdown\n",
        "**texto en negrita**\n",
        "~~~\n",
        "\n",
        "**y el resultado es el siguiente:**\n",
        "\n",
        "**texto en negrita**"
      ]
    },
    {
      "cell_type": "markdown",
      "id": "5331cac4-3c01-42a8-a822-d7db82433e9c",
      "metadata": {
        "id": "5331cac4-3c01-42a8-a822-d7db82433e9c"
      },
      "source": [
        "## ▶ **Cursiva y negrita**"
      ]
    },
    {
      "cell_type": "markdown",
      "id": "64ecaeb9-0498-4c6e-9c63-361639c44b45",
      "metadata": {
        "id": "64ecaeb9-0498-4c6e-9c63-361639c44b45"
      },
      "source": [
        "**Ahora bien, para lograr la cursiva y la negrita simultáneamente, entonces se utilizan tres símbolos astericos** ***como puede apreciarse, de la siguiente manera***:\n",
        "\n",
        "~~~markdown\n",
        "***texto en cursiva y negrita***\n",
        "~~~\n",
        "\n",
        "**y el resultado es el siguiente:**\n",
        "\n",
        "***texto en cursiva y negrita***"
      ]
    },
    {
      "cell_type": "markdown",
      "source": [
        "## ▶ **Párrafos de código**"
      ],
      "metadata": {
        "id": "sr0zHKxbmDVk"
      },
      "id": "sr0zHKxbmDVk"
    },
    {
      "cell_type": "markdown",
      "id": "024c7e43-98a2-4306-8c7e-1d84cb801b19",
      "metadata": {
        "id": "024c7e43-98a2-4306-8c7e-1d84cb801b19"
      },
      "source": [
        "**Si se quiere en un párrafo dar el aspecto de código, en la primer línea se colocan los siguientes símbolos ```~~~``` o tambien se pueden usar ``` y esos símbolos deben colocarse al final del párrafo también. La sintaxis es de la siguiente manera:**\n",
        "\n",
        "\\~~~\n",
        "\n",
        "Este es mi párrafo de código\n",
        "\n",
        "\\~~~\n",
        "\n",
        "**y el resultado es el siguiente:**\n",
        "\n",
        "~~~\n",
        "Este es mi párrafo de código\n",
        "~~~\n",
        "\n",
        "**Si se quiere que se respeten los colores de la sintaxis de acuerdo al lenguaje de código que se esta escribiendo, entonces se puede indicar tal lenguaje**\n",
        "\n",
        "\\~~~python\n",
        "\n",
        "import pandas as pd\n",
        "\n",
        "\\~~~\n",
        "\n",
        "\n",
        "~~~python\n",
        "import pandas as pd\n",
        "~~~\n",
        "\n",
        "~~~latex\n",
        "$n-1$\n",
        "~~~\n"
      ]
    },
    {
      "cell_type": "markdown",
      "source": [
        "**Tambien se puede utilizar este formato de código, en el mismo párrafo en el cual se quiere destacar parte del mismo, ejemplo, destacar un código que se esta mencionando, para ello, se encierran las palabras a destacar con los siguientes símbolos ```. Ejemplo:**\n",
        "\n",
        "> Para instalar pandas en nuestra sesión de trabajo, usamos pip de la siguiente manera \\```!pip install pandas```, y el resultado queda así...\n",
        "\n",
        "Para instalar pandas en nuestra sesión de trabajo, usamos pip de la siguiente manera ```!pip install pandas```, y luego podemos habilitar pandas..."
      ],
      "metadata": {
        "id": "YZTHfknymb4O"
      },
      "id": "YZTHfknymb4O"
    },
    {
      "cell_type": "markdown",
      "id": "427694bf-148f-4d32-a35e-46d58fd9bfe2",
      "metadata": {
        "id": "427694bf-148f-4d32-a35e-46d58fd9bfe2"
      },
      "source": [
        "# **Listas, numeración y listas anidadas**"
      ]
    },
    {
      "cell_type": "markdown",
      "id": "1b2ff477-60ba-4725-a25b-a2e0fffbaaf8",
      "metadata": {
        "id": "1b2ff477-60ba-4725-a25b-a2e0fffbaaf8"
      },
      "source": [
        "## ⚫ **Listas**"
      ]
    },
    {
      "cell_type": "markdown",
      "id": "83287c74-5e3d-4793-ac2e-b2514eb70a61",
      "metadata": {
        "id": "83287c74-5e3d-4793-ac2e-b2514eb70a61"
      },
      "source": [
        "**Las listas se pueden crear con el símbolo ```+```, con el símbolo ```-```, o con el símbolo ```\\```, de la siguiente manera:**\n",
        "\n",
        "~~~markdown\n",
        "+ Primero se pone el símbolo,\n",
        "+ Luego se escribe el texto,\n",
        "+ y se repite la operación tanto como se necesite.\n",
        "~~~\n",
        "\n",
        "**y el resultado es el siguiente:**\n",
        "\n",
        "+ Primero se pone el símbolo,\n",
        "+ Luego se escribe el texto,\n",
        "+ y se repite la operación tanto como se necesite."
      ]
    },
    {
      "cell_type": "markdown",
      "id": "ea2f4f81-159e-434e-b669-9bc38e149494",
      "metadata": {
        "id": "ea2f4f81-159e-434e-b669-9bc38e149494"
      },
      "source": [
        "## ⚫ **Numeración**"
      ]
    },
    {
      "cell_type": "markdown",
      "id": "d12a11cf-20ec-462d-96b9-b8f628586c79",
      "metadata": {
        "id": "d12a11cf-20ec-462d-96b9-b8f628586c79"
      },
      "source": [
        "**Para la numeración, en vez de usar un símbolo, se puede colocar el número seguido de un punto, es decir $1$. cada vez que se inicie una oración perteneciente a una numeración. Se puede colocar todas las veces $1$., y cuando se ejecute la celda, se numerará como corresponde. Por ejemplo, se podría escribir lo siguiente:**\n",
        "\n",
        "~~~markdown\n",
        "1. Coloco el 1. y empiezo a escribir,\n",
        "1. Vuelvo a colocar 1., pero en la numeración se va a mostrar el 2.,\n",
        "1. Repito la operación tantas veces como necesite numerar.\n",
        "~~~\n",
        "\n",
        "**y el resultado es el siguiente:**\n",
        "\n",
        "1. Coloco el 1. y empiezo a escribir,\n",
        "1. Vuelvo a colocar 1., pero en la numeración se va a mostrar el 2.,\n",
        "1. Repito la operación tantas veces como necesite numerar."
      ]
    },
    {
      "cell_type": "markdown",
      "id": "b8f85363-089a-4fd0-99cd-a6d5e8772840",
      "metadata": {
        "id": "b8f85363-089a-4fd0-99cd-a6d5e8772840"
      },
      "source": [
        "## ⚫ **Lista anidada**"
      ]
    },
    {
      "cell_type": "markdown",
      "id": "b04a5b76-a7a1-4da8-b396-29f50de6557e",
      "metadata": {
        "id": "b04a5b76-a7a1-4da8-b396-29f50de6557e"
      },
      "source": [
        "**Para generar una lista anidada, se debe dar cuatro espacios para incrementar el nivel de la lista, es decir:**\n",
        "\n",
        "~~~markdown\n",
        "- Empiezo en el nivel uno,\n",
        "    - Realizo cuatro espacios, para el nivel dos,\n",
        "    - y continúo las veces necesarias,\n",
        "    - si quiero incrementar el nivel, cuatro espacios mas,\n",
        "        - y queda de esta forma,\n",
        "        - nótese que automáticamente se cambia el símbolo de la lista.\n",
        "~~~\n",
        "\n",
        "**y el resultado es el siguiente:**\n",
        "\n",
        "- Empiezo en el nivel uno,\n",
        "    - Realizo cuatro espacios, para el nivel dos,\n",
        "    - y continúo las veces necesarias,\n",
        "    - si quiero incrementar el nivel, cuatro espacios mas,\n",
        "        - y queda de esta forma,\n",
        "        - nótese que automáticamente se cambia el símbolo del la lista."
      ]
    },
    {
      "cell_type": "markdown",
      "id": "ff920752-6443-4065-9dad-c04ba7da2389",
      "metadata": {
        "id": "ff920752-6443-4065-9dad-c04ba7da2389"
      },
      "source": [
        "**Lo mismo en la numeración:**\n",
        "\n",
        "~~~markdown\n",
        "1. Comienzo el nivel uno con 1.,\n",
        "    1. doy cuatro espacios para el nivel dos,\n",
        "    1. la numeración se reinicia para el nivel dos,\n",
        "    1. concluido el nivel dos, podría subir de nivel, o volver al nivel 1.,\n",
        "1. si vuelvo al nivel 1., debería continuar la numeración.\n",
        "~~~\n",
        "\n",
        "**y el resultado es el siguiente:**\n",
        "\n",
        "1. Comienzo el nivel uno con 1.,\n",
        "    1. doy cuatro espacios para el nivel dos,\n",
        "    1. la numeración se reinicia para el nivel dos,\n",
        "    1. concluido el nivel dos, podría subir de nivel, o volver al nivel 1.,\n",
        "1. si vuelvo al nivel 1., debería continuar la numeración."
      ]
    },
    {
      "cell_type": "markdown",
      "id": "36c104b0-2e42-423e-923a-85e69bdfa694",
      "metadata": {
        "id": "36c104b0-2e42-423e-923a-85e69bdfa694"
      },
      "source": [
        "**Y también pueden combinarse, como el siguiente ejemplo:**\n",
        "\n",
        "~~~markdown\n",
        "1. Comienzo la numeración, y subo de nivel con una lista,\n",
        "    - empiezo el nivel 2., con una lista,\n",
        "    - continúo las veces necesarias,\n",
        "1. vuelvo al nivel 1., numerado.\n",
        "~~~\n",
        "\n",
        "**y el resultado es el siguiente:**\n",
        "\n",
        "1. Comienzo la numeración, y subo de nivel con una lista,\n",
        "    - empiezo el nivel 2., con una lista,\n",
        "    - continúo las veces necesarias,\n",
        "1. vuelvo al nivel 1., numerado."
      ]
    },
    {
      "cell_type": "markdown",
      "id": "90ae44d2-2de9-492b-a366-e5ea350c258d",
      "metadata": {
        "id": "90ae44d2-2de9-492b-a366-e5ea350c258d"
      },
      "source": [
        "# **Enlaces e imágenes en línea**"
      ]
    },
    {
      "cell_type": "markdown",
      "id": "f3a2ecad-3769-402e-a941-1459c6695afc",
      "metadata": {
        "id": "f3a2ecad-3769-402e-a941-1459c6695afc"
      },
      "source": [
        "## ✅ **Enlaces**"
      ]
    },
    {
      "cell_type": "markdown",
      "id": "827a1453-2503-4560-9478-2f2d91e2aa44",
      "metadata": {
        "id": "827a1453-2503-4560-9478-2f2d91e2aa44"
      },
      "source": [
        "**Se pueden colocar directamente un enlace, por ejemplo, si quiero el enlace de Google, lo copio del navegador y lo pego a continuación. Quedaría de la siguiente forma:**\n",
        "\n",
        "https://www.google.com/\n",
        "\n",
        "**Si se quiere el enlace, pero referenciado a una palabra, es decir que al hacer clic en la palabra, nos lleve al enlace, entonces debe colocarse esa palabra entre corchetes, seguido del enlace entre paréntesis, como por ejemplo:**\n",
        "\n",
        "~~~markdown\n",
        "[Google](https://www.google.com/)\n",
        "~~~\n",
        "\n",
        "**y quedaría de la siguiente manera:**\n",
        "\n",
        "[Google](https://www.google.com/)\n"
      ]
    },
    {
      "cell_type": "markdown",
      "id": "e84e8067-fe0a-4988-8eee-7b650e3a1d3f",
      "metadata": {
        "id": "e84e8067-fe0a-4988-8eee-7b650e3a1d3f"
      },
      "source": [
        "## ✅ **Imágenes en línea**"
      ]
    },
    {
      "cell_type": "markdown",
      "id": "d3093504-da95-4614-8835-be7338cbc57b",
      "metadata": {
        "id": "d3093504-da95-4614-8835-be7338cbc57b"
      },
      "source": [
        "**Si se quiere obtener una imágen en línea, como por ejemplo el logo de Google, se debe escribir el código de la misma manera que el enlace referenciado a una palabra, pero iniciando el código con el signo de exclamación, y además el enlace debe estar completo, indicando la ubicación de la imágen que se quiere traer a la celda de texto, por ejemplo:**\n",
        "\n",
        "~~~markdown\n",
        "![Google](https://www.google.com/images/logos/google_logo_41.png)\n",
        "~~~\n",
        "\n",
        "**y quedaría de la siguiente manera:**\n",
        "\n",
        "![Google](https://www.google.com/images/logos/google_logo_41.png)"
      ]
    },
    {
      "cell_type": "markdown",
      "id": "9504e90b-3695-4022-b072-89dc8cd206c8",
      "metadata": {
        "id": "9504e90b-3695-4022-b072-89dc8cd206c8"
      },
      "source": [
        "![logo](https://upload.wikimedia.org/wikipedia/commons/thumb/4/48/Markdown-mark.svg/250px-Markdown-mark.svg.png)"
      ]
    },
    {
      "cell_type": "markdown",
      "id": "f86b8191-6ae6-409e-9406-07ad0f98a14a",
      "metadata": {
        "id": "f86b8191-6ae6-409e-9406-07ad0f98a14a"
      },
      "source": [
        "**Hemos llegado al fin de este cuaderno, felicitaciones hemos aprendido un poco de markdown para poder mejorar nuestras celdas de texto, ahora a seguir en el proximo cuaderno...** "
      ]
    },
    {
      "cell_type": "markdown",
      "id": "3fc5c616-fe18-4f9c-b329-1187797ea376",
      "metadata": {
        "id": "3fc5c616-fe18-4f9c-b329-1187797ea376"
      },
      "source": [
        "😀"
      ]
    },
    {
      "cell_type": "markdown",
      "source": [
        "![](https://everisgroup.sharepoint.com/sites/BrandCenter/Shared%20Documents/Logo/FUTURE%20AT%20HEART/BLACK/FUTURE-HEARTH.png)"
      ],
      "metadata": {
        "id": "MLF0QH-s3dW6"
      },
      "id": "MLF0QH-s3dW6"
    }
  ],
  "metadata": {
    "kernelspec": {
      "display_name": "Python 3 (ipykernel)",
      "language": "python",
      "name": "python3"
    },
    "language_info": {
      "codemirror_mode": {
        "name": "ipython",
        "version": 3
      },
      "file_extension": ".py",
      "mimetype": "text/x-python",
      "name": "python",
      "nbconvert_exporter": "python",
      "pygments_lexer": "ipython3",
      "version": "3.10.2"
    },
    "colab": {
      "provenance": [],
      "include_colab_link": true
    }
  },
  "nbformat": 4,
  "nbformat_minor": 5
}