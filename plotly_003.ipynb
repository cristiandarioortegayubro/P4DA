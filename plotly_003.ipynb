{
  "cells": [
    {
      "cell_type": "markdown",
      "metadata": {
        "id": "view-in-github",
        "colab_type": "text"
      },
      "source": [
        "<a href=\"https://colab.research.google.com/github/cristiandarioortegayubro/P4DA/blob/main/plotly_003.ipynb\" target=\"_parent\"><img src=\"https://colab.research.google.com/assets/colab-badge.svg\" alt=\"Open In Colab\"/></a>"
      ]
    },
    {
      "cell_type": "markdown",
      "source": [
        "![](https://github.com/cristiandarioortegayubro/P4DA/blob/main/Logo.png?raw=true)"
      ],
      "metadata": {
        "id": "P0-C2-G_al-v"
      },
      "id": "P0-C2-G_al-v"
    },
    {
      "cell_type": "markdown",
      "id": "8174abb8-eaef-4072-9ce7-eb7a40b222d7",
      "metadata": {
        "id": "8174abb8-eaef-4072-9ce7-eb7a40b222d7"
      },
      "source": [
        "![plotly](https://github.com/cristiandarioortegayubro/BA/blob/main/plotly.png?raw=true)"
      ]
    },
    {
      "cell_type": "markdown",
      "id": "8cbac609-3183-40ac-b3a8-21040364e302",
      "metadata": {
        "id": "8cbac609-3183-40ac-b3a8-21040364e302"
      },
      "source": [
        "\n",
        "[plotly.com/python](https://plotly.com/python/)"
      ]
    },
    {
      "cell_type": "markdown",
      "id": "6f1a825c-2f53-41a5-818b-f9dbc9d9f020",
      "metadata": {
        "id": "6f1a825c-2f53-41a5-818b-f9dbc9d9f020"
      },
      "source": [
        "# **<font color=\"RoyalBlue\">Actualización e instalación de bibliotecas requerida</font>**"
      ]
    },
    {
      "cell_type": "code",
      "execution_count": 1,
      "id": "ce30d18d-2f72-4046-bb35-3404ca063e11",
      "metadata": {
        "colab": {
          "base_uri": "https://localhost:8080/"
        },
        "id": "ce30d18d-2f72-4046-bb35-3404ca063e11",
        "outputId": "d679c71c-307e-4fb1-d14e-a22e47c99c86"
      },
      "outputs": [
        {
          "output_type": "stream",
          "name": "stdout",
          "text": [
            "Looking in indexes: https://pypi.org/simple, https://us-python.pkg.dev/colab-wheels/public/simple/\n",
            "Requirement already satisfied: plotly in /usr/local/lib/python3.8/dist-packages (5.5.0)\n",
            "Collecting plotly\n",
            "  Downloading plotly-5.13.0-py2.py3-none-any.whl (15.2 MB)\n",
            "\u001b[2K     \u001b[90m━━━━━━━━━━━━━━━━━━━━━━━━━━━━━━━━━━━━━━━━\u001b[0m \u001b[32m15.2/15.2 MB\u001b[0m \u001b[31m17.7 MB/s\u001b[0m eta \u001b[36m0:00:00\u001b[0m\n",
            "\u001b[?25hRequirement already satisfied: tenacity>=6.2.0 in /usr/local/lib/python3.8/dist-packages (from plotly) (8.1.0)\n",
            "Installing collected packages: plotly\n",
            "  Attempting uninstall: plotly\n",
            "    Found existing installation: plotly 5.5.0\n",
            "    Uninstalling plotly-5.5.0:\n",
            "      Successfully uninstalled plotly-5.5.0\n",
            "Successfully installed plotly-5.13.0\n"
          ]
        }
      ],
      "source": [
        "!pip install plotly --upgrade "
      ]
    },
    {
      "cell_type": "code",
      "source": [
        "!pip install yfinance "
      ],
      "metadata": {
        "colab": {
          "base_uri": "https://localhost:8080/"
        },
        "id": "GO7jK8VMyMPO",
        "outputId": "848ce25c-192a-46b6-de4f-45e8ce6b3d83"
      },
      "id": "GO7jK8VMyMPO",
      "execution_count": 2,
      "outputs": [
        {
          "output_type": "stream",
          "name": "stdout",
          "text": [
            "Looking in indexes: https://pypi.org/simple, https://us-python.pkg.dev/colab-wheels/public/simple/\n",
            "Collecting yfinance\n",
            "  Downloading yfinance-0.2.9-py2.py3-none-any.whl (55 kB)\n",
            "\u001b[2K     \u001b[90m━━━━━━━━━━━━━━━━━━━━━━━━━━━━━━━━━━━━━━━━\u001b[0m \u001b[32m55.9/55.9 KB\u001b[0m \u001b[31m3.8 MB/s\u001b[0m eta \u001b[36m0:00:00\u001b[0m\n",
            "\u001b[?25hRequirement already satisfied: pytz>=2022.5 in /usr/local/lib/python3.8/dist-packages (from yfinance) (2022.7.1)\n",
            "Requirement already satisfied: appdirs>=1.4.4 in /usr/local/lib/python3.8/dist-packages (from yfinance) (1.4.4)\n",
            "Requirement already satisfied: pandas>=1.3.0 in /usr/local/lib/python3.8/dist-packages (from yfinance) (1.3.5)\n",
            "Collecting beautifulsoup4>=4.11.1\n",
            "  Downloading beautifulsoup4-4.11.2-py3-none-any.whl (129 kB)\n",
            "\u001b[2K     \u001b[90m━━━━━━━━━━━━━━━━━━━━━━━━━━━━━━━━━━━━━━\u001b[0m \u001b[32m129.4/129.4 KB\u001b[0m \u001b[31m12.5 MB/s\u001b[0m eta \u001b[36m0:00:00\u001b[0m\n",
            "\u001b[?25hCollecting frozendict>=2.3.4\n",
            "  Downloading frozendict-2.3.4-cp38-cp38-manylinux_2_17_x86_64.manylinux2014_x86_64.whl (110 kB)\n",
            "\u001b[2K     \u001b[90m━━━━━━━━━━━━━━━━━━━━━━━━━━━━━━━━━━━━━━\u001b[0m \u001b[32m111.0/111.0 KB\u001b[0m \u001b[31m13.7 MB/s\u001b[0m eta \u001b[36m0:00:00\u001b[0m\n",
            "\u001b[?25hRequirement already satisfied: multitasking>=0.0.7 in /usr/local/lib/python3.8/dist-packages (from yfinance) (0.0.11)\n",
            "Requirement already satisfied: numpy>=1.16.5 in /usr/local/lib/python3.8/dist-packages (from yfinance) (1.21.6)\n",
            "Collecting cryptography>=3.3.2\n",
            "  Downloading cryptography-39.0.0-cp36-abi3-manylinux_2_28_x86_64.whl (4.2 MB)\n",
            "\u001b[2K     \u001b[90m━━━━━━━━━━━━━━━━━━━━━━━━━━━━━━━━━━━━━━━━\u001b[0m \u001b[32m4.2/4.2 MB\u001b[0m \u001b[31m51.4 MB/s\u001b[0m eta \u001b[36m0:00:00\u001b[0m\n",
            "\u001b[?25hRequirement already satisfied: lxml>=4.9.1 in /usr/local/lib/python3.8/dist-packages (from yfinance) (4.9.2)\n",
            "Collecting requests>=2.26\n",
            "  Downloading requests-2.28.2-py3-none-any.whl (62 kB)\n",
            "\u001b[2K     \u001b[90m━━━━━━━━━━━━━━━━━━━━━━━━━━━━━━━━━━━━━━━━\u001b[0m \u001b[32m62.8/62.8 KB\u001b[0m \u001b[31m7.9 MB/s\u001b[0m eta \u001b[36m0:00:00\u001b[0m\n",
            "\u001b[?25hCollecting html5lib>=1.1\n",
            "  Downloading html5lib-1.1-py2.py3-none-any.whl (112 kB)\n",
            "\u001b[2K     \u001b[90m━━━━━━━━━━━━━━━━━━━━━━━━━━━━━━━━━━━━━━\u001b[0m \u001b[32m112.2/112.2 KB\u001b[0m \u001b[31m13.4 MB/s\u001b[0m eta \u001b[36m0:00:00\u001b[0m\n",
            "\u001b[?25hCollecting soupsieve>1.2\n",
            "  Downloading soupsieve-2.3.2.post1-py3-none-any.whl (37 kB)\n",
            "Requirement already satisfied: cffi>=1.12 in /usr/local/lib/python3.8/dist-packages (from cryptography>=3.3.2->yfinance) (1.15.1)\n",
            "Requirement already satisfied: webencodings in /usr/local/lib/python3.8/dist-packages (from html5lib>=1.1->yfinance) (0.5.1)\n",
            "Requirement already satisfied: six>=1.9 in /usr/local/lib/python3.8/dist-packages (from html5lib>=1.1->yfinance) (1.15.0)\n",
            "Requirement already satisfied: python-dateutil>=2.7.3 in /usr/local/lib/python3.8/dist-packages (from pandas>=1.3.0->yfinance) (2.8.2)\n",
            "Requirement already satisfied: urllib3<1.27,>=1.21.1 in /usr/local/lib/python3.8/dist-packages (from requests>=2.26->yfinance) (1.24.3)\n",
            "Requirement already satisfied: charset-normalizer<4,>=2 in /usr/local/lib/python3.8/dist-packages (from requests>=2.26->yfinance) (2.1.1)\n",
            "Requirement already satisfied: idna<4,>=2.5 in /usr/local/lib/python3.8/dist-packages (from requests>=2.26->yfinance) (2.10)\n",
            "Requirement already satisfied: certifi>=2017.4.17 in /usr/local/lib/python3.8/dist-packages (from requests>=2.26->yfinance) (2022.12.7)\n",
            "Requirement already satisfied: pycparser in /usr/local/lib/python3.8/dist-packages (from cffi>=1.12->cryptography>=3.3.2->yfinance) (2.21)\n",
            "Installing collected packages: soupsieve, requests, html5lib, frozendict, cryptography, beautifulsoup4, yfinance\n",
            "  Attempting uninstall: requests\n",
            "    Found existing installation: requests 2.25.1\n",
            "    Uninstalling requests-2.25.1:\n",
            "      Successfully uninstalled requests-2.25.1\n",
            "  Attempting uninstall: html5lib\n",
            "    Found existing installation: html5lib 1.0.1\n",
            "    Uninstalling html5lib-1.0.1:\n",
            "      Successfully uninstalled html5lib-1.0.1\n",
            "  Attempting uninstall: beautifulsoup4\n",
            "    Found existing installation: beautifulsoup4 4.6.3\n",
            "    Uninstalling beautifulsoup4-4.6.3:\n",
            "      Successfully uninstalled beautifulsoup4-4.6.3\n",
            "Successfully installed beautifulsoup4-4.11.2 cryptography-39.0.0 frozendict-2.3.4 html5lib-1.1 requests-2.28.2 soupsieve-2.3.2.post1 yfinance-0.2.9\n"
          ]
        }
      ]
    },
    {
      "cell_type": "markdown",
      "id": "d88f6875-6927-4c21-b911-1e7121f0f28e",
      "metadata": {
        "id": "d88f6875-6927-4c21-b911-1e7121f0f28e"
      },
      "source": [
        "[Plotly JupyterLab](https://plotly.com/python/getting-started/#jupyterlab-support)"
      ]
    },
    {
      "cell_type": "markdown",
      "id": "bf0bff14-3cec-4651-b58f-fbf2478545d8",
      "metadata": {
        "tags": [],
        "id": "bf0bff14-3cec-4651-b58f-fbf2478545d8"
      },
      "source": [
        "# <font color=\"RoyalBlue\">**Habilitando bibliotecas requeridas**</font>"
      ]
    },
    {
      "cell_type": "markdown",
      "id": "7d63b745-559f-40ab-a80c-8d81e436337b",
      "metadata": {
        "id": "7d63b745-559f-40ab-a80c-8d81e436337b"
      },
      "source": [
        "## **<font color=\"RoyalBlue\">Para análisis de datos</font>**"
      ]
    },
    {
      "cell_type": "code",
      "execution_count": 3,
      "id": "a858daa9-7ed1-4584-b26c-7c66b4ffbf3a",
      "metadata": {
        "id": "a858daa9-7ed1-4584-b26c-7c66b4ffbf3a"
      },
      "outputs": [],
      "source": [
        "import pandas as pd\n"
      ]
    },
    {
      "cell_type": "markdown",
      "id": "421b733e-b8c1-4f81-9190-35b5f1e8b53c",
      "metadata": {
        "id": "421b733e-b8c1-4f81-9190-35b5f1e8b53c"
      },
      "source": [
        "## **<font color=\"RoyalBlue\">Para acceso remoto de datos</font>**\n"
      ]
    },
    {
      "cell_type": "code",
      "execution_count": 4,
      "id": "8394ac14-0dd2-485b-8105-6809353b11da",
      "metadata": {
        "id": "8394ac14-0dd2-485b-8105-6809353b11da"
      },
      "outputs": [],
      "source": [
        "import yfinance as yf "
      ]
    },
    {
      "cell_type": "markdown",
      "id": "2255566c-5fa2-49c8-815f-67a90f904c91",
      "metadata": {
        "id": "2255566c-5fa2-49c8-815f-67a90f904c91"
      },
      "source": [
        "## **<font color=\"RoyalBlue\">Biblioteca gráfica</font>**"
      ]
    },
    {
      "cell_type": "code",
      "execution_count": 5,
      "id": "a540c506-ed88-4e2c-9c04-38b89aee5b07",
      "metadata": {
        "id": "a540c506-ed88-4e2c-9c04-38b89aee5b07"
      },
      "outputs": [],
      "source": [
        "import plotly.express as px\n",
        "import plotly.graph_objects as go"
      ]
    },
    {
      "cell_type": "markdown",
      "id": "318be14c-aebc-4b96-a587-9f85d7c45348",
      "metadata": {
        "id": "318be14c-aebc-4b96-a587-9f85d7c45348"
      },
      "source": [
        "# **<font color=\"RoyalBlue\">Obtención de datos. Cartera de inversiones**"
      ]
    },
    {
      "cell_type": "code",
      "source": [
        "acciones = [\"BMA.BA\",\"ALUA.BA\",\"EDN.BA\", \"YPFD.BA\", \"PAMP.BA\"]"
      ],
      "metadata": {
        "id": "YC01H0kbVEwY"
      },
      "id": "YC01H0kbVEwY",
      "execution_count": 6,
      "outputs": []
    },
    {
      "cell_type": "code",
      "execution_count": 7,
      "id": "5901a106-4024-4f69-a9b0-bfa933ebe01e",
      "metadata": {
        "id": "5901a106-4024-4f69-a9b0-bfa933ebe01e",
        "colab": {
          "base_uri": "https://localhost:8080/"
        },
        "outputId": "bd624b06-ff37-47ff-98f4-359db5d8fddd"
      },
      "outputs": [
        {
          "output_type": "stream",
          "name": "stdout",
          "text": [
            "[*********************100%***********************]  5 of 5 completed\n"
          ]
        }
      ],
      "source": [
        "cartera = yf.download(acciones, start=\"2021-12-30\", end=\"2022-03-31\").round(2)"
      ]
    },
    {
      "cell_type": "code",
      "source": [
        "cartera.head(3)"
      ],
      "metadata": {
        "colab": {
          "base_uri": "https://localhost:8080/",
          "height": 450
        },
        "id": "GvNuqxww365F",
        "outputId": "351094b4-36a5-48ae-9490-2aba1da156f1"
      },
      "id": "GvNuqxww365F",
      "execution_count": 9,
      "outputs": [
        {
          "output_type": "execute_result",
          "data": {
            "text/plain": [
              "                          Adj Close                                  Close  \\\n",
              "                            ALUA.BA  BMA.BA EDN.BA PAMP.BA YPFD.BA ALUA.BA   \n",
              "Date                                                                         \n",
              "2021-12-30 00:00:00-03:00     88.14  262.30  57.05   166.2  778.45    93.0   \n",
              "2022-01-03 00:00:00-03:00     89.00  268.36  59.55   167.3  830.80    93.9   \n",
              "2022-01-04 00:00:00-03:00     87.57  264.76  58.70   166.3  843.90    92.4   \n",
              "\n",
              "                                                          ...    Open          \\\n",
              "                           BMA.BA EDN.BA PAMP.BA YPFD.BA  ... ALUA.BA  BMA.BA   \n",
              "Date                                                      ...                   \n",
              "2021-12-30 00:00:00-03:00  287.60  57.05   166.2  778.45  ...    91.7  288.05   \n",
              "2022-01-03 00:00:00-03:00  294.25  59.55   167.3  830.80  ...    90.7  286.95   \n",
              "2022-01-04 00:00:00-03:00  290.30  58.70   166.3  843.90  ...    93.9  297.00   \n",
              "\n",
              "                                                  Volume                  \\\n",
              "                          EDN.BA PAMP.BA YPFD.BA ALUA.BA  BMA.BA  EDN.BA   \n",
              "Date                                                                       \n",
              "2021-12-30 00:00:00-03:00  52.50   162.0  807.95  683612  400021  291400   \n",
              "2022-01-03 00:00:00-03:00  57.15   170.0  789.95  507230   88435  289960   \n",
              "2022-01-04 00:00:00-03:00  58.00   170.0  830.80  486412  151600  164605   \n",
              "\n",
              "                                            \n",
              "                           PAMP.BA YPFD.BA  \n",
              "Date                                        \n",
              "2021-12-30 00:00:00-03:00  1642963  424261  \n",
              "2022-01-03 00:00:00-03:00   457787  345091  \n",
              "2022-01-04 00:00:00-03:00   146070  213932  \n",
              "\n",
              "[3 rows x 30 columns]"
            ],
            "text/html": [
              "\n",
              "  <div id=\"df-57ec4cae-cfef-48f1-8584-5114e0e2c129\">\n",
              "    <div class=\"colab-df-container\">\n",
              "      <div>\n",
              "<style scoped>\n",
              "    .dataframe tbody tr th:only-of-type {\n",
              "        vertical-align: middle;\n",
              "    }\n",
              "\n",
              "    .dataframe tbody tr th {\n",
              "        vertical-align: top;\n",
              "    }\n",
              "\n",
              "    .dataframe thead tr th {\n",
              "        text-align: left;\n",
              "    }\n",
              "\n",
              "    .dataframe thead tr:last-of-type th {\n",
              "        text-align: right;\n",
              "    }\n",
              "</style>\n",
              "<table border=\"1\" class=\"dataframe\">\n",
              "  <thead>\n",
              "    <tr>\n",
              "      <th></th>\n",
              "      <th colspan=\"5\" halign=\"left\">Adj Close</th>\n",
              "      <th colspan=\"5\" halign=\"left\">Close</th>\n",
              "      <th>...</th>\n",
              "      <th colspan=\"5\" halign=\"left\">Open</th>\n",
              "      <th colspan=\"5\" halign=\"left\">Volume</th>\n",
              "    </tr>\n",
              "    <tr>\n",
              "      <th></th>\n",
              "      <th>ALUA.BA</th>\n",
              "      <th>BMA.BA</th>\n",
              "      <th>EDN.BA</th>\n",
              "      <th>PAMP.BA</th>\n",
              "      <th>YPFD.BA</th>\n",
              "      <th>ALUA.BA</th>\n",
              "      <th>BMA.BA</th>\n",
              "      <th>EDN.BA</th>\n",
              "      <th>PAMP.BA</th>\n",
              "      <th>YPFD.BA</th>\n",
              "      <th>...</th>\n",
              "      <th>ALUA.BA</th>\n",
              "      <th>BMA.BA</th>\n",
              "      <th>EDN.BA</th>\n",
              "      <th>PAMP.BA</th>\n",
              "      <th>YPFD.BA</th>\n",
              "      <th>ALUA.BA</th>\n",
              "      <th>BMA.BA</th>\n",
              "      <th>EDN.BA</th>\n",
              "      <th>PAMP.BA</th>\n",
              "      <th>YPFD.BA</th>\n",
              "    </tr>\n",
              "    <tr>\n",
              "      <th>Date</th>\n",
              "      <th></th>\n",
              "      <th></th>\n",
              "      <th></th>\n",
              "      <th></th>\n",
              "      <th></th>\n",
              "      <th></th>\n",
              "      <th></th>\n",
              "      <th></th>\n",
              "      <th></th>\n",
              "      <th></th>\n",
              "      <th></th>\n",
              "      <th></th>\n",
              "      <th></th>\n",
              "      <th></th>\n",
              "      <th></th>\n",
              "      <th></th>\n",
              "      <th></th>\n",
              "      <th></th>\n",
              "      <th></th>\n",
              "      <th></th>\n",
              "      <th></th>\n",
              "    </tr>\n",
              "  </thead>\n",
              "  <tbody>\n",
              "    <tr>\n",
              "      <th>2021-12-30 00:00:00-03:00</th>\n",
              "      <td>88.14</td>\n",
              "      <td>262.30</td>\n",
              "      <td>57.05</td>\n",
              "      <td>166.2</td>\n",
              "      <td>778.45</td>\n",
              "      <td>93.0</td>\n",
              "      <td>287.60</td>\n",
              "      <td>57.05</td>\n",
              "      <td>166.2</td>\n",
              "      <td>778.45</td>\n",
              "      <td>...</td>\n",
              "      <td>91.7</td>\n",
              "      <td>288.05</td>\n",
              "      <td>52.50</td>\n",
              "      <td>162.0</td>\n",
              "      <td>807.95</td>\n",
              "      <td>683612</td>\n",
              "      <td>400021</td>\n",
              "      <td>291400</td>\n",
              "      <td>1642963</td>\n",
              "      <td>424261</td>\n",
              "    </tr>\n",
              "    <tr>\n",
              "      <th>2022-01-03 00:00:00-03:00</th>\n",
              "      <td>89.00</td>\n",
              "      <td>268.36</td>\n",
              "      <td>59.55</td>\n",
              "      <td>167.3</td>\n",
              "      <td>830.80</td>\n",
              "      <td>93.9</td>\n",
              "      <td>294.25</td>\n",
              "      <td>59.55</td>\n",
              "      <td>167.3</td>\n",
              "      <td>830.80</td>\n",
              "      <td>...</td>\n",
              "      <td>90.7</td>\n",
              "      <td>286.95</td>\n",
              "      <td>57.15</td>\n",
              "      <td>170.0</td>\n",
              "      <td>789.95</td>\n",
              "      <td>507230</td>\n",
              "      <td>88435</td>\n",
              "      <td>289960</td>\n",
              "      <td>457787</td>\n",
              "      <td>345091</td>\n",
              "    </tr>\n",
              "    <tr>\n",
              "      <th>2022-01-04 00:00:00-03:00</th>\n",
              "      <td>87.57</td>\n",
              "      <td>264.76</td>\n",
              "      <td>58.70</td>\n",
              "      <td>166.3</td>\n",
              "      <td>843.90</td>\n",
              "      <td>92.4</td>\n",
              "      <td>290.30</td>\n",
              "      <td>58.70</td>\n",
              "      <td>166.3</td>\n",
              "      <td>843.90</td>\n",
              "      <td>...</td>\n",
              "      <td>93.9</td>\n",
              "      <td>297.00</td>\n",
              "      <td>58.00</td>\n",
              "      <td>170.0</td>\n",
              "      <td>830.80</td>\n",
              "      <td>486412</td>\n",
              "      <td>151600</td>\n",
              "      <td>164605</td>\n",
              "      <td>146070</td>\n",
              "      <td>213932</td>\n",
              "    </tr>\n",
              "  </tbody>\n",
              "</table>\n",
              "<p>3 rows × 30 columns</p>\n",
              "</div>\n",
              "      <button class=\"colab-df-convert\" onclick=\"convertToInteractive('df-57ec4cae-cfef-48f1-8584-5114e0e2c129')\"\n",
              "              title=\"Convert this dataframe to an interactive table.\"\n",
              "              style=\"display:none;\">\n",
              "        \n",
              "  <svg xmlns=\"http://www.w3.org/2000/svg\" height=\"24px\"viewBox=\"0 0 24 24\"\n",
              "       width=\"24px\">\n",
              "    <path d=\"M0 0h24v24H0V0z\" fill=\"none\"/>\n",
              "    <path d=\"M18.56 5.44l.94 2.06.94-2.06 2.06-.94-2.06-.94-.94-2.06-.94 2.06-2.06.94zm-11 1L8.5 8.5l.94-2.06 2.06-.94-2.06-.94L8.5 2.5l-.94 2.06-2.06.94zm10 10l.94 2.06.94-2.06 2.06-.94-2.06-.94-.94-2.06-.94 2.06-2.06.94z\"/><path d=\"M17.41 7.96l-1.37-1.37c-.4-.4-.92-.59-1.43-.59-.52 0-1.04.2-1.43.59L10.3 9.45l-7.72 7.72c-.78.78-.78 2.05 0 2.83L4 21.41c.39.39.9.59 1.41.59.51 0 1.02-.2 1.41-.59l7.78-7.78 2.81-2.81c.8-.78.8-2.07 0-2.86zM5.41 20L4 18.59l7.72-7.72 1.47 1.35L5.41 20z\"/>\n",
              "  </svg>\n",
              "      </button>\n",
              "      \n",
              "  <style>\n",
              "    .colab-df-container {\n",
              "      display:flex;\n",
              "      flex-wrap:wrap;\n",
              "      gap: 12px;\n",
              "    }\n",
              "\n",
              "    .colab-df-convert {\n",
              "      background-color: #E8F0FE;\n",
              "      border: none;\n",
              "      border-radius: 50%;\n",
              "      cursor: pointer;\n",
              "      display: none;\n",
              "      fill: #1967D2;\n",
              "      height: 32px;\n",
              "      padding: 0 0 0 0;\n",
              "      width: 32px;\n",
              "    }\n",
              "\n",
              "    .colab-df-convert:hover {\n",
              "      background-color: #E2EBFA;\n",
              "      box-shadow: 0px 1px 2px rgba(60, 64, 67, 0.3), 0px 1px 3px 1px rgba(60, 64, 67, 0.15);\n",
              "      fill: #174EA6;\n",
              "    }\n",
              "\n",
              "    [theme=dark] .colab-df-convert {\n",
              "      background-color: #3B4455;\n",
              "      fill: #D2E3FC;\n",
              "    }\n",
              "\n",
              "    [theme=dark] .colab-df-convert:hover {\n",
              "      background-color: #434B5C;\n",
              "      box-shadow: 0px 1px 3px 1px rgba(0, 0, 0, 0.15);\n",
              "      filter: drop-shadow(0px 1px 2px rgba(0, 0, 0, 0.3));\n",
              "      fill: #FFFFFF;\n",
              "    }\n",
              "  </style>\n",
              "\n",
              "      <script>\n",
              "        const buttonEl =\n",
              "          document.querySelector('#df-57ec4cae-cfef-48f1-8584-5114e0e2c129 button.colab-df-convert');\n",
              "        buttonEl.style.display =\n",
              "          google.colab.kernel.accessAllowed ? 'block' : 'none';\n",
              "\n",
              "        async function convertToInteractive(key) {\n",
              "          const element = document.querySelector('#df-57ec4cae-cfef-48f1-8584-5114e0e2c129');\n",
              "          const dataTable =\n",
              "            await google.colab.kernel.invokeFunction('convertToInteractive',\n",
              "                                                     [key], {});\n",
              "          if (!dataTable) return;\n",
              "\n",
              "          const docLinkHtml = 'Like what you see? Visit the ' +\n",
              "            '<a target=\"_blank\" href=https://colab.research.google.com/notebooks/data_table.ipynb>data table notebook</a>'\n",
              "            + ' to learn more about interactive tables.';\n",
              "          element.innerHTML = '';\n",
              "          dataTable['output_type'] = 'display_data';\n",
              "          await google.colab.output.renderOutput(dataTable, element);\n",
              "          const docLink = document.createElement('div');\n",
              "          docLink.innerHTML = docLinkHtml;\n",
              "          element.appendChild(docLink);\n",
              "        }\n",
              "      </script>\n",
              "    </div>\n",
              "  </div>\n",
              "  "
            ]
          },
          "metadata": {},
          "execution_count": 9
        }
      ]
    },
    {
      "cell_type": "markdown",
      "id": "189bd785-9648-49b8-830c-73679a6537d5",
      "metadata": {
        "id": "189bd785-9648-49b8-830c-73679a6537d5"
      },
      "source": [
        "# **<font color=\"RoyalBlue\">Graficos</font>**"
      ]
    },
    {
      "cell_type": "code",
      "source": [
        "cartera.xs(\"BMA.BA\", level=1, axis=1)"
      ],
      "metadata": {
        "colab": {
          "base_uri": "https://localhost:8080/",
          "height": 450
        },
        "id": "QzN6_3KIc2ND",
        "outputId": "dbda26ec-2b66-453b-fe6a-34a203d14e73"
      },
      "id": "QzN6_3KIc2ND",
      "execution_count": 37,
      "outputs": [
        {
          "output_type": "execute_result",
          "data": {
            "text/plain": [
              "                           Adj Close   Close    High     Low    Open  Volume\n",
              "Date                                                                        \n",
              "2021-12-30 00:00:00-03:00     262.30  287.60  301.95  287.00  288.05  400021\n",
              "2022-01-03 00:00:00-03:00     268.36  294.25  298.00  282.50  286.95   88435\n",
              "2022-01-04 00:00:00-03:00     264.76  290.30  299.00  287.00  297.00  151600\n",
              "2022-01-05 00:00:00-03:00     256.60  281.35  297.00  281.00  290.00  236522\n",
              "2022-01-06 00:00:00-03:00     263.94  289.40  292.90  279.00  283.45  139341\n",
              "...                              ...     ...     ...     ...     ...     ...\n",
              "2022-03-23 00:00:00-03:00     300.88  329.90  343.50  328.20  333.00  337166\n",
              "2022-03-25 00:00:00-03:00     309.50  339.35  344.00  332.15  339.00  425433\n",
              "2022-03-28 00:00:00-03:00     305.89  335.40  338.95  330.00  332.80  123540\n",
              "2022-03-29 00:00:00-03:00     300.33  329.30  343.50  328.50  338.00  146693\n",
              "2022-03-30 00:00:00-03:00     300.47  329.45  339.00  327.00  335.50  161851\n",
              "\n",
              "[61 rows x 6 columns]"
            ],
            "text/html": [
              "\n",
              "  <div id=\"df-d260bd9c-f953-47dc-b6c1-c39c905fe07a\">\n",
              "    <div class=\"colab-df-container\">\n",
              "      <div>\n",
              "<style scoped>\n",
              "    .dataframe tbody tr th:only-of-type {\n",
              "        vertical-align: middle;\n",
              "    }\n",
              "\n",
              "    .dataframe tbody tr th {\n",
              "        vertical-align: top;\n",
              "    }\n",
              "\n",
              "    .dataframe thead th {\n",
              "        text-align: right;\n",
              "    }\n",
              "</style>\n",
              "<table border=\"1\" class=\"dataframe\">\n",
              "  <thead>\n",
              "    <tr style=\"text-align: right;\">\n",
              "      <th></th>\n",
              "      <th>Adj Close</th>\n",
              "      <th>Close</th>\n",
              "      <th>High</th>\n",
              "      <th>Low</th>\n",
              "      <th>Open</th>\n",
              "      <th>Volume</th>\n",
              "    </tr>\n",
              "    <tr>\n",
              "      <th>Date</th>\n",
              "      <th></th>\n",
              "      <th></th>\n",
              "      <th></th>\n",
              "      <th></th>\n",
              "      <th></th>\n",
              "      <th></th>\n",
              "    </tr>\n",
              "  </thead>\n",
              "  <tbody>\n",
              "    <tr>\n",
              "      <th>2021-12-30 00:00:00-03:00</th>\n",
              "      <td>262.30</td>\n",
              "      <td>287.60</td>\n",
              "      <td>301.95</td>\n",
              "      <td>287.00</td>\n",
              "      <td>288.05</td>\n",
              "      <td>400021</td>\n",
              "    </tr>\n",
              "    <tr>\n",
              "      <th>2022-01-03 00:00:00-03:00</th>\n",
              "      <td>268.36</td>\n",
              "      <td>294.25</td>\n",
              "      <td>298.00</td>\n",
              "      <td>282.50</td>\n",
              "      <td>286.95</td>\n",
              "      <td>88435</td>\n",
              "    </tr>\n",
              "    <tr>\n",
              "      <th>2022-01-04 00:00:00-03:00</th>\n",
              "      <td>264.76</td>\n",
              "      <td>290.30</td>\n",
              "      <td>299.00</td>\n",
              "      <td>287.00</td>\n",
              "      <td>297.00</td>\n",
              "      <td>151600</td>\n",
              "    </tr>\n",
              "    <tr>\n",
              "      <th>2022-01-05 00:00:00-03:00</th>\n",
              "      <td>256.60</td>\n",
              "      <td>281.35</td>\n",
              "      <td>297.00</td>\n",
              "      <td>281.00</td>\n",
              "      <td>290.00</td>\n",
              "      <td>236522</td>\n",
              "    </tr>\n",
              "    <tr>\n",
              "      <th>2022-01-06 00:00:00-03:00</th>\n",
              "      <td>263.94</td>\n",
              "      <td>289.40</td>\n",
              "      <td>292.90</td>\n",
              "      <td>279.00</td>\n",
              "      <td>283.45</td>\n",
              "      <td>139341</td>\n",
              "    </tr>\n",
              "    <tr>\n",
              "      <th>...</th>\n",
              "      <td>...</td>\n",
              "      <td>...</td>\n",
              "      <td>...</td>\n",
              "      <td>...</td>\n",
              "      <td>...</td>\n",
              "      <td>...</td>\n",
              "    </tr>\n",
              "    <tr>\n",
              "      <th>2022-03-23 00:00:00-03:00</th>\n",
              "      <td>300.88</td>\n",
              "      <td>329.90</td>\n",
              "      <td>343.50</td>\n",
              "      <td>328.20</td>\n",
              "      <td>333.00</td>\n",
              "      <td>337166</td>\n",
              "    </tr>\n",
              "    <tr>\n",
              "      <th>2022-03-25 00:00:00-03:00</th>\n",
              "      <td>309.50</td>\n",
              "      <td>339.35</td>\n",
              "      <td>344.00</td>\n",
              "      <td>332.15</td>\n",
              "      <td>339.00</td>\n",
              "      <td>425433</td>\n",
              "    </tr>\n",
              "    <tr>\n",
              "      <th>2022-03-28 00:00:00-03:00</th>\n",
              "      <td>305.89</td>\n",
              "      <td>335.40</td>\n",
              "      <td>338.95</td>\n",
              "      <td>330.00</td>\n",
              "      <td>332.80</td>\n",
              "      <td>123540</td>\n",
              "    </tr>\n",
              "    <tr>\n",
              "      <th>2022-03-29 00:00:00-03:00</th>\n",
              "      <td>300.33</td>\n",
              "      <td>329.30</td>\n",
              "      <td>343.50</td>\n",
              "      <td>328.50</td>\n",
              "      <td>338.00</td>\n",
              "      <td>146693</td>\n",
              "    </tr>\n",
              "    <tr>\n",
              "      <th>2022-03-30 00:00:00-03:00</th>\n",
              "      <td>300.47</td>\n",
              "      <td>329.45</td>\n",
              "      <td>339.00</td>\n",
              "      <td>327.00</td>\n",
              "      <td>335.50</td>\n",
              "      <td>161851</td>\n",
              "    </tr>\n",
              "  </tbody>\n",
              "</table>\n",
              "<p>61 rows × 6 columns</p>\n",
              "</div>\n",
              "      <button class=\"colab-df-convert\" onclick=\"convertToInteractive('df-d260bd9c-f953-47dc-b6c1-c39c905fe07a')\"\n",
              "              title=\"Convert this dataframe to an interactive table.\"\n",
              "              style=\"display:none;\">\n",
              "        \n",
              "  <svg xmlns=\"http://www.w3.org/2000/svg\" height=\"24px\"viewBox=\"0 0 24 24\"\n",
              "       width=\"24px\">\n",
              "    <path d=\"M0 0h24v24H0V0z\" fill=\"none\"/>\n",
              "    <path d=\"M18.56 5.44l.94 2.06.94-2.06 2.06-.94-2.06-.94-.94-2.06-.94 2.06-2.06.94zm-11 1L8.5 8.5l.94-2.06 2.06-.94-2.06-.94L8.5 2.5l-.94 2.06-2.06.94zm10 10l.94 2.06.94-2.06 2.06-.94-2.06-.94-.94-2.06-.94 2.06-2.06.94z\"/><path d=\"M17.41 7.96l-1.37-1.37c-.4-.4-.92-.59-1.43-.59-.52 0-1.04.2-1.43.59L10.3 9.45l-7.72 7.72c-.78.78-.78 2.05 0 2.83L4 21.41c.39.39.9.59 1.41.59.51 0 1.02-.2 1.41-.59l7.78-7.78 2.81-2.81c.8-.78.8-2.07 0-2.86zM5.41 20L4 18.59l7.72-7.72 1.47 1.35L5.41 20z\"/>\n",
              "  </svg>\n",
              "      </button>\n",
              "      \n",
              "  <style>\n",
              "    .colab-df-container {\n",
              "      display:flex;\n",
              "      flex-wrap:wrap;\n",
              "      gap: 12px;\n",
              "    }\n",
              "\n",
              "    .colab-df-convert {\n",
              "      background-color: #E8F0FE;\n",
              "      border: none;\n",
              "      border-radius: 50%;\n",
              "      cursor: pointer;\n",
              "      display: none;\n",
              "      fill: #1967D2;\n",
              "      height: 32px;\n",
              "      padding: 0 0 0 0;\n",
              "      width: 32px;\n",
              "    }\n",
              "\n",
              "    .colab-df-convert:hover {\n",
              "      background-color: #E2EBFA;\n",
              "      box-shadow: 0px 1px 2px rgba(60, 64, 67, 0.3), 0px 1px 3px 1px rgba(60, 64, 67, 0.15);\n",
              "      fill: #174EA6;\n",
              "    }\n",
              "\n",
              "    [theme=dark] .colab-df-convert {\n",
              "      background-color: #3B4455;\n",
              "      fill: #D2E3FC;\n",
              "    }\n",
              "\n",
              "    [theme=dark] .colab-df-convert:hover {\n",
              "      background-color: #434B5C;\n",
              "      box-shadow: 0px 1px 3px 1px rgba(0, 0, 0, 0.15);\n",
              "      filter: drop-shadow(0px 1px 2px rgba(0, 0, 0, 0.3));\n",
              "      fill: #FFFFFF;\n",
              "    }\n",
              "  </style>\n",
              "\n",
              "      <script>\n",
              "        const buttonEl =\n",
              "          document.querySelector('#df-d260bd9c-f953-47dc-b6c1-c39c905fe07a button.colab-df-convert');\n",
              "        buttonEl.style.display =\n",
              "          google.colab.kernel.accessAllowed ? 'block' : 'none';\n",
              "\n",
              "        async function convertToInteractive(key) {\n",
              "          const element = document.querySelector('#df-d260bd9c-f953-47dc-b6c1-c39c905fe07a');\n",
              "          const dataTable =\n",
              "            await google.colab.kernel.invokeFunction('convertToInteractive',\n",
              "                                                     [key], {});\n",
              "          if (!dataTable) return;\n",
              "\n",
              "          const docLinkHtml = 'Like what you see? Visit the ' +\n",
              "            '<a target=\"_blank\" href=https://colab.research.google.com/notebooks/data_table.ipynb>data table notebook</a>'\n",
              "            + ' to learn more about interactive tables.';\n",
              "          element.innerHTML = '';\n",
              "          dataTable['output_type'] = 'display_data';\n",
              "          await google.colab.output.renderOutput(dataTable, element);\n",
              "          const docLink = document.createElement('div');\n",
              "          docLink.innerHTML = docLinkHtml;\n",
              "          element.appendChild(docLink);\n",
              "        }\n",
              "      </script>\n",
              "    </div>\n",
              "  </div>\n",
              "  "
            ]
          },
          "metadata": {},
          "execution_count": 37
        }
      ]
    },
    {
      "cell_type": "code",
      "execution_count": 24,
      "id": "c1685b1a-b643-407a-b1b6-a0644c21756e",
      "metadata": {
        "colab": {
          "base_uri": "https://localhost:8080/",
          "height": 542
        },
        "id": "c1685b1a-b643-407a-b1b6-a0644c21756e",
        "outputId": "8ddd2d91-990b-463f-d0ca-bc97a29cd704"
      },
      "outputs": [
        {
          "output_type": "display_data",
          "data": {
            "text/html": [
              "<html>\n",
              "<head><meta charset=\"utf-8\" /></head>\n",
              "<body>\n",
              "    <div>            <script src=\"https://cdnjs.cloudflare.com/ajax/libs/mathjax/2.7.5/MathJax.js?config=TeX-AMS-MML_SVG\"></script><script type=\"text/javascript\">if (window.MathJax && window.MathJax.Hub && window.MathJax.Hub.Config) {window.MathJax.Hub.Config({SVG: {font: \"STIX-Web\"}});}</script>                <script type=\"text/javascript\">window.PlotlyConfig = {MathJaxConfig: 'local'};</script>\n",
              "        <script src=\"https://cdn.plot.ly/plotly-2.18.0.min.js\"></script>                <div id=\"525642a5-32b5-4dbf-92a7-2057bbe8b4b8\" class=\"plotly-graph-div\" style=\"height:525px; width:100%;\"></div>            <script type=\"text/javascript\">                                    window.PLOTLYENV=window.PLOTLYENV || {};                                    if (document.getElementById(\"525642a5-32b5-4dbf-92a7-2057bbe8b4b8\")) {                    Plotly.newPlot(                        \"525642a5-32b5-4dbf-92a7-2057bbe8b4b8\",                        [{\"hovertemplate\":\"Date=%{x}<br>Close=%{y}<extra></extra>\",\"legendgroup\":\"\",\"line\":{\"color\":\"#1F77B4\",\"dash\":\"solid\"},\"marker\":{\"symbol\":\"circle\"},\"mode\":\"markers+lines\",\"name\":\"\",\"orientation\":\"v\",\"showlegend\":false,\"x\":[\"2021-12-30T00:00:00-03:00\",\"2022-01-03T00:00:00-03:00\",\"2022-01-04T00:00:00-03:00\",\"2022-01-05T00:00:00-03:00\",\"2022-01-06T00:00:00-03:00\",\"2022-01-07T00:00:00-03:00\",\"2022-01-10T00:00:00-03:00\",\"2022-01-11T00:00:00-03:00\",\"2022-01-12T00:00:00-03:00\",\"2022-01-13T00:00:00-03:00\",\"2022-01-14T00:00:00-03:00\",\"2022-01-17T00:00:00-03:00\",\"2022-01-18T00:00:00-03:00\",\"2022-01-19T00:00:00-03:00\",\"2022-01-20T00:00:00-03:00\",\"2022-01-21T00:00:00-03:00\",\"2022-01-24T00:00:00-03:00\",\"2022-01-25T00:00:00-03:00\",\"2022-01-26T00:00:00-03:00\",\"2022-01-27T00:00:00-03:00\",\"2022-01-28T00:00:00-03:00\",\"2022-01-31T00:00:00-03:00\",\"2022-02-01T00:00:00-03:00\",\"2022-02-02T00:00:00-03:00\",\"2022-02-03T00:00:00-03:00\",\"2022-02-04T00:00:00-03:00\",\"2022-02-07T00:00:00-03:00\",\"2022-02-08T00:00:00-03:00\",\"2022-02-09T00:00:00-03:00\",\"2022-02-10T00:00:00-03:00\",\"2022-02-11T00:00:00-03:00\",\"2022-02-14T00:00:00-03:00\",\"2022-02-15T00:00:00-03:00\",\"2022-02-16T00:00:00-03:00\",\"2022-02-17T00:00:00-03:00\",\"2022-02-18T00:00:00-03:00\",\"2022-02-21T00:00:00-03:00\",\"2022-02-22T00:00:00-03:00\",\"2022-02-23T00:00:00-03:00\",\"2022-02-24T00:00:00-03:00\",\"2022-02-25T00:00:00-03:00\",\"2022-03-02T00:00:00-03:00\",\"2022-03-03T00:00:00-03:00\",\"2022-03-04T00:00:00-03:00\",\"2022-03-07T00:00:00-03:00\",\"2022-03-08T00:00:00-03:00\",\"2022-03-09T00:00:00-03:00\",\"2022-03-10T00:00:00-03:00\",\"2022-03-11T00:00:00-03:00\",\"2022-03-14T00:00:00-03:00\",\"2022-03-15T00:00:00-03:00\",\"2022-03-16T00:00:00-03:00\",\"2022-03-17T00:00:00-03:00\",\"2022-03-18T00:00:00-03:00\",\"2022-03-21T00:00:00-03:00\",\"2022-03-22T00:00:00-03:00\",\"2022-03-23T00:00:00-03:00\",\"2022-03-25T00:00:00-03:00\",\"2022-03-28T00:00:00-03:00\",\"2022-03-29T00:00:00-03:00\",\"2022-03-30T00:00:00-03:00\"],\"xaxis\":\"x\",\"y\":[287.6,294.25,290.3,281.35,289.4,292.95,291.05,295.3,296.1,301.05,305.2,299.35,295.45,300.0,309.6,298.2,279.5,294.0,302.25,300.4,314.05,322.25,321.75,313.35,311.45,303.6,309.0,301.85,295.45,298.0,298.95,291.0,293.05,304.25,299.0,301.15,306.4,313.05,315.9,304.8,300.6,301.9,307.55,291.55,285.35,298.2,294.0,312.4,299.65,285.65,286.9,301.9,308.1,313.55,320.95,327.8,329.9,339.35,335.4,329.3,329.45],\"yaxis\":\"y\",\"type\":\"scatter\"}],                        {\"template\":{\"data\":{\"pie\":[{\"automargin\":true,\"type\":\"pie\"}]},\"layout\":{\"xaxis\":{\"showgrid\":true,\"title\":{\"standoff\":15}},\"yaxis\":{\"showgrid\":true,\"title\":{\"standoff\":15}}}},\"xaxis\":{\"anchor\":\"y\",\"domain\":[0.0,1.0],\"title\":{\"text\":\"Date\"}},\"yaxis\":{\"anchor\":\"x\",\"domain\":[0.0,1.0],\"title\":{\"text\":\"Close\"}},\"legend\":{\"tracegroupgap\":0},\"margin\":{\"t\":60}},                        {\"responsive\": true}                    ).then(function(){\n",
              "                            \n",
              "var gd = document.getElementById('525642a5-32b5-4dbf-92a7-2057bbe8b4b8');\n",
              "var x = new MutationObserver(function (mutations, observer) {{\n",
              "        var display = window.getComputedStyle(gd).display;\n",
              "        if (!display || display === 'none') {{\n",
              "            console.log([gd, 'removed!']);\n",
              "            Plotly.purge(gd);\n",
              "            observer.disconnect();\n",
              "        }}\n",
              "}});\n",
              "\n",
              "// Listen for the removal of the full notebook cells\n",
              "var notebookContainer = gd.closest('#notebook-container');\n",
              "if (notebookContainer) {{\n",
              "    x.observe(notebookContainer, {childList: true});\n",
              "}}\n",
              "\n",
              "// Listen for the clearing of the current output cell\n",
              "var outputEl = gd.closest('.output');\n",
              "if (outputEl) {{\n",
              "    x.observe(outputEl, {childList: true});\n",
              "}}\n",
              "\n",
              "                        })                };                            </script>        </div>\n",
              "</body>\n",
              "</html>"
            ]
          },
          "metadata": {}
        }
      ],
      "source": [
        "px.line(cartera.xs(\"BMA.BA\", level=1, axis=1), \n",
        "        x=cartera.index, \n",
        "        y=\"Close\",\n",
        "        template=\"gridon\",\n",
        "        markers=True)"
      ]
    },
    {
      "cell_type": "code",
      "source": [
        "cartera.columns.get_level_values(1)"
      ],
      "metadata": {
        "colab": {
          "base_uri": "https://localhost:8080/"
        },
        "id": "M6T-W6TfYZX2",
        "outputId": "0662e71b-5bfb-4d2b-df91-e2b47221f933"
      },
      "id": "M6T-W6TfYZX2",
      "execution_count": 29,
      "outputs": [
        {
          "output_type": "execute_result",
          "data": {
            "text/plain": [
              "Index(['ALUA.BA', 'BMA.BA', 'EDN.BA', 'PAMP.BA', 'YPFD.BA', 'ALUA.BA',\n",
              "       'BMA.BA', 'EDN.BA', 'PAMP.BA', 'YPFD.BA', 'ALUA.BA', 'BMA.BA', 'EDN.BA',\n",
              "       'PAMP.BA', 'YPFD.BA', 'ALUA.BA', 'BMA.BA', 'EDN.BA', 'PAMP.BA',\n",
              "       'YPFD.BA', 'ALUA.BA', 'BMA.BA', 'EDN.BA', 'PAMP.BA', 'YPFD.BA',\n",
              "       'ALUA.BA', 'BMA.BA', 'EDN.BA', 'PAMP.BA', 'YPFD.BA'],\n",
              "      dtype='object')"
            ]
          },
          "metadata": {},
          "execution_count": 29
        }
      ]
    },
    {
      "cell_type": "code",
      "source": [
        "cartera.xs(\"Close\", level=0, axis=1)"
      ],
      "metadata": {
        "colab": {
          "base_uri": "https://localhost:8080/",
          "height": 450
        },
        "id": "manDoL8qbghW",
        "outputId": "9e2db02c-5e29-4b70-96d6-7bfb02b57e63"
      },
      "id": "manDoL8qbghW",
      "execution_count": 35,
      "outputs": [
        {
          "output_type": "execute_result",
          "data": {
            "text/plain": [
              "                           ALUA.BA  BMA.BA  EDN.BA  PAMP.BA  YPFD.BA\n",
              "Date                                                                \n",
              "2021-12-30 00:00:00-03:00     93.0  287.60   57.05   166.20   778.45\n",
              "2022-01-03 00:00:00-03:00     93.9  294.25   59.55   167.30   830.80\n",
              "2022-01-04 00:00:00-03:00     92.4  290.30   58.70   166.30   843.90\n",
              "2022-01-05 00:00:00-03:00     90.9  281.35   56.30   158.55   828.40\n",
              "2022-01-06 00:00:00-03:00     89.2  289.40   56.25   159.25   829.00\n",
              "...                            ...     ...     ...      ...      ...\n",
              "2022-03-23 00:00:00-03:00     94.6  329.90   63.05   179.40   924.70\n",
              "2022-03-25 00:00:00-03:00     97.8  339.35   65.10   182.60   947.55\n",
              "2022-03-28 00:00:00-03:00     97.9  335.40   64.90   180.20   931.70\n",
              "2022-03-29 00:00:00-03:00     96.7  329.30   64.60   172.95   915.85\n",
              "2022-03-30 00:00:00-03:00     96.7  329.45   66.15   176.80   937.55\n",
              "\n",
              "[61 rows x 5 columns]"
            ],
            "text/html": [
              "\n",
              "  <div id=\"df-8ce20db6-e397-40e5-8045-0e90c2eb1fec\">\n",
              "    <div class=\"colab-df-container\">\n",
              "      <div>\n",
              "<style scoped>\n",
              "    .dataframe tbody tr th:only-of-type {\n",
              "        vertical-align: middle;\n",
              "    }\n",
              "\n",
              "    .dataframe tbody tr th {\n",
              "        vertical-align: top;\n",
              "    }\n",
              "\n",
              "    .dataframe thead th {\n",
              "        text-align: right;\n",
              "    }\n",
              "</style>\n",
              "<table border=\"1\" class=\"dataframe\">\n",
              "  <thead>\n",
              "    <tr style=\"text-align: right;\">\n",
              "      <th></th>\n",
              "      <th>ALUA.BA</th>\n",
              "      <th>BMA.BA</th>\n",
              "      <th>EDN.BA</th>\n",
              "      <th>PAMP.BA</th>\n",
              "      <th>YPFD.BA</th>\n",
              "    </tr>\n",
              "    <tr>\n",
              "      <th>Date</th>\n",
              "      <th></th>\n",
              "      <th></th>\n",
              "      <th></th>\n",
              "      <th></th>\n",
              "      <th></th>\n",
              "    </tr>\n",
              "  </thead>\n",
              "  <tbody>\n",
              "    <tr>\n",
              "      <th>2021-12-30 00:00:00-03:00</th>\n",
              "      <td>93.0</td>\n",
              "      <td>287.60</td>\n",
              "      <td>57.05</td>\n",
              "      <td>166.20</td>\n",
              "      <td>778.45</td>\n",
              "    </tr>\n",
              "    <tr>\n",
              "      <th>2022-01-03 00:00:00-03:00</th>\n",
              "      <td>93.9</td>\n",
              "      <td>294.25</td>\n",
              "      <td>59.55</td>\n",
              "      <td>167.30</td>\n",
              "      <td>830.80</td>\n",
              "    </tr>\n",
              "    <tr>\n",
              "      <th>2022-01-04 00:00:00-03:00</th>\n",
              "      <td>92.4</td>\n",
              "      <td>290.30</td>\n",
              "      <td>58.70</td>\n",
              "      <td>166.30</td>\n",
              "      <td>843.90</td>\n",
              "    </tr>\n",
              "    <tr>\n",
              "      <th>2022-01-05 00:00:00-03:00</th>\n",
              "      <td>90.9</td>\n",
              "      <td>281.35</td>\n",
              "      <td>56.30</td>\n",
              "      <td>158.55</td>\n",
              "      <td>828.40</td>\n",
              "    </tr>\n",
              "    <tr>\n",
              "      <th>2022-01-06 00:00:00-03:00</th>\n",
              "      <td>89.2</td>\n",
              "      <td>289.40</td>\n",
              "      <td>56.25</td>\n",
              "      <td>159.25</td>\n",
              "      <td>829.00</td>\n",
              "    </tr>\n",
              "    <tr>\n",
              "      <th>...</th>\n",
              "      <td>...</td>\n",
              "      <td>...</td>\n",
              "      <td>...</td>\n",
              "      <td>...</td>\n",
              "      <td>...</td>\n",
              "    </tr>\n",
              "    <tr>\n",
              "      <th>2022-03-23 00:00:00-03:00</th>\n",
              "      <td>94.6</td>\n",
              "      <td>329.90</td>\n",
              "      <td>63.05</td>\n",
              "      <td>179.40</td>\n",
              "      <td>924.70</td>\n",
              "    </tr>\n",
              "    <tr>\n",
              "      <th>2022-03-25 00:00:00-03:00</th>\n",
              "      <td>97.8</td>\n",
              "      <td>339.35</td>\n",
              "      <td>65.10</td>\n",
              "      <td>182.60</td>\n",
              "      <td>947.55</td>\n",
              "    </tr>\n",
              "    <tr>\n",
              "      <th>2022-03-28 00:00:00-03:00</th>\n",
              "      <td>97.9</td>\n",
              "      <td>335.40</td>\n",
              "      <td>64.90</td>\n",
              "      <td>180.20</td>\n",
              "      <td>931.70</td>\n",
              "    </tr>\n",
              "    <tr>\n",
              "      <th>2022-03-29 00:00:00-03:00</th>\n",
              "      <td>96.7</td>\n",
              "      <td>329.30</td>\n",
              "      <td>64.60</td>\n",
              "      <td>172.95</td>\n",
              "      <td>915.85</td>\n",
              "    </tr>\n",
              "    <tr>\n",
              "      <th>2022-03-30 00:00:00-03:00</th>\n",
              "      <td>96.7</td>\n",
              "      <td>329.45</td>\n",
              "      <td>66.15</td>\n",
              "      <td>176.80</td>\n",
              "      <td>937.55</td>\n",
              "    </tr>\n",
              "  </tbody>\n",
              "</table>\n",
              "<p>61 rows × 5 columns</p>\n",
              "</div>\n",
              "      <button class=\"colab-df-convert\" onclick=\"convertToInteractive('df-8ce20db6-e397-40e5-8045-0e90c2eb1fec')\"\n",
              "              title=\"Convert this dataframe to an interactive table.\"\n",
              "              style=\"display:none;\">\n",
              "        \n",
              "  <svg xmlns=\"http://www.w3.org/2000/svg\" height=\"24px\"viewBox=\"0 0 24 24\"\n",
              "       width=\"24px\">\n",
              "    <path d=\"M0 0h24v24H0V0z\" fill=\"none\"/>\n",
              "    <path d=\"M18.56 5.44l.94 2.06.94-2.06 2.06-.94-2.06-.94-.94-2.06-.94 2.06-2.06.94zm-11 1L8.5 8.5l.94-2.06 2.06-.94-2.06-.94L8.5 2.5l-.94 2.06-2.06.94zm10 10l.94 2.06.94-2.06 2.06-.94-2.06-.94-.94-2.06-.94 2.06-2.06.94z\"/><path d=\"M17.41 7.96l-1.37-1.37c-.4-.4-.92-.59-1.43-.59-.52 0-1.04.2-1.43.59L10.3 9.45l-7.72 7.72c-.78.78-.78 2.05 0 2.83L4 21.41c.39.39.9.59 1.41.59.51 0 1.02-.2 1.41-.59l7.78-7.78 2.81-2.81c.8-.78.8-2.07 0-2.86zM5.41 20L4 18.59l7.72-7.72 1.47 1.35L5.41 20z\"/>\n",
              "  </svg>\n",
              "      </button>\n",
              "      \n",
              "  <style>\n",
              "    .colab-df-container {\n",
              "      display:flex;\n",
              "      flex-wrap:wrap;\n",
              "      gap: 12px;\n",
              "    }\n",
              "\n",
              "    .colab-df-convert {\n",
              "      background-color: #E8F0FE;\n",
              "      border: none;\n",
              "      border-radius: 50%;\n",
              "      cursor: pointer;\n",
              "      display: none;\n",
              "      fill: #1967D2;\n",
              "      height: 32px;\n",
              "      padding: 0 0 0 0;\n",
              "      width: 32px;\n",
              "    }\n",
              "\n",
              "    .colab-df-convert:hover {\n",
              "      background-color: #E2EBFA;\n",
              "      box-shadow: 0px 1px 2px rgba(60, 64, 67, 0.3), 0px 1px 3px 1px rgba(60, 64, 67, 0.15);\n",
              "      fill: #174EA6;\n",
              "    }\n",
              "\n",
              "    [theme=dark] .colab-df-convert {\n",
              "      background-color: #3B4455;\n",
              "      fill: #D2E3FC;\n",
              "    }\n",
              "\n",
              "    [theme=dark] .colab-df-convert:hover {\n",
              "      background-color: #434B5C;\n",
              "      box-shadow: 0px 1px 3px 1px rgba(0, 0, 0, 0.15);\n",
              "      filter: drop-shadow(0px 1px 2px rgba(0, 0, 0, 0.3));\n",
              "      fill: #FFFFFF;\n",
              "    }\n",
              "  </style>\n",
              "\n",
              "      <script>\n",
              "        const buttonEl =\n",
              "          document.querySelector('#df-8ce20db6-e397-40e5-8045-0e90c2eb1fec button.colab-df-convert');\n",
              "        buttonEl.style.display =\n",
              "          google.colab.kernel.accessAllowed ? 'block' : 'none';\n",
              "\n",
              "        async function convertToInteractive(key) {\n",
              "          const element = document.querySelector('#df-8ce20db6-e397-40e5-8045-0e90c2eb1fec');\n",
              "          const dataTable =\n",
              "            await google.colab.kernel.invokeFunction('convertToInteractive',\n",
              "                                                     [key], {});\n",
              "          if (!dataTable) return;\n",
              "\n",
              "          const docLinkHtml = 'Like what you see? Visit the ' +\n",
              "            '<a target=\"_blank\" href=https://colab.research.google.com/notebooks/data_table.ipynb>data table notebook</a>'\n",
              "            + ' to learn more about interactive tables.';\n",
              "          element.innerHTML = '';\n",
              "          dataTable['output_type'] = 'display_data';\n",
              "          await google.colab.output.renderOutput(dataTable, element);\n",
              "          const docLink = document.createElement('div');\n",
              "          docLink.innerHTML = docLinkHtml;\n",
              "          element.appendChild(docLink);\n",
              "        }\n",
              "      </script>\n",
              "    </div>\n",
              "  </div>\n",
              "  "
            ]
          },
          "metadata": {},
          "execution_count": 35
        }
      ]
    },
    {
      "cell_type": "code",
      "source": [
        "px.line(cartera.xs(\"Close\", level=0, axis=1),\n",
        "        x=cartera.index, \n",
        "        y=cartera.columns,\n",
        "        color=cartera.columns.get_level_values(1),\n",
        "        template=\"gridon\",\n",
        "        markers=True)"
      ],
      "metadata": {
        "colab": {
          "base_uri": "https://localhost:8080/",
          "height": 375
        },
        "id": "pTri2QXKYSLn",
        "outputId": "60fde78f-bcbb-4a92-dbe8-03471ef3e178"
      },
      "id": "pTri2QXKYSLn",
      "execution_count": 36,
      "outputs": [
        {
          "output_type": "error",
          "ename": "TypeError",
          "evalue": "ignored",
          "traceback": [
            "\u001b[0;31m---------------------------------------------------------------------------\u001b[0m",
            "\u001b[0;31mTypeError\u001b[0m                                 Traceback (most recent call last)",
            "\u001b[0;32m<ipython-input-36-baee7d4eaea4>\u001b[0m in \u001b[0;36m<module>\u001b[0;34m\u001b[0m\n\u001b[0;32m----> 1\u001b[0;31m px.line(cartera.xs(\"Close\", level=0, axis=1),\n\u001b[0m\u001b[1;32m      2\u001b[0m         \u001b[0mx\u001b[0m\u001b[0;34m=\u001b[0m\u001b[0mcartera\u001b[0m\u001b[0;34m.\u001b[0m\u001b[0mindex\u001b[0m\u001b[0;34m,\u001b[0m\u001b[0;34m\u001b[0m\u001b[0;34m\u001b[0m\u001b[0m\n\u001b[1;32m      3\u001b[0m         \u001b[0my\u001b[0m\u001b[0;34m=\u001b[0m\u001b[0mcartera\u001b[0m\u001b[0;34m.\u001b[0m\u001b[0mcolumns\u001b[0m\u001b[0;34m,\u001b[0m\u001b[0;34m\u001b[0m\u001b[0;34m\u001b[0m\u001b[0m\n\u001b[1;32m      4\u001b[0m         \u001b[0mcolor\u001b[0m\u001b[0;34m=\u001b[0m\u001b[0mcartera\u001b[0m\u001b[0;34m.\u001b[0m\u001b[0mcolumns\u001b[0m\u001b[0;34m.\u001b[0m\u001b[0mget_level_values\u001b[0m\u001b[0;34m(\u001b[0m\u001b[0;36m1\u001b[0m\u001b[0;34m)\u001b[0m\u001b[0;34m,\u001b[0m\u001b[0;34m\u001b[0m\u001b[0;34m\u001b[0m\u001b[0m\n\u001b[1;32m      5\u001b[0m         \u001b[0mtemplate\u001b[0m\u001b[0;34m=\u001b[0m\u001b[0;34m\"gridon\"\u001b[0m\u001b[0;34m,\u001b[0m\u001b[0;34m\u001b[0m\u001b[0;34m\u001b[0m\u001b[0m\n",
            "\u001b[0;32m/usr/local/lib/python3.8/dist-packages/plotly/express/_chart_types.py\u001b[0m in \u001b[0;36mline\u001b[0;34m(data_frame, x, y, line_group, color, line_dash, symbol, hover_name, hover_data, custom_data, text, facet_row, facet_col, facet_col_wrap, facet_row_spacing, facet_col_spacing, error_x, error_x_minus, error_y, error_y_minus, animation_frame, animation_group, category_orders, labels, orientation, color_discrete_sequence, color_discrete_map, line_dash_sequence, line_dash_map, symbol_sequence, symbol_map, markers, log_x, log_y, range_x, range_y, line_shape, render_mode, title, template, width, height)\u001b[0m\n\u001b[1;32m    262\u001b[0m     \u001b[0ma\u001b[0m \u001b[0mpolyline\u001b[0m \u001b[0mmark\u001b[0m \u001b[0;32min\u001b[0m \u001b[0;36m2\u001b[0m\u001b[0mD\u001b[0m \u001b[0mspace\u001b[0m\u001b[0;34m.\u001b[0m\u001b[0;34m\u001b[0m\u001b[0;34m\u001b[0m\u001b[0m\n\u001b[1;32m    263\u001b[0m     \"\"\"\n\u001b[0;32m--> 264\u001b[0;31m     \u001b[0;32mreturn\u001b[0m \u001b[0mmake_figure\u001b[0m\u001b[0;34m(\u001b[0m\u001b[0margs\u001b[0m\u001b[0;34m=\u001b[0m\u001b[0mlocals\u001b[0m\u001b[0;34m(\u001b[0m\u001b[0;34m)\u001b[0m\u001b[0;34m,\u001b[0m \u001b[0mconstructor\u001b[0m\u001b[0;34m=\u001b[0m\u001b[0mgo\u001b[0m\u001b[0;34m.\u001b[0m\u001b[0mScatter\u001b[0m\u001b[0;34m)\u001b[0m\u001b[0;34m\u001b[0m\u001b[0;34m\u001b[0m\u001b[0m\n\u001b[0m\u001b[1;32m    265\u001b[0m \u001b[0;34m\u001b[0m\u001b[0m\n\u001b[1;32m    266\u001b[0m \u001b[0;34m\u001b[0m\u001b[0m\n",
            "\u001b[0;32m/usr/local/lib/python3.8/dist-packages/plotly/express/_core.py\u001b[0m in \u001b[0;36mmake_figure\u001b[0;34m(args, constructor, trace_patch, layout_patch)\u001b[0m\n\u001b[1;32m   1989\u001b[0m     \u001b[0mapply_default_cascade\u001b[0m\u001b[0;34m(\u001b[0m\u001b[0margs\u001b[0m\u001b[0;34m)\u001b[0m\u001b[0;34m\u001b[0m\u001b[0;34m\u001b[0m\u001b[0m\n\u001b[1;32m   1990\u001b[0m \u001b[0;34m\u001b[0m\u001b[0m\n\u001b[0;32m-> 1991\u001b[0;31m     \u001b[0margs\u001b[0m \u001b[0;34m=\u001b[0m \u001b[0mbuild_dataframe\u001b[0m\u001b[0;34m(\u001b[0m\u001b[0margs\u001b[0m\u001b[0;34m,\u001b[0m \u001b[0mconstructor\u001b[0m\u001b[0;34m)\u001b[0m\u001b[0;34m\u001b[0m\u001b[0;34m\u001b[0m\u001b[0m\n\u001b[0m\u001b[1;32m   1992\u001b[0m     \u001b[0;32mif\u001b[0m \u001b[0mconstructor\u001b[0m \u001b[0;32min\u001b[0m \u001b[0;34m[\u001b[0m\u001b[0mgo\u001b[0m\u001b[0;34m.\u001b[0m\u001b[0mTreemap\u001b[0m\u001b[0;34m,\u001b[0m \u001b[0mgo\u001b[0m\u001b[0;34m.\u001b[0m\u001b[0mSunburst\u001b[0m\u001b[0;34m,\u001b[0m \u001b[0mgo\u001b[0m\u001b[0;34m.\u001b[0m\u001b[0mIcicle\u001b[0m\u001b[0;34m]\u001b[0m \u001b[0;32mand\u001b[0m \u001b[0margs\u001b[0m\u001b[0;34m[\u001b[0m\u001b[0;34m\"path\"\u001b[0m\u001b[0;34m]\u001b[0m \u001b[0;32mis\u001b[0m \u001b[0;32mnot\u001b[0m \u001b[0;32mNone\u001b[0m\u001b[0;34m:\u001b[0m\u001b[0;34m\u001b[0m\u001b[0;34m\u001b[0m\u001b[0m\n\u001b[1;32m   1993\u001b[0m         \u001b[0margs\u001b[0m \u001b[0;34m=\u001b[0m \u001b[0mprocess_dataframe_hierarchy\u001b[0m\u001b[0;34m(\u001b[0m\u001b[0margs\u001b[0m\u001b[0;34m)\u001b[0m\u001b[0;34m\u001b[0m\u001b[0;34m\u001b[0m\u001b[0m\n",
            "\u001b[0;32m/usr/local/lib/python3.8/dist-packages/plotly/express/_core.py\u001b[0m in \u001b[0;36mbuild_dataframe\u001b[0;34m(args, constructor)\u001b[0m\n\u001b[1;32m   1404\u001b[0m     \u001b[0;31m# now that things have been prepped, we do the systematic rewriting of `args`\u001b[0m\u001b[0;34m\u001b[0m\u001b[0;34m\u001b[0m\u001b[0;34m\u001b[0m\u001b[0m\n\u001b[1;32m   1405\u001b[0m \u001b[0;34m\u001b[0m\u001b[0m\n\u001b[0;32m-> 1406\u001b[0;31m     df_output, wide_id_vars = process_args_into_dataframe(\n\u001b[0m\u001b[1;32m   1407\u001b[0m         \u001b[0margs\u001b[0m\u001b[0;34m,\u001b[0m \u001b[0mwide_mode\u001b[0m\u001b[0;34m,\u001b[0m \u001b[0mvar_name\u001b[0m\u001b[0;34m,\u001b[0m \u001b[0mvalue_name\u001b[0m\u001b[0;34m\u001b[0m\u001b[0;34m\u001b[0m\u001b[0m\n\u001b[1;32m   1408\u001b[0m     )\n",
            "\u001b[0;32m/usr/local/lib/python3.8/dist-packages/plotly/express/_core.py\u001b[0m in \u001b[0;36mprocess_args_into_dataframe\u001b[0;34m(args, wide_mode, var_name, value_name)\u001b[0m\n\u001b[1;32m   1147\u001b[0m             \u001b[0;31m# Case of multiindex\u001b[0m\u001b[0;34m\u001b[0m\u001b[0;34m\u001b[0m\u001b[0;34m\u001b[0m\u001b[0m\n\u001b[1;32m   1148\u001b[0m             \u001b[0;32mif\u001b[0m \u001b[0misinstance\u001b[0m\u001b[0;34m(\u001b[0m\u001b[0margument\u001b[0m\u001b[0;34m,\u001b[0m \u001b[0mpd\u001b[0m\u001b[0;34m.\u001b[0m\u001b[0mMultiIndex\u001b[0m\u001b[0;34m)\u001b[0m\u001b[0;34m:\u001b[0m\u001b[0;34m\u001b[0m\u001b[0;34m\u001b[0m\u001b[0m\n\u001b[0;32m-> 1149\u001b[0;31m                 raise TypeError(\n\u001b[0m\u001b[1;32m   1150\u001b[0m                     \u001b[0;34m\"Argument '%s' is a pandas MultiIndex. \"\u001b[0m\u001b[0;34m\u001b[0m\u001b[0;34m\u001b[0m\u001b[0m\n\u001b[1;32m   1151\u001b[0m                     \u001b[0;34m\"pandas MultiIndex is not supported by plotly express \"\u001b[0m\u001b[0;34m\u001b[0m\u001b[0;34m\u001b[0m\u001b[0m\n",
            "\u001b[0;31mTypeError\u001b[0m: Argument 'y' is a pandas MultiIndex. pandas MultiIndex is not supported by plotly express at the moment."
          ]
        }
      ]
    },
    {
      "cell_type": "markdown",
      "source": [
        "---\n",
        "<p>\n",
        "<font color=\"RoyalBlue\">\n",
        "\n",
        "💙 **A seguir haciendo gráficos en el proximo cuaderno plotly...** \n",
        "</font>\n",
        "</p>\n",
        "\n",
        "---"
      ],
      "metadata": {
        "id": "tVObf-xUk_QR"
      },
      "id": "tVObf-xUk_QR"
    },
    {
      "cell_type": "markdown",
      "source": [
        "# 😀"
      ],
      "metadata": {
        "id": "s0STM8QN99x3"
      },
      "id": "s0STM8QN99x3"
    }
  ],
  "metadata": {
    "kernelspec": {
      "display_name": "Python 3 (ipykernel)",
      "language": "python",
      "name": "python3"
    },
    "language_info": {
      "codemirror_mode": {
        "name": "ipython",
        "version": 3
      },
      "file_extension": ".py",
      "mimetype": "text/x-python",
      "name": "python",
      "nbconvert_exporter": "python",
      "pygments_lexer": "ipython3",
      "version": "3.10.2"
    },
    "colab": {
      "provenance": [],
      "include_colab_link": true
    }
  },
  "nbformat": 4,
  "nbformat_minor": 5
}