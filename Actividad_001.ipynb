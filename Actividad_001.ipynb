{
  "cells": [
    {
      "cell_type": "markdown",
      "metadata": {
        "id": "view-in-github",
        "colab_type": "text"
      },
      "source": [
        "<a href=\"https://colab.research.google.com/github/cristiandarioortegayubro/P4DA/blob/main/Actividad_001.ipynb\" target=\"_parent\"><img src=\"https://colab.research.google.com/assets/colab-badge.svg\" alt=\"Open In Colab\"/></a>"
      ]
    },
    {
      "cell_type": "markdown",
      "source": [
        "![](https://github.com/cristiandarioortegayubro/P4DA/blob/main/Logo.png?raw=true)"
      ],
      "metadata": {
        "id": "uBHtO3tbUBGA"
      },
      "id": "uBHtO3tbUBGA"
    },
    {
      "cell_type": "markdown",
      "id": "49f579e7",
      "metadata": {
        "id": "49f579e7"
      },
      "source": [
        "![logo](https://www.python.org/static/community_logos/python-powered-h-70x91.png)"
      ]
    },
    {
      "cell_type": "markdown",
      "id": "6e754985-cdd9-4a64-9d7f-fcfbfa78abef",
      "metadata": {
        "id": "6e754985-cdd9-4a64-9d7f-fcfbfa78abef"
      },
      "source": [
        "# ☯ <font color=\"RoyalBlue\">**Actividad 001**</font>"
      ]
    },
    {
      "cell_type": "markdown",
      "id": "0704d660-cd44-4b7e-918d-65a4633e915e",
      "metadata": {
        "id": "0704d660-cd44-4b7e-918d-65a4633e915e"
      },
      "source": [
        "## 🔹 <font color=\"RoyalBlue\">**Habilitando pandas**</font>"
      ]
    },
    {
      "cell_type": "code",
      "source": [
        "# mi código aquí"
      ],
      "metadata": {
        "id": "OB3plSng-CbD"
      },
      "id": "OB3plSng-CbD",
      "execution_count": 1,
      "outputs": []
    },
    {
      "cell_type": "markdown",
      "source": [
        "## 🔹 <font color=\"RoyalBlue\">**Datos**</font>"
      ],
      "metadata": {
        "id": "qPTuQcuA-P4U"
      },
      "id": "qPTuQcuA-P4U"
    },
    {
      "cell_type": "markdown",
      "source": [
        "<p>\n",
        "<font color=\"DarkBlue\">\n",
        "\n",
        "> **Generar listas, con diez elementos cada una, de acuerdo a lo solicitado...(cuando sea texto, colocar todo en minúscula)** \n",
        "</font>\n",
        "</p>\n"
      ],
      "metadata": {
        "id": "jCrAiX2J-aa1"
      },
      "id": "jCrAiX2J-aa1"
    },
    {
      "cell_type": "code",
      "source": [
        "# Codigo identificación de artículos electrodomésticos"
      ],
      "metadata": {
        "id": "vHaKqi8-_fCl"
      },
      "id": "vHaKqi8-_fCl",
      "execution_count": 2,
      "outputs": []
    },
    {
      "cell_type": "code",
      "source": [
        "# Descripción de artículos electrodomesticos"
      ],
      "metadata": {
        "id": "sAjt-Y8w-sXY"
      },
      "id": "sAjt-Y8w-sXY",
      "execution_count": 3,
      "outputs": []
    },
    {
      "cell_type": "code",
      "source": [
        "# Cantidad de artículos"
      ],
      "metadata": {
        "id": "0oNgUb3X-70s"
      },
      "id": "0oNgUb3X-70s",
      "execution_count": 4,
      "outputs": []
    },
    {
      "cell_type": "code",
      "source": [
        "# Precio unitario de los articulos"
      ],
      "metadata": {
        "id": "ecPGcA3x-_Cg"
      },
      "id": "ecPGcA3x-_Cg",
      "execution_count": 5,
      "outputs": []
    },
    {
      "cell_type": "markdown",
      "source": [
        "<p>\n",
        "<font color=\"DarkBlue\">\n",
        "\n",
        "> **Generar una lista, con los nombres de las listas anteriores...** \n",
        "</font>\n",
        "</p>\n"
      ],
      "metadata": {
        "id": "rg3QNYD-HZNm"
      },
      "id": "rg3QNYD-HZNm"
    },
    {
      "cell_type": "code",
      "source": [
        "# mi código aquí"
      ],
      "metadata": {
        "id": "6NBg8RJJHa5p"
      },
      "id": "6NBg8RJJHa5p",
      "execution_count": 6,
      "outputs": []
    },
    {
      "cell_type": "markdown",
      "source": [
        "<p>\n",
        "<font color=\"DarkBlue\">\n",
        "\n",
        "> **Generar una lista, con las listas anteriores...** \n",
        "</font>\n",
        "</p>\n"
      ],
      "metadata": {
        "id": "1iSL4XH-JwGk"
      },
      "id": "1iSL4XH-JwGk"
    },
    {
      "cell_type": "code",
      "source": [
        "# mi código aquí"
      ],
      "metadata": {
        "id": "g4UAHVJMJ3l8"
      },
      "id": "g4UAHVJMJ3l8",
      "execution_count": 7,
      "outputs": []
    },
    {
      "cell_type": "markdown",
      "source": [
        "<p>\n",
        "<font color=\"DarkBlue\">\n",
        "\n",
        "> **Generar un diccionario que contenga las listas generadas...** \n",
        "</font>\n",
        "</p>\n"
      ],
      "metadata": {
        "id": "5RPdOjy9_-o-"
      },
      "id": "5RPdOjy9_-o-"
    },
    {
      "cell_type": "code",
      "source": [
        "# mi código aquí"
      ],
      "metadata": {
        "id": "IFFwav4KAGZH"
      },
      "id": "IFFwav4KAGZH",
      "execution_count": 8,
      "outputs": []
    },
    {
      "cell_type": "markdown",
      "source": [
        "## 🔹 <font color=\"RoyalBlue\">**Creación del DataFrame**</font>"
      ],
      "metadata": {
        "id": "u7SgflgMAcqv"
      },
      "id": "u7SgflgMAcqv"
    },
    {
      "cell_type": "code",
      "source": [
        "# mi código aquí"
      ],
      "metadata": {
        "id": "iBeVIsGUAjdH"
      },
      "id": "iBeVIsGUAjdH",
      "execution_count": 9,
      "outputs": []
    },
    {
      "cell_type": "markdown",
      "source": [
        "## 🔹 <font color=\"RoyalBlue\">**Análisis de objetos**</font>"
      ],
      "metadata": {
        "id": "T34YSDVbEsEx"
      },
      "id": "T34YSDVbEsEx"
    },
    {
      "cell_type": "markdown",
      "source": [
        "<p>\n",
        "<font color=\"DarkBlue\">\n",
        "\n",
        "> **Con ```print(f\"\")``` indicar de cada lista, el nombre y la cantidad de elementos de cada una de ellas...** \n",
        "</font>\n",
        "</p>\n"
      ],
      "metadata": {
        "id": "m36nQvskHvGG"
      },
      "id": "m36nQvskHvGG"
    },
    {
      "cell_type": "code",
      "source": [
        "# mi código aquí"
      ],
      "metadata": {
        "id": "vmRVOpP0HxVR"
      },
      "id": "vmRVOpP0HxVR",
      "execution_count": 10,
      "outputs": []
    },
    {
      "cell_type": "code",
      "source": [
        "# mi código aquí"
      ],
      "metadata": {
        "id": "DkWpZE1SHxIl"
      },
      "id": "DkWpZE1SHxIl",
      "execution_count": 11,
      "outputs": []
    },
    {
      "cell_type": "code",
      "source": [
        "# mi código aquí"
      ],
      "metadata": {
        "id": "EBH5vZwlHw-4"
      },
      "id": "EBH5vZwlHw-4",
      "execution_count": 12,
      "outputs": []
    },
    {
      "cell_type": "code",
      "source": [
        "# mi código aquí"
      ],
      "metadata": {
        "id": "r2IV4Nw1HwpS"
      },
      "id": "r2IV4Nw1HwpS",
      "execution_count": 13,
      "outputs": []
    },
    {
      "cell_type": "markdown",
      "source": [
        "<p>\n",
        "<font color=\"DarkBlue\">\n",
        "\n",
        "> **Visualizar el dataframe...** \n",
        "</font>\n",
        "</p>\n"
      ],
      "metadata": {
        "id": "a1Rh8OQSKjz-"
      },
      "id": "a1Rh8OQSKjz-"
    },
    {
      "cell_type": "code",
      "source": [
        "# mi código aquí"
      ],
      "metadata": {
        "id": "dBucq6J8KlMe"
      },
      "id": "dBucq6J8KlMe",
      "execution_count": 14,
      "outputs": []
    },
    {
      "cell_type": "markdown",
      "source": [
        "<p>\n",
        "<font color=\"DarkBlue\">\n",
        "\n",
        "> **Visualizar las primeras $3$ filas y las últimas $4$ filas...** \n",
        "</font>\n",
        "</p>\n"
      ],
      "metadata": {
        "id": "sjllm0H_Kqo7"
      },
      "id": "sjllm0H_Kqo7"
    },
    {
      "cell_type": "code",
      "source": [
        "# mi código aquí de las primeras filas"
      ],
      "metadata": {
        "id": "IcdqIPmWKpup"
      },
      "id": "IcdqIPmWKpup",
      "execution_count": 15,
      "outputs": []
    },
    {
      "cell_type": "code",
      "source": [
        "# mi código aquí de las ultimas filas"
      ],
      "metadata": {
        "id": "YOaC6v8mKmox"
      },
      "id": "YOaC6v8mKmox",
      "execution_count": 16,
      "outputs": []
    },
    {
      "cell_type": "markdown",
      "source": [
        "<p>\n",
        "<font color=\"DarkBlue\">\n",
        "\n",
        "> **Obtener información del dataframe...** \n",
        "</font>\n",
        "</p>\n"
      ],
      "metadata": {
        "id": "pUOyjDu8LeuG"
      },
      "id": "pUOyjDu8LeuG"
    },
    {
      "cell_type": "code",
      "source": [
        "# mi código aquí"
      ],
      "metadata": {
        "id": "3NmcwN6JLgJR"
      },
      "id": "3NmcwN6JLgJR",
      "execution_count": 17,
      "outputs": []
    },
    {
      "cell_type": "markdown",
      "source": [
        "<p>\n",
        "<font color=\"DarkBlue\">\n",
        "\n",
        "> **Hacer un análisis estadístico descriptivo de las variables numéricas...** \n",
        "</font>\n",
        "</p>\n"
      ],
      "metadata": {
        "id": "XFzumpdZM5Ok"
      },
      "id": "XFzumpdZM5Ok"
    },
    {
      "cell_type": "code",
      "source": [
        "# mi código aquí"
      ],
      "metadata": {
        "id": "nHbiAIA5M6gl"
      },
      "id": "nHbiAIA5M6gl",
      "execution_count": 18,
      "outputs": []
    },
    {
      "cell_type": "markdown",
      "source": [
        "<p>\n",
        "<font color=\"DarkBlue\">\n",
        "\n",
        "> **Obtener las dimensiones del dataframe, y hacer un ```print(f\"\")```indicando la cantidad de filas y columnas...** \n",
        "</font>\n",
        "</p>\n"
      ],
      "metadata": {
        "id": "Rm9UVIBDOVpH"
      },
      "id": "Rm9UVIBDOVpH"
    },
    {
      "cell_type": "code",
      "source": [
        "# mi código aquí"
      ],
      "metadata": {
        "id": "wZLZXDHgOW4c"
      },
      "id": "wZLZXDHgOW4c",
      "execution_count": 19,
      "outputs": []
    },
    {
      "cell_type": "markdown",
      "source": [
        "## 🔹 <font color=\"RoyalBlue\">**Un poco más dificil...**</font>"
      ],
      "metadata": {
        "id": "kxzBnscsNgSu"
      },
      "id": "kxzBnscsNgSu"
    },
    {
      "cell_type": "markdown",
      "source": [
        "---\n",
        "<p>\n",
        "<font color=\"RoyalBlue\">\n",
        "\n",
        "👀 **Para los siguientes puntos se puede consultar la documentación técnica de Pandas...** \n",
        "</font>\n",
        "</p>\n",
        "\n",
        "---"
      ],
      "metadata": {
        "id": "wY_DYxOjNxrP"
      },
      "id": "wY_DYxOjNxrP"
    },
    {
      "cell_type": "markdown",
      "source": [
        "<p>\n",
        "<font color=\"DarkBlue\">\n",
        "\n",
        "> **Crear una columna nueva, que multiplique cantidad por precio, el nombre de esta columna es ```Operacion```...** \n",
        "</font>\n",
        "</p>\n"
      ],
      "metadata": {
        "id": "mN_R2dD5Pf9r"
      },
      "id": "mN_R2dD5Pf9r"
    },
    {
      "cell_type": "code",
      "source": [
        "# mi código aquí"
      ],
      "metadata": {
        "id": "ac4rysxJPcMp"
      },
      "id": "ac4rysxJPcMp",
      "execution_count": 20,
      "outputs": []
    },
    {
      "cell_type": "markdown",
      "source": [
        "<p>\n",
        "<font color=\"DarkBlue\">\n",
        "\n",
        "> **Generar algún gráfico usando Pandas...** \n",
        "</font>\n",
        "</p>\n"
      ],
      "metadata": {
        "id": "DhaWG4VQQwRT"
      },
      "id": "DhaWG4VQQwRT"
    },
    {
      "cell_type": "code",
      "source": [
        "# mi gráfico aquí"
      ],
      "metadata": {
        "id": "Z9QWERB8QxKt"
      },
      "id": "Z9QWERB8QxKt",
      "execution_count": null,
      "outputs": []
    },
    {
      "cell_type": "code",
      "source": [
        "# mi gráfico aquí"
      ],
      "metadata": {
        "id": "MTE9HJ2DQzqk"
      },
      "id": "MTE9HJ2DQzqk",
      "execution_count": null,
      "outputs": []
    },
    {
      "cell_type": "markdown",
      "id": "db7a81dd-0eb5-4391-b855-4ab7a3ed5d06",
      "metadata": {
        "id": "db7a81dd-0eb5-4391-b855-4ab7a3ed5d06"
      },
      "source": [
        "---\n",
        "<p>\n",
        "<font color=\"RoyalBlue\">\n",
        "\n",
        "💙 💙 💙 **Hemos concluido con esta actividad, nos encontraremos en el proximo cuaderno, buen finde...** \n",
        "</font>\n",
        "</p>\n",
        "\n",
        "---"
      ]
    },
    {
      "cell_type": "markdown",
      "id": "cc2cb851-466f-40ca-bc0d-3341d7d0553c",
      "metadata": {
        "id": "cc2cb851-466f-40ca-bc0d-3341d7d0553c"
      },
      "source": [
        "# 😀"
      ]
    }
  ],
  "metadata": {
    "kernelspec": {
      "display_name": "Python 3 (ipykernel)",
      "language": "python",
      "name": "python3"
    },
    "language_info": {
      "codemirror_mode": {
        "name": "ipython",
        "version": 3
      },
      "file_extension": ".py",
      "mimetype": "text/x-python",
      "name": "python",
      "nbconvert_exporter": "python",
      "pygments_lexer": "ipython3",
      "version": "3.10.2"
    },
    "toc-autonumbering": false,
    "toc-showmarkdowntxt": false,
    "colab": {
      "provenance": [],
      "collapsed_sections": [
        "87a2fb36-8011-44e0-a07a-19d19d7e7d15"
      ],
      "toc_visible": true,
      "include_colab_link": true
    }
  },
  "nbformat": 4,
  "nbformat_minor": 5
}