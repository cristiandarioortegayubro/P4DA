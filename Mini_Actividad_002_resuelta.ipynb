{
  "cells": [
    {
      "cell_type": "markdown",
      "metadata": {
        "id": "view-in-github",
        "colab_type": "text"
      },
      "source": [
        "<a href=\"https://colab.research.google.com/github/cristiandarioortegayubro/P4DA/blob/main/Mini_Actividad_002_resuelta.ipynb\" target=\"_parent\"><img src=\"https://colab.research.google.com/assets/colab-badge.svg\" alt=\"Open In Colab\"/></a>"
      ]
    },
    {
      "cell_type": "markdown",
      "source": [
        "<p align=\"center\">\n",
        "<img src=\"https://github.com/cristiandarioortegayubro/P4DA/blob/main/Logo.png?raw=true\">\n",
        "</p>\n"
      ],
      "metadata": {
        "id": "SIr4I2pawJQD"
      },
      "id": "SIr4I2pawJQD"
    },
    {
      "cell_type": "markdown",
      "id": "6e754985-cdd9-4a64-9d7f-fcfbfa78abef",
      "metadata": {
        "id": "6e754985-cdd9-4a64-9d7f-fcfbfa78abef"
      },
      "source": [
        "# <font color=\"RoyalBlue\">**Mini Actividad 002**</font>"
      ]
    },
    {
      "cell_type": "markdown",
      "id": "49f579e7",
      "metadata": {
        "id": "49f579e7"
      },
      "source": [
        "<p align=\"center\">\n",
        "<img src=\"https://www.python.org/static/community_logos/python-powered-h-70x91.png\">\n",
        "</p>\n"
      ]
    },
    {
      "cell_type": "markdown",
      "source": [
        "## 🔹 **<font color=\"RoyalBlue\">Obtención de datos HTML</font>**"
      ],
      "metadata": {
        "id": "joUOoCl6UX0C"
      },
      "id": "joUOoCl6UX0C"
    },
    {
      "cell_type": "markdown",
      "source": [
        "https://atm.mendoza.gov.ar/"
      ],
      "metadata": {
        "id": "9VEqthj5VrmF"
      },
      "id": "9VEqthj5VrmF"
    },
    {
      "cell_type": "markdown",
      "source": [
        "![](https://atm.mendoza.gov.ar/wp-content/uploads/2023/01/Frente-Atm.png)"
      ],
      "metadata": {
        "id": "3C6LSsgEUBqH"
      },
      "id": "3C6LSsgEUBqH"
    },
    {
      "cell_type": "markdown",
      "source": [
        "<p align=\"justify\">\n",
        "En la página de la Administración Tributaria Mendoza se encuentran tablas con los niveles de recaudación. Nuestra misión, si desean aceptarla, es obtener esas tablas de la página web de la Administración Tributaria Mendoza, y crear un DataFrame...\n",
        "</p>"
      ],
      "metadata": {
        "id": "4a18vSjJWTOg"
      },
      "id": "4a18vSjJWTOg"
    },
    {
      "cell_type": "markdown",
      "source": [
        "https://atm.mendoza.gov.ar/portalatm/zoneBottom/datosInteres/recaudacion/recaudacion_por_impuesto_anual.jsp"
      ],
      "metadata": {
        "id": "g6kHWkdyzU8w"
      },
      "id": "g6kHWkdyzU8w"
    },
    {
      "cell_type": "markdown",
      "source": [
        "---\n",
        "<p align=\"justify\"><b>\n",
        "<font color=\"DeepPink\">\n",
        "⛳ Vamos por el desafío, que es automatizar los scrips para que de la lista inicial, se puedan crear todos los dataframes resultantes en virtud de los ejercicios fiscales que tiene la lista, es decir, desde el año $2000$ hasta el año actual.\n",
        "</font>\n",
        "</p>\n",
        "\n",
        "---"
      ],
      "metadata": {
        "id": "ooKJpWAOCpVa"
      },
      "id": "ooKJpWAOCpVa"
    },
    {
      "cell_type": "markdown",
      "id": "0704d660-cd44-4b7e-918d-65a4633e915e",
      "metadata": {
        "id": "0704d660-cd44-4b7e-918d-65a4633e915e"
      },
      "source": [
        "## 🔹 <font color=\"RoyalBlue\">**Habilitando bibliotecas requeridas**</font>"
      ]
    },
    {
      "cell_type": "markdown",
      "source": [
        "### **<font color=\"RoyalBlue\">Para análisis de datos</font>**"
      ],
      "metadata": {
        "id": "lgVJWp5BGkt6"
      },
      "id": "lgVJWp5BGkt6"
    },
    {
      "cell_type": "code",
      "source": [
        "import numpy as np\n",
        "import pandas as pd"
      ],
      "metadata": {
        "id": "OB3plSng-CbD"
      },
      "id": "OB3plSng-CbD",
      "execution_count": 1,
      "outputs": []
    },
    {
      "cell_type": "code",
      "source": [
        "pd.options.display.precision = 2\n",
        "pd.options.display.float_format = \"{:.2f}\".format"
      ],
      "metadata": {
        "id": "U8JXUBT3B4R1"
      },
      "id": "U8JXUBT3B4R1",
      "execution_count": 2,
      "outputs": []
    },
    {
      "cell_type": "markdown",
      "source": [
        "### **<font color=\"RoyalBlue\">Biblioteca gráfica</font>**"
      ],
      "metadata": {
        "id": "21C-oIB_GnNY"
      },
      "id": "21C-oIB_GnNY"
    },
    {
      "cell_type": "code",
      "source": [
        "import plotly.express as px"
      ],
      "metadata": {
        "id": "DdRRlgiNGtaw"
      },
      "id": "DdRRlgiNGtaw",
      "execution_count": 3,
      "outputs": []
    },
    {
      "cell_type": "markdown",
      "source": [
        "## 🔹 <font color=\"RoyalBlue\">**Creación del DataFrame**</font>"
      ],
      "metadata": {
        "id": "qPTuQcuA-P4U"
      },
      "id": "qPTuQcuA-P4U"
    },
    {
      "cell_type": "markdown",
      "source": [
        "### <font color=\"RoyalBlue\">**Lectura de los datos**</font>"
      ],
      "metadata": {
        "id": "yc04gyGFY0Cr"
      },
      "id": "yc04gyGFY0Cr"
    },
    {
      "cell_type": "code",
      "source": [
        "data = \"https://www.atm.mendoza.gov.ar/portalatm/zoneBottom/datosInteres/recaudacion/recaudacion_por_impuesto_anual.jsp\""
      ],
      "metadata": {
        "id": "tscpTJ2sY3Qj"
      },
      "id": "tscpTJ2sY3Qj",
      "execution_count": 4,
      "outputs": []
    },
    {
      "cell_type": "code",
      "source": [
        "lista = pd.read_html(data, flavor=\"html5lib\", index_col=0, header=1, encoding='windows-1252')"
      ],
      "metadata": {
        "colab": {
          "base_uri": "https://localhost:8080/"
        },
        "id": "lzuQCa4c0EY0",
        "outputId": "66f1fb60-5ea3-45e2-e9a0-bdfc94cbc8b0"
      },
      "id": "lzuQCa4c0EY0",
      "execution_count": 10,
      "outputs": [
        {
          "output_type": "stream",
          "name": "stderr",
          "text": [
            "/usr/local/lib/python3.9/dist-packages/bs4/__init__.py:226: UserWarning: You provided Unicode markup but also provided a value for from_encoding. Your from_encoding will be ignored.\n",
            "  warnings.warn(\"You provided Unicode markup but also provided a value for from_encoding. Your from_encoding will be ignored.\")\n"
          ]
        }
      ]
    },
    {
      "cell_type": "markdown",
      "source": [
        "### <font color=\"RoyalBlue\">**Automatizando la creación del DataFrame**</font>"
      ],
      "metadata": {
        "id": "d8q7krCu2hgR"
      },
      "id": "d8q7krCu2hgR"
    },
    {
      "cell_type": "code",
      "source": [
        "dataframe = []\n",
        "for i in list(range(0,len(lista))):\n",
        "  df = lista[i].dropna(axis=1, how=\"all\")\n",
        "  df.columns = df.iloc[0,]\n",
        "  df.columns.name = None\n",
        "  df.index.name = \"Datos\"\n",
        "  df.reset_index(inplace=True)\n",
        "  df = df.dropna(axis=0, how=\"all\")                               \n",
        "  df.reset_index(drop=True,inplace=True)\n",
        "  df = df.iloc[1:13,]\n",
        "  df.drop(columns=\"Datos\",inplace=True)\n",
        "  df = df.astype(\"float\")\n",
        "  df.index.name = \"Mes\"\n",
        "  df.reset_index(inplace=True)\n",
        "  df[\"Año\"] = int(2000 + i)\n",
        "  dataframe.append(df)"
      ],
      "metadata": {
        "id": "IhHqR08J2YQM"
      },
      "id": "IhHqR08J2YQM",
      "execution_count": 11,
      "outputs": []
    },
    {
      "cell_type": "markdown",
      "source": [
        "### <font color=\"RoyalBlue\">**Creando el DataFrame**</font>"
      ],
      "metadata": {
        "id": "UVanB5W18sKi"
      },
      "id": "UVanB5W18sKi"
    },
    {
      "cell_type": "markdown",
      "source": [
        "<p align=\"justify\">\n",
        "<font color=\"DeepPink\">\n",
        "\n",
        "> **Ahora vamos a concatenar todos los dataframes..., y ordenar las columnas...**\n",
        "</font>\n",
        "</p>"
      ],
      "metadata": {
        "id": "iIBbYVL0lJHI"
      },
      "id": "iIBbYVL0lJHI"
    },
    {
      "cell_type": "code",
      "source": [
        "impuestos = pd.concat(dataframe)"
      ],
      "metadata": {
        "id": "35q8vmxX31s4"
      },
      "id": "35q8vmxX31s4",
      "execution_count": 13,
      "outputs": []
    },
    {
      "cell_type": "code",
      "source": [
        "impuestos.reset_index(drop=True,inplace=True)"
      ],
      "metadata": {
        "id": "ZTtYM4JDlPic"
      },
      "id": "ZTtYM4JDlPic",
      "execution_count": 15,
      "outputs": []
    },
    {
      "cell_type": "code",
      "source": [
        "impuestos = impuestos[[\"Mes\",\"Año\",\"Ingresos Varios\",\"Ingresos Brutos\",\"Inmobiliario\",\"Automotor\",\"Sellos\"]]"
      ],
      "metadata": {
        "id": "5r83QBkXlzme"
      },
      "id": "5r83QBkXlzme",
      "execution_count": 16,
      "outputs": []
    },
    {
      "cell_type": "markdown",
      "source": [
        "<p align=\"justify\">\n",
        "<font color=\"DeepPink\">\n",
        "\n",
        "> **Visualizando el dataframe, todo el dataframe, las primeras filas y las ultimas filas...**\n",
        "</font>\n",
        "</p>"
      ],
      "metadata": {
        "id": "mrIcnbMr9D9V"
      },
      "id": "mrIcnbMr9D9V"
    },
    {
      "cell_type": "code",
      "source": [
        "impuestos"
      ],
      "metadata": {
        "id": "PAOUNF2d9F28",
        "colab": {
          "base_uri": "https://localhost:8080/",
          "height": 423
        },
        "outputId": "93af2c00-4ca2-401a-b772-821114e9c3cb"
      },
      "id": "PAOUNF2d9F28",
      "execution_count": 17,
      "outputs": [
        {
          "output_type": "execute_result",
          "data": {
            "text/plain": [
              "     Mes   Año  Ingresos Varios  Ingresos Brutos  Inmobiliario   Automotor  \\\n",
              "0      1  2000       4925476.00      18843926.00    1781596.00  1991123.00   \n",
              "1      2  2000       2363495.00      16258743.00   11819577.00  2922430.00   \n",
              "2      3  2000       3238795.00      17468327.00    3654542.00 10795541.00   \n",
              "3      4  2000       2420553.00      17463084.00    4631617.00  2993672.00   \n",
              "4      5  2000       2910477.00      15978692.00    2282175.00  6414061.00   \n",
              "..   ...   ...              ...              ...           ...         ...   \n",
              "283    8  2023              NaN              NaN           NaN         NaN   \n",
              "284    9  2023              NaN              NaN           NaN         NaN   \n",
              "285   10  2023              NaN              NaN           NaN         NaN   \n",
              "286   11  2023              NaN              NaN           NaN         NaN   \n",
              "287   12  2023              NaN              NaN           NaN         NaN   \n",
              "\n",
              "        Sellos  \n",
              "0   4960397.00  \n",
              "1   3497740.00  \n",
              "2   3726054.00  \n",
              "3   4336669.00  \n",
              "4   3439462.00  \n",
              "..         ...  \n",
              "283        NaN  \n",
              "284        NaN  \n",
              "285        NaN  \n",
              "286        NaN  \n",
              "287        NaN  \n",
              "\n",
              "[288 rows x 7 columns]"
            ],
            "text/html": [
              "\n",
              "  <div id=\"df-188ac3b4-5f74-43d0-a993-53a5fdef2970\">\n",
              "    <div class=\"colab-df-container\">\n",
              "      <div>\n",
              "<style scoped>\n",
              "    .dataframe tbody tr th:only-of-type {\n",
              "        vertical-align: middle;\n",
              "    }\n",
              "\n",
              "    .dataframe tbody tr th {\n",
              "        vertical-align: top;\n",
              "    }\n",
              "\n",
              "    .dataframe thead th {\n",
              "        text-align: right;\n",
              "    }\n",
              "</style>\n",
              "<table border=\"1\" class=\"dataframe\">\n",
              "  <thead>\n",
              "    <tr style=\"text-align: right;\">\n",
              "      <th></th>\n",
              "      <th>Mes</th>\n",
              "      <th>Año</th>\n",
              "      <th>Ingresos Varios</th>\n",
              "      <th>Ingresos Brutos</th>\n",
              "      <th>Inmobiliario</th>\n",
              "      <th>Automotor</th>\n",
              "      <th>Sellos</th>\n",
              "    </tr>\n",
              "  </thead>\n",
              "  <tbody>\n",
              "    <tr>\n",
              "      <th>0</th>\n",
              "      <td>1</td>\n",
              "      <td>2000</td>\n",
              "      <td>4925476.00</td>\n",
              "      <td>18843926.00</td>\n",
              "      <td>1781596.00</td>\n",
              "      <td>1991123.00</td>\n",
              "      <td>4960397.00</td>\n",
              "    </tr>\n",
              "    <tr>\n",
              "      <th>1</th>\n",
              "      <td>2</td>\n",
              "      <td>2000</td>\n",
              "      <td>2363495.00</td>\n",
              "      <td>16258743.00</td>\n",
              "      <td>11819577.00</td>\n",
              "      <td>2922430.00</td>\n",
              "      <td>3497740.00</td>\n",
              "    </tr>\n",
              "    <tr>\n",
              "      <th>2</th>\n",
              "      <td>3</td>\n",
              "      <td>2000</td>\n",
              "      <td>3238795.00</td>\n",
              "      <td>17468327.00</td>\n",
              "      <td>3654542.00</td>\n",
              "      <td>10795541.00</td>\n",
              "      <td>3726054.00</td>\n",
              "    </tr>\n",
              "    <tr>\n",
              "      <th>3</th>\n",
              "      <td>4</td>\n",
              "      <td>2000</td>\n",
              "      <td>2420553.00</td>\n",
              "      <td>17463084.00</td>\n",
              "      <td>4631617.00</td>\n",
              "      <td>2993672.00</td>\n",
              "      <td>4336669.00</td>\n",
              "    </tr>\n",
              "    <tr>\n",
              "      <th>4</th>\n",
              "      <td>5</td>\n",
              "      <td>2000</td>\n",
              "      <td>2910477.00</td>\n",
              "      <td>15978692.00</td>\n",
              "      <td>2282175.00</td>\n",
              "      <td>6414061.00</td>\n",
              "      <td>3439462.00</td>\n",
              "    </tr>\n",
              "    <tr>\n",
              "      <th>...</th>\n",
              "      <td>...</td>\n",
              "      <td>...</td>\n",
              "      <td>...</td>\n",
              "      <td>...</td>\n",
              "      <td>...</td>\n",
              "      <td>...</td>\n",
              "      <td>...</td>\n",
              "    </tr>\n",
              "    <tr>\n",
              "      <th>283</th>\n",
              "      <td>8</td>\n",
              "      <td>2023</td>\n",
              "      <td>NaN</td>\n",
              "      <td>NaN</td>\n",
              "      <td>NaN</td>\n",
              "      <td>NaN</td>\n",
              "      <td>NaN</td>\n",
              "    </tr>\n",
              "    <tr>\n",
              "      <th>284</th>\n",
              "      <td>9</td>\n",
              "      <td>2023</td>\n",
              "      <td>NaN</td>\n",
              "      <td>NaN</td>\n",
              "      <td>NaN</td>\n",
              "      <td>NaN</td>\n",
              "      <td>NaN</td>\n",
              "    </tr>\n",
              "    <tr>\n",
              "      <th>285</th>\n",
              "      <td>10</td>\n",
              "      <td>2023</td>\n",
              "      <td>NaN</td>\n",
              "      <td>NaN</td>\n",
              "      <td>NaN</td>\n",
              "      <td>NaN</td>\n",
              "      <td>NaN</td>\n",
              "    </tr>\n",
              "    <tr>\n",
              "      <th>286</th>\n",
              "      <td>11</td>\n",
              "      <td>2023</td>\n",
              "      <td>NaN</td>\n",
              "      <td>NaN</td>\n",
              "      <td>NaN</td>\n",
              "      <td>NaN</td>\n",
              "      <td>NaN</td>\n",
              "    </tr>\n",
              "    <tr>\n",
              "      <th>287</th>\n",
              "      <td>12</td>\n",
              "      <td>2023</td>\n",
              "      <td>NaN</td>\n",
              "      <td>NaN</td>\n",
              "      <td>NaN</td>\n",
              "      <td>NaN</td>\n",
              "      <td>NaN</td>\n",
              "    </tr>\n",
              "  </tbody>\n",
              "</table>\n",
              "<p>288 rows × 7 columns</p>\n",
              "</div>\n",
              "      <button class=\"colab-df-convert\" onclick=\"convertToInteractive('df-188ac3b4-5f74-43d0-a993-53a5fdef2970')\"\n",
              "              title=\"Convert this dataframe to an interactive table.\"\n",
              "              style=\"display:none;\">\n",
              "        \n",
              "  <svg xmlns=\"http://www.w3.org/2000/svg\" height=\"24px\"viewBox=\"0 0 24 24\"\n",
              "       width=\"24px\">\n",
              "    <path d=\"M0 0h24v24H0V0z\" fill=\"none\"/>\n",
              "    <path d=\"M18.56 5.44l.94 2.06.94-2.06 2.06-.94-2.06-.94-.94-2.06-.94 2.06-2.06.94zm-11 1L8.5 8.5l.94-2.06 2.06-.94-2.06-.94L8.5 2.5l-.94 2.06-2.06.94zm10 10l.94 2.06.94-2.06 2.06-.94-2.06-.94-.94-2.06-.94 2.06-2.06.94z\"/><path d=\"M17.41 7.96l-1.37-1.37c-.4-.4-.92-.59-1.43-.59-.52 0-1.04.2-1.43.59L10.3 9.45l-7.72 7.72c-.78.78-.78 2.05 0 2.83L4 21.41c.39.39.9.59 1.41.59.51 0 1.02-.2 1.41-.59l7.78-7.78 2.81-2.81c.8-.78.8-2.07 0-2.86zM5.41 20L4 18.59l7.72-7.72 1.47 1.35L5.41 20z\"/>\n",
              "  </svg>\n",
              "      </button>\n",
              "      \n",
              "  <style>\n",
              "    .colab-df-container {\n",
              "      display:flex;\n",
              "      flex-wrap:wrap;\n",
              "      gap: 12px;\n",
              "    }\n",
              "\n",
              "    .colab-df-convert {\n",
              "      background-color: #E8F0FE;\n",
              "      border: none;\n",
              "      border-radius: 50%;\n",
              "      cursor: pointer;\n",
              "      display: none;\n",
              "      fill: #1967D2;\n",
              "      height: 32px;\n",
              "      padding: 0 0 0 0;\n",
              "      width: 32px;\n",
              "    }\n",
              "\n",
              "    .colab-df-convert:hover {\n",
              "      background-color: #E2EBFA;\n",
              "      box-shadow: 0px 1px 2px rgba(60, 64, 67, 0.3), 0px 1px 3px 1px rgba(60, 64, 67, 0.15);\n",
              "      fill: #174EA6;\n",
              "    }\n",
              "\n",
              "    [theme=dark] .colab-df-convert {\n",
              "      background-color: #3B4455;\n",
              "      fill: #D2E3FC;\n",
              "    }\n",
              "\n",
              "    [theme=dark] .colab-df-convert:hover {\n",
              "      background-color: #434B5C;\n",
              "      box-shadow: 0px 1px 3px 1px rgba(0, 0, 0, 0.15);\n",
              "      filter: drop-shadow(0px 1px 2px rgba(0, 0, 0, 0.3));\n",
              "      fill: #FFFFFF;\n",
              "    }\n",
              "  </style>\n",
              "\n",
              "      <script>\n",
              "        const buttonEl =\n",
              "          document.querySelector('#df-188ac3b4-5f74-43d0-a993-53a5fdef2970 button.colab-df-convert');\n",
              "        buttonEl.style.display =\n",
              "          google.colab.kernel.accessAllowed ? 'block' : 'none';\n",
              "\n",
              "        async function convertToInteractive(key) {\n",
              "          const element = document.querySelector('#df-188ac3b4-5f74-43d0-a993-53a5fdef2970');\n",
              "          const dataTable =\n",
              "            await google.colab.kernel.invokeFunction('convertToInteractive',\n",
              "                                                     [key], {});\n",
              "          if (!dataTable) return;\n",
              "\n",
              "          const docLinkHtml = 'Like what you see? Visit the ' +\n",
              "            '<a target=\"_blank\" href=https://colab.research.google.com/notebooks/data_table.ipynb>data table notebook</a>'\n",
              "            + ' to learn more about interactive tables.';\n",
              "          element.innerHTML = '';\n",
              "          dataTable['output_type'] = 'display_data';\n",
              "          await google.colab.output.renderOutput(dataTable, element);\n",
              "          const docLink = document.createElement('div');\n",
              "          docLink.innerHTML = docLinkHtml;\n",
              "          element.appendChild(docLink);\n",
              "        }\n",
              "      </script>\n",
              "    </div>\n",
              "  </div>\n",
              "  "
            ]
          },
          "metadata": {},
          "execution_count": 17
        }
      ]
    },
    {
      "cell_type": "code",
      "source": [
        "impuestos.head(12)"
      ],
      "metadata": {
        "colab": {
          "base_uri": "https://localhost:8080/",
          "height": 425
        },
        "id": "BiZ4CzGd9UK2",
        "outputId": "df3a1d2e-0f52-4d6c-daa2-e8b86b2ccc3b"
      },
      "id": "BiZ4CzGd9UK2",
      "execution_count": 18,
      "outputs": [
        {
          "output_type": "execute_result",
          "data": {
            "text/plain": [
              "    Mes   Año  Ingresos Varios  Ingresos Brutos  Inmobiliario   Automotor  \\\n",
              "0     1  2000       4925476.00      18843926.00    1781596.00  1991123.00   \n",
              "1     2  2000       2363495.00      16258743.00   11819577.00  2922430.00   \n",
              "2     3  2000       3238795.00      17468327.00    3654542.00 10795541.00   \n",
              "3     4  2000       2420553.00      17463084.00    4631617.00  2993672.00   \n",
              "4     5  2000       2910477.00      15978692.00    2282175.00  6414061.00   \n",
              "5     6  2000       2992103.00      14676011.00    6058065.00  2621789.00   \n",
              "6     7  2000       3986098.00      15299790.00    2576257.00  6927012.00   \n",
              "7     8  2000       2911897.00      15802483.00    4604708.00  2820010.00   \n",
              "8     9  2000       2729553.00      15756538.00    2089292.00  6327725.00   \n",
              "9    10  2000       2239812.00      15731005.00    5094736.00  2838513.00   \n",
              "10   11  2000       2300925.00      15660556.00    1801204.00  3241242.00   \n",
              "11   12  2000       3994951.00      16032799.00    1859617.00  2331999.00   \n",
              "\n",
              "       Sellos  \n",
              "0  4960397.00  \n",
              "1  3497740.00  \n",
              "2  3726054.00  \n",
              "3  4336669.00  \n",
              "4  3439462.00  \n",
              "5  3670132.00  \n",
              "6  4013424.00  \n",
              "7  3911091.00  \n",
              "8  4597739.00  \n",
              "9  4199000.00  \n",
              "10 3834782.00  \n",
              "11 3620270.00  "
            ],
            "text/html": [
              "\n",
              "  <div id=\"df-d015e407-0347-4f46-ac63-685fea3682af\">\n",
              "    <div class=\"colab-df-container\">\n",
              "      <div>\n",
              "<style scoped>\n",
              "    .dataframe tbody tr th:only-of-type {\n",
              "        vertical-align: middle;\n",
              "    }\n",
              "\n",
              "    .dataframe tbody tr th {\n",
              "        vertical-align: top;\n",
              "    }\n",
              "\n",
              "    .dataframe thead th {\n",
              "        text-align: right;\n",
              "    }\n",
              "</style>\n",
              "<table border=\"1\" class=\"dataframe\">\n",
              "  <thead>\n",
              "    <tr style=\"text-align: right;\">\n",
              "      <th></th>\n",
              "      <th>Mes</th>\n",
              "      <th>Año</th>\n",
              "      <th>Ingresos Varios</th>\n",
              "      <th>Ingresos Brutos</th>\n",
              "      <th>Inmobiliario</th>\n",
              "      <th>Automotor</th>\n",
              "      <th>Sellos</th>\n",
              "    </tr>\n",
              "  </thead>\n",
              "  <tbody>\n",
              "    <tr>\n",
              "      <th>0</th>\n",
              "      <td>1</td>\n",
              "      <td>2000</td>\n",
              "      <td>4925476.00</td>\n",
              "      <td>18843926.00</td>\n",
              "      <td>1781596.00</td>\n",
              "      <td>1991123.00</td>\n",
              "      <td>4960397.00</td>\n",
              "    </tr>\n",
              "    <tr>\n",
              "      <th>1</th>\n",
              "      <td>2</td>\n",
              "      <td>2000</td>\n",
              "      <td>2363495.00</td>\n",
              "      <td>16258743.00</td>\n",
              "      <td>11819577.00</td>\n",
              "      <td>2922430.00</td>\n",
              "      <td>3497740.00</td>\n",
              "    </tr>\n",
              "    <tr>\n",
              "      <th>2</th>\n",
              "      <td>3</td>\n",
              "      <td>2000</td>\n",
              "      <td>3238795.00</td>\n",
              "      <td>17468327.00</td>\n",
              "      <td>3654542.00</td>\n",
              "      <td>10795541.00</td>\n",
              "      <td>3726054.00</td>\n",
              "    </tr>\n",
              "    <tr>\n",
              "      <th>3</th>\n",
              "      <td>4</td>\n",
              "      <td>2000</td>\n",
              "      <td>2420553.00</td>\n",
              "      <td>17463084.00</td>\n",
              "      <td>4631617.00</td>\n",
              "      <td>2993672.00</td>\n",
              "      <td>4336669.00</td>\n",
              "    </tr>\n",
              "    <tr>\n",
              "      <th>4</th>\n",
              "      <td>5</td>\n",
              "      <td>2000</td>\n",
              "      <td>2910477.00</td>\n",
              "      <td>15978692.00</td>\n",
              "      <td>2282175.00</td>\n",
              "      <td>6414061.00</td>\n",
              "      <td>3439462.00</td>\n",
              "    </tr>\n",
              "    <tr>\n",
              "      <th>5</th>\n",
              "      <td>6</td>\n",
              "      <td>2000</td>\n",
              "      <td>2992103.00</td>\n",
              "      <td>14676011.00</td>\n",
              "      <td>6058065.00</td>\n",
              "      <td>2621789.00</td>\n",
              "      <td>3670132.00</td>\n",
              "    </tr>\n",
              "    <tr>\n",
              "      <th>6</th>\n",
              "      <td>7</td>\n",
              "      <td>2000</td>\n",
              "      <td>3986098.00</td>\n",
              "      <td>15299790.00</td>\n",
              "      <td>2576257.00</td>\n",
              "      <td>6927012.00</td>\n",
              "      <td>4013424.00</td>\n",
              "    </tr>\n",
              "    <tr>\n",
              "      <th>7</th>\n",
              "      <td>8</td>\n",
              "      <td>2000</td>\n",
              "      <td>2911897.00</td>\n",
              "      <td>15802483.00</td>\n",
              "      <td>4604708.00</td>\n",
              "      <td>2820010.00</td>\n",
              "      <td>3911091.00</td>\n",
              "    </tr>\n",
              "    <tr>\n",
              "      <th>8</th>\n",
              "      <td>9</td>\n",
              "      <td>2000</td>\n",
              "      <td>2729553.00</td>\n",
              "      <td>15756538.00</td>\n",
              "      <td>2089292.00</td>\n",
              "      <td>6327725.00</td>\n",
              "      <td>4597739.00</td>\n",
              "    </tr>\n",
              "    <tr>\n",
              "      <th>9</th>\n",
              "      <td>10</td>\n",
              "      <td>2000</td>\n",
              "      <td>2239812.00</td>\n",
              "      <td>15731005.00</td>\n",
              "      <td>5094736.00</td>\n",
              "      <td>2838513.00</td>\n",
              "      <td>4199000.00</td>\n",
              "    </tr>\n",
              "    <tr>\n",
              "      <th>10</th>\n",
              "      <td>11</td>\n",
              "      <td>2000</td>\n",
              "      <td>2300925.00</td>\n",
              "      <td>15660556.00</td>\n",
              "      <td>1801204.00</td>\n",
              "      <td>3241242.00</td>\n",
              "      <td>3834782.00</td>\n",
              "    </tr>\n",
              "    <tr>\n",
              "      <th>11</th>\n",
              "      <td>12</td>\n",
              "      <td>2000</td>\n",
              "      <td>3994951.00</td>\n",
              "      <td>16032799.00</td>\n",
              "      <td>1859617.00</td>\n",
              "      <td>2331999.00</td>\n",
              "      <td>3620270.00</td>\n",
              "    </tr>\n",
              "  </tbody>\n",
              "</table>\n",
              "</div>\n",
              "      <button class=\"colab-df-convert\" onclick=\"convertToInteractive('df-d015e407-0347-4f46-ac63-685fea3682af')\"\n",
              "              title=\"Convert this dataframe to an interactive table.\"\n",
              "              style=\"display:none;\">\n",
              "        \n",
              "  <svg xmlns=\"http://www.w3.org/2000/svg\" height=\"24px\"viewBox=\"0 0 24 24\"\n",
              "       width=\"24px\">\n",
              "    <path d=\"M0 0h24v24H0V0z\" fill=\"none\"/>\n",
              "    <path d=\"M18.56 5.44l.94 2.06.94-2.06 2.06-.94-2.06-.94-.94-2.06-.94 2.06-2.06.94zm-11 1L8.5 8.5l.94-2.06 2.06-.94-2.06-.94L8.5 2.5l-.94 2.06-2.06.94zm10 10l.94 2.06.94-2.06 2.06-.94-2.06-.94-.94-2.06-.94 2.06-2.06.94z\"/><path d=\"M17.41 7.96l-1.37-1.37c-.4-.4-.92-.59-1.43-.59-.52 0-1.04.2-1.43.59L10.3 9.45l-7.72 7.72c-.78.78-.78 2.05 0 2.83L4 21.41c.39.39.9.59 1.41.59.51 0 1.02-.2 1.41-.59l7.78-7.78 2.81-2.81c.8-.78.8-2.07 0-2.86zM5.41 20L4 18.59l7.72-7.72 1.47 1.35L5.41 20z\"/>\n",
              "  </svg>\n",
              "      </button>\n",
              "      \n",
              "  <style>\n",
              "    .colab-df-container {\n",
              "      display:flex;\n",
              "      flex-wrap:wrap;\n",
              "      gap: 12px;\n",
              "    }\n",
              "\n",
              "    .colab-df-convert {\n",
              "      background-color: #E8F0FE;\n",
              "      border: none;\n",
              "      border-radius: 50%;\n",
              "      cursor: pointer;\n",
              "      display: none;\n",
              "      fill: #1967D2;\n",
              "      height: 32px;\n",
              "      padding: 0 0 0 0;\n",
              "      width: 32px;\n",
              "    }\n",
              "\n",
              "    .colab-df-convert:hover {\n",
              "      background-color: #E2EBFA;\n",
              "      box-shadow: 0px 1px 2px rgba(60, 64, 67, 0.3), 0px 1px 3px 1px rgba(60, 64, 67, 0.15);\n",
              "      fill: #174EA6;\n",
              "    }\n",
              "\n",
              "    [theme=dark] .colab-df-convert {\n",
              "      background-color: #3B4455;\n",
              "      fill: #D2E3FC;\n",
              "    }\n",
              "\n",
              "    [theme=dark] .colab-df-convert:hover {\n",
              "      background-color: #434B5C;\n",
              "      box-shadow: 0px 1px 3px 1px rgba(0, 0, 0, 0.15);\n",
              "      filter: drop-shadow(0px 1px 2px rgba(0, 0, 0, 0.3));\n",
              "      fill: #FFFFFF;\n",
              "    }\n",
              "  </style>\n",
              "\n",
              "      <script>\n",
              "        const buttonEl =\n",
              "          document.querySelector('#df-d015e407-0347-4f46-ac63-685fea3682af button.colab-df-convert');\n",
              "        buttonEl.style.display =\n",
              "          google.colab.kernel.accessAllowed ? 'block' : 'none';\n",
              "\n",
              "        async function convertToInteractive(key) {\n",
              "          const element = document.querySelector('#df-d015e407-0347-4f46-ac63-685fea3682af');\n",
              "          const dataTable =\n",
              "            await google.colab.kernel.invokeFunction('convertToInteractive',\n",
              "                                                     [key], {});\n",
              "          if (!dataTable) return;\n",
              "\n",
              "          const docLinkHtml = 'Like what you see? Visit the ' +\n",
              "            '<a target=\"_blank\" href=https://colab.research.google.com/notebooks/data_table.ipynb>data table notebook</a>'\n",
              "            + ' to learn more about interactive tables.';\n",
              "          element.innerHTML = '';\n",
              "          dataTable['output_type'] = 'display_data';\n",
              "          await google.colab.output.renderOutput(dataTable, element);\n",
              "          const docLink = document.createElement('div');\n",
              "          docLink.innerHTML = docLinkHtml;\n",
              "          element.appendChild(docLink);\n",
              "        }\n",
              "      </script>\n",
              "    </div>\n",
              "  </div>\n",
              "  "
            ]
          },
          "metadata": {},
          "execution_count": 18
        }
      ]
    },
    {
      "cell_type": "code",
      "source": [
        "impuestos.tail(12)"
      ],
      "metadata": {
        "colab": {
          "base_uri": "https://localhost:8080/",
          "height": 425
        },
        "id": "qi4Xb6tkmmWS",
        "outputId": "fd5a1011-8759-4f41-ce65-f474fb0c37ce"
      },
      "id": "qi4Xb6tkmmWS",
      "execution_count": 19,
      "outputs": [
        {
          "output_type": "execute_result",
          "data": {
            "text/plain": [
              "     Mes   Año  Ingresos Varios  Ingresos Brutos  Inmobiliario     Automotor  \\\n",
              "276    1  2023     263252907.00   14525560710.00  186486015.00  505997590.00   \n",
              "277    2  2023     294564657.00   14960067498.00 2559393651.00 1452375201.00   \n",
              "278    3  2023              NaN              NaN           NaN           NaN   \n",
              "279    4  2023              NaN              NaN           NaN           NaN   \n",
              "280    5  2023              NaN              NaN           NaN           NaN   \n",
              "281    6  2023              NaN              NaN           NaN           NaN   \n",
              "282    7  2023              NaN              NaN           NaN           NaN   \n",
              "283    8  2023              NaN              NaN           NaN           NaN   \n",
              "284    9  2023              NaN              NaN           NaN           NaN   \n",
              "285   10  2023              NaN              NaN           NaN           NaN   \n",
              "286   11  2023              NaN              NaN           NaN           NaN   \n",
              "287   12  2023              NaN              NaN           NaN           NaN   \n",
              "\n",
              "           Sellos  \n",
              "276 1738678400.00  \n",
              "277 1300150395.00  \n",
              "278           NaN  \n",
              "279           NaN  \n",
              "280           NaN  \n",
              "281           NaN  \n",
              "282           NaN  \n",
              "283           NaN  \n",
              "284           NaN  \n",
              "285           NaN  \n",
              "286           NaN  \n",
              "287           NaN  "
            ],
            "text/html": [
              "\n",
              "  <div id=\"df-8195ca37-ce08-4aaf-bbe2-d2e45a2060e8\">\n",
              "    <div class=\"colab-df-container\">\n",
              "      <div>\n",
              "<style scoped>\n",
              "    .dataframe tbody tr th:only-of-type {\n",
              "        vertical-align: middle;\n",
              "    }\n",
              "\n",
              "    .dataframe tbody tr th {\n",
              "        vertical-align: top;\n",
              "    }\n",
              "\n",
              "    .dataframe thead th {\n",
              "        text-align: right;\n",
              "    }\n",
              "</style>\n",
              "<table border=\"1\" class=\"dataframe\">\n",
              "  <thead>\n",
              "    <tr style=\"text-align: right;\">\n",
              "      <th></th>\n",
              "      <th>Mes</th>\n",
              "      <th>Año</th>\n",
              "      <th>Ingresos Varios</th>\n",
              "      <th>Ingresos Brutos</th>\n",
              "      <th>Inmobiliario</th>\n",
              "      <th>Automotor</th>\n",
              "      <th>Sellos</th>\n",
              "    </tr>\n",
              "  </thead>\n",
              "  <tbody>\n",
              "    <tr>\n",
              "      <th>276</th>\n",
              "      <td>1</td>\n",
              "      <td>2023</td>\n",
              "      <td>263252907.00</td>\n",
              "      <td>14525560710.00</td>\n",
              "      <td>186486015.00</td>\n",
              "      <td>505997590.00</td>\n",
              "      <td>1738678400.00</td>\n",
              "    </tr>\n",
              "    <tr>\n",
              "      <th>277</th>\n",
              "      <td>2</td>\n",
              "      <td>2023</td>\n",
              "      <td>294564657.00</td>\n",
              "      <td>14960067498.00</td>\n",
              "      <td>2559393651.00</td>\n",
              "      <td>1452375201.00</td>\n",
              "      <td>1300150395.00</td>\n",
              "    </tr>\n",
              "    <tr>\n",
              "      <th>278</th>\n",
              "      <td>3</td>\n",
              "      <td>2023</td>\n",
              "      <td>NaN</td>\n",
              "      <td>NaN</td>\n",
              "      <td>NaN</td>\n",
              "      <td>NaN</td>\n",
              "      <td>NaN</td>\n",
              "    </tr>\n",
              "    <tr>\n",
              "      <th>279</th>\n",
              "      <td>4</td>\n",
              "      <td>2023</td>\n",
              "      <td>NaN</td>\n",
              "      <td>NaN</td>\n",
              "      <td>NaN</td>\n",
              "      <td>NaN</td>\n",
              "      <td>NaN</td>\n",
              "    </tr>\n",
              "    <tr>\n",
              "      <th>280</th>\n",
              "      <td>5</td>\n",
              "      <td>2023</td>\n",
              "      <td>NaN</td>\n",
              "      <td>NaN</td>\n",
              "      <td>NaN</td>\n",
              "      <td>NaN</td>\n",
              "      <td>NaN</td>\n",
              "    </tr>\n",
              "    <tr>\n",
              "      <th>281</th>\n",
              "      <td>6</td>\n",
              "      <td>2023</td>\n",
              "      <td>NaN</td>\n",
              "      <td>NaN</td>\n",
              "      <td>NaN</td>\n",
              "      <td>NaN</td>\n",
              "      <td>NaN</td>\n",
              "    </tr>\n",
              "    <tr>\n",
              "      <th>282</th>\n",
              "      <td>7</td>\n",
              "      <td>2023</td>\n",
              "      <td>NaN</td>\n",
              "      <td>NaN</td>\n",
              "      <td>NaN</td>\n",
              "      <td>NaN</td>\n",
              "      <td>NaN</td>\n",
              "    </tr>\n",
              "    <tr>\n",
              "      <th>283</th>\n",
              "      <td>8</td>\n",
              "      <td>2023</td>\n",
              "      <td>NaN</td>\n",
              "      <td>NaN</td>\n",
              "      <td>NaN</td>\n",
              "      <td>NaN</td>\n",
              "      <td>NaN</td>\n",
              "    </tr>\n",
              "    <tr>\n",
              "      <th>284</th>\n",
              "      <td>9</td>\n",
              "      <td>2023</td>\n",
              "      <td>NaN</td>\n",
              "      <td>NaN</td>\n",
              "      <td>NaN</td>\n",
              "      <td>NaN</td>\n",
              "      <td>NaN</td>\n",
              "    </tr>\n",
              "    <tr>\n",
              "      <th>285</th>\n",
              "      <td>10</td>\n",
              "      <td>2023</td>\n",
              "      <td>NaN</td>\n",
              "      <td>NaN</td>\n",
              "      <td>NaN</td>\n",
              "      <td>NaN</td>\n",
              "      <td>NaN</td>\n",
              "    </tr>\n",
              "    <tr>\n",
              "      <th>286</th>\n",
              "      <td>11</td>\n",
              "      <td>2023</td>\n",
              "      <td>NaN</td>\n",
              "      <td>NaN</td>\n",
              "      <td>NaN</td>\n",
              "      <td>NaN</td>\n",
              "      <td>NaN</td>\n",
              "    </tr>\n",
              "    <tr>\n",
              "      <th>287</th>\n",
              "      <td>12</td>\n",
              "      <td>2023</td>\n",
              "      <td>NaN</td>\n",
              "      <td>NaN</td>\n",
              "      <td>NaN</td>\n",
              "      <td>NaN</td>\n",
              "      <td>NaN</td>\n",
              "    </tr>\n",
              "  </tbody>\n",
              "</table>\n",
              "</div>\n",
              "      <button class=\"colab-df-convert\" onclick=\"convertToInteractive('df-8195ca37-ce08-4aaf-bbe2-d2e45a2060e8')\"\n",
              "              title=\"Convert this dataframe to an interactive table.\"\n",
              "              style=\"display:none;\">\n",
              "        \n",
              "  <svg xmlns=\"http://www.w3.org/2000/svg\" height=\"24px\"viewBox=\"0 0 24 24\"\n",
              "       width=\"24px\">\n",
              "    <path d=\"M0 0h24v24H0V0z\" fill=\"none\"/>\n",
              "    <path d=\"M18.56 5.44l.94 2.06.94-2.06 2.06-.94-2.06-.94-.94-2.06-.94 2.06-2.06.94zm-11 1L8.5 8.5l.94-2.06 2.06-.94-2.06-.94L8.5 2.5l-.94 2.06-2.06.94zm10 10l.94 2.06.94-2.06 2.06-.94-2.06-.94-.94-2.06-.94 2.06-2.06.94z\"/><path d=\"M17.41 7.96l-1.37-1.37c-.4-.4-.92-.59-1.43-.59-.52 0-1.04.2-1.43.59L10.3 9.45l-7.72 7.72c-.78.78-.78 2.05 0 2.83L4 21.41c.39.39.9.59 1.41.59.51 0 1.02-.2 1.41-.59l7.78-7.78 2.81-2.81c.8-.78.8-2.07 0-2.86zM5.41 20L4 18.59l7.72-7.72 1.47 1.35L5.41 20z\"/>\n",
              "  </svg>\n",
              "      </button>\n",
              "      \n",
              "  <style>\n",
              "    .colab-df-container {\n",
              "      display:flex;\n",
              "      flex-wrap:wrap;\n",
              "      gap: 12px;\n",
              "    }\n",
              "\n",
              "    .colab-df-convert {\n",
              "      background-color: #E8F0FE;\n",
              "      border: none;\n",
              "      border-radius: 50%;\n",
              "      cursor: pointer;\n",
              "      display: none;\n",
              "      fill: #1967D2;\n",
              "      height: 32px;\n",
              "      padding: 0 0 0 0;\n",
              "      width: 32px;\n",
              "    }\n",
              "\n",
              "    .colab-df-convert:hover {\n",
              "      background-color: #E2EBFA;\n",
              "      box-shadow: 0px 1px 2px rgba(60, 64, 67, 0.3), 0px 1px 3px 1px rgba(60, 64, 67, 0.15);\n",
              "      fill: #174EA6;\n",
              "    }\n",
              "\n",
              "    [theme=dark] .colab-df-convert {\n",
              "      background-color: #3B4455;\n",
              "      fill: #D2E3FC;\n",
              "    }\n",
              "\n",
              "    [theme=dark] .colab-df-convert:hover {\n",
              "      background-color: #434B5C;\n",
              "      box-shadow: 0px 1px 3px 1px rgba(0, 0, 0, 0.15);\n",
              "      filter: drop-shadow(0px 1px 2px rgba(0, 0, 0, 0.3));\n",
              "      fill: #FFFFFF;\n",
              "    }\n",
              "  </style>\n",
              "\n",
              "      <script>\n",
              "        const buttonEl =\n",
              "          document.querySelector('#df-8195ca37-ce08-4aaf-bbe2-d2e45a2060e8 button.colab-df-convert');\n",
              "        buttonEl.style.display =\n",
              "          google.colab.kernel.accessAllowed ? 'block' : 'none';\n",
              "\n",
              "        async function convertToInteractive(key) {\n",
              "          const element = document.querySelector('#df-8195ca37-ce08-4aaf-bbe2-d2e45a2060e8');\n",
              "          const dataTable =\n",
              "            await google.colab.kernel.invokeFunction('convertToInteractive',\n",
              "                                                     [key], {});\n",
              "          if (!dataTable) return;\n",
              "\n",
              "          const docLinkHtml = 'Like what you see? Visit the ' +\n",
              "            '<a target=\"_blank\" href=https://colab.research.google.com/notebooks/data_table.ipynb>data table notebook</a>'\n",
              "            + ' to learn more about interactive tables.';\n",
              "          element.innerHTML = '';\n",
              "          dataTable['output_type'] = 'display_data';\n",
              "          await google.colab.output.renderOutput(dataTable, element);\n",
              "          const docLink = document.createElement('div');\n",
              "          docLink.innerHTML = docLinkHtml;\n",
              "          element.appendChild(docLink);\n",
              "        }\n",
              "      </script>\n",
              "    </div>\n",
              "  </div>\n",
              "  "
            ]
          },
          "metadata": {},
          "execution_count": 19
        }
      ]
    },
    {
      "cell_type": "markdown",
      "source": [
        "<p align=\"justify\"><b>\n",
        "<font color=\"DeepPink\">\n",
        "✅ Ya tenemos nuestro dataframe correspondiente a todos los ejercicios fiscales con los datos numéricos.\n",
        "</font>\n",
        "</p>\n",
        "\n"
      ],
      "metadata": {
        "id": "5p8DucWqC1IN"
      },
      "id": "5p8DucWqC1IN"
    },
    {
      "cell_type": "markdown",
      "source": [
        "## 🔹 <font color=\"RoyalBlue\">**Primeros gráficos**</font>"
      ],
      "metadata": {
        "id": "xekqWQZAnPVl"
      },
      "id": "xekqWQZAnPVl"
    },
    {
      "cell_type": "markdown",
      "source": [
        "<p align=\"justify\">\n",
        "<font color=\"DeepPink\">\n",
        "\n",
        "> **En virtud de los datos, generar cinco gráficos relevantes...**\n",
        "</font>\n",
        "</p>"
      ],
      "metadata": {
        "id": "ZwsZ2_2ynhRK"
      },
      "id": "ZwsZ2_2ynhRK"
    },
    {
      "cell_type": "markdown",
      "id": "cc2cb851-466f-40ca-bc0d-3341d7d0553c",
      "metadata": {
        "id": "cc2cb851-466f-40ca-bc0d-3341d7d0553c"
      },
      "source": [
        "# 😀"
      ]
    }
  ],
  "metadata": {
    "kernelspec": {
      "display_name": "Python 3 (ipykernel)",
      "language": "python",
      "name": "python3"
    },
    "language_info": {
      "codemirror_mode": {
        "name": "ipython",
        "version": 3
      },
      "file_extension": ".py",
      "mimetype": "text/x-python",
      "name": "python",
      "nbconvert_exporter": "python",
      "pygments_lexer": "ipython3",
      "version": "3.10.2"
    },
    "toc-autonumbering": false,
    "toc-showmarkdowntxt": false,
    "colab": {
      "provenance": [],
      "collapsed_sections": [
        "87a2fb36-8011-44e0-a07a-19d19d7e7d15"
      ],
      "toc_visible": true,
      "include_colab_link": true
    }
  },
  "nbformat": 4,
  "nbformat_minor": 5
}