{
  "cells": [
    {
      "cell_type": "markdown",
      "metadata": {
        "id": "view-in-github",
        "colab_type": "text"
      },
      "source": [
        "<a href=\"https://colab.research.google.com/github/cristiandarioortegayubro/P4DA/blob/main/Actividad_002.ipynb\" target=\"_parent\"><img src=\"https://colab.research.google.com/assets/colab-badge.svg\" alt=\"Open In Colab\"/></a>"
      ]
    },
    {
      "cell_type": "markdown",
      "source": [
        "![](https://github.com/cristiandarioortegayubro/P4DA/blob/main/Logo.png?raw=true)"
      ],
      "metadata": {
        "id": "uBHtO3tbUBGA"
      },
      "id": "uBHtO3tbUBGA"
    },
    {
      "cell_type": "markdown",
      "id": "49f579e7",
      "metadata": {
        "id": "49f579e7"
      },
      "source": [
        "![logo](https://www.python.org/static/community_logos/python-powered-h-70x91.png)"
      ]
    },
    {
      "cell_type": "markdown",
      "id": "6e754985-cdd9-4a64-9d7f-fcfbfa78abef",
      "metadata": {
        "id": "6e754985-cdd9-4a64-9d7f-fcfbfa78abef"
      },
      "source": [
        "# ☯ <font color=\"RoyalBlue\">**Actividad 002**</font>"
      ]
    },
    {
      "cell_type": "markdown",
      "id": "0704d660-cd44-4b7e-918d-65a4633e915e",
      "metadata": {
        "id": "0704d660-cd44-4b7e-918d-65a4633e915e"
      },
      "source": [
        "## 🔹 <font color=\"RoyalBlue\">**Habilitando pandas**</font>"
      ]
    },
    {
      "cell_type": "code",
      "source": [
        "# mi código aquí"
      ],
      "metadata": {
        "id": "OB3plSng-CbD"
      },
      "id": "OB3plSng-CbD",
      "execution_count": null,
      "outputs": []
    },
    {
      "cell_type": "markdown",
      "source": [
        "## 🔹 <font color=\"RoyalBlue\">**Datos**</font>"
      ],
      "metadata": {
        "id": "qPTuQcuA-P4U"
      },
      "id": "qPTuQcuA-P4U"
    },
    {
      "cell_type": "code",
      "source": [
        "# datos = \"https://raw.githubusercontent.com/cristiandarioortegayubro/base/main/dataset/departamento.csv\""
      ],
      "metadata": {
        "id": "BchlqxiONWC1"
      },
      "id": "BchlqxiONWC1",
      "execution_count": null,
      "outputs": []
    },
    {
      "cell_type": "markdown",
      "source": [
        "## 🔹 <font color=\"RoyalBlue\">**Creación del DataFrame**</font>"
      ],
      "metadata": {
        "id": "u7SgflgMAcqv"
      },
      "id": "u7SgflgMAcqv"
    },
    {
      "cell_type": "markdown",
      "source": [
        "<p>\n",
        "<font color=\"DarkBlue\">\n",
        "\n",
        "> **Generar el dataframe** \n",
        "</font>\n",
        "</p>\n"
      ],
      "metadata": {
        "id": "jCrAiX2J-aa1"
      },
      "id": "jCrAiX2J-aa1"
    },
    {
      "cell_type": "code",
      "source": [
        "# mi código aquí"
      ],
      "metadata": {
        "id": "vHaKqi8-_fCl"
      },
      "id": "vHaKqi8-_fCl",
      "execution_count": null,
      "outputs": []
    },
    {
      "cell_type": "markdown",
      "source": [
        "## 🔹 <font color=\"RoyalBlue\">**A divertirse... 😃**</font>"
      ],
      "metadata": {
        "id": "T34YSDVbEsEx"
      },
      "id": "T34YSDVbEsEx"
    },
    {
      "cell_type": "markdown",
      "source": [
        "<p>\n",
        "<font color=\"DarkBlue\">\n",
        "\n",
        "> **Visualizar solamente la columna (serie) dolares... y creamos esa serie...** \n",
        "</font>\n",
        "</p>\n"
      ],
      "metadata": {
        "id": "m36nQvskHvGG"
      },
      "id": "m36nQvskHvGG"
    },
    {
      "cell_type": "code",
      "source": [
        "# mi código aquí"
      ],
      "metadata": {
        "id": "vmRVOpP0HxVR"
      },
      "id": "vmRVOpP0HxVR",
      "execution_count": null,
      "outputs": []
    },
    {
      "cell_type": "markdown",
      "source": [
        "<p>\n",
        "<font color=\"DarkBlue\">\n",
        "\n",
        "> **Buscamos pasar la serie anterior a dataframe...usando el metodo ```to.frame()```** \n",
        "</font>\n",
        "</p>\n"
      ],
      "metadata": {
        "id": "a1Rh8OQSKjz-"
      },
      "id": "a1Rh8OQSKjz-"
    },
    {
      "cell_type": "code",
      "source": [
        "# mi código aquí"
      ],
      "metadata": {
        "id": "DkWpZE1SHxIl"
      },
      "id": "DkWpZE1SHxIl",
      "execution_count": null,
      "outputs": []
    },
    {
      "cell_type": "markdown",
      "source": [
        "<p>\n",
        "<font color=\"DarkBlue\">\n",
        "\n",
        "> **Mostrar en pantalla ```print()``` los $m^2$ de los departamentos...** \n",
        "</font>\n",
        "</p>\n"
      ],
      "metadata": {
        "id": "sjllm0H_Kqo7"
      },
      "id": "sjllm0H_Kqo7"
    },
    {
      "cell_type": "code",
      "source": [
        "# mi código aquí"
      ],
      "metadata": {
        "id": "EBH5vZwlHw-4"
      },
      "id": "EBH5vZwlHw-4",
      "execution_count": null,
      "outputs": []
    },
    {
      "cell_type": "markdown",
      "source": [
        "<p>\n",
        "<font color=\"DarkBlue\">\n",
        "\n",
        "> **Crear una nueva columna llamada PAIS y rellenarla con \"Argentina\"...** \n",
        "</font>\n",
        "</p>\n"
      ],
      "metadata": {
        "id": "pUOyjDu8LeuG"
      },
      "id": "pUOyjDu8LeuG"
    },
    {
      "cell_type": "code",
      "source": [
        "# mi código aquí"
      ],
      "metadata": {
        "id": "r2IV4Nw1HwpS"
      },
      "id": "r2IV4Nw1HwpS",
      "execution_count": null,
      "outputs": []
    },
    {
      "cell_type": "markdown",
      "source": [
        "<p>\n",
        "<font color=\"DarkBlue\">\n",
        "\n",
        "> **Ahora una nueva columna llamada CONTINENTE y rellenarla con \"America\"...** \n",
        "</font>\n",
        "</p>\n"
      ],
      "metadata": {
        "id": "XFzumpdZM5Ok"
      },
      "id": "XFzumpdZM5Ok"
    },
    {
      "cell_type": "code",
      "source": [
        "# mi código aquí"
      ],
      "metadata": {
        "id": "dBucq6J8KlMe"
      },
      "id": "dBucq6J8KlMe",
      "execution_count": null,
      "outputs": []
    },
    {
      "cell_type": "markdown",
      "source": [
        "<p>\n",
        "<font color=\"DarkBlue\">\n",
        "\n",
        "> **Generar una columna que se llame PESOS cuyo valor sea DOLARES $\\times$ $300$...** \n",
        "</font>\n",
        "</p>\n"
      ],
      "metadata": {
        "id": "Rm9UVIBDOVpH"
      },
      "id": "Rm9UVIBDOVpH"
    },
    {
      "cell_type": "code",
      "source": [
        "# mi código aquí"
      ],
      "metadata": {
        "id": "nHbiAIA5M6gl"
      },
      "id": "nHbiAIA5M6gl",
      "execution_count": null,
      "outputs": []
    },
    {
      "cell_type": "markdown",
      "source": [
        "<p>\n",
        "<font color=\"DarkBlue\">\n",
        "\n",
        "> **Mostrar el resumen estadistico descriptivo del dataframe...** \n",
        "</font>\n",
        "</p>\n"
      ],
      "metadata": {
        "id": "VEOIJH0bQ9UM"
      },
      "id": "VEOIJH0bQ9UM"
    },
    {
      "cell_type": "code",
      "source": [
        "# mi código aquí"
      ],
      "metadata": {
        "id": "r57rzqiSRVsl"
      },
      "id": "r57rzqiSRVsl",
      "execution_count": null,
      "outputs": []
    },
    {
      "cell_type": "markdown",
      "source": [
        "<p>\n",
        "<font color=\"DarkBlue\">\n",
        "\n",
        "> **¿Cual es la media de latitud y longitud?...** \n",
        "</font>\n",
        "</p>\n"
      ],
      "metadata": {
        "id": "JHB62YCQRGM8"
      },
      "id": "JHB62YCQRGM8"
    },
    {
      "cell_type": "code",
      "source": [
        "# mi código aquí"
      ],
      "metadata": {
        "id": "WW-gaDrpRWh3"
      },
      "id": "WW-gaDrpRWh3",
      "execution_count": null,
      "outputs": []
    },
    {
      "cell_type": "markdown",
      "source": [
        "## 🔹 <font color=\"RoyalBlue\">**Un poco más dificil... 😈**</font>"
      ],
      "metadata": {
        "id": "kxzBnscsNgSu"
      },
      "id": "kxzBnscsNgSu"
    },
    {
      "cell_type": "markdown",
      "source": [
        "---\n",
        "<p>\n",
        "<font color=\"RoyalBlue\">\n",
        "\n",
        "👀 **Para los siguientes puntos se puede consultar la documentación técnica de Pandas...** \n",
        "</font>\n",
        "</p>\n",
        "\n",
        "---"
      ],
      "metadata": {
        "id": "wY_DYxOjNxrP"
      },
      "id": "wY_DYxOjNxrP"
    },
    {
      "cell_type": "markdown",
      "source": [
        "<p>\n",
        "<font color=\"DarkBlue\">\n",
        "\n",
        "> **Verificar si existen datos nulos en el dataframe...** \n",
        "</font>\n",
        "</p>\n"
      ],
      "metadata": {
        "id": "mN_R2dD5Pf9r"
      },
      "id": "mN_R2dD5Pf9r"
    },
    {
      "cell_type": "code",
      "source": [
        "# mi código aquí"
      ],
      "metadata": {
        "id": "ac4rysxJPcMp"
      },
      "id": "ac4rysxJPcMp",
      "execution_count": null,
      "outputs": []
    },
    {
      "cell_type": "markdown",
      "source": [
        "<p>\n",
        "<font color=\"DarkBlue\">\n",
        "\n",
        "> **¿Cuantos departamentos hay por comuna?...** \n",
        "</font>\n",
        "</p>\n"
      ],
      "metadata": {
        "id": "DhaWG4VQQwRT"
      },
      "id": "DhaWG4VQQwRT"
    },
    {
      "cell_type": "code",
      "source": [
        "# mi código aquí"
      ],
      "metadata": {
        "id": "Z9QWERB8QxKt"
      },
      "id": "Z9QWERB8QxKt",
      "execution_count": null,
      "outputs": []
    },
    {
      "cell_type": "markdown",
      "source": [
        "<p>\n",
        "<font color=\"DarkBlue\">\n",
        "\n",
        "> **¿Cuantos ambientes tiene los departamentos de la comuna 14?...** \n",
        "</font>\n",
        "</p>\n"
      ],
      "metadata": {
        "id": "xTGrJ-KxQv-q"
      },
      "id": "xTGrJ-KxQv-q"
    },
    {
      "cell_type": "code",
      "source": [
        "# mi código aquí"
      ],
      "metadata": {
        "id": "MTE9HJ2DQzqk"
      },
      "id": "MTE9HJ2DQzqk",
      "execution_count": null,
      "outputs": []
    },
    {
      "cell_type": "markdown",
      "id": "db7a81dd-0eb5-4391-b855-4ab7a3ed5d06",
      "metadata": {
        "id": "db7a81dd-0eb5-4391-b855-4ab7a3ed5d06"
      },
      "source": [
        "---\n",
        "<p>\n",
        "<font color=\"RoyalBlue\">\n",
        "\n",
        "💙 💙 💙 **Hemos concluido con esta actividad, nos encontraremos en el proximo cuaderno, buen finde...** \n",
        "</font>\n",
        "</p>\n",
        "\n",
        "---"
      ]
    },
    {
      "cell_type": "markdown",
      "id": "cc2cb851-466f-40ca-bc0d-3341d7d0553c",
      "metadata": {
        "id": "cc2cb851-466f-40ca-bc0d-3341d7d0553c"
      },
      "source": [
        "# 😀"
      ]
    }
  ],
  "metadata": {
    "kernelspec": {
      "display_name": "Python 3 (ipykernel)",
      "language": "python",
      "name": "python3"
    },
    "language_info": {
      "codemirror_mode": {
        "name": "ipython",
        "version": 3
      },
      "file_extension": ".py",
      "mimetype": "text/x-python",
      "name": "python",
      "nbconvert_exporter": "python",
      "pygments_lexer": "ipython3",
      "version": "3.10.2"
    },
    "toc-autonumbering": false,
    "toc-showmarkdowntxt": false,
    "colab": {
      "provenance": [],
      "collapsed_sections": [
        "87a2fb36-8011-44e0-a07a-19d19d7e7d15"
      ],
      "include_colab_link": true
    }
  },
  "nbformat": 4,
  "nbformat_minor": 5
}