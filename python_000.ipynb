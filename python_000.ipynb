{
  "cells": [
    {
      "cell_type": "markdown",
      "metadata": {
        "id": "view-in-github",
        "colab_type": "text"
      },
      "source": [
        "<a href=\"https://colab.research.google.com/github/cristiandarioortegayubro/P4DA/blob/main/python_000.ipynb\" target=\"_parent\"><img src=\"https://colab.research.google.com/assets/colab-badge.svg\" alt=\"Open In Colab\"/></a>"
      ]
    },
    {
      "cell_type": "markdown",
      "source": [
        "![](https://github.com/cristiandarioortegayubro/P4DA/blob/main/Logo.png?raw=true)"
      ],
      "metadata": {
        "id": "8-BQxHghT3Ib"
      },
      "id": "8-BQxHghT3Ib"
    },
    {
      "cell_type": "markdown",
      "id": "49f579e7",
      "metadata": {
        "id": "49f579e7"
      },
      "source": [
        "![logo](https://www.python.org/static/community_logos/python-powered-h-70x91.png)"
      ]
    },
    {
      "cell_type": "markdown",
      "id": "bf6a62fc",
      "metadata": {
        "id": "bf6a62fc"
      },
      "source": [
        "<p>\n",
        "<font color=\"RoyalBlue\">\n",
        "\n",
        "**En este cuaderno comenzamos viendo los tipos de datos más simples de Python, los números, y también se desarrollaran operaciones matemáticas básicas, pero previo a ello, un breve contenido teórico de lo que es Python...**\n",
        "\n",
        "</font>\n",
        "</p>"
      ]
    },
    {
      "cell_type": "markdown",
      "id": "7c35b2bd-2f65-4fe7-9d37-8152ad83cab4",
      "metadata": {
        "id": "7c35b2bd-2f65-4fe7-9d37-8152ad83cab4"
      },
      "source": [
        "## **<font color=\"RoyalBlue\">Breve contenido teórico...</font>**"
      ]
    },
    {
      "cell_type": "markdown",
      "id": "6917df2b-347a-4e62-bdc2-e5f3c3ffd0bb",
      "metadata": {
        "id": "6917df2b-347a-4e62-bdc2-e5f3c3ffd0bb"
      },
      "source": [
        "Python puede ser fácil de aprender, tanto para el programador que por primera vez incursiona en el lenguaje o tenga experiencia con otros lenguajes, como para el que no es programador. Las siguientes páginas son un primer paso útil para comenzar a escribir programas y scripts con Python:\n",
        "\n",
        "*   [Guía para principiantes, no programadores](https://wiki.python.org/moin/BeginnersGuide/NonProgrammers)\n",
        "*   [Muestra de código y fragmentos para principiantes](https://wiki.python.org/moin/BeginnersGuide/Examples)\n",
        "*   [Documentación de Python](http://docs.python.org/)"
      ]
    },
    {
      "cell_type": "markdown",
      "id": "e1f73ade-bffb-4217-bf4d-4dae7171aed7",
      "metadata": {
        "id": "e1f73ade-bffb-4217-bf4d-4dae7171aed7"
      },
      "source": [
        "### **<font color=\"RoyalBlue\">Mini lecciones previas de Python</font>**"
      ]
    },
    {
      "cell_type": "markdown",
      "id": "04aad563-0655-4582-a332-eb4aee3d5039",
      "metadata": {
        "id": "04aad563-0655-4582-a332-eb4aee3d5039"
      },
      "source": [
        "#### **<font color=\"RoyalBlue\">Elementos de un script</font>**"
      ]
    },
    {
      "cell_type": "markdown",
      "id": "2fb9a29c-9256-48fa-8d31-0fd1545484bd",
      "metadata": {
        "id": "2fb9a29c-9256-48fa-8d31-0fd1545484bd"
      },
      "source": [
        "Se podría decir que un script de Python contiene expresiones y sentencias. Esas expresiones y sentencias se consiguen combinando los elementos básicos del lenguaje.\n",
        "\n",
        "El lenguaje Python está formado por elementos de diferentes tipos:\n",
        "\n",
        "- *Palabras reservadas (keywords)*\n",
        "- *Funciones integradas (built-in functions)*\n",
        "- *Literales*\n",
        "- *Operadores*\n",
        "- *Delimitadores*\n",
        "- *Identificadores*"
      ]
    },
    {
      "cell_type": "markdown",
      "id": "69097923-610c-4aab-9d1c-66bd7428daa5",
      "metadata": {
        "id": "69097923-610c-4aab-9d1c-66bd7428daa5"
      },
      "source": [
        "##### **<font color=\"RoyalBlue\">Palabras reservadas (keywords)</font>**\n",
        "\n",
        "*Algunas de las palabras reservadas de Python son las que forman el núcleo del lenguaje Python, por ahora es importante conocer algunas de ellas, durante el transcurso del desarrollo de los notebooks, usaremos algunas de estas palabras reservadas:*"
      ]
    },
    {
      "cell_type": "markdown",
      "id": "10e49cab-d98c-4e55-8cc1-ff78e3bb85d5",
      "metadata": {
        "id": "10e49cab-d98c-4e55-8cc1-ff78e3bb85d5"
      },
      "source": [
        "~~~python\n",
        "False      await      else      import     pass\n",
        "None       break      except    in         raise\n",
        "True       class      finally   is         return\n",
        "and        continue   for       lambda     try\n",
        "as         def        from      nonlocal   while\n",
        "assert     del        global    not        with\n",
        "async      elif       if        or         yield\n",
        "~~~\n"
      ]
    },
    {
      "cell_type": "markdown",
      "id": "fc98b1ea-0fd7-41b9-aa65-b34b6da8739d",
      "metadata": {
        "id": "fc98b1ea-0fd7-41b9-aa65-b34b6da8739d"
      },
      "source": [
        "*Estas palabras no pueden utilizarse para nombrar otros elementos, es decir para crear variables...*"
      ]
    },
    {
      "cell_type": "markdown",
      "id": "fa0eef3d-7bf1-47c9-94b3-a5a940a6af02",
      "metadata": {
        "id": "fa0eef3d-7bf1-47c9-94b3-a5a940a6af02"
      },
      "source": [
        "##### **<font color=\"RoyalBlue\">Funciones integradas (built-in functions)</font>**\n",
        "\n",
        "*Una función es un bloque de instrucciones agrupadas, que permiten reutilizar partes de un programa. Python incluye las siguientes funciones de forma predeterminada (estas funciones siempre están disponibles):*\n"
      ]
    },
    {
      "cell_type": "markdown",
      "id": "7da0ddad-8bf9-4112-be7c-affdbffe5059",
      "metadata": {
        "id": "7da0ddad-8bf9-4112-be7c-affdbffe5059"
      },
      "source": [
        "~~~python\n",
        "abs()         dict()      help()        min()        setattr()\n",
        "all()         dir()       hex()         next()       slice()\n",
        "any()         divmod()    id()          object()     sorted()\n",
        "enumerate()   input()     oct()         bin()        eval()      \n",
        "int()         open()      str()         bool()       exec()\n",
        "isinstance()  ord()       sum()         bytearray()  filter()\n",
        "issubclass()  pow()       super()       float()      iter()      \n",
        "print()       tuple()     callable()    format()     len()       \n",
        "property()    type()      chr()         frozenset()  list()\n",
        "range()       vars()      classmethod() getattr()    locals()     \n",
        "repr()        zip()       compile()     globals()    map()        \n",
        "reversed()    complex()   hasattr()     max()        round()\n",
        "delattr()     hash()      memoryview()  set()\n",
        "~~~"
      ]
    },
    {
      "cell_type": "markdown",
      "id": "1a82f89f-741d-4076-806f-507e954b4d27",
      "metadata": {
        "id": "1a82f89f-741d-4076-806f-507e954b4d27"
      },
      "source": [
        "##### **<font color=\"RoyalBlue\">Literales</font>**"
      ]
    },
    {
      "cell_type": "markdown",
      "id": "cde5cd82-6868-4e37-b97e-3b4e44b4c1d4",
      "metadata": {
        "id": "cde5cd82-6868-4e37-b97e-3b4e44b4c1d4"
      },
      "source": [
        "*Los literales son los datos simples que Python es capaz de manejar:*\n",
        "\n",
        "- *números*: valores lógicos, enteros, decimales y complejos, en notación decimal, octal o hexadecimal\n",
        "- *cadenas de texto*"
      ]
    },
    {
      "cell_type": "markdown",
      "id": "6b60d304-5304-4096-b267-5d816a83d9e1",
      "metadata": {
        "id": "6b60d304-5304-4096-b267-5d816a83d9e1"
      },
      "source": [
        "##### **<font color=\"RoyalBlue\">Operadores</font>**\n",
        "\n",
        "*Los operadores son los caracteres que definen operaciones matemáticas (lógicas y aritméticas). Son los siguientes:*"
      ]
    },
    {
      "cell_type": "markdown",
      "id": "8cb501d6-e34b-4a3b-8564-95a636110140",
      "metadata": {
        "id": "8cb501d6-e34b-4a3b-8564-95a636110140"
      },
      "source": [
        "~~~python\n",
        "+       -       *       **      /       //      \n",
        "<<      >>      &       |       ^       ~\n",
        "<       >       <=      >=      ==      !=\n",
        "%      @\n",
        "~~~"
      ]
    },
    {
      "cell_type": "markdown",
      "id": "9575f7b7-1244-43bb-8cad-2315bfcd08f3",
      "metadata": {
        "id": "9575f7b7-1244-43bb-8cad-2315bfcd08f3"
      },
      "source": [
        "##### **<font color=\"RoyalBlue\">Delimitadores</font>**\n",
        "\n",
        "*Los delimitadores son los caracteres que permiten delimitar, separar o representar expresiones. Son los siguientes:*"
      ]
    },
    {
      "cell_type": "markdown",
      "id": "0ee58bb6-e00d-4dde-8cb0-923285649eaf",
      "metadata": {
        "id": "0ee58bb6-e00d-4dde-8cb0-923285649eaf"
      },
      "source": [
        "~~~python\n",
        "'       \"       #       \\\n",
        "(       )       [       ]       {       }\n",
        ",       :       .       ;       @       =       ->\n",
        "+=      -=      *=      /=      //=     %=      @=\n",
        "&=      |=      ^=      >>=     <<=     **=\n",
        "~~~"
      ]
    },
    {
      "cell_type": "markdown",
      "id": "12a92a9d-5c12-493b-a2b5-a4f4f430660e",
      "metadata": {
        "id": "12a92a9d-5c12-493b-a2b5-a4f4f430660e"
      },
      "source": [
        "##### **<font color=\"RoyalBlue\">Identificadores</font>**"
      ]
    },
    {
      "cell_type": "markdown",
      "id": "3f93adc2-0db7-40ea-a439-17793aee2687",
      "metadata": {
        "id": "3f93adc2-0db7-40ea-a439-17793aee2687"
      },
      "source": [
        "*Los identificadores son las palabras que se utilizan para nombrar elementos creados por el usuario u otros usuarios. Esos elementos pueden ser variables u objetos que almacenan información, funciones que agrupan instrucciones, clases que combinan ambos, módulos que agrupan los elementos anteriores, etc.*\n",
        "\n",
        "*Los identificadores están formados por letras (mayúsculas y minúsculas), números y el carácter guion bajo (_). Pueden ser caracteres Unicode, aunque normalmente se recomienda utilizar caracteres ASCII para evitar complicaciones a usuarios de otros países que utilizan juegos de caracteres diferentes.*\n",
        "\n",
        "*El primer caracter del identificador debe ser una letra.*"
      ]
    },
    {
      "cell_type": "markdown",
      "id": "3c4e9170",
      "metadata": {
        "id": "3c4e9170"
      },
      "source": [
        "## **<font color=\"RoyalBlue\">Datos numéricos y cadenas de caracteres</font>**"
      ]
    },
    {
      "cell_type": "markdown",
      "id": "0b59ead9-0918-4860-bc1e-3a7185bd1a80",
      "metadata": {
        "id": "0b59ead9-0918-4860-bc1e-3a7185bd1a80"
      },
      "source": [
        "### **<font color=\"RoyalBlue\">Datos numéricos</font>**"
      ]
    },
    {
      "cell_type": "markdown",
      "id": "75a2e593",
      "metadata": {
        "tags": [],
        "id": "75a2e593"
      },
      "source": [
        "#### <font color=\"RoyalBlue\">**Enteros, decimales y números complejos**</font>\n",
        "\n",
        "**Los números enteros para Python son aquellos que no contienen fracciones, es decir, sin decimales. Por otro lado, los números decimales usan como separador entre la parte entera y la parte decimal al punto. En el caso de números complejos, Python puede hacer cálculos con ellos. La parte imaginaria se acompaña con la letra ```j```.**"
      ]
    },
    {
      "cell_type": "markdown",
      "id": "5feaaab9-feea-4d3b-b01a-362611caaf55",
      "metadata": {
        "id": "5feaaab9-feea-4d3b-b01a-362611caaf55"
      },
      "source": [
        "##### <font color=\"RoyalBlue\">**Enteros**</font>"
      ]
    },
    {
      "cell_type": "code",
      "execution_count": 1,
      "id": "d1d20fbd",
      "metadata": {
        "colab": {
          "base_uri": "https://localhost:8080/"
        },
        "id": "d1d20fbd",
        "outputId": "76a0fb89-e5d4-41b1-83f1-50d00652754f"
      },
      "outputs": [
        {
          "output_type": "execute_result",
          "data": {
            "text/plain": [
              "2023"
            ]
          },
          "metadata": {},
          "execution_count": 1
        }
      ],
      "source": [
        "2023"
      ]
    },
    {
      "cell_type": "markdown",
      "id": "4fc1a8b2",
      "metadata": {
        "id": "4fc1a8b2"
      },
      "source": [
        "*2023 es un número entero.*"
      ]
    },
    {
      "cell_type": "markdown",
      "id": "16fc73d1-3252-4797-ab83-000a89afae99",
      "metadata": {
        "id": "16fc73d1-3252-4797-ab83-000a89afae99"
      },
      "source": [
        "##### <font color=\"RoyalBlue\">**Decimales**</font>"
      ]
    },
    {
      "cell_type": "code",
      "execution_count": 2,
      "id": "28b60544",
      "metadata": {
        "colab": {
          "base_uri": "https://localhost:8080/"
        },
        "id": "28b60544",
        "outputId": "1b73db4a-7195-4462-ed6b-c3700225f7b7"
      },
      "outputs": [
        {
          "output_type": "execute_result",
          "data": {
            "text/plain": [
              "345.9"
            ]
          },
          "metadata": {},
          "execution_count": 2
        }
      ],
      "source": [
        "345.90"
      ]
    },
    {
      "cell_type": "markdown",
      "id": "8b0f2676",
      "metadata": {
        "id": "8b0f2676"
      },
      "source": [
        "*345.90 es un número decimal, se recuerda que la parte decimal se indica con el punto, *no con la coma*. Es decir, cualquier número entero que se le adicione un punto, pasa a ser un número decimal.*"
      ]
    },
    {
      "cell_type": "code",
      "execution_count": 3,
      "id": "72dfa33e-1b87-4ea8-8e2c-bd4271c07ead",
      "metadata": {
        "colab": {
          "base_uri": "https://localhost:8080/"
        },
        "id": "72dfa33e-1b87-4ea8-8e2c-bd4271c07ead",
        "outputId": "b10974fb-ec54-4b7b-a905-bc83970fec14"
      },
      "outputs": [
        {
          "output_type": "execute_result",
          "data": {
            "text/plain": [
              "345.0"
            ]
          },
          "metadata": {},
          "execution_count": 3
        }
      ],
      "source": [
        "345."
      ]
    },
    {
      "cell_type": "markdown",
      "id": "1af696a0-b593-4346-b9c9-ec61228d5308",
      "metadata": {
        "id": "1af696a0-b593-4346-b9c9-ec61228d5308"
      },
      "source": [
        "##### <font color=\"RoyalBlue\">**Complejos**</font>"
      ]
    },
    {
      "cell_type": "code",
      "execution_count": 4,
      "id": "488921ed",
      "metadata": {
        "colab": {
          "base_uri": "https://localhost:8080/"
        },
        "id": "488921ed",
        "outputId": "c21701d2-47b2-428f-b272-e03e287679a8"
      },
      "outputs": [
        {
          "output_type": "execute_result",
          "data": {
            "text/plain": [
              "34j"
            ]
          },
          "metadata": {},
          "execution_count": 4
        }
      ],
      "source": [
        "34j"
      ]
    },
    {
      "cell_type": "markdown",
      "id": "87c3f778",
      "metadata": {
        "id": "87c3f778"
      },
      "source": [
        "*```34j``` es un número complejo. La letra ```j``` debe colocarse a continuación del número entero o decimal.*"
      ]
    },
    {
      "cell_type": "code",
      "execution_count": 5,
      "id": "7d462d1b",
      "metadata": {
        "colab": {
          "base_uri": "https://localhost:8080/"
        },
        "id": "7d462d1b",
        "outputId": "b969dabf-1e04-443a-f072-55ee0a27dd29"
      },
      "outputs": [
        {
          "output_type": "execute_result",
          "data": {
            "text/plain": [
              "387.9j"
            ]
          },
          "metadata": {},
          "execution_count": 5
        }
      ],
      "source": [
        "387.9j"
      ]
    },
    {
      "cell_type": "markdown",
      "id": "bde3e77a-2952-4c90-93b7-b4a2058f756c",
      "metadata": {
        "id": "bde3e77a-2952-4c90-93b7-b4a2058f756c"
      },
      "source": [
        "##### **<font color=\"RoyalBlue\">Positivos y negativos</font>**"
      ]
    },
    {
      "cell_type": "markdown",
      "id": "45527b76",
      "metadata": {
        "id": "45527b76"
      },
      "source": [
        "**Se puede indicar si el número es positivo o es negativo.**"
      ]
    },
    {
      "cell_type": "code",
      "execution_count": 6,
      "id": "1aa62f1a",
      "metadata": {
        "colab": {
          "base_uri": "https://localhost:8080/"
        },
        "id": "1aa62f1a",
        "outputId": "97065951-ca9a-4581-ffb5-51c19002155c"
      },
      "outputs": [
        {
          "output_type": "execute_result",
          "data": {
            "text/plain": [
              "583.97"
            ]
          },
          "metadata": {},
          "execution_count": 6
        }
      ],
      "source": [
        "+583.97"
      ]
    },
    {
      "cell_type": "markdown",
      "id": "3c7a5b35",
      "metadata": {
        "id": "3c7a5b35"
      },
      "source": [
        "*583.97 es un número positivo, en este caso no haría falta agregar el operador + al inicio del número. Por defecto los números son positivos.*"
      ]
    },
    {
      "cell_type": "code",
      "execution_count": 7,
      "id": "4c7f9761",
      "metadata": {
        "colab": {
          "base_uri": "https://localhost:8080/"
        },
        "id": "4c7f9761",
        "outputId": "13c44431-9fb6-48b3-9cb0-f6cef048ac47"
      },
      "outputs": [
        {
          "output_type": "execute_result",
          "data": {
            "text/plain": [
              "-785.52"
            ]
          },
          "metadata": {},
          "execution_count": 7
        }
      ],
      "source": [
        "-785.52"
      ]
    },
    {
      "cell_type": "markdown",
      "id": "555ab226",
      "metadata": {
        "id": "555ab226"
      },
      "source": [
        "*-785.52 es un número negativo.*"
      ]
    },
    {
      "cell_type": "markdown",
      "id": "da742f29",
      "metadata": {
        "id": "da742f29"
      },
      "source": [
        "### <font color=\"RoyalBlue\">**Operaciones básicas**</font>"
      ]
    },
    {
      "cell_type": "markdown",
      "id": "9e6d52da",
      "metadata": {
        "id": "9e6d52da"
      },
      "source": [
        "**Las cuatro operaciones básicas son:**\n",
        "\n",
        "+ **la suma (+),**\n",
        "+ **la resta (-),** \n",
        "+ **la multiplicación (*) y** \n",
        "+ **la división (/).**\n",
        "\n",
        "*Al hacer operaciones en las que intervienen números enteros y decimales, el resultado es siempre decimal.* En el caso de que el resultado no tenga parte decimal, Python escribe 0 como parte decimal para indicar que el resultado es un número decimal"
      ]
    },
    {
      "cell_type": "markdown",
      "id": "c9243575",
      "metadata": {
        "id": "c9243575"
      },
      "source": [
        "#### <font color=\"RoyalBlue\">**Sumas y restas**</font>"
      ]
    },
    {
      "cell_type": "markdown",
      "id": "7285f5b1",
      "metadata": {
        "id": "7285f5b1"
      },
      "source": [
        "**En este caso, las sumas y las restas funcionan como esperamos que funcionen.**"
      ]
    },
    {
      "cell_type": "code",
      "execution_count": 8,
      "id": "56db9b2e",
      "metadata": {
        "colab": {
          "base_uri": "https://localhost:8080/"
        },
        "id": "56db9b2e",
        "outputId": "f4a98939-46d8-4745-a6e9-549015130fd6"
      },
      "outputs": [
        {
          "output_type": "execute_result",
          "data": {
            "text/plain": [
              "252"
            ]
          },
          "metadata": {},
          "execution_count": 8
        }
      ],
      "source": [
        "20+89+90+53"
      ]
    },
    {
      "cell_type": "markdown",
      "id": "40031c75",
      "metadata": {
        "id": "40031c75"
      },
      "source": [
        "*No es necesario dejar espacios entre los números y el símbolo +, si existen espacios Python no los tiene en cuenta.*"
      ]
    },
    {
      "cell_type": "code",
      "execution_count": 9,
      "id": "6f98fe7e",
      "metadata": {
        "colab": {
          "base_uri": "https://localhost:8080/"
        },
        "id": "6f98fe7e",
        "outputId": "5d9d2265-76e9-4189-8d82-dc63c91a5769"
      },
      "outputs": [
        {
          "output_type": "execute_result",
          "data": {
            "text/plain": [
              "252"
            ]
          },
          "metadata": {},
          "execution_count": 9
        }
      ],
      "source": [
        "20 + 89    +        90                +                     53"
      ]
    },
    {
      "cell_type": "markdown",
      "id": "a0579733",
      "metadata": {
        "id": "a0579733"
      },
      "source": [
        "+ **Las operaciones de números enteros, dan por resultados números enteros.**\n",
        "+ **Las operaciones de números decimales, dan por resultados números decimales.**\n",
        "+ **Las operaciones de números complejos dan por resultados números complejos.**\n",
        "+ **Las operaciones de números enteros y números decimales, dan por resultado números decimales.**\n",
        "+ **Las operaciones de números complejos y números enteros y/o decimales, dan por resultado el número entero y/o decimal con el número complejo.**"
      ]
    },
    {
      "cell_type": "code",
      "execution_count": 10,
      "id": "395666e0",
      "metadata": {
        "colab": {
          "base_uri": "https://localhost:8080/"
        },
        "id": "395666e0",
        "outputId": "00660cbd-b59c-4146-a21b-745e35e3c3fd"
      },
      "outputs": [
        {
          "output_type": "execute_result",
          "data": {
            "text/plain": [
              "500"
            ]
          },
          "metadata": {},
          "execution_count": 10
        }
      ],
      "source": [
        "800 + 300 + 200 - 800"
      ]
    },
    {
      "cell_type": "code",
      "execution_count": 11,
      "id": "e316db05",
      "metadata": {
        "colab": {
          "base_uri": "https://localhost:8080/"
        },
        "id": "e316db05",
        "outputId": "64da7d44-8184-42c9-e6f0-4424933f1395"
      },
      "outputs": [
        {
          "output_type": "execute_result",
          "data": {
            "text/plain": [
              "50.8"
            ]
          },
          "metadata": {},
          "execution_count": 11
        }
      ],
      "source": [
        "30.70 + 20.10"
      ]
    },
    {
      "cell_type": "code",
      "execution_count": 12,
      "id": "ed83a3c8",
      "metadata": {
        "colab": {
          "base_uri": "https://localhost:8080/"
        },
        "id": "ed83a3c8",
        "outputId": "f10d4c0a-d21e-41f7-ebd9-3eae75402bea"
      },
      "outputs": [
        {
          "output_type": "execute_result",
          "data": {
            "text/plain": [
              "5.0"
            ]
          },
          "metadata": {},
          "execution_count": 12
        }
      ],
      "source": [
        "2.5 + 2.5"
      ]
    },
    {
      "cell_type": "markdown",
      "id": "7e1ef83c",
      "metadata": {
        "id": "7e1ef83c"
      },
      "source": [
        "**Si bien la operación 2.5 + 2.5 es una operación matemática que sabemos que da por resultado un número entero, al tratarse de dos números decimales, el resultado es un número decimal, en este caso indicado por el punto y el cero.**"
      ]
    },
    {
      "cell_type": "code",
      "execution_count": 13,
      "id": "e29f4f86",
      "metadata": {
        "colab": {
          "base_uri": "https://localhost:8080/"
        },
        "id": "e29f4f86",
        "outputId": "ee67ac52-4173-4d88-995f-6fa2abfbc4db"
      },
      "outputs": [
        {
          "output_type": "execute_result",
          "data": {
            "text/plain": [
              "50j"
            ]
          },
          "metadata": {},
          "execution_count": 13
        }
      ],
      "source": [
        "20j + 30j"
      ]
    },
    {
      "cell_type": "code",
      "execution_count": 14,
      "id": "fcb81dac",
      "metadata": {
        "colab": {
          "base_uri": "https://localhost:8080/"
        },
        "id": "fcb81dac",
        "outputId": "f21de4c7-f0a7-4cc5-bda3-65d9b19d9f82"
      },
      "outputs": [
        {
          "output_type": "execute_result",
          "data": {
            "text/plain": [
              "(30+20j)"
            ]
          },
          "metadata": {},
          "execution_count": 14
        }
      ],
      "source": [
        "20j + 30"
      ]
    },
    {
      "cell_type": "code",
      "execution_count": 15,
      "id": "cd5db33b",
      "metadata": {
        "colab": {
          "base_uri": "https://localhost:8080/"
        },
        "id": "cd5db33b",
        "outputId": "f33695bf-a27d-4519-e44d-13babc9e6125"
      },
      "outputs": [
        {
          "output_type": "execute_result",
          "data": {
            "text/plain": [
              "(-30+20j)"
            ]
          },
          "metadata": {},
          "execution_count": 15
        }
      ],
      "source": [
        "20j - 30"
      ]
    },
    {
      "cell_type": "code",
      "execution_count": 16,
      "id": "70c8f249",
      "metadata": {
        "colab": {
          "base_uri": "https://localhost:8080/"
        },
        "id": "70c8f249",
        "outputId": "c5602ec3-3847-43cd-b16e-1ee0e1a7cc2c"
      },
      "outputs": [
        {
          "output_type": "execute_result",
          "data": {
            "text/plain": [
              "(30.9+20j)"
            ]
          },
          "metadata": {},
          "execution_count": 16
        }
      ],
      "source": [
        "20j + 30.9"
      ]
    },
    {
      "cell_type": "code",
      "execution_count": 17,
      "id": "dc0cc0f2",
      "metadata": {
        "colab": {
          "base_uri": "https://localhost:8080/"
        },
        "id": "dc0cc0f2",
        "outputId": "c6fe02fd-057e-4a8c-8233-53ddba7bf3b4"
      },
      "outputs": [
        {
          "output_type": "execute_result",
          "data": {
            "text/plain": [
              "(35+5j)"
            ]
          },
          "metadata": {},
          "execution_count": 17
        }
      ],
      "source": [
        "10j + 15 -5j +20 "
      ]
    },
    {
      "cell_type": "markdown",
      "id": "ca642644",
      "metadata": {
        "id": "ca642644"
      },
      "source": [
        "#### <font color=\"RoyalBlue\">**Multiplicaciones y divisiones**</font>"
      ]
    },
    {
      "cell_type": "code",
      "execution_count": 18,
      "id": "d7bd9aa7",
      "metadata": {
        "colab": {
          "base_uri": "https://localhost:8080/"
        },
        "id": "d7bd9aa7",
        "outputId": "5252f58e-bdc6-49d1-b60a-49fe7bf760ba"
      },
      "outputs": [
        {
          "output_type": "execute_result",
          "data": {
            "text/plain": [
              "60"
            ]
          },
          "metadata": {},
          "execution_count": 18
        }
      ],
      "source": [
        "20 * 3"
      ]
    },
    {
      "cell_type": "code",
      "execution_count": 19,
      "id": "2201ee35",
      "metadata": {
        "colab": {
          "base_uri": "https://localhost:8080/"
        },
        "id": "2201ee35",
        "outputId": "0f4c9e4a-7049-4307-8a6c-42498c4df4e6"
      },
      "outputs": [
        {
          "output_type": "execute_result",
          "data": {
            "text/plain": [
              "70.0"
            ]
          },
          "metadata": {},
          "execution_count": 19
        }
      ],
      "source": [
        "20 * 3.5"
      ]
    },
    {
      "cell_type": "code",
      "execution_count": 20,
      "id": "03828e8d",
      "metadata": {
        "colab": {
          "base_uri": "https://localhost:8080/"
        },
        "id": "03828e8d",
        "outputId": "44e900fe-5a69-440f-8e7a-f9ee7413c878"
      },
      "outputs": [
        {
          "output_type": "execute_result",
          "data": {
            "text/plain": [
              "60j"
            ]
          },
          "metadata": {},
          "execution_count": 20
        }
      ],
      "source": [
        "20 * 3j"
      ]
    },
    {
      "cell_type": "code",
      "execution_count": 21,
      "id": "f8813ad5",
      "metadata": {
        "colab": {
          "base_uri": "https://localhost:8080/"
        },
        "id": "f8813ad5",
        "outputId": "0b3b9d79-3f66-478b-ad55-e309ad139ace"
      },
      "outputs": [
        {
          "output_type": "execute_result",
          "data": {
            "text/plain": [
              "60j"
            ]
          },
          "metadata": {},
          "execution_count": 21
        }
      ],
      "source": [
        "20j * 3"
      ]
    },
    {
      "cell_type": "markdown",
      "id": "6288b143",
      "metadata": {
        "id": "6288b143"
      },
      "source": [
        "**Ahora bien, en el caso de las divisiones de números enteros o números decimales, el resultado siempre será un número decimal. Cuando la operación sea de un número complejo, el resultado no será decimal, a menos que el número complejo tenga decimal.**"
      ]
    },
    {
      "cell_type": "code",
      "execution_count": 22,
      "id": "367a6004",
      "metadata": {
        "colab": {
          "base_uri": "https://localhost:8080/"
        },
        "id": "367a6004",
        "outputId": "8034650c-902b-4d48-8647-2a0ac2d87f8c"
      },
      "outputs": [
        {
          "output_type": "execute_result",
          "data": {
            "text/plain": [
              "20.0"
            ]
          },
          "metadata": {},
          "execution_count": 22
        }
      ],
      "source": [
        "60 / 3"
      ]
    },
    {
      "cell_type": "code",
      "execution_count": 23,
      "id": "fca5daf4",
      "metadata": {
        "colab": {
          "base_uri": "https://localhost:8080/"
        },
        "id": "fca5daf4",
        "outputId": "73c00ffb-1b86-4557-8f98-b8b11fbb2ef2"
      },
      "outputs": [
        {
          "output_type": "execute_result",
          "data": {
            "text/plain": [
              "20.3"
            ]
          },
          "metadata": {},
          "execution_count": 23
        }
      ],
      "source": [
        "60.9 / 3"
      ]
    },
    {
      "cell_type": "code",
      "execution_count": 24,
      "id": "349e683f",
      "metadata": {
        "colab": {
          "base_uri": "https://localhost:8080/"
        },
        "id": "349e683f",
        "outputId": "2bebd194-1f29-4146-fdef-58601290f6a7"
      },
      "outputs": [
        {
          "output_type": "execute_result",
          "data": {
            "text/plain": [
              "20j"
            ]
          },
          "metadata": {},
          "execution_count": 24
        }
      ],
      "source": [
        "60j / 3"
      ]
    },
    {
      "cell_type": "code",
      "execution_count": 25,
      "id": "e4440d4c",
      "metadata": {
        "colab": {
          "base_uri": "https://localhost:8080/"
        },
        "id": "e4440d4c",
        "outputId": "bc8ea691-7e93-40e1-b740-583209146745"
      },
      "outputs": [
        {
          "output_type": "execute_result",
          "data": {
            "text/plain": [
              "20.3j"
            ]
          },
          "metadata": {},
          "execution_count": 25
        }
      ],
      "source": [
        "60.9j / 3"
      ]
    },
    {
      "cell_type": "markdown",
      "id": "09368137",
      "metadata": {
        "id": "09368137"
      },
      "source": [
        "**También en el caso de las divisiones, se puede obtener como resultado solo la parte entera del número con dos símbolos /**"
      ]
    },
    {
      "cell_type": "code",
      "execution_count": 26,
      "id": "9551b082",
      "metadata": {
        "colab": {
          "base_uri": "https://localhost:8080/"
        },
        "id": "9551b082",
        "outputId": "5bf9435e-7fe7-4f14-8dea-90e3d41b9c58"
      },
      "outputs": [
        {
          "output_type": "execute_result",
          "data": {
            "text/plain": [
              "15.0"
            ]
          },
          "metadata": {},
          "execution_count": 26
        }
      ],
      "source": [
        "60 / 4"
      ]
    },
    {
      "cell_type": "code",
      "execution_count": 27,
      "id": "beb10132",
      "metadata": {
        "colab": {
          "base_uri": "https://localhost:8080/"
        },
        "id": "beb10132",
        "outputId": "05d0e155-3f71-474c-ceea-20bb621f4211"
      },
      "outputs": [
        {
          "output_type": "execute_result",
          "data": {
            "text/plain": [
              "15"
            ]
          },
          "metadata": {},
          "execution_count": 27
        }
      ],
      "source": [
        "60 // 4"
      ]
    },
    {
      "cell_type": "markdown",
      "id": "6e613d9e",
      "metadata": {
        "id": "6e613d9e"
      },
      "source": [
        "#### <font color=\"RoyalBlue\">**Algunas cuestiones en las operaciones básicas**</font>"
      ]
    },
    {
      "cell_type": "markdown",
      "id": "82a98def",
      "metadata": {
        "id": "82a98def"
      },
      "source": [
        "**Cuando en una operación matemática aparecen varias operaciones, Python resuelve con las reglas de prioridad de las operaciones matemáticas, es decir, primero las multiplicaciones y divisiones, y luego las sumas y las restas...**"
      ]
    },
    {
      "cell_type": "code",
      "execution_count": 28,
      "id": "7141ff5c",
      "metadata": {
        "colab": {
          "base_uri": "https://localhost:8080/"
        },
        "id": "7141ff5c",
        "outputId": "86f07cb6-dacb-482e-c631-414f48a1d761"
      },
      "outputs": [
        {
          "output_type": "execute_result",
          "data": {
            "text/plain": [
              "14.0"
            ]
          },
          "metadata": {},
          "execution_count": 28
        }
      ],
      "source": [
        "8 + 8 / 2 + 2"
      ]
    },
    {
      "cell_type": "markdown",
      "id": "f289d1aa",
      "metadata": {
        "id": "f289d1aa"
      },
      "source": [
        "**Si en la operación matemática se desea un orden específico, entonces debe ser indicado con el uso de paréntesis...**"
      ]
    },
    {
      "cell_type": "code",
      "execution_count": 29,
      "id": "5eb6837b",
      "metadata": {
        "colab": {
          "base_uri": "https://localhost:8080/"
        },
        "id": "5eb6837b",
        "outputId": "68f3f855-56a7-4cca-e9e5-0fb75f011567"
      },
      "outputs": [
        {
          "output_type": "execute_result",
          "data": {
            "text/plain": [
              "4.0"
            ]
          },
          "metadata": {},
          "execution_count": 29
        }
      ],
      "source": [
        "(8 + 8) / (2 + 2)"
      ]
    },
    {
      "cell_type": "markdown",
      "id": "c3bc5097",
      "metadata": {
        "id": "c3bc5097"
      },
      "source": [
        "**Al realizar operaciones con números decimales, los resultados pueden presentar errores de redondeo....**"
      ]
    },
    {
      "cell_type": "code",
      "execution_count": 30,
      "id": "c722d73e",
      "metadata": {
        "colab": {
          "base_uri": "https://localhost:8080/"
        },
        "id": "c722d73e",
        "outputId": "14db60da-2260-4ef8-f3d5-0fe6c3edf571"
      },
      "outputs": [
        {
          "output_type": "execute_result",
          "data": {
            "text/plain": [
              "33.333333333333336"
            ]
          },
          "metadata": {},
          "execution_count": 30
        }
      ],
      "source": [
        "100 / 3"
      ]
    },
    {
      "cell_type": "markdown",
      "id": "8f831320",
      "metadata": {
        "id": "8f831320"
      },
      "source": [
        "**Este error se debe a que Python almacena los números decimales en binario con 53 bits de precisión (formato de coma flotante de doble precisión de la norma IEEE-754) y pasar de decimal a binario provoca errores de rendodeo. Si se necesita precisión absoluta, se deben utilizar módulos específicos para ello.**\n",
        "\n",
        "**Debido a esos errores de redondeo, dos operaciones matemáticas que debieran arrojar el mismo resultado, podrían dar resultados levemente diferentes, pero diferentes.**"
      ]
    },
    {
      "cell_type": "code",
      "execution_count": 31,
      "id": "e82cf69c",
      "metadata": {
        "colab": {
          "base_uri": "https://localhost:8080/"
        },
        "id": "e82cf69c",
        "outputId": "fa8be6a4-57db-490b-df74-1276a7008d3c"
      },
      "outputs": [
        {
          "output_type": "execute_result",
          "data": {
            "text/plain": [
              "2.4"
            ]
          },
          "metadata": {},
          "execution_count": 31
        }
      ],
      "source": [
        "4 * 3 / 5"
      ]
    },
    {
      "cell_type": "code",
      "execution_count": 32,
      "id": "9a090022",
      "metadata": {
        "colab": {
          "base_uri": "https://localhost:8080/"
        },
        "id": "9a090022",
        "outputId": "f2ffcb41-eb4e-4875-becf-6bf9c1e215dc"
      },
      "outputs": [
        {
          "output_type": "execute_result",
          "data": {
            "text/plain": [
              "2.4000000000000004"
            ]
          },
          "metadata": {},
          "execution_count": 32
        }
      ],
      "source": [
        "4 / 5 * 3"
      ]
    },
    {
      "cell_type": "markdown",
      "id": "8a55749c",
      "metadata": {
        "id": "8a55749c"
      },
      "source": [
        "### <font color=\"RoyalBlue\">**Potencias y raices**</font>"
      ]
    },
    {
      "cell_type": "markdown",
      "id": "5533b0a1",
      "metadata": {
        "id": "5533b0a1"
      },
      "source": [
        "**Las potencias se calculan con el operador $**$, teniendo en cuenta que $x$ $**$ $y$ $=$ $x^y$. Utilizando exponentes negativos o decimales se pueden calcular potencias inversas o raíces n-ésimas.**"
      ]
    },
    {
      "cell_type": "markdown",
      "id": "e44240ae",
      "metadata": {
        "id": "e44240ae"
      },
      "source": [
        "**Si se quiere calcular un valor al cuadrado, por ejemplo $9^2$, entonces...**"
      ]
    },
    {
      "cell_type": "code",
      "execution_count": 33,
      "id": "c99cd031",
      "metadata": {
        "colab": {
          "base_uri": "https://localhost:8080/"
        },
        "id": "c99cd031",
        "outputId": "6348ac63-18cf-47d9-dcd5-9fd47b66ad54"
      },
      "outputs": [
        {
          "output_type": "execute_result",
          "data": {
            "text/plain": [
              "81"
            ]
          },
          "metadata": {},
          "execution_count": 33
        }
      ],
      "source": [
        "9 ** 2"
      ]
    },
    {
      "cell_type": "markdown",
      "id": "f9e98b7f",
      "metadata": {
        "id": "f9e98b7f"
      },
      "source": [
        "**O si se quiere calcular la raiz de un número, por ejemplo $\\sqrt{9}$\n",
        "entonces...**"
      ]
    },
    {
      "cell_type": "code",
      "execution_count": 34,
      "id": "b70294b2",
      "metadata": {
        "colab": {
          "base_uri": "https://localhost:8080/"
        },
        "id": "b70294b2",
        "outputId": "351a6c9d-e635-4b92-9733-9c501650e0fd"
      },
      "outputs": [
        {
          "output_type": "execute_result",
          "data": {
            "text/plain": [
              "3.0"
            ]
          },
          "metadata": {},
          "execution_count": 34
        }
      ],
      "source": [
        "9 ** 0.5"
      ]
    },
    {
      "cell_type": "markdown",
      "id": "d3958d9e",
      "metadata": {
        "id": "d3958d9e"
      },
      "source": [
        "**La raíz de un número entero da como resultado un número decimal.**"
      ]
    },
    {
      "cell_type": "code",
      "execution_count": 35,
      "id": "cfd3191f",
      "metadata": {
        "colab": {
          "base_uri": "https://localhost:8080/"
        },
        "id": "cfd3191f",
        "outputId": "f502a572-0d4d-4c75-9cd0-45006c35e1fa"
      },
      "outputs": [
        {
          "output_type": "execute_result",
          "data": {
            "text/plain": [
              "9.0"
            ]
          },
          "metadata": {},
          "execution_count": 35
        }
      ],
      "source": [
        "81 ** 0.5"
      ]
    },
    {
      "cell_type": "markdown",
      "id": "6264463e-dd3d-4bd6-b3b7-87eacac670ba",
      "metadata": {
        "id": "6264463e-dd3d-4bd6-b3b7-87eacac670ba"
      },
      "source": [
        "### <font color=\"RoyalBlue\">**Bases**</font>"
      ]
    },
    {
      "cell_type": "markdown",
      "id": "c9dc5041-1dfe-4108-9c38-7a7ab4953e8a",
      "metadata": {
        "id": "c9dc5041-1dfe-4108-9c38-7a7ab4953e8a"
      },
      "source": [
        "**Los números enteros son base 10 a menos que se utilice un prefijo para especificar otra base. Es posible que nunca necesitemos usar estas otras bases, pero nunca se sabe. Un ejemplo de ello son los números binarios (ceros y uno) que son base 2.**\n",
        "\n",
        "**En Python, los números enteros se pueden expresar en tres bases:**\n",
        "\n",
        "+ **base binaria (base 2)**\n",
        "+ **base octal (base 8)**\n",
        "+ **base hexadecimal (base 16)**\n",
        "\n",
        "**Estas bases son todas potencias de dos, y son útiles en algunos casos.**"
      ]
    },
    {
      "cell_type": "markdown",
      "id": "c98712e9-c5f3-44c1-88f2-3b37442a489c",
      "metadata": {
        "id": "c98712e9-c5f3-44c1-88f2-3b37442a489c"
      },
      "source": [
        "#### **Base 10**"
      ]
    },
    {
      "cell_type": "code",
      "execution_count": 36,
      "id": "5be7bdc6-3c79-45c4-b863-2857053a1f21",
      "metadata": {
        "colab": {
          "base_uri": "https://localhost:8080/"
        },
        "id": "5be7bdc6-3c79-45c4-b863-2857053a1f21",
        "outputId": "a0a2a51f-19bb-4009-dbaa-0b18c6fc431a"
      },
      "outputs": [
        {
          "output_type": "execute_result",
          "data": {
            "text/plain": [
              "10"
            ]
          },
          "metadata": {},
          "execution_count": 36
        }
      ],
      "source": [
        "10"
      ]
    },
    {
      "cell_type": "markdown",
      "id": "382cffeb-66e2-4da4-be01-6eec99b07a81",
      "metadata": {
        "id": "382cffeb-66e2-4da4-be01-6eec99b07a81"
      },
      "source": [
        "#### **Base 2**"
      ]
    },
    {
      "cell_type": "code",
      "execution_count": 37,
      "id": "f6227fdb-426d-4dc3-9c61-12cf46ac861a",
      "metadata": {
        "colab": {
          "base_uri": "https://localhost:8080/"
        },
        "id": "f6227fdb-426d-4dc3-9c61-12cf46ac861a",
        "outputId": "90b01489-a3f6-4265-c9a0-1523cfdf9ca4"
      },
      "outputs": [
        {
          "output_type": "execute_result",
          "data": {
            "text/plain": [
              "10"
            ]
          },
          "metadata": {},
          "execution_count": 37
        }
      ],
      "source": [
        "0b1010"
      ]
    },
    {
      "cell_type": "markdown",
      "id": "442c799c-1dba-457e-b6ab-fdd9cb55ddb4",
      "metadata": {
        "id": "442c799c-1dba-457e-b6ab-fdd9cb55ddb4"
      },
      "source": [
        "#### **Base 8**"
      ]
    },
    {
      "cell_type": "code",
      "execution_count": 38,
      "id": "f899388d-2089-4349-8219-8011cba78e74",
      "metadata": {
        "colab": {
          "base_uri": "https://localhost:8080/"
        },
        "id": "f899388d-2089-4349-8219-8011cba78e74",
        "outputId": "cb8fb36e-c080-4450-ea5e-9b43a5cc8055"
      },
      "outputs": [
        {
          "output_type": "execute_result",
          "data": {
            "text/plain": [
              "10"
            ]
          },
          "metadata": {},
          "execution_count": 38
        }
      ],
      "source": [
        "0o12"
      ]
    },
    {
      "cell_type": "markdown",
      "id": "35bb41d0-c93f-4440-9811-593bfab570bc",
      "metadata": {
        "id": "35bb41d0-c93f-4440-9811-593bfab570bc"
      },
      "source": [
        "#### **Base 16**"
      ]
    },
    {
      "cell_type": "code",
      "execution_count": 39,
      "id": "2f0255e6-9d77-478f-9416-d5a465715dcf",
      "metadata": {
        "colab": {
          "base_uri": "https://localhost:8080/"
        },
        "id": "2f0255e6-9d77-478f-9416-d5a465715dcf",
        "outputId": "8f056d55-0645-4ae4-c7f7-e2340008187d"
      },
      "outputs": [
        {
          "output_type": "execute_result",
          "data": {
            "text/plain": [
              "10"
            ]
          },
          "metadata": {},
          "execution_count": 39
        }
      ],
      "source": [
        "0xa"
      ]
    },
    {
      "cell_type": "markdown",
      "id": "392a0664-240f-4c52-a9bc-dfaa598be607",
      "metadata": {
        "id": "392a0664-240f-4c52-a9bc-dfaa598be607"
      },
      "source": [
        "#### <font color=\"RoyalBlue\">**Funciones integradas para bases**</font>\n",
        "\n",
        "**Para corroborar los valores equivalentes en las distintas bases, se pueden utilizar funciones integradas.**"
      ]
    },
    {
      "cell_type": "code",
      "execution_count": 40,
      "id": "a08edc70-936b-41b0-85ec-0d0bf08e0c85",
      "metadata": {
        "colab": {
          "base_uri": "https://localhost:8080/"
        },
        "id": "a08edc70-936b-41b0-85ec-0d0bf08e0c85",
        "outputId": "a90a8795-fc97-49f6-ebdb-84d9077f8b23"
      },
      "outputs": [
        {
          "output_type": "execute_result",
          "data": {
            "text/plain": [
              "10"
            ]
          },
          "metadata": {},
          "execution_count": 40
        }
      ],
      "source": [
        "10"
      ]
    },
    {
      "cell_type": "code",
      "execution_count": 41,
      "id": "23c3f186-bfb0-4357-a3ea-a114d89484a4",
      "metadata": {
        "colab": {
          "base_uri": "https://localhost:8080/",
          "height": 35
        },
        "id": "23c3f186-bfb0-4357-a3ea-a114d89484a4",
        "outputId": "e00c2a91-367d-4599-81d1-1c668d08ce55"
      },
      "outputs": [
        {
          "output_type": "execute_result",
          "data": {
            "text/plain": [
              "'0b1010'"
            ],
            "application/vnd.google.colaboratory.intrinsic+json": {
              "type": "string"
            }
          },
          "metadata": {},
          "execution_count": 41
        }
      ],
      "source": [
        "bin(10)"
      ]
    },
    {
      "cell_type": "code",
      "execution_count": 42,
      "id": "2b77a79c-ea2c-42a8-a54b-117d57588814",
      "metadata": {
        "colab": {
          "base_uri": "https://localhost:8080/",
          "height": 35
        },
        "id": "2b77a79c-ea2c-42a8-a54b-117d57588814",
        "outputId": "6c05c09e-ce6f-41ee-9df6-affa4a010613"
      },
      "outputs": [
        {
          "output_type": "execute_result",
          "data": {
            "text/plain": [
              "'0o12'"
            ],
            "application/vnd.google.colaboratory.intrinsic+json": {
              "type": "string"
            }
          },
          "metadata": {},
          "execution_count": 42
        }
      ],
      "source": [
        "oct(10)"
      ]
    },
    {
      "cell_type": "code",
      "execution_count": 43,
      "id": "bc15fde8-6972-493b-a591-b3e0fbf7f216",
      "metadata": {
        "colab": {
          "base_uri": "https://localhost:8080/",
          "height": 35
        },
        "id": "bc15fde8-6972-493b-a591-b3e0fbf7f216",
        "outputId": "eba46ff2-eded-496a-a3c7-e1369d4dd5ce"
      },
      "outputs": [
        {
          "output_type": "execute_result",
          "data": {
            "text/plain": [
              "'0xa'"
            ],
            "application/vnd.google.colaboratory.intrinsic+json": {
              "type": "string"
            }
          },
          "metadata": {},
          "execution_count": 43
        }
      ],
      "source": [
        "hex(10)"
      ]
    },
    {
      "cell_type": "markdown",
      "id": "88a37e57-1e95-46a8-9fb0-08e95d7be67c",
      "metadata": {
        "id": "88a37e57-1e95-46a8-9fb0-08e95d7be67c"
      },
      "source": [
        "### <font color=\"RoyalBlue\">**Usando algunas de las funciones integradas**</font>"
      ]
    },
    {
      "cell_type": "markdown",
      "id": "d854b63b-648a-4a0b-981a-40964634c748",
      "metadata": {
        "id": "d854b63b-648a-4a0b-981a-40964634c748"
      },
      "source": [
        "#### **```int()```**"
      ]
    },
    {
      "cell_type": "markdown",
      "id": "3a3d81da-2052-47ad-b340-75d2ca09f456",
      "metadata": {
        "id": "3a3d81da-2052-47ad-b340-75d2ca09f456"
      },
      "source": [
        "**Para cambiar un tipo de dato numérico a entero se utiliza la función ```int()```**"
      ]
    },
    {
      "cell_type": "code",
      "execution_count": 44,
      "id": "d250acfe-b8d4-4ac9-aead-b1af4fb54776",
      "metadata": {
        "colab": {
          "base_uri": "https://localhost:8080/"
        },
        "id": "d250acfe-b8d4-4ac9-aead-b1af4fb54776",
        "outputId": "e225cd0d-b48c-416a-9261-defbb5756b53"
      },
      "outputs": [
        {
          "output_type": "execute_result",
          "data": {
            "text/plain": [
              "198"
            ]
          },
          "metadata": {},
          "execution_count": 44
        }
      ],
      "source": [
        "int(198.96)"
      ]
    },
    {
      "cell_type": "code",
      "execution_count": 45,
      "id": "e534218a-892c-4cad-a343-739e889bfc9f",
      "metadata": {
        "colab": {
          "base_uri": "https://localhost:8080/"
        },
        "id": "e534218a-892c-4cad-a343-739e889bfc9f",
        "outputId": "1b0e6468-c7e6-479f-ca96-0bc825fe51b9"
      },
      "outputs": [
        {
          "output_type": "execute_result",
          "data": {
            "text/plain": [
              "10000"
            ]
          },
          "metadata": {},
          "execution_count": 45
        }
      ],
      "source": [
        "int(1.0e4)"
      ]
    },
    {
      "cell_type": "markdown",
      "id": "a99dfd05-db30-4888-82b6-78315460403c",
      "metadata": {
        "id": "a99dfd05-db30-4888-82b6-78315460403c"
      },
      "source": [
        "**También con la función ```int()``` se puede convertir una cadena de caracteres en números... pero esa cadena de caracteres debería indicar un número entero, positivo o negativo.**"
      ]
    },
    {
      "cell_type": "code",
      "execution_count": 46,
      "id": "bdbaf6f5-350d-44a1-9210-793611a01e4e",
      "metadata": {
        "colab": {
          "base_uri": "https://localhost:8080/"
        },
        "id": "bdbaf6f5-350d-44a1-9210-793611a01e4e",
        "outputId": "718ffba3-cc5f-41b1-8941-89e84b44f154"
      },
      "outputs": [
        {
          "output_type": "execute_result",
          "data": {
            "text/plain": [
              "35"
            ]
          },
          "metadata": {},
          "execution_count": 46
        }
      ],
      "source": [
        "int(\"35\")"
      ]
    },
    {
      "cell_type": "code",
      "execution_count": 47,
      "id": "f2c1e3cc-280e-404d-9229-4d2dad2cb668",
      "metadata": {
        "colab": {
          "base_uri": "https://localhost:8080/"
        },
        "id": "f2c1e3cc-280e-404d-9229-4d2dad2cb668",
        "outputId": "8275c076-251d-4909-b77d-3a8890d14087"
      },
      "outputs": [
        {
          "output_type": "execute_result",
          "data": {
            "text/plain": [
              "-890"
            ]
          },
          "metadata": {},
          "execution_count": 47
        }
      ],
      "source": [
        "int(\"-890\")"
      ]
    },
    {
      "cell_type": "markdown",
      "id": "d33d2869-67e6-4b6d-a1dd-d68334133249",
      "metadata": {
        "id": "d33d2869-67e6-4b6d-a1dd-d68334133249"
      },
      "source": [
        "**Con la cadena de caracters no decimal, tambien se le puede indicar la base como segundo parámetro de la función ```int()```**"
      ]
    },
    {
      "cell_type": "code",
      "execution_count": 48,
      "id": "ec904f12-66d9-46e9-a266-d386dbf73f1a",
      "metadata": {
        "colab": {
          "base_uri": "https://localhost:8080/"
        },
        "id": "ec904f12-66d9-46e9-a266-d386dbf73f1a",
        "outputId": "78ab4ab7-52bd-4616-a28b-238c2ab052c8"
      },
      "outputs": [
        {
          "output_type": "execute_result",
          "data": {
            "text/plain": [
              "10"
            ]
          },
          "metadata": {},
          "execution_count": 48
        }
      ],
      "source": [
        "int(\"10\", 10)"
      ]
    },
    {
      "cell_type": "code",
      "execution_count": 49,
      "id": "8bfd5ffb-7a69-4700-ab55-916c7cc2566d",
      "metadata": {
        "colab": {
          "base_uri": "https://localhost:8080/"
        },
        "id": "8bfd5ffb-7a69-4700-ab55-916c7cc2566d",
        "outputId": "47821608-6d86-4d3e-b8b6-db71fa6c0a27"
      },
      "outputs": [
        {
          "output_type": "execute_result",
          "data": {
            "text/plain": [
              "2"
            ]
          },
          "metadata": {},
          "execution_count": 49
        }
      ],
      "source": [
        "int(\"10\", 2)"
      ]
    },
    {
      "cell_type": "code",
      "execution_count": 50,
      "id": "51add469-396e-4c5d-8197-9caa4256b438",
      "metadata": {
        "colab": {
          "base_uri": "https://localhost:8080/"
        },
        "id": "51add469-396e-4c5d-8197-9caa4256b438",
        "outputId": "017ef009-7e85-4055-ecf2-bfa23bc79291"
      },
      "outputs": [
        {
          "output_type": "execute_result",
          "data": {
            "text/plain": [
              "8"
            ]
          },
          "metadata": {},
          "execution_count": 50
        }
      ],
      "source": [
        "int(\"10\", 8)"
      ]
    },
    {
      "cell_type": "code",
      "execution_count": 51,
      "id": "fd6d77f9-2ac5-423d-8afc-3bfb0d782944",
      "metadata": {
        "colab": {
          "base_uri": "https://localhost:8080/"
        },
        "id": "fd6d77f9-2ac5-423d-8afc-3bfb0d782944",
        "outputId": "963efae3-1cd9-47e6-c93c-acc5dae88d7d"
      },
      "outputs": [
        {
          "output_type": "execute_result",
          "data": {
            "text/plain": [
              "16"
            ]
          },
          "metadata": {},
          "execution_count": 51
        }
      ],
      "source": [
        "int(\"10\", 16)"
      ]
    },
    {
      "cell_type": "markdown",
      "id": "50d1f974-912f-477d-b68d-7c1b061ef456",
      "metadata": {
        "id": "50d1f974-912f-477d-b68d-7c1b061ef456"
      },
      "source": [
        "## <font color=\"RoyalBlue\">**Cadenas de caracteres**</font>"
      ]
    },
    {
      "cell_type": "markdown",
      "id": "88486600-56d6-4b61-a57f-484f521808e0",
      "metadata": {
        "id": "88486600-56d6-4b61-a57f-484f521808e0"
      },
      "source": [
        "**En principio las cadenas de caracteres se pueden delimitar con comillas simples o con comillas dobles...**"
      ]
    },
    {
      "cell_type": "code",
      "execution_count": 52,
      "id": "02d9c7c3-9b38-4292-90d6-02b43b4242e5",
      "metadata": {
        "colab": {
          "base_uri": "https://localhost:8080/",
          "height": 35
        },
        "id": "02d9c7c3-9b38-4292-90d6-02b43b4242e5",
        "outputId": "29ef45e9-f3a4-4475-b1c2-da01d5e28db0"
      },
      "outputs": [
        {
          "output_type": "execute_result",
          "data": {
            "text/plain": [
              "'Esta es una cadena de caracteres'"
            ],
            "application/vnd.google.colaboratory.intrinsic+json": {
              "type": "string"
            }
          },
          "metadata": {},
          "execution_count": 52
        }
      ],
      "source": [
        "'Esta es una cadena de caracteres'"
      ]
    },
    {
      "cell_type": "code",
      "execution_count": 53,
      "id": "5bd297c6-28d4-4c7e-b8d6-494f0c3fb6ff",
      "metadata": {
        "colab": {
          "base_uri": "https://localhost:8080/"
        },
        "id": "5bd297c6-28d4-4c7e-b8d6-494f0c3fb6ff",
        "outputId": "22294fdc-d358-4952-a613-f186d99deff5"
      },
      "outputs": [
        {
          "output_type": "stream",
          "name": "stdout",
          "text": [
            "Esta es una cadena de caracteres\n"
          ]
        }
      ],
      "source": [
        "print('Esta es una cadena de caracteres')"
      ]
    },
    {
      "cell_type": "code",
      "execution_count": 54,
      "id": "4f21ba3d-fd45-48fb-9a59-2f4b8f6a16ca",
      "metadata": {
        "colab": {
          "base_uri": "https://localhost:8080/"
        },
        "id": "4f21ba3d-fd45-48fb-9a59-2f4b8f6a16ca",
        "outputId": "71175e96-eb81-4057-a74e-3dc85e96df65"
      },
      "outputs": [
        {
          "output_type": "stream",
          "name": "stdout",
          "text": [
            "Esta es una cadena de caracteres\n"
          ]
        }
      ],
      "source": [
        "print(\"Esta es una cadena de caracteres\")"
      ]
    },
    {
      "cell_type": "code",
      "execution_count": 55,
      "id": "e705e1b7-63e9-4b08-a493-407761410768",
      "metadata": {
        "colab": {
          "base_uri": "https://localhost:8080/",
          "height": 35
        },
        "id": "e705e1b7-63e9-4b08-a493-407761410768",
        "outputId": "81b858b6-48e7-4174-ff8a-a33e437ac22a"
      },
      "outputs": [
        {
          "output_type": "execute_result",
          "data": {
            "text/plain": [
              "'2022'"
            ],
            "application/vnd.google.colaboratory.intrinsic+json": {
              "type": "string"
            }
          },
          "metadata": {},
          "execution_count": 55
        }
      ],
      "source": [
        "\"2022\""
      ]
    },
    {
      "cell_type": "code",
      "execution_count": 56,
      "id": "9c7a28f8-ae88-4156-9a69-af42f4398318",
      "metadata": {
        "colab": {
          "base_uri": "https://localhost:8080/"
        },
        "id": "9c7a28f8-ae88-4156-9a69-af42f4398318",
        "outputId": "711f71ec-3416-4388-f288-451cfd996ea3"
      },
      "outputs": [
        {
          "output_type": "stream",
          "name": "stdout",
          "text": [
            "2022\n"
          ]
        }
      ],
      "source": [
        "print(\"2022\")"
      ]
    },
    {
      "cell_type": "markdown",
      "id": "d3509a8d-f172-40d1-ae1c-d2723817f850",
      "metadata": {
        "id": "d3509a8d-f172-40d1-ae1c-d2723817f850"
      },
      "source": [
        "**Como se puede observar, la función ```print()``` muestra por la pantalla de nuestro dispositivo el contenido de la cadena de caracteres, pero no muestra las comillas delimitadoras de la cadena.**"
      ]
    },
    {
      "cell_type": "markdown",
      "id": "ca2160a1-7e9d-4d22-bc67-421f145f552e",
      "metadata": {
        "id": "ca2160a1-7e9d-4d22-bc67-421f145f552e"
      },
      "source": [
        "### <font color=\"RoyalBlue\">**Concatenación**</font>"
      ]
    },
    {
      "cell_type": "markdown",
      "id": "a923e771-d14c-42e0-9228-d8630fce0a37",
      "metadata": {
        "id": "a923e771-d14c-42e0-9228-d8630fce0a37"
      },
      "source": [
        "**Algo más que importante para destacar es que las cadenas de caracteres en Python son *inmutables*, y las cadenas de caracteres pueden concatenarse automáticamente.** "
      ]
    },
    {
      "cell_type": "code",
      "execution_count": 57,
      "id": "cb98cdd1-b299-4daf-a314-b11026211a4b",
      "metadata": {
        "colab": {
          "base_uri": "https://localhost:8080/",
          "height": 35
        },
        "id": "cb98cdd1-b299-4daf-a314-b11026211a4b",
        "outputId": "bc60f061-509b-403f-81ae-ab444ccccfc4"
      },
      "outputs": [
        {
          "output_type": "execute_result",
          "data": {
            "text/plain": [
              "'Python for Data Analysis '"
            ],
            "application/vnd.google.colaboratory.intrinsic+json": {
              "type": "string"
            }
          },
          "metadata": {},
          "execution_count": 57
        }
      ],
      "source": [
        "\"Py\" \"thon \" \"for \" \"Da\" \"ta \" \"Analy\" \"sis \""
      ]
    },
    {
      "cell_type": "markdown",
      "id": "43848483-28db-49ff-8d35-548aeb74718b",
      "metadata": {
        "id": "43848483-28db-49ff-8d35-548aeb74718b"
      },
      "source": [
        "### <font color=\"RoyalBlue\">**Subíndices**</font>"
      ]
    },
    {
      "cell_type": "code",
      "execution_count": 58,
      "id": "7f1bf6dd-ace8-4488-bf57-d8d8ca46cd44",
      "metadata": {
        "id": "7f1bf6dd-ace8-4488-bf57-d8d8ca46cd44"
      },
      "outputs": [],
      "source": [
        "activo = \"Activo\"\n",
        "pasivo = \"Pasivo\"\n",
        "patrimonio = \"Patrimonio Neto\""
      ]
    },
    {
      "cell_type": "markdown",
      "id": "b3e50b8f-2a07-41df-a2c9-20b2473c1fce",
      "metadata": {
        "id": "b3e50b8f-2a07-41df-a2c9-20b2473c1fce"
      },
      "source": [
        "**Para obtener el primer caracter de alguna de las variables definidas, se indica ese caracter por su posición, entre corchetes, teniendo en cuenta que en Python siempre se empieza a contar desde cero. En el caso del Activo, si queremos la letra A, entonces debemos indicar el primer subíndice de la variable activo.**"
      ]
    },
    {
      "cell_type": "code",
      "execution_count": 59,
      "id": "c4f1aee9-f19b-4105-bd3e-3986ed53e843",
      "metadata": {
        "colab": {
          "base_uri": "https://localhost:8080/",
          "height": 35
        },
        "id": "c4f1aee9-f19b-4105-bd3e-3986ed53e843",
        "outputId": "8a6f4f4e-1a8c-4bf5-f967-cca2e0d37671"
      },
      "outputs": [
        {
          "output_type": "execute_result",
          "data": {
            "text/plain": [
              "'A'"
            ],
            "application/vnd.google.colaboratory.intrinsic+json": {
              "type": "string"
            }
          },
          "metadata": {},
          "execution_count": 59
        }
      ],
      "source": [
        "activo[0]"
      ]
    },
    {
      "cell_type": "code",
      "execution_count": 60,
      "id": "fcb48dd2-d3a5-4f64-9455-9c92091ce823",
      "metadata": {
        "colab": {
          "base_uri": "https://localhost:8080/"
        },
        "id": "fcb48dd2-d3a5-4f64-9455-9c92091ce823",
        "outputId": "f3e084bb-290c-4aec-96b6-3160b1c604c3"
      },
      "outputs": [
        {
          "output_type": "stream",
          "name": "stdout",
          "text": [
            "A\n"
          ]
        }
      ],
      "source": [
        "print(activo[0])"
      ]
    },
    {
      "cell_type": "markdown",
      "id": "09a7ab30-7a26-4144-a488-edf1507485df",
      "metadata": {
        "id": "09a7ab30-7a26-4144-a488-edf1507485df"
      },
      "source": [
        "### <font color=\"RoyalBlue\">**Subcadenas**</font>"
      ]
    },
    {
      "cell_type": "markdown",
      "id": "2a4e9ac6-c7cd-476a-aee3-62678afa1175",
      "metadata": {
        "id": "2a4e9ac6-c7cd-476a-aee3-62678afa1175"
      },
      "source": [
        "**Tambien se pueden obtener subcadenas de caracteres de las variables de texto.**"
      ]
    },
    {
      "cell_type": "code",
      "execution_count": 61,
      "id": "8b62e6a8-d919-4bd5-8c5f-bda4e169982c",
      "metadata": {
        "colab": {
          "base_uri": "https://localhost:8080/"
        },
        "id": "8b62e6a8-d919-4bd5-8c5f-bda4e169982c",
        "outputId": "d605212d-bf25-4e95-8027-6a55764b7ccf"
      },
      "outputs": [
        {
          "output_type": "stream",
          "name": "stdout",
          "text": [
            "Act\n"
          ]
        }
      ],
      "source": [
        "print(activo[0:3])"
      ]
    },
    {
      "cell_type": "code",
      "execution_count": 62,
      "id": "1258c716-d45b-48f4-b865-daa1502dab02",
      "metadata": {
        "colab": {
          "base_uri": "https://localhost:8080/"
        },
        "id": "1258c716-d45b-48f4-b865-daa1502dab02",
        "outputId": "c964093b-cdee-47a3-ba62-6653ff41833b"
      },
      "outputs": [
        {
          "output_type": "stream",
          "name": "stdout",
          "text": [
            "Pas\n"
          ]
        }
      ],
      "source": [
        "print(pasivo[0:3])"
      ]
    },
    {
      "cell_type": "code",
      "execution_count": 63,
      "id": "aaa86ac6-68ff-4138-bb88-18c3d0a32e67",
      "metadata": {
        "colab": {
          "base_uri": "https://localhost:8080/"
        },
        "id": "aaa86ac6-68ff-4138-bb88-18c3d0a32e67",
        "outputId": "9df028f3-19fc-4406-9ac4-2a9dc69eca64"
      },
      "outputs": [
        {
          "output_type": "stream",
          "name": "stdout",
          "text": [
            "PNeto\n"
          ]
        }
      ],
      "source": [
        "print(patrimonio[0] + patrimonio[11:15])"
      ]
    },
    {
      "cell_type": "markdown",
      "id": "5a7c1bf3-d677-4a7b-b11f-191ac2365e67",
      "metadata": {
        "id": "5a7c1bf3-d677-4a7b-b11f-191ac2365e67"
      },
      "source": [
        "### <font color=\"RoyalBlue\">**Uso de caracteres especiales**</font>"
      ]
    },
    {
      "cell_type": "markdown",
      "id": "ab246d74-be53-4a3b-bef6-d6d5c75f1521",
      "metadata": {
        "id": "ab246d74-be53-4a3b-bef6-d6d5c75f1521"
      },
      "source": [
        "**Con el uso de los caracteres \\n se puede adicionar una linea más de texto, escribiendo todo el script en una línea.**"
      ]
    },
    {
      "cell_type": "code",
      "execution_count": 64,
      "id": "ce0f5d49-e353-4cb0-ae51-7b861cf6ee13",
      "metadata": {
        "colab": {
          "base_uri": "https://localhost:8080/"
        },
        "id": "ce0f5d49-e353-4cb0-ae51-7b861cf6ee13",
        "outputId": "c4ff3b02-1653-4cab-f0ae-81045e8a5ac2"
      },
      "outputs": [
        {
          "output_type": "stream",
          "name": "stdout",
          "text": [
            "Python for Data Analysis \n",
            "First Edition\n"
          ]
        }
      ],
      "source": [
        "print(\"Python for Data Analysis \\nFirst Edition\")"
      ]
    },
    {
      "cell_type": "markdown",
      "id": "11abb39b-c6d7-4043-bf29-5b5dbb38faeb",
      "metadata": {
        "id": "11abb39b-c6d7-4043-bf29-5b5dbb38faeb"
      },
      "source": [
        "Con el uso de los caracteres ```\\t``` se puede centrar la cadena de caracteres."
      ]
    },
    {
      "cell_type": "code",
      "execution_count": 65,
      "id": "beff7e72-59d9-4a3f-a3c0-95952269ea33",
      "metadata": {
        "colab": {
          "base_uri": "https://localhost:8080/"
        },
        "id": "beff7e72-59d9-4a3f-a3c0-95952269ea33",
        "outputId": "bd67ce3f-a14b-482d-d921-c802274c5edd"
      },
      "outputs": [
        {
          "output_type": "stream",
          "name": "stdout",
          "text": [
            "\tPython for Data Analysis \n",
            "\tFirst Edition\n"
          ]
        }
      ],
      "source": [
        "print(\"\\tPython for Data Analysis \\n\\tFirst Edition\")"
      ]
    },
    {
      "cell_type": "markdown",
      "id": "7326e28a-6f04-4d22-a6be-739225f34736",
      "metadata": {
        "id": "7326e28a-6f04-4d22-a6be-739225f34736"
      },
      "source": [
        "### <font color=\"RoyalBlue\">**Usando algunas de las funciones integradas**</font>"
      ]
    },
    {
      "cell_type": "markdown",
      "id": "ddb1d891-cfa8-4baa-9055-6d796e787906",
      "metadata": {
        "id": "ddb1d891-cfa8-4baa-9055-6d796e787906"
      },
      "source": [
        "#### **```str()```**"
      ]
    },
    {
      "cell_type": "markdown",
      "id": "6a6cde86-574b-4562-bb02-e710e47a2043",
      "metadata": {
        "id": "6a6cde86-574b-4562-bb02-e710e47a2043"
      },
      "source": [
        "**Se puede crear una cadena de caracteres a partir de otro tipo de datos mediante la función str()**"
      ]
    },
    {
      "cell_type": "code",
      "execution_count": 66,
      "id": "bb06ebf9-2228-4468-9483-64f37c29aeb9",
      "metadata": {
        "colab": {
          "base_uri": "https://localhost:8080/",
          "height": 35
        },
        "id": "bb06ebf9-2228-4468-9483-64f37c29aeb9",
        "outputId": "bf33eaf3-6b79-4f55-842f-d5fdc3bac130"
      },
      "outputs": [
        {
          "output_type": "execute_result",
          "data": {
            "text/plain": [
              "'987.9'"
            ],
            "application/vnd.google.colaboratory.intrinsic+json": {
              "type": "string"
            }
          },
          "metadata": {},
          "execution_count": 66
        }
      ],
      "source": [
        "str(987.90)"
      ]
    },
    {
      "cell_type": "code",
      "execution_count": 67,
      "id": "b7a25a16-70d4-4137-a660-d413a600bd8a",
      "metadata": {
        "colab": {
          "base_uri": "https://localhost:8080/",
          "height": 35
        },
        "id": "b7a25a16-70d4-4137-a660-d413a600bd8a",
        "outputId": "5cdcf0c9-1b7c-4251-987b-2b79b055843a"
      },
      "outputs": [
        {
          "output_type": "execute_result",
          "data": {
            "text/plain": [
              "'True'"
            ],
            "application/vnd.google.colaboratory.intrinsic+json": {
              "type": "string"
            }
          },
          "metadata": {},
          "execution_count": 67
        }
      ],
      "source": [
        "str(True)"
      ]
    },
    {
      "cell_type": "markdown",
      "id": "3b669478-cfe7-4f6b-9245-09e10f1024d3",
      "metadata": {
        "id": "3b669478-cfe7-4f6b-9245-09e10f1024d3"
      },
      "source": [
        "#### **```len()```**"
      ]
    },
    {
      "cell_type": "markdown",
      "id": "746eb671-0f39-4e8c-98c4-24bfda89d9a3",
      "metadata": {
        "id": "746eb671-0f39-4e8c-98c4-24bfda89d9a3"
      },
      "source": [
        "**Esta función cuenta cuantos caracteres hay en una cadena de caracteres.**"
      ]
    },
    {
      "cell_type": "code",
      "execution_count": 68,
      "id": "8ba0f218-a03f-4fd8-a43d-9e87d7f37e2c",
      "metadata": {
        "colab": {
          "base_uri": "https://localhost:8080/"
        },
        "id": "8ba0f218-a03f-4fd8-a43d-9e87d7f37e2c",
        "outputId": "38dc81ff-4041-4539-99c1-c3d7894d6c9f"
      },
      "outputs": [
        {
          "output_type": "execute_result",
          "data": {
            "text/plain": [
              "24"
            ]
          },
          "metadata": {},
          "execution_count": 68
        }
      ],
      "source": [
        "len(\"Python for Data Analysis\")"
      ]
    },
    {
      "cell_type": "markdown",
      "source": [
        "#### **```capitalize()```**"
      ],
      "metadata": {
        "id": "vypUy5XCFGmI"
      },
      "id": "vypUy5XCFGmI"
    },
    {
      "cell_type": "markdown",
      "source": [
        "**Se aplica sobre una cadena de caracteres y devuelve la primera letra en mayúscula...**"
      ],
      "metadata": {
        "id": "2VKaiXztFOVX"
      },
      "id": "2VKaiXztFOVX"
    },
    {
      "cell_type": "code",
      "source": [
        "texto = \"python for data analysis\""
      ],
      "metadata": {
        "id": "-B8T195aFJ9E"
      },
      "id": "-B8T195aFJ9E",
      "execution_count": 69,
      "outputs": []
    },
    {
      "cell_type": "code",
      "source": [
        "texto.capitalize()"
      ],
      "metadata": {
        "colab": {
          "base_uri": "https://localhost:8080/",
          "height": 35
        },
        "id": "Nf1EdIFyFSOP",
        "outputId": "dbe1f618-ecb5-4af6-f59b-19b18558fffe"
      },
      "id": "Nf1EdIFyFSOP",
      "execution_count": 70,
      "outputs": [
        {
          "output_type": "execute_result",
          "data": {
            "text/plain": [
              "'Python for data analysis'"
            ],
            "application/vnd.google.colaboratory.intrinsic+json": {
              "type": "string"
            }
          },
          "metadata": {},
          "execution_count": 70
        }
      ]
    },
    {
      "cell_type": "code",
      "source": [
        "texto = texto.capitalize()"
      ],
      "metadata": {
        "id": "zCuCzojXFV8-"
      },
      "id": "zCuCzojXFV8-",
      "execution_count": 71,
      "outputs": []
    },
    {
      "cell_type": "markdown",
      "source": [
        "#### **```lower()```**"
      ],
      "metadata": {
        "id": "wDWO47eGFZXm"
      },
      "id": "wDWO47eGFZXm"
    },
    {
      "cell_type": "markdown",
      "source": [
        "**Convierte todos los caracteres en minúscula...**"
      ],
      "metadata": {
        "id": "pjHflhxEFdDE"
      },
      "id": "pjHflhxEFdDE"
    },
    {
      "cell_type": "code",
      "source": [
        "texto"
      ],
      "metadata": {
        "colab": {
          "base_uri": "https://localhost:8080/",
          "height": 35
        },
        "id": "Y9Of-kYvFgvL",
        "outputId": "37f02373-81dd-4c84-9355-cff472d8c4f7"
      },
      "id": "Y9Of-kYvFgvL",
      "execution_count": 72,
      "outputs": [
        {
          "output_type": "execute_result",
          "data": {
            "text/plain": [
              "'Python for data analysis'"
            ],
            "application/vnd.google.colaboratory.intrinsic+json": {
              "type": "string"
            }
          },
          "metadata": {},
          "execution_count": 72
        }
      ]
    },
    {
      "cell_type": "code",
      "source": [
        "texto.lower()"
      ],
      "metadata": {
        "colab": {
          "base_uri": "https://localhost:8080/",
          "height": 35
        },
        "id": "nt0UCvTbFj0u",
        "outputId": "4c4e077d-4991-499d-ff22-9a2e782d93b9"
      },
      "id": "nt0UCvTbFj0u",
      "execution_count": 73,
      "outputs": [
        {
          "output_type": "execute_result",
          "data": {
            "text/plain": [
              "'python for data analysis'"
            ],
            "application/vnd.google.colaboratory.intrinsic+json": {
              "type": "string"
            }
          },
          "metadata": {},
          "execution_count": 73
        }
      ]
    },
    {
      "cell_type": "code",
      "source": [
        "texto = texto.lower()"
      ],
      "metadata": {
        "id": "_DGOXfspFme3"
      },
      "id": "_DGOXfspFme3",
      "execution_count": 74,
      "outputs": []
    },
    {
      "cell_type": "markdown",
      "source": [
        "#### **```upper()```**"
      ],
      "metadata": {
        "id": "rYrmp9HxFpQb"
      },
      "id": "rYrmp9HxFpQb"
    },
    {
      "cell_type": "markdown",
      "source": [
        "**Convierte todos los caracteres en mayuscula...**"
      ],
      "metadata": {
        "id": "paR3eX6jFtEy"
      },
      "id": "paR3eX6jFtEy"
    },
    {
      "cell_type": "code",
      "source": [
        "texto"
      ],
      "metadata": {
        "colab": {
          "base_uri": "https://localhost:8080/",
          "height": 35
        },
        "id": "fg1Pcr6RFxT0",
        "outputId": "faa0187c-30e8-4824-9d0c-7f53551c3e3e"
      },
      "id": "fg1Pcr6RFxT0",
      "execution_count": 75,
      "outputs": [
        {
          "output_type": "execute_result",
          "data": {
            "text/plain": [
              "'python for data analysis'"
            ],
            "application/vnd.google.colaboratory.intrinsic+json": {
              "type": "string"
            }
          },
          "metadata": {},
          "execution_count": 75
        }
      ]
    },
    {
      "cell_type": "code",
      "source": [
        "texto.upper()"
      ],
      "metadata": {
        "colab": {
          "base_uri": "https://localhost:8080/",
          "height": 35
        },
        "id": "lzDa43aFF0sL",
        "outputId": "b53c5830-7f5b-4ea9-c049-70c7a7c846db"
      },
      "id": "lzDa43aFF0sL",
      "execution_count": 76,
      "outputs": [
        {
          "output_type": "execute_result",
          "data": {
            "text/plain": [
              "'PYTHON FOR DATA ANALYSIS'"
            ],
            "application/vnd.google.colaboratory.intrinsic+json": {
              "type": "string"
            }
          },
          "metadata": {},
          "execution_count": 76
        }
      ]
    },
    {
      "cell_type": "code",
      "source": [
        "texto = texto.upper()"
      ],
      "metadata": {
        "id": "uBS4Np6jF3TB"
      },
      "id": "uBS4Np6jF3TB",
      "execution_count": 77,
      "outputs": []
    },
    {
      "cell_type": "markdown",
      "source": [
        "#### **```split()```**"
      ],
      "metadata": {
        "id": "FaRENQ85F8Ot"
      },
      "id": "FaRENQ85F8Ot"
    },
    {
      "cell_type": "markdown",
      "source": [
        "**Divide una cadena de caracteres en subcadenas dentro de una lista. La división se realiza en virtud de lo que se indica en un parámetro**\n"
      ],
      "metadata": {
        "id": "xHxRDFpnF9l6"
      },
      "id": "xHxRDFpnF9l6"
    },
    {
      "cell_type": "code",
      "source": [
        "texto"
      ],
      "metadata": {
        "colab": {
          "base_uri": "https://localhost:8080/",
          "height": 35
        },
        "id": "FYRM6sz6GA8c",
        "outputId": "5bf65304-b61e-4892-84d6-e022bcbbfc65"
      },
      "id": "FYRM6sz6GA8c",
      "execution_count": 78,
      "outputs": [
        {
          "output_type": "execute_result",
          "data": {
            "text/plain": [
              "'PYTHON FOR DATA ANALYSIS'"
            ],
            "application/vnd.google.colaboratory.intrinsic+json": {
              "type": "string"
            }
          },
          "metadata": {},
          "execution_count": 78
        }
      ]
    },
    {
      "cell_type": "code",
      "source": [
        "texto.split(sep=\" \")"
      ],
      "metadata": {
        "colab": {
          "base_uri": "https://localhost:8080/"
        },
        "id": "R0RNt2jZGF6n",
        "outputId": "67367a6b-06e0-43f7-ba97-8c0797ef6827"
      },
      "id": "R0RNt2jZGF6n",
      "execution_count": 79,
      "outputs": [
        {
          "output_type": "execute_result",
          "data": {
            "text/plain": [
              "['PYTHON', 'FOR', 'DATA', 'ANALYSIS']"
            ]
          },
          "metadata": {},
          "execution_count": 79
        }
      ]
    },
    {
      "cell_type": "markdown",
      "source": [
        "#### **```replace()```**"
      ],
      "metadata": {
        "id": "c7cSBMZdGJuu"
      },
      "id": "c7cSBMZdGJuu"
    },
    {
      "cell_type": "markdown",
      "source": [
        "**Este metodo recibe dos parámetros, el primero es la cadena a reemplazar, y el segundo la cadena nueva que lo va a reemplazar**"
      ],
      "metadata": {
        "id": "0SMu-NUPGLq4"
      },
      "id": "0SMu-NUPGLq4"
    },
    {
      "cell_type": "code",
      "source": [
        "texto"
      ],
      "metadata": {
        "colab": {
          "base_uri": "https://localhost:8080/",
          "height": 35
        },
        "id": "T6jbX7oHGPC8",
        "outputId": "e232a141-9029-453e-8601-1f9677458bf6"
      },
      "id": "T6jbX7oHGPC8",
      "execution_count": 80,
      "outputs": [
        {
          "output_type": "execute_result",
          "data": {
            "text/plain": [
              "'PYTHON FOR DATA ANALYSIS'"
            ],
            "application/vnd.google.colaboratory.intrinsic+json": {
              "type": "string"
            }
          },
          "metadata": {},
          "execution_count": 80
        }
      ]
    },
    {
      "cell_type": "code",
      "source": [
        "texto.replace(\"ANALYSIS\",\"SCIENCE\")"
      ],
      "metadata": {
        "colab": {
          "base_uri": "https://localhost:8080/",
          "height": 35
        },
        "id": "zjkcfZGIGRu9",
        "outputId": "0db2e3ea-b752-4690-eb03-93787a856cbe"
      },
      "id": "zjkcfZGIGRu9",
      "execution_count": 81,
      "outputs": [
        {
          "output_type": "execute_result",
          "data": {
            "text/plain": [
              "'PYTHON FOR DATA SCIENCE'"
            ],
            "application/vnd.google.colaboratory.intrinsic+json": {
              "type": "string"
            }
          },
          "metadata": {},
          "execution_count": 81
        }
      ]
    },
    {
      "cell_type": "markdown",
      "id": "a7f1ce32-21b2-4807-b712-bfb3576733d5",
      "metadata": {
        "id": "a7f1ce32-21b2-4807-b712-bfb3576733d5"
      },
      "source": [
        "---\n",
        "<p>\n",
        "<font color=\"RoyalBlue\">\n",
        "\n",
        "💙 **Hemos llegado al fin de este cuaderno, felicitaciones hemos aprendido operaciones básicas numéricas, cadenas de caracteres y hemos usado algunas funciones integradas de Python, ahora a seguir en el proximo cuaderno...** \n",
        "</font>\n",
        "</p>\n",
        "\n",
        "---"
      ]
    },
    {
      "cell_type": "markdown",
      "id": "babfb035-7174-44d2-bb7f-c7314632bba9",
      "metadata": {
        "id": "babfb035-7174-44d2-bb7f-c7314632bba9"
      },
      "source": [
        "# 😀"
      ]
    },
    {
      "cell_type": "markdown",
      "source": [
        "![](https://everisgroup.sharepoint.com/sites/BrandCenter/Shared%20Documents/Logo/FUTURE%20AT%20HEART/BLACK/FUTURE-HEARTH.png)"
      ],
      "metadata": {
        "id": "hXesoXDTEXwU"
      },
      "id": "hXesoXDTEXwU"
    }
  ],
  "metadata": {
    "kernelspec": {
      "display_name": "Python 3 (ipykernel)",
      "language": "python",
      "name": "python3"
    },
    "language_info": {
      "codemirror_mode": {
        "name": "ipython",
        "version": 3
      },
      "file_extension": ".py",
      "mimetype": "text/x-python",
      "name": "python",
      "nbconvert_exporter": "python",
      "pygments_lexer": "ipython3",
      "version": "3.10.2"
    },
    "colab": {
      "provenance": [],
      "collapsed_sections": [
        "d854b63b-648a-4a0b-981a-40964634c748"
      ],
      "toc_visible": true,
      "include_colab_link": true
    }
  },
  "nbformat": 4,
  "nbformat_minor": 5
}