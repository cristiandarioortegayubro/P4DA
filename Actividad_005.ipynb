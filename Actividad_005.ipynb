{
  "cells": [
    {
      "cell_type": "markdown",
      "metadata": {
        "id": "view-in-github",
        "colab_type": "text"
      },
      "source": [
        "<a href=\"https://colab.research.google.com/github/cristiandarioortegayubro/P4DA/blob/main/Actividad_005.ipynb\" target=\"_parent\"><img src=\"https://colab.research.google.com/assets/colab-badge.svg\" alt=\"Open In Colab\"/></a>"
      ]
    },
    {
      "cell_type": "markdown",
      "source": [
        "![](https://github.com/cristiandarioortegayubro/P4DA/blob/main/Logo.png?raw=true)"
      ],
      "metadata": {
        "id": "uBHtO3tbUBGA"
      },
      "id": "uBHtO3tbUBGA"
    },
    {
      "cell_type": "markdown",
      "id": "49f579e7",
      "metadata": {
        "id": "49f579e7"
      },
      "source": [
        "![logo](https://www.python.org/static/community_logos/python-powered-h-70x91.png)"
      ]
    },
    {
      "cell_type": "markdown",
      "id": "6e754985-cdd9-4a64-9d7f-fcfbfa78abef",
      "metadata": {
        "id": "6e754985-cdd9-4a64-9d7f-fcfbfa78abef"
      },
      "source": [
        "# ☯ <font color=\"RoyalBlue\">**Actividad 005 recargado 🤓**</font>"
      ]
    },
    {
      "cell_type": "markdown",
      "source": [
        "## 🔹 **<font color=\"RoyalBlue\">Contexto</font>**"
      ],
      "metadata": {
        "id": "joUOoCl6UX0C"
      },
      "id": "joUOoCl6UX0C"
    },
    {
      "cell_type": "markdown",
      "source": [
        "https://atm.mendoza.gov.ar/"
      ],
      "metadata": {
        "id": "9VEqthj5VrmF"
      },
      "id": "9VEqthj5VrmF"
    },
    {
      "cell_type": "markdown",
      "source": [
        "![](https://atm.mendoza.gov.ar/wp-content/uploads/2023/01/Frente-Atm.png)"
      ],
      "metadata": {
        "id": "3C6LSsgEUBqH"
      },
      "id": "3C6LSsgEUBqH"
    },
    {
      "cell_type": "markdown",
      "source": [
        "<p align=\"justify\"><b>\n",
        "<font color=\"RoyalBlue\">\n",
        "En la Administración Tributaria Mendoza se pueden hacer trámites online, tales como inscribirse en ingresos brutos, sacar el boleto del impuesto automotor o inmobiliario o tramitar una exención de impuestos.<br><br>Cuando el contribuyente termina su trámite online, se lo invita a participar de una encuesta de satisfacción. Esta encuesta es un Google Forms, y sus respuestas terminan en una planilla de cálculos que se transforma a un CSV.<br><br>😈😈😈 Tenemos esos datos, las encuestas de todo el año 2020 y 2021, entonces podemos analizar esos datos e intentar hacer un analisis de sentimiento caserito nomas...\n",
        "</font>\n",
        "</p>"
      ],
      "metadata": {
        "id": "4a18vSjJWTOg"
      },
      "id": "4a18vSjJWTOg"
    },
    {
      "cell_type": "markdown",
      "source": [
        "## 🔹 **<font color=\"RoyalBlue\">Actualización de la biblioteca requerida</font>**"
      ],
      "metadata": {
        "id": "yv1FmJWMGP4k"
      },
      "id": "yv1FmJWMGP4k"
    },
    {
      "cell_type": "code",
      "source": [
        "!pip install plotly --upgrade "
      ],
      "metadata": {
        "id": "2ZIRC-OVGem7"
      },
      "id": "2ZIRC-OVGem7",
      "execution_count": null,
      "outputs": []
    },
    {
      "cell_type": "markdown",
      "id": "0704d660-cd44-4b7e-918d-65a4633e915e",
      "metadata": {
        "id": "0704d660-cd44-4b7e-918d-65a4633e915e"
      },
      "source": [
        "## 🔹 <font color=\"RoyalBlue\">**Habilitando bibliotecas requeridas**</font>"
      ]
    },
    {
      "cell_type": "markdown",
      "source": [
        "### **<font color=\"RoyalBlue\">Para análisis de datos</font>**"
      ],
      "metadata": {
        "id": "lgVJWp5BGkt6"
      },
      "id": "lgVJWp5BGkt6"
    },
    {
      "cell_type": "code",
      "source": [
        "# mi código aquí"
      ],
      "metadata": {
        "id": "OB3plSng-CbD"
      },
      "id": "OB3plSng-CbD",
      "execution_count": null,
      "outputs": []
    },
    {
      "cell_type": "markdown",
      "source": [
        "### **<font color=\"RoyalBlue\">Biblioteca gráfica</font>**"
      ],
      "metadata": {
        "id": "21C-oIB_GnNY"
      },
      "id": "21C-oIB_GnNY"
    },
    {
      "cell_type": "code",
      "source": [
        "# mi código aquí"
      ],
      "metadata": {
        "id": "DdRRlgiNGtaw"
      },
      "id": "DdRRlgiNGtaw",
      "execution_count": null,
      "outputs": []
    },
    {
      "cell_type": "markdown",
      "source": [
        "## 🔹 <font color=\"RoyalBlue\">**Encuestas**</font>"
      ],
      "metadata": {
        "id": "qPTuQcuA-P4U"
      },
      "id": "qPTuQcuA-P4U"
    },
    {
      "cell_type": "markdown",
      "source": [
        "### <font color=\"RoyalBlue\">**Fuente de datos**</font>"
      ],
      "metadata": {
        "id": "yc04gyGFY0Cr"
      },
      "id": "yc04gyGFY0Cr"
    },
    {
      "cell_type": "code",
      "source": [
        "url = \"https://raw.githubusercontent.com/cristiandarioortegayubro/P4DA/main/\"\n",
        "archivo_2020 = \"encuesta2020.csv\"\n",
        "archivo_2021 = \"encuesta2021.csv\""
      ],
      "metadata": {
        "id": "tscpTJ2sY3Qj"
      },
      "id": "tscpTJ2sY3Qj",
      "execution_count": null,
      "outputs": []
    },
    {
      "cell_type": "markdown",
      "source": [
        "### <font color=\"RoyalBlue\">**Creación del dataframe**</font>"
      ],
      "metadata": {
        "id": "UVanB5W18sKi"
      },
      "id": "UVanB5W18sKi"
    },
    {
      "cell_type": "code",
      "source": [
        "# mi código aquí"
      ],
      "metadata": {
        "id": "b6wWn-lT4ce0"
      },
      "id": "b6wWn-lT4ce0",
      "execution_count": null,
      "outputs": []
    },
    {
      "cell_type": "markdown",
      "source": [
        "### <font color=\"RoyalBlue\">**Actividades con los dataframes**</font>"
      ],
      "metadata": {
        "id": "FJTZ6LG0aHW9"
      },
      "id": "FJTZ6LG0aHW9"
    },
    {
      "cell_type": "markdown",
      "source": [
        "<p align=\"justify\"><b>\n",
        "<font color=\"RoyalBlue\">\n",
        "Utilizar el metodo <code>head()</code>. Esta primera parte se viene facil, luego empieza a complicarse...\n",
        "</font>\n",
        "</p>"
      ],
      "metadata": {
        "id": "GPLR0T_yN8mH"
      },
      "id": "GPLR0T_yN8mH"
    },
    {
      "cell_type": "markdown",
      "source": [
        "<p>\n",
        "<font color=\"DarkBlue\">\n",
        "\n",
        "> **Visualizar las primeras filas de los dataframes** \n",
        "</font>\n",
        "</p>\n"
      ],
      "metadata": {
        "id": "L-So8f4MapWY"
      },
      "id": "L-So8f4MapWY"
    },
    {
      "cell_type": "code",
      "source": [
        "# mi código aquí"
      ],
      "metadata": {
        "colab": {
          "base_uri": "https://localhost:8080/",
          "height": 413
        },
        "id": "DJ6wd2kHe3t5",
        "outputId": "edba3d9e-32e0-43ce-c7d3-0e653e20b9cd"
      },
      "id": "DJ6wd2kHe3t5",
      "execution_count": null,
      "outputs": [
        {
          "output_type": "execute_result",
          "data": {
            "text/plain": [
              "        Marca temporal 1. Utiliza habitualmente la página web de ATM  \\\n",
              "0  31/12/2020 17:38:37                                            SI   \n",
              "1  31/12/2020 16:29:17                                            SI   \n",
              "2  31/12/2020 15:33:54                                            SI   \n",
              "\n",
              "  2. Le resultó simple la creación de su cuenta en Mis Trámites  \\\n",
              "0                                                 SI              \n",
              "1                                                 SI              \n",
              "2                                                 SI              \n",
              "\n",
              "  3. Le resulta comprensible la sección de Mis Trámites  \\\n",
              "0                                                 NO      \n",
              "1                                                 SI      \n",
              "2                                                 SI      \n",
              "\n",
              "  4. El trámite que realizó dentro de Mis Trámites fue resuelto de forma:  \\\n",
              "0                                 Poco satisfactoria                        \n",
              "1                                  Muy satisfactoria                        \n",
              "2                                 Nada satisfactoria                        \n",
              "\n",
              "  5. La información brindada por la página web de ATM es:  \\\n",
              "0                                            Regular        \n",
              "1                                          Muy Buena        \n",
              "2                                               Mala        \n",
              "\n",
              "  6. El boleto para pagar el año 2020 lo obtuvo por:  \\\n",
              "0                   Descarga de la página web de ATM   \n",
              "1                   Descarga de la página web de ATM   \n",
              "2                   Descarga de la página web de ATM   \n",
              "\n",
              "                          Agregue aquí su sugerencia  \n",
              "0                                                NaN  \n",
              "1                                                NaN  \n",
              "2  DESDE LA ACTIVIDAD PROFESIONAL COMPLICARON MUC...  "
            ],
            "text/html": [
              "\n",
              "  <div id=\"df-57dfe6b1-b4f4-4dad-bc9d-dcd5d40ec330\">\n",
              "    <div class=\"colab-df-container\">\n",
              "      <div>\n",
              "<style scoped>\n",
              "    .dataframe tbody tr th:only-of-type {\n",
              "        vertical-align: middle;\n",
              "    }\n",
              "\n",
              "    .dataframe tbody tr th {\n",
              "        vertical-align: top;\n",
              "    }\n",
              "\n",
              "    .dataframe thead th {\n",
              "        text-align: right;\n",
              "    }\n",
              "</style>\n",
              "<table border=\"1\" class=\"dataframe\">\n",
              "  <thead>\n",
              "    <tr style=\"text-align: right;\">\n",
              "      <th></th>\n",
              "      <th>Marca temporal</th>\n",
              "      <th>1. Utiliza habitualmente la página web de ATM</th>\n",
              "      <th>2. Le resultó simple la creación de su cuenta en Mis Trámites</th>\n",
              "      <th>3. Le resulta comprensible la sección de Mis Trámites</th>\n",
              "      <th>4. El trámite que realizó dentro de Mis Trámites fue resuelto de forma:</th>\n",
              "      <th>5. La información brindada por la página web de ATM es:</th>\n",
              "      <th>6. El boleto para pagar el año 2020 lo obtuvo por:</th>\n",
              "      <th>Agregue aquí su sugerencia</th>\n",
              "    </tr>\n",
              "  </thead>\n",
              "  <tbody>\n",
              "    <tr>\n",
              "      <th>0</th>\n",
              "      <td>31/12/2020 17:38:37</td>\n",
              "      <td>SI</td>\n",
              "      <td>SI</td>\n",
              "      <td>NO</td>\n",
              "      <td>Poco satisfactoria</td>\n",
              "      <td>Regular</td>\n",
              "      <td>Descarga de la página web de ATM</td>\n",
              "      <td>NaN</td>\n",
              "    </tr>\n",
              "    <tr>\n",
              "      <th>1</th>\n",
              "      <td>31/12/2020 16:29:17</td>\n",
              "      <td>SI</td>\n",
              "      <td>SI</td>\n",
              "      <td>SI</td>\n",
              "      <td>Muy satisfactoria</td>\n",
              "      <td>Muy Buena</td>\n",
              "      <td>Descarga de la página web de ATM</td>\n",
              "      <td>NaN</td>\n",
              "    </tr>\n",
              "    <tr>\n",
              "      <th>2</th>\n",
              "      <td>31/12/2020 15:33:54</td>\n",
              "      <td>SI</td>\n",
              "      <td>SI</td>\n",
              "      <td>SI</td>\n",
              "      <td>Nada satisfactoria</td>\n",
              "      <td>Mala</td>\n",
              "      <td>Descarga de la página web de ATM</td>\n",
              "      <td>DESDE LA ACTIVIDAD PROFESIONAL COMPLICARON MUC...</td>\n",
              "    </tr>\n",
              "  </tbody>\n",
              "</table>\n",
              "</div>\n",
              "      <button class=\"colab-df-convert\" onclick=\"convertToInteractive('df-57dfe6b1-b4f4-4dad-bc9d-dcd5d40ec330')\"\n",
              "              title=\"Convert this dataframe to an interactive table.\"\n",
              "              style=\"display:none;\">\n",
              "        \n",
              "  <svg xmlns=\"http://www.w3.org/2000/svg\" height=\"24px\"viewBox=\"0 0 24 24\"\n",
              "       width=\"24px\">\n",
              "    <path d=\"M0 0h24v24H0V0z\" fill=\"none\"/>\n",
              "    <path d=\"M18.56 5.44l.94 2.06.94-2.06 2.06-.94-2.06-.94-.94-2.06-.94 2.06-2.06.94zm-11 1L8.5 8.5l.94-2.06 2.06-.94-2.06-.94L8.5 2.5l-.94 2.06-2.06.94zm10 10l.94 2.06.94-2.06 2.06-.94-2.06-.94-.94-2.06-.94 2.06-2.06.94z\"/><path d=\"M17.41 7.96l-1.37-1.37c-.4-.4-.92-.59-1.43-.59-.52 0-1.04.2-1.43.59L10.3 9.45l-7.72 7.72c-.78.78-.78 2.05 0 2.83L4 21.41c.39.39.9.59 1.41.59.51 0 1.02-.2 1.41-.59l7.78-7.78 2.81-2.81c.8-.78.8-2.07 0-2.86zM5.41 20L4 18.59l7.72-7.72 1.47 1.35L5.41 20z\"/>\n",
              "  </svg>\n",
              "      </button>\n",
              "      \n",
              "  <style>\n",
              "    .colab-df-container {\n",
              "      display:flex;\n",
              "      flex-wrap:wrap;\n",
              "      gap: 12px;\n",
              "    }\n",
              "\n",
              "    .colab-df-convert {\n",
              "      background-color: #E8F0FE;\n",
              "      border: none;\n",
              "      border-radius: 50%;\n",
              "      cursor: pointer;\n",
              "      display: none;\n",
              "      fill: #1967D2;\n",
              "      height: 32px;\n",
              "      padding: 0 0 0 0;\n",
              "      width: 32px;\n",
              "    }\n",
              "\n",
              "    .colab-df-convert:hover {\n",
              "      background-color: #E2EBFA;\n",
              "      box-shadow: 0px 1px 2px rgba(60, 64, 67, 0.3), 0px 1px 3px 1px rgba(60, 64, 67, 0.15);\n",
              "      fill: #174EA6;\n",
              "    }\n",
              "\n",
              "    [theme=dark] .colab-df-convert {\n",
              "      background-color: #3B4455;\n",
              "      fill: #D2E3FC;\n",
              "    }\n",
              "\n",
              "    [theme=dark] .colab-df-convert:hover {\n",
              "      background-color: #434B5C;\n",
              "      box-shadow: 0px 1px 3px 1px rgba(0, 0, 0, 0.15);\n",
              "      filter: drop-shadow(0px 1px 2px rgba(0, 0, 0, 0.3));\n",
              "      fill: #FFFFFF;\n",
              "    }\n",
              "  </style>\n",
              "\n",
              "      <script>\n",
              "        const buttonEl =\n",
              "          document.querySelector('#df-57dfe6b1-b4f4-4dad-bc9d-dcd5d40ec330 button.colab-df-convert');\n",
              "        buttonEl.style.display =\n",
              "          google.colab.kernel.accessAllowed ? 'block' : 'none';\n",
              "\n",
              "        async function convertToInteractive(key) {\n",
              "          const element = document.querySelector('#df-57dfe6b1-b4f4-4dad-bc9d-dcd5d40ec330');\n",
              "          const dataTable =\n",
              "            await google.colab.kernel.invokeFunction('convertToInteractive',\n",
              "                                                     [key], {});\n",
              "          if (!dataTable) return;\n",
              "\n",
              "          const docLinkHtml = 'Like what you see? Visit the ' +\n",
              "            '<a target=\"_blank\" href=https://colab.research.google.com/notebooks/data_table.ipynb>data table notebook</a>'\n",
              "            + ' to learn more about interactive tables.';\n",
              "          element.innerHTML = '';\n",
              "          dataTable['output_type'] = 'display_data';\n",
              "          await google.colab.output.renderOutput(dataTable, element);\n",
              "          const docLink = document.createElement('div');\n",
              "          docLink.innerHTML = docLinkHtml;\n",
              "          element.appendChild(docLink);\n",
              "        }\n",
              "      </script>\n",
              "    </div>\n",
              "  </div>\n",
              "  "
            ]
          },
          "metadata": {},
          "execution_count": 6
        }
      ]
    },
    {
      "cell_type": "code",
      "source": [
        "# mi código aquí"
      ],
      "metadata": {
        "colab": {
          "base_uri": "https://localhost:8080/",
          "height": 378
        },
        "id": "wo6EzbuadnRE",
        "outputId": "4c9ac689-ec09-41da-9687-87c1441447f1"
      },
      "id": "wo6EzbuadnRE",
      "execution_count": null,
      "outputs": [
        {
          "output_type": "execute_result",
          "data": {
            "text/plain": [
              "      Marca temporal 1. Utiliza habitualmente la página web de ATM  \\\n",
              "0   3/2/2021 9:49:57                                            SI   \n",
              "1   3/2/2021 9:54:50                                            SI   \n",
              "2  3/2/2021 10:02:35                                            SI   \n",
              "\n",
              "  2. Le resultó simple la creación de su cuenta en Mis Trámites  \\\n",
              "0                                                 SI              \n",
              "1                                                 SI              \n",
              "2                                                 SI              \n",
              "\n",
              "  3. Le resulta comprensible la sección de Mis Trámites  \\\n",
              "0                                                 SI      \n",
              "1                                                 SI      \n",
              "2                                                 SI      \n",
              "\n",
              "  4. El trámite que realizó dentro de Mis Trámites fue resuelto de forma:  \\\n",
              "0                                  Muy satisfactoria                        \n",
              "1                                  Muy satisfactoria                        \n",
              "2                                      Satisfactoria                        \n",
              "\n",
              "  5. La información brindada por la página web de ATM es:  \\\n",
              "0                                          Muy Buena        \n",
              "1                                              Buena        \n",
              "2                                              Buena        \n",
              "\n",
              "  6. El boleto para pagar el año 2021 lo obtiene por:  \\\n",
              "0                   Descarga de la página web de ATM    \n",
              "1                   Descarga de la página web de ATM    \n",
              "2                   Descarga de la página web de ATM    \n",
              "\n",
              "                          Agregue aquí su sugerencia  \n",
              "0  La unica sugerencia, es un poco mas de celerid...  \n",
              "1                                                NaN  \n",
              "2                                                NaN  "
            ],
            "text/html": [
              "\n",
              "  <div id=\"df-4ed727c7-c2e7-4f4a-a6d3-62142e1a4b76\">\n",
              "    <div class=\"colab-df-container\">\n",
              "      <div>\n",
              "<style scoped>\n",
              "    .dataframe tbody tr th:only-of-type {\n",
              "        vertical-align: middle;\n",
              "    }\n",
              "\n",
              "    .dataframe tbody tr th {\n",
              "        vertical-align: top;\n",
              "    }\n",
              "\n",
              "    .dataframe thead th {\n",
              "        text-align: right;\n",
              "    }\n",
              "</style>\n",
              "<table border=\"1\" class=\"dataframe\">\n",
              "  <thead>\n",
              "    <tr style=\"text-align: right;\">\n",
              "      <th></th>\n",
              "      <th>Marca temporal</th>\n",
              "      <th>1. Utiliza habitualmente la página web de ATM</th>\n",
              "      <th>2. Le resultó simple la creación de su cuenta en Mis Trámites</th>\n",
              "      <th>3. Le resulta comprensible la sección de Mis Trámites</th>\n",
              "      <th>4. El trámite que realizó dentro de Mis Trámites fue resuelto de forma:</th>\n",
              "      <th>5. La información brindada por la página web de ATM es:</th>\n",
              "      <th>6. El boleto para pagar el año 2021 lo obtiene por:</th>\n",
              "      <th>Agregue aquí su sugerencia</th>\n",
              "    </tr>\n",
              "  </thead>\n",
              "  <tbody>\n",
              "    <tr>\n",
              "      <th>0</th>\n",
              "      <td>3/2/2021 9:49:57</td>\n",
              "      <td>SI</td>\n",
              "      <td>SI</td>\n",
              "      <td>SI</td>\n",
              "      <td>Muy satisfactoria</td>\n",
              "      <td>Muy Buena</td>\n",
              "      <td>Descarga de la página web de ATM</td>\n",
              "      <td>La unica sugerencia, es un poco mas de celerid...</td>\n",
              "    </tr>\n",
              "    <tr>\n",
              "      <th>1</th>\n",
              "      <td>3/2/2021 9:54:50</td>\n",
              "      <td>SI</td>\n",
              "      <td>SI</td>\n",
              "      <td>SI</td>\n",
              "      <td>Muy satisfactoria</td>\n",
              "      <td>Buena</td>\n",
              "      <td>Descarga de la página web de ATM</td>\n",
              "      <td>NaN</td>\n",
              "    </tr>\n",
              "    <tr>\n",
              "      <th>2</th>\n",
              "      <td>3/2/2021 10:02:35</td>\n",
              "      <td>SI</td>\n",
              "      <td>SI</td>\n",
              "      <td>SI</td>\n",
              "      <td>Satisfactoria</td>\n",
              "      <td>Buena</td>\n",
              "      <td>Descarga de la página web de ATM</td>\n",
              "      <td>NaN</td>\n",
              "    </tr>\n",
              "  </tbody>\n",
              "</table>\n",
              "</div>\n",
              "      <button class=\"colab-df-convert\" onclick=\"convertToInteractive('df-4ed727c7-c2e7-4f4a-a6d3-62142e1a4b76')\"\n",
              "              title=\"Convert this dataframe to an interactive table.\"\n",
              "              style=\"display:none;\">\n",
              "        \n",
              "  <svg xmlns=\"http://www.w3.org/2000/svg\" height=\"24px\"viewBox=\"0 0 24 24\"\n",
              "       width=\"24px\">\n",
              "    <path d=\"M0 0h24v24H0V0z\" fill=\"none\"/>\n",
              "    <path d=\"M18.56 5.44l.94 2.06.94-2.06 2.06-.94-2.06-.94-.94-2.06-.94 2.06-2.06.94zm-11 1L8.5 8.5l.94-2.06 2.06-.94-2.06-.94L8.5 2.5l-.94 2.06-2.06.94zm10 10l.94 2.06.94-2.06 2.06-.94-2.06-.94-.94-2.06-.94 2.06-2.06.94z\"/><path d=\"M17.41 7.96l-1.37-1.37c-.4-.4-.92-.59-1.43-.59-.52 0-1.04.2-1.43.59L10.3 9.45l-7.72 7.72c-.78.78-.78 2.05 0 2.83L4 21.41c.39.39.9.59 1.41.59.51 0 1.02-.2 1.41-.59l7.78-7.78 2.81-2.81c.8-.78.8-2.07 0-2.86zM5.41 20L4 18.59l7.72-7.72 1.47 1.35L5.41 20z\"/>\n",
              "  </svg>\n",
              "      </button>\n",
              "      \n",
              "  <style>\n",
              "    .colab-df-container {\n",
              "      display:flex;\n",
              "      flex-wrap:wrap;\n",
              "      gap: 12px;\n",
              "    }\n",
              "\n",
              "    .colab-df-convert {\n",
              "      background-color: #E8F0FE;\n",
              "      border: none;\n",
              "      border-radius: 50%;\n",
              "      cursor: pointer;\n",
              "      display: none;\n",
              "      fill: #1967D2;\n",
              "      height: 32px;\n",
              "      padding: 0 0 0 0;\n",
              "      width: 32px;\n",
              "    }\n",
              "\n",
              "    .colab-df-convert:hover {\n",
              "      background-color: #E2EBFA;\n",
              "      box-shadow: 0px 1px 2px rgba(60, 64, 67, 0.3), 0px 1px 3px 1px rgba(60, 64, 67, 0.15);\n",
              "      fill: #174EA6;\n",
              "    }\n",
              "\n",
              "    [theme=dark] .colab-df-convert {\n",
              "      background-color: #3B4455;\n",
              "      fill: #D2E3FC;\n",
              "    }\n",
              "\n",
              "    [theme=dark] .colab-df-convert:hover {\n",
              "      background-color: #434B5C;\n",
              "      box-shadow: 0px 1px 3px 1px rgba(0, 0, 0, 0.15);\n",
              "      filter: drop-shadow(0px 1px 2px rgba(0, 0, 0, 0.3));\n",
              "      fill: #FFFFFF;\n",
              "    }\n",
              "  </style>\n",
              "\n",
              "      <script>\n",
              "        const buttonEl =\n",
              "          document.querySelector('#df-4ed727c7-c2e7-4f4a-a6d3-62142e1a4b76 button.colab-df-convert');\n",
              "        buttonEl.style.display =\n",
              "          google.colab.kernel.accessAllowed ? 'block' : 'none';\n",
              "\n",
              "        async function convertToInteractive(key) {\n",
              "          const element = document.querySelector('#df-4ed727c7-c2e7-4f4a-a6d3-62142e1a4b76');\n",
              "          const dataTable =\n",
              "            await google.colab.kernel.invokeFunction('convertToInteractive',\n",
              "                                                     [key], {});\n",
              "          if (!dataTable) return;\n",
              "\n",
              "          const docLinkHtml = 'Like what you see? Visit the ' +\n",
              "            '<a target=\"_blank\" href=https://colab.research.google.com/notebooks/data_table.ipynb>data table notebook</a>'\n",
              "            + ' to learn more about interactive tables.';\n",
              "          element.innerHTML = '';\n",
              "          dataTable['output_type'] = 'display_data';\n",
              "          await google.colab.output.renderOutput(dataTable, element);\n",
              "          const docLink = document.createElement('div');\n",
              "          docLink.innerHTML = docLinkHtml;\n",
              "          element.appendChild(docLink);\n",
              "        }\n",
              "      </script>\n",
              "    </div>\n",
              "  </div>\n",
              "  "
            ]
          },
          "metadata": {},
          "execution_count": 7
        }
      ]
    },
    {
      "cell_type": "markdown",
      "source": [
        "<p>\n",
        "<font color=\"DarkBlue\">\n",
        "\n",
        "> **Constatar los tipos de datos de las series y los valores nulos** \n",
        "</font>\n",
        "</p>\n"
      ],
      "metadata": {
        "id": "Afdoa-qca-Ut"
      },
      "id": "Afdoa-qca-Ut"
    },
    {
      "cell_type": "markdown",
      "source": [
        "<p align=\"justify\"><b>\n",
        "<font color=\"RoyalBlue\">\n",
        "Una de las formas de hacerlo, es con el metodo <code>info()</code>...\n",
        "</font>\n",
        "</p>"
      ],
      "metadata": {
        "id": "2KrdgZUiOZOq"
      },
      "id": "2KrdgZUiOZOq"
    },
    {
      "cell_type": "code",
      "source": [
        "# mi código aquí"
      ],
      "metadata": {
        "id": "FdCaQzZQbkec"
      },
      "id": "FdCaQzZQbkec",
      "execution_count": null,
      "outputs": []
    },
    {
      "cell_type": "code",
      "source": [
        "# mi código aquí"
      ],
      "metadata": {
        "id": "eaRMpTbgeEx4"
      },
      "id": "eaRMpTbgeEx4",
      "execution_count": null,
      "outputs": []
    },
    {
      "cell_type": "markdown",
      "source": [
        "## 🔹 <font color=\"RoyalBlue\">**A divertirse... 😈**</font>"
      ],
      "metadata": {
        "id": "T34YSDVbEsEx"
      },
      "id": "T34YSDVbEsEx"
    },
    {
      "cell_type": "markdown",
      "source": [
        "---\n",
        "<p>\n",
        "<font color=\"RoyalBlue\">\n",
        "\n",
        "👀 **Para los siguientes puntos se puede consultar la documentación técnica de Pandas, la de Plotly, y la que necesiten...** 😃\n",
        "</font>\n",
        "</p>\n",
        "\n",
        "---"
      ],
      "metadata": {
        "id": "wY_DYxOjNxrP"
      },
      "id": "wY_DYxOjNxrP"
    },
    {
      "cell_type": "markdown",
      "source": [
        "### <font color=\"RoyalBlue\">**Limpieza y transformación de los datos**</font>"
      ],
      "metadata": {
        "id": "SxF7N31feyor"
      },
      "id": "SxF7N31feyor"
    },
    {
      "cell_type": "markdown",
      "source": [
        "<p>\n",
        "<font color=\"DarkBlue\">\n",
        "\n",
        "> **Queremos renombrar las columnas de los dataframe, a la primera llamarla Fecha, y al resto llamarlas Pregunta_1, Pregunta_2 y así sucesivamente...** \n",
        "</font>\n",
        "</p>\n"
      ],
      "metadata": {
        "id": "G5sK7FCrgSMS"
      },
      "id": "G5sK7FCrgSMS"
    },
    {
      "cell_type": "markdown",
      "source": [
        "<p align=\"justify\"><b>\n",
        "<font color=\"RoyalBlue\">\n",
        "Si vamos a usar <code>for</code> como para iterar con el atributo <code>columns</code> del dataframe, entonces podriamos combinar con el metodo <code>enumerate()</code> que lo que hace es justamente enumerar elementos... 👀 Este punto es valido inspirarse en el colab resuelto...\n",
        "</font>\n",
        "</p>"
      ],
      "metadata": {
        "id": "zY8cZB-MOneY"
      },
      "id": "zY8cZB-MOneY"
    },
    {
      "cell_type": "code",
      "source": [
        "# mi código aquí"
      ],
      "metadata": {
        "id": "DLHW8pjNt4Di"
      },
      "id": "DLHW8pjNt4Di",
      "execution_count": null,
      "outputs": []
    },
    {
      "cell_type": "code",
      "source": [
        "# mi código aquí"
      ],
      "metadata": {
        "id": "epYO2q6hwYDJ"
      },
      "id": "epYO2q6hwYDJ",
      "execution_count": null,
      "outputs": []
    },
    {
      "cell_type": "markdown",
      "source": [
        "<p>\n",
        "<font color=\"DarkBlue\">\n",
        "\n",
        "> **Cambiar el tipo de datos de la columna ```Fecha``` al que corresponde...** \n",
        "</font>\n",
        "</p>\n"
      ],
      "metadata": {
        "id": "sh7AfITXOJac"
      },
      "id": "sh7AfITXOJac"
    },
    {
      "cell_type": "markdown",
      "source": [
        "<p align=\"justify\"><b>\n",
        "<font color=\"RoyalBlue\">\n",
        "Utilizar el metodo <code>DatetimeIndex()</code>...\n",
        "</font>\n",
        "</p>"
      ],
      "metadata": {
        "id": "YpY5UjPYPoxh"
      },
      "id": "YpY5UjPYPoxh"
    },
    {
      "cell_type": "code",
      "source": [
        "# mi código aquí"
      ],
      "metadata": {
        "id": "Q3hVdK7sPBJE"
      },
      "id": "Q3hVdK7sPBJE",
      "execution_count": null,
      "outputs": []
    },
    {
      "cell_type": "markdown",
      "source": [
        "<p>\n",
        "<font color=\"DarkBlue\">\n",
        "\n",
        "> **Ordenar los valores del dataframe por la columna ```Fecha```...** \n",
        "</font>\n",
        "</p>\n"
      ],
      "metadata": {
        "id": "IPYIZ6epPlCR"
      },
      "id": "IPYIZ6epPlCR"
    },
    {
      "cell_type": "markdown",
      "source": [
        "<p align=\"justify\"><b>\n",
        "<font color=\"RoyalBlue\">\n",
        "Utilizar el metodo <code>sort_values()</code>, con el parametro <code>inplace=True</code>...\n",
        "</font>\n",
        "</p>"
      ],
      "metadata": {
        "id": "8_1tOIQ4PzE3"
      },
      "id": "8_1tOIQ4PzE3"
    },
    {
      "cell_type": "code",
      "source": [
        "# mi código aquí"
      ],
      "metadata": {
        "id": "9go6f_MaQlv6"
      },
      "id": "9go6f_MaQlv6",
      "execution_count": null,
      "outputs": []
    },
    {
      "cell_type": "markdown",
      "source": [
        "<p>\n",
        "<font color=\"DarkBlue\">\n",
        "\n",
        "> **Ahora corregimos el ```indice``` del dataframe...** \n",
        "</font>\n",
        "</p>\n"
      ],
      "metadata": {
        "id": "ZxuOFrS5RAvY"
      },
      "id": "ZxuOFrS5RAvY"
    },
    {
      "cell_type": "code",
      "source": [
        "# mi código aquí"
      ],
      "metadata": {
        "id": "4VUjnv6TRAJT"
      },
      "id": "4VUjnv6TRAJT",
      "execution_count": null,
      "outputs": []
    },
    {
      "cell_type": "markdown",
      "source": [
        "### <font color=\"RoyalBlue\">**Filtros**</font>"
      ],
      "metadata": {
        "id": "0QW99VbxSikM"
      },
      "id": "0QW99VbxSikM"
    },
    {
      "cell_type": "markdown",
      "source": [
        "<p>\n",
        "<font color=\"DarkBlue\">\n",
        "\n",
        "> **Para el ejercicio 2020, solo dejar los ultimos meses...** \n",
        "</font>\n",
        "</p>"
      ],
      "metadata": {
        "id": "E5-I5ggYSpQX"
      },
      "id": "E5-I5ggYSpQX"
    },
    {
      "cell_type": "code",
      "source": [
        "# mi código aquí"
      ],
      "metadata": {
        "id": "W4eRAPWhSoxH"
      },
      "id": "W4eRAPWhSoxH",
      "execution_count": null,
      "outputs": []
    },
    {
      "cell_type": "markdown",
      "source": [
        "<p>\n",
        "<font color=\"DarkBlue\">\n",
        "\n",
        "> **Para el ejercicio 2021, hasta agosto...** \n",
        "</font>\n",
        "</p>"
      ],
      "metadata": {
        "id": "SvdvxsE7WAIu"
      },
      "id": "SvdvxsE7WAIu"
    },
    {
      "cell_type": "code",
      "source": [
        "# mi código aquí"
      ],
      "metadata": {
        "id": "X5d2DLMeWYoc"
      },
      "id": "X5d2DLMeWYoc",
      "execution_count": null,
      "outputs": []
    },
    {
      "cell_type": "markdown",
      "source": [
        "### <font color=\"RoyalBlue\">**Otras acciones en el dataframe...**</font>"
      ],
      "metadata": {
        "id": "FMRNky8SXux2"
      },
      "id": "FMRNky8SXux2"
    },
    {
      "cell_type": "markdown",
      "source": [
        "<p>\n",
        "<font color=\"DarkBlue\">\n",
        "\n",
        "> **Concatenar los objetos anteriores (los que estan filtrados)...** \n",
        "</font>\n",
        "</p>"
      ],
      "metadata": {
        "id": "aJEn-FcuX1x0"
      },
      "id": "aJEn-FcuX1x0"
    },
    {
      "cell_type": "markdown",
      "source": [
        "<p align=\"justify\"><b>\n",
        "<font color=\"RoyalBlue\">\n",
        "Utilizar el metodo <code>concat()</code>...\n",
        "</font>\n",
        "</p>"
      ],
      "metadata": {
        "id": "AnnhSs14QNX1"
      },
      "id": "AnnhSs14QNX1"
    },
    {
      "cell_type": "code",
      "source": [
        "# mi código aquí"
      ],
      "metadata": {
        "id": "-Y1twUhGX7tD"
      },
      "id": "-Y1twUhGX7tD",
      "execution_count": null,
      "outputs": []
    },
    {
      "cell_type": "markdown",
      "source": [
        "<p>\n",
        "<font color=\"DarkBlue\">\n",
        "\n",
        "> **Insertar en posición 1 una columna llamada ```Año``` con el año de la columna ```Fecha```...** \n",
        "</font>\n",
        "</p>"
      ],
      "metadata": {
        "id": "STdDlbzZaJDm"
      },
      "id": "STdDlbzZaJDm"
    },
    {
      "cell_type": "markdown",
      "source": [
        "<p align=\"justify\"><b>\n",
        "<font color=\"RoyalBlue\">\n",
        "Utilizar el metodo <code>insert()</code>. Para establecer el valor de la columna usar <code>pd.DatetimeIndex(encuesta[\"Fecha\"]).year</code>...\n",
        "</font>\n",
        "</p>"
      ],
      "metadata": {
        "id": "eb72N1L7QW78"
      },
      "id": "eb72N1L7QW78"
    },
    {
      "cell_type": "code",
      "source": [
        "# mi código aquí"
      ],
      "metadata": {
        "id": "d7jyDtXHapP8"
      },
      "id": "d7jyDtXHapP8",
      "execution_count": null,
      "outputs": []
    },
    {
      "cell_type": "markdown",
      "source": [
        "<p>\n",
        "<font color=\"DarkBlue\">\n",
        "\n",
        "> **Insertar en posición 2 una columna llamada ```Mes``` con el mes de la columna ```Fecha```...** \n",
        "</font>\n",
        "</p>"
      ],
      "metadata": {
        "id": "fsEgkjdiaztK"
      },
      "id": "fsEgkjdiaztK"
    },
    {
      "cell_type": "code",
      "source": [
        "# mi código aquí"
      ],
      "metadata": {
        "id": "MNheIzI-a92Z"
      },
      "id": "MNheIzI-a92Z",
      "execution_count": null,
      "outputs": []
    },
    {
      "cell_type": "markdown",
      "source": [
        "<p>\n",
        "<font color=\"DarkBlue\">\n",
        "\n",
        "> **Insertar en posición 3 una columna llamada ```Dia``` con el dia de la columna ```Fecha```...** \n",
        "</font>\n",
        "</p>"
      ],
      "metadata": {
        "id": "e9GvnYKQbMgQ"
      },
      "id": "e9GvnYKQbMgQ"
    },
    {
      "cell_type": "code",
      "source": [
        "# mi código aquí"
      ],
      "metadata": {
        "id": "aTtCOAE9bYcF"
      },
      "id": "aTtCOAE9bYcF",
      "execution_count": null,
      "outputs": []
    },
    {
      "cell_type": "markdown",
      "source": [
        "<p>\n",
        "<font color=\"DarkBlue\">\n",
        "\n",
        "> **Insertar en posición 4 una columna llamada ```Hora``` con el hora de la columna ```Fecha```...** \n",
        "</font>\n",
        "</p>"
      ],
      "metadata": {
        "id": "wJOc2p9fbjnM"
      },
      "id": "wJOc2p9fbjnM"
    },
    {
      "cell_type": "code",
      "source": [
        "# mi código aquí"
      ],
      "metadata": {
        "id": "8bg9WR5Tby1L"
      },
      "id": "8bg9WR5Tby1L",
      "execution_count": null,
      "outputs": []
    },
    {
      "cell_type": "markdown",
      "source": [
        "<p>\n",
        "<font color=\"DarkBlue\">\n",
        "\n",
        "> **De alguna forma dejar los valores de la columna ```Mes``` en español...** \n",
        "</font>\n",
        "</p>"
      ],
      "metadata": {
        "id": "5o27r5OFc5bk"
      },
      "id": "5o27r5OFc5bk"
    },
    {
      "cell_type": "code",
      "source": [
        "# mi código aquí"
      ],
      "metadata": {
        "id": "ucapL6CweHQA"
      },
      "id": "ucapL6CweHQA",
      "execution_count": null,
      "outputs": []
    },
    {
      "cell_type": "markdown",
      "source": [
        "<p>\n",
        "<font color=\"DarkBlue\">\n",
        "\n",
        "> **Lo mismo con la columna ```Dia```...** \n",
        "</font>\n",
        "</p>"
      ],
      "metadata": {
        "id": "dlMAFEmbiTYJ"
      },
      "id": "dlMAFEmbiTYJ"
    },
    {
      "cell_type": "code",
      "source": [
        "# mi código aquí"
      ],
      "metadata": {
        "id": "bygoseoHigw4"
      },
      "id": "bygoseoHigw4",
      "execution_count": null,
      "outputs": []
    },
    {
      "cell_type": "markdown",
      "source": [
        "<p>\n",
        "<font color=\"DarkBlue\">\n",
        "\n",
        "> **Cambiar el tipo de datos de ```Año``` y ```Hora``` por cadenas de caracteres...** \n",
        "</font>\n",
        "</p>"
      ],
      "metadata": {
        "id": "7u826lAvojd3"
      },
      "id": "7u826lAvojd3"
    },
    {
      "cell_type": "code",
      "source": [
        "# mi código aquí"
      ],
      "metadata": {
        "id": "aP6jOZp5pJLd"
      },
      "id": "aP6jOZp5pJLd",
      "execution_count": null,
      "outputs": []
    },
    {
      "cell_type": "markdown",
      "source": [
        "### <font color=\"RoyalBlue\">**A graficar...**</font>"
      ],
      "metadata": {
        "id": "Jw5pggvTksCz"
      },
      "id": "Jw5pggvTksCz"
    },
    {
      "cell_type": "markdown",
      "source": [
        "<p>\n",
        "<font color=\"DarkBlue\">\n",
        "\n",
        "> **Hacer grafico de barras por ```Mes``` para saber cuantas encuestas se realizaron...** \n",
        "</font>\n",
        "</p>"
      ],
      "metadata": {
        "id": "oI0_9ceEkwXq"
      },
      "id": "oI0_9ceEkwXq"
    },
    {
      "cell_type": "code",
      "source": [
        "# mi código aquí"
      ],
      "metadata": {
        "colab": {
          "base_uri": "https://localhost:8080/",
          "height": 542
        },
        "id": "iqXiGC1Rm7gz",
        "outputId": "dbccaf13-a4ae-4258-d61a-648ddcd8ab92"
      },
      "id": "iqXiGC1Rm7gz",
      "execution_count": null,
      "outputs": [
        {
          "output_type": "display_data",
          "data": {
            "text/html": [
              "<html>\n",
              "<head><meta charset=\"utf-8\" /></head>\n",
              "<body>\n",
              "    <div>            <script src=\"https://cdnjs.cloudflare.com/ajax/libs/mathjax/2.7.5/MathJax.js?config=TeX-AMS-MML_SVG\"></script><script type=\"text/javascript\">if (window.MathJax && window.MathJax.Hub && window.MathJax.Hub.Config) {window.MathJax.Hub.Config({SVG: {font: \"STIX-Web\"}});}</script>                <script type=\"text/javascript\">window.PlotlyConfig = {MathJaxConfig: 'local'};</script>\n",
              "        <script src=\"https://cdn.plot.ly/plotly-2.18.0.min.js\"></script>                <div id=\"1978717c-9cdc-4d0f-8e5d-691a08d18d38\" class=\"plotly-graph-div\" style=\"height:525px; width:100%;\"></div>            <script type=\"text/javascript\">                                    window.PLOTLYENV=window.PLOTLYENV || {};                                    if (document.getElementById(\"1978717c-9cdc-4d0f-8e5d-691a08d18d38\")) {                    Plotly.newPlot(                        \"1978717c-9cdc-4d0f-8e5d-691a08d18d38\",                        [{\"alignmentgroup\":\"True\",\"hovertemplate\":\"A\\u00f1o=2020<br>Mes=%{x}<br>Encuestas=%{y}<extra></extra>\",\"legendgroup\":\"2020\",\"marker\":{\"color\":\"#1F77B4\",\"pattern\":{\"shape\":\"\"}},\"name\":\"2020\",\"offsetgroup\":\"2020\",\"orientation\":\"v\",\"showlegend\":true,\"textposition\":\"auto\",\"x\":[\"Noviembre\",\"Diciembre\"],\"xaxis\":\"x\",\"y\":[501,404],\"yaxis\":\"y\",\"type\":\"bar\"},{\"alignmentgroup\":\"True\",\"hovertemplate\":\"A\\u00f1o=2021<br>Mes=%{x}<br>Encuestas=%{y}<extra></extra>\",\"legendgroup\":\"2021\",\"marker\":{\"color\":\"#FF7F0E\",\"pattern\":{\"shape\":\"\"}},\"name\":\"2021\",\"offsetgroup\":\"2021\",\"orientation\":\"v\",\"showlegend\":true,\"textposition\":\"auto\",\"x\":[\"Enero\",\"Febrero\",\"Marzo\",\"Abril\",\"Mayo\",\"Junio\",\"Julio\",\"Agosto\"],\"xaxis\":\"x\",\"y\":[118,409,636,585,426,432,398,416],\"yaxis\":\"y\",\"type\":\"bar\"}],                        {\"template\":{\"data\":{\"pie\":[{\"automargin\":true,\"type\":\"pie\"}]},\"layout\":{\"xaxis\":{\"showgrid\":true,\"title\":{\"standoff\":15}},\"yaxis\":{\"showgrid\":true,\"title\":{\"standoff\":15}}}},\"xaxis\":{\"anchor\":\"y\",\"domain\":[0.0,1.0],\"title\":{\"text\":\"Mes\"}},\"yaxis\":{\"anchor\":\"x\",\"domain\":[0.0,1.0],\"title\":{\"text\":\"Encuestas\"}},\"legend\":{\"title\":{\"text\":\"A\\u00f1o\"},\"tracegroupgap\":0},\"title\":{\"text\":\"Encuestas realizadas por mes\"},\"barmode\":\"relative\"},                        {\"responsive\": true}                    ).then(function(){\n",
              "                            \n",
              "var gd = document.getElementById('1978717c-9cdc-4d0f-8e5d-691a08d18d38');\n",
              "var x = new MutationObserver(function (mutations, observer) {{\n",
              "        var display = window.getComputedStyle(gd).display;\n",
              "        if (!display || display === 'none') {{\n",
              "            console.log([gd, 'removed!']);\n",
              "            Plotly.purge(gd);\n",
              "            observer.disconnect();\n",
              "        }}\n",
              "}});\n",
              "\n",
              "// Listen for the removal of the full notebook cells\n",
              "var notebookContainer = gd.closest('#notebook-container');\n",
              "if (notebookContainer) {{\n",
              "    x.observe(notebookContainer, {childList: true});\n",
              "}}\n",
              "\n",
              "// Listen for the clearing of the current output cell\n",
              "var outputEl = gd.closest('.output');\n",
              "if (outputEl) {{\n",
              "    x.observe(outputEl, {childList: true});\n",
              "}}\n",
              "\n",
              "                        })                };                            </script>        </div>\n",
              "</body>\n",
              "</html>"
            ]
          },
          "metadata": {}
        }
      ]
    },
    {
      "cell_type": "markdown",
      "source": [
        "<p>\n",
        "<font color=\"DarkBlue\">\n",
        "\n",
        "> **Hacer grafico de barras por ```Hora``` para saber en que horario se realizaron las encuestas...** \n",
        "</font>\n",
        "</p>"
      ],
      "metadata": {
        "id": "AHYRSbzxqXuP"
      },
      "id": "AHYRSbzxqXuP"
    },
    {
      "cell_type": "code",
      "source": [
        "# mi código aquí"
      ],
      "metadata": {
        "colab": {
          "base_uri": "https://localhost:8080/",
          "height": 542
        },
        "id": "OLZAC8Z-qlkk",
        "outputId": "d196a150-d391-4b6c-b0b9-56923c56994c"
      },
      "id": "OLZAC8Z-qlkk",
      "execution_count": null,
      "outputs": [
        {
          "output_type": "display_data",
          "data": {
            "text/html": [
              "<html>\n",
              "<head><meta charset=\"utf-8\" /></head>\n",
              "<body>\n",
              "    <div>            <script src=\"https://cdnjs.cloudflare.com/ajax/libs/mathjax/2.7.5/MathJax.js?config=TeX-AMS-MML_SVG\"></script><script type=\"text/javascript\">if (window.MathJax && window.MathJax.Hub && window.MathJax.Hub.Config) {window.MathJax.Hub.Config({SVG: {font: \"STIX-Web\"}});}</script>                <script type=\"text/javascript\">window.PlotlyConfig = {MathJaxConfig: 'local'};</script>\n",
              "        <script src=\"https://cdn.plot.ly/plotly-2.18.0.min.js\"></script>                <div id=\"a7008faa-43b3-4abc-9fa5-73b339d27ee9\" class=\"plotly-graph-div\" style=\"height:525px; width:100%;\"></div>            <script type=\"text/javascript\">                                    window.PLOTLYENV=window.PLOTLYENV || {};                                    if (document.getElementById(\"a7008faa-43b3-4abc-9fa5-73b339d27ee9\")) {                    Plotly.newPlot(                        \"a7008faa-43b3-4abc-9fa5-73b339d27ee9\",                        [{\"alignmentgroup\":\"True\",\"hovertemplate\":\"Hora=%{x}<br>Encuestas=%{y}<extra></extra>\",\"legendgroup\":\"\",\"marker\":{\"color\":\"#1F77B4\",\"pattern\":{\"shape\":\"\"}},\"name\":\"\",\"offsetgroup\":\"\",\"orientation\":\"v\",\"showlegend\":false,\"textposition\":\"auto\",\"x\":[\"0\",\"1\",\"10\",\"11\",\"12\",\"13\",\"14\",\"15\",\"16\",\"17\",\"18\",\"19\",\"2\",\"20\",\"21\",\"22\",\"23\",\"3\",\"4\",\"5\",\"6\",\"7\",\"8\",\"9\"],\"xaxis\":\"x\",\"y\":[35,13,477,516,464,350,239,256,257,224,221,212,7,200,151,115,76,4,2,1,4,30,138,333],\"yaxis\":\"y\",\"type\":\"bar\"}],                        {\"template\":{\"data\":{\"pie\":[{\"automargin\":true,\"type\":\"pie\"}]},\"layout\":{\"xaxis\":{\"showgrid\":true,\"title\":{\"standoff\":15}},\"yaxis\":{\"showgrid\":true,\"title\":{\"standoff\":15}}}},\"xaxis\":{\"anchor\":\"y\",\"domain\":[0.0,1.0],\"title\":{\"text\":\"Hora\"}},\"yaxis\":{\"anchor\":\"x\",\"domain\":[0.0,1.0],\"title\":{\"text\":\"Encuestas\"}},\"legend\":{\"tracegroupgap\":0},\"title\":{\"text\":\"Encuestas realizadas por hora en el d\\u00eda\"},\"barmode\":\"relative\"},                        {\"responsive\": true}                    ).then(function(){\n",
              "                            \n",
              "var gd = document.getElementById('a7008faa-43b3-4abc-9fa5-73b339d27ee9');\n",
              "var x = new MutationObserver(function (mutations, observer) {{\n",
              "        var display = window.getComputedStyle(gd).display;\n",
              "        if (!display || display === 'none') {{\n",
              "            console.log([gd, 'removed!']);\n",
              "            Plotly.purge(gd);\n",
              "            observer.disconnect();\n",
              "        }}\n",
              "}});\n",
              "\n",
              "// Listen for the removal of the full notebook cells\n",
              "var notebookContainer = gd.closest('#notebook-container');\n",
              "if (notebookContainer) {{\n",
              "    x.observe(notebookContainer, {childList: true});\n",
              "}}\n",
              "\n",
              "// Listen for the clearing of the current output cell\n",
              "var outputEl = gd.closest('.output');\n",
              "if (outputEl) {{\n",
              "    x.observe(outputEl, {childList: true});\n",
              "}}\n",
              "\n",
              "                        })                };                            </script>        </div>\n",
              "</body>\n",
              "</html>"
            ]
          },
          "metadata": {}
        }
      ]
    },
    {
      "cell_type": "markdown",
      "source": [
        "<p>\n",
        "<font color=\"DarkBlue\">\n",
        "\n",
        "> **Hacer grafico de barras por ```Dia``` para saber en que dia de la semana se realizaron mas encuestas...** \n",
        "</font>\n",
        "</p>"
      ],
      "metadata": {
        "id": "Uq4O9DvJre6g"
      },
      "id": "Uq4O9DvJre6g"
    },
    {
      "cell_type": "code",
      "source": [
        "# mi código aquí"
      ],
      "metadata": {
        "colab": {
          "base_uri": "https://localhost:8080/"
        },
        "id": "fM6ZgF3Erg2J",
        "outputId": "e649eaeb-437b-451a-85a0-7a473e3b4557"
      },
      "id": "fM6ZgF3Erg2J",
      "execution_count": null,
      "outputs": [
        {
          "output_type": "display_data",
          "data": {
            "text/html": [
              "<html>\n",
              "<head><meta charset=\"utf-8\" /></head>\n",
              "<body>\n",
              "    <div>            <script src=\"https://cdnjs.cloudflare.com/ajax/libs/mathjax/2.7.5/MathJax.js?config=TeX-AMS-MML_SVG\"></script><script type=\"text/javascript\">if (window.MathJax && window.MathJax.Hub && window.MathJax.Hub.Config) {window.MathJax.Hub.Config({SVG: {font: \"STIX-Web\"}});}</script>                <script type=\"text/javascript\">window.PlotlyConfig = {MathJaxConfig: 'local'};</script>\n",
              "        <script src=\"https://cdn.plot.ly/plotly-2.18.0.min.js\"></script>                <div id=\"2f38a20b-d043-47a9-8c50-77500f244306\" class=\"plotly-graph-div\" style=\"height:525px; width:100%;\"></div>            <script type=\"text/javascript\">                                    window.PLOTLYENV=window.PLOTLYENV || {};                                    if (document.getElementById(\"2f38a20b-d043-47a9-8c50-77500f244306\")) {                    Plotly.newPlot(                        \"2f38a20b-d043-47a9-8c50-77500f244306\",                        [{\"alignmentgroup\":\"True\",\"hovertemplate\":\"Dia=%{x}<br>Encuestas=%{y}<extra></extra>\",\"legendgroup\":\"Jueves\",\"marker\":{\"color\":\"#1F77B4\",\"pattern\":{\"shape\":\"\"}},\"name\":\"Jueves\",\"offsetgroup\":\"Jueves\",\"orientation\":\"v\",\"showlegend\":true,\"textposition\":\"auto\",\"x\":[\"Jueves\"],\"xaxis\":\"x\",\"y\":[681],\"yaxis\":\"y\",\"type\":\"bar\"},{\"alignmentgroup\":\"True\",\"hovertemplate\":\"Dia=%{x}<br>Encuestas=%{y}<extra></extra>\",\"legendgroup\":\"Viernes\",\"marker\":{\"color\":\"#FF7F0E\",\"pattern\":{\"shape\":\"\"}},\"name\":\"Viernes\",\"offsetgroup\":\"Viernes\",\"orientation\":\"v\",\"showlegend\":true,\"textposition\":\"auto\",\"x\":[\"Viernes\"],\"xaxis\":\"x\",\"y\":[669],\"yaxis\":\"y\",\"type\":\"bar\"},{\"alignmentgroup\":\"True\",\"hovertemplate\":\"Dia=%{x}<br>Encuestas=%{y}<extra></extra>\",\"legendgroup\":\"Sabado\",\"marker\":{\"color\":\"#2CA02C\",\"pattern\":{\"shape\":\"\"}},\"name\":\"Sabado\",\"offsetgroup\":\"Sabado\",\"orientation\":\"v\",\"showlegend\":true,\"textposition\":\"auto\",\"x\":[\"Sabado\"],\"xaxis\":\"x\",\"y\":[279],\"yaxis\":\"y\",\"type\":\"bar\"},{\"alignmentgroup\":\"True\",\"hovertemplate\":\"Dia=%{x}<br>Encuestas=%{y}<extra></extra>\",\"legendgroup\":\"Domingo\",\"marker\":{\"color\":\"#D62728\",\"pattern\":{\"shape\":\"\"}},\"name\":\"Domingo\",\"offsetgroup\":\"Domingo\",\"orientation\":\"v\",\"showlegend\":true,\"textposition\":\"auto\",\"x\":[\"Domingo\"],\"xaxis\":\"x\",\"y\":[170],\"yaxis\":\"y\",\"type\":\"bar\"},{\"alignmentgroup\":\"True\",\"hovertemplate\":\"Dia=%{x}<br>Encuestas=%{y}<extra></extra>\",\"legendgroup\":\"Lunes\",\"marker\":{\"color\":\"#9467BD\",\"pattern\":{\"shape\":\"\"}},\"name\":\"Lunes\",\"offsetgroup\":\"Lunes\",\"orientation\":\"v\",\"showlegend\":true,\"textposition\":\"auto\",\"x\":[\"Lunes\"],\"xaxis\":\"x\",\"y\":[826],\"yaxis\":\"y\",\"type\":\"bar\"},{\"alignmentgroup\":\"True\",\"hovertemplate\":\"Dia=%{x}<br>Encuestas=%{y}<extra></extra>\",\"legendgroup\":\"Martes\",\"marker\":{\"color\":\"#8C564B\",\"pattern\":{\"shape\":\"\"}},\"name\":\"Martes\",\"offsetgroup\":\"Martes\",\"orientation\":\"v\",\"showlegend\":true,\"textposition\":\"auto\",\"x\":[\"Martes\"],\"xaxis\":\"x\",\"y\":[826],\"yaxis\":\"y\",\"type\":\"bar\"},{\"alignmentgroup\":\"True\",\"hovertemplate\":\"Dia=%{x}<br>Encuestas=%{y}<extra></extra>\",\"legendgroup\":\"Miercoles\",\"marker\":{\"color\":\"#E377C2\",\"pattern\":{\"shape\":\"\"}},\"name\":\"Miercoles\",\"offsetgroup\":\"Miercoles\",\"orientation\":\"v\",\"showlegend\":true,\"textposition\":\"auto\",\"x\":[\"Miercoles\"],\"xaxis\":\"x\",\"y\":[874],\"yaxis\":\"y\",\"type\":\"bar\"}],                        {\"template\":{\"data\":{\"pie\":[{\"automargin\":true,\"type\":\"pie\"}]},\"layout\":{\"xaxis\":{\"showgrid\":true,\"title\":{\"standoff\":15}},\"yaxis\":{\"showgrid\":true,\"title\":{\"standoff\":15}}}},\"xaxis\":{\"anchor\":\"y\",\"domain\":[0.0,1.0],\"title\":{\"text\":\"Dia\"},\"categoryorder\":\"array\",\"categoryarray\":[\"Lunes\",\"Martes\",\"Miercoles\",\"Jueves\",\"Viernes\",\"Sabado\",\"Domingo\"]},\"yaxis\":{\"anchor\":\"x\",\"domain\":[0.0,1.0],\"title\":{\"text\":\"Encuestas\"}},\"legend\":{\"title\":{\"text\":\"Dia\"},\"tracegroupgap\":0},\"title\":{\"text\":\"Encuestas realizadas por d\\u00eda de la semana\"},\"barmode\":\"relative\"},                        {\"responsive\": true}                    ).then(function(){\n",
              "                            \n",
              "var gd = document.getElementById('2f38a20b-d043-47a9-8c50-77500f244306');\n",
              "var x = new MutationObserver(function (mutations, observer) {{\n",
              "        var display = window.getComputedStyle(gd).display;\n",
              "        if (!display || display === 'none') {{\n",
              "            console.log([gd, 'removed!']);\n",
              "            Plotly.purge(gd);\n",
              "            observer.disconnect();\n",
              "        }}\n",
              "}});\n",
              "\n",
              "// Listen for the removal of the full notebook cells\n",
              "var notebookContainer = gd.closest('#notebook-container');\n",
              "if (notebookContainer) {{\n",
              "    x.observe(notebookContainer, {childList: true});\n",
              "}}\n",
              "\n",
              "// Listen for the clearing of the current output cell\n",
              "var outputEl = gd.closest('.output');\n",
              "if (outputEl) {{\n",
              "    x.observe(outputEl, {childList: true});\n",
              "}}\n",
              "\n",
              "                        })                };                            </script>        </div>\n",
              "</body>\n",
              "</html>"
            ]
          },
          "metadata": {}
        }
      ]
    },
    {
      "cell_type": "markdown",
      "source": [
        "## 🔹 <font color=\"RoyalBlue\">**A divertirse mucho mas... 😈😈😈**</font>"
      ],
      "metadata": {
        "id": "iYlXclQF5GO4"
      },
      "id": "iYlXclQF5GO4"
    },
    {
      "cell_type": "markdown",
      "source": [
        "<p align=\"justify\"><b>\n",
        "<font color=\"RoyalBlue\">\n",
        "Ahora vamos a intentar hacer un analisis del sentimiento del contribuyente, si bien este desarrollo es caserito, es interesante debatir su logica, e imaginarse como puede ser mejorado...\n",
        "</font>\n",
        "</p>"
      ],
      "metadata": {
        "id": "fi6bv2MXRNqF"
      },
      "id": "fi6bv2MXRNqF"
    },
    {
      "cell_type": "markdown",
      "source": [
        "<p>\n",
        "<font color=\"DarkBlue\">\n",
        "\n",
        "> **Nos quedamos solamente con la pregunta 7..., y el objeto resultante tiene que ser un dataframe...** \n",
        "</font>\n",
        "</p>"
      ],
      "metadata": {
        "id": "CfNEoCTu5Q7x"
      },
      "id": "CfNEoCTu5Q7x"
    },
    {
      "cell_type": "markdown",
      "source": [
        "<p align=\"justify\"><b>\n",
        "<font color=\"RoyalBlue\">\n",
        "Para esto usar el metodo <code>to_frame()</code> para convertir la serie en un dataframe...\n",
        "</font>\n",
        "</p>"
      ],
      "metadata": {
        "id": "nXjzXD3RRsZ0"
      },
      "id": "nXjzXD3RRsZ0"
    },
    {
      "cell_type": "code",
      "source": [
        "# mi código aquí"
      ],
      "metadata": {
        "id": "9H85lH3x6WNK"
      },
      "id": "9H85lH3x6WNK",
      "execution_count": null,
      "outputs": []
    },
    {
      "cell_type": "markdown",
      "source": [
        "<p>\n",
        "<font color=\"DarkBlue\">\n",
        "\n",
        "> **Sacar todos los datos nulos...** \n",
        "</font>\n",
        "</p>"
      ],
      "metadata": {
        "id": "rKul9EaA7t9O"
      },
      "id": "rKul9EaA7t9O"
    },
    {
      "cell_type": "code",
      "source": [
        "# mi código aquí"
      ],
      "metadata": {
        "id": "UHL681tH70va"
      },
      "id": "UHL681tH70va",
      "execution_count": null,
      "outputs": []
    },
    {
      "cell_type": "markdown",
      "source": [
        "<p>\n",
        "<font color=\"DarkBlue\">\n",
        "\n",
        "> **Dejar el indice del dataframe ordenado...** \n",
        "</font>\n",
        "</p>"
      ],
      "metadata": {
        "id": "qaytjbEP8NLR"
      },
      "id": "qaytjbEP8NLR"
    },
    {
      "cell_type": "code",
      "source": [
        "# mi código aquí"
      ],
      "metadata": {
        "id": "z_VkN8Uf8XZc"
      },
      "id": "z_VkN8Uf8XZc",
      "execution_count": null,
      "outputs": []
    },
    {
      "cell_type": "markdown",
      "source": [
        "<p>\n",
        "<font color=\"DarkBlue\">\n",
        "\n",
        "> **Ahora, pasar todas las palabras en minusculas...** \n",
        "</font>\n",
        "</p>"
      ],
      "metadata": {
        "id": "ySYvhkWW94Ec"
      },
      "id": "ySYvhkWW94Ec"
    },
    {
      "cell_type": "markdown",
      "source": [
        "<p align=\"justify\"><b>\n",
        "<font color=\"RoyalBlue\">\n",
        "Se puede usar <code>apply()</code>con una funcion <code>lambda</code> aplicando el metodo <code>lower()</code>...\n",
        "</font>\n",
        "</p>"
      ],
      "metadata": {
        "id": "aHJx1cs-SFIp"
      },
      "id": "aHJx1cs-SFIp"
    },
    {
      "cell_type": "code",
      "source": [
        "# mi código aquí"
      ],
      "metadata": {
        "id": "x2ScDaBS-Amz"
      },
      "id": "x2ScDaBS-Amz",
      "execution_count": null,
      "outputs": []
    },
    {
      "cell_type": "markdown",
      "source": [
        "<p>\n",
        "<font color=\"DarkBlue\">\n",
        "\n",
        "> **Eliminando del texto, acentos y simbolos de puntuación...** \n",
        "</font>\n",
        "</p>"
      ],
      "metadata": {
        "id": "yG_-vmVP_V9C"
      },
      "id": "yG_-vmVP_V9C"
    },
    {
      "cell_type": "code",
      "source": [
        "# mi código aquí"
      ],
      "metadata": {
        "id": "qsrLWTIV_hjg"
      },
      "id": "qsrLWTIV_hjg",
      "execution_count": null,
      "outputs": []
    },
    {
      "cell_type": "markdown",
      "source": [
        "<p>\n",
        "<font color=\"DarkBlue\">\n",
        "\n",
        "> **Generar una columna llamada ```Palabras``` y como valor colocar la cantidad de palabras que tiene la columna ```Pregunta_7```...** \n",
        "</font>\n",
        "</p>"
      ],
      "metadata": {
        "id": "Bf_wmbO2x61g"
      },
      "id": "Bf_wmbO2x61g"
    },
    {
      "cell_type": "markdown",
      "source": [
        "<p align=\"justify\"><b>\n",
        "<font color=\"RoyalBlue\">\n",
        "Se puede usar <code>apply()</code>con una funcion <code>lambda</code> aplicando el metodo <code>split()</code> que divide cadenas de caracteres como una oración, siempre que se le indique como dividir, en este caso, por el espacio entre palabras... No olvidarse que queremos contar, entonces usamos  <code>len()</code>\n",
        "</font>\n",
        "</p>"
      ],
      "metadata": {
        "id": "a4YtAEcZSqD1"
      },
      "id": "a4YtAEcZSqD1"
    },
    {
      "cell_type": "code",
      "source": [
        "# mi código aquí"
      ],
      "metadata": {
        "id": "AAhXsds5sEa1"
      },
      "id": "AAhXsds5sEa1",
      "execution_count": null,
      "outputs": []
    },
    {
      "cell_type": "markdown",
      "source": [
        "<p>\n",
        "<font color=\"DarkBlue\">\n",
        "\n",
        "> **Generar una columna llamada ```Positivas``` para verificar que la oracion de la columna ```Pregunta_7``` tiene palabras positivas... Para ello, generamos un conjunto de palabras que consideramos buena onda...** \n",
        "</font>\n",
        "</p>"
      ],
      "metadata": {
        "id": "aBYyCD4ozVih"
      },
      "id": "aBYyCD4ozVih"
    },
    {
      "cell_type": "markdown",
      "source": [
        "<p align=\"justify\"><b>\n",
        "<font color=\"RoyalBlue\">\n",
        "Se complico... 😈 se puede usar <code>set()</code> para armar un conjunto de palabras, luego <code>apply</code> con una funcion <code>lambda</code> evaluando el resultado de una interseccion... Aca también se puede chusmear el colab resuelto, como para inspirarse...\n",
        "</font>\n",
        "</p>"
      ],
      "metadata": {
        "id": "rd23VNdcTQYC"
      },
      "id": "rd23VNdcTQYC"
    },
    {
      "cell_type": "code",
      "source": [
        "positivas = set([\"excelente\",\"continue\",\"gestion\",\"resolver\",\"sitio\",\"completa\",\"imprimir\",\"muy\",\n",
        "                \"claro\",\"ok\",\"buena\",\"personal\",\"preciso\",\"todo\",\"chat\",\"funciona\",\"si\",\"publico\",\"optima\",\"bueno\",\n",
        "                \"contacto\"])"
      ],
      "metadata": {
        "id": "XPp7ufmJzttl"
      },
      "id": "XPp7ufmJzttl",
      "execution_count": null,
      "outputs": []
    },
    {
      "cell_type": "code",
      "source": [
        "# mi código aquí"
      ],
      "metadata": {
        "id": "9bqrwkYxz1kK"
      },
      "id": "9bqrwkYxz1kK",
      "execution_count": null,
      "outputs": []
    },
    {
      "cell_type": "markdown",
      "source": [
        "<p>\n",
        "<font color=\"DarkBlue\">\n",
        "\n",
        "> **Lo mismo, pero generando una columna llamada ```Negativas``` para verificar que la oracion de la columna ```Pregunta_7``` tiene palabras negativas... Para ello, generamos un conjunto de palabras que consideramos mala onda...** \n",
        "</font>\n",
        "</p>"
      ],
      "metadata": {
        "id": "oupLCSU6z-w5"
      },
      "id": "oupLCSU6z-w5"
    },
    {
      "cell_type": "code",
      "source": [
        "negativas = set([\"mejorar\",\"nunca\",\"celeridad\",\"nadie\",\"imposible\",\"no\",\"dificil\",\"contactarse\",\"contesta\",\"persona\",\"demoren\",\n",
        "                \"puede\",\"atencion\",\"pesima\",\"gestion\",\"desastre\",\"resolver\",\"mejorar\",\"sitio\",\"llevo\",\"horas\",\"posible\",\"brinden\",\n",
        "                \"imprimir\",\"mas\",\"pronta\",\"resolucion\",\"rapida\",\"agilizar\",\"mail\",\"cuesta\",\"mantenimiento\",\"terminos\",\"contables\",\n",
        "                \"deudas\",\"capacitado\",\"personal\",\"caraduras\",\"basica\",\"reclamo\",\"ventanilla\",\"chat\",\"podrian\",\"verguenza\",\n",
        "                \"mantenimiento\",\"funciona\",\"impresentables\",\"atiendan\",\"publico\",\"contacto\",])"
      ],
      "metadata": {
        "id": "OME43rcK0pwD"
      },
      "id": "OME43rcK0pwD",
      "execution_count": null,
      "outputs": []
    },
    {
      "cell_type": "code",
      "source": [
        "# mi código aquí"
      ],
      "metadata": {
        "id": "KETA7AcT0vSt"
      },
      "id": "KETA7AcT0vSt",
      "execution_count": null,
      "outputs": []
    },
    {
      "cell_type": "markdown",
      "source": [
        "<p>\n",
        "<font color=\"DarkBlue\">\n",
        "\n",
        "> **Crear la columna ```CantPos``` para contar la cantidad de palabras positivas que hay en la columna ```Pregunta_7```... Hacer lo mismo para las cantidades de palabras negativas...** \n",
        "</font>\n",
        "</p>"
      ],
      "metadata": {
        "id": "-vT7hBtPUOTz"
      },
      "id": "-vT7hBtPUOTz"
    },
    {
      "cell_type": "markdown",
      "source": [
        "<p align=\"justify\"><b>\n",
        "<font color=\"RoyalBlue\">\n",
        "Lo mismo sin evaluar...\n",
        "</font>\n",
        "</p>"
      ],
      "metadata": {
        "id": "h6Xy5-KDUFw9"
      },
      "id": "h6Xy5-KDUFw9"
    },
    {
      "cell_type": "code",
      "source": [
        "# mi código aquí"
      ],
      "metadata": {
        "id": "a3lSd7pn_sqt"
      },
      "id": "a3lSd7pn_sqt",
      "execution_count": null,
      "outputs": []
    },
    {
      "cell_type": "code",
      "source": [
        "# mi código aquí"
      ],
      "metadata": {
        "id": "p_ofNOESADUK"
      },
      "id": "p_ofNOESADUK",
      "execution_count": null,
      "outputs": []
    },
    {
      "cell_type": "markdown",
      "source": [
        "<p>\n",
        "<font color=\"DarkBlue\">\n",
        "\n",
        "> **Vamos a generar indices denominados ```IndPos``` para calcular un coeficiente, este coeficiente es la cantidad de palabras positivas dividido por todas las palabras de la oracion... Lo mismo para las palabras negativas...** \n",
        "</font>\n",
        "</p>"
      ],
      "metadata": {
        "id": "vU_SN2RxU0d0"
      },
      "id": "vU_SN2RxU0d0"
    },
    {
      "cell_type": "code",
      "source": [
        "# mi código aquí"
      ],
      "metadata": {
        "id": "uzNrQtJqA50-"
      },
      "id": "uzNrQtJqA50-",
      "execution_count": null,
      "outputs": []
    },
    {
      "cell_type": "markdown",
      "source": [
        "<p>\n",
        "<font color=\"DarkBlue\">\n",
        "\n",
        "> **Ahora vamos a crear una columna llamada ```Sentimiento``` en donde se haga una resta del indice positivo con el negativo, y luego si ese valor es mayor a cero colocar la palabra Positivo, y si no se cumple la condicion, la palabra Negativo...** \n",
        "</font>\n",
        "</p>"
      ],
      "metadata": {
        "id": "ie7vtH7FVcz-"
      },
      "id": "ie7vtH7FVcz-"
    },
    {
      "cell_type": "code",
      "source": [
        "# mi código aquí"
      ],
      "metadata": {
        "id": "BGQ_MiKzCRTU"
      },
      "id": "BGQ_MiKzCRTU",
      "execution_count": null,
      "outputs": []
    },
    {
      "cell_type": "markdown",
      "source": [
        "<p>\n",
        "<font color=\"DarkBlue\">\n",
        "\n",
        "> **Ahora con el dataframe listo, graficar el Sentimiento de los contribuyentes, aunque ya sabemos como va a salir 😈😈😈...** \n",
        "</font>\n",
        "</p>"
      ],
      "metadata": {
        "id": "HrGPgezaV4KR"
      },
      "id": "HrGPgezaV4KR"
    },
    {
      "cell_type": "code",
      "source": [
        "# mi código aquí"
      ],
      "metadata": {
        "colab": {
          "base_uri": "https://localhost:8080/"
        },
        "id": "-c3U8iQbEoCF",
        "outputId": "803978e1-7f62-4818-eaaa-156a737beec4"
      },
      "id": "-c3U8iQbEoCF",
      "execution_count": null,
      "outputs": [
        {
          "output_type": "display_data",
          "data": {
            "text/html": [
              "<html>\n",
              "<head><meta charset=\"utf-8\" /></head>\n",
              "<body>\n",
              "    <div>            <script src=\"https://cdnjs.cloudflare.com/ajax/libs/mathjax/2.7.5/MathJax.js?config=TeX-AMS-MML_SVG\"></script><script type=\"text/javascript\">if (window.MathJax && window.MathJax.Hub && window.MathJax.Hub.Config) {window.MathJax.Hub.Config({SVG: {font: \"STIX-Web\"}});}</script>                <script type=\"text/javascript\">window.PlotlyConfig = {MathJaxConfig: 'local'};</script>\n",
              "        <script src=\"https://cdn.plot.ly/plotly-2.18.0.min.js\"></script>                <div id=\"76b8fbf0-d5fe-4469-bf9d-74181fad58ae\" class=\"plotly-graph-div\" style=\"height:525px; width:100%;\"></div>            <script type=\"text/javascript\">                                    window.PLOTLYENV=window.PLOTLYENV || {};                                    if (document.getElementById(\"76b8fbf0-d5fe-4469-bf9d-74181fad58ae\")) {                    Plotly.newPlot(                        \"76b8fbf0-d5fe-4469-bf9d-74181fad58ae\",                        [{\"alignmentgroup\":\"True\",\"hovertemplate\":\"Sentimiento=%{x}<br>Encuestas=%{marker.color}<extra></extra>\",\"legendgroup\":\"\",\"marker\":{\"color\":[1412,149],\"coloraxis\":\"coloraxis\",\"pattern\":{\"shape\":\"\"}},\"name\":\"\",\"offsetgroup\":\"\",\"orientation\":\"v\",\"showlegend\":false,\"text\":[1412.0,149.0],\"textposition\":\"auto\",\"x\":[\"Negativo\",\"Positivo\"],\"xaxis\":\"x\",\"y\":[1412,149],\"yaxis\":\"y\",\"type\":\"bar\"}],                        {\"template\":{\"data\":{\"pie\":[{\"automargin\":true,\"type\":\"pie\"}]},\"layout\":{\"xaxis\":{\"showgrid\":true,\"title\":{\"standoff\":15}},\"yaxis\":{\"showgrid\":true,\"title\":{\"standoff\":15}}}},\"xaxis\":{\"anchor\":\"y\",\"domain\":[0.0,1.0],\"title\":{\"text\":\"Sentimiento\"}},\"yaxis\":{\"anchor\":\"x\",\"domain\":[0.0,1.0],\"title\":{\"text\":\"Encuestas\"}},\"coloraxis\":{\"colorbar\":{\"title\":{\"text\":\"Encuestas\"}},\"colorscale\":[[0.0,\"#440154\"],[0.1111111111111111,\"#482878\"],[0.2222222222222222,\"#3e4989\"],[0.3333333333333333,\"#31688e\"],[0.4444444444444444,\"#26828e\"],[0.5555555555555556,\"#1f9e89\"],[0.6666666666666666,\"#35b779\"],[0.7777777777777778,\"#6ece58\"],[0.8888888888888888,\"#b5de2b\"],[1.0,\"#fde725\"]]},\"legend\":{\"tracegroupgap\":0},\"title\":{\"text\":\"An\\u00e1lisis de Sentimiento de los contribuyentes\"},\"barmode\":\"relative\"},                        {\"responsive\": true}                    ).then(function(){\n",
              "                            \n",
              "var gd = document.getElementById('76b8fbf0-d5fe-4469-bf9d-74181fad58ae');\n",
              "var x = new MutationObserver(function (mutations, observer) {{\n",
              "        var display = window.getComputedStyle(gd).display;\n",
              "        if (!display || display === 'none') {{\n",
              "            console.log([gd, 'removed!']);\n",
              "            Plotly.purge(gd);\n",
              "            observer.disconnect();\n",
              "        }}\n",
              "}});\n",
              "\n",
              "// Listen for the removal of the full notebook cells\n",
              "var notebookContainer = gd.closest('#notebook-container');\n",
              "if (notebookContainer) {{\n",
              "    x.observe(notebookContainer, {childList: true});\n",
              "}}\n",
              "\n",
              "// Listen for the clearing of the current output cell\n",
              "var outputEl = gd.closest('.output');\n",
              "if (outputEl) {{\n",
              "    x.observe(outputEl, {childList: true});\n",
              "}}\n",
              "\n",
              "                        })                };                            </script>        </div>\n",
              "</body>\n",
              "</html>"
            ]
          },
          "metadata": {}
        }
      ]
    },
    {
      "cell_type": "markdown",
      "id": "db7a81dd-0eb5-4391-b855-4ab7a3ed5d06",
      "metadata": {
        "id": "db7a81dd-0eb5-4391-b855-4ab7a3ed5d06"
      },
      "source": [
        "---\n",
        "<p>\n",
        "<font color=\"RoyalBlue\">\n",
        "\n",
        "💙 💙 💙 **Hemos concluido con esta hermosa actividad, espero que les haya gustado mucho, si sobrevivieron, entonces les gusta mucho Python... por eso, nos encontraremos en el proximo cuaderno, a reponer pilas...** \n",
        "</font>\n",
        "</p>\n",
        "\n",
        "---"
      ]
    },
    {
      "cell_type": "markdown",
      "id": "cc2cb851-466f-40ca-bc0d-3341d7d0553c",
      "metadata": {
        "id": "cc2cb851-466f-40ca-bc0d-3341d7d0553c"
      },
      "source": [
        "# 😀"
      ]
    }
  ],
  "metadata": {
    "kernelspec": {
      "display_name": "Python 3 (ipykernel)",
      "language": "python",
      "name": "python3"
    },
    "language_info": {
      "codemirror_mode": {
        "name": "ipython",
        "version": 3
      },
      "file_extension": ".py",
      "mimetype": "text/x-python",
      "name": "python",
      "nbconvert_exporter": "python",
      "pygments_lexer": "ipython3",
      "version": "3.10.2"
    },
    "toc-autonumbering": false,
    "toc-showmarkdowntxt": false,
    "colab": {
      "provenance": [],
      "collapsed_sections": [
        "87a2fb36-8011-44e0-a07a-19d19d7e7d15"
      ],
      "include_colab_link": true
    }
  },
  "nbformat": 4,
  "nbformat_minor": 5
}