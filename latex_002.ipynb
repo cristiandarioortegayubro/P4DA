{
  "cells": [
    {
      "cell_type": "markdown",
      "metadata": {
        "id": "view-in-github",
        "colab_type": "text"
      },
      "source": [
        "<a href=\"https://colab.research.google.com/github/cristiandarioortegayubro/P4DA/blob/main/latex_002.ipynb\" target=\"_parent\"><img src=\"https://colab.research.google.com/assets/colab-badge.svg\" alt=\"Open In Colab\"/></a>"
      ]
    },
    {
      "cell_type": "markdown",
      "source": [
        "![](https://github.com/cristiandarioortegayubro/P4DA/blob/main/Logo.png?raw=true)"
      ],
      "metadata": {
        "id": "_pY_VJ3ETJXI"
      },
      "id": "_pY_VJ3ETJXI"
    },
    {
      "cell_type": "markdown",
      "id": "795ca1b3-d014-48a1-8cd2-a69a90043112",
      "metadata": {
        "id": "795ca1b3-d014-48a1-8cd2-a69a90043112"
      },
      "source": [
        "# <font color=\"RoyalBlue\">$\\LaTeX{}$ **para celdas de texto en Notebooks**</font>"
      ]
    },
    {
      "cell_type": "markdown",
      "id": "65c27d22-1803-44f8-9c57-4566f07ecacc",
      "metadata": {
        "id": "65c27d22-1803-44f8-9c57-4566f07ecacc"
      },
      "source": [
        "![latex](https://www.latex-project.org/img/latex-project-logo.svg)"
      ]
    },
    {
      "cell_type": "markdown",
      "id": "5dca8b7a-3e24-4610-ba58-3dca0360851d",
      "metadata": {
        "id": "5dca8b7a-3e24-4610-ba58-3dca0360851d"
      },
      "source": [
        "# <font color=\"RoyalBlue\">**Expresiones matemáticas en celda de texto**</font>"
      ]
    },
    {
      "cell_type": "markdown",
      "id": "4c6449e6-8b19-415d-b898-81035cf081ad",
      "metadata": {
        "id": "4c6449e6-8b19-415d-b898-81035cf081ad"
      },
      "source": [
        "<p>\n",
        "<font color=\"RoyalBlue\">\n",
        "\n",
        "\n",
        "📘 **https://manualdelatex.com/simbolos**\n",
        "</font>\n",
        "</p>"
      ]
    },
    {
      "cell_type": "markdown",
      "source": [
        "<P>\n",
        "<font color=\"RoyalBlue\">\n",
        "\n",
        "**$\\LaTeX{}$ está basado en el sistema de composición tipográfica ```TeX```, desarrollado por Donald E. Knuth a finales de los años setenta. Basándose en este sistema, Leslie Lamport escribió en los años ochenta una serie de macros para facilitar su uso. Esto dio lugar a $\\LaTeX{}$, una abreviatura de ```Lamport TeX```.**\n",
        "</font>\n",
        "</p>\n",
        "<br>\n",
        "\n",
        "<P>\n",
        "<font color=\"RoyalBlue\">\n",
        "\n",
        "**La aparición de $\\LaTeX{}$ hizo que esta herramienta y el uso de ```TeX``` se extendiera rápidamente entre los círculos académicos.**\n",
        "</font>\n",
        "</p>\n",
        "<br>\n",
        "\n",
        "<P>\n",
        "<font color=\"RoyalBlue\">\n",
        "\n",
        "**Además, el hecho de que esté basado en un sistema de código abierto ha facilitado que contribuidores de todo el mundo hayan ido incrementando las capacidades de este sistema.**\n",
        "</font>\n",
        "</p>\n"
      ],
      "metadata": {
        "id": "WdaTqlxXUGWh"
      },
      "id": "WdaTqlxXUGWh"
    },
    {
      "cell_type": "markdown",
      "id": "7ff4afa9-6d8e-4287-bc60-cf26c4c52ad6",
      "metadata": {
        "id": "7ff4afa9-6d8e-4287-bc60-cf26c4c52ad6"
      },
      "source": [
        "## **Símbolos de relación**\n",
        "\n"
      ]
    },
    {
      "cell_type": "markdown",
      "source": [
        "**Algunos símbolos de relación y su correspondiente notación en $\\LaTeX{}$**"
      ],
      "metadata": {
        "id": "5Tn-Yo24KnvZ"
      },
      "id": "5Tn-Yo24KnvZ"
    },
    {
      "cell_type": "markdown",
      "id": "9e4e2b28-051f-4409-a4b9-343394ffe125",
      "metadata": {
        "id": "9e4e2b28-051f-4409-a4b9-343394ffe125"
      },
      "source": [
        "+ Comando ```<``` para el símbolo $<$\n",
        "+ Comando ```>``` para el símbolo $>$\n",
        "+ Comando ```=``` para el símbolo $=$\n",
        "+ Comando ```:``` para el símbolo $:$\n",
        "+ Se escribe ```\\leq``` para el símbolo $\\leq$\n",
        "+ Se escribe ```\\ll``` para el símbolo $\\ll$\n",
        "+ Se escribe ```\\geq``` para el símbolo $\\geq$\n",
        "+ Se escribe ```\\gg``` para el símbolo $\\gg$\n",
        "+ Se escribe ```\\subset``` para el símbolo $\\subset$\n",
        "+ Se escribe ```\\subseteq``` para el símbolo $\\subseteq$\n",
        "+ Se escribe ```\\nsubseteq``` para el símbolo $\\nsubseteq$\n",
        "+ Se escribe ```\\supset``` para el símbolo $\\supset$\n",
        "+ Se escribe ```\\supseteq``` para el símbolo $\\supseteq$\n",
        "+ Se escribe ```\\nsupseteq``` para el símbolo $\\nsupseteq$\n",
        "+ Se escribe ```\\sqsubset``` para el símbolo $\\sqsubset$\n",
        "+ Se escribe ```\\sqsubseteq``` para el símbolo $\\sqsubseteq$\n",
        "+ Se escribe ```\\sqsupset``` para el símbolo $\\sqsupset$\n",
        "+ Se escribe ```\\sqsupseteq``` para el símbolo \n",
        "$\\sqsupseteq$\n",
        "+ Se escribe ```\\preceq``` para el símbolo $\\preceq$\n",
        "+ Se escribe ```\\succeq``` para el símbolo $\\succeq$\n",
        "+ Se escribe ```\\because``` para el símbolo $\\because$\n",
        "+ Se escribe ```\\sim``` para el símbolo $\\sim$\n",
        "+ Se escribe ```\\simeq``` para el símbolo $\\simeq$\n",
        "+ Se escribe ```\\approx``` para el símbolo $\\approx$"
      ]
    },
    {
      "cell_type": "markdown",
      "id": "fb086422-80c4-47d6-903f-866b91e29d4f",
      "metadata": {
        "id": "fb086422-80c4-47d6-903f-866b91e29d4f"
      },
      "source": [
        "## **Símbolos de puntuación**\n",
        "\n",
        "**Algunos simbolos de puntuación...***"
      ]
    },
    {
      "cell_type": "markdown",
      "id": "b851334f-2dd3-4328-ae3d-2a7097d5bbe7",
      "metadata": {
        "id": "b851334f-2dd3-4328-ae3d-2a7097d5bbe7"
      },
      "source": [
        "+ Se escribe ```\\dots``` para el símbolo $\\dots$\n",
        "+ Se escribe ```\\cdots``` para el símbolo $\\cdots$ y quedan centrados en la línea\n",
        "+ Se escribe ```\\vdots``` para el símbolo $\\vdots$\n",
        "+ Se escribe ```\\ddots``` para el símbolo $\\ddots$"
      ]
    },
    {
      "cell_type": "markdown",
      "id": "db7b7924-f8a4-4530-9fe6-a807ac05f179",
      "metadata": {
        "id": "db7b7924-f8a4-4530-9fe6-a807ac05f179"
      },
      "source": [
        "## **Operadores**\n",
        "\n"
      ]
    },
    {
      "cell_type": "markdown",
      "source": [
        "**Algunos operadores...**"
      ],
      "metadata": {
        "id": "d4h7KH6eJOoZ"
      },
      "id": "d4h7KH6eJOoZ"
    },
    {
      "cell_type": "markdown",
      "id": "3c96aef8-dd99-4d82-b6d1-a3ca987ccc04",
      "metadata": {
        "id": "3c96aef8-dd99-4d82-b6d1-a3ca987ccc04"
      },
      "source": [
        "+ Se escribe ```\\times``` para el símbolo $\\times$\n",
        "+ Se escribe ```\\div``` para el símbolo $\\div$\n",
        "+ Se escribe ```\\ast``` para el símbolo $\\ast$\n",
        "+ Se escribe ```\\star``` para el símbolo $\\star$\n",
        "+ Se escribe ```\\vee``` para el símbolo $\\vee$\n",
        "+ Se escribe ```\\wedge``` para el símbolo $\\wedge$\n",
        "+ Se escribe ```\\cdot``` para el símbolo $\\cdot$\n",
        "+ Se escribe ```\\bullet``` para el símbolo $\\bullet$\n",
        "+ Se escribe ```\\otimes``` para el símbolo $\\otimes$\n",
        "+ Se escribe ```\\odot``` para el símbolo $\\odot$\n",
        "+ Se escribe ```\\setminus``` para el símbolo $\\setminus$\n",
        "+ Se escribe ```\\diamond``` para el símbolo $\\diamond$\n",
        "+ Se escribe ```\\bigtriangleup``` para el símbolo $\\bigtriangleup$\n",
        "+ Se escribe ```\\bigtriangledown``` para el símbolo $\\bigtriangledown$\n",
        "+ Se escribe ```\\boxdot``` para el símbolo $\\boxdot$\n",
        "+ Se escribe ```\\circ``` para el símbolo $\\circ$\n",
        "+ Se escribe ```\\bigcirc``` para el símbolo $\\bigcirc$\n",
        "+ Se escribe ```\\boxminus``` para el símbolo $\\boxminus$\n",
        "+ Se escribe ```\\boxplus``` para el símbolo $\\boxplus$\n",
        "+ Se escribe ```\\boxtimes``` para el símbolo $\\boxtimes$"
      ]
    },
    {
      "cell_type": "markdown",
      "id": "a52ec133-4b78-4fdd-8288-a0651f405b20",
      "metadata": {
        "id": "a52ec133-4b78-4fdd-8288-a0651f405b20"
      },
      "source": [
        "## **Símbolos de notaciones lógicas**\n",
        "\n",
        "**Algunos símbolos para notaciones lógicas**"
      ]
    },
    {
      "cell_type": "markdown",
      "id": "f7bedbe6-bb05-4301-b756-bc989b2b185b",
      "metadata": {
        "id": "f7bedbe6-bb05-4301-b756-bc989b2b185b"
      },
      "source": [
        "+ Se escribe ```\\exists``` para el símbolo $\\exists$\n",
        "+ Se escribe ```\\nexists``` para el símbolo $\\nexists$\n",
        "+ Se escribe ```\\forall``` para el símbolo $\\forall$\n",
        "+ Se escribe ```\\subset``` para el símbolo $\\subset$\n",
        "+ Se escribe ```\\supset``` para el símbolo $\\supset$\n",
        "+ Se escribe ```\\in``` para el símbolo $\\in$\n",
        "+ Se escribe ```\\notin``` para el símbolo $\\notin$\n",
        "+ Se escribe ```\\ni``` para el símbolo $\\ni$\n",
        "+ Se escribe ```\\implies``` para el símbolo $\\implies$"
      ]
    },
    {
      "cell_type": "markdown",
      "id": "8211c63f-87ec-476a-b9ad-d4968cf6194c",
      "metadata": {
        "id": "8211c63f-87ec-476a-b9ad-d4968cf6194c"
      },
      "source": [
        "## **Letras griegas en minuscula**"
      ]
    },
    {
      "cell_type": "markdown",
      "id": "61517fb6-023f-4270-b45f-5ae58fa63c92",
      "metadata": {
        "id": "61517fb6-023f-4270-b45f-5ae58fa63c92"
      },
      "source": [
        "+ La letra alfa se escribe ```\\alpha``` y se visualiza $\\alpha$\n",
        "+ La letra beta se escribe ```\\beta``` y se visualiza $\\beta$\n",
        "+ La letra gama se escribe ```\\gamma``` y se visualiza $\\gamma$\n",
        "+ La letra delta se escribe ```\\delta``` y se visualiza $\\delta$\n",
        "+ La letra epsilon se escribe ```\\epsilon``` y se visualiza $\\epsilon$\n",
        "+ La letra zeta se escribe ```\\zeta``` y se visualiza $\\zeta$\n",
        "+ La letra eta se escribe ```\\eta``` y se visualiza $\\eta$\n",
        "+ La letra theta se escribe ```\\theta``` y se visualiza $\\theta$\n",
        "+ La letra iota se escribe ```\\iota``` y se visualiza $\\iota$\n",
        "+ La letra kapa se escribe ```\\kappa``` y se visualiza $\\kappa$\n",
        "+ La letra lambda se escribe ```\\lambda``` y se visualiza $\\lambda$\n",
        "+ La letra mu se escribe ```\\mu``` y se visualiza $\\mu$\n",
        "+ La letra nu se escribe ```\\nu``` y se visualiza $\\nu$\n",
        "+ La letra xi se escribe ```\\xi``` y se visualiza $\\xi$\n",
        "+ La letra pi se escribe ```\\pi``` y se visualiza $\\pi$\n",
        "+ La letra rho se escribe ```\\rho``` y se visualiza $\\rho$\n",
        "+ La letra sigma se escribe ```\\sigma``` y se visualiza $\\sigma$\n",
        "+ La letra tau se escribe ```\\tau``` y se visualiza $\\tau$\n",
        "+ La letra upsilon se escribe ```\\upsilon``` y se visualiza $\\upsilon$\n",
        "+ La letra phi se escribe ```\\phi``` y se visualiza $\\phi$\n",
        "+ La letra chi se escribe ```\\chi``` y se visualiza $\\chi$\n",
        "+ La letra psi se escribe ```\\psi``` y se visualiza $\\psi$\n",
        "+ La letra omega se escribe ```\\omega``` y se visualiza $\\omega$\n",
        "+ La letra digamma se escribe ```\\digamma``` y se visualiza $\\digamma$\n",
        "+ La letra varepsilon se escribe ```\\varepsilon``` y se visualiza $\\varepsilon$\n",
        "+ La letra vartheta se escribe ```\\vartheta``` y se visualiza $\\vartheta$\n",
        "+ La letra varkappa se escribe ```\\varkappa``` y se visualiza $\\varkappa$\n",
        "+ La letra varpi se escribe ```\\varpi``` y se visualiza $\\varpi$\n",
        "+ La letra varrho se escribe ```\\varrho``` y se visualiza $\\varrho$\n",
        "+ La letra varsigma se escribe ```\\varsigma``` y se visualiza $\\varsigma$\n",
        "+ La letra varphi se escribe ```\\varphi``` y se visualiza $\\varphi$\n",
        "\n",
        "\n",
        "\n",
        "\n",
        "\n"
      ]
    },
    {
      "cell_type": "markdown",
      "source": [
        "## **Letras griegas en mayuscula**"
      ],
      "metadata": {
        "id": "yWkli87eQppc"
      },
      "id": "yWkli87eQppc"
    },
    {
      "cell_type": "markdown",
      "source": [
        "+ La letra alfa se escribe ```A``` y se visualiza $A$\n",
        "+ La letra beta se escribe ```B``` y se visualiza $B$\n",
        "+ La letra gama se escribe ```\\Gamma``` y se visualiza $\\Gamma$\n",
        "+ La letra delta se escribe ```\\D``` y se visualiza $D$\n",
        "+ La letra epsilon se escribe ```E``` y se visualiza $E$\n",
        "+ La letra zeta se escribe ```Z``` y se visualiza $Z$\n",
        "+ La letra eta se escribe ```H``` y se visualiza $H$\n",
        "+ La letra theta se escribe ```\\Theta``` y se visualiza $\\Theta$\n",
        "+ La letra iota se escribe ```I``` y se visualiza $I$\n",
        "+ La letra kapa se escribe ```K``` y se visualiza $K$\n",
        "+ La letra lambda se escribe ```\\Lambda``` y se visualiza $\\Lambda$\n",
        "+ La letra mu se escribe ```M``` y se visualiza $M$\n",
        "+ La letra nu se escribe ```N``` y se visualiza $N$\n",
        "+ La letra xi se escribe ```\\Xi``` y se visualiza $\\Xi$\n",
        "+ La letra pi se escribe ```\\Pi``` y se visualiza $\\Pi$\n",
        "+ La letra rho se escribe ```R``` y se visualiza $R$\n",
        "+ La letra sigma se escribe ```\\Sigma``` y se visualiza $\\Sigma$\n",
        "+ La letra tau se escribe ```T``` y se visualiza $T$\n",
        "+ La letra upsilon se escribe ```\\Upsilon``` y se visualiza $\\Upsilon$\n",
        "+ La letra phi se escribe ```\\Phi``` y se visualiza $\\Phi$\n",
        "+ La letra chi se escribe ```X``` y se visualiza $X$\n",
        "+ La letra psi se escribe ```\\Psi``` y se visualiza $\\Psi$\n",
        "+ La letra omega se escribe ```\\Omega``` y se visualiza $\\Omega$\n",
        "+ La letra vargamma se escribe ```\\varGamma``` y se visualiza $\\varGamma$\n",
        "+ La letra vardelta se escribe ```\\varDelta``` y se visualiza $\\varDelta$\n",
        "+ La letra vartheta se escribe ```\\varTheta``` y se visualiza $\\varTheta$\n",
        "+ La letra varpi se escribe ```\\varPi``` y se visualiza $\\varPi$\n",
        "+ La letra varsigma se escribe ```\\varSigma``` y se visualiza $\\varSigma$\n",
        "+ La letra varphi se escribe ```\\varPhi``` y se visualiza $\\varPhi$\n",
        "+ La letra varomega se escribe ```\\varOmega``` y se visualiza $\\varOmega$\n",
        "\n"
      ],
      "metadata": {
        "id": "vbB1z7OvQw9f"
      },
      "id": "vbB1z7OvQw9f"
    },
    {
      "cell_type": "markdown",
      "source": [
        "## **Algunos ejemplos de ecuaciones...**"
      ],
      "metadata": {
        "id": "TYlhr6ZyUg_Z"
      },
      "id": "TYlhr6ZyUg_Z"
    },
    {
      "cell_type": "markdown",
      "source": [
        "**Primer ejemplo:**\n",
        "~~~md\n",
        "$y_t = \\frac{\\sum_{i=0}^t w_i x_{t-i}}{\\sum_{i=0}^t w_i}$\n",
        "~~~\n",
        "\n",
        "$y_t = \\frac{\\sum_{i=0}^t w_i x_{t-i}}{\\sum_{i=0}^t w_i}$\n",
        "\n"
      ],
      "metadata": {
        "id": "RyiHG4VIUqrR"
      },
      "id": "RyiHG4VIUqrR"
    },
    {
      "cell_type": "markdown",
      "source": [
        "**Segundo ejemplo:**\n",
        "~~~markdown\n",
        "$y_t = \\frac{x_t + (1 - \\alpha)x_{t-1} + (1 - \\alpha)^2 x_{t-2} +(1 - \\alpha)^t x_{0}}{1 + (1 - \\alpha) + (1 - \\alpha)^2 + (1 - \\alpha)^t} $\n",
        "~~~\n",
        "\n",
        "$ y_t = \\frac{x_t + (1 - \\alpha)x_{t-1} + (1 - \\alpha)^2 x_{t-2} +(1 - \\alpha)^t x_{0}}{1 + (1 - \\alpha) + (1 - \\alpha)^2 + (1 - \\alpha)^t} $\n",
        "\n"
      ],
      "metadata": {
        "id": "LblPJJ5zTniO"
      },
      "id": "LblPJJ5zTniO"
    },
    {
      "cell_type": "markdown",
      "source": [
        "**Tercer ejemplo:**\n",
        "~~~markdown\n",
        "$\\begin{split}y_0 &= x_0 \\\\\n",
        "y_t &= (1 - \\alpha) y_{t-1} + \\alpha x_t,\\end{split}$\n",
        "~~~\n",
        "\n",
        "$ \\begin{split}y_0 &= x_0 \\\\\n",
        "y_t &= (1 - \\alpha) y_{t-1} + \\alpha x_t,\\end{split}$\n",
        "\n"
      ],
      "metadata": {
        "id": "dVH9wA6PTqhi"
      },
      "id": "dVH9wA6PTqhi"
    },
    {
      "cell_type": "markdown",
      "source": [
        "**Cuarto ejemplo:**\n",
        "~~~markdown\n",
        "$\\begin{split}w_j = \\begin{cases}\n",
        "    \\alpha (1 - \\alpha)^j & \\text{si } j < t \\\\\n",
        "    (1 - \\alpha)^j        & \\text{si } j = t.\n",
        "\\end{cases}\\end{split}$\n",
        "~~~\n",
        "\n",
        "$\\begin{split}w_j = \\begin{cases}\n",
        "    \\alpha (1 - \\alpha)^j & \\text{si } j < t \\\\\n",
        "    (1 - \\alpha)^j        & \\text{si } j = t.\n",
        "\\end{cases}\\end{split}$\n"
      ],
      "metadata": {
        "id": "x54ky_30TszP"
      },
      "id": "x54ky_30TszP"
    },
    {
      "cell_type": "markdown",
      "id": "57eb80af-b4cb-43f5-87df-3280ecff796f",
      "metadata": {
        "id": "57eb80af-b4cb-43f5-87df-3280ecff796f"
      },
      "source": [
        "![latex](https://www.latex-project.org/img/latex-project-logo.svg)"
      ]
    },
    {
      "cell_type": "markdown",
      "id": "27edb042-13a0-4e39-939e-e009eae00a9b",
      "metadata": {
        "id": "27edb042-13a0-4e39-939e-e009eae00a9b"
      },
      "source": [
        "---\n",
        "<p>\n",
        "<font color=\"RoyalBlue\">\n",
        "\n",
        "\n",
        "💙 **Hemos llegado al fin de este cuaderno, felicitaciones hemos aprendido un poco de $\\LaTeX{}$ para poder mejorar nuestras celdas de texto, ahora a seguir en el proximo cuaderno...** \n",
        "</font>\n",
        "</p>\n",
        "\n",
        "---"
      ]
    },
    {
      "cell_type": "markdown",
      "source": [
        "![](https://everisgroup.sharepoint.com/sites/BrandCenter/Shared%20Documents/Logo/FUTURE%20AT%20HEART/BLACK/FUTURE-HEARTH.png)"
      ],
      "metadata": {
        "id": "JXvC-5xx3qYA"
      },
      "id": "JXvC-5xx3qYA"
    }
  ],
  "metadata": {
    "kernelspec": {
      "display_name": "Python 3 (ipykernel)",
      "language": "python",
      "name": "python3"
    },
    "language_info": {
      "codemirror_mode": {
        "name": "ipython",
        "version": 3
      },
      "file_extension": ".py",
      "mimetype": "text/x-python",
      "name": "python",
      "nbconvert_exporter": "python",
      "pygments_lexer": "ipython3",
      "version": "3.10.2"
    },
    "colab": {
      "provenance": [],
      "toc_visible": true,
      "include_colab_link": true
    }
  },
  "nbformat": 4,
  "nbformat_minor": 5
}